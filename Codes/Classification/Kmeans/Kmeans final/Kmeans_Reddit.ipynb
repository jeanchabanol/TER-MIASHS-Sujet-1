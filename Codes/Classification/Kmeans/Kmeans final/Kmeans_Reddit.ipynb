{
  "cells": [
    {
      "cell_type": "code",
      "execution_count": 1,
      "metadata": {
        "id": "_wkCMaFkN215"
      },
      "outputs": [],
      "source": [
        "from sklearn.feature_extraction.text import TfidfVectorizer\n",
        "from sklearn.cluster import KMeans\n",
        "import numpy as np\n",
        "import pandas as pd\n",
        "from matplotlib import pyplot as plt\n",
        "import csv\n",
        "import seaborn as sns\n",
        "from sklearn.model_selection import train_test_split\n"
      ]
    },
    {
      "cell_type": "code",
      "source": [
        "!wget https://github.com/jeanchabanol/TER-MIASHS-Sujet-1/raw/main/Donnees/Donn%C3%A9es%20Reddit/Donn%C3%A9es%20r%C3%A9duites/Donn%C3%A9es%20pas%20suicides%20CSV/donnees_reddit_pas_TS.csv -nv\n",
        "data_non_ts = pd.read_csv(\"donnees_reddit_pas_TS.csv\",sep=\",\", encoding='cp1252')\n",
        "#Corpus = pd.read_csv(\"test.csv\") A mettre comme ça parce que moi j'avais un bugg (et ca separe les mots de cotent par des ,)"
      ],
      "metadata": {
        "colab": {
          "base_uri": "https://localhost:8080/"
        },
        "id": "-7yfZrLYOIw6",
        "outputId": "31389e5f-1ce7-49ff-ebaf-ea839f342abf"
      },
      "execution_count": 2,
      "outputs": [
        {
          "output_type": "stream",
          "name": "stdout",
          "text": [
            "2021-12-13 15:31:34 URL:https://raw.githubusercontent.com/jeanchabanol/TER-MIASHS-Sujet-1/main/Donnees/Donn%C3%A9es%20Reddit/Donn%C3%A9es%20r%C3%A9duites/Donn%C3%A9es%20pas%20suicides%20CSV/donnees_reddit_pas_TS.csv [9591956/9591956] -> \"donnees_reddit_pas_TS.csv.6\" [1]\n"
          ]
        }
      ]
    },
    {
      "cell_type": "code",
      "source": [
        "!wget https://github.com/jeanchabanol/TER-MIASHS-Sujet-1/raw/main/Donnees/Donn%C3%A9es%20Reddit/Donn%C3%A9es%20r%C3%A9duites/Donn%C3%A9es%20suicides%20CSV/donnees_reddit_TS.csv -nv\n",
        "data_ts = pd.read_csv(\"donnees_reddit_TS.csv\",sep=\",\", encoding='cp1252')\n"
      ],
      "metadata": {
        "colab": {
          "base_uri": "https://localhost:8080/"
        },
        "id": "3M14NjKHOROk",
        "outputId": "2b96fc51-7d4c-48c9-e44d-69a7fa554630"
      },
      "execution_count": 3,
      "outputs": [
        {
          "output_type": "stream",
          "name": "stdout",
          "text": [
            "2021-12-13 15:31:35 URL:https://raw.githubusercontent.com/jeanchabanol/TER-MIASHS-Sujet-1/main/Donnees/Donn%C3%A9es%20Reddit/Donn%C3%A9es%20r%C3%A9duites/Donn%C3%A9es%20suicides%20CSV/donnees_reddit_TS.csv [7443588/7443588] -> \"donnees_reddit_TS.csv.6\" [1]\n"
          ]
        }
      ]
    },
    {
      "cell_type": "code",
      "execution_count": 4,
      "metadata": {
        "colab": {
          "base_uri": "https://localhost:8080/",
          "height": 388
        },
        "id": "-dZnqRIAN218",
        "outputId": "bbc0899a-fbe9-4d30-c785-60398d6a2f49"
      },
      "outputs": [
        {
          "output_type": "stream",
          "name": "stdout",
          "text": [
            "<class 'pandas.core.frame.DataFrame'>\n",
            "Int64Index: 11180 entries, 0 to 4722\n",
            "Data columns (total 3 columns):\n",
            " #   Column     Non-Null Count  Dtype \n",
            "---  ------     --------------  ----- \n",
            " 0   suicide    11180 non-null  bool  \n",
            " 1   subreddit  11180 non-null  object\n",
            " 2   content    11180 non-null  object\n",
            "dtypes: bool(1), object(2)\n",
            "memory usage: 272.9+ KB\n"
          ]
        },
        {
          "output_type": "execute_result",
          "data": {
            "text/html": [
              "<div>\n",
              "<style scoped>\n",
              "    .dataframe tbody tr th:only-of-type {\n",
              "        vertical-align: middle;\n",
              "    }\n",
              "\n",
              "    .dataframe tbody tr th {\n",
              "        vertical-align: top;\n",
              "    }\n",
              "\n",
              "    .dataframe thead th {\n",
              "        text-align: right;\n",
              "    }\n",
              "</style>\n",
              "<table border=\"1\" class=\"dataframe\">\n",
              "  <thead>\n",
              "    <tr style=\"text-align: right;\">\n",
              "      <th></th>\n",
              "      <th>suicide</th>\n",
              "      <th>subreddit</th>\n",
              "      <th>content</th>\n",
              "    </tr>\n",
              "  </thead>\n",
              "  <tbody>\n",
              "    <tr>\n",
              "      <th>0</th>\n",
              "      <td>False</td>\n",
              "      <td>AskReddit</td>\n",
              "      <td>Suicide survivors of reddit, what's one thing ...</td>\n",
              "    </tr>\n",
              "    <tr>\n",
              "      <th>1</th>\n",
              "      <td>False</td>\n",
              "      <td>AskReddit</td>\n",
              "      <td>Suicide survivors of Reddit, are you happier n...</td>\n",
              "    </tr>\n",
              "    <tr>\n",
              "      <th>2</th>\n",
              "      <td>False</td>\n",
              "      <td>AskReddit</td>\n",
              "      <td>Suicide survivors of Reddit, what went through...</td>\n",
              "    </tr>\n",
              "    <tr>\n",
              "      <th>3</th>\n",
              "      <td>False</td>\n",
              "      <td>AskReddit</td>\n",
              "      <td>[Serious] Suicide survivors of reddit, what we...</td>\n",
              "    </tr>\n",
              "    <tr>\n",
              "      <th>4</th>\n",
              "      <td>False</td>\n",
              "      <td>AskReddit</td>\n",
              "      <td>Suicide survivors of Reddit. What were your as...</td>\n",
              "    </tr>\n",
              "  </tbody>\n",
              "</table>\n",
              "</div>"
            ],
            "text/plain": [
              "   suicide  subreddit                                            content\n",
              "0    False  AskReddit  Suicide survivors of reddit, what's one thing ...\n",
              "1    False  AskReddit  Suicide survivors of Reddit, are you happier n...\n",
              "2    False  AskReddit  Suicide survivors of Reddit, what went through...\n",
              "3    False  AskReddit  [Serious] Suicide survivors of reddit, what we...\n",
              "4    False  AskReddit  Suicide survivors of Reddit. What were your as..."
            ]
          },
          "metadata": {},
          "execution_count": 4
        }
      ],
      "source": [
        "data=pd.concat([data_non_ts, data_ts])\n",
        "data.info()\n",
        "data.head()"
      ]
    },
    {
      "cell_type": "code",
      "execution_count": 5,
      "metadata": {
        "colab": {
          "base_uri": "https://localhost:8080/",
          "height": 408
        },
        "id": "omDKG2I5N219",
        "outputId": "9205e073-7490-4ae9-ee54-9b481adc0323"
      },
      "outputs": [
        {
          "output_type": "stream",
          "name": "stdout",
          "text": [
            "False    6457\n",
            "True     4723\n",
            "Name: suicide, dtype: int64\n"
          ]
        },
        {
          "output_type": "stream",
          "name": "stderr",
          "text": [
            "/usr/local/lib/python3.7/dist-packages/seaborn/_decorators.py:43: FutureWarning: Pass the following variable as a keyword arg: x. From version 0.12, the only valid positional argument will be `data`, and passing other arguments without an explicit keyword will result in an error or misinterpretation.\n",
            "  FutureWarning\n"
          ]
        },
        {
          "output_type": "execute_result",
          "data": {
            "text/plain": [
              "<matplotlib.axes._subplots.AxesSubplot at 0x7fc08ac16a90>"
            ]
          },
          "metadata": {},
          "execution_count": 5
        },
        {
          "output_type": "display_data",
          "data": {
            "image/png": "[encoded data removed]",
            "text/plain": [
              "<Figure size 432x288 with 1 Axes>"
            ]
          },
          "metadata": {
            "needs_background": "light"
          }
        }
      ],
      "source": [
        "print(data['suicide'].value_counts())\n",
        "sns.countplot(data.suicide)"
      ]
    },
    {
      "cell_type": "code",
      "source": [
        "data_non_ts_reduit=data_non_ts.sample(4723)\n",
        "data=[]\n",
        "data=pd.concat([data_non_ts_reduit, data_ts])\n",
        "data.info()\n",
        "print(data['suicide'].value_counts())\n",
        "sns.countplot(data.suicide)"
      ],
      "metadata": {
        "colab": {
          "base_uri": "https://localhost:8080/",
          "height": 590
        },
        "id": "g4Ryd-04P-jQ",
        "outputId": "9294930a-e88e-4e21-f003-151161302ca8"
      },
      "execution_count": 6,
      "outputs": [
        {
          "output_type": "stream",
          "name": "stdout",
          "text": [
            "<class 'pandas.core.frame.DataFrame'>\n",
            "Int64Index: 9446 entries, 3480 to 4722\n",
            "Data columns (total 3 columns):\n",
            " #   Column     Non-Null Count  Dtype \n",
            "---  ------     --------------  ----- \n",
            " 0   suicide    9446 non-null   bool  \n",
            " 1   subreddit  9446 non-null   object\n",
            " 2   content    9446 non-null   object\n",
            "dtypes: bool(1), object(2)\n",
            "memory usage: 230.6+ KB\n",
            "True     4723\n",
            "False    4723\n",
            "Name: suicide, dtype: int64\n"
          ]
        },
        {
          "output_type": "stream",
          "name": "stderr",
          "text": [
            "/usr/local/lib/python3.7/dist-packages/seaborn/_decorators.py:43: FutureWarning: Pass the following variable as a keyword arg: x. From version 0.12, the only valid positional argument will be `data`, and passing other arguments without an explicit keyword will result in an error or misinterpretation.\n",
            "  FutureWarning\n"
          ]
        },
        {
          "output_type": "execute_result",
          "data": {
            "text/plain": [
              "<matplotlib.axes._subplots.AxesSubplot at 0x7fc08ab5f710>"
            ]
          },
          "metadata": {},
          "execution_count": 6
        },
        {
          "output_type": "display_data",
          "data": {
            "image/png": "[encoded data removed]",
            "text/plain": [
              "<Figure size 432x288 with 1 Axes>"
            ]
          },
          "metadata": {
            "needs_background": "light"
          }
        }
      ]
    },
    {
      "cell_type": "code",
      "source": [
        "#Ici, nous cherchons à binariser la variable race\n",
        "#data[\"suicide\"] = data[\"suicide\"].replace({True: 0, False: 1})"
      ],
      "metadata": {
        "id": "NjGVds3kS7oF"
      },
      "execution_count": 7,
      "outputs": []
    },
    {
      "cell_type": "code",
      "source": [
        "#change content en unicode\n",
        "documents= data['content'].values.astype(\"U\")\n",
        "#On vectorise\n",
        "vectorizer= TfidfVectorizer(stop_words='english')\n",
        "features =vectorizer.fit_transform(documents)\n"
      ],
      "metadata": {
        "id": "EdZlKhUjRxrF"
      },
      "execution_count": 8,
      "outputs": []
    },
    {
      "cell_type": "code",
      "execution_count": 9,
      "metadata": {
        "id": "Ry6cfVR2N21-"
      },
      "outputs": [],
      "source": [
        "X = features\n",
        "y = data[\"suicide\"]"
      ]
    },
    {
      "cell_type": "markdown",
      "source": [
        "# **TRAIN TEST CLASSIFICATION**"
      ],
      "metadata": {
        "id": "S1fi-cooVvEE"
      }
    },
    {
      "cell_type": "code",
      "execution_count": 10,
      "metadata": {
        "id": "A4uEh3LgN21_"
      },
      "outputs": [],
      "source": [
        "X_train, X_test, y_train, y_test =  train_test_split(X, y, test_size=0.4)"
      ]
    },
    {
      "cell_type": "code",
      "source": [
        "# On instancie le modèle\n",
        "model=KMeans(2)\n",
        "#On entraine le modèle sur le jeu d'entrainement\n",
        "model.fit(X_train)"
      ],
      "metadata": {
        "id": "ImNq_ocGSIrM",
        "colab": {
          "base_uri": "https://localhost:8080/"
        },
        "outputId": "19205b3c-1d4d-499a-9fc5-237ccfdc7f9b"
      },
      "execution_count": 11,
      "outputs": [
        {
          "output_type": "execute_result",
          "data": {
            "text/plain": [
              "KMeans(n_clusters=2)"
            ]
          },
          "metadata": {},
          "execution_count": 11
        }
      ]
    },
    {
      "cell_type": "code",
      "source": [
        "Y_pred=model.predict(X_test)\n",
        "df_confusion = pd.crosstab(y_test,Y_pred,rownames=['Actual'], colnames=['Predicted'], margins=True)\n",
        "print(df_confusion)"
      ],
      "metadata": {
        "colab": {
          "base_uri": "https://localhost:8080/"
        },
        "id": "gQ0FSUHJU_s9",
        "outputId": "9ac94da3-572d-4489-a153-363990a9d64f"
      },
      "execution_count": 12,
      "outputs": [
        {
          "output_type": "stream",
          "name": "stdout",
          "text": [
            "Predicted     0     1   All\n",
            "Actual                     \n",
            "False      1367   462  1829\n",
            "True        749  1201  1950\n",
            "All        2116  1663  3779\n"
          ]
        }
      ]
    },
    {
      "cell_type": "code",
      "source": [
        "from sklearn.metrics import classification_report\n",
        "from sklearn.metrics import confusion_matrix\n",
        "print(('\\nClasification report:\\n'), classification_report(y_test, Y_pred))\n",
        "print(('\\nConfusion matrix:\\n'),confusion_matrix(y_test, Y_pred))"
      ],
      "metadata": {
        "colab": {
          "base_uri": "https://localhost:8080/"
        },
        "id": "TwJIXpQlUaEY",
        "outputId": "8b8ab122-2466-4002-9513-b2207c614d14"
      },
      "execution_count": 13,
      "outputs": [
        {
          "output_type": "stream",
          "name": "stdout",
          "text": [
            "\n",
            "Clasification report:\n",
            "               precision    recall  f1-score   support\n",
            "\n",
            "       False       0.65      0.75      0.69      1829\n",
            "        True       0.72      0.62      0.66      1950\n",
            "\n",
            "    accuracy                           0.68      3779\n",
            "   macro avg       0.68      0.68      0.68      3779\n",
            "weighted avg       0.69      0.68      0.68      3779\n",
            "\n",
            "\n",
            "Confusion matrix:\n",
            " [[1367  462]\n",
            " [ 749 1201]]\n"
          ]
        }
      ]
    },
    {
      "cell_type": "markdown",
      "source": [
        "# **CROSS VALIDATION**"
      ],
      "metadata": {
        "id": "KZhwj3NwVkPC"
      }
    },
    {
      "cell_type": "code",
      "source": [
        "from sklearn.model_selection import cross_val_score, cross_val_predict\n",
        "from sklearn.model_selection import KFold\n"
      ],
      "metadata": {
        "id": "zJFHC_KPAgNy"
      },
      "execution_count": 14,
      "outputs": []
    },
    {
      "cell_type": "code",
      "source": [
        "y_pred = cross_val_predict(model, X, y, cv=5)\n",
        "print(\"Binary classification-----\")\n",
        "cm = confusion_matrix(y, y_pred)\n",
        "recall = np.diag(cm) / np.sum(cm, axis=1)\n",
        "precision = np.diag(cm) / np.sum(cm, axis=0)\n",
        "\n",
        "print(\"confusion matrice\\n\" , cm)\n",
        "        \n",
        "print(classification_report(y, y_pred))"
      ],
      "metadata": {
        "colab": {
          "base_uri": "https://localhost:8080/"
        },
        "id": "Yn47I06FErnF",
        "outputId": "5334d91c-af38-48a3-d255-9238a24622a8"
      },
      "execution_count": 15,
      "outputs": [
        {
          "output_type": "stream",
          "name": "stdout",
          "text": [
            "Binary classification-----\n",
            "confusion matrice\n",
            " [[2580 2143]\n",
            " [1743 2980]]\n",
            "              precision    recall  f1-score   support\n",
            "\n",
            "       False       0.60      0.55      0.57      4723\n",
            "        True       0.58      0.63      0.61      4723\n",
            "\n",
            "    accuracy                           0.59      9446\n",
            "   macro avg       0.59      0.59      0.59      9446\n",
            "weighted avg       0.59      0.59      0.59      9446\n",
            "\n"
          ]
        }
      ]
    },
    {
      "cell_type": "code",
      "source": [
        "cross_val_score(model, X, y, cv=5, scoring='accuracy')"
      ],
      "metadata": {
        "colab": {
          "base_uri": "https://localhost:8080/"
        },
        "id": "t7UXYZ4qAoIa",
        "outputId": "6cfc6c9f-2d0a-4f9d-ca24-f2feffa05a00"
      },
      "execution_count": 16,
      "outputs": [
        {
          "output_type": "execute_result",
          "data": {
            "text/plain": [
              "array([0.25555556, 0.76654314, 0.68448915, 0.66543145, 0.39438857])"
            ]
          },
          "metadata": {},
          "execution_count": 16
        }
      ]
    }
  ],
  "metadata": {
    "kernelspec": {
      "display_name": "Python 3",
      "language": "python",
      "name": "python3"
    },
    "language_info": {
      "codemirror_mode": {
        "name": "ipython",
        "version": 3
      },
      "file_extension": ".py",
      "mimetype": "text/x-python",
      "name": "python",
      "nbconvert_exporter": "python",
      "pygments_lexer": "ipython3",
      "version": "3.7.6"
    },
    "colab": {
      "name": "Kmeans_Reddit.ipynb",
      "provenance": [],
      "collapsed_sections": []
    }
  },
  "nbformat": 4,
  "nbformat_minor": 0
}