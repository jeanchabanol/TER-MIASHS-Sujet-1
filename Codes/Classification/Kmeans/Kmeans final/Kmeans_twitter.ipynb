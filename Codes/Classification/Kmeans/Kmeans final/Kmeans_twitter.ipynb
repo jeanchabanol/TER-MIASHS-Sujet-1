{
  "cells": [
    {
      "cell_type": "code",
      "execution_count": 1,
      "metadata": {
        "id": "_wkCMaFkN215"
      },
      "outputs": [],
      "source": [
        "from sklearn.feature_extraction.text import TfidfVectorizer\n",
        "from sklearn.cluster import KMeans\n",
        "import numpy as np\n",
        "import pandas as pd\n",
        "from matplotlib import pyplot as plt\n",
        "import csv\n",
        "import seaborn as sns\n",
        "from sklearn.model_selection import train_test_split\n"
      ]
    },
    {
      "cell_type": "code",
      "source": [
        "!wget https://raw.githubusercontent.com/jeanchabanol/TER-MIASHS-Sujet-1/main/Donnees/Données%20Twitter/Jeu%20de%20données%20final/donnees_twitter_total.csv -nv\n",
        "data_origine = pd.read_csv(\"donnees_twitter_total.csv\",sep=\",\", encoding='cp1252')"
      ],
      "metadata": {
        "colab": {
          "base_uri": "https://localhost:8080/"
        },
        "id": "-7yfZrLYOIw6",
        "outputId": "1b1405fa-24f6-4802-fcd5-1c6366f75ecc"
      },
      "execution_count": 2,
      "outputs": [
        {
          "output_type": "stream",
          "name": "stdout",
          "text": [
            "2021-12-13 15:27:22 URL:https://raw.githubusercontent.com/jeanchabanol/TER-MIASHS-Sujet-1/main/Donnees/Donn%C3%A9es%20Twitter/Jeu%20de%20donn%C3%A9es%20final/donnees_twitter_total.csv [752490/752490] -> \"donnees_twitter_total.csv.3\" [1]\n"
          ]
        }
      ]
    },
    {
      "cell_type": "code",
      "source": [
        "data_non_ts=data_origine.loc[data_origine['suicide']==False,:]\n",
        "data_ts=data_origine.loc[data_origine['suicide']==True,:]"
      ],
      "metadata": {
        "id": "3M14NjKHOROk"
      },
      "execution_count": 3,
      "outputs": []
    },
    {
      "cell_type": "code",
      "execution_count": 4,
      "metadata": {
        "colab": {
          "base_uri": "https://localhost:8080/",
          "height": 406
        },
        "id": "-dZnqRIAN218",
        "outputId": "d45ede75-82bd-4b8a-fe71-e5f77e95a9d3"
      },
      "outputs": [
        {
          "output_type": "stream",
          "name": "stdout",
          "text": [
            "<class 'pandas.core.frame.DataFrame'>\n",
            "RangeIndex: 3527 entries, 0 to 3526\n",
            "Data columns (total 4 columns):\n",
            " #   Column      Non-Null Count  Dtype \n",
            "---  ------      --------------  ----- \n",
            " 0   id          3527 non-null   int64 \n",
            " 1   created_at  3527 non-null   object\n",
            " 2   texte       3515 non-null   object\n",
            " 3   suicide     3527 non-null   bool  \n",
            "dtypes: bool(1), int64(1), object(2)\n",
            "memory usage: 86.2+ KB\n"
          ]
        },
        {
          "output_type": "execute_result",
          "data": {
            "text/html": [
              "<div>\n",
              "<style scoped>\n",
              "    .dataframe tbody tr th:only-of-type {\n",
              "        vertical-align: middle;\n",
              "    }\n",
              "\n",
              "    .dataframe tbody tr th {\n",
              "        vertical-align: top;\n",
              "    }\n",
              "\n",
              "    .dataframe thead th {\n",
              "        text-align: right;\n",
              "    }\n",
              "</style>\n",
              "<table border=\"1\" class=\"dataframe\">\n",
              "  <thead>\n",
              "    <tr style=\"text-align: right;\">\n",
              "      <th></th>\n",
              "      <th>id</th>\n",
              "      <th>created_at</th>\n",
              "      <th>texte</th>\n",
              "      <th>suicide</th>\n",
              "    </tr>\n",
              "  </thead>\n",
              "  <tbody>\n",
              "    <tr>\n",
              "      <th>0</th>\n",
              "      <td>1338301295015374848</td>\n",
              "      <td>Mon Dec 14 01:54:27 +0000 2020</td>\n",
              "      <td>\"82% of children, youth, and young adults in s...</td>\n",
              "      <td>True</td>\n",
              "    </tr>\n",
              "    <tr>\n",
              "      <th>1</th>\n",
              "      <td>1238049720804794370</td>\n",
              "      <td>Thu Mar 12 10:30:29 +0000 2020</td>\n",
              "      <td>\"Emergency departments have seen a 25.5% incre...</td>\n",
              "      <td>True</td>\n",
              "    </tr>\n",
              "    <tr>\n",
              "      <th>2</th>\n",
              "      <td>1283426796097220614</td>\n",
              "      <td>Wed Jul 15 15:42:47 +0000 2020</td>\n",
              "      <td>\"Gun suicide was already a public health crisi...</td>\n",
              "      <td>True</td>\n",
              "    </tr>\n",
              "    <tr>\n",
              "      <th>3</th>\n",
              "      <td>1238512154636099586</td>\n",
              "      <td>Fri Mar 13 17:08:02 +0000 2020</td>\n",
              "      <td>\"I wanna end me\" means you want to end your ol...</td>\n",
              "      <td>True</td>\n",
              "    </tr>\n",
              "    <tr>\n",
              "      <th>4</th>\n",
              "      <td>1338771820615520256</td>\n",
              "      <td>Tue Dec 15 09:04:09 +0000 2020</td>\n",
              "      <td>\"In times of war, people focus on the outside ...</td>\n",
              "      <td>True</td>\n",
              "    </tr>\n",
              "  </tbody>\n",
              "</table>\n",
              "</div>"
            ],
            "text/plain": [
              "                    id  ... suicide\n",
              "0  1338301295015374848  ...    True\n",
              "1  1238049720804794370  ...    True\n",
              "2  1283426796097220614  ...    True\n",
              "3  1238512154636099586  ...    True\n",
              "4  1338771820615520256  ...    True\n",
              "\n",
              "[5 rows x 4 columns]"
            ]
          },
          "metadata": {},
          "execution_count": 4
        }
      ],
      "source": [
        "data=data_origine\n",
        "data.info()\n",
        "data.head()"
      ]
    },
    {
      "cell_type": "code",
      "execution_count": 5,
      "metadata": {
        "colab": {
          "base_uri": "https://localhost:8080/",
          "height": 408
        },
        "id": "omDKG2I5N219",
        "outputId": "d9a21b06-a629-40d1-e04d-3424d0fd8e0e"
      },
      "outputs": [
        {
          "output_type": "stream",
          "name": "stdout",
          "text": [
            "False    2299\n",
            "True     1228\n",
            "Name: suicide, dtype: int64\n"
          ]
        },
        {
          "output_type": "stream",
          "name": "stderr",
          "text": [
            "/usr/local/lib/python3.7/dist-packages/seaborn/_decorators.py:43: FutureWarning: Pass the following variable as a keyword arg: x. From version 0.12, the only valid positional argument will be `data`, and passing other arguments without an explicit keyword will result in an error or misinterpretation.\n",
            "  FutureWarning\n"
          ]
        },
        {
          "output_type": "execute_result",
          "data": {
            "text/plain": [
              "<matplotlib.axes._subplots.AxesSubplot at 0x7f340f733f90>"
            ]
          },
          "metadata": {},
          "execution_count": 5
        },
        {
          "output_type": "display_data",
          "data": {
            "image/png": "[encoded data removed]",
            "text/plain": [
              "<Figure size 432x288 with 1 Axes>"
            ]
          },
          "metadata": {
            "needs_background": "light"
          }
        }
      ],
      "source": [
        "print(data['suicide'].value_counts())\n",
        "sns.countplot(data.suicide)"
      ]
    },
    {
      "cell_type": "code",
      "source": [
        "data_non_ts_reduit=data_non_ts.sample(1228)\n",
        "data=[]\n",
        "data=pd.concat([data_non_ts_reduit, data_ts])\n",
        "data.info()\n",
        "print(data['suicide'].value_counts())\n",
        "sns.countplot(data.suicide)"
      ],
      "metadata": {
        "colab": {
          "base_uri": "https://localhost:8080/",
          "height": 608
        },
        "id": "g4Ryd-04P-jQ",
        "outputId": "d72ad53a-fc17-47fd-8098-4f599eaeddd4"
      },
      "execution_count": 6,
      "outputs": [
        {
          "output_type": "stream",
          "name": "stdout",
          "text": [
            "<class 'pandas.core.frame.DataFrame'>\n",
            "Int64Index: 2456 entries, 2929 to 1227\n",
            "Data columns (total 4 columns):\n",
            " #   Column      Non-Null Count  Dtype \n",
            "---  ------      --------------  ----- \n",
            " 0   id          2456 non-null   int64 \n",
            " 1   created_at  2456 non-null   object\n",
            " 2   texte       2451 non-null   object\n",
            " 3   suicide     2456 non-null   bool  \n",
            "dtypes: bool(1), int64(1), object(2)\n",
            "memory usage: 79.1+ KB\n",
            "True     1228\n",
            "False    1228\n",
            "Name: suicide, dtype: int64\n"
          ]
        },
        {
          "output_type": "stream",
          "name": "stderr",
          "text": [
            "/usr/local/lib/python3.7/dist-packages/seaborn/_decorators.py:43: FutureWarning: Pass the following variable as a keyword arg: x. From version 0.12, the only valid positional argument will be `data`, and passing other arguments without an explicit keyword will result in an error or misinterpretation.\n",
            "  FutureWarning\n"
          ]
        },
        {
          "output_type": "execute_result",
          "data": {
            "text/plain": [
              "<matplotlib.axes._subplots.AxesSubplot at 0x7f340e5165d0>"
            ]
          },
          "metadata": {},
          "execution_count": 6
        },
        {
          "output_type": "display_data",
          "data": {
            "image/png": "[encoded data removed]",
            "text/plain": [
              "<Figure size 432x288 with 1 Axes>"
            ]
          },
          "metadata": {
            "needs_background": "light"
          }
        }
      ]
    },
    {
      "cell_type": "code",
      "source": [
        "#Ici, nous cherchons à binariser la variable suicide\n",
        "#data[\"suicide\"] = data[\"suicide\"].replace({True: 0, False: 1})"
      ],
      "metadata": {
        "id": "NjGVds3kS7oF"
      },
      "execution_count": 7,
      "outputs": []
    },
    {
      "cell_type": "code",
      "source": [
        "#change content en unicode\n",
        "documents= data['texte'].values.astype(\"U\")\n",
        "#On vectorise\n",
        "vectorizer= TfidfVectorizer(stop_words='english')\n",
        "features =vectorizer.fit_transform(documents)\n"
      ],
      "metadata": {
        "id": "EdZlKhUjRxrF"
      },
      "execution_count": 8,
      "outputs": []
    },
    {
      "cell_type": "code",
      "execution_count": 9,
      "metadata": {
        "id": "Ry6cfVR2N21-"
      },
      "outputs": [],
      "source": [
        "X = features\n",
        "y = data[\"suicide\"]"
      ]
    },
    {
      "cell_type": "markdown",
      "source": [
        "# **TRAIN TEST CLASSIFICATION**"
      ],
      "metadata": {
        "id": "ml6_Jv_FZUUH"
      }
    },
    {
      "cell_type": "code",
      "execution_count": 10,
      "metadata": {
        "id": "A4uEh3LgN21_"
      },
      "outputs": [],
      "source": [
        "X_train, X_test, y_train, y_test =  train_test_split(X, y, test_size=0.4)"
      ]
    },
    {
      "cell_type": "code",
      "source": [
        "# On instancie le modèle\n",
        "model=KMeans(2)\n",
        "#On entraine le modèle sur le jeu d'entrainement\n",
        "model.fit(X_train)"
      ],
      "metadata": {
        "id": "ImNq_ocGSIrM",
        "colab": {
          "base_uri": "https://localhost:8080/"
        },
        "outputId": "9b2f77f0-15a6-48cd-e5e0-99e3731bb178"
      },
      "execution_count": 11,
      "outputs": [
        {
          "output_type": "execute_result",
          "data": {
            "text/plain": [
              "KMeans(n_clusters=2)"
            ]
          },
          "metadata": {},
          "execution_count": 11
        }
      ]
    },
    {
      "cell_type": "code",
      "source": [
        "Y_pred=model.predict(X_test)\n",
        "df_confusion = pd.crosstab(y_test,Y_pred,rownames=['Actual'], colnames=['Predicted'], margins=True)\n",
        "print(df_confusion)"
      ],
      "metadata": {
        "colab": {
          "base_uri": "https://localhost:8080/"
        },
        "id": "gQ0FSUHJU_s9",
        "outputId": "02d55bca-b833-445d-85c6-894c11e55d53"
      },
      "execution_count": 12,
      "outputs": [
        {
          "output_type": "stream",
          "name": "stdout",
          "text": [
            "Predicted    0   1  All\n",
            "Actual                 \n",
            "False      487   0  487\n",
            "True       409  87  496\n",
            "All        896  87  983\n"
          ]
        }
      ]
    },
    {
      "cell_type": "code",
      "source": [
        "from sklearn.metrics import classification_report\n",
        "from sklearn.metrics import confusion_matrix\n",
        "print(('\\nClasification report:\\n'), classification_report(y_test, Y_pred))\n",
        "print(('\\nConfussion matrix:\\n'),confusion_matrix(y_test, Y_pred))"
      ],
      "metadata": {
        "colab": {
          "base_uri": "https://localhost:8080/"
        },
        "id": "TwJIXpQlUaEY",
        "outputId": "10bdcfa2-57fb-4482-da49-2bcb2ff3fa91"
      },
      "execution_count": 13,
      "outputs": [
        {
          "output_type": "stream",
          "name": "stdout",
          "text": [
            "\n",
            "Clasification report:\n",
            "               precision    recall  f1-score   support\n",
            "\n",
            "       False       0.54      1.00      0.70       487\n",
            "        True       1.00      0.18      0.30       496\n",
            "\n",
            "    accuracy                           0.58       983\n",
            "   macro avg       0.77      0.59      0.50       983\n",
            "weighted avg       0.77      0.58      0.50       983\n",
            "\n",
            "\n",
            "Confussion matrix:\n",
            " [[487   0]\n",
            " [409  87]]\n"
          ]
        }
      ]
    },
    {
      "cell_type": "markdown",
      "source": [
        "# **CROSS VALIDATION**"
      ],
      "metadata": {
        "id": "9wueYEsuZM2K"
      }
    },
    {
      "cell_type": "code",
      "source": [
        "from sklearn.model_selection import cross_val_score, cross_val_predict\n",
        "from sklearn.model_selection import KFold"
      ],
      "metadata": {
        "id": "gfnKPbrtY0_U"
      },
      "execution_count": 14,
      "outputs": []
    },
    {
      "cell_type": "code",
      "source": [
        "y_pred = cross_val_predict(model, X, y, cv=5)\n",
        "print(\"Binary classification-----\")\n",
        "cm = confusion_matrix(y, y_pred)\n",
        "recall = np.diag(cm) / np.sum(cm, axis=1)\n",
        "precision = np.diag(cm) / np.sum(cm, axis=0)\n",
        "\n",
        "print(\"confusion matrice\\n\" , cm)\n",
        "        \n",
        "print(classification_report(y, y_pred))"
      ],
      "metadata": {
        "colab": {
          "base_uri": "https://localhost:8080/"
        },
        "id": "k0ywrmlEYQ2s",
        "outputId": "23e611ef-b8ef-4877-830a-08abc85f9733"
      },
      "execution_count": 15,
      "outputs": [
        {
          "output_type": "stream",
          "name": "stdout",
          "text": [
            "Binary classification-----\n",
            "confusion matrice\n",
            " [[1227    1]\n",
            " [1172   56]]\n",
            "              precision    recall  f1-score   support\n",
            "\n",
            "       False       0.51      1.00      0.68      1228\n",
            "        True       0.98      0.05      0.09      1228\n",
            "\n",
            "    accuracy                           0.52      2456\n",
            "   macro avg       0.75      0.52      0.38      2456\n",
            "weighted avg       0.75      0.52      0.38      2456\n",
            "\n"
          ]
        }
      ]
    },
    {
      "cell_type": "code",
      "source": [
        "cross_val_score(model, X, y, cv=5, scoring='accuracy')"
      ],
      "metadata": {
        "colab": {
          "base_uri": "https://localhost:8080/"
        },
        "id": "KKeUAQy6YUBL",
        "outputId": "1bf6e818-d10d-4733-db08-364770a98470"
      },
      "execution_count": 16,
      "outputs": [
        {
          "output_type": "execute_result",
          "data": {
            "text/plain": [
              "array([0.        , 0.99796334, 0.84521385, 0.99185336, 0.00610998])"
            ]
          },
          "metadata": {},
          "execution_count": 16
        }
      ]
    }
  ],
  "metadata": {
    "kernelspec": {
      "display_name": "Python 3",
      "language": "python",
      "name": "python3"
    },
    "language_info": {
      "codemirror_mode": {
        "name": "ipython",
        "version": 3
      },
      "file_extension": ".py",
      "mimetype": "text/x-python",
      "name": "python",
      "nbconvert_exporter": "python",
      "pygments_lexer": "ipython3",
      "version": "3.7.6"
    },
    "colab": {
      "name": "Kmeans_twitter.ipynb",
      "provenance": [],
      "collapsed_sections": []
    }
  },
  "nbformat": 4,
  "nbformat_minor": 0
}