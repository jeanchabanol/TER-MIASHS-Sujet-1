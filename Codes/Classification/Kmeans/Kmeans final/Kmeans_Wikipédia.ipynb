{
  "cells": [
    {
      "cell_type": "code",
      "execution_count": 1,
      "metadata": {
        "id": "_wkCMaFkN215"
      },
      "outputs": [],
      "source": [
        "from sklearn.feature_extraction.text import TfidfVectorizer\n",
        "from sklearn.cluster import KMeans\n",
        "import numpy as np\n",
        "import pandas as pd\n",
        "from matplotlib import pyplot as plt\n",
        "import csv\n",
        "import seaborn as sns\n",
        "from sklearn.model_selection import train_test_split\n"
      ]
    },
    {
      "cell_type": "code",
      "source": [
        "!wget https://raw.githubusercontent.com/jeanchabanol/TER-MIASHS-Sujet-1/main/Donnees/Donn%C3%A9es%20Wikip%C3%A9dia/Jeu%20de%20donn%C3%A9es%20final/donnees_wiki_total.csv -nv\n",
        "data_origine = pd.read_csv(\"donnees_wiki_total.csv\",sep=\",\", encoding='cp1252')"
      ],
      "metadata": {
        "colab": {
          "base_uri": "https://localhost:8080/"
        },
        "id": "-7yfZrLYOIw6",
        "outputId": "8b167229-ca66-4da3-ce9f-802ae09b3783"
      },
      "execution_count": 2,
      "outputs": [
        {
          "output_type": "stream",
          "name": "stdout",
          "text": [
            "2021-12-13 15:29:09 URL:https://raw.githubusercontent.com/jeanchabanol/TER-MIASHS-Sujet-1/main/Donnees/Donn%C3%A9es%20Wikip%C3%A9dia/Jeu%20de%20donn%C3%A9es%20final/donnees_wiki_total.csv [6545717/6545717] -> \"donnees_wiki_total.csv.6\" [1]\n"
          ]
        }
      ]
    },
    {
      "cell_type": "code",
      "source": [
        "data_non_ts=data_origine.loc[data_origine['suicide']==False,:]\n",
        "data_ts=data_origine.loc[data_origine['suicide']==True,:]"
      ],
      "metadata": {
        "id": "3M14NjKHOROk"
      },
      "execution_count": 3,
      "outputs": []
    },
    {
      "cell_type": "code",
      "execution_count": 4,
      "metadata": {
        "colab": {
          "base_uri": "https://localhost:8080/",
          "height": 442
        },
        "id": "-dZnqRIAN218",
        "outputId": "c61a2115-6ef4-4880-8c45-3160098a39a7"
      },
      "outputs": [
        {
          "output_type": "stream",
          "name": "stdout",
          "text": [
            "<class 'pandas.core.frame.DataFrame'>\n",
            "RangeIndex: 2974 entries, 0 to 2973\n",
            "Data columns (total 6 columns):\n",
            " #   Column       Non-Null Count  Dtype \n",
            "---  ------       --------------  ----- \n",
            " 0   content      2974 non-null   object\n",
            " 1   V1           2974 non-null   int64 \n",
            " 2   pages_links  2974 non-null   object\n",
            " 3   pages_names  2974 non-null   object\n",
            " 4   subcategory  2974 non-null   object\n",
            " 5   suicide      2974 non-null   bool  \n",
            "dtypes: bool(1), int64(1), object(4)\n",
            "memory usage: 119.2+ KB\n"
          ]
        },
        {
          "output_type": "execute_result",
          "data": {
            "text/html": [
              "<div>\n",
              "<style scoped>\n",
              "    .dataframe tbody tr th:only-of-type {\n",
              "        vertical-align: middle;\n",
              "    }\n",
              "\n",
              "    .dataframe tbody tr th {\n",
              "        vertical-align: top;\n",
              "    }\n",
              "\n",
              "    .dataframe thead th {\n",
              "        text-align: right;\n",
              "    }\n",
              "</style>\n",
              "<table border=\"1\" class=\"dataframe\">\n",
              "  <thead>\n",
              "    <tr style=\"text-align: right;\">\n",
              "      <th></th>\n",
              "      <th>content</th>\n",
              "      <th>V1</th>\n",
              "      <th>pages_links</th>\n",
              "      <th>pages_names</th>\n",
              "      <th>subcategory</th>\n",
              "      <th>suicide</th>\n",
              "    </tr>\n",
              "  </thead>\n",
              "  <tbody>\n",
              "    <tr>\n",
              "      <th>0</th>\n",
              "      <td>Warren’s parents were Eliza Ann Brown (1824-1...</td>\n",
              "      <td>52</td>\n",
              "      <td>https://en.wikipedia.org//wiki/Harry_Marsh_Warren</td>\n",
              "      <td>Harry_Marsh_Warren</td>\n",
              "      <td>suicide</td>\n",
              "      <td>True</td>\n",
              "    </tr>\n",
              "    <tr>\n",
              "      <th>1</th>\n",
              "      <td>After her ALS diagnosis ,  Rodriquez reque...</td>\n",
              "      <td>103</td>\n",
              "      <td>https://en.wikipedia.org//wiki/Sue_Rodriguez</td>\n",
              "      <td>Sue_Rodriguez</td>\n",
              "      <td>Assisted_suicide</td>\n",
              "      <td>True</td>\n",
              "    </tr>\n",
              "    <tr>\n",
              "      <th>2</th>\n",
              "      <td>Ames was born Mercedes Grabowski in Antigonis...</td>\n",
              "      <td>116</td>\n",
              "      <td>https://en.wikipedia.org//wiki/August_Ames</td>\n",
              "      <td>August_Ames</td>\n",
              "      <td>Bullying_and_suicide</td>\n",
              "      <td>True</td>\n",
              "    </tr>\n",
              "    <tr>\n",
              "      <th>3</th>\n",
              "      <td>Chen was born and raised in Chinatown ,  Manh...</td>\n",
              "      <td>119</td>\n",
              "      <td>https://en.wikipedia.org//wiki/Suicide_of_Dann...</td>\n",
              "      <td>Suicide_of_Danny_Chen</td>\n",
              "      <td>Bullying_and_suicide</td>\n",
              "      <td>True</td>\n",
              "    </tr>\n",
              "    <tr>\n",
              "      <th>4</th>\n",
              "      <td>Halligan was born on December 18 ,  1989 , He...</td>\n",
              "      <td>125</td>\n",
              "      <td>https://en.wikipedia.org//wiki/Suicide_of_Ryan...</td>\n",
              "      <td>Suicide_of_Ryan_Halligan</td>\n",
              "      <td>Bullying_and_suicide</td>\n",
              "      <td>True</td>\n",
              "    </tr>\n",
              "  </tbody>\n",
              "</table>\n",
              "</div>"
            ],
            "text/plain": [
              "                                             content  ...  suicide\n",
              "0   Warren’s parents were Eliza Ann Brown (1824-1...  ...     True\n",
              "1      After her ALS diagnosis ,  Rodriquez reque...  ...     True\n",
              "2   Ames was born Mercedes Grabowski in Antigonis...  ...     True\n",
              "3   Chen was born and raised in Chinatown ,  Manh...  ...     True\n",
              "4   Halligan was born on December 18 ,  1989 , He...  ...     True\n",
              "\n",
              "[5 rows x 6 columns]"
            ]
          },
          "metadata": {},
          "execution_count": 4
        }
      ],
      "source": [
        "data=data_origine\n",
        "data.info()\n",
        "data.head()"
      ]
    },
    {
      "cell_type": "code",
      "execution_count": 5,
      "metadata": {
        "colab": {
          "base_uri": "https://localhost:8080/",
          "height": 408
        },
        "id": "omDKG2I5N219",
        "outputId": "57cc1187-121f-40f4-aaef-bffb80353401"
      },
      "outputs": [
        {
          "output_type": "stream",
          "name": "stdout",
          "text": [
            "False    2105\n",
            "True      869\n",
            "Name: suicide, dtype: int64\n"
          ]
        },
        {
          "output_type": "stream",
          "name": "stderr",
          "text": [
            "/usr/local/lib/python3.7/dist-packages/seaborn/_decorators.py:43: FutureWarning: Pass the following variable as a keyword arg: x. From version 0.12, the only valid positional argument will be `data`, and passing other arguments without an explicit keyword will result in an error or misinterpretation.\n",
            "  FutureWarning\n"
          ]
        },
        {
          "output_type": "execute_result",
          "data": {
            "text/plain": [
              "<matplotlib.axes._subplots.AxesSubplot at 0x7f0c669a4b90>"
            ]
          },
          "metadata": {},
          "execution_count": 5
        },
        {
          "output_type": "display_data",
          "data": {
            "image/png": "[encoded data removed]",
            "text/plain": [
              "<Figure size 432x288 with 1 Axes>"
            ]
          },
          "metadata": {
            "needs_background": "light"
          }
        }
      ],
      "source": [
        "print(data['suicide'].value_counts())\n",
        "sns.countplot(data.suicide)"
      ]
    },
    {
      "cell_type": "code",
      "source": [
        "data_non_ts_reduit=data_non_ts.sample(869)\n",
        "data=[]\n",
        "data=pd.concat([data_non_ts_reduit, data_ts])\n",
        "data.info()\n",
        "print(data['suicide'].value_counts())\n",
        "sns.countplot(data.suicide)"
      ],
      "metadata": {
        "colab": {
          "base_uri": "https://localhost:8080/",
          "height": 644
        },
        "id": "g4Ryd-04P-jQ",
        "outputId": "d49fef08-f567-4982-a3c5-06a3c7cb2d5d"
      },
      "execution_count": 6,
      "outputs": [
        {
          "output_type": "stream",
          "name": "stdout",
          "text": [
            "<class 'pandas.core.frame.DataFrame'>\n",
            "Int64Index: 1738 entries, 1519 to 868\n",
            "Data columns (total 6 columns):\n",
            " #   Column       Non-Null Count  Dtype \n",
            "---  ------       --------------  ----- \n",
            " 0   content      1738 non-null   object\n",
            " 1   V1           1738 non-null   int64 \n",
            " 2   pages_links  1738 non-null   object\n",
            " 3   pages_names  1738 non-null   object\n",
            " 4   subcategory  1738 non-null   object\n",
            " 5   suicide      1738 non-null   bool  \n",
            "dtypes: bool(1), int64(1), object(4)\n",
            "memory usage: 83.2+ KB\n",
            "True     869\n",
            "False    869\n",
            "Name: suicide, dtype: int64\n"
          ]
        },
        {
          "output_type": "stream",
          "name": "stderr",
          "text": [
            "/usr/local/lib/python3.7/dist-packages/seaborn/_decorators.py:43: FutureWarning: Pass the following variable as a keyword arg: x. From version 0.12, the only valid positional argument will be `data`, and passing other arguments without an explicit keyword will result in an error or misinterpretation.\n",
            "  FutureWarning\n"
          ]
        },
        {
          "output_type": "execute_result",
          "data": {
            "text/plain": [
              "<matplotlib.axes._subplots.AxesSubplot at 0x7f0c66423150>"
            ]
          },
          "metadata": {},
          "execution_count": 6
        },
        {
          "output_type": "display_data",
          "data": {
            "image/png": "[encoded data removed]",
            "text/plain": [
              "<Figure size 432x288 with 1 Axes>"
            ]
          },
          "metadata": {
            "needs_background": "light"
          }
        }
      ]
    },
    {
      "cell_type": "code",
      "source": [
        "#Ici, nous cherchons à binariser la variable suicide\n",
        "#data[\"suicide\"] = data[\"suicide\"].replace({True: 0, False: 1})"
      ],
      "metadata": {
        "id": "NjGVds3kS7oF"
      },
      "execution_count": 7,
      "outputs": []
    },
    {
      "cell_type": "code",
      "source": [
        "#change content en unicode\n",
        "documents= data['content'].values.astype(\"U\")\n",
        "#On vectorise\n",
        "vectorizer= TfidfVectorizer(stop_words='english')\n",
        "features =vectorizer.fit_transform(documents)\n"
      ],
      "metadata": {
        "id": "EdZlKhUjRxrF"
      },
      "execution_count": 8,
      "outputs": []
    },
    {
      "cell_type": "code",
      "execution_count": 9,
      "metadata": {
        "id": "Ry6cfVR2N21-"
      },
      "outputs": [],
      "source": [
        "X = features\n",
        "y = data[\"suicide\"]"
      ]
    },
    {
      "cell_type": "markdown",
      "source": [
        "# **TRAIN TEST CLASSIFICATION**\n",
        "\n",
        "\n"
      ],
      "metadata": {
        "id": "iT_w-uirXykJ"
      }
    },
    {
      "cell_type": "code",
      "execution_count": 10,
      "metadata": {
        "id": "A4uEh3LgN21_"
      },
      "outputs": [],
      "source": [
        "X_train, X_test, y_train, y_test =  train_test_split(X, y, test_size=0.4)"
      ]
    },
    {
      "cell_type": "code",
      "source": [
        "# On instancie le modèle\n",
        "model=KMeans(2)\n",
        "#On entraine le modèle sur le jeu d'entrainement\n",
        "model.fit(X_train)"
      ],
      "metadata": {
        "id": "ImNq_ocGSIrM",
        "colab": {
          "base_uri": "https://localhost:8080/"
        },
        "outputId": "4944300e-ea17-4a7c-f1e4-ef965ef5342e"
      },
      "execution_count": 11,
      "outputs": [
        {
          "output_type": "execute_result",
          "data": {
            "text/plain": [
              "KMeans(n_clusters=2)"
            ]
          },
          "metadata": {},
          "execution_count": 11
        }
      ]
    },
    {
      "cell_type": "code",
      "source": [
        "Y_pred=model.predict(X_test)\n",
        "df_confusion = pd.crosstab(y_test,Y_pred,rownames=['Actual'], colnames=['Predicted'], margins=True)\n",
        "print(df_confusion)"
      ],
      "metadata": {
        "colab": {
          "base_uri": "https://localhost:8080/"
        },
        "id": "gQ0FSUHJU_s9",
        "outputId": "b2513908-c77f-453a-a7ab-f406bbe14638"
      },
      "execution_count": 12,
      "outputs": [
        {
          "output_type": "stream",
          "name": "stdout",
          "text": [
            "Predicted    0    1  All\n",
            "Actual                  \n",
            "False      179  188  367\n",
            "True       312   17  329\n",
            "All        491  205  696\n"
          ]
        }
      ]
    },
    {
      "cell_type": "code",
      "source": [
        "from sklearn.metrics import classification_report\n",
        "from sklearn.metrics import confusion_matrix\n",
        "print(('\\nClasification report:\\n'), classification_report(y_test, Y_pred))\n",
        "print(('\\nConfussion matrix:\\n'),confusion_matrix(y_test, Y_pred))"
      ],
      "metadata": {
        "colab": {
          "base_uri": "https://localhost:8080/"
        },
        "id": "TwJIXpQlUaEY",
        "outputId": "0ee208c3-544e-45d4-d651-90f6496dba6c"
      },
      "execution_count": 13,
      "outputs": [
        {
          "output_type": "stream",
          "name": "stdout",
          "text": [
            "\n",
            "Clasification report:\n",
            "               precision    recall  f1-score   support\n",
            "\n",
            "       False       0.36      0.49      0.42       367\n",
            "        True       0.08      0.05      0.06       329\n",
            "\n",
            "    accuracy                           0.28       696\n",
            "   macro avg       0.22      0.27      0.24       696\n",
            "weighted avg       0.23      0.28      0.25       696\n",
            "\n",
            "\n",
            "Confussion matrix:\n",
            " [[179 188]\n",
            " [312  17]]\n"
          ]
        }
      ]
    },
    {
      "cell_type": "markdown",
      "source": [
        "# **CROSS VALIDATION**"
      ],
      "metadata": {
        "id": "yH70lQdfX99R"
      }
    },
    {
      "cell_type": "code",
      "source": [
        "from sklearn.model_selection import cross_val_score, cross_val_predict\n",
        "from sklearn.model_selection import KFold\n"
      ],
      "metadata": {
        "id": "ZZngO9vEW0O8"
      },
      "execution_count": 14,
      "outputs": []
    },
    {
      "cell_type": "code",
      "source": [
        "y_pred = cross_val_predict(model, X, y, cv=5)\n",
        "print(\"Binary classification-----\")\n",
        "cm = confusion_matrix(y, y_pred)\n",
        "recall = np.diag(cm) / np.sum(cm, axis=1)\n",
        "precision = np.diag(cm) / np.sum(cm, axis=0)\n",
        "\n",
        "print(\"confusion matrice\\n\" , cm)\n",
        "        \n",
        "print(classification_report(y, y_pred))"
      ],
      "metadata": {
        "colab": {
          "base_uri": "https://localhost:8080/"
        },
        "id": "xZoqZGgkW2E3",
        "outputId": "6b395980-a1fb-4358-a024-439589c44a19"
      },
      "execution_count": 15,
      "outputs": [
        {
          "output_type": "stream",
          "name": "stdout",
          "text": [
            "Binary classification-----\n",
            "confusion matrice\n",
            " [[455 414]\n",
            " [368 501]]\n",
            "              precision    recall  f1-score   support\n",
            "\n",
            "       False       0.55      0.52      0.54       869\n",
            "        True       0.55      0.58      0.56       869\n",
            "\n",
            "    accuracy                           0.55      1738\n",
            "   macro avg       0.55      0.55      0.55      1738\n",
            "weighted avg       0.55      0.55      0.55      1738\n",
            "\n"
          ]
        }
      ]
    },
    {
      "cell_type": "code",
      "source": [
        "cross_val_score(model, X, y, cv=5, scoring='accuracy')"
      ],
      "metadata": {
        "colab": {
          "base_uri": "https://localhost:8080/"
        },
        "id": "CtYDudNMW4PG",
        "outputId": "14472a34-be03-411e-8db0-7fc1ea5e5be0"
      },
      "execution_count": 16,
      "outputs": [
        {
          "output_type": "execute_result",
          "data": {
            "text/plain": [
              "array([0.41091954, 0.52586207, 0.29885057, 0.03746398, 0.0259366 ])"
            ]
          },
          "metadata": {},
          "execution_count": 16
        }
      ]
    }
  ],
  "metadata": {
    "kernelspec": {
      "display_name": "Python 3",
      "language": "python",
      "name": "python3"
    },
    "language_info": {
      "codemirror_mode": {
        "name": "ipython",
        "version": 3
      },
      "file_extension": ".py",
      "mimetype": "text/x-python",
      "name": "python",
      "nbconvert_exporter": "python",
      "pygments_lexer": "ipython3",
      "version": "3.7.6"
    },
    "colab": {
      "name": "Kmeans_Wikipédia.ipynb",
      "provenance": [],
      "collapsed_sections": [
        "iT_w-uirXykJ",
        "yH70lQdfX99R"
      ]
    }
  },
  "nbformat": 4,
  "nbformat_minor": 0
}