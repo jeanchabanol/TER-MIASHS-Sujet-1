{
  "cells": [
    {
      "cell_type": "code",
      "execution_count": null,
      "metadata": {
        "id": "_wkCMaFkN215"
      },
      "outputs": [],
      "source": [
        "from sklearn.feature_extraction.text import TfidfVectorizer\n",
        "from sklearn.cluster import KMeans\n",
        "import numpy as np\n",
        "import pandas as pd\n",
        "from matplotlib import pyplot as plt\n",
        "import csv\n",
        "import seaborn as sns\n",
        "from sklearn.model_selection import train_test_split\n"
      ]
    },
    {
      "cell_type": "code",
      "source": [
        "!wget https://github.com/jeanchabanol/TER-MIASHS-Sujet-1/raw/main/Donnees/Donn%C3%A9es%20Reddit/Donn%C3%A9es%20r%C3%A9duites/Donn%C3%A9es%20pas%20suicides%20CSV/donnees_reddit_pas_TS.csv -nv\n",
        "data_non_ts = pd.read_csv(\"donnees_reddit_pas_TS.csv\",sep=\",\", encoding='cp1252')\n",
        "#Corpus = pd.read_csv(\"test.csv\") A mettre comme ça parce que moi j'avais un bugg (et ca separe les mots de cotent par des ,)"
      ],
      "metadata": {
        "colab": {
          "base_uri": "https://localhost:8080/"
        },
        "id": "-7yfZrLYOIw6",
        "outputId": "2b330dce-29cd-441b-b216-160724338902"
      },
      "execution_count": null,
      "outputs": [
        {
          "output_type": "stream",
          "name": "stdout",
          "text": [
            "2021-12-12 15:56:18 URL:https://raw.githubusercontent.com/jeanchabanol/TER-MIASHS-Sujet-1/main/Donnees/Donn%C3%A9es%20Reddit/Donn%C3%A9es%20r%C3%A9duites/Donn%C3%A9es%20pas%20suicides%20CSV/donnees_reddit_pas_TS.csv [9591956/9591956] -> \"donnees_reddit_pas_TS.csv.5\" [1]\n"
          ]
        }
      ]
    },
    {
      "cell_type": "code",
      "source": [
        "!wget https://github.com/jeanchabanol/TER-MIASHS-Sujet-1/raw/main/Donnees/Donn%C3%A9es%20Reddit/Donn%C3%A9es%20r%C3%A9duites/Donn%C3%A9es%20suicides%20CSV/donnees_reddit_TS.csv -nv\n",
        "data_ts = pd.read_csv(\"donnees_reddit_TS.csv\",sep=\",\", encoding='cp1252')\n"
      ],
      "metadata": {
        "colab": {
          "base_uri": "https://localhost:8080/"
        },
        "id": "3M14NjKHOROk",
        "outputId": "0274ed9f-7089-490f-c305-8b259664c01f"
      },
      "execution_count": null,
      "outputs": [
        {
          "output_type": "stream",
          "name": "stdout",
          "text": [
            "2021-12-12 15:56:18 URL:https://raw.githubusercontent.com/jeanchabanol/TER-MIASHS-Sujet-1/main/Donnees/Donn%C3%A9es%20Reddit/Donn%C3%A9es%20r%C3%A9duites/Donn%C3%A9es%20suicides%20CSV/donnees_reddit_TS.csv [7443588/7443588] -> \"donnees_reddit_TS.csv.4\" [1]\n"
          ]
        }
      ]
    },
    {
      "cell_type": "code",
      "execution_count": null,
      "metadata": {
        "colab": {
          "base_uri": "https://localhost:8080/",
          "height": 388
        },
        "id": "-dZnqRIAN218",
        "outputId": "023a99ee-3f70-4e49-8f9b-01b3e8bb902c"
      },
      "outputs": [
        {
          "output_type": "stream",
          "name": "stdout",
          "text": [
            "<class 'pandas.core.frame.DataFrame'>\n",
            "Int64Index: 11180 entries, 0 to 4722\n",
            "Data columns (total 3 columns):\n",
            " #   Column     Non-Null Count  Dtype \n",
            "---  ------     --------------  ----- \n",
            " 0   suicide    11180 non-null  bool  \n",
            " 1   subreddit  11180 non-null  object\n",
            " 2   content    11180 non-null  object\n",
            "dtypes: bool(1), object(2)\n",
            "memory usage: 272.9+ KB\n"
          ]
        },
        {
          "output_type": "execute_result",
          "data": {
            "text/html": [
              "<div>\n",
              "<style scoped>\n",
              "    .dataframe tbody tr th:only-of-type {\n",
              "        vertical-align: middle;\n",
              "    }\n",
              "\n",
              "    .dataframe tbody tr th {\n",
              "        vertical-align: top;\n",
              "    }\n",
              "\n",
              "    .dataframe thead th {\n",
              "        text-align: right;\n",
              "    }\n",
              "</style>\n",
              "<table border=\"1\" class=\"dataframe\">\n",
              "  <thead>\n",
              "    <tr style=\"text-align: right;\">\n",
              "      <th></th>\n",
              "      <th>suicide</th>\n",
              "      <th>subreddit</th>\n",
              "      <th>content</th>\n",
              "    </tr>\n",
              "  </thead>\n",
              "  <tbody>\n",
              "    <tr>\n",
              "      <th>0</th>\n",
              "      <td>False</td>\n",
              "      <td>AskReddit</td>\n",
              "      <td>Suicide survivors of reddit, what's one thing ...</td>\n",
              "    </tr>\n",
              "    <tr>\n",
              "      <th>1</th>\n",
              "      <td>False</td>\n",
              "      <td>AskReddit</td>\n",
              "      <td>Suicide survivors of Reddit, are you happier n...</td>\n",
              "    </tr>\n",
              "    <tr>\n",
              "      <th>2</th>\n",
              "      <td>False</td>\n",
              "      <td>AskReddit</td>\n",
              "      <td>Suicide survivors of Reddit, what went through...</td>\n",
              "    </tr>\n",
              "    <tr>\n",
              "      <th>3</th>\n",
              "      <td>False</td>\n",
              "      <td>AskReddit</td>\n",
              "      <td>[Serious] Suicide survivors of reddit, what we...</td>\n",
              "    </tr>\n",
              "    <tr>\n",
              "      <th>4</th>\n",
              "      <td>False</td>\n",
              "      <td>AskReddit</td>\n",
              "      <td>Suicide survivors of Reddit. What were your as...</td>\n",
              "    </tr>\n",
              "  </tbody>\n",
              "</table>\n",
              "</div>"
            ],
            "text/plain": [
              "   suicide  subreddit                                            content\n",
              "0    False  AskReddit  Suicide survivors of reddit, what's one thing ...\n",
              "1    False  AskReddit  Suicide survivors of Reddit, are you happier n...\n",
              "2    False  AskReddit  Suicide survivors of Reddit, what went through...\n",
              "3    False  AskReddit  [Serious] Suicide survivors of reddit, what we...\n",
              "4    False  AskReddit  Suicide survivors of Reddit. What were your as..."
            ]
          },
          "metadata": {},
          "execution_count": 4
        }
      ],
      "source": [
        "data=pd.concat([data_non_ts, data_ts])\n",
        "data.info()\n",
        "data.head()"
      ]
    },
    {
      "cell_type": "code",
      "execution_count": null,
      "metadata": {
        "colab": {
          "base_uri": "https://localhost:8080/",
          "height": 408
        },
        "id": "omDKG2I5N219",
        "outputId": "d93a8c4d-f430-47f9-e7c5-cf7a912c61dc"
      },
      "outputs": [
        {
          "output_type": "stream",
          "name": "stdout",
          "text": [
            "False    6457\n",
            "True     4723\n",
            "Name: suicide, dtype: int64\n"
          ]
        },
        {
          "output_type": "stream",
          "name": "stderr",
          "text": [
            "/usr/local/lib/python3.7/dist-packages/seaborn/_decorators.py:43: FutureWarning: Pass the following variable as a keyword arg: x. From version 0.12, the only valid positional argument will be `data`, and passing other arguments without an explicit keyword will result in an error or misinterpretation.\n",
            "  FutureWarning\n"
          ]
        },
        {
          "output_type": "execute_result",
          "data": {
            "text/plain": [
              "<matplotlib.axes._subplots.AxesSubplot at 0x7f6297bc8810>"
            ]
          },
          "metadata": {},
          "execution_count": 5
        },
        {
          "output_type": "display_data",
          "data": {
            "image/png": "[encoded data removed]",
            "text/plain": [
              "<Figure size 432x288 with 1 Axes>"
            ]
          },
          "metadata": {
            "needs_background": "light"
          }
        }
      ],
      "source": [
        "print(data['suicide'].value_counts())\n",
        "sns.countplot(data.suicide)"
      ]
    },
    {
      "cell_type": "code",
      "source": [
        "data_non_ts_reduit=data_non_ts.sample(4723)\n",
        "data=[]\n",
        "data=pd.concat([data_non_ts_reduit, data_ts])\n",
        "data.info()\n",
        "print(data['suicide'].value_counts())\n",
        "sns.countplot(data.suicide)"
      ],
      "metadata": {
        "colab": {
          "base_uri": "https://localhost:8080/",
          "height": 590
        },
        "id": "g4Ryd-04P-jQ",
        "outputId": "f8d8be5f-39d8-457b-9105-a28a44da9c47"
      },
      "execution_count": null,
      "outputs": [
        {
          "output_type": "stream",
          "name": "stdout",
          "text": [
            "<class 'pandas.core.frame.DataFrame'>\n",
            "Int64Index: 9446 entries, 2241 to 4722\n",
            "Data columns (total 3 columns):\n",
            " #   Column     Non-Null Count  Dtype \n",
            "---  ------     --------------  ----- \n",
            " 0   suicide    9446 non-null   bool  \n",
            " 1   subreddit  9446 non-null   object\n",
            " 2   content    9446 non-null   object\n",
            "dtypes: bool(1), object(2)\n",
            "memory usage: 230.6+ KB\n",
            "True     4723\n",
            "False    4723\n",
            "Name: suicide, dtype: int64\n"
          ]
        },
        {
          "output_type": "stream",
          "name": "stderr",
          "text": [
            "/usr/local/lib/python3.7/dist-packages/seaborn/_decorators.py:43: FutureWarning: Pass the following variable as a keyword arg: x. From version 0.12, the only valid positional argument will be `data`, and passing other arguments without an explicit keyword will result in an error or misinterpretation.\n",
            "  FutureWarning\n"
          ]
        },
        {
          "output_type": "execute_result",
          "data": {
            "text/plain": [
              "<matplotlib.axes._subplots.AxesSubplot at 0x7f6297b44750>"
            ]
          },
          "metadata": {},
          "execution_count": 6
        },
        {
          "output_type": "display_data",
          "data": {
            "image/png": "[encoded data removed]",
            "text/plain": [
              "<Figure size 432x288 with 1 Axes>"
            ]
          },
          "metadata": {
            "needs_background": "light"
          }
        }
      ]
    },
    {
      "cell_type": "code",
      "source": [
        "#Ici, nous cherchons à binariser la variable race\n",
        "#data[\"suicide\"] = data[\"suicide\"].replace({True: 1, False: 0})"
      ],
      "metadata": {
        "id": "NjGVds3kS7oF"
      },
      "execution_count": null,
      "outputs": []
    },
    {
      "cell_type": "code",
      "source": [
        "#change content en unicode\n",
        "documents= data['content'].values.astype(\"U\")\n",
        "#On vectorise\n",
        "vectorizer= TfidfVectorizer(stop_words='english')\n",
        "features =vectorizer.fit_transform(documents)\n"
      ],
      "metadata": {
        "id": "EdZlKhUjRxrF"
      },
      "execution_count": null,
      "outputs": []
    },
    {
      "cell_type": "code",
      "execution_count": null,
      "metadata": {
        "id": "Ry6cfVR2N21-"
      },
      "outputs": [],
      "source": [
        "X = features\n",
        "y = data[\"suicide\"]"
      ]
    },
    {
      "cell_type": "code",
      "execution_count": null,
      "metadata": {
        "id": "A4uEh3LgN21_"
      },
      "outputs": [],
      "source": [
        "#X_train, X_test, y_train, y_test =  train_test_split(X, y, test_size=0.4)"
      ]
    },
    {
      "cell_type": "code",
      "source": [
        "# On instancie le modèle\n",
        "model=KMeans(2)\n",
        "#On entraine le modèle sur le jeu d'entrainement\n",
        "model.fit(X)"
      ],
      "metadata": {
        "id": "ImNq_ocGSIrM",
        "colab": {
          "base_uri": "https://localhost:8080/"
        },
        "outputId": "ba58a84a-f911-4596-8a01-9ad55f69a4d7"
      },
      "execution_count": null,
      "outputs": [
        {
          "output_type": "execute_result",
          "data": {
            "text/plain": [
              "KMeans(n_clusters=2)"
            ]
          },
          "metadata": {},
          "execution_count": 18
        }
      ]
    },
    {
      "cell_type": "code",
      "source": [
        "Y_pred=model.predict(X)\n",
        "df_confusion = pd.crosstab(y,Y_pred,rownames=['Actual'], colnames=['Predicted'], margins=True)\n",
        "print(df_confusion)"
      ],
      "metadata": {
        "colab": {
          "base_uri": "https://localhost:8080/"
        },
        "id": "gQ0FSUHJU_s9",
        "outputId": "0a60517f-5577-4391-ced7-907554c343a2"
      },
      "execution_count": null,
      "outputs": [
        {
          "output_type": "stream",
          "name": "stdout",
          "text": [
            "Predicted     0     1   All\n",
            "Actual                     \n",
            "False      3525  1198  4723\n",
            "True       1843  2880  4723\n",
            "All        5368  4078  9446\n"
          ]
        }
      ]
    },
    {
      "cell_type": "code",
      "source": [
        "from sklearn.metrics import classification_report\n",
        "from sklearn.metrics import confusion_matrix\n",
        "print(('\\nClasification report:\\n'), classification_report(y, Y_pred))\n",
        "print(('\\nConfussion matrix:\\n'),confusion_matrix(y, Y_pred))"
      ],
      "metadata": {
        "colab": {
          "base_uri": "https://localhost:8080/"
        },
        "id": "TwJIXpQlUaEY",
        "outputId": "14edcaa3-f6d1-4fab-dee0-dab2d5150cb8"
      },
      "execution_count": null,
      "outputs": [
        {
          "output_type": "stream",
          "name": "stdout",
          "text": [
            "\n",
            "Clasification report:\n",
            "               precision    recall  f1-score   support\n",
            "\n",
            "       False       0.66      0.75      0.70      4723\n",
            "        True       0.71      0.61      0.65      4723\n",
            "\n",
            "    accuracy                           0.68      9446\n",
            "   macro avg       0.68      0.68      0.68      9446\n",
            "weighted avg       0.68      0.68      0.68      9446\n",
            "\n",
            "\n",
            "Confussion matrix:\n",
            " [[3525 1198]\n",
            " [1843 2880]]\n"
          ]
        }
      ]
    },
    {
      "cell_type": "code",
      "source": [
        "from sklearn.metrics import confusion_matrix\n",
        "\n",
        "confusion_matrix = pd.crosstab(y,Y_pred)\n",
        "sns.heatmap(confusion_matrix, annot=True)"
      ],
      "metadata": {
        "colab": {
          "base_uri": "https://localhost:8080/",
          "height": 300
        },
        "id": "242dd5x0V46w",
        "outputId": "99ae9a3e-9bc8-41ef-efc6-b9811b57e6ff"
      },
      "execution_count": null,
      "outputs": [
        {
          "output_type": "execute_result",
          "data": {
            "text/plain": [
              "<matplotlib.axes._subplots.AxesSubplot at 0x7f628cb12990>"
            ]
          },
          "metadata": {},
          "execution_count": 23
        },
        {
          "output_type": "display_data",
          "data": {
            "image/png": "[encoded data removed]",
            "text/plain": [
              "<Figure size 432x288 with 2 Axes>"
            ]
          },
          "metadata": {
            "needs_background": "light"
          }
        }
      ]
    }
  ],
  "metadata": {
    "kernelspec": {
      "display_name": "Python 3",
      "language": "python",
      "name": "python3"
    },
    "language_info": {
      "codemirror_mode": {
        "name": "ipython",
        "version": 3
      },
      "file_extension": ".py",
      "mimetype": "text/x-python",
      "name": "python",
      "nbconvert_exporter": "python",
      "pygments_lexer": "ipython3",
      "version": "3.7.6"
    },
    "colab": {
      "name": "Kmeans_Reddit.ipynb",
      "provenance": [],
      "collapsed_sections": []
    }
  },
  "nbformat": 4,
  "nbformat_minor": 0
}