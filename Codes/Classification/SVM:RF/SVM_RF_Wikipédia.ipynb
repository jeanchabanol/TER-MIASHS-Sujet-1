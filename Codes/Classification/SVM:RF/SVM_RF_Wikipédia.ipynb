{
 "cells": [
  {
   "cell_type": "code",
   "execution_count": 2,
   "metadata": {},
   "outputs": [],
   "source": [
    "import numpy as np\n",
    "import pandas as pd\n",
    "from sklearn import svm\n",
    "import matplotlib.pyplot as plt\n",
    "from sklearn.model_selection import RandomizedSearchCV\n",
    "from sklearn.model_selection import train_test_split\n",
    "import pandas as pd\n",
    "import numpy as np\n",
    "import pandas as pd\n",
    "import numpy as np\n",
    "from nltk.tokenize import word_tokenize\n",
    "from nltk import pos_tag\n",
    "from nltk.corpus import stopwords\n",
    "from nltk.stem import WordNetLemmatizer\n",
    "from sklearn.preprocessing import LabelEncoder\n",
    "from collections import defaultdict\n",
    "from nltk.corpus import wordnet as wn\n",
    "from sklearn.feature_extraction.text import TfidfVectorizer\n",
    "from sklearn import model_selection, naive_bayes, svm\n",
    "from sklearn.metrics import accuracy_score"
   ]
  },
  {
   "cell_type": "code",
   "execution_count": 1,
   "metadata": {},
   "outputs": [],
   "source": [
    "# https://zestedesavoir.com/tutoriels/1760/un-peu-de-machine-learning-avec-les-svm/\n",
    "# https://ichi.pro/fr/guide-du-debutant-sur-la-classification-de-texte-avec-scikit-learn-109003449397050\n",
    "# https://medium.com/@bedigunjit/simple-guide-to-text-classification-nlp-using-svm-and-naive-bayes-with-python-421db3a72d34"
   ]
  },
  {
   "cell_type": "code",
   "execution_count": 3,
   "metadata": {},
   "outputs": [
    {
     "data": {
      "text/html": [
       "<div>\n",
       "<style scoped>\n",
       "    .dataframe tbody tr th:only-of-type {\n",
       "        vertical-align: middle;\n",
       "    }\n",
       "\n",
       "    .dataframe tbody tr th {\n",
       "        vertical-align: top;\n",
       "    }\n",
       "\n",
       "    .dataframe thead th {\n",
       "        text-align: right;\n",
       "    }\n",
       "</style>\n",
       "<table border=\"1\" class=\"dataframe\">\n",
       "  <thead>\n",
       "    <tr style=\"text-align: right;\">\n",
       "      <th></th>\n",
       "      <th>content</th>\n",
       "      <th>V1</th>\n",
       "      <th>pages_links</th>\n",
       "      <th>pages_names</th>\n",
       "      <th>subcategory</th>\n",
       "      <th>suicide</th>\n",
       "    </tr>\n",
       "  </thead>\n",
       "  <tbody>\n",
       "    <tr>\n",
       "      <th>0</th>\n",
       "      <td>Warren�s parents were Eliza Ann Brown (1824-1...</td>\n",
       "      <td>52</td>\n",
       "      <td>https://en.wikipedia.org//wiki/Harry_Marsh_Warren</td>\n",
       "      <td>Harry_Marsh_Warren</td>\n",
       "      <td>suicide</td>\n",
       "      <td>True</td>\n",
       "    </tr>\n",
       "    <tr>\n",
       "      <th>1</th>\n",
       "      <td>After her ALS diagnosis ,  Rodriquez reque...</td>\n",
       "      <td>103</td>\n",
       "      <td>https://en.wikipedia.org//wiki/Sue_Rodriguez</td>\n",
       "      <td>Sue_Rodriguez</td>\n",
       "      <td>Assisted_suicide</td>\n",
       "      <td>True</td>\n",
       "    </tr>\n",
       "    <tr>\n",
       "      <th>2</th>\n",
       "      <td>Ames was born Mercedes Grabowski in Antigonis...</td>\n",
       "      <td>116</td>\n",
       "      <td>https://en.wikipedia.org//wiki/August_Ames</td>\n",
       "      <td>August_Ames</td>\n",
       "      <td>Bullying_and_suicide</td>\n",
       "      <td>True</td>\n",
       "    </tr>\n",
       "    <tr>\n",
       "      <th>3</th>\n",
       "      <td>Chen was born and raised in Chinatown ,  Manh...</td>\n",
       "      <td>119</td>\n",
       "      <td>https://en.wikipedia.org//wiki/Suicide_of_Dann...</td>\n",
       "      <td>Suicide_of_Danny_Chen</td>\n",
       "      <td>Bullying_and_suicide</td>\n",
       "      <td>True</td>\n",
       "    </tr>\n",
       "    <tr>\n",
       "      <th>4</th>\n",
       "      <td>Halligan was born on December 18 ,  1989 , He...</td>\n",
       "      <td>125</td>\n",
       "      <td>https://en.wikipedia.org//wiki/Suicide_of_Ryan...</td>\n",
       "      <td>Suicide_of_Ryan_Halligan</td>\n",
       "      <td>Bullying_and_suicide</td>\n",
       "      <td>True</td>\n",
       "    </tr>\n",
       "    <tr>\n",
       "      <th>...</th>\n",
       "      <td>...</td>\n",
       "      <td>...</td>\n",
       "      <td>...</td>\n",
       "      <td>...</td>\n",
       "      <td>...</td>\n",
       "      <td>...</td>\n",
       "    </tr>\n",
       "    <tr>\n",
       "      <th>2969</th>\n",
       "      <td>Steele was born in Dallas ,  Texas ,  the dau...</td>\n",
       "      <td>7838</td>\n",
       "      <td>https://en.wikipedia.org//wiki/Sydnee_Steele</td>\n",
       "      <td>Sydnee_Steele</td>\n",
       "      <td>Pornographic_film_actors_from_Texas</td>\n",
       "      <td>False</td>\n",
       "    </tr>\n",
       "    <tr>\n",
       "      <th>2970</th>\n",
       "      <td>Texas's first scene was with Jack Venice in...</td>\n",
       "      <td>7840</td>\n",
       "      <td>https://en.wikipedia.org//wiki/Alexis_Texas</td>\n",
       "      <td>Alexis_Texas</td>\n",
       "      <td>Pornographic_film_actors_from_Texas</td>\n",
       "      <td>False</td>\n",
       "    </tr>\n",
       "    <tr>\n",
       "      <th>2971</th>\n",
       "      <td>Dorothiea Hundley was born and raised in Radf...</td>\n",
       "      <td>7845</td>\n",
       "      <td>https://en.wikipedia.org//wiki/Seka_(actress)</td>\n",
       "      <td>Seka_(actress)</td>\n",
       "      <td>Pornographic_film_actors_from_Virginia</td>\n",
       "      <td>False</td>\n",
       "    </tr>\n",
       "    <tr>\n",
       "      <th>2972</th>\n",
       "      <td>Newton was born in Eau Claire ,  Wisconsin . ...</td>\n",
       "      <td>7855</td>\n",
       "      <td>https://en.wikipedia.org//wiki/William_Arnold_...</td>\n",
       "      <td>William_Arnold_Newton</td>\n",
       "      <td>Pornographic_film_actors_from_Wisconsin</td>\n",
       "      <td>False</td>\n",
       "    </tr>\n",
       "    <tr>\n",
       "      <th>2973</th>\n",
       "      <td>Star moved to the U . S .  (California) with ...</td>\n",
       "      <td>8097</td>\n",
       "      <td>https://en.wikipedia.org//wiki/Charmane_Star</td>\n",
       "      <td>Charmane_Star</td>\n",
       "      <td>American_pornographic_film_actors_of_Filipino_...</td>\n",
       "      <td>False</td>\n",
       "    </tr>\n",
       "  </tbody>\n",
       "</table>\n",
       "<p>2974 rows × 6 columns</p>\n",
       "</div>"
      ],
      "text/plain": [
       "                                                content    V1  \\\n",
       "0      Warren�s parents were Eliza Ann Brown (1824-1...    52   \n",
       "1         After her ALS diagnosis ,  Rodriquez reque...   103   \n",
       "2      Ames was born Mercedes Grabowski in Antigonis...   116   \n",
       "3      Chen was born and raised in Chinatown ,  Manh...   119   \n",
       "4      Halligan was born on December 18 ,  1989 , He...   125   \n",
       "...                                                 ...   ...   \n",
       "2969   Steele was born in Dallas ,  Texas ,  the dau...  7838   \n",
       "2970     Texas's first scene was with Jack Venice in...  7840   \n",
       "2971   Dorothiea Hundley was born and raised in Radf...  7845   \n",
       "2972   Newton was born in Eau Claire ,  Wisconsin . ...  7855   \n",
       "2973   Star moved to the U . S .  (California) with ...  8097   \n",
       "\n",
       "                                            pages_links  \\\n",
       "0     https://en.wikipedia.org//wiki/Harry_Marsh_Warren   \n",
       "1          https://en.wikipedia.org//wiki/Sue_Rodriguez   \n",
       "2            https://en.wikipedia.org//wiki/August_Ames   \n",
       "3     https://en.wikipedia.org//wiki/Suicide_of_Dann...   \n",
       "4     https://en.wikipedia.org//wiki/Suicide_of_Ryan...   \n",
       "...                                                 ...   \n",
       "2969       https://en.wikipedia.org//wiki/Sydnee_Steele   \n",
       "2970        https://en.wikipedia.org//wiki/Alexis_Texas   \n",
       "2971      https://en.wikipedia.org//wiki/Seka_(actress)   \n",
       "2972  https://en.wikipedia.org//wiki/William_Arnold_...   \n",
       "2973       https://en.wikipedia.org//wiki/Charmane_Star   \n",
       "\n",
       "                   pages_names  \\\n",
       "0           Harry_Marsh_Warren   \n",
       "1                Sue_Rodriguez   \n",
       "2                  August_Ames   \n",
       "3        Suicide_of_Danny_Chen   \n",
       "4     Suicide_of_Ryan_Halligan   \n",
       "...                        ...   \n",
       "2969             Sydnee_Steele   \n",
       "2970              Alexis_Texas   \n",
       "2971            Seka_(actress)   \n",
       "2972     William_Arnold_Newton   \n",
       "2973             Charmane_Star   \n",
       "\n",
       "                                            subcategory  suicide  \n",
       "0                                               suicide     True  \n",
       "1                                      Assisted_suicide     True  \n",
       "2                                  Bullying_and_suicide     True  \n",
       "3                                  Bullying_and_suicide     True  \n",
       "4                                  Bullying_and_suicide     True  \n",
       "...                                                 ...      ...  \n",
       "2969                Pornographic_film_actors_from_Texas    False  \n",
       "2970                Pornographic_film_actors_from_Texas    False  \n",
       "2971             Pornographic_film_actors_from_Virginia    False  \n",
       "2972            Pornographic_film_actors_from_Wisconsin    False  \n",
       "2973  American_pornographic_film_actors_of_Filipino_...    False  \n",
       "\n",
       "[2974 rows x 6 columns]"
      ]
     },
     "execution_count": 3,
     "metadata": {},
     "output_type": "execute_result"
    }
   ],
   "source": [
    "Corpus = pd.read_csv(\"Données Wikipédia/Jeu de données final/donnees_wiki_total.csv\")\n",
    "\n",
    "\n",
    "#Corpus = pd.read_csv(\"test.csv\") A mettre comme ça parce que moi j'avais un bugg (et ca separe les mots de cotent par des ,)\n",
    "Corpus"
   ]
  },
  {
   "cell_type": "code",
   "execution_count": 4,
   "metadata": {},
   "outputs": [
    {
     "data": {
      "text/plain": [
       "(2974, 6)"
      ]
     },
     "execution_count": 4,
     "metadata": {},
     "output_type": "execute_result"
    }
   ],
   "source": [
    "Corpus.shape"
   ]
  },
  {
   "cell_type": "markdown",
   "metadata": {},
   "source": [
    "# Visualisation et Traitement"
   ]
  },
  {
   "cell_type": "code",
   "execution_count": 5,
   "metadata": {},
   "outputs": [],
   "source": [
    "##On commence le nettoyage des données en cherchant s'il y a des lignes dupliqués. \n",
    "Corpus = Corpus.drop_duplicates()"
   ]
  },
  {
   "cell_type": "code",
   "execution_count": 7,
   "metadata": {},
   "outputs": [
    {
     "data": {
      "text/plain": [
       "0"
      ]
     },
     "execution_count": 7,
     "metadata": {},
     "output_type": "execute_result"
    }
   ],
   "source": [
    "#On verifie qu'il y ai aucune valeur de content nulle\n",
    "Corpus['content'].isnull().sum()"
   ]
  },
  {
   "cell_type": "code",
   "execution_count": null,
   "metadata": {},
   "outputs": [],
   "source": [
    "Corpus=Corpus.dropna()\n",
    "Corpus['content'].isnull().sum()"
   ]
  },
  {
   "cell_type": "code",
   "execution_count": null,
   "metadata": {
    "scrolled": true
   },
   "outputs": [],
   "source": [
    "import seaborn as sns\n",
    "Corpus['suicide'].value_counts()\n",
    "sns.countplot(x='suicide', data=Corpus, palette= \"hls\")\n",
    "plt.title(\"nombre de textes par catégorie\")\n",
    "plt.show()"
   ]
  },
  {
   "cell_type": "code",
   "execution_count": null,
   "metadata": {},
   "outputs": [],
   "source": [
    "Corpus['suicide'].value_counts()"
   ]
  },
  {
   "cell_type": "markdown",
   "metadata": {},
   "source": [
    "# Traitement"
   ]
  },
  {
   "cell_type": "code",
   "execution_count": null,
   "metadata": {},
   "outputs": [],
   "source": [
    "df_parfaitX = Corpus.loc[Corpus['suicide']==True,:]\n",
    "df_parfaitY = Corpus.loc[Corpus['suicide']==False,:]"
   ]
  },
  {
   "cell_type": "code",
   "execution_count": null,
   "metadata": {},
   "outputs": [],
   "source": [
    "df_parfaitY = df_parfaitY.sample(n=1228)\n",
    "Corpus = pd.concat([df_parfaitX,df_parfaitY])\n",
    "Corpus = Corpus.reset_index(drop =True)"
   ]
  },
  {
   "cell_type": "code",
   "execution_count": null,
   "metadata": {},
   "outputs": [],
   "source": [
    "Corpus"
   ]
  },
  {
   "cell_type": "code",
   "execution_count": null,
   "metadata": {
    "scrolled": true
   },
   "outputs": [],
   "source": [
    "import seaborn as sns\n",
    "Corpus['suicide'].value_counts()\n",
    "sns.countplot(x='suicide', data=Corpus, palette= \"hls\")\n",
    "plt.title(\"nombre de textes par catégorie\")\n",
    "plt.show()"
   ]
  },
  {
   "cell_type": "code",
   "execution_count": null,
   "metadata": {
    "scrolled": true
   },
   "outputs": [],
   "source": [
    "Corpus['suicide'].value_counts()"
   ]
  },
  {
   "cell_type": "markdown",
   "metadata": {},
   "source": [
    "# Traitement de la données texte pour le model"
   ]
  },
  {
   "cell_type": "code",
   "execution_count": 10,
   "metadata": {},
   "outputs": [],
   "source": [
    "# Step - b : Change all the text to lower case. This is required as python interprets 'dog' and 'DOG' differently\n",
    "Corpus['content'] = [entry.lower() for entry in Corpus['content']]\n",
    "# Step - c : Tokenization : In this each entry in the corpus will be broken into set of words\n",
    "Corpus['tokenize']= [word_tokenize(entry) for entry in Corpus['content']]\n",
    "# Step - d : Remove Stop words, Non-Numeric and perfom Word Stemming/Lemmenting.\n",
    "# WordNetLemmatizer requires Pos tags to understand if the word is noun or verb or adjective etc. By default it is set to Noun\n",
    "tag_map = defaultdict(lambda : wn.NOUN)\n",
    "tag_map['J'] = wn.ADJ\n",
    "tag_map['V'] = wn.VERB\n",
    "tag_map['R'] = wn.ADV\n",
    "for index,entry in enumerate(Corpus['tokenize']):\n",
    "    # Declaring Empty List to store the words that follow the rules for this step\n",
    "    Final_words = []\n",
    "    # Initializing WordNetLemmatizer()\n",
    "    word_Lemmatized = WordNetLemmatizer()\n",
    "    # pos_tag function below will provide the 'tag' i.e if the word is Noun(N) or Verb(V) or something else.\n",
    "    for word, tag in pos_tag(entry):\n",
    "        # Below condition is to check for Stop words and consider only alphabets\n",
    "        if word not in stopwords.words('english') and word.isalpha():\n",
    "            word_Final = word_Lemmatized.lemmatize(word,tag_map[tag[0]])\n",
    "            Final_words.append(word_Final)\n",
    "    # The final processed set of words for each iteration will be stored in 'text_final'\n",
    "    Corpus.loc[index,'text_final'] = str(Final_words)"
   ]
  },
  {
   "cell_type": "code",
   "execution_count": 11,
   "metadata": {},
   "outputs": [
    {
     "data": {
      "text/html": [
       "<div>\n",
       "<style scoped>\n",
       "    .dataframe tbody tr th:only-of-type {\n",
       "        vertical-align: middle;\n",
       "    }\n",
       "\n",
       "    .dataframe tbody tr th {\n",
       "        vertical-align: top;\n",
       "    }\n",
       "\n",
       "    .dataframe thead th {\n",
       "        text-align: right;\n",
       "    }\n",
       "</style>\n",
       "<table border=\"1\" class=\"dataframe\">\n",
       "  <thead>\n",
       "    <tr style=\"text-align: right;\">\n",
       "      <th></th>\n",
       "      <th>content</th>\n",
       "      <th>V1</th>\n",
       "      <th>pages_links</th>\n",
       "      <th>pages_names</th>\n",
       "      <th>subcategory</th>\n",
       "      <th>suicide</th>\n",
       "      <th>tokenize</th>\n",
       "      <th>text_final</th>\n",
       "    </tr>\n",
       "  </thead>\n",
       "  <tbody>\n",
       "    <tr>\n",
       "      <th>0</th>\n",
       "      <td>warren�s parents were eliza ann brown (1824-1...</td>\n",
       "      <td>52</td>\n",
       "      <td>https://en.wikipedia.org//wiki/Harry_Marsh_Warren</td>\n",
       "      <td>Harry_Marsh_Warren</td>\n",
       "      <td>suicide</td>\n",
       "      <td>True</td>\n",
       "      <td>[warren�s, parents, were, eliza, ann, brown, (...</td>\n",
       "      <td>['parent', 'eliza', 'ann', 'brown', 'william',...</td>\n",
       "    </tr>\n",
       "    <tr>\n",
       "      <th>1</th>\n",
       "      <td>after her als diagnosis ,  rodriquez reque...</td>\n",
       "      <td>103</td>\n",
       "      <td>https://en.wikipedia.org//wiki/Sue_Rodriguez</td>\n",
       "      <td>Sue_Rodriguez</td>\n",
       "      <td>Assisted_suicide</td>\n",
       "      <td>True</td>\n",
       "      <td>[after, her, als, diagnosis, ,, rodriquez, req...</td>\n",
       "      <td>['al', 'diagnosis', 'rodriquez', 'request', 'h...</td>\n",
       "    </tr>\n",
       "    <tr>\n",
       "      <th>2</th>\n",
       "      <td>ames was born mercedes grabowski in antigonis...</td>\n",
       "      <td>116</td>\n",
       "      <td>https://en.wikipedia.org//wiki/August_Ames</td>\n",
       "      <td>August_Ames</td>\n",
       "      <td>Bullying_and_suicide</td>\n",
       "      <td>True</td>\n",
       "      <td>[ames, was, born, mercedes, grabowski, in, ant...</td>\n",
       "      <td>['ames', 'bear', 'mercedes', 'grabowski', 'ant...</td>\n",
       "    </tr>\n",
       "    <tr>\n",
       "      <th>3</th>\n",
       "      <td>chen was born and raised in chinatown ,  manh...</td>\n",
       "      <td>119</td>\n",
       "      <td>https://en.wikipedia.org//wiki/Suicide_of_Dann...</td>\n",
       "      <td>Suicide_of_Danny_Chen</td>\n",
       "      <td>Bullying_and_suicide</td>\n",
       "      <td>True</td>\n",
       "      <td>[chen, was, born, and, raised, in, chinatown, ...</td>\n",
       "      <td>['chen', 'bear', 'raise', 'chinatown', 'manhat...</td>\n",
       "    </tr>\n",
       "    <tr>\n",
       "      <th>4</th>\n",
       "      <td>halligan was born on december 18 ,  1989 , he...</td>\n",
       "      <td>125</td>\n",
       "      <td>https://en.wikipedia.org//wiki/Suicide_of_Ryan...</td>\n",
       "      <td>Suicide_of_Ryan_Halligan</td>\n",
       "      <td>Bullying_and_suicide</td>\n",
       "      <td>True</td>\n",
       "      <td>[halligan, was, born, on, december, 18, ,, 198...</td>\n",
       "      <td>['halligan', 'bear', 'december', 'describe', '...</td>\n",
       "    </tr>\n",
       "    <tr>\n",
       "      <th>...</th>\n",
       "      <td>...</td>\n",
       "      <td>...</td>\n",
       "      <td>...</td>\n",
       "      <td>...</td>\n",
       "      <td>...</td>\n",
       "      <td>...</td>\n",
       "      <td>...</td>\n",
       "      <td>...</td>\n",
       "    </tr>\n",
       "    <tr>\n",
       "      <th>2969</th>\n",
       "      <td>steele was born in dallas ,  texas ,  the dau...</td>\n",
       "      <td>7838</td>\n",
       "      <td>https://en.wikipedia.org//wiki/Sydnee_Steele</td>\n",
       "      <td>Sydnee_Steele</td>\n",
       "      <td>Pornographic_film_actors_from_Texas</td>\n",
       "      <td>False</td>\n",
       "      <td>[steele, was, born, in, dallas, ,, texas, ,, t...</td>\n",
       "      <td>['steele', 'bear', 'dallas', 'texas', 'daughte...</td>\n",
       "    </tr>\n",
       "    <tr>\n",
       "      <th>2970</th>\n",
       "      <td>texas's first scene was with jack venice in...</td>\n",
       "      <td>7840</td>\n",
       "      <td>https://en.wikipedia.org//wiki/Alexis_Texas</td>\n",
       "      <td>Alexis_Texas</td>\n",
       "      <td>Pornographic_film_actors_from_Texas</td>\n",
       "      <td>False</td>\n",
       "      <td>[texas, 's, first, scene, was, with, jack, ven...</td>\n",
       "      <td>['texas', 'first', 'scene', 'jack', 'venice', ...</td>\n",
       "    </tr>\n",
       "    <tr>\n",
       "      <th>2971</th>\n",
       "      <td>dorothiea hundley was born and raised in radf...</td>\n",
       "      <td>7845</td>\n",
       "      <td>https://en.wikipedia.org//wiki/Seka_(actress)</td>\n",
       "      <td>Seka_(actress)</td>\n",
       "      <td>Pornographic_film_actors_from_Virginia</td>\n",
       "      <td>False</td>\n",
       "      <td>[dorothiea, hundley, was, born, and, raised, i...</td>\n",
       "      <td>['dorothiea', 'hundley', 'bear', 'raise', 'rad...</td>\n",
       "    </tr>\n",
       "    <tr>\n",
       "      <th>2972</th>\n",
       "      <td>newton was born in eau claire ,  wisconsin . ...</td>\n",
       "      <td>7855</td>\n",
       "      <td>https://en.wikipedia.org//wiki/William_Arnold_...</td>\n",
       "      <td>William_Arnold_Newton</td>\n",
       "      <td>Pornographic_film_actors_from_Wisconsin</td>\n",
       "      <td>False</td>\n",
       "      <td>[newton, was, born, in, eau, claire, ,, wiscon...</td>\n",
       "      <td>['newton', 'bear', 'eau', 'claire', 'wisconsin...</td>\n",
       "    </tr>\n",
       "    <tr>\n",
       "      <th>2973</th>\n",
       "      <td>star moved to the u . s .  (california) with ...</td>\n",
       "      <td>8097</td>\n",
       "      <td>https://en.wikipedia.org//wiki/Charmane_Star</td>\n",
       "      <td>Charmane_Star</td>\n",
       "      <td>American_pornographic_film_actors_of_Filipino_...</td>\n",
       "      <td>False</td>\n",
       "      <td>[star, moved, to, the, u, ., s, ., (, californ...</td>\n",
       "      <td>['star', 'move', 'u', 'california', 'family', ...</td>\n",
       "    </tr>\n",
       "  </tbody>\n",
       "</table>\n",
       "<p>2974 rows × 8 columns</p>\n",
       "</div>"
      ],
      "text/plain": [
       "                                                content    V1  \\\n",
       "0      warren�s parents were eliza ann brown (1824-1...    52   \n",
       "1         after her als diagnosis ,  rodriquez reque...   103   \n",
       "2      ames was born mercedes grabowski in antigonis...   116   \n",
       "3      chen was born and raised in chinatown ,  manh...   119   \n",
       "4      halligan was born on december 18 ,  1989 , he...   125   \n",
       "...                                                 ...   ...   \n",
       "2969   steele was born in dallas ,  texas ,  the dau...  7838   \n",
       "2970     texas's first scene was with jack venice in...  7840   \n",
       "2971   dorothiea hundley was born and raised in radf...  7845   \n",
       "2972   newton was born in eau claire ,  wisconsin . ...  7855   \n",
       "2973   star moved to the u . s .  (california) with ...  8097   \n",
       "\n",
       "                                            pages_links  \\\n",
       "0     https://en.wikipedia.org//wiki/Harry_Marsh_Warren   \n",
       "1          https://en.wikipedia.org//wiki/Sue_Rodriguez   \n",
       "2            https://en.wikipedia.org//wiki/August_Ames   \n",
       "3     https://en.wikipedia.org//wiki/Suicide_of_Dann...   \n",
       "4     https://en.wikipedia.org//wiki/Suicide_of_Ryan...   \n",
       "...                                                 ...   \n",
       "2969       https://en.wikipedia.org//wiki/Sydnee_Steele   \n",
       "2970        https://en.wikipedia.org//wiki/Alexis_Texas   \n",
       "2971      https://en.wikipedia.org//wiki/Seka_(actress)   \n",
       "2972  https://en.wikipedia.org//wiki/William_Arnold_...   \n",
       "2973       https://en.wikipedia.org//wiki/Charmane_Star   \n",
       "\n",
       "                   pages_names  \\\n",
       "0           Harry_Marsh_Warren   \n",
       "1                Sue_Rodriguez   \n",
       "2                  August_Ames   \n",
       "3        Suicide_of_Danny_Chen   \n",
       "4     Suicide_of_Ryan_Halligan   \n",
       "...                        ...   \n",
       "2969             Sydnee_Steele   \n",
       "2970              Alexis_Texas   \n",
       "2971            Seka_(actress)   \n",
       "2972     William_Arnold_Newton   \n",
       "2973             Charmane_Star   \n",
       "\n",
       "                                            subcategory  suicide  \\\n",
       "0                                               suicide     True   \n",
       "1                                      Assisted_suicide     True   \n",
       "2                                  Bullying_and_suicide     True   \n",
       "3                                  Bullying_and_suicide     True   \n",
       "4                                  Bullying_and_suicide     True   \n",
       "...                                                 ...      ...   \n",
       "2969                Pornographic_film_actors_from_Texas    False   \n",
       "2970                Pornographic_film_actors_from_Texas    False   \n",
       "2971             Pornographic_film_actors_from_Virginia    False   \n",
       "2972            Pornographic_film_actors_from_Wisconsin    False   \n",
       "2973  American_pornographic_film_actors_of_Filipino_...    False   \n",
       "\n",
       "                                               tokenize  \\\n",
       "0     [warren�s, parents, were, eliza, ann, brown, (...   \n",
       "1     [after, her, als, diagnosis, ,, rodriquez, req...   \n",
       "2     [ames, was, born, mercedes, grabowski, in, ant...   \n",
       "3     [chen, was, born, and, raised, in, chinatown, ...   \n",
       "4     [halligan, was, born, on, december, 18, ,, 198...   \n",
       "...                                                 ...   \n",
       "2969  [steele, was, born, in, dallas, ,, texas, ,, t...   \n",
       "2970  [texas, 's, first, scene, was, with, jack, ven...   \n",
       "2971  [dorothiea, hundley, was, born, and, raised, i...   \n",
       "2972  [newton, was, born, in, eau, claire, ,, wiscon...   \n",
       "2973  [star, moved, to, the, u, ., s, ., (, californ...   \n",
       "\n",
       "                                             text_final  \n",
       "0     ['parent', 'eliza', 'ann', 'brown', 'william',...  \n",
       "1     ['al', 'diagnosis', 'rodriquez', 'request', 'h...  \n",
       "2     ['ames', 'bear', 'mercedes', 'grabowski', 'ant...  \n",
       "3     ['chen', 'bear', 'raise', 'chinatown', 'manhat...  \n",
       "4     ['halligan', 'bear', 'december', 'describe', '...  \n",
       "...                                                 ...  \n",
       "2969  ['steele', 'bear', 'dallas', 'texas', 'daughte...  \n",
       "2970  ['texas', 'first', 'scene', 'jack', 'venice', ...  \n",
       "2971  ['dorothiea', 'hundley', 'bear', 'raise', 'rad...  \n",
       "2972  ['newton', 'bear', 'eau', 'claire', 'wisconsin...  \n",
       "2973  ['star', 'move', 'u', 'california', 'family', ...  \n",
       "\n",
       "[2974 rows x 8 columns]"
      ]
     },
     "execution_count": 11,
     "metadata": {},
     "output_type": "execute_result"
    }
   ],
   "source": [
    "Corpus"
   ]
  },
  {
   "cell_type": "code",
   "execution_count": 13,
   "metadata": {},
   "outputs": [],
   "source": [
    "y=Corpus['suicide']\n",
    "X=Corpus['content']"
   ]
  },
  {
   "cell_type": "code",
   "execution_count": 14,
   "metadata": {},
   "outputs": [],
   "source": [
    "#These will now contain for each row a list of unique integer number and its associated importance \n",
    "#as calculated by TF-IDF.\n",
    "vector = TfidfVectorizer(max_features=5000) #Their will be maximum of 5000 unique words/features as we have set parameter max_features=5000.\n",
    "X=vector.fit_transform(X)"
   ]
  },
  {
   "cell_type": "code",
   "execution_count": 15,
   "metadata": {},
   "outputs": [],
   "source": [
    "#Train_X, Test_X, Train_Y, Test_Y = model_selection.train_test_split(Corpus['text_final'],Corpus['suicide'],test_size=0.3)"
   ]
  },
  {
   "cell_type": "code",
   "execution_count": 16,
   "metadata": {},
   "outputs": [],
   "source": [
    "#transforme les string en numérique pour que le model puisse prendre les données \n",
    "#Encoder = LabelEncoder()\n",
    "#Train_Y = Encoder.fit_transform(Train_Y)\n",
    "#Test_Y = Encoder.fit_transform(Test_Y)"
   ]
  },
  {
   "cell_type": "code",
   "execution_count": 17,
   "metadata": {},
   "outputs": [],
   "source": [
    "#These will now contain for each row a list of unique integer number and its associated importance \n",
    "#as calculated by TF-IDF.\n",
    "#Tfidf_vect = TfidfVectorizer(max_features=5000) #Their will be maximum of 5000 unique words/features as we have set parameter max_features=5000.\n",
    "\n",
    "#Tfidf_vect.fit(Corpus['text_final'])\n",
    "#Train_X_Tfidf = Tfidf_vect.transform(Train_X)\n",
    "#Test_X_Tfidf = Tfidf_vect.transform(Test_X)"
   ]
  },
  {
   "cell_type": "code",
   "execution_count": 18,
   "metadata": {},
   "outputs": [
    {
     "name": "stdout",
     "output_type": "stream",
     "text": [
      "  (0, 2978)\t0.0666163476639883\n",
      "  (0, 1353)\t0.03802081411565555\n",
      "  (0, 92)\t0.044060873327097225\n",
      "  (0, 860)\t0.07346586973154817\n",
      "  (0, 1730)\t0.07698700824511566\n",
      "  (0, 294)\t0.07475544946215264\n",
      "  (0, 2904)\t0.03802081411565555\n",
      "  (0, 23)\t0.06850310373122064\n",
      "  (0, 3368)\t0.04756356468273484\n",
      "  (0, 964)\t0.05237974585356278\n",
      "  (0, 4973)\t0.026887119671100478\n",
      "  (0, 4108)\t0.031897630401118114\n",
      "  (0, 1928)\t0.01785085504517666\n",
      "  (0, 2920)\t0.05903950153120458\n",
      "  (0, 1892)\t0.024229653957205943\n",
      "  (0, 2552)\t0.05027635250313998\n",
      "  (0, 2528)\t0.03514173408741915\n",
      "  (0, 1208)\t0.0388967018000315\n",
      "  (0, 4937)\t0.030558944538567594\n",
      "  (0, 1060)\t0.0635403377308931\n",
      "  (0, 708)\t0.07409368359848988\n",
      "  (0, 4307)\t0.05519319091873606\n",
      "  (0, 1033)\t0.26189872926781393\n",
      "  (0, 610)\t0.38493504122557826\n",
      "  (0, 576)\t0.18392633684379026\n",
      "  :\t:\n",
      "  (2973, 365)\t0.09347398987313582\n",
      "  (2973, 3538)\t0.14773929775414268\n",
      "  (2973, 4299)\t0.18955301479500733\n",
      "  (2973, 4868)\t0.07650695590284627\n",
      "  (2973, 461)\t0.07409593814710143\n",
      "  (2973, 323)\t0.08505349344715123\n",
      "  (2973, 531)\t0.10078235265096414\n",
      "  (2973, 2194)\t0.08842898951658607\n",
      "  (2973, 859)\t0.07946110116509793\n",
      "  (2973, 4973)\t0.07813095609565633\n",
      "  (2973, 1986)\t0.05834590025093513\n",
      "  (2973, 4025)\t0.0872849179485057\n",
      "  (2973, 3268)\t0.10000740510669996\n",
      "  (2973, 2243)\t0.12980644030751878\n",
      "  (2973, 4125)\t0.2614798057251912\n",
      "  (2973, 1805)\t0.08795650371081871\n",
      "  (2973, 4588)\t0.09119305973404662\n",
      "  (2973, 31)\t0.13553269452666028\n",
      "  (2973, 4531)\t0.0925126567999854\n",
      "  (2973, 3252)\t0.12074983368883217\n",
      "  (2973, 4525)\t0.19324976264594018\n",
      "  (2973, 4827)\t0.041245668770047636\n",
      "  (2973, 2388)\t0.2216666294451491\n",
      "  (2973, 4914)\t0.05257917622320197\n",
      "  (2973, 414)\t0.08069107381310288\n"
     ]
    }
   ],
   "source": [
    "#data vectorisé\n",
    "#1: Row number of ‘Train_X_Tfidf’, \n",
    "#2: Unique Integer number of each word in the first row, \n",
    "#3: Score calculated by TF-IDF Vectorizer\n",
    "print(X)"
   ]
  },
  {
   "cell_type": "code",
   "execution_count": 19,
   "metadata": {},
   "outputs": [
    {
     "name": "stdout",
     "output_type": "stream",
     "text": [
      "{'warren': 4824, 'parents': 3366, 'were': 4862, 'ann': 434, 'brown': 830, '1891': 21, 'and': 414, 'william': 4895, 'who': 4877, 'made': 2850, 'with': 4914, 'his': 2271, 'brother': 827, 'in': 2388, 'hudson': 2332, 'new': 3173, 'hampshire': 2166, 'was': 4827, 'the': 4525, 'youngest': 4983, 'of': 3252, 'their': 4531, 'five': 1895, 'children': 1017, 'born': 767, 'on': 3277, '19': 31, 'april': 472, 'three': 4564, 'weeks': 4850, 'after': 316, 'father': 1822, 'died': 1452, 'leaving': 2697, 'mother': 3086, 'to': 4588, 'raise': 3719, 'family': 1805, 'she': 4125, 'lived': 2769, 'almost': 377, 'next': 3180, 'door': 1513, 'her': 2243, 'law': 2677, 'he': 2212, 'may': 2938, 'have': 2198, 'provided': 3665, 'some': 4227, 'support': 4421, 'however': 2331, 'remarried': 3821, 'local': 2778, '75': 213, 'year': 4972, 'old': 3268, 'farmer': 1813, 'called': 874, 'philip': 3447, 'hart': 2189, 'within': 4915, 'months': 3069, 'by': 862, 'about': 236, 'living': 2772, 'where': 4869, 'attended': 544, 'hill': 2265, 'primary': 3604, 'school': 4025, 'then': 4537, 'academy': 243, 'later': 2664, '1880': 15, 'still': 4333, 'older': 3269, 'had': 2153, 'become': 654, 'following': 1919, 'this': 4554, 'took': 4602, 'up': 4707, 'teaching': 4486, 'surrounding': 4433, 'before': 661, 'attending': 545, 'university': 4701, 'columbia': 1116, 'union': 4695, 'york': 4978, 'city': 1047, 'graduating': 2095, '1888': 18, 'became': 651, 'member': 2966, 'degree': 1390, 'doctor': 1494, 'him': 2267, 'tennessee': 4510, 'received': 3761, 'from': 1986, 'temple': 4507, 'college': 1107, 'philadelphia': 3446, 'while': 4872, 'assisted': 523, 'fifth': 1862, 'avenue': 576, 'baptist': 610, 'church': 1033, 'starting': 4307, 'bible': 708, 'classes': 1060, 'work': 4937, 'continued': 1208, 'john': 2528, 'jr': 2552, 'first': 1892, 'massachusetts': 2920, 'for': 1928, 'several': 4108, 'years': 4973, 'central': 964, 'park': 3368, '1893': 23, 'married': 2904, 'adelaide': 294, 'everett': 1730, 'butler': 860, '1956': 92, 'daughter': 1353, 'merchant': 2978, 'requested': 3853, 'help': 2236, 'physician': 3463, 'medical': 2957, 'aid': 334, 'dying': 1574, 'sought': 4243, 'legal': 2705, 'exception': 1743, 'home': 2293, 'province': 3668, 'british': 815, 'but': 859, 'denied': 1402, 'civil': 1048, 'association': 527, 'filed': 1869, 'lawsuit': 2683, 'that': 4524, 'section': 4057, 'as': 507, '12': 7, '15': 10, 'canadian': 888, 'rights': 3905, 'february': 1833, '1994': 134, 'assistance': 521, 'an': 409, 'ended': 1663, 'own': 3333, 'life': 2739, 'robinson': 3924, 'has': 2194, 'never': 3171, 'identity': 2363, '23': 170, 'june': 2565, '2016': 161, 'canada': 887, 'result': 3869, 'similar': 4167, 'supreme': 4425, 'court': 1252, 'case': 935, 'carter': 930, 'struck': 4367, 'down': 1521, 'parts': 3383, '14': 9, 'criminal': 1282, 'code': 1094, 'which': 4871, 'ruled': 3965, 'ames': 403, 'august': 558, 'grew': 2125, 'ontario': 3286, 'colorado': 1112, 'springs': 4284, 'suffered': 4403, 'career': 910, 'pornographic': 3539, 'actress': 275, 'began': 663, 'at': 531, 'age': 323, 'november': 3228, '2013': 158, 'performed': 3422, 'over': 3328, 'films': 1876, 'appeared': 461, 'non': 3200, 'film': 1872, 'model': 3046, 'murder': 3106, 'killer': 2607, 'december': 1378, '2017': 162, 'due': 1558, 'perform': 3419, 'scene': 4018, 'when': 4868, 'learned': 2693, 'co': 1089, 'star': 4299, 'man': 2874, 'gay': 2028, 'pornography': 3540, 'wrote': 4963, 'lady': 2637, 'performer': 3423, 'is': 2473, 'replacing': 3837, 'me': 2951, 'tomorrow': 4597, 'you': 4980, 're': 3743, 'shooting': 4137, 'guy': 2150, 'shot': 4143, 'porn': 3538, 'just': 2569, 'let': 2725, 'know': 2621, 'all': 365, 'can': 886, 'say': 4010, 'do': 1492, 'agents': 327, 'really': 3754, 'not': 3213, 'care': 909, 'they': 4544, 'representing': 3846, 'my': 3123, 'body': 753, 'drew': 1540, 'criticism': 1286, 'abuse': 241, 'social': 4217, 'media': 2956, 'demanded': 1397, 'or': 3300, 'take': 4459, 'cyanide': 1316, 'said': 3980, 'two': 4677, 'days': 1360, 'found': 1953, 'dead': 1364, 'california': 872, 'investigation': 2459, 'into': 2455, 'suicide': 4408, 'covered': 1255, 'series': 4092, 'last': 2660, 'jon': 2539, 'husband': 2348, 'kevin': 2597, 'moore': 3071, 'encouraged': 1661, 'producer': 3624, 'look': 2792, 'claimed': 1050, 'led': 2699, 'death': 1370, 'podcast': 3515, 'story': 4349, 'goes': 2074, 'further': 1999, 'looks': 2795, 'more': 3075, 'closely': 1082, 'role': 3933, 'prior': 3612, 'history': 2274, 'mental': 2975, 'illness': 2370, 'number': 3231, 'people': 3415, 'around': 488, 'contributed': 1214, 'poor': 3533, 'state': 4308, 'between': 705, 'fictional': 1858, 'young': 4981, 'girl': 2053, 'play': 3499, 'inspector': 2430, 'calls': 876, 'wake': 4799, 'deaths': 1371, 'other': 3315, 'adult': 301, 'performers': 3424, 'industry': 2410, 'proposed': 3658, 'deal': 1366, 'issue': 2476, 'raised': 3720, 'manhattan': 2879, 'china': 1018, 'graduated': 2094, 'high': 2261, '2010': 155, 'full': 1991, 'scholarship': 4024, 'offer': 3254, 'joined': 2533, 'army': 486, 'january': 2497, '2011': 156, 'planned': 3490, 'military': 3006, 'service': 4097, 'return': 3876, 'serve': 4095, 'police': 3526, 'department': 1405, 'completing': 1160, 'basic': 628, 'training': 4631, 'fort': 1946, 'georgia': 2038, 'assigned': 519, 'company': 1153, 'infantry': 2412, 'regiment': 3790, '1st': 142, 'brigade': 810, 'combat': 1121, 'team': 4487, '25th': 174, 'division': 1487, 'based': 627, 'halligan': 2160, '18': 14, '1989': 128, 'described': 1416, 'very': 4744, 'soul': 4244, 'experienced': 1761, 'speech': 4263, 'physical': 3461, 'early': 1583, 'although': 386, 'those': 4557, 'difficulties': 1458, 'fourth': 1960, 'grade': 2090, 'struggled': 4369, 'easy': 1591, 'always': 390, 'showed': 4148, 'face': 1781, 'eager': 1578, 'best': 701, 'started': 4306, 'bullying': 844, 'hands': 2169, 'group': 2131, 'students': 4373, 'because': 652, 'learning': 2694, 'passion': 3390, 'music': 3113, 'drums': 1551, 'guitar': 2143, 'love': 2810, 'drama': 1529, 'told': 4593, 'being': 670, 'picked': 3469, 'initial': 2420, 'response': 3863, 'boys': 785, 'words': 4935, 'short': 4140, 'documentary': 1496, 'enrolled': 1678, 'little': 2766, 'success': 4394, 'moved': 3093, 'middle': 2996, '7th': 218, '2002': 147, 'again': 320, 'asked': 514, 'boxing': 781, 'set': 4101, 'christmas': 1028, 'order': 3303, 'learn': 2692, 'how': 2329, 'himself': 2268, 'wanted': 4817, 'go': 2070, 'principal': 3609, 'sort': 4241, 'things': 4548, 'out': 3320, 'insisted': 2429, 'fight': 1864, 'believing': 677, 'would': 4949, 'make': 2865, 'worse': 4946, 'developed': 1433, 'routine': 3958, 'hours': 2325, 'every': 1731, 'night': 3187, 'pick': 3468, 'if': 2365, 'any': 449, 'student': 4372, 'ever': 1729, 'permission': 3432, '2003': 148, 'bully': 843, 'broken': 820, 'assistant': 522, 'stopped': 4345, 'proud': 3662, 'son': 4233, 'toward': 4614, 'end': 1662, 'friends': 1983, 'be': 642, 'friendship': 1984, 'been': 658, 'long': 2788, 'time': 4580, 'amount': 407, 'examination': 1738, 'required': 3854, 'stomach': 4339, 'spread': 4282, 'according': 253, 'news': 3177, 'reports': 3843, 'during': 1567, 'summer': 4411, 'spent': 4269, 'much': 3101, 'online': 3282, 'particularly': 3377, 'services': 4098, 'did': 1449, 'tell': 4503, 'thinking': 4550, 'also': 382, 'one': 3279, 'occasion': 3241, 'ran': 3723, 'abc': 230, 'primetime': 3606, 'report': 3839, 'once': 3278, 'friend': 1981, 'popular': 3536, 'left': 2702, 'behind': 669, 'only': 3283, 'like': 2745, 'gain': 2004, 'personal': 3436, 'information': 2416, 'private': 3616, 'among': 404, 'it': 2479, 'girls': 2055, 'want': 4816, 'kill': 2605, 'myself': 3125, 'matter': 2929, 'record': 3769, 'discovered': 1474, 'boy': 782, 'screen': 4037, 'name': 3130, 'pen': 3412, 'pal': 3354, 'including': 2394, 'taught': 4479, 'them': 4532, 'themselves': 4536, 'shortly': 4141, 'killed': 2606, 'conversation': 1223, 'belief': 674, 'knew': 2618, 'until': 4705, 'third': 4551, 'away': 584, 'each': 1577, 'turned': 4666, 'negative': 3158, 'person': 3434, 'discussed': 1475, 'feel': 1836, 'suggested': 4406, 'way': 4834, 'writing': 4959, 'bad': 592, 'worst': 4947, 'possible': 3556, 'could': 1243, 'brought': 829, 'card': 907, 'dad': 1318, 'thought': 4559, 'responded': 3862, 'ryan': 3976, 'we': 4837, 'october': 3249, 'business': 855, 'trip': 4653, 'morning': 3077, 'members': 2967, 'sleeping': 4204, 'hanged': 2171, 'sister': 4183, 'no': 3192, 'note': 3216, 'computer': 1165, 'faces': 1783, 'same': 3992, 'befriended': 662, 'so': 4215, 'paper': 3360, 'house': 2326, 'reportedly': 3841, 'thing': 4547, 'speak': 4258, 'against': 321, 'contact': 1200, 'finding': 1883, 'fun': 1994, 'angry': 427, 'think': 4549, 'idea': 2360, 'pain': 3346, 'caused': 952, 'now': 3229, 'even': 1724, 'are': 477, 'your': 4984, 'believe': 675, 'cruel': 1293, 'don': 1507, 'heart': 2221, 'afterward': 318, 'broke': 819, 'repeatedly': 3832, 'what': 4866, 'charges': 995, 'there': 4539, 'circumstances': 1039, 'well': 4855, 'went': 4861, 'talked': 4469, 'use': 4715, 'something': 4230, 'dark': 1347, 'hard': 2176, 'copies': 1230, 'came': 878, 'under': 4690, 'showing': 4149, 'looking': 2794, 'threw': 4565, 'got': 2085, 'website': 4845, 'contains': 1202, 'soon': 4238, 'improve': 2387, 'schools': 4027, 'address': 293, 'prevention': 3596, 'given': 2058, 'various': 4733, 'states': 4311, 'effects': 1616, 'teens': 4498, 'policy': 3527, '2004': 149, 'adopted': 299, 'act': 264, '2005': 150, 'draft': 1526, 'submitted': 4387, 'teachers': 4485, 'others': 3316, 'depression': 1410, 'featured': 1830, 'television': 4502, 'program': 3638, 'entitled': 1688, 'growing': 2133, 'produced': 3623, '2008': 153, 'tv': 4670, 'boston': 770, 'distributed': 1484, 'pbs': 3403, 'shock': 4135, 'upon': 4710, 'saying': 4011, 'internet': 2449, 'trying': 4662, 'real': 3751, 'world': 4944, 'rise': 3909, 'addition': 290, 'presented': 3584, 'powerful': 3568, 'assembly': 518, 'many': 2883, 'across': 263, 'country': 1248, 'max': 2936, '2018': 163, 'stories': 4347, 'strength': 4357, 'hope': 2308, 'youth': 4985, 'supported': 4422, 'interview': 2452, 'today': 4589, 'changed': 983, 'creek': 1275, 'secondary': 4053, 'along': 379, 'street': 4355, '10': 4, 'bridge': 805, 'river': 3914, 'eric': 1699, 'david': 1356, 'harris': 2185, '1981': 120, 'kansas': 2573, 'both': 772, 'katherine': 2579, 'wayne': 4835, 'working': 4941, 'united': 4698, 'air': 338, 'force': 1929, 'pilot': 3478, 'move': 3092, '1983': 122, 'ohio': 3265, 'six': 4189, 'relocated': 3812, 'michigan': 2993, '1992': 132, 'retired': 3873, '1997': 137, 'english': 1673, 'class': 1059, 'assignment': 520, 'difficult': 1457, 'moving': 3097, 'most': 3084, 'memories': 2972, 'felt': 1843, 'alone': 378, 'lost': 2804, 'stop': 4344, 'added': 288, 'kids': 2603, 'often': 3263, 'appearance': 459, 'rented': 3829, 'area': 478, 'met': 2982, '1996': 136, 'purchased': 3684, 'settled': 4104, 'south': 4249, 'entered': 1681, '1995': 135, 'gone': 2079, 'through': 4569, 'major': 2863, 'september': 4086, '11': 6, 'thomas': 4555, 'studying': 4379, 'art': 496, 'quickly': 3699, '1971': 109, 'child': 1015, 'byron': 865, '1978': 116, 'initially': 2421, 'worked': 4938, 'engineering': 1671, 'financially': 1881, 'observed': 3238, 'keeping': 2587, 'maternal': 2926, 'grandfather': 2104, 'jewish': 2516, 'heritage': 2248, 'earlier': 1581, 'played': 3501, 'baseball': 626, 'ball': 598, 'brooks': 825, 'whom': 4879, 'since': 4174, 'near': 3152, 'bought': 774, 'finally': 1879, 'bus': 853, 'pair': 3352, 'introduced': 2456, 'lew': 2730, 'enlisted': 1675, 'marines': 2895, '2009': 154, 'earn': 1584, 'money': 3056, 'second': 4052, 'sent': 4083, 'unit': 4697, 'held': 2232, 'patrol': 3397, 'base': 625, 'apparent': 455, 'hanging': 2172, 'posted': 3559, 'final': 1877, 'directed': 1462, 'read': 3747, 'bye': 863, 'monster': 3061, 'thank': 4523, 'done': 1510, 'forever': 1935, 'launched': 2671, 'county': 1249, 'district': 1486, 'attorney': 548, 'frank': 1967, 'lasted': 2661, 'nine': 3191, 'included': 2392, 'phone': 3452, 'records': 3773, 'evidence': 1735, 'these': 4543, 'either': 1622, 'beyond': 707, 'concluded': 1172, 'resulted': 3870, 'worldwide': 4945, 'tim': 4579, 'tracy': 4621, 'interviewed': 2453, 'opportunity': 3298, 'promote': 3649, 'peace': 3404, 'show': 4146, 'stated': 4309, 'extremely': 1777, 'spending': 4268, 'song': 4234, 'hair': 2155, 'performance': 3420, 'festival': 1850, 'mgm': 2989, 'grand': 2102, 'hotel': 2323, 'las': 2658, 'vegas': 4736, 've': 4735, 'tonight': 4599, 'us': 4713, 'victim': 4748, 'bit': 733, 'sometimes': 4231, 'right': 3904, 'important': 2383, 'than': 4522, 'president': 3587, 'administration': 296, 'prevent': 3594, 'miss': 3034, 'monte': 3064, 'founded': 1955, 'bring': 812, 'known': 2624, 'actor': 273, 'noted': 3217, 'decision': 1380, 'come': 1124, 'publicly': 3676, 'light': 2743, 'clear': 1069, 'without': 4916, 'simply': 4170, 'enough': 1677, 'significant': 4161, 'contribution': 1215, 'road': 3918, 'complete': 1157, 'month': 3067, 'another': 442, 'teenager': 4497, 'reported': 3840, 'committed': 1145, 'reason': 3755, 'drawn': 1535, 'fox': 1961, 'referred': 3784, 'rivera': 3915, 'episode': 1693, 'adler': 295, 'tries': 4650, 'sexuality': 4113, 'saved': 4008, '25': 172, '2012': 157, 'michael': 2991, 'memorial': 2971, 'page': 3340, 'watching': 4832, 'profit': 3636, 'organization': 3307, 'day': 1359, 'double': 1517, 'meaning': 2952, 'word': 4934, 'american': 400, 'band': 603, 'donna': 1512, 'clips': 1078, 'speaking': 4259, 'video': 4753, 'youtube': 4986, 'pretty': 3593, 'enjoyed': 1674, 'dancing': 1335, 'adding': 289, 'occasionally': 3243, 'chair': 971, 'dance': 1332, 'elementary': 1634, 'accent': 244, 'efforts': 1618, 'severe': 4109, 'staff': 4290, 'include': 2391, 'provide': 3664, 'language': 2651, 'attempt': 540, '22': 169, '28': 177, '2014': 159, 'scheduled': 4021, 'account': 254, 'intention': 2441, 'decided': 1379, 'going': 2075, 'transition': 4633, 'successfully': 4397, 'happy': 2174, 'sound': 4245, 'find': 1882, 'loves': 2814, 'live': 2768, 'rest': 3866, 'lonely': 2787, 'wishes': 4912, 'woman': 4923, 'herself': 2254, 'winning': 4905, 'already': 381, 'need': 3156, 'get': 2044, 'gets': 2045, 'better': 703, 'true': 4658, 'why': 4881, 'killing': 2608, 'sorry': 4240, 'good': 2080, 'expressed': 1770, 'wish': 4911, 'donated': 1509, 'charity': 997, 'informed': 2417, 'sources': 4248, 'walking': 4804, '71': 211, 'semi': 4075, '30': 180, 'am': 391, 'exit': 1755, '48': 196, 'attracted': 549, 'views': 4761, 'miller': 3009, 'england': 1672, 'sisters': 4184, 'leigh': 2710, 'brooklyn': 824, 'los': 2800, 'angeles': 424, 'pursue': 3686, 'acting': 266, 'sea': 4044, '1998': 138, 'starring': 4303, 'scott': 4034, 'mini': 3019, 'appearing': 462, 'few': 1854, 'minor': 3026, 'roles': 3934, 'human': 2338, 'playing': 3505, 'younger': 4982, 'version': 4742, 'anthony': 445, 'hopkins': 2311, 'character': 991, 'identified': 2362, 'strongly': 4366, 'movie': 3095, 'black': 734, 'pass': 3386, 'white': 4874, 'extensively': 1774, 'four': 1958, 'portray': 3547, 'boxer': 780, 'cast': 940, 'network': 3169, 'prison': 3613, 'break': 795, 'engineer': 1670, 'created': 1267, 'lincoln': 2751, 'escape': 1705, 'row': 3960, 'guilty': 2142, 'crime': 1280, 'commit': 1144, 'upper': 4711, 'front': 1987, 'back': 589, 'arms': 484, 'special': 4260, 'earned': 1585, 'golden': 2077, 'globe': 2067, 'award': 580, 'nomination': 3198, 'dramatic': 1531, 'finished': 1887, 'seasons': 4049, 'season': 4048, 'released': 3807, 'carey': 912, 'videos': 4754, 'party': 3384, 'guest': 2138, 'together': 4591, 'interest': 2442, 'director': 1466, 'signed': 4160, 'direct': 1461, 'starred': 4301, 'premiere': 3577, 'victims': 4749, 'detective': 1429, '24': 171, 'resident': 3857, 'evil': 1736, 'commercially': 1140, 'successful': 4396, 'game': 2010, 'plays': 3506, 'chris': 1025, 'screenplay': 4038, 'uncle': 4688, 'charlie': 1000, 'july': 2562, 'announced': 439, 'superhero': 4419, 'recurring': 3778, 'leonard': 2717, 'captain': 903, 'cold': 1098, 'horror': 2313, 'room': 3946, 'pictures': 3472, '2020': 165, 'longer': 2789, 'interested': 2443, 'straight': 4350, 'participate': 3373, 'sixth': 4191, 'poverty': 3565, 'dropped': 1547, 'opening': 3290, 'independent': 2401, 'stand': 4294, '1990s': 130, 'saw': 4009, 'loved': 2811, 'riding': 3903, 'seventh': 4107, 'liberal': 2734, 'dedicated': 1384, 'professional': 3632, 'rarely': 3732, 'society': 4219, 'car': 906, 'duo': 1566, 'accident': 247, 'survived': 4434, 'causing': 954, 'off': 3253, 'jo': 2521, 'prefecture': 3574, 'founder': 1956, 'head': 2213, 'campaign': 884, 'domestic': 1506, 'violence': 4769, 'hundreds': 2342, 'women': 4924, 'residence': 3856, 'established': 1711, 'purpose': 3685, 'telling': 4504, 'knife': 2619, 'wife': 4887, 'dress': 1538, '000': 0, 'harlem': 2179, '2015': 160, 'effort': 1617, 'begin': 664, 'grant': 2109, 'change': 982, 'seen': 4066, 'revival': 3886, 'primarily': 3603, 'its': 2482, '2007': 152, 'hosting': 2320, 'awards': 582, 'previously': 3598, 'broadcast': 816, 'hosts': 2321, 'jane': 2495, 'letter': 2726, 'might': 2998, 'written': 4961, 'monthly': 3068, 'column': 1118, 'fast': 1817, 'ted': 4494, 'talk': 4468, 'foundation': 1954, 'text': 4521, 'line': 2755, 'free': 1972, 'multiple': 3103, 'management': 2876, 'staged': 4292, 'demanding': 1398, 'board': 747, 'directors': 1468, 'create': 1266, 'anti': 446, 'royal': 3962, 'australian': 563, 'navy': 3146, '1939': 73, 'war': 4819, 'ii': 2366, 'aboard': 235, 'hobart': 2281, 'witnessed': 4918, 'surrender': 4431, 'japanese': 2499, 'imperial': 2382, 'forces': 1931, 'tokyo': 4592, 'bay': 639, '1945': 80, 'officially': 3261, 'ending': 1664, 'pacific': 3338, 'insurance': 2438, 'salesman': 3988, '13': 8, 'daughters': 1354, '1969': 106, '1991': 131, 'eventually': 1728, 'becoming': 656, 'professor': 3634, 'served': 4096, '1984': 123, '1985': 124, 'distinguished': 1483, 'named': 3131, 'national': 3140, 'center': 963, 'study': 4378, 'washington': 4828, 'executive': 1748, 'position': 3553, 'elected': 1630, 'international': 2447, 'sciences': 4030, 'johns': 2530, 'medicine': 2958, 'fellow': 1842, 'psychological': 3670, 'research': 3855, 'brent': 801, 'western': 4864, 'institute': 2435, '1982': 121, 'post': 3558, 'pittsburgh': 3483, 'graduate': 2093, 'public': 3671, 'health': 2216, 'graduation': 2096, 'de': 1363, 'leo': 2716, 'system': 4457, 'italy': 2481, 'elderly': 1627, 'helped': 2237, 'start': 4305, 'italian': 2480, 'suicidal': 4407, '1986': 125, 'sunset': 4416, 'meeting': 2961, 'future': 2001, 'related': 3800, 'conditions': 1175, 'quality': 3690, 'collaboration': 1101, 'headquarters': 2215, 'european': 1719, 'office': 3257, 'studied': 4374, 'jenkins': 2507, 'project': 3642, 'develop': 1432, 'centre': 965, '1988': 127, '2001': 146, 'vietnam': 4757, 'brazil': 793, 'africa': 314, 'india': 2402, 'demonstrated': 1400, 'celebrated': 958, '2006': 151, 'newly': 3175, 'griffith': 2127, 'launch': 2670, 'risk': 3911, 'involved': 2463, 'countries': 1247, 'chapter': 990, 'self': 4070, 'blue': 744, 'recording': 3771, 'fatal': 1819, 'behavior': 668, 'education': 1608, 'studies': 4375, 'agency': 325, 'opened': 3289, 'promotion': 3652, 'zealand': 4990, 'fund': 1995, 'telephone': 4501, 'sudden': 4400, 'carried': 925, 'developing': 1434, 'community': 1150, 'west': 4863, 'virginia': 4773, 'honorary': 2301, 'council': 1245, 'outbreak': 3321, 'tragic': 4627, 'effect': 1613, 'rather': 3736, 'form': 1938, 'french': 1976, 'nationalist': 3141, 'propaganda': 3655, 'followed': 1918, 'actively': 270, 'give': 2057, 'combined': 1123, 'background': 590, 'natural': 3143, 'target': 4477, 'seriously': 4094, 'trained': 4630, 'andr': 418, '1915': 47, 'loss': 2803, 'recovered': 3775, 'decade': 1376, 'rose': 3951, 'sense': 4082, 'shared': 4122, 'cultural': 1303, 'religious': 3811, 'suffering': 4404, 'vision': 4776, 'changes': 984, 'treated': 4642, 'continuing': 1210, 'dr': 1524, 'edwin': 1612, 'changing': 985, '1950s': 86, 'men': 2974, 'hospital': 2316, 'conducted': 1176, 'emergency': 1646, 'revealed': 3882, 'follow': 1917, 'creation': 1269, 'problems': 3620, 'beginning': 665, 'hiv': 2279, 'aids': 335, 'influenced': 2414, 'issues': 2478, 'remained': 3816, 'associate': 524, 'book': 761, 'problem': 3619, 'subsequent': 4389, 'claim': 1049, 'key': 2599, 'published': 3678, 'peer': 3410, 'journal': 2546, 'kelly': 2589, 'johnson': 2531, 'officer': 3258, 'london': 2785, 'hired': 2270, 'homicide': 2296, 'subsequently': 4390, 'groups': 2132, 'invited': 2462, 'critical': 1284, 'should': 4145, 'officers': 3259, 'hosted': 2319, 'recent': 3763, 'whether': 4870, 'nash': 3137, 'autopsy': 573, 'lester': 2724, '1967': 104, 'late': 2663, '1940s': 75, 'mystery': 3128, 'notes': 3218, 'collected': 1104, 'subjects': 4386, 'writings': 4960, '1957': 93, '1958': 94, 'norman': 3207, 'robert': 3920, 'acted': 265, '1966': 103, 'chief': 1014, 'establish': 1710, '100': 5, '40': 192, '1968': 105, 'current': 1309, 'jonathan': 2540, 'singer': 4177, 'ideas': 2361, 'funds': 1996, 'programs': 3640, 'recently': 3764, 'treatment': 4643, 'associated': 525, 'drugs': 1549, '1970': 107, 'ucla': 4683, 'write': 4955, 'mentor': 2977, 'throughout': 4570, 'marie': 2892, 'modeling': 3047, 'baby': 586, 'performing': 3425, 'lot': 2805, 'convinced': 1225, 'selected': 4069, 'reality': 3752, 'bachelor': 588, 'wings': 4903, 'aired': 339, 'placed': 3485, 'jake': 2491, 'afterwards': 319, 'ghost': 2047, 'trek': 4645, 'comedy': 1130, 'admitted': 298, 'orleans': 3312, 'attempted': 541, 'tribute': 4648, 'funeral': 1997, 'grace': 2089, 'christian': 1026, 'chelsea': 1008, 'neighborhood': 3161, 'nelson': 3165, 'hollywood': 2289, '1964': 101, 'appearances': 460, 'demand': 1396, '1960s': 97, '1970s': 108, 'dream': 1536, 'daniel': 1340, 'boone': 763, 'sons': 4237, 'heroes': 2251, 'style': 4383, 'wonder': 4926, 'boat': 749, 'eddie': 1596, 'feature': 1829, 'tall': 4473, '1973': 111, 'characters': 992, 'portrayed': 3549, 'seemed': 4064, 'sweet': 4446, 'perhaps': 3427, 'lee': 2700, 'daytime': 1361, 'serial': 4090, 'our': 3319, 'lives': 2771, '1979': 117, 'wound': 4951, 'mary': 2915, 'kay': 2582, 'bergman': 692, '1961': 98, 'musicians': 3117, 'dave': 1355, 'patricia': 3395, 'paris': 3367, 'pat': 3392, 'singing': 4179, 'clubs': 1088, 'reno': 3828, 'pregnant': 3576, 'le': 2686, 'conte': 1203, 'top': 4603, 'academic': 242, 'honors': 2303, 'carol': 920, 'getting': 2046, 'outside': 3326, 'leave': 2696, 'having': 2202, 'america': 399, 'job': 2523, 'commented': 1138, 'kept': 2595, 'hearing': 2220, 'voice': 4788, 'workers': 4940, 'someone': 4228, 'machine': 2841, 'wild': 4890, 'using': 4717, 'different': 1456, 'voices': 4790, 'guests': 2139, 'coach': 1090, 'teacher': 4484, 'styles': 4384, 'animation': 431, 'commercial': 1139, 'radio': 3712, 'small': 4207, 'security': 4059, 'station': 4313, 'disney': 1478, 'agreed': 331, 'accept': 245, 'jobs': 2524, 'plans': 3492, 'original': 3309, 'female': 1844, 'bigger': 711, '1999': 139, 'marsh': 2907, 'wendy': 4860, 'originally': 3310, 'credited': 1273, 'cassidy': 939, 'taken': 4460, 'stars': 4304, 'regarding': 3789, 'official': 3260, 'snow': 4214, 'none': 3201, 'hit': 2275, 'anyone': 450, 'tells': 4505, 'santa': 4001, 'doing': 1500, 'shows': 4151, 'laughing': 2669, 'episodes': 1694, 'space': 4253, 'recorded': 3770, 'dialogue': 1441, 'mr': 3098, 'classics': 1063, 'used': 4716, 'via': 4746, 'footage': 1926, 'memory': 2973, 'commercials': 1141, 'mrs': 3099, 'beauty': 649, 'beast': 645, 'dame': 1328, 'posthumously': 3561, 'toy': 4618, 'additional': 291, 'games': 2011, 'curse': 1312, 'monkey': 3058, 'island': 2474, 'jay': 2501, 'plane': 3488, 'oh': 3264, 'cartoons': 933, 'fairly': 1793, 'animated': 430, 'spider': 4270, 'voiced': 4789, 'blake': 735, 'witch': 4913, '2000': 145, 'release': 3806, 'wolf': 4921, 'vocals': 4787, 'al': 345, 'fly': 1910, 'alongside': 380, 'sing': 4175, 'whole': 4878, 'agent': 326, 'wouldn': 4950, 'trouble': 4656, 'kind': 2610, 'instead': 2434, 'wasn': 4829, 'fran': 1962, 'part': 3372, 'hear': 2218, 'does': 1497, 'diagnosed': 1440, 'cancer': 892, 'afraid': 313, 'losing': 2802, 'talent': 4464, 'sessions': 4100, 'concerned': 1169, 'anniversary': 438, 'alive': 364, 'talking': 4472, 'hour': 2324, '20': 143, 'minutes': 3028, 'bell': 678, 'bird': 727, '26': 175, 'elder': 1626, 'brothers': 828, 'fled': 1899, 'times': 4581, 'put': 3688, 'institution': 2436, 'columnist': 1119, 'dick': 1447, 'photographer': 3456, 'clara': 1055, 'delivered': 1395, 'whose': 4880, 'ship': 4132, 'wealthy': 4838, 'nearby': 3153, 'present': 3583, 'stage': 4291, 'birth': 730, 'actually': 279, 'newspaper': 3178, 'daily': 1322, 'hong': 2299, 'kong': 2625, 'command': 1135, 'sothern': 4242, 'production': 3628, 'richard': 3896, '1900': 32, 'capucine': 905, 'ne': 3150, '1928': 61, 'saint': 3983, 'france': 1963, '17': 13, 'noticed': 3221, 'flower': 1908, 'fashion': 1816, 'audrey': 557, 'hepburn': 2242, 'close': 1080, 'debut': 1374, 'jean': 2503, 'eagle': 1579, '1948': 83, 'jacques': 2488, 'becker': 653, '1949': 84, 'crazy': 1265, '1950': 85, 'bernard': 696, 'lion': 2759, '1951': 87, '1955': 91, 'charles': 998, 'spotted': 4281, 'contract': 1211, '150': 11, 'week': 4847, 'gregory': 2123, 'seven': 4106, 'rio': 3908, '1959': 95, 'landed': 2645, '1960': 96, 'biopic': 726, 'teach': 4483, 'nobody': 3194, 'princess': 3608, 'camera': 880, 'must': 3119, 'nominated': 3197, 'north': 3208, 'mind': 3017, '20th': 167, 'century': 966, 'prostitute': 3659, 'becomes': 655, 'henry': 2241, 'hathaway': 2196, 'box': 779, 'returned': 3877, 'europe': 1718, 'sequel': 4087, 'billing': 718, 'walk': 4801, 'side': 4155, '1962': 99, 'laurence': 2675, 'harvey': 2193, 'cut': 1315, 'holden': 2285, 'filming': 1874, 'romance': 3938, 'romantic': 3940, 'relationship': 3802, 'loyal': 2819, 'professionally': 3633, 'neither': 3164, 'happened': 2173, 'switzerland': 4450, 'edwards': 1611, 'pink': 3479, 'affair': 310, 'thief': 4545, 'huge': 2333, 'reunited': 3881, 'dawn': 1358, 'disappointment': 1471, '1965': 102, 'sellers': 4072, 'peter': 3442, 'far': 1810, 'filmed': 1873, 'entirely': 1687, 'sex': 4111, 'queens': 3694, 'former': 1942, 'lead': 2687, 'spanish': 4256, 'thriller': 4566, 'supporting': 4423, 'thousand': 4561, 'ships': 4133, 'too': 4601, 'magazine': 2854, 'didn': 1450, 'elegant': 1633, 'see': 4060, 'anything': 451, 'else': 1641, 'venice': 4738, 'teeth': 4500, 'horse': 2314, 'beautiful': 648, 'horses': 2315, 'red': 3779, 'sun': 4413, 'paul': 3398, '1975': 113, 'burton': 852, 'ultimately': 4685, 'abandoned': 228, 'ma': 2838, '16': 12, 'la': 2631, '1976': 114, 'con': 1166, 'artists': 503, 'per': 3417, '1977': 115, 'hell': 2234, 'victory': 4752, 'tales': 4467, 'adventure': 304, 'martin': 2912, 'express': 1769, 'les': 2719, 'trail': 4628, 'di': 1439, 'honor': 2300, '1987': 126, 'forty': 1948, 'un': 4686, '1990': 129, 'march': 2886, '62': 204, 'jumped': 2563, 'eighth': 1621, 'floor': 1904, 'apartment': 453, 'dalida': 1325, 'cairo': 871, 'kingdom': 2612, 'egypt': 1619, '1933': 67, '1904': 36, 'unable': 4687, 'hometown': 2295, 'couple': 1250, '1930': 63, '1936': 70, 'status': 4316, 'opera': 3291, 'caught': 949, 'eye': 1778, 'wear': 4840, 'violin': 4771, 'underwent': 4693, 'operations': 3294, 'ages': 328, 'recalled': 3759, 'window': 4901, 'maria': 2891, 'catholic': 947, 'located': 2779, 'northern': 3209, '1940': 74, 'allied': 371, 'quarter': 3691, 'camp': 883, 'desert': 1418, '1944': 79, 'completely': 1159, 'violent': 4770, 'beat': 646, 'especially': 1706, 'die': 1451, 'twelve': 4671, 'brain': 789, 'search': 4046, 'male': 2870, 'partner': 3380, 'teen': 4495, 'cinema': 1035, 'participated': 3374, 'performances': 3421, 'copy': 1231, 'searching': 4047, 'breakthrough': 798, 'thereafter': 4540, 'miranda': 3030, 'pageant': 3341, 'election': 1631, 'doors': 1514, 'mask': 2917, '1954': 90, 'leading': 2689, 'glass': 2063, 'try': 4661, 'roland': 3932, 'lessons': 2723, 'low': 2816, 'price': 3600, 'contest': 1206, 'competition': 1155, 'owner': 3335, 'largest': 2656, 'producing': 3626, 'artistic': 502, 'bar': 611, 'olympia': 3274, 'evening': 1725, 'watch': 4830, 'attend': 543, 'won': 4925, 'meet': 2960, 'accepted': 246, 'building': 841, 'corner': 1232, 'audition': 555, 'responsible': 3865, 'concerts': 1171, 'tour': 4610, 'ep': 1691, 'songs': 4235, 'single': 4180, 'receiving': 3762, 'previous': 3597, 'recordings': 3772, 'heavily': 2225, 'title': 4584, 'album': 349, 'issued': 2477, '27': 176, 'concert': 1170, 'widely': 4884, 'fell': 1841, 'frequently': 1978, 'belgium': 673, 'heard': 2219, 'du': 1553, 'studios': 4377, 'immediately': 2379, 'asking': 515, 'passing': 3389, 'available': 575, 'spy': 4285, 'des': 1414, 'movies': 3096, 'respectively': 3861, 'promoted': 3650, 'latest': 2665, 'releases': 3808, 'moment': 3053, 'peaked': 3406, 'charts': 1004, 'winter': 4906, 'proved': 3663, 'holiday': 2287, 'promoting': 3651, 'themed': 4534, 'toured': 4611, 'sold': 4221, 'germany': 2041, 'studio': 4376, 'period': 3428, 'languages': 2652, 'german': 2040, 'der': 1412, 'ten': 4509, 'earning': 1586, 'gold': 2076, 'selling': 4073, 'course': 1251, 'hits': 2278, 'notably': 3215, 'et': 1714, 'awarded': 581, 'oscar': 3314, 'musical': 3114, 'artist': 501, 'debuted': 1375, 'chart': 1003, 'win': 4899, 'austria': 564, 'save': 4007, 'reached': 3745, 'biggest': 712, 'palace': 3355, 'completed': 1158, 'equivalent': 1696, 'scored': 4032, 'internationally': 2448, 'such': 4399, 'popularity': 3537, 'authorities': 568, 'interrupted': 2451, 'rendition': 3827, 'considered': 1193, 'political': 3529, 'string': 4360, 'critically': 1285, 'plus': 3511, 'paid': 3344, 'fully': 1993, '1963': 100, 'greatest': 2115, 'swing': 4447, 'poland': 3525, 'asia': 511, 'latin': 2666, 'appear': 458, 'independence': 2400, 'del': 1392, 'leg': 2703, 'traveled': 4637, 'run': 3966, '200': 144, 'iconic': 2357, 'crowd': 1291, 'recognized': 3767, 'en': 1660, 'poorly': 3534, 'entering': 1682, 'twenty': 4673, 'finishing': 1888, 'pop': 3535, 'ballad': 599, 'genre': 2036, 'refusing': 3787, '65': 207, 'cover': 1254, 'rita': 3912, 'gained': 2005, 'greek': 2118, 'power': 3567, 'format': 1940, 'reaching': 3746, 'date': 1351, 'marked': 2898, 'extensive': 1773, '31': 182, 'mama': 2872, 'returning': 3878, 'tom': 4594, 'jones': 2541, 'green': 2119, 'premiered': 3578, 'towards': 4615, 'lyrics': 2837, 'competing': 1154, 'dan': 1330, 'millions': 3013, 'fair': 1791, 'hall': 2159, 'medal': 2955, 'republic': 3849, 'general': 2032, 'giving': 2060, 'great': 2113, 'remains': 3818, 'receive': 3760, 'event': 1726, 'citizen': 1045, 'less': 2722, 'autumn': 574, 'planning': 3491, 'vehicle': 4737, 'control': 1217, 'output': 3325, 'label': 2632, 'intended': 2440, 'big': 710, 'comeback': 1125, 'refused': 3786, 'produce': 3622, '1972': 110, 'choose': 1021, 'value': 4727, 'attention': 546, 'traveling': 4638, 'duet': 1560, 'longtime': 2791, 'que': 3692, 'es': 1704, 'belle': 680, 'nothing': 3219, 'signature': 4159, 'track': 4619, 'sick': 4154, 'writer': 4956, 'mentioned': 2976, 'gaining': 2006, '1974': 112, 'triumph': 4654, 'critics': 1288, 'touring': 4612, 'sales': 3987, 'singles': 4181, 'material': 2925, 'except': 1742, 'variety': 4732, 'increasing': 2397, 'making': 2869, 'weekly': 4849, 'basis': 630, 'mid': 2995, 'notable': 3214, 'albums': 350, 'translated': 4634, 'folk': 1915, 'nation': 3139, 'usa': 4714, 'nights': 3189, 'carnegie': 918, 'review': 3884, 'praised': 3572, 'personality': 3437, 'audience': 552, 'citizens': 1046, 'nevertheless': 3172, 'offered': 3255, 'obsessed': 3239, 'fan': 1807, 'tried': 4649, 'hammer': 2164, 'monday': 3055, 'smash': 4210, 'wilson': 4898, 'upcoming': 4708, 'sports': 4279, '1980': 118, 'total': 4607, 'fifteen': 1861, 'costume': 1239, '90': 223, 'organized': 3308, 'eastern': 1589, 'cities': 1043, 'reflected': 3785, 'deep': 1386, 'typical': 4681, '1980s': 119, 'st': 4289, 'remembered': 3823, 'gave': 2027, 'diamond': 1442, 'recognition': 3766, '45': 195, 'million': 3011, 'replaced': 3835, 'sang': 4000, 'cup': 1307, 'singers': 4178, 'tracks': 4620, 'collection': 1105, 'mainly': 2860, 'id': 2358, 'highly': 2263, 'rated': 3734, 'includes': 2393, 'wearing': 4841, 'era': 1698, 'hold': 2284, 'lights': 2744, 'george': 2037, 'eyes': 1779, 'grandmother': 2105, 'temporarily': 4508, 'devoted': 1438, 'failed': 1788, 'therefore': 4541, 'amazing': 394, 'glamorous': 2062, 'east': 1588, 'place': 3484, '29': 178, 'channel': 986, 'jewelry': 2515, 'gate': 2025, 'san': 3996, 'francisco': 1966, '1941': 76, 'design': 1419, 'chicago': 1013, 'illinois': 2369, 'metal': 2983, 'guild': 2141, 'port': 3541, 'wales': 4800, 'emily': 1649, 'stevenson': 4331, 'will': 4894, 'dated': 1352, '1922': 55, 'divorced': 1489, 'custody': 1314, 'desire': 1424, 'emigrated': 1648, 'liverpool': 2770, '1916': 48, '1932': 66, 'below': 682, 'sign': 4158, 'looked': 2793, 'mountain': 3089, 'laid': 2639, 'canyon': 898, 'connected': 1183, 'absence': 240, 'newspapers': 3179, 'cause': 951, 'listed': 2763, 'coroner': 1233, 'coward': 1257, 'everything': 1734, 'ago': 330, 'wide': 4883, 'publicity': 3674, 'market': 2899, 'thirteen': 4552, 'outdoor': 3322, 'food': 1924, 'dolores': 1505, 'faith': 1795, 'cleveland': 1072, 'hungarian': 2343, 'descent': 1415, 'alexander': 356, 'hamilton': 2162, 'club': 1087, 'instructor': 2437, 'probably': 3618, 'budget': 838, 'science': 4029, 'fiction': 1857, 'phantom': 3444, 'planet': 3489, 'mutiny': 3120, 'outer': 3323, 'dramas': 1530, 'hero': 2250, 'mistress': 3040, 'manager': 2877, 'gun': 2146, 'travel': 4636, 'missing': 3035, 'miami': 2990, 'florida': 1907, 'worth': 4948, 'author': 566, 'neighbor': 3160, 'confirmed': 1179, 'gordon': 2082, 'oxford': 3336, 'susan': 4436, 'kate': 2577, 'visited': 4778, 'clothes': 1084, 'exhibition': 1752, 'covers': 1256, 'sarah': 4002, 'reporter': 3842, 'jennifer': 2509, 'songwriter': 4236, 'cannes': 895, 'flat': 1898, 'birthday': 731, 'estate': 1712, 'buried': 845, 'cemetery': 962, 'hale': 2157, 'dorothy': 1516, 'sculpture': 4042, 'millionaire': 3012, 'brief': 807, 'marriage': 2903, 'divorce': 1488, 'gardner': 2017, '1894': 24, '1931': 65, '1927': 60, 'mural': 3105, 'portrait': 3545, 'creative': 1270, 'expensive': 1759, 'coast': 1092, 'limited': 2749, 'stock': 4336, 'companies': 1151, 'dancer': 1334, 'ziegfeld': 4995, 'farewell': 1811, 'theater': 4526, 'large': 2653, '21': 168, 'apparently': 456, 'taking': 4462, 'advice': 308, '1938': 72, 'favorite': 1824, 'madame': 2849, 'femme': 1846, 'fatale': 1820, 'yellow': 4974, 'though': 4558, 'fuller': 1992, 'remember': 3822, 'realized': 3753, 'false': 1801, 'mexican': 2987, 'commissioned': 1143, 'paint': 3347, 'mutual': 3121, 'forgotten': 1937, 'graphic': 2110, 'step': 4323, 'standing': 4296, 'falling': 1799, 'phoenix': 3451, 'museum': 3112, 'painting': 3350, 'exhibitions': 1753, 'works': 4942, 'view': 4758, 'depressed': 1409, 'injuries': 2423, 'auto': 570, 'overdose': 3329, 'pills': 3477, 'elizabeth': 1637, 'hartman': 2191, '1943': 78, 'playhouse': 3504, 'productions': 3629, 'everybody': 1732, 'castle': 942, 'producers': 3625, 'notice': 3220, 'tested': 4519, 'metro': 2985, 'goldwyn': 2078, 'mayer': 2939, 'warner': 4822, 'hara': 2175, 'valley': 4725, 'famous': 1806, 'actresses': 276, 'mark': 2897, 'winner': 4904, 'duke': 1563, 'broadway': 818, 'legend': 2707, 'geraldine': 2039, 'louise': 2808, 'hemingway': 2239, 'portland': 3543, 'oregon': 3305, 'jack': 2484, 'eldest': 1628, 'ernest': 1700, 'conceived': 1167, 'spelling': 4265, 'match': 2924, 'joan': 2522, 'childhood': 1016, 'cuba': 1300, 'teenage': 4496, 'alcoholism': 353, 'feet': 1839, 'dollar': 1502, 'relations': 3801, 'global': 2066, 'celebrity': 960, 'property': 3656, 'skills': 4198, 'height': 2229, 'regular': 3794, 'exclusive': 1745, '54': 200, 'celebrities': 959, 'jagger': 2489, 'liza': 2773, 'minnelli': 3024, 'andy': 421, 'alcohol': 351, 'revenge': 3883, 'anne': 436, 'bancroft': 602, 'cult': 1302, 'opposite': 3299, 'karen': 2574, 'call': 873, 'bruce': 832, 'elliott': 1640, 'winters': 4907, 'pounds': 3564, 'nearly': 3154, 'increasingly': 2398, 'betty': 704, 'ford': 1932, 'playboy': 3500, 'nude': 3230, 'photos': 3460, 'owned': 3334, 'cousin': 1253, 'host': 2318, 'guide': 2140, 'monica': 3057, 'badly': 593, 'interred': 2450, 'plot': 3510, 'lloyd': 2775, 'cincinnati': 1034, 'lawyer': 2684, 'alfred': 358, 'rachel': 3709, 'florence': 1906, 'marion': 2896, 'ross': 3952, 'spoke': 4276, 'tired': 4583, 'god': 2072, 'khan': 2601, 'ali': 359, 'indian': 2403, 'businessman': 856, 'level': 2728, 'theatre': 4528, 'quit': 3704, 'mature': 2931, 'remake': 3819, 'highest': 2262, 'grossing': 2129, 'chance': 979, 'ken': 2590, 'friendly': 1982, 'replacement': 3836, 'hand': 2168, 'pm': 3512, 'allegedly': 368, 'boyfriend': 784, 'process': 3621, 'jason': 2500, 'payne': 3402, 'james': 2492, 'neck': 3155, 'sexual': 4112, 'charged': 994, '1937': 71, 'mar': 2884, 'el': 1623, 'tin': 4582, 'achieved': 257, 'stardom': 4300, 'fame': 1802, 'luis': 2830, 'carmen': 917, 'lez': 2732, 'emotional': 1653, 'lack': 2634, 'point': 3521, 'silver': 4164, 'honored': 2302, 'landis': 2647, '1919': 51, 'wisconsin': 4909, 'polish': 3528, 'norwegian': 3212, 'railroad': 3715, '1923': 56, 'extra': 1775, 'operas': 3292, 'usually': 4720, 'dubbed': 1554, 'twentieth': 4672, 'darryl': 1350, 'zanuck': 4988, 'grable': 2088, 'moon': 3070, 'britain': 814, '1942': 77, 'comedian': 1126, 'martha': 2910, 'francis': 1965, 'uso': 4718, 'troupe': 4657, 'soldiers': 4223, 'benny': 690, 'reluctant': 3813, 'visit': 4777, 'wounded': 4952, 'displayed': 1480, 'families': 1804, 'miles': 3005, 'visiting': 4779, 'troops': 4655, 'says': 4012, 'novelist': 3226, 'novel': 3225, 'articles': 499, 'experiences': 1762, 'victor': 4750, 'herman': 2249, 'cartoon': 931, 'harrison': 2186, 'drive': 1542, 'afternoon': 317, 'maid': 2858, 'vine': 4768, 'helen': 2233, 'fleming': 1901, 'keep': 2586, 'nor': 3203, 'stay': 4317, 'picture': 3471, 'impression': 2386, 'seeing': 4061, 'selznick': 4074, 'neill': 3163, 'hugh': 2334, 'herbert': 2246, 'barbara': 613, 'bel': 671, 'king': 2611, 'friday': 1980, '1953': 89, 'reprise': 3847, 'otto': 3318, 'preminger': 3579, 'adaptation': 284, 'controversial': 1219, 'themes': 4535, 'virgin': 4772, 'generally': 2033, 'biographical': 724, 'prince': 3607, 'players': 3503, 'attributed': 550, 'shots': 4144, 'expected': 1758, 'memoir': 2968, 'maggie': 2856, 'greatly': 2116, 'wrong': 4962, 'nervous': 3167, 'breakdown': 796, 'remainder': 3815, 'stanley': 4297, 'sin': 4172, 'paramount': 3364, 'karl': 2575, 'lover': 2812, 'marlon': 2901, 'brando': 792, 'delayed': 1393, 'screenwriter': 4039, 'sam': 3991, 'finish': 1886, 'directing': 1463, 'positive': 3555, 'prize': 3617, 'reviews': 3885, 'mixed': 3044, 'lang': 2649, 'reach': 3744, 'theaters': 4527, 'foreign': 1933, 'spring': 4283, 'fugitive': 1990, 'smoke': 4212, 'hitchcock': 2276, 'juan': 2553, 'diaz': 1446, 'ray': 3739, 'bradbury': 787, 'aged': 324, 'figure': 1867, 'gertrude': 2043, 'pennsylvania': 3413, 'governor': 2087, '1918': 50, 'ocean': 3248, 'nun': 3234, 'runs': 3969, 'convent': 1221, 'miracle': 3029, 'considerable': 1192, 'press': 3590, 'shakespeare': 4118, '1935': 69, 'musketeers': 3118, 'queen': 3693, 'cook': 1227, 'seat': 4050, 'wedding': 4846, 'plato': 3498, 'dana': 1331, 'linda': 2752, 'dean': 1368, 'fernando': 1848, 'marilyn': 2893, 'todd': 4590, 'bridges': 806, 'drug': 1548, 'drinking': 1541, 'sandra': 3998, 'uncredited': 4689, 'joe': 2525, 'accomplished': 252, 'olympic': 3275, 'spot': 4280, 'land': 2644, 'nominations': 3199, 'majority': 2864, 'content': 1205, 'actors': 274, 'serious': 4093, 'breast': 799, 'bikini': 713, 'beach': 643, 'race': 3708, 'cowboy': 1258, 'chose': 1023, 'erotic': 1702, 'prime': 3605, 'softcore': 4220, 'jill': 2518, 'past': 3391, 'lesbian': 2720, 'lifestyle': 2741, 'boulevard': 775, 'appears': 463, 'silent': 4163, 'emma': 1650, 'oklahoma': 3267, 'titled': 4585, 'focused': 1914, 'unknown': 4702, 'cameo': 879, 'marvel': 2913, 'mae': 2853, '1910': 42, 'joining': 2534, 'keystone': 2600, 'sennett': 4081, 'bathing': 634, 'enter': 1680, 'crest': 1278, 'certificate': 969, 'munich': 3104, 'iowa': 2465, 'edward': 1610, 'paternal': 3393, 'carlson': 916, 'arrived': 493, 'surname': 4428, 'water': 4833, 'sweden': 4444, 'eight': 1620, 'junior': 2567, 'arts': 504, 'disappeared': 1470, 'gary': 2023, 'conference': 1177, 'fbi': 1827, 'stevens': 4330, 'stockholm': 4337, 'burlesque': 847, 'fire': 1889, 'bing': 721, 'crosby': 1289, 'harry': 2188, 'devil': 1436, 'bonanza': 757, 'route': 3957, '66': 208, 'twilight': 4675, 'zone': 4998, 'cancellation': 890, 'walter': 4812, 'em': 1644, 'clint': 1076, 'eastwood': 1590, 'mitchum': 3042, 'fonda': 1921, 'deadly': 1365, 'companion': 1152, 'kitchen': 2617, 'hills': 2266, 'spoken': 4277, 'arrival': 492, 'removed': 3824, 'fresh': 1979, 'blood': 741, 'acute': 280, 'poisoning': 3524, 'taylor': 4481, 'fake': 1796, 'goodbye': 2081, 'luck': 2824, 'marry': 2905, 'inquest': 2427, 'despite': 1426, 'avoid': 579, 'authors': 569, 'speculated': 4262, 'culture': 1304, 'contemporary': 1204, 'moral': 3073, 'convention': 1222, 'seems': 4065, 'exhibited': 1751, 'extreme': 1776, 'monroe': 3060, 'johnny': 2529, 'recounted': 3774, 'events': 1727, 'beverly': 706, 'anderson': 416, 'arranged': 489, 'dressed': 1539, 'possibly': 3557, 'cooper': 1228, 'kenneth': 2592, 'anger': 426, 'bed': 657, 'mix': 3043, 'ill': 2368, 'fact': 1784, 'repeated': 3831, 'comedic': 1128, 'biographer': 723, 'points': 3522, 'virtually': 4775, 'impossible': 2384, 'likely': 2747, 'debbie': 1372, 'booth': 764, 'weems': 4851, 'houston': 2328, 'texas': 4520, 'benjamin': 688, 'half': 2158, 'town': 4617, 'annie': 437, 'worker': 4939, 'smaller': 4208, '68': 209, '70': 210, 'captured': 904, 'carnival': 919, 'player': 3502, 'daisy': 1323, 'sally': 3989, 'cato': 948, 'mame': 2873, 'departure': 1406, 'assumed': 528, 'cbs': 955, 'wonderland': 4928, 'article': 498, 'edition': 1602, 'ability': 233, 'tenure': 4511, 'lines': 2757, 'believed': 676, 'connecticut': 1184, 'nature': 3144, 'noon': 3202, 'saturday': 4005, 'surrounded': 4432, 'allan': 366, 'goddard': 2073, 'foster': 1951, 'julia': 2558, 'simple': 4169, 'causes': 953, 'indeed': 2399, 'briefly': 808, 'lane': 2648, 'ends': 1665, '50': 197, 'partnership': 3382, 'fee': 1835, 'comes': 1131, 'uk': 4684, 'financial': 1880, 'pay': 3401, '500': 198, 'supposed': 4424, 'feeling': 1837, 'partners': 3381, 'meets': 2962, 'lie': 2737, 'bear': 644, 'loan': 2776, 'makes': 2867, 'actions': 268, 'trust': 4659, 'gives': 2059, 'weekend': 4848, 'rebecca': 3757, 'situation': 4188, 'affairs': 311, 'attempts': 542, 'usual': 4719, 'duties': 1570, 'pete': 3441, 'campbell': 885, 'send': 4078, 'claiming': 1051, 'gas': 2024, 'roger': 3930, 'bert': 698, 'everyone': 1733, 'particular': 3376, 'stolen': 4338, 'besides': 699, 'action': 267, 'failure': 1790, 'occurred': 3247, 'meant': 2954, 'employed': 1657, 'claims': 1052, 'photo': 3453, 'adam': 282, 'fate': 1821, 'japan': 2498, 'ex': 1737, 'samurai': 3995, 'ministry': 3022, 'mission': 3036, 'prestigious': 3591, 'faculty': 1787, '1901': 33, 'stint': 4335, '1903': 35, 'obtained': 3240, 'harvard': 2192, 'journey': 2549, 'diary': 1445, 'writers': 4957, 'walt': 4811, 'whitman': 4875, 'resulting': 3871, 'feelings': 1838, '1907': 39, '1909': 41, 'alma': 376, 'surviving': 4435, 'tradition': 4624, 'heir': 2231, 'politics': 3530, 'rain': 3717, 'bodies': 752, 'grave': 2111, 'emperor': 1654, 'suddenly': 4401, 'commander': 1136, 'armed': 483, 'empress': 1659, 'dowager': 1520, 'wang': 4814, 'surprise': 4429, 'nephew': 3166, 'transferred': 4632, 'guard': 2135, 'ordered': 3304, 'secretary': 4056, 'failing': 1789, 'sure': 4426, 'entire': 1686, 'clan': 1054, 'modern': 3049, 'declined': 1383, 'hip': 2269, 'sir': 4182, '85': 220, 'rich': 3895, 'involvement': 2464, 'native': 3142, 'industrial': 2409, '1930s': 64, 'field': 1859, 'dozens': 1523, 'products': 3630, 'raymond': 3740, 'applied': 465, 'common': 1147, 'approach': 469, 'designer': 1421, 'fields': 1860, 'theatrical': 4530, '1920': 52, '1929': 62, 'firm': 1891, 'associates': 526, 'decades': 1377, 'doris': 1515, 'running': 3968, 'pasadena': 3385, 'ernst': 1701, 'grandparents': 2106, 'victoria': 4751, 'siblings': 4153, 'forced': 1930, 'revolution': 3888, 'throne': 4568, 'crown': 1292, 'von': 4792, 'vienna': 4756, 'wood': 4930, 'strong': 4365, 'rising': 3910, 'cole': 1099, 'swiss': 4448, 'editor': 1604, '1946': 81, 'journalist': 2548, 'pseudonym': 3669, 'recruited': 3777, 'activities': 271, 'questions': 3697, 'experience': 1760, 'individual': 2407, 'formed': 1941, 'books': 762, 'austrian': 565, '1881': 16, 'struggle': 4368, 'essays': 1708, 'literary': 2764, 'legacy': 2704, 'papers': 3361, 'certain': 968, 'poison': 3523, 'linder': 2753, 'gabriel': 2003, 'baron': 617, 'maurice': 2933, 'village': 4763, 'baker': 595, 'heat': 2223, 'attacked': 538, 'embarked': 1645, 'offers': 3256, 'jeanne': 2504, '1917': 49, '1899': 29, 'tragedy': 4626, 'com': 1120, 'rejected': 3799, '1905': 37, 'path': 3394, 'louis': 2807, 'mostly': 3085, 'slapstick': 4201, 'comedies': 1129, 'personally': 3438, 'fortune': 1947, 'cameras': 881, 'larger': 2655, 'li': 2733, 'fantasy': 1809, 'ren': 3825, 'han': 2167, 'join': 2532, 'persona': 3435, 'clothing': 1085, 'chosen': 1024, 'trademark': 4623, 'critic': 1283, 'handsome': 2170, 'hat': 2195, 'hundred': 2341, 'portraying': 3550, 'hot': 2322, 'motion': 3087, 'lake': 2640, 'falls': 1800, 'chaplin': 989, 'audiences': 553, '1908': 40, 'takes': 4461, 'lawrence': 2681, 'russia': 3973, 'voted': 4793, 'russian': 3974, 'nicholas': 3182, 'playwright': 3507, 'shaw': 4124, 'spend': 4267, 'berlin': 695, 'decline': 1382, 'reasons': 3756, '1911': 43, 'scripts': 4041, '1912': 44, 'solo': 4226, 'entertainer': 1683, 'salary': 3985, 'increase': 2396, 'spain': 4254, 'thousands': 4562, 'fans': 1808, 'railway': 3716, 'accompanied': 251, 'piano': 3466, 'ad': 281, 'reading': 3748, 'understand': 4692, '1914': 46, 'skill': 4197, 'dog': 1498, 'ensemble': 1679, 'occasional': 3242, 'abel': 232, 'medium': 2959, 'suit': 4409, 'features': 1831, 'approached': 470, 'essanay': 1707, 'replace': 3834, 'wants': 4818, 'cancelled': 891, 'remaining': 3817, 'ongoing': 3281, 'continue': 1207, 'quoted': 3707, 'able': 234, 'enthusiasm': 1685, 'length': 2714, 'revived': 3887, 'unsuccessful': 4704, '1921': 54, 'earliest': 1582, 'mirror': 3032, 'marx': 2914, 'duck': 1556, 'satire': 4003, 'douglas': 1519, 'fairbanks': 1792, 'loosely': 2796, 'bob': 750, 'funny': 1998, 'laugh': 2668, 'haunted': 2197, 'moments': 3054, '1924': 57, 'prevented': 3595, 'circus': 1040, 'mile': 3004, 'pre': 3573, '1925': 58, 'store': 4346, 'sr': 4287, 'catherine': 946, 'vance': 4730, 'freeman': 1975, 'naval': 3145, 'maryland': 2916, 'frances': 1964, 'blind': 737, 'retirement': 3874, 'expression': 1771, 'coming': 1134, 'harm': 2181, 'turning': 4668, 'renamed': 3826, 'joint': 2535, 'prepared': 3580, 'philosophy': 3450, '1906': 38, 'tuberculosis': 4663, '1890': 20, 'type': 4679, 'expanded': 1757, 'test': 4518, 'skin': 4199, 'positions': 3554, 'boarding': 748, 'drawing': 1533, 'preparing': 3581, 'wives': 4919, 'smart': 4209, 'elements': 1635, 'hunting': 2347, 'statement': 4310, 'murdered': 3107, 'hidden': 2259, 'relatives': 3805, 'table': 4458, 'republican': 3850, 'southern': 4251, 'household': 2327, 'novels': 3227, 'speed': 4264, 'reception': 3765, 'calling': 875, 'faced': 1782, 'publisher': 3679, 'ron': 3944, 'robertson': 3922, 'quick': 3698, 'ben': 683, 'arrested': 491, 'indicated': 2406, 'thoughts': 4560, 'charlotte': 1001, 'incident': 2390, 'ash': 509, 'carolina': 922, 'cheung': 1011, 'fat': 1818, 'cary': 934, 'asian': 512, 'round': 3956, 'runner': 3967, 'pie': 3473, 'capital': 901, 'wind': 4900, 'image': 2376, 'mass': 2919, 'solid': 4225, 'peak': 3405, 'sponsored': 4278, '250': 173, 'ashes': 510, 'composed': 1163, '1993': 133, 'theme': 4533, 'bride': 804, 'score': 4031, 'composer': 1164, 'jury': 2568, 'rock': 3925, 'beloved': 681, 'collaborated': 1100, 'wong': 4929, 'angel': 422, 'costumes': 1240, 'cross': 1290, 'sell': 4071, 'concept': 1168, 'standard': 4295, 'chinese': 1019, 'clinton': 1077, 'harriet': 2184, 'scandal': 4014, 'educated': 1607, 'lieutenant': 2738, 'trial': 4646, 'scarlet': 4015, 'fever': 1853, '1920s': 53, 'respected': 3860, 'magazines': 2855, 'crane': 1262, 'poems': 3517, 'respect': 3859, '1926': 59, 'volume': 4791, 'sequence': 4088, 'danish': 1342, '77': 215, 'heights': 2230, 'location': 2780, 'directly': 1465, 'liberty': 2735, 'above': 237, 'lower': 2817, 'constant': 1196, 'condition': 1174, 'poem': 3516, 'symbol': 4454, 'fine': 1884, 'hoped': 2309, 'cape': 900, 'epic': 1692, 'mexico': 2988, '32': 183, 'peggy': 3411, 'nurse': 3235, 'pearl': 3408, 'split': 4275, 'jackson': 2486, 'excelled': 1740, 'milton': 3015, 'construction': 1198, 'lillian': 2748, 'mcqueen': 2950, 'blow': 743, 'square': 4286, 'collections': 1106, 'reputation': 3851, 'controversy': 1220, 'terrible': 4514, 'creating': 1268, 'wore': 4936, 'mtv': 3100, 'scotland': 4033, 'models': 3048, 'designs': 1423, 'inspired': 2432, 'doll': 1501, 'dante': 1344, 'profile': 3635, 'shown': 4150, 'twice': 4674, 'prominence': 3645, 'projects': 3643, 'designed': 1420, 'appointed': 466, 'appointment': 467, 'disaster': 1472, 'jungle': 2566, 'watched': 4831, 'll': 2774, 'unusual': 4706, 'widespread': 4885, 'inspiration': 2431, 'morris': 3078, 'movement': 3094, 'ice': 2355, 'grey': 2126, 'piece': 3474, 'enormous': 1676, 'inside': 2428, 'inner': 2426, 'interior': 2446, 'filled': 1871, 'naked': 3129, 'walls': 4808, 'onto': 3287, 'ground': 2130, 'joel': 2526, 'turn': 4665, 'rival': 3913, 'manner': 2881, 'merry': 2980, 'clown': 1086, 'example': 1739, 'separate': 4084, 'collaborator': 1102, 'tree': 4644, 'empire': 1656, 'impact': 2381, 'animals': 429, 'russell': 3972, 'designing': 1422, 'wells': 4858, 'featuring': 1832, 'broadcasting': 817, 'depicted': 1407, 'prints': 3611, 'theory': 4538, 'color': 1111, 'marine': 2894, 'foot': 1925, 'yet': 4975, 'pieces': 3475, 'unique': 4696, 'brand': 791, 'term': 4512, 'direction': 1464, 'jerry': 2511, 'bottom': 773, 'guys': 2151, 'site': 4186, 'providing': 3667, 'hood': 2305, 'genius': 2035, 'active': 269, 'mishima': 3033, 'presence': 3582, 'separated': 4085, 'immediate': 2378, 'taste': 4478, 'infant': 2411, 'holding': 2286, 'train': 4629, 'literature': 2765, 'apart': 452, 'deeply': 1387, 'traditional': 4625, 'forms': 1944, 'forest': 1934, 'bloom': 742, 'narrator': 3136, 'describes': 1417, 'potential': 3562, 'editorial': 1605, 'follows': 1920, 'heaven': 2224, 'quite': 3705, 'scholar': 4023, 'representative': 3844, 'passed': 3388, 'declared': 1381, 'message': 2981, 'pistol': 3482, 'poetry': 3519, 'allowed': 374, 'advised': 309, 'defeat': 1388, 'occupied': 3246, 'powers': 3569, 'occupation': 3245, 'publishing': 3680, 'wartime': 4826, 'kawabata': 2581, 'generation': 2034, 'fit': 1893, '1952': 88, 'greece': 2117, 'travels': 4640, 'criticized': 1287, 'burning': 849, 'represented': 3845, 'athletic': 533, 'painter': 3349, 'normal': 3206, 'regarded': 3788, 'wing': 4902, 'government': 2086, 'sued': 4402, 'invasion': 2458, 'complex': 1161, 'vice': 4747, 'mysteries': 3126, 'bara': 612, 'donald': 1508, 'sword': 4451, 'weight': 4852, 'steel': 4320, 'colors': 1113, 'satirical': 4004, 'tale': 4463, 'mainstream': 2861, 'contained': 1201, 'numerous': 3233, 'itself': 2483, 'joy': 2550, 'communist': 1149, 'protagonist': 3660, 'conflict': 1180, 'roman': 3937, 'olympics': 3276, 'heroic': 2252, 'attack': 537, 'freedom': 1973, 'minister': 3021, 'hitler': 2277, 'historical': 2273, 'figures': 1868, 'sale': 3986, 'responsibility': 3864, 'defense': 1389, 'explained': 1764, 'soviet': 4252, 'means': 2953, 'question': 3695, 'ask': 513, 'oldest': 3270, 'league': 2691, 'plan': 3487, 'revolutionary': 3889, 'radical': 3711, 'promising': 3648, 'scale': 4013, 'catch': 944, 'circle': 1037, 'reference': 3783, 'fighting': 1866, 'succeeded': 4393, 'spirit': 4273, 'appeal': 457, 'scattered': 4017, 'choice': 1020, 'girlfriend': 2054, 'entry': 1690, 'connection': 1185, 'carry': 927, 'secret': 4055, 'legally': 2706, 'least': 2695, 'senior': 4080, 'slightly': 4205, 'count': 1246, 'fall': 1798, 'product': 3627, 'slave': 4202, 'makeup': 2868, 'hearts': 2222, 'buy': 861, 'techniques': 4493, 'hungary': 2344, 'prominent': 3646, 'wall': 4805, 'thirty': 4553, 'built': 842, 'ethnic': 1716, 'exchange': 1744, 'region': 3791, 'birds': 728, '43': 194, 'questioned': 3696, 'aspects': 516, 'alternative': 385, 'accidental': 248, 'apple': 464, 'alan': 346, 'pleasure': 3509, 'unhappy': 4694, 'graham': 2098, 'justice': 2570, 'clock': 1079, 'convicted': 1224, '41': 193, 'driven': 1543, 'laws': 2682, '37': 188, 'outstanding': 3327, 'alter': 384, 'bill': 714, '1885': 17, 'commons': 1148, 'conservative': 1190, 'christopher': 1029, 'passage': 3387, 'colonel': 1109, '1934': 68, 'shanghai': 4120, 'injured': 2422, 'permanently': 3431, 'soldier': 4222, 'open': 3288, 'battle': 636, 'earth': 1587, '18th': 30, 'crimes': 1281, 'prisoners': 3615, '1947': 82, 'letters': 2727, 'honour': 2304, 'thus': 4573, 'flowers': 1909, 'remain': 3814, 'prisoner': 3614, 'guns': 2148, 'guards': 2137, 'randolph': 3726, 'steven': 4329, 'accounts': 255, 'wire': 4908, 'cell': 961, 'fired': 1890, 'burns': 850, 'aware': 583, 'lawyers': 2685, 'weapons': 4839, 'clients': 1073, 'cambridge': 877, 'harper': 2183, 'andrews': 420, 'fought': 1952, 'charge': 993, 'valentine': 4723, 'corps': 1235, 'acts': 277, 'citation': 1041, 'desperate': 1425, 'streets': 4356, 'carpenter': 924, 'apprentice': 468, 'factory': 1786, '39': 190, 'jail': 2490, '36': 187, 'dispute': 1481, 'compilation': 1156, 'roy': 3961, 'dozen': 1522, 'murders': 3109, 'driving': 1545, 'influence': 2413, 'bc': 641, 'valuable': 4726, 'admired': 297, 'gift': 2050, 'gray': 2112, 'inn': 2425, 'knight': 2620, 'clifton': 1074, 'ancient': 413, 'lord': 2797, 'tower': 4616, 'bacon': 591, 'latter': 2667, 'fleet': 1900, 'alcoholic': 352, 'homes': 2294, 'occasions': 3244, 'kentucky': 2594, 'antonio': 447, 'marrying': 2906, 'colony': 1110, 'landing': 2646, 'operation': 3293, 'epstein': 1695, 'pauline': 3399, 'inc': 2389, 'intelligence': 2439, 'israel': 2475, 'consultant': 1199, 'corporation': 1234, 'acquired': 261, 'raiders': 3714, 'pan': 3358, 'leslie': 2721, 'chairman': 972, 'formerly': 1943, 'managing': 2878, 'executives': 1749, 'helping': 2238, 'credit': 1272, 'ratings': 3737, 'opportunities': 3297, 'federal': 1834, 'begun': 667, '2019': 164, 'metropolitan': 2986, 'jeffrey': 2506, 'barr': 618, 'judge': 2554, 'knowledge': 2622, '33': 184, 'needed': 3157, '60': 203, 'agreement': 332, 'bela': 672, 'participation': 3375, 'arrest': 490, 'arm': 482, 'joseph': 2545, 'sergeant': 4089, '1895': 25, 'favor': 1823, 'dennis': 1403, 'largely': 2654, 'accused': 256, 'sexually': 4114, 'football': 1927, 'lancaster': 2643, 'pronounced': 3654, 'drawings': 1534, 'tone': 4598, 'officials': 3262, 'grandson': 2107, 'pride': 3601, 'trade': 4622, 'kid': 2602, 'hop': 2307, 'da': 1317, 'mob': 3045, 'platinum': 3497, 'billboard': 715, 'loving': 2815, 'entertainment': 1684, 'practice': 3570, 'invisible': 2461, 'educational': 1609, 'sci': 4028, 'juvenile': 2571, 'montgomery': 3066, 'louisiana': 2809, '91': 224, 'amateur': 393, 'ranch': 3724, 'settlement': 4105, 'massive': 2921, 'throat': 4567, 'lewis': 2731, 'odd': 3250, 'plastic': 3494, 'berkeley': 693, 'esther': 1713, '2021': 166, 'exposure': 1768, 'dynasty': 1576, 'committee': 1146, 'strike': 4358, 'nazi': 3147, 'injury': 2424, 'surgery': 4427, 'suspected': 4437, 'norway': 3211, 'rank': 3729, 'congo': 1181, 'opinion': 3296, 'activity': 272, 'haven': 2199, 'safety': 3978, 'quiet': 3700, 'ingrid': 2418, 'publicized': 3675, 'development': 1435, 'ways': 4836, 'suburb': 4392, 'mount': 3088, 'granddaughter': 2103, 'poet': 3518, 'leader': 2688, 'here': 2247, 'swedish': 4445, 'phillips': 3449, 'baldwin': 597, 'martial': 2911, 'dutch': 1569, 'rob': 3919, 'fred': 1970, 'van': 4729, 'dealer': 1367, 'gang': 2012, 'illustrated': 2371, 'stating': 4312, 'determined': 1430, 'commission': 1142, 'stayed': 4318, 'recovering': 3776, 'harold': 2182, 'frederick': 1971, 'eleven': 1636, 'grammar': 2100, 'distance': 1482, 'lung': 2832, 'leeds': 2701, 'hyde': 2353, 'eve': 1722, 'widow': 4886, 'cremated': 1277, 'smith': 4211, 'suspended': 4438, 'discharged': 1473, 'physically': 3462, 'regional': 3792, 'pepper': 3416, 'formal': 1939, 'deputy': 1411, 'lpnagel': 2820, 'pursued': 3687, '1898': 28, 'truth': 4660, 'retiring': 3875, 'fourteen': 1959, 'ambassador': 396, 'controlled': 1218, 'allow': 373, 'goal': 2071, 'viewed': 4759, 'jews': 2517, 'alleged': 367, 'condemned': 1173, 'ss': 4288, 'danger': 1338, 'racial': 3710, 'resistance': 3858, 'attacks': 539, 'marshal': 2908, 'wilhelm': 4893, 'answer': 443, 'sharp': 4123, 'executed': 1747, '95': 225, 'carl': 913, 'mayo': 2940, 'wolfe': 4922, 'branch': 790, 'dublin': 1555, 'maker': 2866, 'farm': 1812, 'kildare': 2604, 'ireland': 2466, 'arthur': 497, 'hawaii': 2203, 'sole': 4224, 'request': 3852, 'commentary': 1137, 'continues': 1209, 'engaged': 1668, 'assassination': 517, 'cry': 1297, 'interests': 2445, 'whatever': 4867, 'duty': 1571, 'welcome': 4854, '35': 186, 'coal': 1091, 'orange': 3301, 'lynn': 2836, 'stepfather': 4324, 'atlanta': 534, 'cobb': 1093, 'turner': 4667, 'wagner': 4796, 'dakota': 1324, 'kevorkian': 2598, 'doctors': 1495, 'proposal': 3657, 'technique': 4492, 'advertising': 307, 'detroit': 1431, 'janet': 2496, 'disease': 1476, 'montana': 3063, 'difference': 1455, 'citing': 1044, 'sustained': 4441, 'jazz': 2502, 'musician': 3116, 'cd': 956, 'classical': 1062, 'craig': 1260, 'oil': 3266, 'eating': 1592, 'paintings': 3351, 'ones': 3280, 'dear': 1369, 'founding': 1957, 'legion': 2708, 'bronze': 823, 'mayor': 2941, 'christine': 1027, 'chubbuck': 1031, 'greg': 2122, 'workshop': 4943, 'painted': 3348, 'acker': 259, 'posed': 3552, 'herald': 2245, 'tribune': 4647, 'mike': 3001, 'keel': 2585, 'focus': 1913, 'quinn': 3702, 'baltimore': 601, 'humor': 2339, 'subject': 4385, 'script': 4040, 'dallas': 1326, 'stations': 4315, 'ceremony': 967, 'approximately': 471, 'airing': 341, 'advanced': 302, 'dwyer': 1573, 'terms': 4513, 'dollars': 1503, 'contributions': 1216, '300': 181, '38': 189, 'fifty': 1863, 'cost': 1237, '55': 201, 'ronald': 3945, 'reagan': 3750, 'presidential': 3588, 'leroy': 2718, 'miguel': 3000, 'deemed': 1385, 'managed': 2875, 'relative': 3803, 'jos': 2544, 'argentina': 479, 'dirty': 1469, 'crew': 1279, 'draw': 1532, 'schedule': 4020, 'safe': 3977, 'brazilian': 794, 'spike': 4271, 'edited': 1600, 'fear': 1828, 'begins': 666, 'bomb': 756, 'resumed': 3872, 'saints': 3984, 'banks': 608, 'lavish': 2676, 'arizona': 480, 'picasso': 3467, 'adventures': 305, 'travelled': 4639, 'exotic': 1756, 'peaks': 3407, 'setting': 4103, 'closing': 1083, 'mouth': 3091, '63': 205, '58': 202, 'successor': 4398, 'conquest': 1188, 'share': 4121, 'restless': 3868, 'guardian': 2136, 'relatively': 3804, 'nobunaga': 3195, 'stationed': 4314, 'tea': 4482, 'enemy': 1666, 'closed': 1081, 'hideyoshi': 2260, '1889': 19, 'fianc': 1856, 'burned': 848, 'photographed': 3455, 'putting': 3689, '1913': 45, 'headed': 2214, 'artillery': 500, 'tomb': 4595, 'sen': 4076, 'serving': 4099, 'wonderful': 4927, 'bowl': 778, 'shall': 4119, 'witness': 4917, 'remarked': 3820, 'annual': 441, 'turns': 4669, 'relief': 3810, 'destroyed': 1427, 'income': 2395, 'range': 3727, 'duel': 1559, 'mikinosuke': 3002, 'master': 2922, 'regularly': 3795, 'impressed': 2385, 'korea': 2626, 'legs': 2709, 'amongst': 405, 'yamanami': 4969, 'originated': 3311, 'places': 3486, 'source': 4247, 'bond': 758, 'till': 4578, 'aaron': 227, 'cherry': 1010, 'jersey': 2512, 'nevada': 3170, 'chandler': 980, 'bennett': 689, 'rex': 3891, 'nanny': 3134, 'julius': 2561, 'caesar': 868, 'mister': 3039, 'hawks': 2205, 'sky': 4200, 'paradise': 3363, 'sitcom': 4185, 'busy': 858, 'roberts': 3921, 'lindsay': 2754, 'bbc': 640, 'somerset': 4229, 'wally': 4809, 'electric': 1632, 'acclaim': 249, 'lasting': 2662, 'marc': 2885, 'sailed': 3981, 'explore': 1765, 'weather': 4842, 'raising': 3721, 'plant': 3493, 'african': 315, 'animal': 428, 'anna': 435, 'portraits': 3546, 'garden': 2016, 'chatterton': 1006, 'replied': 3838, 'library': 2736, 'gallery': 2009, 'judy': 2556, 'collins': 1108, 'barry': 620, 'jumping': 2564, 'aunt': 560, 'prompted': 3653, 'walked': 4802, 'sloane': 4206, 'underground': 4691, 'halls': 2161, '76': 214, 'chapel': 988, 'champion': 976, 'chambers': 975, 'dismissed': 1477, 'tap': 4476, 'seymour': 4115, 'simon': 4168, 'gloria': 2068, 'rome': 3941, 'abbott': 229, 'bishop': 732, 'dudley': 1557, 'luke': 2831, 'earl': 1580, 'nancy': 3133, 'evelyn': 1723, 'architecture': 475, 'visual': 4780, 'illustrations': 2374, 'cartoonist': 932, 'architect': 474, 'stewart': 4332, 'morrison': 3079, 'essex': 1709, 'biography': 725, 'iii': 2367, 'gilbert': 2051, 'farrow': 1815, 'numbers': 3232, 'carrying': 928, 'parker': 3369, 'severely': 4110, 'chase': 1005, 'names': 3132, 'flack': 1896, 'pet': 3440, 'bubbles': 833, 'sketch': 4195, 'comic': 1132, 'minute': 3027, 'perfect': 3418, 'ballet': 600, 'factor': 1785, 'programme': 3639, 'presenter': 3585, 'viewers': 4760, 'lisa': 2761, 'matt': 2928, 'orchestra': 3302, 'gertler': 2042, 'immigrants': 2380, 'deborah': 1373, 'jacob': 2487, '1892': 22, '1896': 26, 'drop': 1546, 'clayton': 1067, 'spencer': 4266, 'poets': 3520, 'dogs': 1499, 'exist': 1754, 'limits': 2750, 'vanity': 4731, 'duncan': 1564, 'interesting': 2444, 'edge': 1599, 'mansfield': 2882, 'frequent': 1977, 'clark': 1057, 'constance': 1195, 'sherlock': 4130, 'holmes': 2290, 'couldn': 1244, 'profession': 3631, 'villainous': 4765, 'keith': 2588, 'memorable': 2970, 'main': 2859, 'vincent': 4767, 'stunt': 4380, 'cable': 867, 'hunter': 2346, 'oliver': 3271, 'reed': 3781, 'frankenstein': 1968, 'patrick': 3396, 'crash': 1263, 'barrett': 619, 'nursing': 3236, 'terry': 4517, 'lifetime': 2742, 'stuart': 4371, 'details': 1428, 'howard': 2330, 'danced': 1333, 'judith': 2555, 'waiting': 4798, 'antony': 448, 'agnes': 329, 'sailor': 3982, 'muir': 3102, 'elaine': 1624, 'wright': 4954, 'consisted': 1194, 'scenes': 4019, 'adams': 283, 'sets': 4102, 'championships': 977, '73': 212, 'pages': 3342, 'journalism': 2547, 'barnes': 616, 'clerk': 1071, 'bank': 606, 'entrance': 1689, 'experimental': 1763, 'albert': 347, 'forward': 1949, 'liked': 2746, 'preferred': 3575, 'ready': 3749, 'publication': 3672, 'eva': 1720, 'margaret': 2888, 'shadow': 4116, 'lawn': 2680, 'challenge': 973, 'jimmy': 2520, 'block': 738, 'maxwell': 2937, 'sugar': 4405, 'border': 765, 'wallace': 4806, 'australia': 562, 'stone': 4340, 'scottish': 4035, 'soap': 4216, 'darling': 1348, 'danny': 1343, 'kaye': 2583, 'nbc': 3148, 'strikes': 4359, 'charley': 999, 'please': 3508, 'forget': 1936, 'eugene': 1717, 'credits': 1274, 'superman': 4420, 'sullivan': 4410, '2nd': 179, 'pocket': 3514, 'samuel': 3994, 'penthouse': 3414, 'sylvia': 4453, 'plath': 3496, 'welsh': 4859, 'hoping': 2310, 'magic': 2857, 'hughes': 2335, 'thunder': 4571, 'honeymoon': 2298, 'energy': 1667, 'consider': 1191, 'irish': 2468, 'chemistry': 1009, 'biblical': 709, 'spite': 4274, 'strangers': 4353, 'owing': 3332, 'complications': 1162, 'lionel': 2760, 'maintained': 2862, 'benefit': 686, 'sydney': 4452, 'casino': 938, 'ruby': 3963, 'bush': 854, 'driver': 1544, 'mills': 3014, 'alexandra': 357, 'toronto': 4605, 'artwork': 505, 'giant': 2048, 'armstrong': 485, 'tony': 4600, 'files': 1870, 'yiddish': 4977, 'romania': 3939, 'otherwise': 3317, 'doubt': 1518, 'bound': 776, '1897': 27, 'cited': 1042, 'autobiography': 571, 'stephen': 4325, 'ward': 4820, 'birmingham': 729, 'mabel': 2839, 'havilland': 2201, 'photograph': 3454, 'images': 2377, 'progress': 3641, 'shorts': 4142, 'athens': 532, 'ambrose': 397, 'olsen': 3273, 'kim': 2609, 'hugo': 2336, 'boss': 769, 'breaking': 797, 'seem': 4063, 'unlike': 4703, 'providence': 3666, 'andrew': 419, 'struggling': 4370, 'ayler': 585, 'nickname': 3186, 'blues': 745, 'cecil': 957, 'drummer': 1550, 'pianist': 3465, 'trio': 4652, 'soundtrack': 4246, 'filmmaker': 1875, 'garner': 2020, 'murray': 3111, 'vocal': 4785, 'roots': 3949, 'alike': 363, 'universal': 4699, 'creator': 1271, 'universe': 4700, 'bobby': 751, 'heavy': 2226, 'steve': 4328, 'allen': 369, 'bret': 802, 'jeremy': 2510, 'nightclub': 3188, 'attached': 536, 'grown': 2134, 'cohen': 1095, 'neal': 3151, 'colt': 1115, 'hartford': 2190, 'partly': 3379, 'olivia': 3272, 'schooling': 4026, 'employment': 1658, 'ladies': 2636, 'labor': 2633, 'sketches': 4196, 'brady': 788, 'indiana': 2404, 'indianapolis': 2405, 'alice': 360, 'crum': 1295, 'clarence': 1056, 'candidate': 893, 'larry': 2657, 'greater': 2114, 'print': 3610, 'congress': 1182, 'aka': 343, 'kramer': 2629, 'senator': 4077, 'syndicated': 4456, 'clay': 1066, 'notorious': 3223, 'effective': 1614, 'confidence': 1178, 'combination': 1122, '1902': 34, 'somewhat': 4232, 'influential': 2415, 'zero': 4991, 'titular': 4587, 'mysterious': 3127, 'narrated': 3135, 'warm': 4821, 'bright': 811, 'thin': 4546, 'matthew': 2930, 'publications': 3673, 'rare': 3731, 'effectively': 1615, 'emerson': 1647, 'follies': 1916, 'americans': 401, 'fury': 2000, '3d': 191, 'beatrice': 647, 'channing': 987, 'summers': 4412, '52': 199, 'vacation': 4722, 'adapted': 286, 'wilder': 4892, 'alley': 370, 'amanda': 392, 'edgar': 1598, 'category': 945, 'explored': 1766, 'hollenbeck': 2288, '88': 221, 'shore': 4139, 'cruise': 1294, 'vivid': 4784, 'stood': 4341, 'interviews': 2454, 'marshall': 2909, 'garnered': 2021, 'sympathetic': 4455, 'brian': 803, 'chain': 970, 'orson': 3313, 'welles': 4856, 'sunday': 4415, 'ed': 1595, 'williams': 4896, 'palm': 3356, 'billy': 720, 'milland': 3008, 'basketball': 631, 'mad': 2848, 'threatened': 4563, 'abraham': 238, 'ticket': 4574, 'introduction': 2457, 'angels': 425, 'abroad': 239, 'gale': 2007, 'wizard': 4920, 'oz': 3337, 'korean': 2627, 'actual': 278, 'molly': 3052, 'reprised': 3848, 'memoirs': 2969, 'bernstein': 697, 'macintyre': 2842, 'ancestry': 412, 'caroline': 923, 'madison': 2851, 'panel': 3359, 'list': 2762, 'excellent': 1741, 'phil': 3445, 'bartholomew': 623, 'quine': 3701, 'fi': 1855, 'writes': 4958, 'punk': 3683, 'guitarist': 2144, 'lou': 2806, 'rhythm': 3893, 'leads': 2690, 'persuaded': 3439, 'franklin': 1969, 'malone': 2871, 'thompson': 4556, 'engagement': 1669, 'theatres': 4529, 'daly': 1327, 'lifelong': 2740, 'jules': 2557, 'wise': 4910, 'subscription': 4388, 'dunne': 1565, 'editions': 1603, 'extended': 1772, 'woodland': 4931, 'ida': 2359, 'mann': 2880, 'praise': 3571, 'chorus': 1022, 'virginian': 4774, 'lovers': 2813, 'stroke': 4364, 'katharine': 2578, 'pulitzer': 3682, 'cat': 943, 'pioneer': 3480, 'authored': 567, 'kennedy': 2591, 'bros': 826, 'frontier': 1988, 'bette': 702, 'davis': 1357, 'sidney': 4157, 'potter': 3563, 'newcomer': 3174, 'jesse': 2513, 'sherman': 4131, 'dc': 1362, 'lafayette': 2638, 'bones': 760, 'acres': 262, 'simpson': 4171, 'talents': 4466, 'evans': 1721, '19th': 140, 'dragon': 1527, 'super': 4418, 'joey': 2527, 'bang': 605, 'inducted': 2408, 'borrowed': 768, 'ranger': 3728, 'aviation': 577, 'rebel': 3758, 'riders': 3902, 'dangerous': 1339, 'ride': 3900, 'repertory': 3833, 'alex': 355, 'shop': 4138, '34': 185, 'advertisements': 306, 'dickinson': 1448, 'bergen': 691, 'mack': 2843, 'denver': 1404, 'publish': 3677, 'powell': 3566, 'chuck': 1032, 'masters': 2923, 'photographs': 3458, 'robin': 3923, 'mitchell': 3041, 'laura': 2672, 'northwest': 3210, 'clarke': 1058, 'strange': 4351, 'buenos': 839, 'aires': 340, 'villa': 4762, 'lugones': 2828, 'territory': 4515, 'carlos': 915, 'socialist': 4218, 'method': 2984, 'quiroga': 3703, 'technical': 4490, 'photography': 3459, 'amor': 406, 'achievement': 258, 'clean': 1068, 'cotton': 1242, 'rural': 3970, 'terror': 4516, 'ana': 410, 'stern': 4326, 'eccentric': 1594, 'bold': 755, 'mercury': 2979, 'raft': 3713, 'beer': 659, 'kraft': 2628, 'currently': 1310, 'bart': 622, 'signing': 4162, 'nice': 3181, '80': 219, 'poster': 3560, 'talented': 4465, 'zhu': 4994, 'liu': 2767, 'wu': 4964, 'fu': 1989, 'investigator': 2460, 'build': 840, 'reign': 3798, 'ring': 3907, 'tang': 4475, 'circuit': 1038, 'yi': 4976, 'sheep': 4126, 'gates': 2026, 'ling': 2758, 'willing': 4897, 'midnight': 2997, 'ranked': 3730, 'chan': 978, 'yang': 4970, 'cao': 899, 'pi': 3464, 'mausoleum': 2934, 'gradually': 2092, 'recommended': 3768, 'zhangsun': 4992, 'titles': 4586, 'inherit': 2419, 'flying': 1911, 'zhen': 4993, 'successes': 4395, 'melodrama': 2964, 'bringing': 813, 'gossip': 2084, 'morgan': 3076, 'abdul': 231, 'strips': 4363, 'ncis': 3149, 'gender': 2030, 'fighter': 1865, 'flight': 1903, 'protest': 3661, 'jan': 2494, 'se': 4043, 'dinner': 1460, 'seconds': 4054, 'steadily': 4319, 'illustrator': 2375, 'buck': 834, 'colour': 1114, 'repeat': 3830, 'restaurant': 3867, 'wikipedia': 4889, 'hospitalized': 2317, 'carlo': 914, 'automobile': 572, 'noir': 3196, 'font': 1922, 'deleuze': 1394, 'moscow': 3082, 'promise': 3647, 'span': 4255, 'substantial': 4391, 'historian': 2272, '0438': 2, '043e': 3, '0435': 1, 'cheyenne': 1012, 'flew': 1902, 'classic': 1061, 'lt': 2821, 'fritz': 1985, 'arnold': 487, 'dust': 1568, 'permanent': 3430, 'dreams': 1537, 'edmund': 1606, 'richmond': 3898, 'reid': 3797, 'eleanor': 1629, 'roosevelt': 3948, 'jeff': 2505, 'jim': 2519, 'atlantic': 535, 'budapest': 835, 'additionally': 292, 'wars': 4825, 'parties': 3378, 'ny': 3237, 'exhibit': 1750, '64': 206, 'casting': 941, 'acclaimed': 250, 'elsewhere': 1642, 'highway': 2264, 'heroine': 2253, 'veteran': 4745, 'serials': 4091, 'villain': 4764, 'cameron': 882, 'laurel': 2673, 'connor': 1187, 'kiss': 2616, 'arriving': 494, 'beneath': 685, 'westerns': 4865, 'modest': 3050, 'levi': 2729, 'mine': 3018, 'secured': 4058, 'teamed': 4488, 'stella': 4322, 'portrays': 3551, 'seek': 4062, 'wagon': 4797, 'releasing': 3809, 'presents': 3586, 'carole': 921, 'diego': 1453, 'mason': 2918, 'returns': 3879, 'finest': 1885, 'puerto': 3681, 'rico': 3899, 'iron': 2469, 'utah': 4721, 'gibson': 2049, 'plate': 3495, 'canutt': 896, 'ho': 2280, 'advent': 303, 'talkies': 4471, 'cash': 937, 'freelance': 1974, 'ellen': 1639, 'claude': 1064, 'anatomy': 411, 'daniels': 1341, 'austin': 561, 'mississippi': 3037, 'brad': 786, 'andes': 417, 'greta': 2124, 'edith': 1601, 'lose': 2801, 'kirk': 2615, 'sitting': 4187, 'savage': 4006, 'moss': 3083, 'priest': 3602, 'dj': 1491, 'romero': 3943, 'rodgers': 3929, 'finale': 1878, 'alicia': 361, 'profits': 3637, 'versions': 4743, 'ella': 1638, 'shoot': 4136, 'operator': 3295, 'philippines': 3448, 'hardcore': 2177, 'sophia': 4239, 'aimed': 337, 'photographic': 3457, 'woods': 4932, 'lucky': 2825, 'jonker': 2542, 'joke': 2536, 'macdonald': 2840, 'glenn': 2065, 'souther': 4250, 'boris': 766, 'walker': 4803, 'segment': 4067, 'veronica': 4741, 'rush': 3971, 'storm': 4348, 'mighty': 2999, 'melody': 2965, 'marcus': 2887, 'singapore': 4176, 'kent': 2593, 'novak': 3224, 'twin': 4676, 'emmy': 1651, 'bailey': 594, 'nick': 3185, 'hardy': 2178, 'rockford': 3926, 'hbo': 2211, 'suspension': 4440, 'tours': 4613, 'jordan': 2543, 'tiger': 4577, 'smoking': 4213, 'irwin': 2472, 'baxter': 638, 'loretta': 2799, 'barker': 614, 'drake': 1528, 'stanwyck': 4298, 'rko': 3916, 'pirate': 3481, 'angela': 423, 'matinee': 2927, 'adaptations': 285, 'wyman': 4967, 'hayes': 2207, 'gene': 2031, 'lucille': 2823, 'hunt': 2345, 'anthology': 444, 'webb': 4844, 'strip': 4361, 'perry': 3433, 'mickey': 2994, 'rooney': 3947, 'lucy': 2826, 'gunsmoke': 2149, 'rogers': 3931, 'glendale': 2064, 'airport': 342, 'sinatra': 4173, 'arrow': 495, 'wyatt': 4965, 'preston': 3592, 'rod': 3928, 'blonde': 739, 'honey': 2297, 'sheriff': 4129, 'idol': 2364, 'brennan': 800, 'jessica': 2514, 'peck': 3409, 'newman': 3176, 'dyke': 1575, 'redford': 3780, 'burt': 851, 'reynolds': 3892, 'carson': 929, 'curtis': 1313, 'specials': 4261, 'cagney': 869, 'miniseries': 3020, 'touch': 4608, 'jackie': 2485, 'aiello': 336, 'flame': 1897, 'sanders': 3997, 'paltrow': 3357, 'arliss': 481, 'rider': 3901, 'diana': 1443, 'mel': 2963, 'hutchence': 2351, 'neil': 3162, 'bass': 632, 'vocalist': 4786, 'glory': 2069, 'lange': 2650, 'comedians': 1127, 'holy': 2292, 'dvd': 1572, 'spin': 4272, 'hoffman': 2282, 'hook': 2306, 'roth': 3954, 'exclusively': 1746, 'sundance': 4414, 'voyage': 4794, 'jokes': 2537, 'surprised': 4430, 'ethel': 1715, 'kings': 2613, '79': 217, 'stunts': 4381, 'ferguson': 1847, 'prolific': 3644, 'rehearsals': 3796, 'knowles': 2623, 'barton': 624, 'garland': 2019, 'lois': 2782, 'hayward': 2208, 'amy': 408, 'stan': 4293, 'murphy': 3110, 'madrid': 2852, 'joyce': 2551, 'casey': 936, 'heseltine': 2255, 'notices': 3222, 'nichols': 3183, 'hal': 2156, 'perkins': 3429, 'scout': 4036, 'ibn': 2354, 'pool': 3532, 'dahl': 1320, 'collapsed': 1103, 'drunk': 1552, 'ruth': 3975, 'demosthenes': 1401, 'missouri': 3038, 'rat': 3733, 'margin': 2889, 'irene': 2467, 'boyd': 783, 'sixteen': 4190, 'porter': 3542, 'milk': 3007, 'crawford': 1264, 'pneumonia': 3513, 'atticus': 547, 'size': 4192, 'rdestad': 3742, 'lena': 2713, 'cards': 908, 'parody': 3370, 'gladys': 2061, 'hull': 2337, 'romeo': 3942, 'juliet': 2560, 'nicholson': 3184, 'galleries': 2008, 'baldridge': 596, 'yorker': 4979, 'addams': 287, 'hutchins': 2352, 'portrayal': 3548, 'ralph': 3722, 'illustration': 2373, 'display': 1479, 'venues': 4739, 'elvis': 1643, 'costello': 1238, 'vivian': 4783, 'installation': 2433, 'comics': 1133, 'daredevil': 1346, 'announcer': 440, 'sidekick': 4156, 'export': 1767, 'reel': 3782, 'gorky': 2083, 'canvas': 897, 'forrest': 1945, 'careers': 911, 'horne': 2312, 'contracts': 1213, 'bronx': 822, 'showcase': 4147, 'hawaiian': 2204, 'morrow': 3080, 'torres': 4606, 'suspense': 4439, 'auction': 551, 'sage': 3979, 'whitney': 4876, 'minnesota': 3025, 'minneapolis': 3023, 'woody': 4933, 'feiffer': 1840, 'illustrating': 2372, 'charlton': 1002, 'kane': 2572, 'registration': 3793, 'linear': 2756, 'distribution': 1485, 'depicting': 1408, 'chronic': 1030, 'randall': 3725, 'zixu': 4997, 'constantly': 1197, 'heracles': 2244, 'bow': 777, 'dietrich': 1454, 'daddy': 1319, 'tommy': 4596, 'rocky': 3927, 'sleep': 4203, 'marlene': 2900, 'rawhide': 3738, 'climax': 1075, 'salt': 3990, 'presley': 3589, 'roll': 3935, 'buddy': 837, 'greene': 2120, 'lone': 2786, 'grammy': 2101, 'hicks': 2258, 'cummings': 1306, 'kupcinet': 2630, 'onscreen': 3284, 'audio': 554, 'yankee': 4971, 'skelton': 4194, 'rains': 3718, 'billed': 716, 'stooge': 4342, 'wallis': 4807, 'paired': 3353, 'onstage': 3285, 'rudolph': 3964, 'cleopatra': 1070, 'humphrey': 2340, 'bogart': 754, 'monogram': 3059, 'shadows': 4117, 'irving': 2471, 'festivals': 1851, 'feminist': 1845, 'familiar': 1803, 'hogarth': 2283, 'wicked': 4882, 'murderer': 3108, 'netflix': 3168, 'rossetti': 3953, 'steele': 4321, 'burke': 846, 'sheridan': 4128, 'chamberlain': 974, 'transparent': 4635, 'basil': 629, 'align': 362, 'parade': 3362, 'whistler': 4873, 'asachi': 508, 'vernon': 4740, 'trilogy': 4651, 'cinematic': 1036, 'walsh': 4810, 'fontaine': 1923, 'fairy': 1794, 'keaton': 2584, 'batman': 635, 'peters': 3443, 'villains': 4766, 'fetish': 1852, 'lugosi': 2829, 'pierce': 3476, 'natalie': 3138, 'portman': 3544, 'richardson': 3897, 'apes': 454, 'carroll': 926, 'grahame': 2099, 'farrell': 1814, 'brolin': 821, 'holt': 2291, 'crumb': 1296, 'zane': 4987, '78': 216, 'treasure': 4641, 'toro': 4604, 'katie': 2580, 'hello': 2235, 'altman': 387, 'showtime': 4152, 'hamlet': 2163, 'cabaret': 866, 'heston': 2256, 'shirley': 4134, 'welch': 4853, 'diane': 1444, 'garfield': 2018, 'sammy': 3993, 'contracted': 1212, 'conrad': 1189, 'nora': 3204, 'rca': 3741, 'lecca': 2698, 'lemire': 2711, 'damon': 1329, 'mouse': 3090, 'mckean': 2948, 'outlaw': 3324, 'digital': 1459, 'performs': 3426, 'tyler': 4678, 'mw': 3122, 'parser': 3371, 'templatequote': 4506, 'overflow': 3330, '1em': 141, 'padding': 3339, 'tough': 4609, 'milligan': 3010, 'hiatus': 2257, 'gunn': 2147, 'marlowe': 2902, 'oddie': 3251, 'revue': 3890, 'macrae': 2847, 'roscoe': 3950, 'sunshine': 4417, 'parbury': 3365, 'miriam': 3031, 'lent': 2715, 'ginger': 2052, 'grimes': 2128, 'kipling': 2614, 'wilde': 4891, 'bellamy': 679, 'sendak': 4079, 'colbert': 1097, 'silverstein': 4166, 'rolling': 3936, 'dailey': 1321, 'thurber': 4572, 'banksy': 609, 'graffiti': 2097, 'mcdonald': 2945, 'amazon': 395, 'seattle': 4051, '89': 222, 'bandit': 604, 'web': 4843, 'mcmillan': 2949, 'alt': 383, 'pavlensky': 3400, 'tavar': 4480, 'zawacki': 4989, 'icon': 2356, 'lock': 2781, 'benglis': 687, 'musicals': 3115, 'sternberg': 4327, 'anita': 433, 'reunion': 3880, 'vs': 4795, 'cox': 1259, 'currie': 1311, 'macmurray': 2846, 'dolly': 1504, 'gypsy': 2152, 'directorial': 1467, 'julie': 2559, 'rotten': 3955, 'claire': 1053, 'harron': 2187, 'aaliyah': 226, 'sean': 4045, 'beaver': 650, 'vaudeville': 4734, 'valentino': 4724, 'ackles': 260, 'auditioned': 556, 'streep': 4354, 'flynn': 1912, 'affleck': 312, 'ladd': 2635, 'tyrone': 4682, 'mccrea': 2943, 'maverick': 2935, 'gangster': 2013, 'er': 1697, 'agron': 333, 'csi': 1299, 'roach': 3917, 'norma': 3205, 'demille': 1399, 'buster': 857, 'culver': 1305, 'stooges': 4343, 'aniston': 432, 'noah': 3193, 'albertson': 348, 'alda': 354, 'jenna': 2508, 'scarlett': 4016, 'skating': 4193, 'falcon': 1797, 'cop': 1229, 'fosse': 1950, 'owen': 3331, 'billie': 717, 'lauren': 2674, 'seinfeld': 4068, 'fay': 1825, 'allman': 372, 'hazel': 2210, 'silvers': 4165, 'tiffany': 4576, 'allyson': 375, 'astaire': 529, 'vitaphone': 4782, 'kern': 2596, 'hammerstein': 2165, 'flop': 1905, 'brien': 809, 'lawford': 2678, 'claudette': 1065, 'mildred': 3003, 'ferrer': 1849, 'stranger': 4352, 'rican': 3894, 'benchley': 684, 'alvarado': 388, 'huston': 2350, 'vamp': 4728, 'lombard': 2783, 'talkie': 4470, 'barrymore': 621, 'amerie': 402, 'negri': 3159, 'dracula': 1525, 'cohn': 1096, 'stripper': 4362, 'dane': 1337, 'anders': 415, 'canceled': 889, 'paige': 3345, 'michaels': 2992, 'hayworth': 2209, 'caine': 870, 'lupino': 2833, 'longest': 2790, 'blondell': 740, 'margret': 2890, 'morton': 3081, 'theron': 4542, 'maclaine': 2844, 'dix': 1490, 'gish': 2056, 'xxx': 4968, 'akira': 344, 'avn': 578, 'nina': 3190, 'hustler': 2349, 'doc': 1493, 'jameson': 2493, 'candy': 894, 'cs1': 1298, 'gradient': 2091, 'url': 4712, 'upload': 4709, 'wikimedia': 4888, 'org': 3306, 'svg': 4442, 'typecast': 4680, 'moorehead': 3072, 'lux': 2834, 'fitzgerald': 1894, 'astor': 530, 'moran': 3074, 'ponce': 3531, 'alvarez': 389, 'chayanne': 1007, 'vitagraph': 4781, 'lasky': 2659, 'arbuckle': 473, 'jolson': 2538, 'wampas': 4813, 'capra': 902, 'garbo': 2014, 'arvidson': 506, 'biograph': 722, 'pickford': 3470, 'swanson': 4443, 'wanger': 4815, 'tallulah': 4474, 'bankhead': 607, 'blyth': 746, 'sands': 3999, 'mccoy': 2942, 'lon': 2784, 'chaney': 981, 'cukor': 1301, 'gable': 2002, 'duffy': 1562, 'rathbone': 3735, 'blane': 736, 'montalban': 3062, 'vidor': 4755, 'loaned': 2777, 'wellman': 4857, 'harlow': 2180, 'beery': 660, 'myrna': 3124, 'loy': 2818, 'technicolor': 4491, 'lubitsch': 2822, 'maureen': 2932, 'gummer': 2145, 'errol': 1703, 'warners': 4823, 'ironside': 2470, 'arden': 476, 'hedison': 2227, 'columbo': 1117, 'bates': 633, 'routines': 3959, 'zimbalist': 4996, 'connery': 1186, 'lana': 2642, 'zorro': 4999, 'dandridge': 1336, 'adsit': 300, 'agar': 322, 'donlevy': 1511, 'emphysema': 1655, 'schlitz': 4022, 'rin': 3906, 'baum': 637, 'paget': 3343, 'berle': 694, 'budd': 836, 'elam': 1625, 'lawman': 2679, 'heflin': 2228, 'hayden': 2206, 'darnell': 1349, 'danton': 1345, 'faye': 1826, 'ameche': 398, 'conway': 1226, 'lvarez': 2835, 'tierney': 4575, 'wyler': 4966, 'teaming': 4489, 'crain': 1261, 'greer': 2121, 'garson': 2022, 'lemmon': 2712, 'loren': 2798, 'bacall': 587, 'granger': 2108, 'gaynor': 2029, 'shemp': 4127, 'karloff': 2576, 'montez': 3065, 'cotten': 1241, 'curly': 1308, 'cregar': 1276, 'healy': 2217, 'eythe': 1780, 'sturges': 4382, 'switzer': 4449, 'haver': 2200, 'lamour': 2641, 'henie': 2240, 'mcdowall': 2946, 'devine': 1437, 'mcdaniel': 2944, 'emory': 1652, 'barlow': 615, 'besser': 700, 'derita': 1413, 'moe': 3051, 'starrett': 4302, 'spanky': 4257, 'mcfarland': 2947, 'browning': 831, 'haines': 2154, 'stiltz': 4334, 'corrigan': 1236, 'aumont': 559, 'eddy': 1597, 'billingsley': 719, 'tufts': 4664, 'duff': 1561, 'ebsen': 1593, 'charisse': 996, 'bonds': 759, 'mimieux': 3016, 'maclane': 2845, 'caulfield': 950, 'dehavilland': 1391, 'gardel': 2015, 'bosworth': 771, 'prevost': 3599, 'byrnes': 864, 'quotebox': 3706, 'luft': 2827, 'wrangler': 4953, 'teese': 4499}\n"
     ]
    }
   ],
   "source": [
    "#The below syntax to see the vocabulary that it has learned from the corpus\n",
    "\n",
    "print(vector.vocabulary_)\n"
   ]
  },
  {
   "cell_type": "markdown",
   "metadata": {},
   "source": [
    "# SVM "
   ]
  },
  {
   "cell_type": "code",
   "execution_count": 20,
   "metadata": {},
   "outputs": [],
   "source": [
    "# Classifier - Algorithm - SVM\n",
    "#Instancier un SVM linéaire sur les données\n",
    "#SVM = svm.SVC(C=1.0, kernel='linear', degree=3, gamma='auto')\n",
    "#SVM.fit(Test_X_Tfidf,Train_Y)\n",
    "# predict the labels on validation dataset\n",
    "#predictions_SVM = SVM.predict(Test_X_Tfidf)\n",
    "# Use accuracy_score function to get the accuracy\n",
    "#print(\"SVM Accuracy Score -> \",accuracy_score(predictions_SVM, Test_Y))\n"
   ]
  },
  {
   "cell_type": "code",
   "execution_count": 21,
   "metadata": {},
   "outputs": [
    {
     "name": "stdout",
     "output_type": "stream",
     "text": [
      "Binary classification-----\n",
      "              precision    recall  f1-score   support\n",
      "\n",
      "       False       0.90      0.90      0.90      2105\n",
      "        True       0.75      0.76      0.76       869\n",
      "\n",
      "    accuracy                           0.86      2974\n",
      "   macro avg       0.83      0.83      0.83      2974\n",
      "weighted avg       0.86      0.86      0.86      2974\n",
      "\n"
     ]
    }
   ],
   "source": [
    "from sklearn.model_selection import cross_val_score, cross_val_predict\n",
    "from sklearn.model_selection import KFold\n",
    "from sklearn.metrics import classification_report\n",
    "from sklearn.metrics import confusion_matrix\n",
    "model=svm.SVC(kernel='linear',gamma='auto')\n",
    "model.fit(X,y)\n",
    "y_pred = cross_val_predict(model, X, y, cv=5)\n",
    "cm = confusion_matrix(y, y_pred)\n",
    "print(\"Binary classification-----\")\n",
    "recall = np.diag(cm) / np.sum(cm, axis=1)\n",
    "precision = np.diag(cm) / np.sum(cm, axis=0)\n",
    "\n",
    "        \n",
    "print(classification_report(y, y_pred))"
   ]
  },
  {
   "cell_type": "code",
   "execution_count": 22,
   "metadata": {},
   "outputs": [
    {
     "data": {
      "text/plain": [
       "0.8564223268325487"
      ]
     },
     "execution_count": 22,
     "metadata": {},
     "output_type": "execute_result"
    }
   ],
   "source": [
    "accuracy_score(y,y_pred)"
   ]
  },
  {
   "cell_type": "markdown",
   "metadata": {},
   "source": [
    "# Matrice de confusion"
   ]
  },
  {
   "cell_type": "code",
   "execution_count": 23,
   "metadata": {},
   "outputs": [],
   "source": [
    "#pip install mlxtend\n"
   ]
  },
  {
   "cell_type": "code",
   "execution_count": 24,
   "metadata": {},
   "outputs": [
    {
     "data": {
      "image/png": "[encoded data removed]",
      "text/plain": [
       "<Figure size 432x288 with 1 Axes>"
      ]
     },
     "metadata": {
      "needs_background": "light"
     },
     "output_type": "display_data"
    }
   ],
   "source": [
    "import matplotlib.pyplot as plt\n",
    "from mlxtend.evaluate import confusion_matrix\n",
    "from mlxtend.plotting import plot_confusion_matrix\n",
    "\n",
    "fig, ax = plot_confusion_matrix(conf_mat=cm)\n",
    "plt.show()"
   ]
  },
  {
   "cell_type": "markdown",
   "metadata": {},
   "source": [
    "# Random-Forest"
   ]
  },
  {
   "cell_type": "code",
   "execution_count": 25,
   "metadata": {},
   "outputs": [
    {
     "name": "stdout",
     "output_type": "stream",
     "text": [
      "Binary classification-----\n",
      "              precision    recall  f1-score   support\n",
      "\n",
      "       False       0.88      0.94      0.91      2105\n",
      "        True       0.83      0.68      0.75       869\n",
      "\n",
      "    accuracy                           0.87      2974\n",
      "   macro avg       0.85      0.81      0.83      2974\n",
      "weighted avg       0.86      0.87      0.86      2974\n",
      "\n"
     ]
    }
   ],
   "source": [
    "\n",
    "from sklearn.ensemble import RandomForestClassifier\n",
    "\n",
    "model=RandomForestClassifier(n_estimators=500)\n",
    "model.fit(X,y)\n",
    "y_pred = cross_val_predict(model, X, y, cv=5)\n",
    "print(\"Binary classification-----\")\n",
    "cm = confusion_matrix(y, y_pred)\n",
    "recall = np.diag(cm) / np.sum(cm, axis=1)\n",
    "precision = np.diag(cm) / np.sum(cm, axis=0)\n",
    "\n",
    "        \n",
    "print(classification_report(y, y_pred))\n"
   ]
  },
  {
   "cell_type": "code",
   "execution_count": null,
   "metadata": {},
   "outputs": [],
   "source": []
  },
  {
   "cell_type": "code",
   "execution_count": 26,
   "metadata": {},
   "outputs": [
    {
     "data": {
      "image/png": "[encoded data removed]",
      "text/plain": [
       "<Figure size 432x288 with 1 Axes>"
      ]
     },
     "metadata": {
      "needs_background": "light"
     },
     "output_type": "display_data"
    }
   ],
   "source": [
    "import matplotlib.pyplot as plt\n",
    "from mlxtend.evaluate import confusion_matrix\n",
    "from mlxtend.plotting import plot_confusion_matrix\n",
    "\n",
    "fig, ax = plot_confusion_matrix(conf_mat=cm)\n",
    "plt.show()"
   ]
  },
  {
   "cell_type": "code",
   "execution_count": null,
   "metadata": {},
   "outputs": [],
   "source": []
  }
 ],
 "metadata": {
  "kernelspec": {
   "display_name": "Python 3",
   "language": "python",
   "name": "python3"
  },
  "language_info": {
   "codemirror_mode": {
    "name": "ipython",
    "version": 3
   },
   "file_extension": ".py",
   "mimetype": "text/x-python",
   "name": "python",
   "nbconvert_exporter": "python",
   "pygments_lexer": "ipython3",
   "version": "3.8.3"
  }
 },
 "nbformat": 4,
 "nbformat_minor": 4
}
