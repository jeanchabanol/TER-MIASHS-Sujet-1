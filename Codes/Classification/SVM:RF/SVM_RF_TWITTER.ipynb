{
 "cells": [
  {
   "cell_type": "code",
   "execution_count": 1,
   "metadata": {},
   "outputs": [],
   "source": [
    "import numpy as np\n",
    "import pandas as pd\n",
    "from sklearn import svm\n",
    "import matplotlib.pyplot as plt\n",
    "from sklearn.model_selection import RandomizedSearchCV\n",
    "from sklearn.model_selection import train_test_split\n",
    "import pandas as pd\n",
    "import numpy as np\n",
    "import pandas as pd\n",
    "import numpy as np\n",
    "from nltk.tokenize import word_tokenize\n",
    "from nltk import pos_tag\n",
    "from nltk.corpus import stopwords\n",
    "from nltk.stem import WordNetLemmatizer\n",
    "from sklearn.preprocessing import LabelEncoder\n",
    "from collections import defaultdict\n",
    "from nltk.corpus import wordnet as wn\n",
    "from sklearn.feature_extraction.text import TfidfVectorizer\n",
    "from sklearn import model_selection, naive_bayes, svm\n",
    "from sklearn.metrics import accuracy_score"
   ]
  },
  {
   "cell_type": "code",
   "execution_count": 2,
   "metadata": {},
   "outputs": [],
   "source": [
    "# https://zestedesavoir.com/tutoriels/1760/un-peu-de-machine-learning-avec-les-svm/\n",
    "# https://ichi.pro/fr/guide-du-debutant-sur-la-classification-de-texte-avec-scikit-learn-109003449397050\n",
    "# https://medium.com/@bedigunjit/simple-guide-to-text-classification-nlp-using-svm-and-naive-bayes-with-python-421db3a72d34"
   ]
  },
  {
   "cell_type": "code",
   "execution_count": 3,
   "metadata": {},
   "outputs": [
    {
     "data": {
      "text/html": [
       "<div>\n",
       "<style scoped>\n",
       "    .dataframe tbody tr th:only-of-type {\n",
       "        vertical-align: middle;\n",
       "    }\n",
       "\n",
       "    .dataframe tbody tr th {\n",
       "        vertical-align: top;\n",
       "    }\n",
       "\n",
       "    .dataframe thead th {\n",
       "        text-align: right;\n",
       "    }\n",
       "</style>\n",
       "<table border=\"1\" class=\"dataframe\">\n",
       "  <thead>\n",
       "    <tr style=\"text-align: right;\">\n",
       "      <th></th>\n",
       "      <th>id</th>\n",
       "      <th>created_at</th>\n",
       "      <th>texte</th>\n",
       "      <th>suicide</th>\n",
       "    </tr>\n",
       "  </thead>\n",
       "  <tbody>\n",
       "    <tr>\n",
       "      <th>0</th>\n",
       "      <td>1338301295015374848</td>\n",
       "      <td>Mon Dec 14 01:54:27 +0000 2020</td>\n",
       "      <td>\"82% of children, youth, and young adults in s...</td>\n",
       "      <td>True</td>\n",
       "    </tr>\n",
       "    <tr>\n",
       "      <th>1</th>\n",
       "      <td>1238049720804794370</td>\n",
       "      <td>Thu Mar 12 10:30:29 +0000 2020</td>\n",
       "      <td>\"Emergency departments have seen a 25.5% incre...</td>\n",
       "      <td>True</td>\n",
       "    </tr>\n",
       "    <tr>\n",
       "      <th>2</th>\n",
       "      <td>1283426796097220614</td>\n",
       "      <td>Wed Jul 15 15:42:47 +0000 2020</td>\n",
       "      <td>\"Gun suicide was already a public health crisi...</td>\n",
       "      <td>True</td>\n",
       "    </tr>\n",
       "    <tr>\n",
       "      <th>3</th>\n",
       "      <td>1238512154636099586</td>\n",
       "      <td>Fri Mar 13 17:08:02 +0000 2020</td>\n",
       "      <td>\"I wanna end me\" means you want to end your ol...</td>\n",
       "      <td>True</td>\n",
       "    </tr>\n",
       "    <tr>\n",
       "      <th>4</th>\n",
       "      <td>1338771820615520256</td>\n",
       "      <td>Tue Dec 15 09:04:09 +0000 2020</td>\n",
       "      <td>\"In times of war, people focus on the outside ...</td>\n",
       "      <td>True</td>\n",
       "    </tr>\n",
       "    <tr>\n",
       "      <th>...</th>\n",
       "      <td>...</td>\n",
       "      <td>...</td>\n",
       "      <td>...</td>\n",
       "      <td>...</td>\n",
       "    </tr>\n",
       "    <tr>\n",
       "      <th>3522</th>\n",
       "      <td>1465648043127156738</td>\n",
       "      <td>1465648043127156738</td>\n",
       "      <td>&lt;U+0001F916&gt; Aave V2 position automatically Bo...</td>\n",
       "      <td>False</td>\n",
       "    </tr>\n",
       "    <tr>\n",
       "      <th>3523</th>\n",
       "      <td>1465650152488808459</td>\n",
       "      <td>1465650152488808459</td>\n",
       "      <td>&lt;U+0001F916&gt; Compound position automatically B...</td>\n",
       "      <td>False</td>\n",
       "    </tr>\n",
       "    <tr>\n",
       "      <th>3524</th>\n",
       "      <td>1465651618318323715</td>\n",
       "      <td>1465651618318323715</td>\n",
       "      <td>&lt;U+0001F916&gt; Compound position automatically B...</td>\n",
       "      <td>False</td>\n",
       "    </tr>\n",
       "    <tr>\n",
       "      <th>3525</th>\n",
       "      <td>1465646702078173184</td>\n",
       "      <td>1465646702078173184</td>\n",
       "      <td>&lt;U+0001F916&gt; Compound position automatically B...</td>\n",
       "      <td>False</td>\n",
       "    </tr>\n",
       "    <tr>\n",
       "      <th>3526</th>\n",
       "      <td>1465600173065715719</td>\n",
       "      <td>1465600173065715719</td>\n",
       "      <td>&lt;U+0001F97A&gt;&lt;U+2727&gt;                          ...</td>\n",
       "      <td>False</td>\n",
       "    </tr>\n",
       "  </tbody>\n",
       "</table>\n",
       "<p>3527 rows × 4 columns</p>\n",
       "</div>"
      ],
      "text/plain": [
       "                       id                      created_at  \\\n",
       "0     1338301295015374848  Mon Dec 14 01:54:27 +0000 2020   \n",
       "1     1238049720804794370  Thu Mar 12 10:30:29 +0000 2020   \n",
       "2     1283426796097220614  Wed Jul 15 15:42:47 +0000 2020   \n",
       "3     1238512154636099586  Fri Mar 13 17:08:02 +0000 2020   \n",
       "4     1338771820615520256  Tue Dec 15 09:04:09 +0000 2020   \n",
       "...                   ...                             ...   \n",
       "3522  1465648043127156738             1465648043127156738   \n",
       "3523  1465650152488808459             1465650152488808459   \n",
       "3524  1465651618318323715             1465651618318323715   \n",
       "3525  1465646702078173184             1465646702078173184   \n",
       "3526  1465600173065715719             1465600173065715719   \n",
       "\n",
       "                                                  texte  suicide  \n",
       "0     \"82% of children, youth, and young adults in s...     True  \n",
       "1     \"Emergency departments have seen a 25.5% incre...     True  \n",
       "2     \"Gun suicide was already a public health crisi...     True  \n",
       "3     \"I wanna end me\" means you want to end your ol...     True  \n",
       "4     \"In times of war, people focus on the outside ...     True  \n",
       "...                                                 ...      ...  \n",
       "3522  <U+0001F916> Aave V2 position automatically Bo...    False  \n",
       "3523  <U+0001F916> Compound position automatically B...    False  \n",
       "3524  <U+0001F916> Compound position automatically B...    False  \n",
       "3525  <U+0001F916> Compound position automatically B...    False  \n",
       "3526  <U+0001F97A><U+2727>                          ...    False  \n",
       "\n",
       "[3527 rows x 4 columns]"
      ]
     },
     "execution_count": 3,
     "metadata": {},
     "output_type": "execute_result"
    }
   ],
   "source": [
    "Corpus = pd.read_csv(\"Données Twitter/Jeu de données final/donnees_twitter_total.csv\")\n",
    "\n",
    "\n",
    "#Corpus = pd.read_csv(\"test.csv\") A mettre comme ça parce que moi j'avais un bugg (et ca separe les mots de cotent par des ,)\n",
    "Corpus"
   ]
  },
  {
   "cell_type": "code",
   "execution_count": 4,
   "metadata": {},
   "outputs": [
    {
     "data": {
      "text/plain": [
       "(3527, 4)"
      ]
     },
     "execution_count": 4,
     "metadata": {},
     "output_type": "execute_result"
    }
   ],
   "source": [
    "Corpus.shape"
   ]
  },
  {
   "cell_type": "markdown",
   "metadata": {},
   "source": [
    "# Visualisation et Traitement"
   ]
  },
  {
   "cell_type": "code",
   "execution_count": 5,
   "metadata": {},
   "outputs": [],
   "source": [
    "##On commence le nettoyage des données en cherchant s'il y a des lignes dupliqués. \n",
    "Corpus = Corpus.drop_duplicates()"
   ]
  },
  {
   "cell_type": "code",
   "execution_count": 6,
   "metadata": {},
   "outputs": [
    {
     "data": {
      "text/plain": [
       "12"
      ]
     },
     "execution_count": 6,
     "metadata": {},
     "output_type": "execute_result"
    }
   ],
   "source": [
    "#On verifie qu'il y ai aucune valeur de content nulle\n",
    "Corpus['texte'].isnull().sum()"
   ]
  },
  {
   "cell_type": "code",
   "execution_count": 7,
   "metadata": {},
   "outputs": [
    {
     "data": {
      "text/plain": [
       "0"
      ]
     },
     "execution_count": 7,
     "metadata": {},
     "output_type": "execute_result"
    }
   ],
   "source": [
    "Corpus=Corpus.dropna()\n",
    "Corpus['texte'].isnull().sum()"
   ]
  },
  {
   "cell_type": "code",
   "execution_count": 8,
   "metadata": {
    "scrolled": true
   },
   "outputs": [
    {
     "data": {
      "image/png": "[encoded data removed]",
      "text/plain": [
       "<Figure size 432x288 with 1 Axes>"
      ]
     },
     "metadata": {
      "needs_background": "light"
     },
     "output_type": "display_data"
    }
   ],
   "source": [
    "import seaborn as sns\n",
    "Corpus['suicide'].value_counts()\n",
    "sns.countplot(x='suicide', data=Corpus, palette= \"hls\")\n",
    "plt.title(\"nombre de textes par catégorie\")\n",
    "plt.show()"
   ]
  },
  {
   "cell_type": "code",
   "execution_count": 9,
   "metadata": {},
   "outputs": [
    {
     "data": {
      "text/plain": [
       "False    2287\n",
       "True     1228\n",
       "Name: suicide, dtype: int64"
      ]
     },
     "execution_count": 9,
     "metadata": {},
     "output_type": "execute_result"
    }
   ],
   "source": [
    "Corpus['suicide'].value_counts()"
   ]
  },
  {
   "cell_type": "markdown",
   "metadata": {},
   "source": [
    "# Traitement"
   ]
  },
  {
   "cell_type": "code",
   "execution_count": 10,
   "metadata": {},
   "outputs": [],
   "source": [
    "df_parfaitX = Corpus.loc[Corpus['suicide']==True,:]\n",
    "df_parfaitY = Corpus.loc[Corpus['suicide']==False,:]"
   ]
  },
  {
   "cell_type": "code",
   "execution_count": 11,
   "metadata": {},
   "outputs": [],
   "source": [
    "df_parfaitY = df_parfaitY.sample(n=1228)\n",
    "Corpus = pd.concat([df_parfaitX,df_parfaitY])\n",
    "Corpus = Corpus.reset_index(drop =True)"
   ]
  },
  {
   "cell_type": "code",
   "execution_count": 12,
   "metadata": {},
   "outputs": [
    {
     "data": {
      "text/html": [
       "<div>\n",
       "<style scoped>\n",
       "    .dataframe tbody tr th:only-of-type {\n",
       "        vertical-align: middle;\n",
       "    }\n",
       "\n",
       "    .dataframe tbody tr th {\n",
       "        vertical-align: top;\n",
       "    }\n",
       "\n",
       "    .dataframe thead th {\n",
       "        text-align: right;\n",
       "    }\n",
       "</style>\n",
       "<table border=\"1\" class=\"dataframe\">\n",
       "  <thead>\n",
       "    <tr style=\"text-align: right;\">\n",
       "      <th></th>\n",
       "      <th>id</th>\n",
       "      <th>created_at</th>\n",
       "      <th>texte</th>\n",
       "      <th>suicide</th>\n",
       "    </tr>\n",
       "  </thead>\n",
       "  <tbody>\n",
       "    <tr>\n",
       "      <th>0</th>\n",
       "      <td>1338301295015374848</td>\n",
       "      <td>Mon Dec 14 01:54:27 +0000 2020</td>\n",
       "      <td>\"82% of children, youth, and young adults in s...</td>\n",
       "      <td>True</td>\n",
       "    </tr>\n",
       "    <tr>\n",
       "      <th>1</th>\n",
       "      <td>1238049720804794370</td>\n",
       "      <td>Thu Mar 12 10:30:29 +0000 2020</td>\n",
       "      <td>\"Emergency departments have seen a 25.5% incre...</td>\n",
       "      <td>True</td>\n",
       "    </tr>\n",
       "    <tr>\n",
       "      <th>2</th>\n",
       "      <td>1283426796097220614</td>\n",
       "      <td>Wed Jul 15 15:42:47 +0000 2020</td>\n",
       "      <td>\"Gun suicide was already a public health crisi...</td>\n",
       "      <td>True</td>\n",
       "    </tr>\n",
       "    <tr>\n",
       "      <th>3</th>\n",
       "      <td>1238512154636099586</td>\n",
       "      <td>Fri Mar 13 17:08:02 +0000 2020</td>\n",
       "      <td>\"I wanna end me\" means you want to end your ol...</td>\n",
       "      <td>True</td>\n",
       "    </tr>\n",
       "    <tr>\n",
       "      <th>4</th>\n",
       "      <td>1338771820615520256</td>\n",
       "      <td>Tue Dec 15 09:04:09 +0000 2020</td>\n",
       "      <td>\"In times of war, people focus on the outside ...</td>\n",
       "      <td>True</td>\n",
       "    </tr>\n",
       "    <tr>\n",
       "      <th>...</th>\n",
       "      <td>...</td>\n",
       "      <td>...</td>\n",
       "      <td>...</td>\n",
       "      <td>...</td>\n",
       "    </tr>\n",
       "    <tr>\n",
       "      <th>2451</th>\n",
       "      <td>1465618023763652609</td>\n",
       "      <td>1465618023763652609</td>\n",
       "      <td>&lt;U+0001F50A&gt;Shopping time &lt;U+0001F50A&gt;I am hop...</td>\n",
       "      <td>False</td>\n",
       "    </tr>\n",
       "    <tr>\n",
       "      <th>2452</th>\n",
       "      <td>1465599282199904262</td>\n",
       "      <td>1465599282199904262</td>\n",
       "      <td>Happy birthday to you dear may you live a long...</td>\n",
       "      <td>False</td>\n",
       "    </tr>\n",
       "    <tr>\n",
       "      <th>2453</th>\n",
       "      <td>1465599815983710212</td>\n",
       "      <td>1465599815983710212</td>\n",
       "      <td>if you know me you�ll know i absolutely DESPIS...</td>\n",
       "      <td>False</td>\n",
       "    </tr>\n",
       "    <tr>\n",
       "      <th>2454</th>\n",
       "      <td>1465600184474292227</td>\n",
       "      <td>1465600184474292227</td>\n",
       "      <td>She was so happy here</td>\n",
       "      <td>False</td>\n",
       "    </tr>\n",
       "    <tr>\n",
       "      <th>2455</th>\n",
       "      <td>1465599696731258882</td>\n",
       "      <td>1465599696731258882</td>\n",
       "      <td>Ppl get tired of seeing u happy &lt;U+0001F603&gt; w...</td>\n",
       "      <td>False</td>\n",
       "    </tr>\n",
       "  </tbody>\n",
       "</table>\n",
       "<p>2456 rows × 4 columns</p>\n",
       "</div>"
      ],
      "text/plain": [
       "                       id                      created_at  \\\n",
       "0     1338301295015374848  Mon Dec 14 01:54:27 +0000 2020   \n",
       "1     1238049720804794370  Thu Mar 12 10:30:29 +0000 2020   \n",
       "2     1283426796097220614  Wed Jul 15 15:42:47 +0000 2020   \n",
       "3     1238512154636099586  Fri Mar 13 17:08:02 +0000 2020   \n",
       "4     1338771820615520256  Tue Dec 15 09:04:09 +0000 2020   \n",
       "...                   ...                             ...   \n",
       "2451  1465618023763652609             1465618023763652609   \n",
       "2452  1465599282199904262             1465599282199904262   \n",
       "2453  1465599815983710212             1465599815983710212   \n",
       "2454  1465600184474292227             1465600184474292227   \n",
       "2455  1465599696731258882             1465599696731258882   \n",
       "\n",
       "                                                  texte  suicide  \n",
       "0     \"82% of children, youth, and young adults in s...     True  \n",
       "1     \"Emergency departments have seen a 25.5% incre...     True  \n",
       "2     \"Gun suicide was already a public health crisi...     True  \n",
       "3     \"I wanna end me\" means you want to end your ol...     True  \n",
       "4     \"In times of war, people focus on the outside ...     True  \n",
       "...                                                 ...      ...  \n",
       "2451  <U+0001F50A>Shopping time <U+0001F50A>I am hop...    False  \n",
       "2452  Happy birthday to you dear may you live a long...    False  \n",
       "2453  if you know me you�ll know i absolutely DESPIS...    False  \n",
       "2454                             She was so happy here     False  \n",
       "2455  Ppl get tired of seeing u happy <U+0001F603> w...    False  \n",
       "\n",
       "[2456 rows x 4 columns]"
      ]
     },
     "execution_count": 12,
     "metadata": {},
     "output_type": "execute_result"
    }
   ],
   "source": [
    "Corpus"
   ]
  },
  {
   "cell_type": "code",
   "execution_count": 13,
   "metadata": {
    "scrolled": true
   },
   "outputs": [
    {
     "data": {
      "image/png": "[encoded data removed]",
      "text/plain": [
       "<Figure size 432x288 with 1 Axes>"
      ]
     },
     "metadata": {
      "needs_background": "light"
     },
     "output_type": "display_data"
    }
   ],
   "source": [
    "import seaborn as sns\n",
    "Corpus['suicide'].value_counts()\n",
    "sns.countplot(x='suicide', data=Corpus, palette= \"hls\")\n",
    "plt.title(\"nombre de textes par catégorie\")\n",
    "plt.show()"
   ]
  },
  {
   "cell_type": "code",
   "execution_count": 14,
   "metadata": {
    "scrolled": true
   },
   "outputs": [
    {
     "data": {
      "text/plain": [
       "False    1228\n",
       "True     1228\n",
       "Name: suicide, dtype: int64"
      ]
     },
     "execution_count": 14,
     "metadata": {},
     "output_type": "execute_result"
    }
   ],
   "source": [
    "Corpus['suicide'].value_counts()"
   ]
  },
  {
   "cell_type": "markdown",
   "metadata": {},
   "source": [
    "# Traitement de la données texte pour le model"
   ]
  },
  {
   "cell_type": "code",
   "execution_count": 15,
   "metadata": {},
   "outputs": [],
   "source": [
    "# Step - b : Change all the text to lower case. This is required as python interprets 'dog' and 'DOG' differently\n",
    "Corpus['texte'] = [entry.lower() for entry in Corpus['texte']]\n",
    "# Step - c : Tokenization : In this each entry in the corpus will be broken into set of words\n",
    "Corpus['tokenize']= [word_tokenize(entry) for entry in Corpus['texte']]\n",
    "# Step - d : Remove Stop words, Non-Numeric and perfom Word Stemming/Lemmenting.\n",
    "# WordNetLemmatizer requires Pos tags to understand if the word is noun or verb or adjective etc. By default it is set to Noun\n",
    "tag_map = defaultdict(lambda : wn.NOUN)\n",
    "tag_map['J'] = wn.ADJ\n",
    "tag_map['V'] = wn.VERB\n",
    "tag_map['R'] = wn.ADV\n",
    "for index,entry in enumerate(Corpus['tokenize']):\n",
    "    # Declaring Empty List to store the words that follow the rules for this step\n",
    "    Final_words = []\n",
    "    # Initializing WordNetLemmatizer()\n",
    "    word_Lemmatized = WordNetLemmatizer()\n",
    "    # pos_tag function below will provide the 'tag' i.e if the word is Noun(N) or Verb(V) or something else.\n",
    "    for word, tag in pos_tag(entry):\n",
    "        # Below condition is to check for Stop words and consider only alphabets\n",
    "        if word not in stopwords.words('english') and word.isalpha():\n",
    "            word_Final = word_Lemmatized.lemmatize(word,tag_map[tag[0]])\n",
    "            Final_words.append(word_Final)\n",
    "    # The final processed set of words for each iteration will be stored in 'text_final'\n",
    "    Corpus.loc[index,'text_final'] = str(Final_words)"
   ]
  },
  {
   "cell_type": "code",
   "execution_count": 16,
   "metadata": {},
   "outputs": [
    {
     "data": {
      "text/html": [
       "<div>\n",
       "<style scoped>\n",
       "    .dataframe tbody tr th:only-of-type {\n",
       "        vertical-align: middle;\n",
       "    }\n",
       "\n",
       "    .dataframe tbody tr th {\n",
       "        vertical-align: top;\n",
       "    }\n",
       "\n",
       "    .dataframe thead th {\n",
       "        text-align: right;\n",
       "    }\n",
       "</style>\n",
       "<table border=\"1\" class=\"dataframe\">\n",
       "  <thead>\n",
       "    <tr style=\"text-align: right;\">\n",
       "      <th></th>\n",
       "      <th>id</th>\n",
       "      <th>created_at</th>\n",
       "      <th>texte</th>\n",
       "      <th>suicide</th>\n",
       "      <th>tokenize</th>\n",
       "      <th>text_final</th>\n",
       "    </tr>\n",
       "  </thead>\n",
       "  <tbody>\n",
       "    <tr>\n",
       "      <th>0</th>\n",
       "      <td>1338301295015374848</td>\n",
       "      <td>Mon Dec 14 01:54:27 +0000 2020</td>\n",
       "      <td>\"82% of children, youth, and young adults in s...</td>\n",
       "      <td>True</td>\n",
       "      <td>[``, 82, %, of, children, ,, youth, ,, and, yo...</td>\n",
       "      <td>['child', 'youth', 'young', 'adult', 'system',...</td>\n",
       "    </tr>\n",
       "    <tr>\n",
       "      <th>1</th>\n",
       "      <td>1238049720804794370</td>\n",
       "      <td>Thu Mar 12 10:30:29 +0000 2020</td>\n",
       "      <td>\"emergency departments have seen a 25.5% incre...</td>\n",
       "      <td>True</td>\n",
       "      <td>[``, emergency, departments, have, seen, a, 25...</td>\n",
       "      <td>['emergency', 'department', 'see', 'increase',...</td>\n",
       "    </tr>\n",
       "    <tr>\n",
       "      <th>2</th>\n",
       "      <td>1283426796097220614</td>\n",
       "      <td>Wed Jul 15 15:42:47 +0000 2020</td>\n",
       "      <td>\"gun suicide was already a public health crisi...</td>\n",
       "      <td>True</td>\n",
       "      <td>[``, gun, suicide, was, already, a, public, he...</td>\n",
       "      <td>['gun', 'suicide', 'already', 'public', 'healt...</td>\n",
       "    </tr>\n",
       "    <tr>\n",
       "      <th>3</th>\n",
       "      <td>1238512154636099586</td>\n",
       "      <td>Fri Mar 13 17:08:02 +0000 2020</td>\n",
       "      <td>\"i wanna end me\" means you want to end your ol...</td>\n",
       "      <td>True</td>\n",
       "      <td>[``, i, wan, na, end, me, '', means, you, want...</td>\n",
       "      <td>['wan', 'na', 'end', 'mean', 'want', 'end', 'o...</td>\n",
       "    </tr>\n",
       "    <tr>\n",
       "      <th>4</th>\n",
       "      <td>1338771820615520256</td>\n",
       "      <td>Tue Dec 15 09:04:09 +0000 2020</td>\n",
       "      <td>\"in times of war, people focus on the outside ...</td>\n",
       "      <td>True</td>\n",
       "      <td>[``, in, times, of, war, ,, people, focus, on,...</td>\n",
       "      <td>['time', 'war', 'people', 'focus', 'outside', ...</td>\n",
       "    </tr>\n",
       "    <tr>\n",
       "      <th>...</th>\n",
       "      <td>...</td>\n",
       "      <td>...</td>\n",
       "      <td>...</td>\n",
       "      <td>...</td>\n",
       "      <td>...</td>\n",
       "      <td>...</td>\n",
       "    </tr>\n",
       "    <tr>\n",
       "      <th>2451</th>\n",
       "      <td>1465618023763652609</td>\n",
       "      <td>1465618023763652609</td>\n",
       "      <td>&lt;u+0001f50a&gt;shopping time &lt;u+0001f50a&gt;i am hop...</td>\n",
       "      <td>False</td>\n",
       "      <td>[&lt;, u+0001f50a, &gt;, shopping, time, &lt;, u+0001f5...</td>\n",
       "      <td>['shopping', 'time', 'hop', 'sell', 'zeta', 'g...</td>\n",
       "    </tr>\n",
       "    <tr>\n",
       "      <th>2452</th>\n",
       "      <td>1465599282199904262</td>\n",
       "      <td>1465599282199904262</td>\n",
       "      <td>happy birthday to you dear may you live a long...</td>\n",
       "      <td>False</td>\n",
       "      <td>[happy, birthday, to, you, dear, may, you, liv...</td>\n",
       "      <td>['happy', 'birthday', 'dear', 'may', 'live', '...</td>\n",
       "    </tr>\n",
       "    <tr>\n",
       "      <th>2453</th>\n",
       "      <td>1465599815983710212</td>\n",
       "      <td>1465599815983710212</td>\n",
       "      <td>if you know me you�ll know i absolutely despis...</td>\n",
       "      <td>False</td>\n",
       "      <td>[if, you, know, me, you�ll, know, i, absolutel...</td>\n",
       "      <td>['know', 'know', 'absolutely', 'despise', 'job...</td>\n",
       "    </tr>\n",
       "    <tr>\n",
       "      <th>2454</th>\n",
       "      <td>1465600184474292227</td>\n",
       "      <td>1465600184474292227</td>\n",
       "      <td>she was so happy here</td>\n",
       "      <td>False</td>\n",
       "      <td>[she, was, so, happy, here]</td>\n",
       "      <td>['happy']</td>\n",
       "    </tr>\n",
       "    <tr>\n",
       "      <th>2455</th>\n",
       "      <td>1465599696731258882</td>\n",
       "      <td>1465599696731258882</td>\n",
       "      <td>ppl get tired of seeing u happy &lt;u+0001f603&gt; w...</td>\n",
       "      <td>False</td>\n",
       "      <td>[ppl, get, tired, of, seeing, u, happy, &lt;, u+0...</td>\n",
       "      <td>['ppl', 'get', 'tire', 'see', 'u', 'happy', 'w...</td>\n",
       "    </tr>\n",
       "  </tbody>\n",
       "</table>\n",
       "<p>2456 rows × 6 columns</p>\n",
       "</div>"
      ],
      "text/plain": [
       "                       id                      created_at  \\\n",
       "0     1338301295015374848  Mon Dec 14 01:54:27 +0000 2020   \n",
       "1     1238049720804794370  Thu Mar 12 10:30:29 +0000 2020   \n",
       "2     1283426796097220614  Wed Jul 15 15:42:47 +0000 2020   \n",
       "3     1238512154636099586  Fri Mar 13 17:08:02 +0000 2020   \n",
       "4     1338771820615520256  Tue Dec 15 09:04:09 +0000 2020   \n",
       "...                   ...                             ...   \n",
       "2451  1465618023763652609             1465618023763652609   \n",
       "2452  1465599282199904262             1465599282199904262   \n",
       "2453  1465599815983710212             1465599815983710212   \n",
       "2454  1465600184474292227             1465600184474292227   \n",
       "2455  1465599696731258882             1465599696731258882   \n",
       "\n",
       "                                                  texte  suicide  \\\n",
       "0     \"82% of children, youth, and young adults in s...     True   \n",
       "1     \"emergency departments have seen a 25.5% incre...     True   \n",
       "2     \"gun suicide was already a public health crisi...     True   \n",
       "3     \"i wanna end me\" means you want to end your ol...     True   \n",
       "4     \"in times of war, people focus on the outside ...     True   \n",
       "...                                                 ...      ...   \n",
       "2451  <u+0001f50a>shopping time <u+0001f50a>i am hop...    False   \n",
       "2452  happy birthday to you dear may you live a long...    False   \n",
       "2453  if you know me you�ll know i absolutely despis...    False   \n",
       "2454                             she was so happy here     False   \n",
       "2455  ppl get tired of seeing u happy <u+0001f603> w...    False   \n",
       "\n",
       "                                               tokenize  \\\n",
       "0     [``, 82, %, of, children, ,, youth, ,, and, yo...   \n",
       "1     [``, emergency, departments, have, seen, a, 25...   \n",
       "2     [``, gun, suicide, was, already, a, public, he...   \n",
       "3     [``, i, wan, na, end, me, '', means, you, want...   \n",
       "4     [``, in, times, of, war, ,, people, focus, on,...   \n",
       "...                                                 ...   \n",
       "2451  [<, u+0001f50a, >, shopping, time, <, u+0001f5...   \n",
       "2452  [happy, birthday, to, you, dear, may, you, liv...   \n",
       "2453  [if, you, know, me, you�ll, know, i, absolutel...   \n",
       "2454                        [she, was, so, happy, here]   \n",
       "2455  [ppl, get, tired, of, seeing, u, happy, <, u+0...   \n",
       "\n",
       "                                             text_final  \n",
       "0     ['child', 'youth', 'young', 'adult', 'system',...  \n",
       "1     ['emergency', 'department', 'see', 'increase',...  \n",
       "2     ['gun', 'suicide', 'already', 'public', 'healt...  \n",
       "3     ['wan', 'na', 'end', 'mean', 'want', 'end', 'o...  \n",
       "4     ['time', 'war', 'people', 'focus', 'outside', ...  \n",
       "...                                                 ...  \n",
       "2451  ['shopping', 'time', 'hop', 'sell', 'zeta', 'g...  \n",
       "2452  ['happy', 'birthday', 'dear', 'may', 'live', '...  \n",
       "2453  ['know', 'know', 'absolutely', 'despise', 'job...  \n",
       "2454                                          ['happy']  \n",
       "2455  ['ppl', 'get', 'tire', 'see', 'u', 'happy', 'w...  \n",
       "\n",
       "[2456 rows x 6 columns]"
      ]
     },
     "execution_count": 16,
     "metadata": {},
     "output_type": "execute_result"
    }
   ],
   "source": [
    "Corpus"
   ]
  },
  {
   "cell_type": "code",
   "execution_count": 17,
   "metadata": {},
   "outputs": [],
   "source": [
    "y=Corpus['suicide']\n",
    "X=Corpus['texte']"
   ]
  },
  {
   "cell_type": "code",
   "execution_count": 18,
   "metadata": {},
   "outputs": [],
   "source": [
    "#These will now contain for each row a list of unique integer number and its associated importance \n",
    "#as calculated by TF-IDF.\n",
    "vector = TfidfVectorizer(max_features=5000) #Their will be maximum of 5000 unique words/features as we have set parameter max_features=5000.\n",
    "X=vector.fit_transform(X)"
   ]
  },
  {
   "cell_type": "code",
   "execution_count": 19,
   "metadata": {},
   "outputs": [],
   "source": [
    "#Train_X, Test_X, Train_Y, Test_Y = model_selection.train_test_split(Corpus['text_final'],Corpus['suicide'],test_size=0.3)"
   ]
  },
  {
   "cell_type": "code",
   "execution_count": 20,
   "metadata": {},
   "outputs": [],
   "source": [
    "#transforme les string en numérique pour que le model puisse prendre les données \n",
    "#Encoder = LabelEncoder()\n",
    "#Train_Y = Encoder.fit_transform(Train_Y)\n",
    "#Test_Y = Encoder.fit_transform(Test_Y)"
   ]
  },
  {
   "cell_type": "code",
   "execution_count": 21,
   "metadata": {},
   "outputs": [],
   "source": [
    "#These will now contain for each row a list of unique integer number and its associated importance \n",
    "#as calculated by TF-IDF.\n",
    "#Tfidf_vect = TfidfVectorizer(max_features=5000) #Their will be maximum of 5000 unique words/features as we have set parameter max_features=5000.\n",
    "\n",
    "#Tfidf_vect.fit(Corpus['text_final'])\n",
    "#Train_X_Tfidf = Tfidf_vect.transform(Train_X)\n",
    "#Test_X_Tfidf = Tfidf_vect.transform(Test_X)"
   ]
  },
  {
   "cell_type": "code",
   "execution_count": 22,
   "metadata": {},
   "outputs": [
    {
     "name": "stdout",
     "output_type": "stream",
     "text": [
      "  (0, 4347)\t0.04977976017158163\n",
      "  (0, 876)\t0.1360423825465676\n",
      "  (0, 4877)\t0.08912138787770721\n",
      "  (0, 363)\t0.17432279629490222\n",
      "  (0, 4499)\t0.0803791214769477\n",
      "  (0, 4346)\t0.1081568760896967\n",
      "  (0, 2368)\t0.15163382584476517\n",
      "  (0, 4496)\t0.223782846835575\n",
      "  (0, 458)\t0.1915476632359596\n",
      "  (0, 4036)\t0.161628661995252\n",
      "  (0, 1943)\t0.1915476632359596\n",
      "  (0, 1003)\t0.11669226991556546\n",
      "  (0, 1975)\t0.33434766118854986\n",
      "  (0, 4600)\t0.40324712895277937\n",
      "  (0, 3349)\t0.09433299133262688\n",
      "  (0, 2852)\t0.13351305917115572\n",
      "  (0, 866)\t0.08224253603345069\n",
      "  (0, 2007)\t0.3687973950706646\n",
      "  (0, 2413)\t0.1491789831727749\n",
      "  (0, 1265)\t0.1278080814675754\n",
      "  (0, 2601)\t0.05800913660972301\n",
      "  (0, 675)\t0.1843986975353323\n",
      "  (0, 4978)\t0.14994896365321755\n",
      "  (0, 763)\t0.09928447558901723\n",
      "  (0, 4985)\t0.161628661995252\n",
      "  :\t:\n",
      "  (2453, 1727)\t0.3491716545132941\n",
      "  (2453, 1649)\t0.17301401183406942\n",
      "  (2453, 2924)\t0.22758003464488763\n",
      "  (2453, 2572)\t0.1544009605863789\n",
      "  (2453, 4160)\t0.14842319086005473\n",
      "  (2453, 2800)\t0.3617496923985979\n",
      "  (2453, 3207)\t0.2619350217920605\n",
      "  (2453, 1187)\t0.14195440747451601\n",
      "  (2453, 2684)\t0.11564189858123962\n",
      "  (2453, 4977)\t0.2447005853854199\n",
      "  (2453, 3053)\t0.14297265238383172\n",
      "  (2454, 2390)\t0.3139191010993538\n",
      "  (2454, 4059)\t0.5411090697338086\n",
      "  (2454, 2449)\t0.5411090697338086\n",
      "  (2454, 4160)\t0.39628860417415207\n",
      "  (2454, 4817)\t0.3985123454427735\n",
      "  (2455, 3136)\t0.46925592693834445\n",
      "  (2455, 131)\t0.4551446383785903\n",
      "  (2455, 3997)\t0.3777547781462384\n",
      "  (2455, 3590)\t0.33775492919512373\n",
      "  (2455, 4533)\t0.40528368894207506\n",
      "  (2455, 2390)\t0.15800786619937943\n",
      "  (2455, 4484)\t0.21330221888476372\n",
      "  (2455, 2261)\t0.2486225446830606\n",
      "  (2455, 3320)\t0.1390424682293821\n"
     ]
    }
   ],
   "source": [
    "#data vectorisé\n",
    "#1: Row number of ‘Train_X_Tfidf’, \n",
    "#2: Unique Integer number of each word in the first row, \n",
    "#3: Score calculated by TF-IDF Vectorizer\n",
    "print(X)"
   ]
  },
  {
   "cell_type": "code",
   "execution_count": 23,
   "metadata": {},
   "outputs": [
    {
     "name": "stdout",
     "output_type": "stream",
     "text": [
      "{'82': 552, 'of': 3320, 'children': 1351, 'youth': 4985, 'and': 763, 'young': 4978, 'adults': 675, 'in': 2601, 'care': 1265, 'have': 2413, 'experienced': 2007, 'at': 866, 'least': 2852, 'one': 3349, 'traumatic': 4600, 'event': 1975, 'before': 1003, 'entering': 1943, 'services': 4036, '41': 458, 'those': 4496, 'had': 2368, 'suicidal': 4346, 'thoughts': 4499, '23': 363, 'who': 4877, 'attempted': 876, 'suicide': 4347, 'emergency': 1904, 'seen': 4003, '25': 368, 'increase': 2611, 'the': 4469, 'past': 3452, 'years': 4966, 'patients': 3457, 've': 4746, 'harmed': 2402, 'themselves': 4476, 'or': 3373, 'both': 1118, 'according': 629, 'to': 4537, 'cdc': 1290, 'report': 3832, 'it': 2692, 'latest': 2828, 'article': 843, 'raise': 3731, 'alarm': 719, 'about': 607, 'rates': 3743, 'gun': 2356, 'was': 4817, 'already': 736, 'public': 3677, 'health': 2426, 'crisis': 1577, 'this': 4494, 'country': 1536, 'well': 4851, 'coronavirus': 1517, 'hit': 2484, 'our': 3386, 'as': 846, 'we': 4833, 'started': 4261, 'see': 3996, 'tremendous': 4612, 'spike': 4218, 'sales': 3944, 'then': 4477, 'these': 4483, 'unemployment': 4679, 'that': 4466, 'concern': 1459, 'wanna': 4805, 'end': 1918, 'me': 3053, 'means': 3056, 'you': 4977, 'want': 4806, 'your': 4981, 'old': 3338, 'interpretation': 2665, 'yourself': 4983, 'how': 2530, 're': 3750, 'perceived': 3480, 'by': 1193, 'others': 3384, 'doesn': 1802, 'more': 3170, 'negative': 3241, 'wanting': 4808, 'commit': 1431, 'am': 744, 'correct': 1518, 'times': 4527, 'war': 4810, 'people': 3476, 'focus': 2145, 'on': 3347, 'outside': 3392, 'world': 4924, 'which': 4873, 'would': 4934, 'mean': 3054, 'once': 3348, 'when': 4868, 'pandemic': 3426, 'is': 2684, 'still': 4284, 'certain': 1306, 'irony': 2682, 'asking': 854, 'for': 2158, 'speculation': 4211, 'after': 690, 'can': 1247, 'replace': 3827, 'data': 1643, 'bit': 1065, 'difficult': 1763, 'first': 2122, 'bcs': 981, 'alone': 733, 'amp': 757, 'speak': 4205, 'different': 1762, 'but': 1187, 'now': 3298, 'feel': 2076, 'pretty': 3612, 'good': 2303, 'work': 4919, 'tell': 4440, 'women': 4908, 'there': 4481, 'are': 824, 'other': 3383, 'solutions': 4172, 'such': 4336, 'syria': 4395, 'do': 1797, 'deal': 1658, 'with': 4901, 'my': 3207, 'toward': 4573, 'god': 2294, 'nearly': 3235, 'everyone': 1981, 'know': 2800, 'gaza': 2243, 'has': 2408, 'contemplated': 1490, 'than': 4460, 'despite': 1728, 'deep': 1680, 'taboo': 4398, '2020': 351, 'heading': 2421, 'record': 3776, 'suicides': 4350, 'most': 3172, 'unemployed': 4678, 'suffocated': 4345, 'despair': 1724, 'muhammad': 3189, 'so': 4160, 'here': 2449, 'playground': 3536, 'broken': 1149, 'heartsone': 2435, 'experience': 2006, 'entry': 1947, 'diary': 1750, 'self': 4011, 'pennedyet': 3474, 'another': 783, 'emotional': 1907, 'sentiment': 4024, 'pride': 3620, 'marillion': 3015, 'study': 4320, 'rate': 3742, 'approximately': 818, '100x': 312, 'global': 2287, 'during': 1861, 'months': 3167, 'admitted': 671, 'behaviors': 1009, 'near': 3234, 'victim': 4758, '39': 448, 'victims': 4759, 'died': 1755, 'some': 4175, 'dipression': 1767, 'conscious': 1479, 'does': 1801, 'not': 3288, 'hurt': 2548, 'get': 2261, 'up': 4701, 'from': 2203, 'sleep': 4140, 'ever': 1977, 'speaks': 4207, 'silence': 4108, 'them': 4474, 'may': 3048, 'reason': 3765, 'pm': 3545, 'issue': 2690, 'their': 4473, 'gop': 2309, 'leadership': 2844, 'positions': 3575, 'hiding': 2460, 'true': 4626, 'story': 4300, 'deaths': 1665, 'south': 4198, 'dakota': 1625, 'they': 4484, 'long': 2940, 'enough': 1939, 'complete': 1449, 'house': 2529, 'helped': 2443, 'nra': 3301, 'prevention': 3616, 'man': 3001, 'b12': 907, 'deficiency': 1687, 'memory': 3072, 'loss': 2955, 'depression': 1711, 'took': 4557, 'his': 2479, 'life': 2893, 'reminder': 3818, 'spectrum': 4210, 'mild': 3113, 'severe': 4043, 'suicideprevention': 4349, 'many': 3011, 'problems': 3634, 'society': 4164, 'tries': 4618, 'solve': 4173, 'legal': 2859, 'approaches': 817, 'better': 1038, 'solved': 4174, 'firearm': 2119, 'violence': 4768, 'family': 2046, 'out': 3387, 'jail': 2700, 'free': 2187, 'card': 1262, 'personal': 3491, 'choice': 1355, 'if': 2572, 'multiple': 3191, 'murder': 3195, 'did': 1751, 'personally': 3493, 'choose': 1358, 'be': 985, 'killed': 2786, 'taekookau': 4401, 'where': 4870, 'jungkook': 2749, 'highschool': 2468, 'quite': 3718, 'always': 743, 'getting': 2263, 'bullied': 1173, 'except': 1992, 'promise': 3651, 'leave': 2853, 'him': 2472, 'even': 1973, 'let': 2872, 'join': 2722, 'group': 2339, 'only': 3355, 'kiss': 2796, 'bad': 938, 'boy': 1128, 'kim': 2790, 'taehyung': 4400, 'reach': 3751, 'leaves': 2854, 'warehouse': 4811, 'spread': 4230, 'us': 4717, 'nope': 3284, 'no': 3274, 'logic': 2934, 'also': 739, 'officially': 3329, '10': 308, 'vs': 4789, 'cv': 1608, 'don': 1813, 'worry': 4928, 'going': 2297, 'just': 2752, 'expressing': 2015, 'enter': 1942, 'mind': 3121, 'try': 4633, 'everything': 1982, 'shut': 4097, 'down': 1827, 'gave': 2241, 'glimpse': 2286, 'into': 2668, 'what': 4861, 'actually': 656, 'like': 2898, 'committed': 1434, 'tw': 4649, 'recently': 3771, 'urges': 4714, 'knew': 2797, 'wasn': 4820, 'act': 643, 'bc': 975, 'being': 1013, 'knowing': 2801, 'because': 995, 'couldn': 1528, 'call': 1236, 'hotline': 2526, 'could': 1527, 'any': 796, 'solid': 4171, 'help': 2442, 'therapy': 4480, 'goes': 2296, 'doctor': 1798, 'antidepressants': 792, 'tells': 4442, 'haven': 2415, 'killing': 2788, 'myself': 3209, 'thinks': 4491, 'while': 4874, 'waiting': 4793, 'prescription': 3602, 'filled': 2101, 'fam': 2044, 'episodes': 1951, 'joke': 2727, 'through': 4511, 'never': 3251, '2016': 347, 'masks': 3031, 'told': 4543, 'someone': 4178, 'existence': 1999, 'll': 2924, 'right': 3878, 'mad': 2979, 'easily': 1872, 'suffering': 4344, 'abuse': 612, 'sexual': 4045, 'growing': 2341, 'done': 1817, 'shit': 4074, 'testifies': 4451, 'her': 2448, 'bill': 1054, 'dealers': 1659, 'give': 2277, 'information': 2633, 'allow': 728, 'take': 4403, 'an': 758, 'active': 647, 'role': 3900, 'saving': 3958, 'lives': 2922, 'really': 3764, 'tommy': 4549, 'think': 4489, 'ending': 1920, 'character': 1324, 'should': 4088, 'saved': 3957, 'kinda': 2792, 'phil': 3495, 'dream': 1835, 'why': 4885, 'prime': 3622, 'safe': 3937, 'ako': 717, 'sa': 3930, 'teacher': 4427, 'kasi': 2763, 'di': 1746, 'na': 3210, 'ng': 3265, 'ko': 2805, 'yung': 4991, 'defend': 1681, 'running': 3924, 'worst': 4930, 'taleb': 4407, 'black': 1071, 'been': 1001, 'best': 1033, 'book': 1103, 'chart': 1329, 'time': 4525, 'history': 2483, '1987': 335, 'monday': 3161, 'financial': 2108, 'he': 2418, '500': 473, 'city': 1375, 'lose': 2952, 'followers': 2152, 'receive': 3768, 'hate': 2410, 'tweet': 4650, 'however': 2531, 'honesty': 2508, 'else': 1902, 'own': 3404, 'body': 1096, 'yet': 4970, 'please': 3538, '11th': 320, 'nov': 3295, 'father': 2059, '2192': 359, '100': 309, 'points': 3552, '300': 406, 'dangerous': 1638, 'zone': 4996, 'enjoy': 1932, 'trapped': 4596, 'will': 4889, 'university': 4692, 'currently': 1599, 'studying': 4321, 'big': 1050, 'school': 3972, 'got': 2311, 'awards': 897, 'championship': 1313, 'whatever': 4862, 'humble': 2542, 'little': 2918, 'lived': 2920, 'very': 4750, 'flu': 2141, 'age': 694, 'bipolar': 1061, 'style': 4325, 'depressed': 1709, 'tried': 4617, 'drinking': 1839, '2017': 348, 'tbh': 4423, 'every': 1978, 'week': 4842, 'damn': 1631, 'horrible': 2517, 'too': 4556, 'rn': 3890, 'days': 1650, 'inside': 2645, 'makes': 2992, 'wave': 4829, 'white': 4875, 'flag': 2129, 'million': 3119, '18': 331, 'serious': 4031, 'non': 3280, 'hispanic': 2480, 'run': 3922, 'club': 1401, 'set': 4039, 'goal': 2292, 'miles': 3114, 'head': 2419, 'back': 934, 'new': 3252, 'game': 2234, 'called': 1237, 'visions': 4775, 'cw': 1609, 'isnt': 2688, 'perfect': 3484, 'sure': 4374, 'havent': 2416, 'played': 3533, 'ages': 697, 'literally': 2917, 'holding': 2492, 'friend': 2197, 'traffic': 4582, 'forever': 2164, 'carved': 1271, 'soul': 4192, 'american': 750, 'live': 2919, 'homes': 2502, 'guns': 2358, 'loaded': 2927, '200b': 341, 'kids': 2784, '17': 330, 'under': 4673, 'gain': 2231, 'access': 625, 'firearms': 2120, 'shoot': 4079, 'often': 3330, 'year': 4965, '600': 505, 'die': 1754, '69': 523, 'reported': 3833, 'having': 2417, 'prison': 3625, 'staff': 4248, 'witnessed': 4904, '73': 532, 'needed': 3239, 'attempts': 878, 'oh': 3332, 'she': 4059, 'felt': 2084, 'since': 4117, 'came': 1242, 'truly': 4627, 'heart': 2432, 'hear': 2429, 'fighting': 2097, 'hard': 2396, 'honestly': 2507, 'learned': 2850, 'course': 1543, 'mentioning': 3080, 'less': 2871, 'likely': 2900, 'trigger': 4619, 'open': 3360, 'doors': 1820, 'communication': 1438, 'bullies': 1174, 'ones': 3351, 'all': 726, 'said': 3940, 'imagine': 2587, 'arrested': 839, 'few': 2091, 'weeks': 4845, 'thrown': 4514, 'court': 1544, 'released': 3807, 'over': 3395, 'again': 691, 'poor': 3566, 'wrong': 4945, 'color': 1417, 'make': 2989, 'yeah': 4964, 'dude': 1853, 'expanding': 2002, '_miller': 591, 'bullshyt': 1177, 'based': 962, 'ignorance': 2575, 'direct': 1768, 'correlation': 1520, 'between': 1040, 'ownership': 3407, 'grow': 2340, 'proves': 3670, 'ignorant': 2576, 'united': 4689, 'states': 4266, 'higher': 2463, '26': 373, 'countries': 1535, 'combined': 1421, 'gtfohwtbs': 2344, 'assertion': 860, 'increases': 2613, 'males': 2997, 'committing': 1436, 'obviously': 3314, 'were': 4853, 'go': 2291, 'spin': 4219, 'stop': 4293, 'pushing': 3693, 'dumbass': 1856, 'needs': 3240, 'propaganda': 3657, 'starting': 4262, 'helping': 2445, 'veterans': 4752, 'using': 4726, '20': 338, 'per': 3479, 'day': 1649, 'america': 749, 'use': 4720, 'daily': 1624, 'facts': 2033, 'sources': 4197, 'brain': 1131, 'high': 2462, 'small': 4147, 'percentage': 3482, 'spare': 4203, 'tire': 4532, 'woman': 4907, 'include': 2604, 'disease': 1779, 'french': 2194, 'statistics': 4268, 'despise': 1727, 'argument': 829, 'classic': 1383, 'spoke': 4221, 'individual': 2626, 'stars': 4259, 'industry': 2628, 'itself': 2694, 'guys': 2364, 'office': 3326, 'pills': 3513, 'deadly': 1657, 'yes': 4968, 'conditions': 1464, 'devs': 1743, 'working': 4922, 'covid': 1550, 'related': 3801, 'shots': 4087, 'considered': 1481, 'cause': 1281, 'death': 1664, 'blame': 1072, 'whole': 4879, 'thing': 4487, 'nobody': 3277, 'gets': 2262, 'trouble': 4625, 'put': 3695, 'position': 3574, 'pain': 3420, 'dominates': 1812, 'money': 3162, 'thanks': 4464, 'treatment': 4609, 'able': 605, 'return': 3866, 'dont': 1818, 'fact': 2030, 'cent': 1299, 'shares': 4054, 'questionable': 3712, 'behaviour': 1010, 'capital': 1257, 'markets': 3020, 'leaked': 2848, 'low': 2966, 'volume': 4783, 'price': 3618, 'essentially': 1961, 'buy': 1189, 'sometimes': 4180, 'arguing': 828, 'horrors': 2518, 'proven': 3669, 'across': 642, 'control': 1499, 'proof': 3656, 'minority': 3131, 'trained': 4587, 'wat': 4822, 'rope': 3906, 'drink': 1838, 'pls': 3542, 'its': 2693, 'might': 3107, '0001f60f': 140, '0001f602': 130, 'believe': 1016, 'nothing': 3291, 'impossible': 2596, 'comes': 1424, 'state': 4264, 'forget': 2167, 'cos': 1522, 'dem': 1697, 'pay': 3461, 'much': 3188, 'seriously': 4032, 'okay': 3336, 'feeling': 2077, 'prevails': 3613, 'sad': 3934, 'come': 1422, 'stronger': 4309, 'respect': 3850, 'dc': 1653, 'wouldn': 4935, 'watch': 4823, 'squad': 4237, 'thank': 4461, 'spirit': 4220, 'point': 3551, 'offering': 3325, 'way': 4830, 'cry': 1587, 'edge': 1881, '13': 322, 'music': 3200, 'voice': 4781, 'mine': 3123, 'says': 3962, 'problematic': 3633, 'saying': 3961, 'anything': 800, 'stans': 4256, 'gt': 2343, 'complex': 1452, 'afraid': 688, 'lot': 2957, 'stupid': 4324, 'stuff': 4322, 'home': 2498, 'need': 3238, 'protect': 3662, 'owning': 3408, 'chances': 1315, 'theft': 4471, 'innocent': 2638, '200': 339, '000': 1, 'forms': 2172, 'things': 4488, 'look': 2944, 'car': 1261, 'puts': 3696, 'criminal': 1575, 'hands': 2379, 'maybe': 3049, 'didn': 1752, 'professional': 3642, 'ahead': 704, 'matter': 3043, 'start': 4260, 'including': 2606, 'jr': 2737, '0001f5e3': 128, 'quick': 3714, 'label': 2815, 'move': 3178, '0001f451': 88, 'case': 1272, 'theres': 4482, 'whats': 4864, 'acting': 644, 'off': 3321, 'eu': 1968, 'resources': 3849, 'yourselves': 4984, 'manga': 3006, 'finally': 2106, 'excuse': 1997, 'traumatized': 4601, 'something': 4179, 'laugh': 2830, 'funny': 2222, 'ready': 3757, 'situation': 4128, 'sweetest': 4389, 'wonderful': 4913, 'fight': 2095, 'thru': 4515, 'anyone': 799, 'talking': 4412, 'gone': 2301, 'push': 3691, 'adhd': 668, 'anyway': 801, 'fine': 2113, 'compared': 1444, 'period': 3487, 'nigga': 3271, 'struggling': 4315, 'doing': 1807, 'views': 4764, 'lol': 2937, '0001f3fd': 75, 'thinking': 4490, 'giving': 2281, 'overdosed': 3399, 'etc': 1964, 'mental': 3076, 'illness': 2583, 'issues': 2691, 'indigenous': 2625, '16': 329, '15': 328, 'identify': 2563, 'lgbtq': 2880, '14': 325, 'parents': 3437, '_twt': 598, 'gonna': 2302, 'kept': 2777, 'blamed': 1073, 'teachers': 4428, 'realised': 3760, 'doubt': 1825, 'attack': 872, 'directly': 1769, 'fun': 2217, 'top': 4558, 'certainly': 1307, 'degree': 1689, 'box': 1125, 'fury': 2224, 'power': 3588, 'against': 692, 'guard': 2347, 'lighter': 2897, 'today': 4539, 'shot': 4086, 'herself': 2454, 'foot': 2156, 'contemplating': 1491, 'manipulative': 3009, 'beaten': 990, 'mother': 3174, 'threatened': 4504, 'fear': 2069, 'shelters': 4066, 'dad': 1621, 'protection': 3664, 'men': 3073, 'used': 4721, 'remember': 3816, 'truth': 4632, 'private': 3626, 'political': 3558, 'daughter': 1646, 'realized': 3763, 'daddy': 1622, 'guilty': 2355, 'along': 734, 'person': 3490, 'online': 3354, 'interested': 2660, '2nd': 404, 'research': 3843, 'read': 3755, 'indicates': 2622, 'significant': 4105, 'difference': 1761, 'reduce': 3781, 'homicide': 2503, 'saw': 3959, 'worse': 4929, 'avoid': 894, 'looked': 2945, 'eyes': 2021, 'watered': 4828, 'same': 3946, 'buh': 1164, 'telling': 4441, 'turn': 4643, 'easy': 1874, 'hang': 2381, 'find': 2109, 'gives': 2280, 'hope': 2513, '0001f495': 100, 'dealt': 1662, 'beginning': 1007, 'bother': 1119, 'stood': 4292, 'acceptance': 622, 'bullying': 1179, 'assume': 864, 'support': 4365, 'transition': 4593, 'cases': 1273, 'laws': 2838, 'passed': 3449, 'longer': 2941, 'chance': 1314, 'involved': 2676, 'almost': 731, 'false': 2043, 'sense': 4020, 'safety': 3939, 'robert': 3895, 'wondering': 4914, 'findings': 2111, 'minimum': 3125, 'wage': 4790, 'thousands': 4500, 'looking': 2947, 'fucking': 2211, 'beef': 1000, 'opinion': 3364, 'male': 2996, 'bearing': 988, 'female': 2085, 'valid': 4738, 'kavenaugh': 2767, 'decisions': 1675, 'hes': 2455, 'stabbed': 4245, 'couldnt': 1529, 'count': 1533, 'nor': 3285, 'bitch': 1066, 'supreme': 4372, 'somebody': 4176, 'send': 4017, 'fuck': 2208, 'crying': 1588, 'loved': 2960, 'cried': 1572, 'grandma': 2323, 'away': 901, 'found': 2178, 'path': 3454, 'friends': 2199, 'wish': 4897, 'meet': 3066, 'rip': 3884, '0001f62d': 157, 'mf': 3100, 'handsome': 2380, 'protagonist': 3661, 'looks': 2948, '0001f606': 134, 'charity': 1328, 'oops': 3358, 'police': 3554, 'secret': 3990, 'corruption': 1521, 'address': 666, 'basic': 963, 'income': 2608, 'sonic': 4185, 'weapons': 4836, 'homelessness': 2501, 'guide': 2353, 'towards': 4574, 'say': 3960, 'arrest': 838, 'chop': 1360, 'turned': 4644, 'teens': 4438, 'celebrity': 1297, 'ego': 1891, 'success': 4334, 'sm': 4146, 'trying': 4634, 'following': 2153, 'making': 2994, 'accounts': 632, 'probably': 3631, 'status': 4270, 'wales': 4796, 'campaign': 1244, 'union': 4687, 'independent': 2618, 'realise': 3759, 'economic': 1878, 'though': 4497, 'facebook': 2026, 'celebrating': 1295, 'tomorrow': 4550, 'cure': 1595, 'exactly': 1989, 'limit': 2904, 'especially': 1959, 'canada': 1248, '7th': 546, 'liked': 2899, 'post': 3580, 'insta': 2649, 'punching': 3681, 'obsessed': 3312, 'trans': 4589, 'hardest': 2398, 'ended': 1919, 'hospital': 2520, 'makeup': 2993, 'outlet': 3388, 'love': 2959, 'buissness': 1168, 'usual': 4728, 'willing': 4890, 'profit': 3644, 'without': 4903, 'trump': 4628, 'finished': 2116, 'made': 2980, 'rich': 3876, 'enjoyed': 1934, 'part': 3440, 'although': 742, 'arkham': 831, 'apparently': 808, 'heard': 2430, 'hell': 2440, 'six': 4129, 'comics': 1426, 'changed': 1317, 'movie': 3181, 'won': 4910, 'problem': 3632, 'created': 1566, 'plan': 3524, 'customer': 1600, 'understand': 4674, 'ok': 3335, 'doin': 1806, '22': 360, 'veteran': 4751, 'awareness': 900, 'yesterday': 4969, '28': 398, '50': 472, 'wanted': 4807, 'attempt': 875, 'career': 1267, 'helps': 2447, '0001f926': 184, '200d': 342, '2642': 379, 'fe0f': 2067, 'agreed': 700, 'taking': 4406, 'boring': 1112, 'passing': 3451, 'fair': 2038, 'gf': 2264, 'either': 1894, 'constantly': 1484, 'forcing': 2162, 'relationship': 3802, 'instead': 2651, 'letting': 2876, 'interest': 2659, 'toxic': 4576, 'neither': 3243, 'keep': 2772, 'number': 3305, 'around': 836, 'loose': 2949, 'regulations': 3798, 'amount': 755, 'psychological': 3674, 'harm': 2401, 'legally': 2860, 'seek': 3998, 'asylum': 865, 'opportunism': 3366, 'ground': 2338, 'policies': 3555, 'shooting': 4080, 'himself': 2473, 'twice': 4653, 'opening': 3362, 'throw': 4512, '12': 321, 'feet': 2081, 'supposedly': 4371, 'tonight': 4554, 'pray': 3594, 'japan': 2702, 'numbers': 3306, 'change': 1316, 'replaced': 3828, 'considering': 1482, 'pretend': 3610, 'brexit': 1136, 'kind': 2791, 'expected': 2004, 'thought': 4498, 'tory': 4563, 'party': 3446, 'threatening': 4505, 'violent': 4769, 'mom': 3158, 'cop': 1506, 'arrived': 840, 'train': 4586, 'drugs': 1849, 'trash': 4598, 'dumped': 1858, 'worthless': 4932, 'preventing': 3615, '3rds': 455, 'crime': 1574, 'affected': 685, 'two': 4656, 'thirds': 4493, 'red': 3779, 'net': 3248, 'hanging': 2382, 'surprised': 4376, 'drug': 1848, 'anxiety': 795, 'caused': 1282, '0001f644': 164, 'mate': 3040, 'clearly': 1386, 'cost': 1525, '19': 333, 'view': 4763, 'scary': 3967, 'reading': 3756, 'thier': 4486, 'juice': 2742, 'sorry': 4190, 'matt': 3042, 'lost': 2956, 'struggled': 4313, 'closed': 1393, 'storm': 4299, 'pass': 3448, 'sun': 4353, 'together': 4540, 'given': 2279, 'sick': 4100, 'note': 3289, 'due': 1854, 'lack': 2817, 'hand': 2376, 'roll': 3901, 'mention': 3079, 'manager': 3003, '2640': 378, 'isn': 2687, 'fault': 2062, 'happy': 2390, 'explain': 2010, 'deliveries': 1696, 'majority': 2988, 'law': 2837, 'medical': 3061, 'population': 3571, 'general': 2250, 'wealth': 4835, 'murdered': 3196, 'trust': 4629, 'option': 3372, 'policy': 3556, 'opioids': 3365, 'factor': 2031, 'adult': 674, '2018': 349, 'suffered': 4343, 'sadly': 3935, 'team': 4429, '08': 270, 'instagram': 2650, 'prefer': 3600, 'negativity': 3242, 'happens': 2386, 'unfortunate': 4682, '24': 367, 'whom': 4881, 'drove': 1846, 'alt': 740, '45': 462, 'retirement': 3863, 'pissed': 3518, 'cope': 1507, 'sister': 4125, 'until': 4698, 'lie': 2890, 'ni': 3267, '0001f97a': 197, 'four': 2179, 'places': 3523, 'tho': 4495, 'usually': 4729, 'involves': 2677, 'tech': 4433, 'cell': 1298, 'kass': 2764, 'hypnosis': 2553, 'soon': 4189, 'kid': 2783, 'liking': 2902, 'clover': 1399, 'simple': 4114, 'kicked': 2781, 'bully': 1178, 'defense': 1684, 'fast': 2057, 'stealing': 4275, 'crown': 1584, 'incorrect': 2610, 'door': 1819, 'shoes': 4078, 'trip': 4621, 'fall': 2040, 'secs': 3992, 'within': 4902, 'pact': 3416, 'subject': 4328, 'lawyer': 2840, 'rock': 3896, 'masters': 3037, '0001f923': 182, 'playing': 3537, 'left': 2857, 'class': 1382, 'centre': 1302, 'weak': 4834, 'major': 2987, 'causes': 1283, 'aren': 827, 'bridge': 1137, 'jump': 2746, 'slit': 4143, 'wrists': 4940, 'highest': 2464, 'takes': 4405, 'abuser': 613, 'risk': 3886, 'shouldn': 4089, 'indeed': 2616, 'defended': 1682, 'eventually': 1976, 'media': 3060, 'urban': 4713, 'homicides': 2504, 'local': 2929, 'news': 3253, 'outlets': 3389, 'kills': 2789, 'coverage': 1547, 'blog': 1087, 'addiction': 663, 'misery': 3137, 'pulling': 3680, 'quiet': 3716, 'causing': 1284, 'ago': 698, 'hospitalized': 2522, 'art': 842, 'b4': 916, 'depressive': 1712, 'episode': 1950, 'creative': 1568, 'taught': 4420, 'crafting': 1558, 'includes': 2605, 'talk': 4410, 'account': 630, 'claiming': 1378, 'reporting': 3834, 'asian': 849, 'physically': 3503, 'verbally': 4749, 'asians': 850, 'peace': 3468, 'legitimate': 2864, 'pushed': 3692, 'afghan': 686, 'uk': 4666, 'pulled': 3679, '2014': 345, 'accident': 626, 'wounds': 4936, 'received': 3769, 'casualties': 1277, 'im': 2585, 'everyday': 1980, 'bomb': 1098, 'next': 3254, 'hillary': 2471, 'iran': 2679, 'tours': 4572, 'cops': 1508, 'beating': 991, 'religious': 3812, 'cult': 1592, 'leaders': 2843, 'hundreds': 2543, 'rather': 3744, 'face': 2025, 'leader': 2842, 'freak': 2186, 'podcast': 3546, 'current': 1598, 'lgbt': 2879, 'practice': 3591, '30': 405, '40': 456, 'ear': 1866, 'great': 2328, 'conversation': 1502, 'comment': 1429, 'safer': 3938, 'successful': 4335, 'methods': 3097, 'ways': 4831, 'round': 3910, 'pull': 3678, 'appearance': 809, 'plenty': 3540, 'knowledge': 2802, 'empathetic': 1909, 'side': 4101, 'filming': 2103, 'film': 2102, 'shape': 4050, 'form': 2170, 'cares': 1268, 'president': 3606, 'cannot': 1253, 'goals': 2293, 'command': 1428, 'refused': 3789, 'later': 2827, 'flipped': 2135, 'dead': 1655, 'jokes': 2729, 'cbeebies': 1285, 'dirty': 1770, 'names': 3217, 'shows': 4095, 'older': 3339, 'attempting': 877, 'alex': 722, 'beat': 989, 'calm': 1240, 'sending': 4018, 'mass': 3033, 'bitter': 1069, 'accusations': 634, 'works': 4923, 'half': 2372, '48': 464, '55': 487, 'survey': 4378, '2012': 344, 'fired': 2121, 'campus': 1246, 'attacks': 874, 'students': 4318, 'month': 3165, '0001f639': 161, 'idk': 2567, 'name': 3215, 'posts': 3583, 'yea': 4963, 'destroy': 1732, 'dealing': 1660, 'word': 4917, 'swear': 4387, 'generally': 2251, 'devastating': 1738, 'last': 2824, 'seemed': 4001, 'bright': 1138, 'pathetic': 3455, 'minister': 3127, 'question': 3711, 'far': 2052, 'connection': 1478, 'quotes': 3721, 'guess': 2349, 'couple': 1538, 'characters': 1326, 'happening': 2385, 'dark': 1640, 'plot': 3541, 'ig': 2573, 'americans': 751, 'average': 893, 'internet': 2664, 'chase': 1331, 'hudson': 2538, 'sway': 4385, 'noah': 3275, 'influence': 2631, '0001f914': 177, 'answer': 788, 'theory': 4478, 'games': 2237, 'encouraging': 1917, 'close': 1392, 'confidence': 1469, 'healing': 2425, '0001f494': 99, 'jj': 2716, 'video': 4761, 'sent': 4023, 'trending': 4613, 'message': 3086, 'association': 863, 'isolation': 2689, 'schools': 3973, 'lmao': 2925, 'brother': 1151, 'struggle': 4312, 'room': 3904, 'hung': 2544, 'wonder': 4911, 'folk': 2146, 'lethal': 2874, 'science': 3975, 'ideas': 2562, 'supported': 4366, 'evidence': 1986, '0001f449': 83, '0001f3fe': 76, '0001f448': 82, 'xbox': 4952, 'straight': 4301, 'didnt': 1753, 'sheer': 4061, 'heavily': 2436, 'cut': 1602, 'met': 3090, 'girl': 2273, 'alive': 725, 'hasn': 2409, 'knows': 2804, 'abortion': 606, 'survive': 4379, 'cutting': 1606, 'moment': 3159, 'tragedy': 4583, 'necessarily': 3236, 'prevent': 3614, 'talked': 4411, 'fn': 2143, 'attention': 879, 'hunt': 2545, 'funding': 2220, 'list': 2911, 'sticking': 4282, 'child': 1348, '__': 582, 'create': 1565, 'flirt': 2136, 'freeze': 2192, 'sounds': 4195, 'threat': 4502, 'hold': 2491, '0001f92c': 187, '0001f479': 92, 'feels': 2079, 'prayers': 3595, 'losing': 2954, '0001f64f': 169, '2665': 381, 'relieved': 3811, 'initial': 2635, 'hours': 2528, 'nature': 3226, 'reports': 3835, 'tired': 4533, 'bullshit': 1176, 'mouth': 3177, 'hurts': 2550, 'planned': 3526, 'families': 2045, 'praise': 3592, '85': 559, 'eye': 2020, 'changes': 1318, 'ss': 4242, 'fraud': 2185, 'humanity': 2541, 'andrew': 766, 'mc': 3052, 'short': 4084, 'pension': 3475, 'lt': 2970, 'military': 3115, 'dr': 1828, 'fauci': 2061, 'loser': 2953, 'wtf': 4947, 'totally': 4565, 'agree': 699, 'teen': 4436, 'win': 4891, 'play': 3531, 'bottom': 1120, 'china': 1352, 'govt': 2317, 'covered': 1548, 'glory': 2288, 'businesses': 1184, 'kill': 2785, 'each': 1865, 'mostly': 3173, 'comfort': 1425, 'poverty': 3587, 'worth': 4931, 'folks': 2147, 'early': 1868, 'happen': 2383, '_chi': 584, 'bro': 1145, 'suffer': 4342, 'dreams': 1836, 'hopefully': 2514, 'tactic': 4399, 'nd': 3232, 'sha': 4047, 'urself': 4716, 'interesting': 2661, 'demand': 1698, 'action': 645, 'described': 1715, 'write': 4941, 'posting': 3582, 'member': 3068, 'pc': 3466, 'nice': 3268, 'hearing': 2431, 'happened': 2384, 'glad': 2283, 'alright': 737, 'notice': 3292, 'strike': 4307, 'beyond': 1041, 'divorce': 1791, 'asked': 853, 'went': 4852, 'single': 4122, 'seems': 4002, 'affect': 684, 'minorities': 3130, 'taken': 4404, 'cancer': 1251, 'spreading': 4231, 'panic': 3428, 'bones': 1102, 'oya': 3410, 'quickly': 3715, 'submit': 4329, 'phone': 3498, 'unlock': 4696, 'delete': 1693, 'twitter': 4655, 'app': 806, '0001f609': 135, 'triples': 4622, 'unless': 4694, 'involving': 2678, 'percent': 3481, 'result': 3859, '90': 567, 'cooperation': 1505, 'fake': 2039, 'secure': 3994, 'area': 825, 'wow': 4937, 'zero': 4993, 'conclusion': 1462, 'understood': 4676, 'healthcare': 2427, 'dm': 1794, 'tweets': 4652, 'clout': 1398, 'smh': 4150, 'cyber': 1610, 'abt': 611, 'ppl': 3590, 'behind': 1011, 'relief': 3810, 'sight': 4103, 'positivity': 3578, 'assisted': 861, 'succeed': 4332, 'strongly': 4310, 'predict': 3598, 'dsmp': 1852, 'aside': 851, 'sensitive': 4022, 'topic': 4559, 'backlash': 935, 'dear': 1663, 'hated': 2411, 'follow': 2148, 'election': 1897, 'cycle': 1611, '0001f4aa': 109, '0001f60e': 139, 'forces': 2161, 'baiting': 943, 'ain': 708, 'cool': 1504, 'heads': 2424, 'stretch': 4305, 'embarrassment': 1903, 'judgment': 2741, 'save': 3956, 'provide': 3671, 'possible': 3579, 'table': 4397, 'camera': 1243, 'failures': 2037, 'guards': 2348, 'nerves': 3246, 'fuckin': 2210, 'annoying': 781, 'dms': 1795, 'decided': 1672, 'sword': 4392, 'vote': 4785, 'sacrifice': 3933, '0001f1fa': 44, '0001f1f8': 43, 'gabapentin': 2229, 'vets': 4754, '0001f9d0': 201, 'effect': 1885, '0001f632': 158, '0001f620': 149, '70': 526, 'system': 4396, 'forced': 2160, 'farmers': 2055, 'double': 1823, 'farmer': 2054, 'inc': 2602, 'yr': 4987, 'tht': 4516, 'whos': 4883, '0001f610': 141, 'doesnt': 1803, 'light': 2896, 'weekend': 4843, 'cover': 1546, 'convenient': 1501, 'wake': 4794, 'realize': 3762, 'hero': 2452, 'bigger': 1051, 'sandwich': 3949, 'eat': 1875, 'voting': 4788, 'biden': 1049, 'social': 4163, 'pile': 3512, 'australia': 884, 'balance': 945, 'courage': 1542, 'spent': 4216, 'cuz': 1607, 'smaller': 4148, 'decide': 1671, 'accidentally': 628, 'thankyou': 4465, 'suppose': 4369, 'turns': 4646, 'seem': 4000, 'somehow': 4177, 'common': 1437, 'mission': 3142, 'fails': 2035, '_realtime': 593, 'damien': 1629, 'guy': 2363, 'beautiful': 992, 'upstairs': 4709, 'bed': 999, 'computer': 1456, 'random': 3734, 'guten': 2362, 'tag': 4402, 'cat': 1278, 'proud': 3668, 'nation': 3222, 'similar': 4113, 'model': 3152, 'effective': 1886, 'lock': 2930, 'refugees': 3788, 'seekers': 3999, 'sit': 4126, 'wait': 4792, 'kick': 2780, 'democrats': 1700, 'sep': 4027, 'sergio': 4029, 'superb': 4359, 'brought': 1152, 'jeffrey': 2709, 'epstein': 1952, 'expose': 2012, 'place': 3521, 'banned': 954, 'twitch': 4654, 'wondered': 4912, 'pity': 3520, 'ssr': 4243, 'believes': 1018, 'completely': 1451, 'ask': 852, 'rules': 3920, 'lifes': 2895, 'source': 4196, 'keeping': 2773, 'responsible': 3855, 'show': 4091, 'otherwise': 3385, 'rise': 3885, 'above': 608, '1000': 310, '0001f64c': 168, 'bum': 1180, 'ass': 858, 'line': 2905, 'recommend': 3774, 'factory': 2032, 'street': 4303, 'remind': 3817, 'loves': 2964, 'tough': 4568, 'disrespectful': 1786, 'meant': 3057, 'real': 3758, 'shame': 4049, 'green': 2330, 'minor': 3129, 'become': 996, 'democracy': 1699, 'chosen': 1362, 'falling': 2041, 'lies': 2892, 'liar': 2881, 'desperate': 1725, 'sample': 3947, '56': 488, 'feelings': 2078, 'studies': 4319, 'buttons': 1188, 'partner': 3445, 'believed': 1017, 'deserve': 1717, 'full': 2214, 'efforts': 1889, 'illegal': 2582, 'insurance': 2655, 'service': 4035, 'va': 4733, 'alo': 732, 'ghislainemaxwelldidnotkillherself': 2268, 'ghislainemaxwell': 2267, 'justice': 2753, 'billbarr': 1055, '03nov2020': 242, 'picked': 3508, 'google': 2307, 'coming': 1427, 'hide': 2459, 'pub': 3676, 'coz': 1553, 'accent': 620, 'type': 4658, '0001f499': 104, 'odd': 3319, '_us': 600, 'atleast': 870, 'tongue': 4552, 'cheek': 1338, 'moments': 3160, 'enjoyable': 1933, 'league': 2847, 'eddie': 1880, 'ends': 1921, 'horse': 2519, 'bombers': 1100, 'likes': 2901, 'sheikh': 4065, 'omar': 3342, 'mullah': 3190, 'fm': 2142, 'living': 2923, 'international': 2663, 'throwing': 4513, 'stones': 4291, 'glass': 2284, 'villain': 4766, 'allows': 730, 'example': 1991, 'wrote': 4946, 'scene': 3968, 'bullet': 1171, 'dies': 1757, 'riot': 3883, 'surgery': 4375, 'tests': 4453, 'positive': 3576, 'counts': 1537, 'nonsense': 3282, 'davido': 1648, 'fan': 2047, 'misleading': 3138, 'content': 1492, 'insult': 2654, 'absolute': 609, 'race': 3724, 'absolutely': 610, 'heavy': 2437, 'restrictions': 3858, 'search': 3985, 'decision': 1674, 'lady': 2818, 'bend': 1024, 'cars': 1270, 'drivers': 1842, 'damage': 1627, 'amazing': 745, 'words': 4918, 'massive': 3035, 'second': 3989, 'late': 2825, 'crazy': 1563, 'locked': 2932, 'comments': 1430, 'product': 3639, 'cant': 1254, 'anybody': 797, 'buys': 1192, 'total': 4564, 'curious': 1596, 'arc': 823, 'begin': 1006, 'important': 2595, 'personality': 3492, 'skin': 4134, 'reaching': 3754, 'harsh': 2406, 'perspective': 3494, 'teach': 4426, 'emotions': 1908, 'thats': 4468, 'huge': 2539, 'boost': 1107, 'achieved': 637, 'powerful': 3589, 'pan': 3424, 'spouse': 4229, 'wife': 4888, 'irresponsible': 2683, 'cast': 1275, 'continue': 1495, 'supporting': 4368, 'conditioned': 1463, 'oppress': 3369, 'behavior': 1008, 'normal': 3286, 'signs': 4107, '0001f937': 190, '0001f3fc': 74, 'honest': 2506, 'website': 4840, 'unfortunately': 4683, 'consider': 1480, 'percentages': 3483, 'overall': 3396, 'idea': 2561, 'controversial': 1500, 'dying': 1864, 'obvious': 3313, 'apply': 813, 'usa': 4718, 'key': 2778, 'base': 960, 'dems': 1702, 'rep': 3826, 'laughing': 2832, 'rude': 3918, 'calling': 1238, 'awful': 903, 'disgusting': 1781, 'raped': 3737, 'brutally': 1155, 'lead': 2841, 'corner': 1515, 'reconsider': 3775, 'everybody': 1979, 'rare': 3739, 'definitely': 1688, 'molly': 3157, 'combat': 1420, 'watched': 4824, 'fucked': 2209, 'confused': 1472, 'protected': 3663, 'serving': 4037, 'dragon': 1830, 'immediately': 2590, 'thankfully': 4463, 'ambulance': 747, 'er': 1955, 'leads': 2846, 'ton': 4551, 'replied': 3829, 'shall': 4048, 'continued': 1496, 'girls': 2275, 'slide': 4142, 'colorism': 1418, 'yall': 4961, 'grabbing': 2319, 'politics': 3561, 'badly': 940, 'rly': 3889, 'vibes': 4756, 'culture': 1593, 'toxicity': 4577, 'jo': 2717, 'ya': 4960, 'popular': 3569, '52': 479, 'boxing': 1127, 'level': 2877, '0001f61e': 148, 'harmful': 2403, 'cancel': 1250, 'became': 994, 'scared': 3966, 'politicians': 3560, 'voters': 4787, 'rule': 3919, 'unconstitutional': 4671, 'raids': 3729, 'sports': 4224, 'harassment': 2395, 'rough': 3909, 'upset': 4707, 'gotta': 2313, 'forward': 2175, 'owner': 3405, 'accidental': 627, 'shitty': 4076, 'besides': 1031, 'matters': 3044, 'quality': 3703, 'expecting': 2005, 'lovers': 2963, '0001f645': 165, '0001f3fb': 73, '0001f614': 144, 'universe': 4691, 'sucks': 4338, '0001f642': 163, 'manly': 3010, 'weight': 4846, 'extra': 2017, 'intrusive': 2669, 'boosted': 1108, 'led': 2856, 'reminds': 3819, 'stories': 4298, 'decides': 1673, 'meanwhile': 3058, 'check': 1336, 'virus': 4772, 'draconian': 1829, 'overdose': 3398, 'concerned': 1460, 'caring': 1269, 'middle': 3105, 'basically': 964, 'idols': 2571, 'supermarket': 4362, '32': 438, '_dknowl': 585, '0001f615': 145, 'remove': 3821, 'height': 2438, 'harassed': 2393, 'boys': 1130, 'gay': 2242, 'supposed': 4370, 'stick': 4281, 'gaming': 2238, 'community': 1441, 'connected': 1477, 'stress': 4304, 'seeing': 3997, 'thankful': 4462, 'mama': 2999, 'church': 1366, '0001f603': 131, 'worked': 4920, 'stuck': 4316, 'touch': 4566, 'retired': 3862, 'redefine': 3780, 'lonely': 2939, 'jumped': 2747, 'writing': 4942, 'legitimately': 2865, 'anymore': 798, 'son': 4181, 'abandoned': 602, 'confusion': 1473, 'happily': 2388, 'balanced': 946, 'representation': 3837, 'bbc': 971, 'notes': 3290, 'college': 1416, 'british': 1143, 'hey': 2456, 'weird': 4847, 'stay': 4272, '0001f44b': 85, 'business': 1183, 'fantastic': 2051, 'messed': 3088, 'nonstop': 3283, 'clothes': 1397, 'broke': 1148, 'cake': 1232, 'funeral': 2221, 'sells': 4015, 'wedding': 4841, 'worthy': 4933, 'shown': 4094, 'trends': 4614, 'anywhere': 802, 'exist': 1998, 'proactive': 3630, 'accountability': 631, 'armed': 833, 'citizens': 1374, 'improve': 2597, '_kat': 589, 'claim': 1377, 'extreme': 2018, 'faced': 2027, 'stats': 4269, 'threaten': 4503, 'pressure': 3609, 'foster': 2176, 'quest': 3710, 'rematch': 3815, 'mentally': 3078, 'fit': 2124, 'foreign': 2163, 'putting': 3697, 'boosts': 1110, 'ot3': 3382, 'miss': 3139, 'closer': 1394, 'suzy': 4384, 'pic': 3506, 'nervous': 3247, 'advice': 680, 'client': 1388, 'grade': 2321, 'ran': 3733, 'bomber': 1099, 'human': 2540, 'modern': 3153, 'smoking': 4156, 'murderer': 3197, 'leaving': 2855, 'complicated': 1454, 'poisoning': 3553, 'determine': 1736, 'deceased': 1669, 'third': 4492, 'sign': 4104, 'upon': 4706, 'alert': 721, 'meds': 3064, 'signing': 4106, 'song': 4183, 'sell': 4014, 'rights': 3879, 'entire': 1946, 'largest': 2823, 'drew': 1837, 'link': 2906, 'auto': 888, 'order': 3374, '_suicide': 596, 'retweet': 3869, 'ino': 2640, 'further': 2223, 'ive': 2696, 'miserable': 3136, 'shootings': 4081, 'tie': 4521, 'liverpool': 2921, 'via': 4755, 'conference': 1466, 'cps': 1555, 'showed': 4092, 'ur': 4711, 'commits': 1433, 'future': 2225, 'reforms': 3787, 'wearing': 4838, 'uniform': 4685, 'hong': 2509, 'kong': 2806, 'rape': 3736, 'assault': 859, 'injured': 2637, 'japanese': 2703, 'bank': 952, 'update': 4703, 'dix': 1793, 'dey': 1744, 'lucky': 2972, 'jealous': 2708, 'empty': 1913, 'advisor': 681, 'owners': 3406, 'members': 3069, 'aspect': 856, 'challenge': 1310, 'souls': 4193, 'quote': 3719, 'confession': 1467, '3rd': 454, 'disorders': 1785, 'shits': 4075, 'grew': 2333, 'night': 3272, 'student': 4317, 'stand': 4251, 'grocery': 2336, 'doctors': 1799, 'translate': 4595, 'offer': 3323, 'strong': 4308, 'crap': 1561, 'baby': 932, 'blaming': 1074, 'harassing': 2394, 'target': 4415, 'forth': 2173, 'failed': 2034, 'junior': 2750, 'treated': 4608, 'tv': 4647, 'original': 3379, 'handle': 2378, 'contact': 1487, 'ah': 702, 'cash': 1274, 'corbyn': 1512, 'whoever': 4878, 'trauma': 4599, 'blocked': 1085, 'fanart': 2048, 'stopped': 4294, 'listen': 2912, 'openly': 3363, 'accepting': 624, '0001f605': 133, 'anime': 772, 'fave': 2063, 'finding': 2110, 'road': 3892, 'choke': 1357, '0001f612': 142, 'happiness': 2389, 'dumb': 1855, 'omg': 3344, '0001f927': 185, '0001f624': 152, 'fans': 2050, 'culprit': 1591, 'main': 2985, 'shaped': 4051, 'mark': 3017, 'neck': 3237, 'milk': 3117, 'fish': 2123, 'de': 1654, 'fr': 2181, 'speaking': 4206, 'screen': 3981, 'dollars': 1810, 'learn': 2849, 'mistakes': 3144, '2764': 395, 'elite': 1900, 'genuine': 2257, 'searching': 3986, 'chose': 1361, 'oga': 3331, 'rest': 3856, 'wants': 4809, 'effects': 1888, 'yo': 4973, '0001f625': 153, 'talented': 4408, 'skinny': 4135, 'tall': 4413, 'features': 2071, 'paradox': 3432, 'attacked': 873, 'bear': 987, 'homeless': 2500, 'three': 4507, 'sacred': 3932, 'fire': 2118, 'medicine': 3062, 'lodge': 2933, 'survived': 4380, 'addicted': 662, 'eased': 1871, 'food': 2155, 'yt': 4989, 'earlier': 1867, 'succeeded': 4333, 'od': 3318, 'release': 3806, 'burdens': 1181, 'chest': 1343, 'onto': 3357, 'joy': 2736, 'laughed': 2831, 'forgot': 2168, 'break': 1133, 'lower': 2967, 'hi': 2457, 'authorities': 886, 'weren': 4854, 'naruto': 3221, 'references': 3784, 'bts': 1161, 'france': 2183, 'kpop': 2808, 'whenever': 4869, 'senior': 4019, 'confident': 1470, 'stream': 4302, 'therapist': 4479, 'depends': 1708, 'clients': 1389, 'express': 2014, 'process': 3636, 'congrats': 1474, '0001f389': 64, 'mammon': 3000, 'precious': 3597, 'deserves': 1718, 'cute': 1603, 'denies': 1705, 'tiny': 4529, 'mighty': 3108, '0001f49c': 106, 'younger': 4979, 'born': 1114, 'oligarchs': 3340, 'populace': 3568, 'wall': 4800, 'lawsuits': 2839, 'fat': 2058, 'smart': 4149, 'actively': 648, 'hoping': 2516, 'stigma': 4283, 'fortunately': 2174, 'tony': 4555, 'disorder': 1784, 'rejected': 3799, '700': 527, 'dignified': 1765, 'plz': 3544, '0001f622': 151, 'incident': 2603, 'blows': 1090, 'posted': 3581, 'delayed': 1692, 'method': 3096, 'removing': 3823, 'survivors': 4381, 'minutes': 3134, 'hs': 2535, 'regulation': 3797, 'jumping': 2748, 'officers': 3327, 'hr': 2533, 'facility': 2029, 'genuinely': 2258, 'aware': 899, 'rainbow': 3730, 'stops': 4295, 'details': 1733, 'fresh': 2195, 'duty': 1862, 'energy': 1923, 'motivated': 3175, 'deadass': 1656, 'extent': 2016, 'track': 4578, 'loan': 2928, 'banks': 953, 'allowed': 729, 'beings': 1014, 'fb': 2065, 'performance': 3486, 'statistic': 4267, 'ban': 951, '60': 504, 'defensive': 1685, 'uses': 4725, 'busy': 1185, 'nerve': 3245, 'liberals': 2884, 'flight': 2133, 'supporters': 4367, 'angry': 770, 'benzodiazepines': 1027, '2007': 340, 'burns': 1182, 'david': 1647, 'sucked': 4337, 'purchased': 3685, 'regret': 3795, 'everytime': 1983, 'statuses': 4271, 'treat': 4607, 'mum': 3193, 'rushed': 3926, 'completed': 1450, 'christmas': 1364, 'agenda': 696, 'republicans': 3839, 'blue': 1091, 'present': 3604, 'bought': 1121, 'youtube': 4986, 'channel': 1321, 'sound': 4194, 'paper': 3429, 'buying': 1191, 'cared': 1266, 'evil': 1987, 'ex': 1988, 'drunk': 1851, 'desperately': 1726, 'mentions': 3081, 'stable': 4246, 'magazine': 2981, 'noise': 3279, '_harbison': 587, 'choices': 1356, 'registered': 3794, 'stolen': 4290, 'farm': 2053, 'investing': 2673, 'robbery': 3893, 'bring': 1140, 'punishment': 3682, 'deals': 1661, 'acid': 639, 'claims': 1379, 'wholesome': 4880, '0001f63c': 162, 'plus': 3543, 'lately': 2826, '2639': 376, 'onion': 3353, 'prices': 3619, 'shed': 4060, 'crocodile': 1581, 'tears': 4431, 'moves': 3180, 'knife': 2798, 'throat': 4510, 'stock': 4286, 'irl': 2680, 'roommate': 3905, 'brutal': 1154, 'disagree': 1772, 'patient': 3456, 'functional': 2218, 'implemented': 2593, 'thread': 4501, 'legend': 2861, 'chat': 1332, 'floor': 2137, 'english': 1929, '31st': 437, 'december': 1670, 'boris': 1113, 'rarely': 3740, 'racist': 3726, 'ancestors': 762, 'books': 1105, 'judge': 2739, 'mainly': 2986, '_1': 580, 'sweet': 4388, 'expect': 2003, '0001f44f': 87, 'bishop': 1064, 'several': 4042, 'transferred': 4591, 'bail': 942, 'large': 2822, 'hook': 2511, 'salah': 3942, 'clear': 1385, 'everywhere': 1984, 'jones': 2731, 'voted': 4786, 'tories': 4561, 'england': 1928, 'crash': 1562, 'perform': 3485, 'contagious': 1488, 'supplying': 4364, 'confirmed': 1471, 'joker': 2728, 'haha': 2370, 'jobs': 2719, 'awhile': 904, 'referring': 3786, 'fa': 2024, 'finish': 2115, 'cup': 1594, 'november': 3297, 'movement': 3179, 'exists': 2000, 'stands': 4255, 'zack': 4992, 'vaccine': 4736, 'metal': 3094, 'anti': 791, 'sunshine': 4356, 'benefit': 1025, 'benefits': 1026, 'stated': 4265, 'spending': 4214, 'spend': 4213, 'sudden': 4339, 'michael': 3103, 'cole': 1414, 'complain': 1448, 'material': 3041, 'idiot': 2566, 'stan': 4250, 'tanner': 4414, 'asia': 848, 'biggest': 1052, 'btw': 1162, 'warning': 4814, 'pink': 3515, 'joking': 2730, 'healthy': 2428, 'devil': 1742, 'guest': 2351, 'barrel': 958, 'tastes': 4417, 'comedian': 1423, 'frank': 2184, 'king': 2794, 'joins': 2725, 'upside': 4708, 'among': 754, 'dog': 1804, 'knocking': 2799, 'regulated': 3796, 'militia': 3116, 'girlfriend': 2274, 'driving': 1843, 'blocks': 1086, 'husband': 2551, 'sons': 4186, 'previously': 3617, 'removed': 3822, 'moving': 3183, 'dogs': 1805, 'backyard': 937, 'calls': 1239, '911': 568, 'watching': 4825, 'teenager': 4437, 'rikers': 3880, 'island': 2686, 'correction': 1519, 'activity': 650, 'annual': 782, '54': 484, '57': 490, 'nb': 3228, '1st': 337, 'lockdown': 2931, 'cheated': 1335, 'named': 3216, 'closest': 1395, 'gotten': 2314, 'handed': 2377, 'links': 2907, 'below': 1022, 'tuned': 4641, 'lets': 2875, 'concentrating': 1457, '88': 561, 'yoongi': 4974, 'questions': 3713, 'marriage': 3022, 'youre': 4982, 'april': 819, 'date': 1644, 'missing': 3141, 'lied': 2891, 'ceos': 1304, 'customers': 1601, 'imma': 2588, 'calculation': 1234, 'greatest': 2329, 'grab': 2318, 'viral': 4770, 'darkest': 1641, 'douse': 1826, 'purell': 3687, 'responders': 3852, 'cruel': 1585, 'walking': 4799, 'beth': 1034, 'champion': 1312, 'noticed': 3293, 'belt': 1023, 'center': 1300, 'raubal': 3747, 'eva': 1972, 'copy': 1509, 'unique': 4688, 'voices': 4782, 'chelsea': 1341, 'pussy': 3694, 'hurting': 2549, '0001f480': 93, 'wit': 4900, 'goofy': 2306, 'land': 2820, 'belongs': 1021, 'whether': 4872, 'covid19': 1551, 'hosts': 2524, 'host': 2523, 'thus': 4517, 'slowly': 4145, 'kindness': 2793, 'eating': 1876, 'government': 2315, 'suddenly': 4340, 'elizabeth': 1901, 'drop': 1844, 'presidential': 3607, 'gender': 2249, 'company': 1443, '800': 548, 'countless': 1534, 'babies': 930, 'london': 2938, 'reveal': 3870, '44': 461, '42': 460, 'allah': 727, 'holidays': 2496, 'la': 2814, 'gross': 2337, 'stepping': 4279, 'resort': 3848, 'caught': 1280, 'spider': 4217, 'series': 4030, 'town': 4575, 'keeps': 2774, 'judged': 2740, 'worried': 4926, 'space': 4201, 'morning': 3171, 'viv': 4778, 'dance': 1634, '0001f483': 94, '61': 507, 'discussion': 1778, '3pm': 453, 'driven': 1841, 'fees': 2080, '0001f629': 154, 'harming': 2404, 'lovely': 2961, '2728': 391, 'hour': 2527, 'nap': 3219, 'seven': 4041, 'birthday': 1063, 'heartbroken': 2434, 'insecure': 2644, 'songs': 4184, 'ily': 2584, 'grateful': 2325, 'square': 4238, 'vision': 4774, 'indian': 2621, 'education': 1884, 'selfmusing': 4013, '0001f4ab': 110, 'cbi': 1286, 'enquiry': 1940, 'must': 3201, 'cowper': 1552, 'answers': 789, 'asks': 855, 'concerns': 1461, 'yrs': 4988, 'hot': 2525, 'jason': 2704, 'batman': 969, 'excited': 1993, 'marvel': 3026, 'cbiendsilenceinssrcase': 1287, 'trial': 4615, 'disappointed': 1773, 'drowning': 1847, 'underwater': 4677, 'pool': 3564, '0001f648': 167, 'sidnaaz': 4102, 'warmth': 4813, 'unlike': 4695, 'harder': 2397, 'meaning': 3055, 'january': 2701, 'confide': 1468, 'appointment': 814, 'destiny': 1731, 'employee': 1910, 'secretary': 3991, 'contemplate': 1489, 'drive': 1840, 'simply': 4115, 'block': 1083, 'march': 3013, 'anniversary': 776, '263a': 377, '0001f44d': 86, 'travis': 4605, 'walk': 4797, 'lord': 2950, 'meditation': 3063, 'struggles': 4314, 'user': 4723, 'changing': 1319, 'ultimately': 4667, 'candidate': 1252, 'ironic': 2681, 'sink': 4123, 'depths': 1713, 'grace': 2320, 'returning': 3867, 'prospects': 3660, 'becomes': 997, 'muse': 3199, 'st': 4244, 'childhood': 1350, 'nhs': 3266, 'core': 1513, 'joined': 2723, 'unintentional': 4686, 'text': 4455, '644': 512, '33': 442, 'exam': 1990, '01': 210, 'term': 4445, 'tl': 4536, 'bless': 1080, 'elected': 1896, 'haunt': 2412, 'minguk': 3124, 'darkness': 1642, 'purpose': 3689, 'distributed': 1789, 'schedule': 3969, 'ed': 1879, 'twt': 4657, 'breaks': 1135, 'army': 835, '0001f62a': 155, 'mr': 3184, 'arm': 832, '0938': 272, '093e': 273, '0930': 271, '300c': 410, 'sara': 3951, '300d': 411, 'quantum': 3705, 'nightmare': 3273, 'rocks': 3897, 'immediate': 2589, 'violation': 4767, 'promised': 3652, 'ill': 2581, 'peoples': 3477, 'elementary': 1899, 'rt': 3912, 'gentle': 2255, 'damaged': 1628, 'environment': 1948, 'cardi': 1263, 'bitches': 1067, 'bout': 1122, 'volunteer': 4784, 'toll': 4546, '51': 476, 'storage': 4296, 'boyfriend': 1129, 'besmart': 1032, 'uncle': 4670, 'pictures': 3509, 'approach': 816, 'journalists': 2735, 'importance': 2594, 'diseases': 1780, 'special': 4208, 'ride': 3877, '30fc': 431, 'opportunity': 3368, 'den': 1703, 'ma': 2976, 'ein': 1893, 'bi': 1046, 'ugly': 4665, 'step': 4278, 'begging': 1005, 'fk': 2128, 'held': 2439, 'crossed': 1583, 'inspired': 2647, 'texas': 4454, 'informed': 2634, 'sunday': 4354, 'arms': 834, 'legs': 2866, 'accept': 621, 'pause': 3460, 'blast': 1075, 'castle': 1276, 'honor': 2510, 'inspiring': 2648, 'guessing': 2350, 'lover': 2962, 'brings': 1141, 'russia': 3927, 'blues': 1092, 'eminem': 1905, 'sold': 4170, 'fill': 2100, 'spotify': 4227, 'goodbye': 2304, 'moots': 3169, 'mfs': 3101, 'building': 1166, 'york': 4976, 'coach': 1404, 'quoteoftheday': 3720, 'smile': 4151, 'apocalypse': 805, 'slow': 4144, 'trade': 4579, 'relax': 3805, 'corona': 1516, 'physical': 3502, 'whatsoever': 4866, 'quit': 3717, 'attitude': 880, 'national': 3223, 'lifeline': 2894, '273': 392, '8255': 553, 'nadira': 3211, 'proceed': 3635, 'hrs': 2534, 'reached': 3752, 'share': 4052, 'tuesday': 4638, '27': 386, 'unknown': 4693, 'married': 3023, 'flowers': 2140, 'chooses': 1359, 'millennium': 3118, 'bull': 1170, 'store': 4297, 'fighter': 2096, 'mayweather': 3051, 'water': 4827, 'fixed': 2127, 'ignore': 2577, 'dancing': 1635, 'queen': 3709, 'incredible': 2615, 'provided': 3672, 'gem': 2247, 'valued': 4741, 'silent': 4109, 'revealed': 3871, 'profile': 3643, 'manifesto': 3008, '80': 547, 'longest': 2942, 'disarmament': 1774, 'flip': 2134, 'faces': 2028, 'projection': 3650, 'responded': 3851, '707': 528, 'prepared': 3601, 'legit': 2863, 'tiktok': 4523, 'soo': 4188, 'depressing': 1710, 'josh': 2734, 'colors': 1419, 'beauty': 993, 'lydia': 2975, 'tomkiw': 4548, 'poems': 3549, 'punk': 3683, 'poetry': 3550, 'john': 2720, 'berryman': 1029, 'air': 709, 'librarian': 2886, '0001f447': 81, 'killers': 2787, 'adam': 658, 'teasing': 4432, '47': 463, 'understanding': 4675, 'india': 2620, 'apart': 803, '0001f60d': 138, 'friendship': 2200, 'park': 3438, 'bouts': 1124, 'naya': 3227, 'rivera': 3887, 'favorite': 2064, 'gained': 2232, 'mutual': 3204, 'chris': 1363, 'idol': 2570, 'destination': 1730, 'charge': 1327, 'fuccin': 2207, '0001f6ae': 173, 'margot': 3014, 'robbie': 3894, 'harley': 2400, 'wolf': 4906, '0001f498': 103, '5th': 503, 'placed': 3522, 'pins': 3517, 'cold': 1413, 'airwaves': 716, 'kicking': 2782, 'smith': 4154, 'tune': 4640, 'warm': 4812, '101': 313, 'fix': 2126, 'leading': 2845, 'sees': 4004, 'selected': 4008, 'transgender': 4592, '0001f92e': 188, '0001f637': 160, '26b0': 385, 'movies': 3182, 'chick': 1344, '400': 457, 'omega': 3343, 'parent': 3436, 'pure': 3686, 'project': 3649, 'cracks': 1557, 'developing': 1739, 'learning': 2851, 'piercing': 3511, 'sharp': 4056, 'headlines': 2423, 'piano': 3505, 'fell': 2082, 'rabbit': 3723, 'hole': 2494, 'sex': 4044, 'timeline': 4526, 'nah': 3213, 'engagement': 1924, 'intersection': 2666, 'generation': 2252, 'boomers': 1106, 'acts': 654, 'pep': 3478, 'library': 2887, 'investigation': 2672, 'memes': 3070, 'xy': 4959, 'sl': 4139, 'finds': 2112, 'pop': 3567, 'job': 2718, 'obsess': 3311, 'playboy': 3532, 'universal': 4690, 'grave': 2326, 'reply': 3831, 'followed': 2150, 'spsm': 4232, 'ensure': 1941, 'hello': 2441, 'dated': 1645, 'babes': 929, 'balls': 949, 'disabled': 1771, 'occurs': 3316, 'https': 2537, 'vic': 4757, 'tweeting': 4651, 'te': 4424, 'amo': 753, '0001f920': 181, 'byounggon': 1195, 'hyung': 2554, 'bein': 1012, 'atinys': 868, 'stays': 4274, 'nctzens': 3231, 'reality': 3761, 'suicidei': 4348, 'additional': 664, 'equals': 1954, 'investigating': 2671, 'turning': 4645, 'sale': 3943, 'racing': 3725, 'steering': 4277, 'wheel': 4867, 'clock': 1390, 'magnum': 2983, 'automotive': 890, 'shared': 4053, 'dia': 1747, 'soft': 4165, 'c790': 1223, 'bc29': 977, 'c0c1': 1197, 'b2f4': 913, 'c804': 1225, 'd654': 1619, 'c815': 1226, 'c2e0': 1206, 'ac15': 617, 'c758': 1220, 'ba85': 928, 'ccad': 1288, 'c18c': 1203, 'b144': 909, 'prince': 3623, 'interview': 2667, 'johnson': 2721, 'discuss': 1776, 'speed': 4212, 'encourage': 1916, 'worries': 4927, 'heartbreak': 2433, 'license': 2888, 'lowest': 2968, 'raw': 3748, 'cousin': 1545, 'selfish': 4012, 'passes': 3450, 'sol': 4168, 'chain': 1309, 'smoke': 4155, 'identity': 2564, 'analysis': 759, 'opened': 3361, 'martyrs': 3025, 'divide': 1790, 'primary': 3621, 'tragic': 4584, 'encounter': 1915, 'none': 3281, 'super': 4358, 'sushant': 4382, 'relate': 3800, 'cross': 1582, 'minds': 3122, 'millions': 3120, 'narrative': 3220, 'turkey': 4642, 'replies': 3830, 'february': 2073, 'vivid': 4779, 'plans': 3527, 'staying': 4273, 'chief': 1346, 'skip': 4136, 'extremely': 2019, 'swim': 4391, 'nose': 3287, 'texted': 4456, 'idc': 2560, 'settings': 4040, 'impact': 2592, 'enjoying': 1936, 'fuller': 2215, 'context': 1494, 'gunshot': 2359, 'holiday': 2495, 'season': 3987, 'showing': 4093, 'former': 2171, 'cricket': 1571, '2019': 350, 'chaos': 1322, 'jiu': 2715, 'struck': 4311, 'types': 4659, 'reasons': 3766, 'artist': 844, 'cringe': 1576, '0001f613': 143, 'sharing': 4055, 'lenders': 2868, 'owes': 3403, 'highlights': 2466, 'known': 2803, 'travel': 4602, 'failure': 2036, 'results': 3860, '36': 445, 'paying': 3462, '21': 358, 'marks': 3021, 'shift': 4069, 'dropped': 1845, 'breaking': 1134, 'centered': 1301, 'mentalhealth': 3077, 'penis': 3473, 'threats': 4506, 'virginia': 4771, 'checks': 1337, 'orders': 3376, 'requirements': 3841, 'session': 4038, 'potential': 3584, 'listened': 2913, '0001f5a4': 125, '68': 521, 'veterinary': 4753, 'offered': 3324, 'lava': 2836, 'happier': 2387, 'joining': 2724, 'canadian': 1249, 'sky': 4137, 'communities': 1440, 'helpline': 2446, 'recognition': 3772, 'pleased': 3539, 'threw': 4508, 'jim': 2713, 'fund': 2219, 'winner': 4893, 'test': 4449, 'wweraw': 4951, 'pratima': 3593, 'aravabhoomi': 822, 'surrounded': 4377, 'overreacting': 3400, 'remain': 3813, '0001f493': 98, 'sadness': 3936, 'counselling': 1532, 'actual': 655, 'available': 891, 'responses': 3854, 'admin': 670, 'chanhee': 1320, 'discord': 1775, 'spamming': 4202, 'insane': 2643, 'werent': 4855, '4th': 471, 'glee': 2285, 'sort': 4191, 'shifting': 4070, 'dosage': 1822, 'regarding': 3790, 'wash': 4818, 'mask': 3030, 'counseling': 1531, 'declining': 1677, 'relationships': 3804, 'fianc': 2094, 'walmart': 4802, 'prone': 3655, 'oppression': 3370, 'olympics': 3341, 'fandom': 2049, 'bye': 1194, 'donate': 1815, 'dollar': 1809, 'serves': 4033, 'coupon': 1541, 'training': 4588, 'visit': 4776, 'accepted': 623, 'crush': 1586, 'improvement': 2599, 'upcoming': 4702, '0001f974': 195, 'chinese': 1353, 'camps': 1245, 'korean': 2807, 'painful': 3421, 'memories': 3071, 'mess': 3085, 'dig': 1764, 'scandal': 3963, 'trading': 4581, 'flop': 2138, 'lowkey': 2969, 'antis': 793, 'immense': 2591, 'response': 3853, 'overcome': 3397, 'ii': 2578, 'television': 4439, 'exclusive': 1995, 'hidden': 2458, 'bag': 941, 'broadcast': 1146, 'hacked': 2367, 'wishing': 4899, '3160': 435, '0001f9cd': 200, 'id': 2559, 'woke': 4905, 'dare': 1639, 'spun': 4233, 'chu': 1365, 'particular': 3443, '26a0': 384, '233': 365, 'amid': 752, 'au': 882, 'basketball': 965, '0001f534': 122, '0001f53a': 123, 'stun': 4323, 'leg': 2858, 'circle': 1371, 'hilarious': 2469, '0001f6ab': 172, 'offensive': 3322, '0001f972': 193, 'maxwells': 3047, 'wishes': 4898, 'images': 2586, 'messages': 3087, 'esto': 1963, 'se': 3983, 'en': 1914, 'del': 1690, 'bal': 944, 'que': 3708, 'sea': 3984, 'el': 1895, 'cristiano': 1578, 'ronaldo': 3903, 'est': 1962, 'un': 4668, '0001f382': 60, 'supply': 4363, 'marketcap': 3019, 'ratio': 3745, 'celebration': 1296, 'tata': 4418, 'andrews': 767, 'scotland': 3977, '0001f3f4': 72, '000e0067': 205, '000e0062': 203, '000e0073': 206, '000e0063': 204, '000e0074': 207, '000e007f': 208, '27a1': 397, 'stage': 4249, 'quarantine': 3706, 'regional': 3792, 'dedicated': 1679, 'airport': 715, 'advance': 676, 'decline': 1676, 'adr': 672, 'indicator': 2623, 'technical': 4434, 'stocks': 4289, 'click': 1387, 'forex': 2165, 'craig': 1559, '0001f621': 150, '0001f525': 121, '0001f6e1': 174, 'spartans': 4204, 'tasks': 4416, 'instruction': 2653, 'nfts': 3264, 'p2e': 3412, 'vax': 4745, 'testing': 4452, '0648': 261, '0633': 255, '0627': 248, '0631': 253, '0646': 259, '0647': 260, '064a': 262, '062a': 249, '062c': 250, '0641': 256, '062f': 252, '0626': 247, '06a9': 265, '06be': 267, '03': 217, '06c1': 268, '0645': 258, '067e': 264, '06cc': 269, '0644': 257, '0632': 254, '0679': 263, '06ba': 266, 'concept': 1458, 'achievement': 638, 'improved': 2598, '2021': 352, '1020': 314, 'females': 2086, 'indicators': 2624, 'remarkably': 3814, 'bharatkibeti': 1045, 'biz': 1070, 'currency': 1597, 'standrewsday': 4254, 'announce': 777, 'code': 1407, 'connect': 1476, 'hackathon': 2366, 'winners': 4894, 'bgs': 1042, 'runner': 3923, 'singh': 4121, 'guru': 2361, 'delhi': 1694, 'scottish': 3979, '0001f618': 146, '0001d656': 26, '0001d640': 17, '0001d66c': 34, '0001d664': 30, '0001d65a': 27, '0001d662': 29, '0001d668': 32, '0001d669': 33, '0001d661': 28, '0001d665': 31, '0001d402': 2, '0001d428': 3, '0001d630': 15, '0001d62d': 14, '0001d626': 12, '0001d62a': 13, 'c544': 1207, 'c2a4': 1204, 'd2b8': 1614, 'b85c': 922, 'd558': 1616, 'c740': 1218, 'c6b0': 1215, 'jongin': 2732, 'album': 720, 'schedules': 3970, 'players': 3535, '0001f496': 101, 'nftcommunity': 3259, '0001d64a': 21, '0001d650': 23, '0001d64d': 22, '0001d649': 20, '0001d654': 25, '0001d63c': 16, '0001d651': 24, '0001d643': 19, 'appeared': 810, '0001f497': 102, 'happy1stenniversary': 2391, 'b370': 914, 'c774': 1221, 'c6d0': 1216, 'c73c': 1217, 'c2dc': 1205, 'c791': 1224, 'd55c': 1617, 'c5d4': 1212, 'd508': 1615, '_365': 581, 'c77c': 1222, '30a8': 423, '30f3': 430, '30cf': 426, '30a4': 422, '30d7': 428, '795d': 542, '30c7': 425, '30d3': 427, '30e5': 429, '5468': 485, '5e74': 498, 'listening': 2914, 'enhypen': 1930, '0001f3b6': 67, 'enniversary': 1938, '_members': 590, 'golden': 2299, 'awardsmore': 898, 'ratiobetter': 3746, 'assists': 862, 'ballon': 947, 'messi': 3089, 'demographic': 1701, 'transitions': 4594, 'captured': 1260, 'anandmahotsav': 761, 'announced': 778, '11': 316, 'player': 3534, 'award': 895, 'euro': 1969, 'brink': 1142, 'governments': 2316, 'aides': 706, 'capitol': 1258, 'victory': 4760, 'wrap': 4938, '29': 400, 'si': 4098, 'ang': 768, 'pbbkumutowertask': 3465, 'enhypen1stanniversary': 1931, 'ae30': 682, 'ac04': 616, '05': 244, '59': 494, 'kst': 2809, 'c568': 1210, 'bc94': 980, 'ad6c': 657, 'b9e4': 925, '0001f381': 59, 'bbf8': 972, 'ce74': 1291, 'b4dc': 917, 'c885': 1227, '25b6': 371, 'je': 2707, 'les': 2870, 'ne': 3233, 'suis': 4351, 'ai': 705, 'pas': 3447, 'biker': 1053, 'jimin': 2714, 'qrt': 3700, 'scots': 3978, 'laura': 2835, '0001f973': 194, 'pro': 3629, 'dan': 1632, 'walker': 4798, 'platform': 3529, 'closing': 1396, 'proper': 3658, '2022': 353, 'cries': 1573, 'saint': 3941, 'village': 4765, 'bday': 983, 'quarter': 3707, 'socdems': 4162, 'ideology': 2565, 'winning': 4895, 'congratulations': 1475, 'subscribers': 4330, 'tseriescrosses200milsubs': 4636, 'starts': 4263, 'couplegoals': 1539, 'couples': 1540, 'australian': 885, 'parliament': 3439, 'arse': 841, 'covering': 1549, 'apparatus': 807, 'paralysed': 3434, 'remorse': 3820, 'katharine': 2765, 'murphy': 3198, 'iceland': 2556, 'kirkcaldy': 2795, '0001f5d1': 126, '0001f601': 129, 'updf': 4705, 'drc': 1834, 'launch': 2833, 'adf': 667, 'cheaper': 1334, 'produce': 3638, 'rapid': 3738, 'drastically': 1832, 'lok': 2936, 'sabha': 3931, 'blasts': 1076, 'barcelona': 957, 'topstories': 4560, 'berkleybearnews': 1028, 'employees': 1911, '_uk': 599, 'companies': 1442, '0001f380': 58, 'friendly': 2198, 'helpful': 2444, 'ru': 3915, '2763': 394, 'gorgeous': 2310, 'era': 1956, '0001f970': 192, 'dislike': 1782, '062e': 251, 'nbf150': 3229, 'clocking': 1391, 'hon': 2505, 'ble': 1077, 'ji': 2712, 'badal': 939, 'contributions': 1498, 'physics': 3504, 'institute': 2652, 'mary': 3028, 'prize': 3628, 'kaeya': 2756, 'planted': 3528, 'acres': 641, 'corn': 1514, 'soybeans': 4199, 'futures': 2226, '96': 573, '34': 443, 'omicronvariant': 3346, 'peaches': 3469, '0001f90d': 176, 'kaicomebackday': 2759, 'kai': 2757, 'chiffon': 1347, 'diet': 1759, '2661': 380, 'protein': 3665, 'sitala': 4127, 'd0c8': 1613, 'b77c': 919, 'airdrop': 711, '0001f4e2': 117, 'tg': 4459, 'bsc': 1156, 'eth': 1965, 'actress': 653, '0001f38a': 65, 'nu': 3302, 'gundam': 2357, 'designs': 1722, 'aims': 707, 'nft': 3257, 'crypto': 1589, 'nftgame': 3261, 'binancesmartchain': 1060, 'mwn': 3206, 'rlftf': 3888, 'tobaf': 4538, 'mrna': 3185, 'por': 3572, 'alguna': 723, 'raz': 3749, 'los': 2951, 'chicos': 1345, 'lo': 2926, 'pero': 3489, 'monitor': 3163, 'gifts': 2270, 'sub': 4327, 'africa': 689, 'border': 1111, 'omicron': 3345, 'force': 2159, 'europe': 1970, 'middleeast': 3106, 'synonymous': 4394, 'substitution': 4331, 'coding': 1408, 'sequences': 4028, 'andi': 764, 'terrible': 4447, 'permit': 3488, 'hindi': 2474, 'pa': 3413, '0001f60a': 136, 'giveaway': 2278, 'mv': 3205, 'tina': 4528, 'promo': 3653, 'bollywood': 1097, 'gamefi': 2235, 'metaverse': 3095, 'bmw': 1093, 'nftgaming': 3262, 'rajasthan': 3732, '0001f916': 178, 'compound': 1455, 'automatically': 889, '0001f680': 170, '0001f3e6': 71, 'usdc': 4719, 'borrowed': 1115, '0001f4b5': 113, '0001f4c8': 115, '0001f4b3': 112, '2696': 383, '79': 541, 'cosplay': 1524, 'noctis': 3278, 'photos': 3500, 'edit': 1882, 'token': 4541, 'market': 3018, 'cap': 1255, 'equal': 1953, 'lewandowski': 2878, '0x': 307, 'wu': 4948, 'fulltxs': 2216, 'spends': 4215, '78': 540, 'outout': 3390, '51out': 478, 'value': 4740, 'btc': 1159, 'ka': 2754, 'edited': 1883, 'recap': 3767, 'spurs': 4234, 'hip': 2475, 'waist': 4791, 'hips': 2476, 'max': 3045, '76': 538, 'reward': 3874, 'coin': 1410, '2m': 403, 'bnb': 1094, 'xrp': 4957, 'shib': 4068, 'intellectual': 2656, 'ca': 1231, 'tvl': 4648, 'moon': 3168, 'feed': 2075, 'ba': 926, 'ash': 847, 'featuring': 2072, 'council': 1530, 'spoken': 4222, 'novel': 3296, 'delay': 1691, 'headline': 2422, 'fellow': 2083, 'booster': 1109, 'security': 3995, 'welfare': 4850, 'shri': 4096, 'rural': 3925, 'latha': 2829, 'anndrais': 775, 'sona': 4182, 'dhuibh': 1745, 'terms': 4446, 'popularity': 3570, 'gift': 2269, 'woods': 4915, 'writingcommunity': 4943, 'mistake': 3143, 'poop': 3565, 'ability': 604, 'guaranteed': 2345, 'charts': 1330, 'diwali': 1792, 'actor': 651, '991': 576, '2015': 346, 'nfhs': 3256, 'trials': 4616, 'lookin': 2946, 'vaccines': 4737, '31': 433, 'sir': 4124, 'sillett': 4110, 'smiles': 4152, 'documents': 1800, 'crackdown': 1556, 'uyghur': 4731, 'lionel': 2908, 'drawing': 1833, 'dandifam': 1636, 'onecheerful': 3350, 'gear': 2246, 'denim': 1706, 'hospitality': 2521, 'software': 4166, 'paul': 3459, 'celebrate': 1293, 'scottishdiaspora': 3980, 'ebay': 1877, '2744': 393, 'variant': 4743, '58mb': 493, '81': 550, 'julie': 2745, 'cards': 1264, 'football': 2157, 'german': 2259, '0001f1f7': 42, 'pour': 3586, 'sur': 4373, 'selen': 4009, 'selenbday2021': 4010, '2267': 362, '2266': 361, 'ff8a': 2092, '2501': 369, 'cheers': 1339, 'unflop': 4681, '2727': 390, 'pick': 3507, 'san': 3948, 'tattoo': 4419, 'b3c4': 915, 'c9c0': 1230, '3137': 434, 'b2e4': 912, 'b4e4': 918, 'b9c8': 924, 'c900': 1229, 'b294': 910, 'c168': 1202, 'b098': 906, 'c694': 1214, 'bd84': 982, 'c5d0': 1211, 'b124': 908, 'bc84': 979, 'c11c': 1198, 'ac8c': 618, 'jay': 2706, 'enterprise': 1944, '92': 570, 'engi': 1926, 'migrant': 3109, 'workers': 4921, 'incoming': 2609, 'nationals': 3225, 'ali': 724, 'wazir': 4832, 'sup': 4357, 'dayyyyy': 1651, 'shortly': 4085, '2b50': 402, '0001f36b': 54, 'returns': 3868, 'pyr': 3698, 'independence': 2617, 'barbados': 955, '0001f1e7': 38, 'added': 661, 'challenges': 1311, 'updated': 4704, 'weekly': 4844, 'doubled': 1824, 'duration': 1860, 'lil': 2903, 'mma': 3147, 'shop': 4082, 'shining': 4072, 'ha': 2365, 'macron': 2978, 'oil': 3334, 'monthly': 3166, 'moderna': 3154, 'boss': 1116, 'effectiveness': 1887, 'followback': 2149, 'lending': 2869, 'earned': 1870, 'recent': 3770, 'photo': 3499, 'grant': 2324, 'desires': 1723, 'sizes': 4131, '25th': 372, 'star': 4257, 'osn': 3381, 'radio': 3727, 'daze': 1652, 'nowplaying': 3300, '0001f31f': 46, 'increasing': 2614, 'releasing': 3808, 'kai2ndsolo': 2758, 'jack': 2698, 'buhari': 1165, 'resign': 3845, 'rent': 3825, 'seokjin': 4026, 'flags': 2130, 'adventure': 678, 'germany': 2260, 'anims': 773, 'teams': 4430, 'disrupt': 1788, 'evening': 1974, 'ham': 2375, 'add': 660, 'cheese': 1340, 'coffee': 1409, 'wetv': 4858, 'udah': 4663, 'andre': 765, 'minute': 3133, 'whose': 4884, 'fashion': 2056, 'artnet': 845, '0001f49a': 105, 'nigeria': 3270, 'sunghoon': 4355, 'jade': 2699, 'tolkien': 4545, 'heroes': 2453, 'julia': 2744, 'gillard': 2271, 'backs': 936, 'jenkins': 2710, 'review': 3873, 'politician': 3559, 'conduct': 1465, 'triggered': 4620, 'brittany': 1144, 'higgins': 2461, 'revelations': 3872, 'opportunities': 3367, 'actors': 652, '0001f388': 63, 'pupils': 3684, 'bgsg': 1043, 'official': 3328, 'dislikes': 1783, 'figure': 2098, 'front': 2204, 'thicktrunktuesday': 4485, 'dump': 1857, 'metafinance': 3092, 'v2': 4732, 'welcome': 4849, 'participate': 3441, 'bot': 1117, '2066': 355, '2069': 356, 'gen': 2248, 'jets': 2711, '0001f7e2': 175, '0941': 275, 'quantity': 3704, 'nepse': 3244, 'festival': 2090, 'initiative': 2636, 'cinema': 1370, 'films': 2104, 'crit': 1579, '49': 465, 'smth': 4157, 'travellers': 4603, 'tested': 4450, 'wherever': 4871, 'dna': 1796, 'explorers': 2011, 'atlanta': 869, 'detection': 1734, 'compartment': 1446, '2030': 354, 'bond': 1101, 'bid': 1047, '0335': 228, '033e': 234, '0337': 230, '0314': 219, '0336': 229, '031b': 221, '033f': 235, '0339': 232, '0338': 231, '0352': 237, '0334': 227, '0333': 226, '033a': 233, '031a': 220, '0359': 241, '031f': 223, '0306': 218, '0353': 238, '0357': 239, '0328': 224, '0358': 240, '032c': 225, '031e': 222, '0351': 236, 'aspire': 857, 'ryan': 3928, 'ruby': 3917, 'mike': 3110, '0001f370': 55, 'amc': 748, 'sony': 4187, 'ticket': 4518, 'buyers': 1190, 'bitcoin': 1068, 'nuclear': 3304, '29th': 401, '201': 343, 'coins': 1412, 'production': 3640, '009': 209, '0001f92f': 189, 'vegetable': 4747, 'flex': 2132, 'grand': 2322, 'cismen': 1373, 'dorsey': 1821, 'agarwal': 693, 'ceo': 1303, 'frog': 2201, 'innovation': 2639, 'agency': 695, 'awarded': 896, 'development': 1740, '0001f1ea': 39, 'brighter': 1139, 'fox': 2180, 'marx': 3027, 'communist': 1439, 'podnation': 3548, 'podernfamily': 3547, 'rtitbot': 3913, 'blogdreamrt': 1088, 'bblogrt': 973, '_rt': 594, '_rtsclick': 595, 'fffc': 2093, '4l': 470, 'ac': 614, 'milan': 3112, 'sassuolo': 3953, 'five': 2125, 'tips': 4530, 'tipster': 4531, 'bets': 1037, 'freetips': 2191, 'sportsbetting': 4225, 'betting': 1039, 'inplay': 2641, 'copyright': 1511, 'syndicated': 4393, 'url': 4715, 'experiences': 2008, 'unveiled': 4700, 'platinum': 3530, 'jubilee': 2738, 'guided': 2354, 'windsor': 4892, 'apartments': 804, 'tour': 4569, 'frogmore': 2202, 'mam': 2998, '0001f4a5': 108, 'happybirthdayraashiikhanna': 2392, 'raashiikhanna': 3722, 'meeee': 3065, '0001f436': 78, 'birth': 1062, 'ice': 2555, 'celebrated': 1294, '30th': 432, 'patron': 3458, 'diagonal': 1748, 'standrew': 4253, 'onigiri': 3352, 'sempai': 4016, '180': 332, '04k': 243, 'dai': 1623, '0001f4b0': 111, '145': 327, '134': 324, 'becoming': 998, 'friday': 2196, 'deseret': 1716, 'fc': 2066, 'spotted': 4228, 'coincidence': 1411, 'sheffield': 4062, 'guests': 2352, 'colleagues': 1415, 'makers': 2991, 'crank': 1560, 'awesome': 902, 'greetings': 2332, 'sleepingbut': 4141, 'dana': 1633, 'brookei': 1150, 'whopping': 4882, '0001f48c': 96, 'wallpapers': 4801, '0001f4f8': 119, '0001f587': 124, 'maximize': 3046, 'exposure': 2013, 'drum': 1850, 'karl': 2762, 'walsh': 4803, 'dalai': 1626, 'lamaonecheerful': 2819, 'pin': 3514, 'lapel': 2821, 'fsh': 2205, 'fv': 2227, 'parasites': 3435, 'predictive': 3599, 'programming': 3647, 'psyop': 3675, 'yeyyy': 4971, 'sponsor': 4223, 'arranging': 837, 'cklegit': 1376, 'ciervokinglegit': 1367, 'reaches': 3753, 'squidc': 4239, 'squidcairdrop': 4240, 'airdrops': 714, 'airdropkingnews': 713, 'thathaylorstan': 4467, 'mera': 3083, 'desh': 1719, 'raha': 3728, 'hai': 2371, 'holdings': 2493, 'watchlist': 4826, 'wrecking': 4939, 'silver': 4112, 'qualifying': 3702, 'salestips': 3945, 'arjun': 830, 'sarja': 3952, 'accused': 635, 'misconduct': 3135, 'sruthi': 4241, 'hariharan': 2399, 'clean': 1384, 'chit': 1354, 'ballondor': 948, 'calendar': 1235, 'nowadays': 3299, 'contest': 1493, 'notifications': 3294, 'texts': 4458, '89': 563, 'kd': 2770, 'hoisting': 2490, 'rendition': 3824, 'anthem': 790, 'errol': 1957, 'barrow': 959, 'barbadosindependence': 956, 'emojimovie': 1906, '270b': 388, '0001f39f': 66, 'lunarcrush': 2973, 'listing': 2916, 'lunarshare': 2974, 'applicants': 811, 'bdd4': 984, 'c8fc': 1228, 'c744': 1219, 'cd95': 1289, 'b2c8': 911, 'd574': 1618, 'cambodian': 1241, 'soccer': 4161, 'delighted': 1695, 'defibrillators': 1686, 'stockport': 4288, 'lib': 2882, 'schemes': 3971, 'bullets': 1172, 'rng': 3891, 'accuracy': 633, 'ggst': 2265, 'ggst_ha': 2266, 'size': 4130, '38ratio': 447, '1moq': 336, '56pcs': 489, 'hyper': 2552, 'denims': 1707, 'styles': 4326, 'torn': 4562, 'unfinished': 4680, 'washing': 4819, 'guarantymust': 2346, 'mitee': 3145, 'mens': 3075, 'boutique': 1123, 'paternal': 3453, 'ahappy': 703, 'woodside': 4916, 'scarborough': 3965, 'environmental': 1949, 'defenders': 1683, 'taxes': 4422, 'sokkahtwitter': 4167, 'anrkey': 784, 'anrx': 786, 'anrxrate': 787, '100distribution': 311, 'endsbot': 1922, 'airdropinspector': 712, 'anrkeyx': 785, '50th': 475, 'uae': 4660, 'uaenationalday': 4662, 'uae50': 4661, 'nationaldayuae': 3224, '711936hash': 530, '053587dc846cb3fdfa4f496cb31f66e1fc967f50381109size': 245, '75mb': 537, '3992627': 449, '806segwit': 549, '730': 533, '011': 212, '60out': 506, '413': 459, '916': 569, '619': 510, 'thriving': 4509, 'speciality': 4209, 'dammam': 1630, 'sharqiyah': 4058, 'advert': 679, 'forfarmers': 2166, 'poultry': 3585, 'fothergill': 2177, 'discusses': 1777, 'optimal': 3371, 'conversion': 1503, 'broiler': 1147, '0001f929': 186, 'xxx': 4958, 'rasen': 3741, 'gameplay': 2236, 'interestingly': 2662, 'gentlemen': 2256, 'tree': 4610, 'bob': 1095, 'trees': 4611, 'hagaman': 2369, 'finest': 2114, 'decorations': 1678, '0001f384': 61, 'maker': 2990, 'protocol': 3667, 'bat': 967, 'liquidation': 2909, '320': 439, '385': 446, 'capricorn': 1259, '711948hash': 531, '061f2fa75c59b8fe3d03d4b1d41b5d39f640dafe8fc60asize': 246, '11mb': 319, '2768613': 396, '836segwit': 555, '925': 571, '985': 575, '01out': 214, '133': 323, '142': 326, '950': 572, '575': 491, 'keito': 2776, 'monster': 3164, 'rosario': 3907, 'vampire': 4742, '0001fa79': 202, 'rumoured': 3921, 'planet': 3525, '999': 577, 'mentors': 3082, 'sharpe': 4057, 'managers': 3004, 'reduced': 3782, 'inflation': 2630, 'spx': 4235, 'shehnaaz': 4063, 'smiling': 4153, 'shehnaazgill': 4064, 'exciting': 1994, 'rtolerantia': 3914, 'tolerantiareach': 4544, 'azure': 905, 'region': 3791, 'belgium': 1015, 'gold': 2298, 'microsoft': 3104, 'bbq': 974, '0001f32d': 47, 'lojay': 2935, 'bella': 1019, 'buju': 1169, 'hpc': 2532, '_jsc': 588, 'polymers': 3563, 'filtration': 2105, 'processes': 3637, 'relevant': 3809, 'advances': 677, 'industrial': 2627, 'applications': 812, 'info': 2632, 'rysenshine': 3929, 'steelers': 4276, '0001f338': 48, 'havefaith': 2414, 'javier': 2705, 'ez': 2022, 'multiyear': 3192, 'tigers': 4522, 'yoonmin': 4975, 'egg': 1890, 'freezing': 2193, 'childbearing': 1349, 'fertile': 2089, '2712': 389, 'flagsokay': 2131, 'ww2': 4949, 'polish': 3557, 'resistance': 3846, 'riku826': 3881, 'pziv': 3699, 'deputy': 1714, 'clan': 1380, 'gup': 2360, 'clans': 1381, 'shout': 4090, 'tilatequilalive': 4524, 'http': 2536, 'ustre': 4727, '3mhl': 451, 'blessings': 1081, '3onecheerful': 452, 'heritage': 2450, 'uganda': 4664, 'launched': 2834, 'joint': 2726, 'sudha': 4341, 'priya': 3627, 'garu': 2240, 'mahesh': 2984, 'babu': 931, '0001f647': 166, 'gmb': 2290, 'keegan': 2771, '0001f62c': 156, 'determination': 1735, 'outward': 3394, 'circumstances': 1372, 'donald': 1814, 'waltersonecheerful': 4804, 'aew': 683, 'wwe': 4950, 'copying': 1510, 'segments': 4006, 'booking': 1104, 'philosophies': 3496, 'matchup': 3039, 'variation': 4744, 'aave': 601, '321': 440, '68k': 522, 'superman': 4361, 'rola': 3899, 'xo': 4955, '2600': 374, '0001f469': 90, '0001f91d': 180, '0001f340': 49, '0001f61a': 147, 'yuka': 4990, '0001f48e': 97, 'waku': 4795, 'doki': 1808, '0001f49d': 107, '0001f48b': 95, '0001f470': 91, 'ethical': 1967, 'autistic': 887, 'constant': 1483, 'mi6': 3102, 'warns': 4815, 'debt': 1666, 'traps': 4597, '015': 213, 'records': 3778, 'title': 4534, 'represent': 3836, 'c138': 1201, 'be10': 986, 'meld': 3067, 'travels': 4604, 'feast': 2070, 'licking': 2889, '266b': 382, '87': 560, 'east': 1873, '_tweets': 597, 'macbook': 2977, 'announcement': 779, 'sdn': 3982, 'superbly': 4360, 'harrdysandhuin83': 2405, 'hobbies': 2486, 'fintwit': 2117, 'mil': 3111, 'hired': 2477, 'greet': 2331, 'engenes': 1925, 'tom': 4547, 'diego': 1756, 'scant': 3964, 'bidding': 1048, 'wars': 4816, 'b798': 921, 'c0ac': 1196, 'ac00': 615, 'd06c': 1612, 'c120': 1199, 'bb3c': 970, 'iconic': 2558, 'dominance': 1811, 'altcoin': 741, 'hodlers': 2488, 'nvl': 3307, 'tokens': 4542, 'empowering': 1912, 'ltcbtc': 2971, 'peak': 3470, '010': 211, '020': 216, 'alongside': 735, 'experts': 2009, 'gravity': 2327, '02': 215, 'genshinimpact': 2253, 'loving': 2965, 'treasure': 4606, 'proteins': 3666, 'animal': 771, 'promote': 3654, 'leigh': 2867, 'talents': 4409, 'uranium': 4712, 'index': 2619, 'packed': 3414, 'manchester': 3005, '75': 534, 'network': 3250, 'goooo': 2308, '0001f3b8': 68, '20e3': 357, 'solana': 4169, 'occasion': 3315, 'tickets': 4519, 'dec': 1668, 'standard': 4252, 'retro': 3865, 'egypt': 1892, 'forgotten': 2169, 'federal': 2074, 'falls': 2042, 'afghanistan': 687, 'videos': 4762, 'bullish': 1175, 'cef4': 1292, 'bc31': 978, 'vis': 4773, 'programs': 3648, 'beti': 1035, 'bachao': 933, 'padhao': 3417, 'modi': 3155, '0e1f': 300, '0e38': 306, '0e22': 301, '0e23': 302, '0e32': 305, '0e2d': 304, '0e27': 303, 'fui': 2213, 'tidak': 4520, 'kalau': 2760, 'diizinkan': 1766, 'mereka': 3084, 'batam': 968, 'republic': 3838, 'recorded': 3777, 'observed': 3310, 'increased': 2612, 'libran': 2885, 'princess': 3624, 'angel': 769, '304a': 413, '3044': 412, '307e': 417, '3059': 414, '672c': 520, '65e5': 517, '306e': 416, '3081': 418, 'hkt48': 2485, '65b0': 515, '66f2': 518, '3092': 420, '52d9': 481, '308b': 419, '306b': 415, '83dc': 557, '3001': 408, '4e0a': 468, '7684': 539, '30ac': 424, '51fa': 477, 'papers': 3430, '0001d468': 4, '0001d47b': 11, '0001d46c': 6, '0001d46d': 7, '0001d475': 9, '0001d47a': 10, '0001d46a': 5, '0001d472': 8, 'kay': 2768, 'rescue': 3842, 'cryptocurrency': 1590, 'cosmetics': 1523, 'unprecedented': 4697, 'steps': 4280, 'womenempowerment': 4909, 'yielding': 4972, 'historic': 2482, 'ordered': 3375, 'o2': 3308, 'cutoff': 1605, 'calculated': 1233, 'shocking': 4077, '23f0': 366, 'widiland': 4886, 'ido': 2569, '4am': 466, 'utc': 4730, 'betibachaobetipadhao': 1036, 'enjoyment': 1937, 'marry': 3024, 'fuel': 2212, 'retailers': 3861, 'agriculture': 701, 'gdp': 2245, 'kabul': 2755, '2615': 375, '2705': 387, 'certik': 1308, 'audit': 883, 'skynet': 4138, 'earn': 1869, '00': 0, '0001f440': 80, '0001f44a': 84, 'mobile': 3151, 'providers': 3673, 'west': 4856, 'tourism': 4570, 'sector': 3993, 'pre': 3596, 'contribution': 1497, 'nct': 3230, 'freemasonry': 2190, 'paimon': 3419, '30a2': 421, '751f': 535, '8a95': 564, '796d': 544, 'genshinimpactfanart': 2254, '539f': 483, '795e': 543, '3164': 436, 'goods': 2305, 'amounted': 756, 'billion': 1056, 'isk': 2685, 'fob': 2144, 'october': 3317, 'cif': 1368, 'roger': 3898, 'glover': 2289, 'purple': 3688, 'rewards': 3875, 'metagirl': 3093, 'girlstory': 2276, 'exo': 2001, '97': 574, '838': 556, 'missed': 3140, 'gb': 2244, 'shopping': 4083, 'touching': 4567, 'positively': 3577, 'matches': 3038, 'appreciation': 815, 'meat': 3059, 'ministers': 3128, 'follows': 2154, 'es': 1958, 'historia': 2481, 'al': 718, 'dif': 1760, 'cil': 1369, 'press': 3608, '0001f351': 51, 'sehun': 4007, 'follower': 2151, 'outstanding': 3393, 'wear': 4837, 'cape': 1256, 'additionally': 665, 'hopes': 2515, 'relationshipgoals': 3803, 'seychelles': 4046, 'useful': 4722, 'donbelle': 1816, 'trailer': 4585, 'binance': 1059, 'btcusdtprice': 1160, 'oi': 3333, '4bov': 467, 'trader': 4580, 'pos': 3573, 'acc': 619, '252': 370, '7m': 545, 'retracement': 3864, '618': 509, 'ethereum': 1966, 'billy': 1057, 'billyidol': 1058, 'presents': 3605, 'register': 3793, 'users': 4724, 'mining': 3126, 'onsen': 3356, 'musume': 3202, 'nifty': 3269, 'vaccinated': 4735, 'overseas': 3401, 'finance': 2107, '0001d7ce': 35, '0001f5dd': 127, '0001f3ff': 77, 'essay': 1960, 'kudos': 2810, 'boxes': 1126, '0001f4cc': 116, 'idle': 2568, '0001f3c6': 70, '888': 562, 'igl': 2574, 'blockchain': 1084, '5ktaker': 501, '83': 554, 'hirst': 2478, 'minted': 3132, 'drake': 1831, 'designed': 1721, 'nftdrop': 3260, 'nftart': 3258, 'began': 1004, 'growth': 2342, 'european': 1971, '81ea': 551, '3bov': 450, '0001f633': 159, '0001f1e6': 37, 'activities': 649, 'tax': 4421, '5k': 500, 'ring': 3882, 'temp': 4443, 'whatsapp': 4865, 'themed': 4475, 'crew': 1569, 'metric': 3098, 'trustwallet': 4631, 'sp': 4200, 'magical': 2982, 'western': 4857, '0940': 274, 'sentinels': 4025, 'compliance': 1453, 'highly': 2467, 'tsla': 4637, 'pe': 3467, 'bhai': 1044, 'ships': 4073, 'scientology': 3976, 'interactions': 2658, 'bells': 1020, '0001f385': 62, 'spot': 4226, 'ftm': 2206, 'consumers': 1486, 'lisa': 2910, 'nandy': 3218, 'keir': 2775, 'starmer': 4258, 'labour': 2816, '613': 508, '2800': 399, 'fe4b': 2068, 'youngmin': 4980, 'kwangmin': 2813, 'prettiest': 3611, 'naman': 3214, 'kayo': 2769, 'vita': 4777, 'homebrew': 2499, 'residents': 3844, 'il': 2580, 'co': 1403, 'oxford': 3409, '0001f924': 183, 'devices': 1741, 'bc1c': 976, 'ace0': 636, 'b78c': 920, 'ba74': 927, 'c624': 1213, 'c548': 1208, 'c55e': 1209, 'b9ac': 923, 'bassist': 966, 'technology': 4435, 'op': 3359, 'chen': 1342, 'xiumin': 4953, 'ate': 867, 'grilled': 2335, 'restaurant': 3857, 'zuki': 4998, 'moba': 3150, 'investment': 2674, 'huobi': 2546, 'ventures': 4748, 'sincerely': 4118, 'trusting': 4630, 'zukimoba': 4999, 'huobiventures': 2547, 'holliday': 2497, '_global': 586, '_besigheid': 583, 'debut': 1667, 'cuteee': 1604, 'mmmh': 3148, 'blend': 1078, 'characteristics': 1325, 'polyester': 3562, 'cotton': 1526, 'blended': 1079, 'yarn': 4962, 'textile': 4457, 'engineering': 1927, '_official': 592, 'netherlands': 3249, '1985': 334, '0001f1f3': 41, '0001f1f1': 40, 'adidas': 669, 'design': 1720, 'worn': 4925, 'qualification': 3701, 'tournament': 4571, '0001d7f9': 36, 'sherlock': 4067, 'properly': 3659, 'mashaba': 3029, 'actionsa': 646, 'organisation': 3377, 'wasting': 4821, 'municipal': 3194, 'committees': 1435, 'coalition': 1405, 'herman': 2451, 'mayoral': 3050, 'exco': 1996, 'seat': 3988, 'gl': 2282, 'marcell': 3012, 'ozuna': 3411, 'baseball': 961, 'profoundly': 3645, 'mlb': 3146, 'braves': 1132, 'kunjumol': 2812, 'cpim': 1554, 'parties': 3444, 'participation': 3442, 'pinned': 3516, 'katie': 2766, 'harvey': 2407, '0001f34a': 50, '0001f9c3': 199, 'juicy': 2743, 'managed': 3002, 'oasis': 3309, 'titles': 4535, 'snowasis': 4158, 'noasis': 3276, 'comparisonbeen': 1445, 'reference': 3783, 'sap': 3950, 'wie': 4887, 'hoch': 2487, 'sind': 4119, 'beschaffungskosten': 1030, 'antwort': 794, 'zu': 4997, 'dieser': 1758, 'und': 4672, 'weiteren': 4848, 'fragen': 2182, 'air2030': 710, 'schweizerarmee': 3974, 'f35': 2023, 'tension': 4444, 'denial': 1704, 'mason': 3032, 'mount': 3176, 'bruno': 1153, 'fernandes': 2088, 'myanmar': 3208, 'unvaxxed': 4699, 'figures': 2099, 'phthalates': 3501, 'consumer': 1485, 'products': 3641, 'unfounded': 4684, 'juric': 2751, 'enjoyer': 1935, 'parallel': 3433, 'sic': 4099, '1185': 318, '843': 558, '6517': 513, '691': 524, '11121': 317, 'wiped': 4896, 'massage': 3034, '231a': 364, 'whitelist': 4876, 'spy': 4236, 'skew': 4132, 'paid': 3418, 'panels': 3427, '0001f4b8': 114, 'stman': 4285, '0001f43e': 79, 'nftgiveaway': 3263, 'intelligence': 2657, 'romania': 3902, 'master': 3036, '6211': 511, '5011': 474, '5bb6': 495, '65b9': 516, '5de5': 497, '3002': 409, '7586': 536, '4eba': 469, '54e1': 486, '8cb7': 565, '99c1': 578, '65a5': 514, '5f37': 499, '8feb': 566, '52de': 482, '52d5': 480, '5c08': 496, '5834': 492, '6703': 519, '696d': 525, 'trna': 4623, 'rrna': 3911, 'cream': 1564, '0001f6a9': 171, 'yelling': 4967, 'invest': 2670, 'investments': 2675, 'payouts': 3464, 'snowdrop': 4159, 'resolution': 3847, 'strides': 4306, 'built': 1167, 'imvu': 2600, 'avatar': 892, 'whatevers': 4863, 'adroverse': 673, '32k': 441, '0001f465': 89, 'referral': 3785, '3000': 407, 'simulation': 4116, 'free2play': 2189, 'free2earn': 2188, 'modric': 3156, 'jorginho': 2733, 'trophies': 4624, 'criteria': 1580, '0001f604': 132, 'theceoschoice': 4470, 'peecat': 3471, 'pancakeswap': 3425, 'pissingcat101': 3519, 'legendary': 2862, 'bscgem': 1157, 'golden_showers': 2300, 'let_it_rain': 2873, 'vacation': 4734, 'cribs': 1570, 'acnh': 640, 'paradise': 3431, 'swch': 4386, 'fatty': 2060, 'gimp': 2272, 'ittt': 2695, 'fycking': 2228, 'philosophy': 3497, '0001f37b': 57, 'hooman': 2512, 'thegozodailycat': 4472, 'terrific': 4448, 'gales': 2233, 'gardenfamily': 2239, 'cats': 1279, 'flora': 2139, 'dandy': 1637, 'grey': 2334, 'feralcats': 2087, 'busycat': 1186, 'aberdeen': 603, 'peg': 3472, 'compensates': 1447, 'cheap': 1333, 'valuation': 4739, 'ts': 4635, '0001f917': 179, 'got7': 2312, 'piece': 3510, 'blogger': 1089, 'tuloy': 4639, 'kumu': 2811, 'mo': 3149, 'shine': 4071, 'longford': 2943, 'metrics': 3099, '0b85': 276, '0ba3': 282, '0bcd': 299, '0bbe': 293, '0ba4': 283, '0baa': 286, '0bc1': 295, '0bb0': 289, '0bbf': 294, '0ba8': 284, '0b95': 279, '0bca': 298, '0bb3': 291, '0b9f': 281, '0bae': 287, '0b92': 278, '0bc7': 296, '0ba9': 285, '0b87': 277, '0bb5': 292, '0bb1': 290, '0b9a': 280, '0baf': 288, '0bc8': 297, 'rubber': 3916, 'liberal': 2883, 'saturday': 3955, 'mendy': 3074, '71': 529, '0001d642': 18, 'c131': 1200, 'd6c8': 1620, '343': 444, 'halo': 2373, 'infinite': 2629, 'xp': 4956, 'payout': 3463, 'haloinfinite': 2374, 'unbelievably': 4669, 'ceremony': 1305, 'disrespecting': 1787, 'balon': 950, 'ors': 3380, '0001f60c': 137, 'sillettcoventry': 4111, 'devastated': 1737, 'icon': 2557, 'pusb': 3690, 'nagging': 3212, 'suited': 4352, 'evict': 1985, 'overshadowed': 3402, 'clownish': 1400, '9th': 579, 'tongued': 4553, 'jabs': 2697, 'singer': 4120, 'sweetness': 4390, 'marital': 3016, 'bliss': 1082, 'alsn': 738, 'cnhi': 1402, 'wgo': 4859, 'mtor': 3187, 'analytics': 760, '0001f4e3': 118, 'announcing': 780, 'meta': 3091, 'ambassador': 746, 'program': 3646, 'enthusiastic': 1945, 'dxs': 1863, 'okex': 3337, 'pairs': 3422, 'upto': 4710, '10x': 315, 'bscgems': 1158, 'servey': 4034, 'mald': 2995, 'seethe': 4005, 'hoes': 2489, 'skill': 4133, '5min': 502, 'listens': 2915, 'satisfy': 3954, 'requests': 3840, 'lotwhen': 2958, '0001f984': 198, 'aquacultureday': 821, '0001f30a': 45, 'highlight': 2465, 'aquaculture': 820, 'commitment': 1432, 'sustainability': 4383, 'creatingjobs': 1567, 'coastal': 1406, 'areas': 826, 'diarmaid': 1749, 'mangan': 3007, 'inclusion': 2607, 'nextgenxv': 3255, '0001f3c1': 69, 'mute': 3203, '0001f976': 196, 'whales': 4860, 'transaction': 4590, 'dumping': 1859, 'stablecoins': 4247, 'rotation': 3908, 'insight': 2646, 'adamant': 659, 'ms': 3186, 'headed': 2420, 'prescriptive': 3603, 'sensex': 4021, 'recognizes': 3773, 'origin': 3378, 'ik': 2579, 'annaaa': 774, 'kappa': 2761, 'pals': 3423, 'randomly': 3735, 'written': 4944, 'nuanced': 3303, 'gaffer': 2230, 'kfc': 2779, 'bucket': 1163, 'char': 1323, 'stockpiling': 4287, 'electricals': 1898, 'xmas': 4954, 'packs': 3415, 'webshop': 4839, '0001f37a': 56, 'beer': 1002, '0001f354': 52, '0001f366': 53, 'tea': 4425, '0001f964': 191, 'dessert': 1729, 'attribute': 881, 'input': 2642, 'output': 3391, 'vogel100the': 4780, 'atmey': 871, 'godot': 2295, 'zkswap': 4995, 'zks': 4994, 'hill': 2470, '0001f50a': 120}\n"
     ]
    }
   ],
   "source": [
    "#The below syntax to see the vocabulary that it has learned from the corpus\n",
    "\n",
    "print(vector.vocabulary_)\n"
   ]
  },
  {
   "cell_type": "markdown",
   "metadata": {},
   "source": [
    "# SVM "
   ]
  },
  {
   "cell_type": "code",
   "execution_count": 24,
   "metadata": {},
   "outputs": [],
   "source": [
    "# Classifier - Algorithm - SVM\n",
    "#Instancier un SVM linéaire sur les données\n",
    "#SVM = svm.SVC(C=1.0, kernel='linear', degree=3, gamma='auto')\n",
    "#SVM.fit(Test_X_Tfidf,Train_Y)\n",
    "# predict the labels on validation dataset\n",
    "#predictions_SVM = SVM.predict(Test_X_Tfidf)\n",
    "# Use accuracy_score function to get the accuracy\n",
    "#print(\"SVM Accuracy Score -> \",accuracy_score(predictions_SVM, Test_Y))\n"
   ]
  },
  {
   "cell_type": "code",
   "execution_count": 34,
   "metadata": {},
   "outputs": [
    {
     "name": "stdout",
     "output_type": "stream",
     "text": [
      "Binary classification-----\n",
      "              precision    recall  f1-score   support\n",
      "\n",
      "       False       0.99      0.99      0.99      1228\n",
      "        True       0.99      0.99      0.99      1228\n",
      "\n",
      "    accuracy                           0.99      2456\n",
      "   macro avg       0.99      0.99      0.99      2456\n",
      "weighted avg       0.99      0.99      0.99      2456\n",
      "\n"
     ]
    }
   ],
   "source": [
    "from sklearn.model_selection import cross_val_score, cross_val_predict\n",
    "from sklearn.model_selection import KFold\n",
    "from sklearn.metrics import classification_report\n",
    "from sklearn.metrics import confusion_matrix\n",
    "model=svm.SVC(kernel='linear',gamma='auto')\n",
    "model.fit(X,y)\n",
    "y_pred = cross_val_predict(model, X, y, cv=5)\n",
    "cm = confusion_matrix(y, y_pred)\n",
    "print(\"Binary classification-----\")\n",
    "recall = np.diag(cm) / np.sum(cm, axis=1)\n",
    "precision = np.diag(cm) / np.sum(cm, axis=0)\n",
    "\n",
    "        \n",
    "print(classification_report(y, y_pred))"
   ]
  },
  {
   "cell_type": "code",
   "execution_count": 35,
   "metadata": {},
   "outputs": [
    {
     "data": {
      "text/plain": [
       "0.9898208469055375"
      ]
     },
     "execution_count": 35,
     "metadata": {},
     "output_type": "execute_result"
    }
   ],
   "source": [
    "accuracy_score(y,y_pred)"
   ]
  },
  {
   "cell_type": "markdown",
   "metadata": {},
   "source": [
    "# Matrice de confusion"
   ]
  },
  {
   "cell_type": "code",
   "execution_count": null,
   "metadata": {},
   "outputs": [],
   "source": [
    "#pip install mlxtend\n"
   ]
  },
  {
   "cell_type": "code",
   "execution_count": 37,
   "metadata": {},
   "outputs": [
    {
     "data": {
      "image/png": "[encoded data removed]",
      "text/plain": [
       "<Figure size 432x288 with 1 Axes>"
      ]
     },
     "metadata": {
      "needs_background": "light"
     },
     "output_type": "display_data"
    }
   ],
   "source": [
    "import matplotlib.pyplot as plt\n",
    "from mlxtend.evaluate import confusion_matrix\n",
    "from mlxtend.plotting import plot_confusion_matrix\n",
    "\n",
    "fig, ax = plot_confusion_matrix(conf_mat=cm)\n",
    "plt.show()"
   ]
  },
  {
   "cell_type": "markdown",
   "metadata": {},
   "source": [
    "# Random-Forest"
   ]
  },
  {
   "cell_type": "code",
   "execution_count": 36,
   "metadata": {},
   "outputs": [
    {
     "name": "stdout",
     "output_type": "stream",
     "text": [
      "Binary classification-----\n",
      "              precision    recall  f1-score   support\n",
      "\n",
      "       False       1.00      0.98      0.99      1228\n",
      "        True       0.98      1.00      0.99      1228\n",
      "\n",
      "    accuracy                           0.99      2456\n",
      "   macro avg       0.99      0.99      0.99      2456\n",
      "weighted avg       0.99      0.99      0.99      2456\n",
      "\n"
     ]
    }
   ],
   "source": [
    "\n",
    "from sklearn.ensemble import RandomForestClassifier\n",
    "\n",
    "model=RandomForestClassifier(n_estimators=500)\n",
    "model.fit(X,y)\n",
    "y_pred = cross_val_predict(model, X, y, cv=5)\n",
    "print(\"Binary classification-----\")\n",
    "cm = confusion_matrix(y, y_pred)\n",
    "recall = np.diag(cm) / np.sum(cm, axis=1)\n",
    "precision = np.diag(cm) / np.sum(cm, axis=0)\n",
    "\n",
    "        \n",
    "print(classification_report(y, y_pred))\n"
   ]
  },
  {
   "cell_type": "code",
   "execution_count": null,
   "metadata": {},
   "outputs": [],
   "source": []
  },
  {
   "cell_type": "code",
   "execution_count": 38,
   "metadata": {},
   "outputs": [
    {
     "data": {
      "image/png": "[encoded data removed]",
      "text/plain": [
       "<Figure size 432x288 with 1 Axes>"
      ]
     },
     "metadata": {
      "needs_background": "light"
     },
     "output_type": "display_data"
    }
   ],
   "source": [
    "import matplotlib.pyplot as plt\n",
    "from mlxtend.evaluate import confusion_matrix\n",
    "from mlxtend.plotting import plot_confusion_matrix\n",
    "\n",
    "fig, ax = plot_confusion_matrix(conf_mat=cm)\n",
    "plt.show()"
   ]
  },
  {
   "cell_type": "code",
   "execution_count": null,
   "metadata": {},
   "outputs": [],
   "source": []
  }
 ],
 "metadata": {
  "kernelspec": {
   "display_name": "Python 3",
   "language": "python",
   "name": "python3"
  },
  "language_info": {
   "codemirror_mode": {
    "name": "ipython",
    "version": 3
   },
   "file_extension": ".py",
   "mimetype": "text/x-python",
   "name": "python",
   "nbconvert_exporter": "python",
   "pygments_lexer": "ipython3",
   "version": "3.8.3"
  }
 },
 "nbformat": 4,
 "nbformat_minor": 4
}
