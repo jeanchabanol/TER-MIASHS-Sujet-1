{
 "cells": [
  {
   "cell_type": "code",
   "execution_count": 1,
   "metadata": {},
   "outputs": [],
   "source": [
    "import numpy as np\n",
    "import pandas as pd\n",
    "from sklearn import svm\n",
    "import matplotlib.pyplot as plt\n",
    "from sklearn.model_selection import RandomizedSearchCV\n",
    "from sklearn.model_selection import train_test_split\n",
    "import pandas as pd\n",
    "import numpy as np\n",
    "import pandas as pd\n",
    "import numpy as np\n",
    "from nltk.tokenize import word_tokenize\n",
    "from nltk import pos_tag\n",
    "from nltk.corpus import stopwords\n",
    "from nltk.stem import WordNetLemmatizer\n",
    "from sklearn.preprocessing import LabelEncoder\n",
    "from collections import defaultdict\n",
    "from nltk.corpus import wordnet as wn\n",
    "from sklearn.feature_extraction.text import TfidfVectorizer\n",
    "from sklearn import model_selection, naive_bayes, svm\n",
    "from sklearn.metrics import accuracy_score"
   ]
  },
  {
   "cell_type": "code",
   "execution_count": 2,
   "metadata": {},
   "outputs": [],
   "source": [
    "# https://zestedesavoir.com/tutoriels/1760/un-peu-de-machine-learning-avec-les-svm/\n",
    "# https://ichi.pro/fr/guide-du-debutant-sur-la-classification-de-texte-avec-scikit-learn-109003449397050\n",
    "# https://medium.com/@bedigunjit/simple-guide-to-text-classification-nlp-using-svm-and-naive-bayes-with-python-421db3a72d34"
   ]
  },
  {
   "cell_type": "code",
   "execution_count": 3,
   "metadata": {},
   "outputs": [
    {
     "data": {
      "text/html": [
       "<div>\n",
       "<style scoped>\n",
       "    .dataframe tbody tr th:only-of-type {\n",
       "        vertical-align: middle;\n",
       "    }\n",
       "\n",
       "    .dataframe tbody tr th {\n",
       "        vertical-align: top;\n",
       "    }\n",
       "\n",
       "    .dataframe thead th {\n",
       "        text-align: right;\n",
       "    }\n",
       "</style>\n",
       "<table border=\"1\" class=\"dataframe\">\n",
       "  <thead>\n",
       "    <tr style=\"text-align: right;\">\n",
       "      <th></th>\n",
       "      <th>content</th>\n",
       "      <th>V1</th>\n",
       "      <th>pages_links</th>\n",
       "      <th>pages_names</th>\n",
       "      <th>subcategory</th>\n",
       "      <th>suicide</th>\n",
       "    </tr>\n",
       "  </thead>\n",
       "  <tbody>\n",
       "    <tr>\n",
       "      <th>0</th>\n",
       "      <td>Warren�s parents were Eliza Ann Brown (1824-1...</td>\n",
       "      <td>52</td>\n",
       "      <td>https://en.wikipedia.org//wiki/Harry_Marsh_Warren</td>\n",
       "      <td>Harry_Marsh_Warren</td>\n",
       "      <td>suicide</td>\n",
       "      <td>True</td>\n",
       "    </tr>\n",
       "    <tr>\n",
       "      <th>1</th>\n",
       "      <td>After her ALS diagnosis ,  Rodriquez reque...</td>\n",
       "      <td>103</td>\n",
       "      <td>https://en.wikipedia.org//wiki/Sue_Rodriguez</td>\n",
       "      <td>Sue_Rodriguez</td>\n",
       "      <td>Assisted_suicide</td>\n",
       "      <td>True</td>\n",
       "    </tr>\n",
       "    <tr>\n",
       "      <th>2</th>\n",
       "      <td>Ames was born Mercedes Grabowski in Antigonis...</td>\n",
       "      <td>116</td>\n",
       "      <td>https://en.wikipedia.org//wiki/August_Ames</td>\n",
       "      <td>August_Ames</td>\n",
       "      <td>Bullying_and_suicide</td>\n",
       "      <td>True</td>\n",
       "    </tr>\n",
       "    <tr>\n",
       "      <th>3</th>\n",
       "      <td>Chen was born and raised in Chinatown ,  Manh...</td>\n",
       "      <td>119</td>\n",
       "      <td>https://en.wikipedia.org//wiki/Suicide_of_Dann...</td>\n",
       "      <td>Suicide_of_Danny_Chen</td>\n",
       "      <td>Bullying_and_suicide</td>\n",
       "      <td>True</td>\n",
       "    </tr>\n",
       "    <tr>\n",
       "      <th>4</th>\n",
       "      <td>Halligan was born on December 18 ,  1989 , He...</td>\n",
       "      <td>125</td>\n",
       "      <td>https://en.wikipedia.org//wiki/Suicide_of_Ryan...</td>\n",
       "      <td>Suicide_of_Ryan_Halligan</td>\n",
       "      <td>Bullying_and_suicide</td>\n",
       "      <td>True</td>\n",
       "    </tr>\n",
       "    <tr>\n",
       "      <th>...</th>\n",
       "      <td>...</td>\n",
       "      <td>...</td>\n",
       "      <td>...</td>\n",
       "      <td>...</td>\n",
       "      <td>...</td>\n",
       "      <td>...</td>\n",
       "    </tr>\n",
       "    <tr>\n",
       "      <th>2969</th>\n",
       "      <td>Steele was born in Dallas ,  Texas ,  the dau...</td>\n",
       "      <td>7838</td>\n",
       "      <td>https://en.wikipedia.org//wiki/Sydnee_Steele</td>\n",
       "      <td>Sydnee_Steele</td>\n",
       "      <td>Pornographic_film_actors_from_Texas</td>\n",
       "      <td>False</td>\n",
       "    </tr>\n",
       "    <tr>\n",
       "      <th>2970</th>\n",
       "      <td>Texas's first scene was with Jack Venice in...</td>\n",
       "      <td>7840</td>\n",
       "      <td>https://en.wikipedia.org//wiki/Alexis_Texas</td>\n",
       "      <td>Alexis_Texas</td>\n",
       "      <td>Pornographic_film_actors_from_Texas</td>\n",
       "      <td>False</td>\n",
       "    </tr>\n",
       "    <tr>\n",
       "      <th>2971</th>\n",
       "      <td>Dorothiea Hundley was born and raised in Radf...</td>\n",
       "      <td>7845</td>\n",
       "      <td>https://en.wikipedia.org//wiki/Seka_(actress)</td>\n",
       "      <td>Seka_(actress)</td>\n",
       "      <td>Pornographic_film_actors_from_Virginia</td>\n",
       "      <td>False</td>\n",
       "    </tr>\n",
       "    <tr>\n",
       "      <th>2972</th>\n",
       "      <td>Newton was born in Eau Claire ,  Wisconsin . ...</td>\n",
       "      <td>7855</td>\n",
       "      <td>https://en.wikipedia.org//wiki/William_Arnold_...</td>\n",
       "      <td>William_Arnold_Newton</td>\n",
       "      <td>Pornographic_film_actors_from_Wisconsin</td>\n",
       "      <td>False</td>\n",
       "    </tr>\n",
       "    <tr>\n",
       "      <th>2973</th>\n",
       "      <td>Star moved to the U . S .  (California) with ...</td>\n",
       "      <td>8097</td>\n",
       "      <td>https://en.wikipedia.org//wiki/Charmane_Star</td>\n",
       "      <td>Charmane_Star</td>\n",
       "      <td>American_pornographic_film_actors_of_Filipino_...</td>\n",
       "      <td>False</td>\n",
       "    </tr>\n",
       "  </tbody>\n",
       "</table>\n",
       "<p>2974 rows × 6 columns</p>\n",
       "</div>"
      ],
      "text/plain": [
       "                                                content    V1  \\\n",
       "0      Warren�s parents were Eliza Ann Brown (1824-1...    52   \n",
       "1         After her ALS diagnosis ,  Rodriquez reque...   103   \n",
       "2      Ames was born Mercedes Grabowski in Antigonis...   116   \n",
       "3      Chen was born and raised in Chinatown ,  Manh...   119   \n",
       "4      Halligan was born on December 18 ,  1989 , He...   125   \n",
       "...                                                 ...   ...   \n",
       "2969   Steele was born in Dallas ,  Texas ,  the dau...  7838   \n",
       "2970     Texas's first scene was with Jack Venice in...  7840   \n",
       "2971   Dorothiea Hundley was born and raised in Radf...  7845   \n",
       "2972   Newton was born in Eau Claire ,  Wisconsin . ...  7855   \n",
       "2973   Star moved to the U . S .  (California) with ...  8097   \n",
       "\n",
       "                                            pages_links  \\\n",
       "0     https://en.wikipedia.org//wiki/Harry_Marsh_Warren   \n",
       "1          https://en.wikipedia.org//wiki/Sue_Rodriguez   \n",
       "2            https://en.wikipedia.org//wiki/August_Ames   \n",
       "3     https://en.wikipedia.org//wiki/Suicide_of_Dann...   \n",
       "4     https://en.wikipedia.org//wiki/Suicide_of_Ryan...   \n",
       "...                                                 ...   \n",
       "2969       https://en.wikipedia.org//wiki/Sydnee_Steele   \n",
       "2970        https://en.wikipedia.org//wiki/Alexis_Texas   \n",
       "2971      https://en.wikipedia.org//wiki/Seka_(actress)   \n",
       "2972  https://en.wikipedia.org//wiki/William_Arnold_...   \n",
       "2973       https://en.wikipedia.org//wiki/Charmane_Star   \n",
       "\n",
       "                   pages_names  \\\n",
       "0           Harry_Marsh_Warren   \n",
       "1                Sue_Rodriguez   \n",
       "2                  August_Ames   \n",
       "3        Suicide_of_Danny_Chen   \n",
       "4     Suicide_of_Ryan_Halligan   \n",
       "...                        ...   \n",
       "2969             Sydnee_Steele   \n",
       "2970              Alexis_Texas   \n",
       "2971            Seka_(actress)   \n",
       "2972     William_Arnold_Newton   \n",
       "2973             Charmane_Star   \n",
       "\n",
       "                                            subcategory  suicide  \n",
       "0                                               suicide     True  \n",
       "1                                      Assisted_suicide     True  \n",
       "2                                  Bullying_and_suicide     True  \n",
       "3                                  Bullying_and_suicide     True  \n",
       "4                                  Bullying_and_suicide     True  \n",
       "...                                                 ...      ...  \n",
       "2969                Pornographic_film_actors_from_Texas    False  \n",
       "2970                Pornographic_film_actors_from_Texas    False  \n",
       "2971             Pornographic_film_actors_from_Virginia    False  \n",
       "2972            Pornographic_film_actors_from_Wisconsin    False  \n",
       "2973  American_pornographic_film_actors_of_Filipino_...    False  \n",
       "\n",
       "[2974 rows x 6 columns]"
      ]
     },
     "execution_count": 3,
     "metadata": {},
     "output_type": "execute_result"
    }
   ],
   "source": [
    "Corpus = pd.read_csv(\"Données Wikipédia/Jeu de données final/donnees_wiki_total.csv\")\n",
    "\n",
    "\n",
    "#Corpus = pd.read_csv(\"test.csv\") A mettre comme ça parce que moi j'avais un bugg (et ca separe les mots de cotent par des ,)\n",
    "Corpus"
   ]
  },
  {
   "cell_type": "code",
   "execution_count": 4,
   "metadata": {},
   "outputs": [
    {
     "data": {
      "text/plain": [
       "(2974, 6)"
      ]
     },
     "execution_count": 4,
     "metadata": {},
     "output_type": "execute_result"
    }
   ],
   "source": [
    "Corpus.shape"
   ]
  },
  {
   "cell_type": "markdown",
   "metadata": {},
   "source": [
    "# Visualisation et Traitement"
   ]
  },
  {
   "cell_type": "code",
   "execution_count": 5,
   "metadata": {},
   "outputs": [],
   "source": [
    "##On commence le nettoyage des données en cherchant s'il y a des lignes dupliqués. \n",
    "Corpus = Corpus.drop_duplicates()"
   ]
  },
  {
   "cell_type": "code",
   "execution_count": 6,
   "metadata": {},
   "outputs": [
    {
     "data": {
      "text/plain": [
       "0"
      ]
     },
     "execution_count": 6,
     "metadata": {},
     "output_type": "execute_result"
    }
   ],
   "source": [
    "#On verifie qu'il y ai aucune valeur de content nulle\n",
    "Corpus['content'].isnull().sum()"
   ]
  },
  {
   "cell_type": "code",
   "execution_count": 7,
   "metadata": {},
   "outputs": [
    {
     "data": {
      "text/plain": [
       "0"
      ]
     },
     "execution_count": 7,
     "metadata": {},
     "output_type": "execute_result"
    }
   ],
   "source": [
    "Corpus=Corpus.dropna()\n",
    "Corpus['content'].isnull().sum()"
   ]
  },
  {
   "cell_type": "code",
   "execution_count": 8,
   "metadata": {
    "scrolled": true
   },
   "outputs": [
    {
     "data": {
      "image/png": "[encoded data removed]",
      "text/plain": [
       "<Figure size 432x288 with 1 Axes>"
      ]
     },
     "metadata": {
      "needs_background": "light"
     },
     "output_type": "display_data"
    }
   ],
   "source": [
    "import seaborn as sns\n",
    "Corpus['suicide'].value_counts()\n",
    "sns.countplot(x='suicide', data=Corpus, palette= \"hls\")\n",
    "plt.title(\"nombre de textes par catégorie\")\n",
    "plt.show()"
   ]
  },
  {
   "cell_type": "code",
   "execution_count": 9,
   "metadata": {},
   "outputs": [
    {
     "data": {
      "text/plain": [
       "False    2105\n",
       "True      869\n",
       "Name: suicide, dtype: int64"
      ]
     },
     "execution_count": 9,
     "metadata": {},
     "output_type": "execute_result"
    }
   ],
   "source": [
    "Corpus['suicide'].value_counts()"
   ]
  },
  {
   "cell_type": "markdown",
   "metadata": {},
   "source": [
    "# Traitement"
   ]
  },
  {
   "cell_type": "code",
   "execution_count": 10,
   "metadata": {},
   "outputs": [],
   "source": [
    "df_parfaitX = Corpus.loc[Corpus['suicide']==True,:]\n",
    "df_parfaitY = Corpus.loc[Corpus['suicide']==False,:]"
   ]
  },
  {
   "cell_type": "code",
   "execution_count": 11,
   "metadata": {},
   "outputs": [],
   "source": [
    "df_parfaitY = df_parfaitY.sample(n=1228)\n",
    "Corpus = pd.concat([df_parfaitX,df_parfaitY])\n",
    "Corpus = Corpus.reset_index(drop =True)"
   ]
  },
  {
   "cell_type": "code",
   "execution_count": 12,
   "metadata": {},
   "outputs": [
    {
     "data": {
      "text/html": [
       "<div>\n",
       "<style scoped>\n",
       "    .dataframe tbody tr th:only-of-type {\n",
       "        vertical-align: middle;\n",
       "    }\n",
       "\n",
       "    .dataframe tbody tr th {\n",
       "        vertical-align: top;\n",
       "    }\n",
       "\n",
       "    .dataframe thead th {\n",
       "        text-align: right;\n",
       "    }\n",
       "</style>\n",
       "<table border=\"1\" class=\"dataframe\">\n",
       "  <thead>\n",
       "    <tr style=\"text-align: right;\">\n",
       "      <th></th>\n",
       "      <th>content</th>\n",
       "      <th>V1</th>\n",
       "      <th>pages_links</th>\n",
       "      <th>pages_names</th>\n",
       "      <th>subcategory</th>\n",
       "      <th>suicide</th>\n",
       "    </tr>\n",
       "  </thead>\n",
       "  <tbody>\n",
       "    <tr>\n",
       "      <th>0</th>\n",
       "      <td>Warren�s parents were Eliza Ann Brown (1824-1...</td>\n",
       "      <td>52</td>\n",
       "      <td>https://en.wikipedia.org//wiki/Harry_Marsh_Warren</td>\n",
       "      <td>Harry_Marsh_Warren</td>\n",
       "      <td>suicide</td>\n",
       "      <td>True</td>\n",
       "    </tr>\n",
       "    <tr>\n",
       "      <th>1</th>\n",
       "      <td>After her ALS diagnosis ,  Rodriquez reque...</td>\n",
       "      <td>103</td>\n",
       "      <td>https://en.wikipedia.org//wiki/Sue_Rodriguez</td>\n",
       "      <td>Sue_Rodriguez</td>\n",
       "      <td>Assisted_suicide</td>\n",
       "      <td>True</td>\n",
       "    </tr>\n",
       "    <tr>\n",
       "      <th>2</th>\n",
       "      <td>Ames was born Mercedes Grabowski in Antigonis...</td>\n",
       "      <td>116</td>\n",
       "      <td>https://en.wikipedia.org//wiki/August_Ames</td>\n",
       "      <td>August_Ames</td>\n",
       "      <td>Bullying_and_suicide</td>\n",
       "      <td>True</td>\n",
       "    </tr>\n",
       "    <tr>\n",
       "      <th>3</th>\n",
       "      <td>Chen was born and raised in Chinatown ,  Manh...</td>\n",
       "      <td>119</td>\n",
       "      <td>https://en.wikipedia.org//wiki/Suicide_of_Dann...</td>\n",
       "      <td>Suicide_of_Danny_Chen</td>\n",
       "      <td>Bullying_and_suicide</td>\n",
       "      <td>True</td>\n",
       "    </tr>\n",
       "    <tr>\n",
       "      <th>4</th>\n",
       "      <td>Halligan was born on December 18 ,  1989 , He...</td>\n",
       "      <td>125</td>\n",
       "      <td>https://en.wikipedia.org//wiki/Suicide_of_Ryan...</td>\n",
       "      <td>Suicide_of_Ryan_Halligan</td>\n",
       "      <td>Bullying_and_suicide</td>\n",
       "      <td>True</td>\n",
       "    </tr>\n",
       "    <tr>\n",
       "      <th>...</th>\n",
       "      <td>...</td>\n",
       "      <td>...</td>\n",
       "      <td>...</td>\n",
       "      <td>...</td>\n",
       "      <td>...</td>\n",
       "      <td>...</td>\n",
       "    </tr>\n",
       "    <tr>\n",
       "      <th>2092</th>\n",
       "      <td>Noah Nicholas Beery was born on a farm in Cla...</td>\n",
       "      <td>4708</td>\n",
       "      <td>https://en.wikipedia.org//wiki/Noah_Beery</td>\n",
       "      <td>Noah_Beery</td>\n",
       "      <td>American_male_silent_film_actors</td>\n",
       "      <td>False</td>\n",
       "    </tr>\n",
       "    <tr>\n",
       "      <th>2093</th>\n",
       "      <td>Britton was born September 26 ,  1920 ,  in L...</td>\n",
       "      <td>3519</td>\n",
       "      <td>https://en.wikipedia.org//wiki/Barbara_Britton</td>\n",
       "      <td>Barbara_Britton</td>\n",
       "      <td>Paramount_Pictures_contract_players</td>\n",
       "      <td>False</td>\n",
       "    </tr>\n",
       "    <tr>\n",
       "      <th>2094</th>\n",
       "      <td>In June 1973 ,  Lake returned from her aut...</td>\n",
       "      <td>3582</td>\n",
       "      <td>https://en.wikipedia.org//wiki/Veronica_Lake</td>\n",
       "      <td>Veronica_Lake</td>\n",
       "      <td>Paramount_Pictures_contract_players</td>\n",
       "      <td>False</td>\n",
       "    </tr>\n",
       "    <tr>\n",
       "      <th>2095</th>\n",
       "      <td>Adkins made his debut in 1996 ,  in the sho...</td>\n",
       "      <td>2579</td>\n",
       "      <td>https://en.wikipedia.org//wiki/Seth_Adkins</td>\n",
       "      <td>Seth_Adkins</td>\n",
       "      <td>American_male_film_actors</td>\n",
       "      <td>False</td>\n",
       "    </tr>\n",
       "    <tr>\n",
       "      <th>2096</th>\n",
       "      <td>Faire died of cancer on June 30 ,  1980 in...</td>\n",
       "      <td>2015</td>\n",
       "      <td>https://en.wikipedia.org//wiki/Virginia_Brown_...</td>\n",
       "      <td>Virginia_Brown_Faire</td>\n",
       "      <td>American_silent_film_actresses</td>\n",
       "      <td>False</td>\n",
       "    </tr>\n",
       "  </tbody>\n",
       "</table>\n",
       "<p>2097 rows × 6 columns</p>\n",
       "</div>"
      ],
      "text/plain": [
       "                                                content    V1  \\\n",
       "0      Warren�s parents were Eliza Ann Brown (1824-1...    52   \n",
       "1         After her ALS diagnosis ,  Rodriquez reque...   103   \n",
       "2      Ames was born Mercedes Grabowski in Antigonis...   116   \n",
       "3      Chen was born and raised in Chinatown ,  Manh...   119   \n",
       "4      Halligan was born on December 18 ,  1989 , He...   125   \n",
       "...                                                 ...   ...   \n",
       "2092   Noah Nicholas Beery was born on a farm in Cla...  4708   \n",
       "2093   Britton was born September 26 ,  1920 ,  in L...  3519   \n",
       "2094      In June 1973 ,  Lake returned from her aut...  3582   \n",
       "2095     Adkins made his debut in 1996 ,  in the sho...  2579   \n",
       "2096      Faire died of cancer on June 30 ,  1980 in...  2015   \n",
       "\n",
       "                                            pages_links  \\\n",
       "0     https://en.wikipedia.org//wiki/Harry_Marsh_Warren   \n",
       "1          https://en.wikipedia.org//wiki/Sue_Rodriguez   \n",
       "2            https://en.wikipedia.org//wiki/August_Ames   \n",
       "3     https://en.wikipedia.org//wiki/Suicide_of_Dann...   \n",
       "4     https://en.wikipedia.org//wiki/Suicide_of_Ryan...   \n",
       "...                                                 ...   \n",
       "2092          https://en.wikipedia.org//wiki/Noah_Beery   \n",
       "2093     https://en.wikipedia.org//wiki/Barbara_Britton   \n",
       "2094       https://en.wikipedia.org//wiki/Veronica_Lake   \n",
       "2095         https://en.wikipedia.org//wiki/Seth_Adkins   \n",
       "2096  https://en.wikipedia.org//wiki/Virginia_Brown_...   \n",
       "\n",
       "                   pages_names                          subcategory  suicide  \n",
       "0           Harry_Marsh_Warren                              suicide     True  \n",
       "1                Sue_Rodriguez                     Assisted_suicide     True  \n",
       "2                  August_Ames                 Bullying_and_suicide     True  \n",
       "3        Suicide_of_Danny_Chen                 Bullying_and_suicide     True  \n",
       "4     Suicide_of_Ryan_Halligan                 Bullying_and_suicide     True  \n",
       "...                        ...                                  ...      ...  \n",
       "2092                Noah_Beery     American_male_silent_film_actors    False  \n",
       "2093           Barbara_Britton  Paramount_Pictures_contract_players    False  \n",
       "2094             Veronica_Lake  Paramount_Pictures_contract_players    False  \n",
       "2095               Seth_Adkins            American_male_film_actors    False  \n",
       "2096      Virginia_Brown_Faire       American_silent_film_actresses    False  \n",
       "\n",
       "[2097 rows x 6 columns]"
      ]
     },
     "execution_count": 12,
     "metadata": {},
     "output_type": "execute_result"
    }
   ],
   "source": [
    "Corpus"
   ]
  },
  {
   "cell_type": "code",
   "execution_count": 13,
   "metadata": {
    "scrolled": true
   },
   "outputs": [
    {
     "data": {
      "image/png": "[encoded data removed]",
      "text/plain": [
       "<Figure size 432x288 with 1 Axes>"
      ]
     },
     "metadata": {
      "needs_background": "light"
     },
     "output_type": "display_data"
    }
   ],
   "source": [
    "import seaborn as sns\n",
    "Corpus['suicide'].value_counts()\n",
    "sns.countplot(x='suicide', data=Corpus, palette= \"hls\")\n",
    "plt.title(\"nombre de textes par catégorie\")\n",
    "plt.show()"
   ]
  },
  {
   "cell_type": "code",
   "execution_count": 14,
   "metadata": {
    "scrolled": true
   },
   "outputs": [
    {
     "data": {
      "text/plain": [
       "False    1228\n",
       "True      869\n",
       "Name: suicide, dtype: int64"
      ]
     },
     "execution_count": 14,
     "metadata": {},
     "output_type": "execute_result"
    }
   ],
   "source": [
    "Corpus['suicide'].value_counts()"
   ]
  },
  {
   "cell_type": "markdown",
   "metadata": {},
   "source": [
    "# Traitement de la données texte pour le model"
   ]
  },
  {
   "cell_type": "code",
   "execution_count": 32,
   "metadata": {},
   "outputs": [],
   "source": [
    "# Step - b : Change all the text to lower case. This is required as python interprets 'dog' and 'DOG' differently\n",
    "Corpus['content'] = [entry.lower() for entry in Corpus['content']]\n",
    "# Step - c : Tokenization : In this each entry in the corpus will be broken into set of words\n",
    "Corpus['tokenize']= [word_tokenize(entry) for entry in Corpus['content']]\n",
    "# Step - d : Remove Stop words, Non-Numeric and perfom Word Stemming/Lemmenting.\n",
    "# WordNetLemmatizer requires Pos tags to understand if the word is noun or verb or adjective etc. By default it is set to Noun\n",
    "tag_map = defaultdict(lambda : wn.NOUN)\n",
    "tag_map['J'] = wn.ADJ\n",
    "tag_map['V'] = wn.VERB\n",
    "tag_map['R'] = wn.ADV\n",
    "for index,entry in enumerate(Corpus['tokenize']):\n",
    "    # Declaring Empty List to store the words that follow the rules for this step\n",
    "    Final_words = []\n",
    "    # Initializing WordNetLemmatizer()\n",
    "    word_Lemmatized = WordNetLemmatizer()\n",
    "    # pos_tag function below will provide the 'tag' i.e if the word is Noun(N) or Verb(V) or something else.\n",
    "    for word, tag in pos_tag(entry):\n",
    "        # Below condition is to check for Stop words and consider only alphabets\n",
    "        if word not in stopwords.words('english') and word.isalpha():\n",
    "            word_Final = word_Lemmatized.lemmatize(word,tag_map[tag[0]])\n",
    "            Final_words.append(word_Final)\n",
    "    # The final processed set of words for each iteration will be stored in 'text_final'\n",
    "    Corpus.loc[index,'text_final'] = str(Final_words)"
   ]
  },
  {
   "cell_type": "code",
   "execution_count": 33,
   "metadata": {},
   "outputs": [
    {
     "data": {
      "text/html": [
       "<div>\n",
       "<style scoped>\n",
       "    .dataframe tbody tr th:only-of-type {\n",
       "        vertical-align: middle;\n",
       "    }\n",
       "\n",
       "    .dataframe tbody tr th {\n",
       "        vertical-align: top;\n",
       "    }\n",
       "\n",
       "    .dataframe thead th {\n",
       "        text-align: right;\n",
       "    }\n",
       "</style>\n",
       "<table border=\"1\" class=\"dataframe\">\n",
       "  <thead>\n",
       "    <tr style=\"text-align: right;\">\n",
       "      <th></th>\n",
       "      <th>content</th>\n",
       "      <th>V1</th>\n",
       "      <th>pages_links</th>\n",
       "      <th>pages_names</th>\n",
       "      <th>subcategory</th>\n",
       "      <th>suicide</th>\n",
       "      <th>tokenize</th>\n",
       "      <th>text_final</th>\n",
       "    </tr>\n",
       "  </thead>\n",
       "  <tbody>\n",
       "    <tr>\n",
       "      <th>0</th>\n",
       "      <td>warren�s parents were eliza ann brown (1824-1...</td>\n",
       "      <td>52</td>\n",
       "      <td>https://en.wikipedia.org//wiki/Harry_Marsh_Warren</td>\n",
       "      <td>Harry_Marsh_Warren</td>\n",
       "      <td>suicide</td>\n",
       "      <td>True</td>\n",
       "      <td>[warren�s, parents, were, eliza, ann, brown, (...</td>\n",
       "      <td>['parent', 'eliza', 'ann', 'brown', 'william',...</td>\n",
       "    </tr>\n",
       "    <tr>\n",
       "      <th>1</th>\n",
       "      <td>after her als diagnosis ,  rodriquez reque...</td>\n",
       "      <td>103</td>\n",
       "      <td>https://en.wikipedia.org//wiki/Sue_Rodriguez</td>\n",
       "      <td>Sue_Rodriguez</td>\n",
       "      <td>Assisted_suicide</td>\n",
       "      <td>True</td>\n",
       "      <td>[after, her, als, diagnosis, ,, rodriquez, req...</td>\n",
       "      <td>['al', 'diagnosis', 'rodriquez', 'request', 'h...</td>\n",
       "    </tr>\n",
       "    <tr>\n",
       "      <th>2</th>\n",
       "      <td>ames was born mercedes grabowski in antigonis...</td>\n",
       "      <td>116</td>\n",
       "      <td>https://en.wikipedia.org//wiki/August_Ames</td>\n",
       "      <td>August_Ames</td>\n",
       "      <td>Bullying_and_suicide</td>\n",
       "      <td>True</td>\n",
       "      <td>[ames, was, born, mercedes, grabowski, in, ant...</td>\n",
       "      <td>['ames', 'bear', 'mercedes', 'grabowski', 'ant...</td>\n",
       "    </tr>\n",
       "    <tr>\n",
       "      <th>3</th>\n",
       "      <td>chen was born and raised in chinatown ,  manh...</td>\n",
       "      <td>119</td>\n",
       "      <td>https://en.wikipedia.org//wiki/Suicide_of_Dann...</td>\n",
       "      <td>Suicide_of_Danny_Chen</td>\n",
       "      <td>Bullying_and_suicide</td>\n",
       "      <td>True</td>\n",
       "      <td>[chen, was, born, and, raised, in, chinatown, ...</td>\n",
       "      <td>['chen', 'bear', 'raise', 'chinatown', 'manhat...</td>\n",
       "    </tr>\n",
       "    <tr>\n",
       "      <th>4</th>\n",
       "      <td>halligan was born on december 18 ,  1989 , he...</td>\n",
       "      <td>125</td>\n",
       "      <td>https://en.wikipedia.org//wiki/Suicide_of_Ryan...</td>\n",
       "      <td>Suicide_of_Ryan_Halligan</td>\n",
       "      <td>Bullying_and_suicide</td>\n",
       "      <td>True</td>\n",
       "      <td>[halligan, was, born, on, december, 18, ,, 198...</td>\n",
       "      <td>['halligan', 'bear', 'december', 'describe', '...</td>\n",
       "    </tr>\n",
       "    <tr>\n",
       "      <th>...</th>\n",
       "      <td>...</td>\n",
       "      <td>...</td>\n",
       "      <td>...</td>\n",
       "      <td>...</td>\n",
       "      <td>...</td>\n",
       "      <td>...</td>\n",
       "      <td>...</td>\n",
       "      <td>...</td>\n",
       "    </tr>\n",
       "    <tr>\n",
       "      <th>2092</th>\n",
       "      <td>noah nicholas beery was born on a farm in cla...</td>\n",
       "      <td>4708</td>\n",
       "      <td>https://en.wikipedia.org//wiki/Noah_Beery</td>\n",
       "      <td>Noah_Beery</td>\n",
       "      <td>American_male_silent_film_actors</td>\n",
       "      <td>False</td>\n",
       "      <td>[noah, nicholas, beery, was, born, on, a, farm...</td>\n",
       "      <td>['noah', 'nicholas', 'beery', 'bear', 'farm', ...</td>\n",
       "    </tr>\n",
       "    <tr>\n",
       "      <th>2093</th>\n",
       "      <td>britton was born september 26 ,  1920 ,  in l...</td>\n",
       "      <td>3519</td>\n",
       "      <td>https://en.wikipedia.org//wiki/Barbara_Britton</td>\n",
       "      <td>Barbara_Britton</td>\n",
       "      <td>Paramount_Pictures_contract_players</td>\n",
       "      <td>False</td>\n",
       "      <td>[britton, was, born, september, 26, ,, 1920, ,...</td>\n",
       "      <td>['britton', 'born', 'september', 'long', 'beac...</td>\n",
       "    </tr>\n",
       "    <tr>\n",
       "      <th>2094</th>\n",
       "      <td>in june 1973 ,  lake returned from her aut...</td>\n",
       "      <td>3582</td>\n",
       "      <td>https://en.wikipedia.org//wiki/Veronica_Lake</td>\n",
       "      <td>Veronica_Lake</td>\n",
       "      <td>Paramount_Pictures_contract_players</td>\n",
       "      <td>False</td>\n",
       "      <td>[in, june, 1973, ,, lake, returned, from, her,...</td>\n",
       "      <td>['june', 'lake', 'return', 'autobiography', 'p...</td>\n",
       "    </tr>\n",
       "    <tr>\n",
       "      <th>2095</th>\n",
       "      <td>adkins made his debut in 1996 ,  in the sho...</td>\n",
       "      <td>2579</td>\n",
       "      <td>https://en.wikipedia.org//wiki/Seth_Adkins</td>\n",
       "      <td>Seth_Adkins</td>\n",
       "      <td>American_male_film_actors</td>\n",
       "      <td>False</td>\n",
       "      <td>[adkins, made, his, debut, in, 1996, ,, in, th...</td>\n",
       "      <td>['adkins', 'make', 'debut', 'show', 'small', '...</td>\n",
       "    </tr>\n",
       "    <tr>\n",
       "      <th>2096</th>\n",
       "      <td>faire died of cancer on june 30 ,  1980 in...</td>\n",
       "      <td>2015</td>\n",
       "      <td>https://en.wikipedia.org//wiki/Virginia_Brown_...</td>\n",
       "      <td>Virginia_Brown_Faire</td>\n",
       "      <td>American_silent_film_actresses</td>\n",
       "      <td>False</td>\n",
       "      <td>[faire, died, of, cancer, on, june, 30, ,, 198...</td>\n",
       "      <td>['faire', 'die', 'cancer', 'june', 'laguna', '...</td>\n",
       "    </tr>\n",
       "  </tbody>\n",
       "</table>\n",
       "<p>2097 rows × 8 columns</p>\n",
       "</div>"
      ],
      "text/plain": [
       "                                                content    V1  \\\n",
       "0      warren�s parents were eliza ann brown (1824-1...    52   \n",
       "1         after her als diagnosis ,  rodriquez reque...   103   \n",
       "2      ames was born mercedes grabowski in antigonis...   116   \n",
       "3      chen was born and raised in chinatown ,  manh...   119   \n",
       "4      halligan was born on december 18 ,  1989 , he...   125   \n",
       "...                                                 ...   ...   \n",
       "2092   noah nicholas beery was born on a farm in cla...  4708   \n",
       "2093   britton was born september 26 ,  1920 ,  in l...  3519   \n",
       "2094      in june 1973 ,  lake returned from her aut...  3582   \n",
       "2095     adkins made his debut in 1996 ,  in the sho...  2579   \n",
       "2096      faire died of cancer on june 30 ,  1980 in...  2015   \n",
       "\n",
       "                                            pages_links  \\\n",
       "0     https://en.wikipedia.org//wiki/Harry_Marsh_Warren   \n",
       "1          https://en.wikipedia.org//wiki/Sue_Rodriguez   \n",
       "2            https://en.wikipedia.org//wiki/August_Ames   \n",
       "3     https://en.wikipedia.org//wiki/Suicide_of_Dann...   \n",
       "4     https://en.wikipedia.org//wiki/Suicide_of_Ryan...   \n",
       "...                                                 ...   \n",
       "2092          https://en.wikipedia.org//wiki/Noah_Beery   \n",
       "2093     https://en.wikipedia.org//wiki/Barbara_Britton   \n",
       "2094       https://en.wikipedia.org//wiki/Veronica_Lake   \n",
       "2095         https://en.wikipedia.org//wiki/Seth_Adkins   \n",
       "2096  https://en.wikipedia.org//wiki/Virginia_Brown_...   \n",
       "\n",
       "                   pages_names                          subcategory  suicide  \\\n",
       "0           Harry_Marsh_Warren                              suicide     True   \n",
       "1                Sue_Rodriguez                     Assisted_suicide     True   \n",
       "2                  August_Ames                 Bullying_and_suicide     True   \n",
       "3        Suicide_of_Danny_Chen                 Bullying_and_suicide     True   \n",
       "4     Suicide_of_Ryan_Halligan                 Bullying_and_suicide     True   \n",
       "...                        ...                                  ...      ...   \n",
       "2092                Noah_Beery     American_male_silent_film_actors    False   \n",
       "2093           Barbara_Britton  Paramount_Pictures_contract_players    False   \n",
       "2094             Veronica_Lake  Paramount_Pictures_contract_players    False   \n",
       "2095               Seth_Adkins            American_male_film_actors    False   \n",
       "2096      Virginia_Brown_Faire       American_silent_film_actresses    False   \n",
       "\n",
       "                                               tokenize  \\\n",
       "0     [warren�s, parents, were, eliza, ann, brown, (...   \n",
       "1     [after, her, als, diagnosis, ,, rodriquez, req...   \n",
       "2     [ames, was, born, mercedes, grabowski, in, ant...   \n",
       "3     [chen, was, born, and, raised, in, chinatown, ...   \n",
       "4     [halligan, was, born, on, december, 18, ,, 198...   \n",
       "...                                                 ...   \n",
       "2092  [noah, nicholas, beery, was, born, on, a, farm...   \n",
       "2093  [britton, was, born, september, 26, ,, 1920, ,...   \n",
       "2094  [in, june, 1973, ,, lake, returned, from, her,...   \n",
       "2095  [adkins, made, his, debut, in, 1996, ,, in, th...   \n",
       "2096  [faire, died, of, cancer, on, june, 30, ,, 198...   \n",
       "\n",
       "                                             text_final  \n",
       "0     ['parent', 'eliza', 'ann', 'brown', 'william',...  \n",
       "1     ['al', 'diagnosis', 'rodriquez', 'request', 'h...  \n",
       "2     ['ames', 'bear', 'mercedes', 'grabowski', 'ant...  \n",
       "3     ['chen', 'bear', 'raise', 'chinatown', 'manhat...  \n",
       "4     ['halligan', 'bear', 'december', 'describe', '...  \n",
       "...                                                 ...  \n",
       "2092  ['noah', 'nicholas', 'beery', 'bear', 'farm', ...  \n",
       "2093  ['britton', 'born', 'september', 'long', 'beac...  \n",
       "2094  ['june', 'lake', 'return', 'autobiography', 'p...  \n",
       "2095  ['adkins', 'make', 'debut', 'show', 'small', '...  \n",
       "2096  ['faire', 'die', 'cancer', 'june', 'laguna', '...  \n",
       "\n",
       "[2097 rows x 8 columns]"
      ]
     },
     "execution_count": 33,
     "metadata": {},
     "output_type": "execute_result"
    }
   ],
   "source": [
    "Corpus"
   ]
  },
  {
   "cell_type": "code",
   "execution_count": 34,
   "metadata": {},
   "outputs": [],
   "source": [
    "ySVM=Corpus['suicide']\n",
    "XSVM=Corpus['content']"
   ]
  },
  {
   "cell_type": "code",
   "execution_count": 35,
   "metadata": {},
   "outputs": [],
   "source": [
    "#These will now contain for each row a list of unique integer number and its associated importance \n",
    "#as calculated by TF-IDF.\n",
    "vector = TfidfVectorizer(max_features=5000) #Their will be maximum of 5000 unique words/features as we have set parameter max_features=5000.\n",
    "XSVM=vector.fit_transform(XSVM)"
   ]
  },
  {
   "cell_type": "code",
   "execution_count": 36,
   "metadata": {},
   "outputs": [],
   "source": [
    "#Train_X, Test_X, Train_Y, Test_Y = model_selection.train_test_split(Corpus['text_final'],Corpus['suicide'],test_size=0.3)"
   ]
  },
  {
   "cell_type": "code",
   "execution_count": 37,
   "metadata": {},
   "outputs": [],
   "source": [
    "#transforme les string en numérique pour que le model puisse prendre les données \n",
    "#Encoder = LabelEncoder()\n",
    "#Train_Y = Encoder.fit_transform(Train_Y)\n",
    "#Test_Y = Encoder.fit_transform(Test_Y)"
   ]
  },
  {
   "cell_type": "code",
   "execution_count": 38,
   "metadata": {},
   "outputs": [],
   "source": [
    "#These will now contain for each row a list of unique integer number and its associated importance \n",
    "#as calculated by TF-IDF.\n",
    "#Tfidf_vect = TfidfVectorizer(max_features=5000) #Their will be maximum of 5000 unique words/features as we have set parameter max_features=5000.\n",
    "\n",
    "#Tfidf_vect.fit(Corpus['text_final'])\n",
    "#Train_X_Tfidf = Tfidf_vect.transform(Train_X)\n",
    "#Test_X_Tfidf = Tfidf_vect.transform(Test_X)"
   ]
  },
  {
   "cell_type": "code",
   "execution_count": 39,
   "metadata": {},
   "outputs": [
    {
     "name": "stdout",
     "output_type": "stream",
     "text": [
      "  (0, 2991)\t0.062020834971683314\n",
      "  (0, 1359)\t0.03714631809360103\n",
      "  (0, 98)\t0.04400512564519507\n",
      "  (0, 866)\t0.06988707319744605\n",
      "  (0, 1732)\t0.0743434304677754\n",
      "  (0, 307)\t0.07147520769306269\n",
      "  (0, 2918)\t0.03709902840181183\n",
      "  (0, 29)\t0.0655709141141847\n",
      "  (0, 3377)\t0.04685036610973075\n",
      "  (0, 960)\t0.05120005592232248\n",
      "  (0, 4970)\t0.02642999468601905\n",
      "  (0, 4114)\t0.03154456421382153\n",
      "  (0, 1931)\t0.017549197282226446\n",
      "  (0, 2933)\t0.057071297117308906\n",
      "  (0, 1893)\t0.024095951729216143\n",
      "  (0, 2561)\t0.049611921426705834\n",
      "  (0, 2538)\t0.03514491605143388\n",
      "  (0, 1209)\t0.03792970189350216\n",
      "  (0, 4934)\t0.03012402302891197\n",
      "  (0, 1057)\t0.062020834971683314\n",
      "  (0, 4306)\t0.05397039055749035\n",
      "  (0, 2441)\t0.0733085744193786\n",
      "  (0, 1032)\t0.2537273898681965\n",
      "  (0, 621)\t0.3773849350735444\n",
      "  (0, 587)\t0.1760869099164039\n",
      "  :\t:\n",
      "  (2095, 471)\t0.1313413328528179\n",
      "  (2095, 1876)\t0.14121075699930224\n",
      "  (2095, 1286)\t0.14162068136903266\n",
      "  (2095, 421)\t0.049932871381641916\n",
      "  (2095, 1893)\t0.06082874982813671\n",
      "  (2095, 2160)\t0.05368521658733379\n",
      "  (2095, 868)\t0.04876171840448043\n",
      "  (2095, 2218)\t0.1426723662387451\n",
      "  (2095, 4524)\t0.259494047264837\n",
      "  (2095, 2394)\t0.31325474286255434\n",
      "  (2095, 2280)\t0.04600716212560779\n",
      "  (2095, 2862)\t0.06909577454974833\n",
      "  (2095, 425)\t0.23831799329169617\n",
      "  (2096, 222)\t0.5026793628300227\n",
      "  (2096, 653)\t0.376870940742203\n",
      "  (2096, 338)\t0.33025181356108896\n",
      "  (2096, 124)\t0.3365676361757519\n",
      "  (2096, 895)\t0.3236737160660564\n",
      "  (2096, 186)\t0.31692449915333487\n",
      "  (2096, 875)\t0.22020214339541963\n",
      "  (2096, 2573)\t0.2646477229664562\n",
      "  (2096, 1461)\t0.17690488701686322\n",
      "  (2096, 3284)\t0.10673035804524572\n",
      "  (2096, 3258)\t0.09434839759346231\n",
      "  (2096, 2394)\t0.08727070388927187\n"
     ]
    }
   ],
   "source": [
    "#data vectorisé\n",
    "#1: Row number of ‘Train_X_Tfidf’, \n",
    "#2: Unique Integer number of each word in the first row, \n",
    "#3: Score calculated by TF-IDF Vectorizer\n",
    "print(XSVM)"
   ]
  },
  {
   "cell_type": "code",
   "execution_count": 40,
   "metadata": {},
   "outputs": [
    {
     "name": "stdout",
     "output_type": "stream",
     "text": [
      "{'warren': 4823, 'parents': 3375, 'were': 4858, 'ann': 445, 'brown': 834, '1891': 27, 'and': 425, 'william': 4891, 'who': 4873, 'made': 2862, 'with': 4911, 'his': 2280, 'brother': 831, 'in': 2394, 'hudson': 2339, 'new': 3177, 'hampshire': 2171, 'was': 4826, 'the': 4524, 'youngest': 4981, 'of': 3258, 'their': 4530, 'five': 1896, 'children': 1015, 'born': 774, 'on': 3284, '19': 37, 'april': 482, 'three': 4565, 'weeks': 4849, 'after': 330, 'father': 1824, 'died': 1461, 'leaving': 2710, 'mother': 3093, 'to': 4587, 'raise': 3725, 'family': 1807, 'she': 4129, 'lived': 2782, 'almost': 391, 'next': 3185, 'door': 1526, 'her': 2250, 'law': 2690, 'he': 2218, 'may': 2950, 'have': 2204, 'provided': 3670, 'some': 4227, 'support': 4419, 'however': 2337, 'remarried': 3834, 'local': 2792, '75': 221, 'year': 4969, 'old': 3275, 'farmer': 1816, 'called': 877, 'philip': 3457, 'hart': 2195, 'within': 4912, 'months': 3078, 'by': 868, 'about': 244, 'living': 2786, 'chester': 1007, 'where': 4865, 'attended': 553, 'hill': 2272, 'primary': 3609, 'school': 4031, 'then': 4536, 'academy': 251, 'later': 2676, '1880': 21, 'still': 4333, 'older': 3276, 'had': 2160, 'become': 663, 'following': 1922, 'this': 4553, 'took': 4601, 'up': 4705, 'teaching': 4487, 'surrounding': 4432, 'before': 671, 'attending': 554, 'university': 4699, 'columbia': 1111, 'union': 4694, 'york': 4976, 'city': 1046, 'graduating': 2102, '1888': 24, 'became': 660, 'member': 2979, 'degree': 1397, 'doctor': 1506, 'him': 2274, 'tennessee': 4508, 'received': 3773, 'from': 1988, 'temple': 4505, 'college': 1105, 'philadelphia': 3456, 'while': 4868, 'assisted': 534, 'fifth': 1862, 'avenue': 587, 'baptist': 621, 'church': 1032, 'instrumental': 2441, 'starting': 4306, 'classes': 1057, 'work': 4934, 'continued': 1209, 'john': 2538, 'jr': 2561, 'first': 1893, 'massachusetts': 2933, 'for': 1931, 'several': 4114, 'years': 4970, 'central': 960, 'park': 3377, '1893': 29, 'married': 2918, 'adelaide': 307, 'everett': 1732, 'butler': 866, '1956': 98, 'daughter': 1359, 'merchant': 2991, 'requested': 3865, 'help': 2244, 'physician': 3468, 'medical': 2969, 'aid': 349, 'dying': 1584, 'sought': 4241, 'legal': 2717, 'home': 2303, 'province': 3672, 'british': 821, 'but': 865, 'denied': 1410, 'civil': 1047, 'association': 538, 'filed': 1869, 'lawsuit': 2694, 'that': 4523, 'challenged': 970, 'section': 4063, 'as': 517, '12': 11, '15': 14, 'canadian': 892, 'rights': 3916, 'february': 1836, '1994': 140, 'assistance': 532, 'an': 421, 'ended': 1666, 'own': 3341, 'life': 2752, 'robinson': 3934, 'has': 2198, 'never': 3175, 'identity': 2368, '23': 176, 'june': 2573, '2016': 167, 'canada': 891, 'result': 3881, 'similar': 4173, 'supreme': 4423, 'court': 1254, 'case': 933, 'carter': 929, 'struck': 4367, 'down': 1533, 'parts': 3394, '14': 13, 'criminal': 1286, 'code': 1090, 'which': 4867, 'ruled': 3971, 'ames': 415, 'august': 568, 'grew': 2133, 'colorado': 1109, 'springs': 4283, 'suffered': 4402, 'disorder': 1490, 'career': 911, 'pornographic': 3543, 'actress': 288, 'began': 673, 'at': 540, 'age': 337, 'november': 3233, '2013': 164, 'performed': 3433, 'over': 3336, 'films': 1876, 'appeared': 471, 'non': 3204, 'film': 1872, 'model': 3056, 'murder': 3111, 'killer': 2620, 'december': 1383, '2017': 168, 'due': 1570, 'perform': 3430, 'scene': 4024, 'when': 4864, 'learned': 2706, 'co': 1085, 'star': 4298, 'man': 2886, 'gay': 2033, 'pornography': 3544, 'wrote': 4961, 'lady': 2653, 'performer': 3434, 'is': 2478, 'replacing': 3849, 'me': 2962, 'tomorrow': 4596, 'you': 4978, 're': 3753, 'shooting': 4143, 'guy': 2158, 'shot': 4149, 'porn': 3542, 'just': 2577, 'let': 2737, 'know': 2633, 'all': 379, 'can': 890, 'say': 4016, 'do': 1505, 'agents': 341, 'really': 3765, 'not': 3217, 'care': 910, 'they': 4543, 'representing': 3858, 'my': 3128, 'body': 759, 'drew': 1551, 'criticism': 1291, 'abuse': 249, 'social': 4218, 'media': 2968, 'demanded': 1403, 'or': 3308, 'take': 4458, 'cyanide': 1318, 'said': 3986, 'two': 4675, 'days': 1366, 'found': 1953, 'dead': 1370, 'california': 875, 'investigation': 2465, 'into': 2460, 'suicide': 4407, 'covered': 1258, 'series': 4097, 'last': 2672, 'jon': 2548, 'husband': 2354, 'kevin': 2609, 'moore': 3080, 'encouraged': 1664, 'producer': 3629, 'look': 2805, 'claimed': 1049, 'led': 2712, 'death': 1376, 'story': 4349, 'goes': 2078, 'further': 2002, 'looks': 2808, 'more': 3083, 'closely': 1078, 'role': 3943, 'prior': 3617, 'relationships': 3814, 'history': 2283, 'mental': 2988, 'illness': 2376, 'number': 3236, 'people': 3426, 'around': 499, 'contributed': 1214, 'poor': 3537, 'state': 4307, 'between': 717, 'fictional': 1858, 'young': 4979, 'girl': 2057, 'play': 3504, 'inspector': 2433, 'calls': 879, 'wake': 4799, 'deaths': 1377, 'other': 3323, 'adult': 314, 'performers': 3435, 'industry': 2415, 'proposed': 3662, 'deal': 1372, 'issue': 2482, 'raised': 3726, 'manhattan': 2892, 'china': 1016, 'graduated': 2101, 'high': 2268, '2010': 161, 'full': 1994, 'scholarship': 4030, 'offer': 3260, 'joined': 2543, 'army': 496, 'january': 2505, '2011': 162, 'planned': 3496, 'military': 3016, 'service': 4102, 'return': 3888, 'serve': 4100, 'police': 3530, 'department': 1413, 'completing': 1158, 'basic': 638, 'training': 4628, 'fort': 1946, 'georgia': 2043, 'assigned': 529, 'company': 1150, 'infantry': 2416, 'regiment': 3799, '1st': 148, 'brigade': 816, 'combat': 1116, 'team': 4488, '25th': 180, 'division': 1500, 'based': 636, 'halligan': 2167, '18': 19, '1989': 134, 'described': 1424, 'very': 4743, 'soul': 4242, 'experienced': 1764, 'speech': 4262, 'physical': 3466, 'early': 1591, 'although': 400, 'those': 4556, 'difficulties': 1467, 'fourth': 1960, 'grade': 2097, 'struggled': 4369, 'easy': 1599, 'always': 402, 'showed': 4152, 'face': 1783, 'best': 713, 'started': 4305, 'bullying': 847, 'hands': 2175, 'group': 2140, 'students': 4373, 'because': 661, 'learning': 2707, 'passion': 3401, 'music': 3118, 'drums': 1565, 'guitar': 2151, 'love': 2823, 'drama': 1540, 'told': 4592, 'being': 682, 'picked': 3473, 'initial': 2424, 'response': 3875, 'boys': 794, 'words': 4932, 'short': 4146, 'documentary': 1508, 'enrolled': 1681, 'little': 2779, 'success': 4393, 'moved': 3099, 'middle': 3008, '7th': 226, '2002': 153, 'again': 334, 'asked': 524, 'boxing': 789, 'set': 4107, 'christmas': 1029, 'order': 3311, 'learn': 2705, 'how': 2335, 'himself': 2276, 'wanted': 4816, 'go': 2073, 'principal': 3614, 'sort': 4239, 'things': 4547, 'out': 3328, 'insisted': 2432, 'fight': 1864, 'believing': 689, 'would': 4946, 'make': 2878, 'worse': 4944, 'developed': 1443, 'routine': 3964, 'hours': 2331, 'every': 1733, 'night': 3191, 'pick': 3472, 'if': 2370, 'any': 459, 'student': 4372, 'ever': 1731, 'permission': 3442, '2003': 154, 'bully': 846, 'broken': 826, 'assistant': 533, 'stopped': 4345, 'proud': 3666, 'son': 4232, 'toward': 4611, 'end': 1665, 'friends': 1985, 'be': 652, 'friendship': 1986, 'been': 668, 'long': 2801, 'time': 4580, 'amount': 419, 'examination': 1741, 'required': 3866, 'stomach': 4339, 'spread': 4281, 'according': 262, 'news': 3181, 'reports': 3855, 'during': 1578, 'summer': 4410, 'spent': 4269, 'much': 3106, 'online': 3289, 'particularly': 3388, 'instant': 2436, 'services': 4103, 'did': 1458, 'tell': 4501, 'thinking': 4549, 'also': 396, 'one': 3286, 'occasion': 3247, 'ran': 3729, 'abc': 239, 'primetime': 3611, 'report': 3851, 'once': 3285, 'friend': 1983, 'popular': 3540, 'left': 2715, 'behind': 680, 'only': 3290, 'like': 2758, 'gain': 2006, 'personal': 3446, 'information': 2420, 'private': 3621, 'among': 417, 'it': 2485, 'girls': 2059, 'want': 4815, 'kill': 2618, 'myself': 3129, 'matter': 2942, 'record': 3780, 'discovered': 1484, 'boy': 790, 'screen': 4044, 'name': 3134, 'pen': 3423, 'pal': 3361, 'including': 2400, 'taught': 4479, 'them': 4531, 'themselves': 4535, 'shortly': 4147, 'killed': 2619, 'conversation': 1223, 'belief': 686, 'knew': 2630, 'until': 4703, 'third': 4550, 'away': 595, 'each': 1587, 'turned': 4666, 'negative': 3163, 'person': 3444, 'discussed': 1486, 'hated': 2200, 'feel': 1838, 'suggested': 4405, 'way': 4834, 'writing': 4957, 'bad': 604, 'possible': 3559, 'could': 1244, 'acknowledged': 271, 'brought': 833, 'card': 908, 'worried': 4943, 'thought': 4558, 'responded': 3874, 'ryan': 3983, 'we': 4837, 'october': 3255, 'business': 861, 'trip': 4651, 'morning': 3085, 'members': 2980, 'sleeping': 4208, 'hanged': 2177, 'sister': 4189, 'no': 3196, 'note': 3220, 'computer': 1164, 'faces': 1785, 'same': 3998, 'befriended': 672, 'so': 4216, 'paper': 3368, 'house': 2332, 'reportedly': 3853, 'thing': 4546, 'speak': 4257, 'against': 335, 'contact': 1202, 'confronted': 1180, 'finding': 1884, 'fun': 1997, 'angry': 439, 'think': 4548, 'idea': 2365, 'pain': 3352, 'caused': 948, 'now': 3234, 'even': 1726, 'are': 487, 'lying': 2848, 'your': 4982, 'believe': 687, 'cruel': 1298, 'don': 1520, 'heart': 2228, 'afterward': 332, 'broke': 825, 'repeatedly': 3844, 'what': 4862, 'charges': 990, 'there': 4539, 'circumstances': 1038, 'well': 4854, 'went': 4857, 'talked': 4468, 'use': 4714, 'something': 4229, 'dark': 1350, 'hard': 2182, 'copies': 1231, 'came': 881, 'pulled': 3690, 'under': 4689, 'showing': 4153, 'looking': 2807, 'threw': 4566, 'got': 2092, 'website': 4844, 'soon': 4237, 'improve': 2393, 'schools': 4033, 'address': 305, 'prevention': 3601, 'given': 2061, 'speeches': 4263, 'various': 4733, 'states': 4310, 'effects': 1621, 'teens': 4497, 'policy': 3531, '2004': 155, 'adopted': 312, 'act': 276, '2005': 156, 'submitted': 4386, 'assist': 531, 'teachers': 4486, 'others': 3324, 'depression': 1418, 'featured': 1833, 'television': 4500, 'program': 3642, 'entitled': 1690, 'growing': 2142, 'produced': 3628, '2008': 159, 'tv': 4669, 'boston': 777, 'distributed': 1496, 'pbs': 3416, 'shock': 4141, 'upon': 4708, 'saying': 4017, 'internet': 2454, 'trying': 4659, 'real': 3762, 'world': 4941, 'rise': 3920, 'addition': 302, 'presented': 3589, 'powerful': 3572, 'assembly': 528, 'many': 2898, 'across': 275, 'country': 1249, 'max': 2948, '2018': 169, 'stories': 4347, 'strength': 4358, 'hope': 2317, 'youth': 4983, 'supported': 4420, 'interview': 2457, 'today': 4588, 'changed': 979, 'creek': 1279, 'secondary': 4059, 'along': 393, 'street': 4356, '10': 8, 'bridge': 811, 'fraser': 1970, 'river': 3925, 'eric': 1702, 'david': 1362, 'harris': 2191, '1981': 126, 'kansas': 2581, 'both': 779, 'katherine': 2587, 'wayne': 4835, 'working': 4938, 'united': 4696, 'air': 353, 'force': 1933, 'pilot': 3482, 'move': 3098, '1983': 128, 'ohio': 3272, 'six': 4195, 'relocated': 3824, 'michigan': 3005, '1992': 138, 'retired': 3885, '1997': 143, 'english': 1676, 'class': 1056, 'assignment': 530, 'difficult': 1466, 'moving': 3103, 'most': 3091, 'memories': 2985, 'felt': 1843, 'alone': 392, 'lost': 2817, 'stop': 4344, 'added': 300, 'kids': 2616, 'often': 3270, 'appearance': 469, 'rented': 3841, 'area': 488, 'met': 2994, '1996': 142, 'purchased': 3692, 'settled': 4110, 'south': 4247, 'entered': 1684, '1995': 141, 'freshman': 1981, 'gone': 2085, 'through': 4570, 'major': 2876, 'september': 4092, '11': 10, 'thomas': 4554, 'studying': 4379, 'art': 507, 'quickly': 3705, '1971': 115, 'child': 1013, '1978': 122, 'initially': 2425, 'worked': 4935, 'engineering': 1674, 'financially': 1882, 'observed': 3245, 'keeping': 2597, 'maternal': 2939, 'grandfather': 2110, 'jewish': 2525, 'heritage': 2254, 'earlier': 1589, 'played': 3506, 'baseball': 635, 'ball': 610, 'brooks': 829, 'whom': 4875, 'since': 4180, 'near': 3156, 'bought': 781, 'finally': 1879, 'bus': 859, 'pair': 3358, 'introduced': 2461, 'lew': 2742, 'enlisted': 1678, '2009': 160, 'earn': 1592, 'money': 3065, 'second': 4058, 'sent': 4087, 'unit': 4695, 'held': 2239, 'patrol': 3409, 'base': 634, 'apparent': 465, 'hanging': 2178, 'posted': 3562, 'final': 1877, 'directed': 1471, 'read': 3757, 'bye': 869, 'monster': 3070, 'thank': 4522, 'done': 1523, 'forever': 1939, 'launched': 2683, 'jamey': 2501, 'county': 1250, 'district': 1498, 'attorney': 557, 'frank': 1967, 'lasted': 2673, 'nine': 3194, 'included': 2398, 'phone': 3460, 'records': 3784, 'evidence': 1737, 'these': 4542, 'either': 1627, 'beyond': 719, 'concluded': 1171, 'resulted': 3882, 'worldwide': 4942, 'tim': 4579, 'tracy': 4618, 'interviewed': 2458, 'opportunity': 3305, 'promote': 3653, 'peace': 3417, 'show': 4151, 'stated': 4308, 'extremely': 1779, 'spending': 4268, 'song': 4233, 'hair': 2162, 'performance': 3431, 'festival': 1851, 'mgm': 3001, 'grand': 2108, 'hotel': 2329, 'las': 2671, 'vegas': 4736, 've': 4735, 'tonight': 4598, 'us': 4712, 'victim': 4748, 'bit': 740, 'sometimes': 4230, 'right': 3915, 'important': 2389, 'than': 4521, 'president': 3592, 'administration': 309, 'prevent': 3599, 'miss': 3044, 'monte': 3073, 'founded': 1955, 'bring': 818, 'known': 2636, 'actor': 286, 'noted': 3221, 'decision': 1385, 'come': 1119, 'publicly': 3683, 'light': 2756, 'clear': 1064, 'without': 4913, 'simply': 4176, 'enough': 1680, 'significant': 4168, 'contribution': 1215, 'lies': 2750, 'ahead': 347, 'road': 3929, 'complete': 1155, 'month': 3076, 'another': 453, 'teenager': 4496, 'reported': 3852, 'committed': 1141, 'reason': 3766, 'drawn': 1546, 'fox': 1961, 'referred': 3794, 'rivera': 3926, 'episode': 1695, 'adler': 308, 'saved': 4014, '25': 178, '2012': 163, 'michael': 3003, 'memorial': 2984, 'page': 3348, 'watching': 4831, 'profit': 3640, 'organization': 3315, 'day': 1365, 'double': 1530, 'meaning': 2963, 'word': 4931, 'american': 412, 'band': 614, 'donna': 1525, 'clips': 1073, 'speaking': 4258, 'video': 4754, 'youtube': 4984, 'pretty': 3598, 'enjoyed': 1677, 'dancing': 1338, 'adding': 301, 'occasionally': 3249, 'chair': 967, 'dance': 1334, 'elementary': 1637, 'accent': 252, 'efforts': 1623, 'severe': 4115, 'staff': 4289, 'include': 2397, 'provide': 3669, 'language': 2664, 'attempt': 548, '22': 175, '28': 183, '2014': 165, 'scheduled': 4027, 'account': 263, 'intention': 2447, 'decided': 1384, 'going': 2080, 'transition': 4630, 'successfully': 4396, 'happy': 2180, 'sound': 4243, 'find': 1883, 'loves': 2828, 'live': 2781, 'rest': 3878, 'wishes': 4909, 'woman': 4920, 'herself': 2261, 'winning': 4902, 'already': 395, 'need': 3161, 'get': 2048, 'gets': 2049, 'better': 715, 'true': 4656, 'why': 4877, 'killing': 2621, 'sorry': 4238, 'good': 2086, 'expressed': 1772, 'wish': 4908, 'donated': 1522, 'charity': 991, 'informed': 2421, 'sources': 4246, 'walking': 4804, '71': 219, 'semi': 4080, '30': 186, 'am': 404, 'exit': 1756, '48': 203, 'attracted': 558, 'miller': 3020, 'norton': 3214, 'england': 1675, 'sisters': 4190, 'leigh': 2723, 'brooklyn': 828, 'los': 2813, 'angeles': 435, 'pursue': 3694, 'acting': 278, 'sea': 4051, 'vampire': 4728, '1998': 144, 'starring': 4302, 'scott': 4040, 'mini': 3031, 'appearing': 472, 'few': 1854, 'minor': 3037, 'roles': 3944, 'human': 2343, 'playing': 3510, 'younger': 4980, 'version': 4741, 'anthony': 455, 'hopkins': 2319, 'character': 986, 'identified': 2367, 'strongly': 4366, 'movie': 3101, 'black': 741, 'pass': 3397, 'white': 4870, 'extensively': 1776, 'four': 1958, 'portray': 3550, 'boxer': 788, 'cast': 938, 'network': 3173, 'prison': 3618, 'break': 802, 'engineer': 1673, 'created': 1271, 'lincoln': 2764, 'escape': 1708, 'row': 3966, 'guilty': 2150, 'crime': 1284, 'commit': 1140, 'upper': 4709, 'front': 1989, 'back': 600, 'covering': 1259, 'arms': 495, 'special': 4259, 'earned': 1593, 'golden': 2082, 'globe': 2070, 'award': 591, 'nomination': 3202, 'dramatic': 1542, 'finished': 1888, 'seasons': 4055, 'season': 4054, 'released': 3819, 'carey': 913, 'videos': 4755, 'party': 3395, 'guest': 2146, 'together': 4590, 'interest': 2448, 'director': 1475, 'signed': 4167, 'direct': 1470, 'starred': 4301, 'premiere': 3582, 'victims': 4749, 'detective': 1438, '24': 177, 'evil': 1738, 'commercially': 1135, 'successful': 4395, 'game': 2014, 'plays': 3511, 'chris': 1024, 'screenplay': 4045, 'uncle': 4686, 'charlie': 994, 'july': 2570, 'announced': 450, 'superhero': 4417, 'recurring': 3788, 'leonard': 2730, 'captain': 903, 'cold': 1094, 'horror': 2321, 'room': 3955, 'pictures': 3476, '2020': 171, 'longer': 2802, 'interested': 2449, 'straight': 4351, 'participate': 3384, 'sixth': 4196, 'poverty': 3569, 'dropped': 1558, 'opening': 3297, 'independent': 2407, 'stand': 4293, '1990s': 136, 'saw': 4015, 'loved': 2824, 'riding': 3914, 'seventh': 4113, 'liberal': 2747, 'muslim': 3123, 'dedicated': 1389, 'professional': 3636, 'psychology': 3677, 'rarely': 3740, 'society': 4220, 'car': 907, 'duo': 1577, 'accident': 255, 'survived': 4433, 'causing': 950, 'off': 3259, 'jo': 2531, 'prefecture': 3579, 'founder': 1956, 'head': 2219, 'campaign': 887, 'kindergarten': 2624, 'domestic': 1519, 'violence': 4770, 'hundreds': 2347, 'women': 4921, 'residence': 3868, 'established': 1713, 'purpose': 3693, 'telling': 4502, 'knife': 2631, 'wife': 4883, 'dress': 1549, '000': 0, 'harlem': 2185, '2015': 166, 'effort': 1622, 'begin': 674, 'grant': 2115, 'change': 978, 'seen': 4071, 'revival': 3898, 'primarily': 3608, 'its': 2489, 'marketing': 2913, 'campaigns': 888, '2007': 158, 'hosting': 2326, 'awards': 593, 'previously': 3603, 'broadcast': 822, 'hosts': 2327, 'jane': 2503, 'letter': 2738, 'might': 3010, 'written': 4959, 'monthly': 3077, 'column': 1113, 'fast': 1820, 'ted': 4493, 'talk': 4467, 'foundation': 1954, 'crisis': 1287, 'text': 4519, 'line': 2768, 'free': 1973, 'multiple': 3107, 'management': 2888, 'staged': 4291, 'demanding': 1404, 'board': 753, 'directors': 1477, 'create': 1270, 'anti': 456, 'royal': 3968, 'australian': 574, 'navy': 3150, '1939': 79, 'war': 4818, 'ii': 2371, 'aboard': 243, 'witnessed': 4915, 'surrender': 4430, 'japanese': 2507, 'imperial': 2387, 'forces': 1935, 'tokyo': 4591, 'bay': 649, '1945': 86, 'officially': 3268, 'ending': 1667, 'pacific': 3346, 'insurance': 2442, 'salesman': 3994, '13': 12, '86': 230, 'daughters': 1360, '1969': 112, '1991': 137, 'eventually': 1730, 'becoming': 665, 'professor': 3638, 'served': 4101, '1984': 129, '1985': 130, 'distinguished': 1495, 'named': 3135, 'national': 3143, 'center': 959, 'study': 4378, 'washington': 4827, 'executive': 1750, 'position': 3556, 'elected': 1633, 'international': 2453, 'sciences': 4036, 'johns': 2540, 'medicine': 2970, 'fellow': 1842, 'psychological': 3676, 'research': 3867, 'western': 4860, 'psychiatric': 3675, 'institute': 2438, '1982': 127, 'post': 3561, 'pittsburgh': 3489, 'graduate': 2100, 'public': 3678, 'health': 2223, 'graduation': 2103, 'de': 1369, 'leo': 2729, 'system': 4455, 'italy': 2487, 'elderly': 1630, 'helped': 2245, 'start': 4304, 'italian': 2486, 'suicidal': 4406, '1986': 131, 'sunset': 4415, 'meeting': 2973, 'future': 2004, 'related': 3811, 'conditions': 1174, 'quality': 3698, 'data': 1355, 'collaboration': 1098, 'headquarters': 2221, 'european': 1721, 'office': 3263, 'studied': 4374, 'project': 3646, 'develop': 1442, 'centre': 961, 'behaviour': 679, '1988': 133, '2001': 152, 'vietnam': 4759, 'brazil': 801, 'africa': 328, 'india': 2408, 'demonstrated': 1408, 'importance': 2388, 'celebrated': 954, '2006': 157, 'newly': 3179, 'griffith': 2135, 'launch': 2682, 'risk': 3922, 'involved': 2468, 'countries': 1248, 'chapter': 985, 'self': 4076, 'blue': 750, 'recording': 3782, 'fatal': 1822, 'behavior': 678, 'education': 1614, 'studies': 4375, 'agency': 339, 'opened': 3296, 'promotion': 3656, 'patients': 3406, 'zealand': 4989, 'fund': 1998, 'telephone': 4499, 'sudden': 4399, 'scholars': 4029, 'carried': 923, 'developing': 1444, 'community': 1147, 'west': 4859, 'virginia': 4774, 'honorary': 2311, 'council': 1246, 'outbreak': 3329, 'tragic': 4624, 'effect': 1619, 'rather': 3744, 'form': 1940, 'french': 1977, 'nationalist': 3144, 'propaganda': 3659, 'followed': 1921, 'actively': 282, 'give': 2060, 'combined': 1118, 'background': 601, 'natural': 3147, 'target': 4477, 'seriously': 4099, 'trained': 4627, 'andr': 429, '1915': 53, 'loss': 2816, 'recovered': 3786, 'decade': 1381, 'rose': 3960, 'sense': 4086, 'shared': 4127, 'cultural': 1307, 'religious': 3823, 'shame': 4124, 'suffering': 4403, 'vision': 4777, 'changes': 980, 'treated': 4639, 'continuing': 1210, 'dr': 1536, 'edwin': 1618, 'equally': 1698, 'changing': 981, '1950s': 92, 'men': 2987, 'hospital': 2323, 'conducted': 1175, 'emergency': 1652, 'revealed': 3894, 'follow': 1920, 'creation': 1273, 'problems': 3625, 'beginning': 675, 'hiv': 2288, 'influenced': 2418, 'issues': 2484, 'remained': 3828, 'associate': 535, 'book': 766, 'problem': 3624, 'subsequent': 4388, 'claim': 1048, 'key': 2611, 'published': 3685, 'peer': 3421, 'journal': 2555, 'kelly': 2599, 'johnson': 2541, 'officer': 3264, 'london': 2799, 'hired': 2279, 'homicide': 2306, 'subsequently': 4389, 'groups': 2141, 'invited': 2467, 'critical': 1289, 'should': 4150, 'officers': 3265, 'hosted': 2325, 'recent': 3775, 'whether': 4866, 'autopsy': 584, 'lester': 2736, '1967': 110, 'late': 2675, '1940s': 81, 'mystery': 3132, 'notes': 3222, 'collected': 1101, 'subjects': 4385, 'writings': 4958, '1957': 99, '1958': 100, 'norman': 3210, 'robert': 3930, 'acted': 277, 'discussion': 1487, '1966': 109, 'chief': 1012, 'establish': 1712, '100': 9, '40': 197, '1968': 111, 'threatening': 4564, 'current': 1311, 'jonathan': 2549, 'singer': 4183, 'ideas': 2366, 'funds': 1999, 'programs': 3644, 'recently': 3776, 'treatment': 4640, 'associated': 536, 'drugs': 1562, '1970': 113, 'ucla': 4681, 'write': 4953, 'mentor': 2990, 'throughout': 4571, 'marie': 2906, 'modeling': 3057, 'baby': 597, 'performing': 3436, 'lot': 2818, 'convinced': 1226, 'selected': 4074, 'reality': 3763, 'bachelor': 599, 'wings': 4900, 'aired': 354, 'placed': 3491, 'jake': 2498, 'afterwards': 333, 'ghost': 2051, 'trek': 4642, 'comedy': 1125, 'admitted': 311, 'orleans': 3320, 'attempted': 549, 'tribute': 4646, 'funeral': 2000, 'grace': 2096, 'christian': 1026, 'chelsea': 1003, 'neighborhood': 3165, 'nelson': 3169, 'hollywood': 2298, '1964': 107, 'appearances': 470, 'demand': 1402, '1960s': 103, '1970s': 114, 'dream': 1547, 'daniel': 1343, 'boone': 768, 'sons': 4236, 'heroes': 2258, 'style': 4382, 'wonder': 4923, 'boat': 755, 'eddie': 1603, 'feature': 1832, 'tall': 4473, '1973': 117, 'characters': 987, 'portrayed': 3552, 'seemed': 4069, 'sweet': 4445, 'perhaps': 3437, 'lee': 2713, 'daytime': 1367, 'serial': 4096, 'our': 3327, 'lives': 2785, '1979': 123, 'wound': 4948, 'mary': 2928, 'kay': 2591, 'bergman': 704, '1961': 104, 'musicians': 3122, 'dave': 1361, 'patricia': 3407, 'paris': 3376, 'pat': 3403, 'singing': 4185, 'clubs': 1084, 'reno': 3840, 'pregnant': 3581, 'le': 2698, 'conte': 1204, 'top': 4602, 'academic': 250, 'honors': 2313, 'carol': 919, 'burnett': 854, 'getting': 2050, 'outside': 3334, 'leave': 2709, 'having': 2208, 'america': 411, 'job': 2533, 'commented': 1133, 'kept': 2606, 'hearing': 2227, 'lovely': 2825, 'voice': 4788, 'workers': 4937, 'someone': 4228, 'machine': 2854, 'wild': 4886, 'using': 4716, 'different': 1465, 'voices': 4790, 'guests': 2147, 'coach': 1086, 'teacher': 4485, 'styles': 4383, 'animation': 443, 'commercial': 1134, 'radio': 3718, 'small': 4210, 'security': 4066, 'station': 4312, 'disney': 1489, 'agreed': 344, 'accept': 253, 'jobs': 2534, 'plans': 3498, 'original': 3317, 'female': 1844, '1999': 145, 'wendy': 4856, 'originally': 3318, 'credited': 1277, 'cassidy': 937, 'taken': 4459, 'stars': 4303, 'regarding': 3798, 'official': 3267, 'snow': 4215, 'none': 3205, 'hit': 2284, 'anyone': 460, 'tells': 4503, 'santa': 4008, 'noting': 3227, 'doing': 1512, 'shows': 4155, 'episodes': 1696, 'space': 4252, 'recorded': 3781, 'dialogue': 1451, 'mr': 3104, 'classics': 1060, 'used': 4715, 'via': 4746, 'footage': 1929, 'memory': 2986, '400': 198, 'commercials': 1136, 'mrs': 3105, 'beauty': 658, 'dame': 1329, 'posthumously': 3565, 'toy': 4615, 'additional': 303, 'games': 2015, 'curse': 1314, 'monkey': 3067, 'island': 2480, 'jay': 2509, 'plane': 3494, 'oh': 3271, 'cartoons': 931, 'fairly': 1795, 'animated': 442, 'spider': 4270, 'voiced': 4789, 'blake': 742, 'witch': 4910, '2000': 151, 'release': 3818, 'wolf': 4918, 'vocals': 4786, 'al': 360, 'fly': 1913, 'alongside': 394, 'sing': 4181, 'whole': 4874, 'agent': 340, 'wouldn': 4947, 'trouble': 4654, 'kind': 2623, 'instead': 2437, 'wasn': 4828, 'fran': 1962, 'part': 3382, 'hear': 2225, 'does': 1509, 'diagnosed': 1450, 'cancer': 895, 'afraid': 327, 'losing': 2815, 'talent': 4463, 'sessions': 4106, 'concerned': 1168, 'anniversary': 449, 'alive': 378, 'talking': 4471, 'hour': 2330, '20': 149, 'minutes': 3040, 'bell': 690, 'bird': 734, '26': 181, 'elder': 1629, 'brothers': 832, 'fled': 1900, 'times': 4581, 'put': 3696, 'institution': 2439, 'columnist': 1114, 'dick': 1456, 'photographer': 3462, 'clara': 1054, 'delivered': 1401, 'whose': 4876, 'ship': 4137, 'wealthy': 4838, 'nearby': 3157, 'present': 3588, 'stage': 4290, 'birth': 737, 'actually': 292, 'newspaper': 3182, 'daily': 1322, 'hong': 2309, 'kong': 2638, 'command': 1130, '1879': 20, 'sothern': 4240, 'production': 3633, 'richard': 3908, '1900': 38, 'capucine': 906, 'ne': 3154, '1928': 67, 'saint': 3988, 'france': 1963, '17': 18, 'noticed': 3225, 'flower': 1910, 'fashion': 1819, 'audrey': 567, 'hepburn': 2249, 'close': 1076, 'debut': 1379, 'jean': 2511, 'heads': 2222, '1948': 89, 'jacques': 2495, 'becker': 662, '1949': 90, 'crazy': 1269, '1950': 91, 'bernard': 708, 'lion': 2772, '1951': 93, '1955': 97, 'charles': 992, 'spotted': 4280, 'contract': 1211, '150': 15, 'week': 4846, 'gregory': 2131, 'seven': 4112, 'rio': 3919, '1959': 101, 'landed': 2658, '1960': 102, 'biopic': 733, 'goetz': 2079, 'teach': 4484, 'nobody': 3198, 'princess': 3613, 'camera': 883, 'attractive': 559, 'must': 3124, 'nominated': 3201, 'north': 3211, 'mind': 3028, '20th': 173, 'century': 962, 'prostitute': 3663, 'becomes': 664, 'henry': 2248, 'hathaway': 2201, 'box': 787, 'returned': 3889, 'europe': 1720, 'sequel': 4093, 'billing': 726, 'walk': 4801, 'side': 4160, '1962': 105, 'laurence': 2687, 'harvey': 2197, 'complained': 1154, 'cut': 1317, 'holden': 2293, 'filming': 1874, 'romance': 3947, 'romantic': 3949, 'relationship': 3813, 'loyal': 2832, 'professionally': 3637, 'neither': 3168, 'happened': 2179, 'switzerland': 4448, 'edwards': 1617, 'pink': 3484, 'affair': 323, 'thief': 4544, 'huge': 2340, 'reunited': 3893, 'dawn': 1364, 'disappointment': 1480, '1965': 108, 'sellers': 4078, 'peter': 3452, 'far': 1812, 'filmed': 1873, 'entirely': 1689, 'sex': 4117, 'queens': 3700, 'former': 1943, 'lead': 2699, 'spanish': 4255, 'thriller': 4567, 'supporting': 4421, 'thousand': 4560, 'ships': 4139, 'too': 4600, 'magazine': 2865, 'didn': 1459, 'elegant': 1636, 'see': 4067, 'anything': 461, 'else': 1646, 'venice': 4738, 'horse': 2322, 'beautiful': 657, 'red': 3789, 'sun': 4412, 'paul': 3410, '1975': 119, 'burton': 858, 'ultimately': 4683, 'abandoned': 237, 'ma': 2851, '16': 16, 'la': 2644, '1976': 120, 'con': 1165, 'artists': 514, 'per': 3428, '1977': 121, 'hell': 2241, 'victory': 4752, 'tales': 4466, 'adventure': 317, 'martin': 2925, 'express': 1771, 'les': 2731, 'trail': 4625, 'di': 1449, 'honor': 2310, '1987': 132, 'forty': 1948, 'un': 4684, '1990': 135, 'il': 2373, 'march': 2901, '62': 214, 'jumped': 2571, 'eighth': 1626, 'floor': 1906, 'apartment': 463, 'dalida': 1326, 'cairo': 874, 'kingdom': 2626, '1933': 73, '1904': 42, 'unable': 4685, 'hometown': 2305, 'couple': 1252, '1930': 69, '1936': 76, 'status': 4315, 'opera': 3298, 'caught': 946, 'eye': 1780, 'wear': 4840, 'violin': 4772, 'underwent': 4692, 'operations': 3301, 'ages': 342, 'recalled': 3771, 'window': 4897, 'maria': 2905, 'catholic': 944, 'located': 2793, 'northern': 3212, '1940': 80, 'allied': 386, 'camp': 886, 'desert': 1426, '1944': 85, 'completely': 1157, 'violent': 4771, 'beat': 655, 'especially': 1709, 'die': 1460, 'twelve': 4670, 'brain': 797, 'search': 4053, 'male': 2882, 'partner': 3391, 'teen': 4494, 'cinema': 1035, 'participated': 3385, 'performances': 3432, 'copy': 1232, 'breakthrough': 805, 'thereafter': 4540, 'election': 1634, 'doors': 1527, 'egyptian': 1624, 'mask': 2930, '1954': 96, 'leading': 2702, 'glass': 2066, 'cigarette': 1033, 'try': 4658, 'vidal': 4753, 'roland': 3942, 'lessons': 2735, 'low': 2830, 'price': 3605, 'contest': 1207, 'competition': 1152, 'owner': 3343, 'largest': 2669, 'producing': 3631, 'artistic': 513, 'bar': 622, 'olympia': 3280, 'evening': 1727, 'watch': 4829, 'attend': 552, 'won': 4922, 'meet': 2972, 'accepted': 254, 'building': 843, 'corner': 1233, 'audition': 565, 'responsible': 3877, 'concerts': 1170, 'tour': 4607, 'ep': 1693, 'songs': 4234, 'single': 4186, 'receiving': 3774, 'previous': 3602, 'recordings': 3783, 'heavily': 2232, 'title': 4584, 'album': 365, 'issued': 2483, '27': 182, 'concert': 1169, 'widely': 4880, 'fell': 1841, 'frequently': 1979, 'belgium': 685, 'heard': 2226, 'du': 1567, 'studios': 4377, 'immediately': 2384, 'asking': 525, 'passing': 3400, 'available': 586, 'spy': 4284, 'des': 1421, 'movies': 3102, 'respectively': 3873, 'promoted': 3654, 'latest': 2677, 'releases': 3820, 'moment': 3062, 'peaked': 3418, 'charts': 998, 'winter': 4903, 'proved': 3668, 'holiday': 2296, 'promoting': 3655, 'themed': 4533, 'toured': 4608, 'sold': 4222, 'dates': 1358, 'germany': 2046, 'studio': 4376, 'period': 3438, 'languages': 2665, 'german': 2045, 'der': 1420, 'ten': 4507, 'earning': 1594, 'gold': 2081, 'selling': 4079, 'course': 1253, 'hits': 2287, 'notably': 3219, 'et': 1716, 'awarded': 592, 'oscar': 3322, 'musical': 3119, 'artist': 512, 'debuted': 1380, 'chart': 997, 'win': 4895, 'austria': 575, 'save': 4013, 'reached': 3755, 'biggest': 722, 'palace': 3362, 'completed': 1156, 'equivalent': 1699, 'scored': 4038, 'such': 4398, 'mille': 3019, 'popularity': 3541, 'authorities': 579, 'interrupted': 2456, 'considered': 1194, 'political': 3533, 'string': 4360, 'critically': 1290, 'plus': 3517, 'paid': 3350, 'fully': 1996, '1963': 106, 'greatest': 2122, 'swing': 4446, 'poland': 3529, 'asia': 520, 'latin': 2678, 'appear': 468, 'independence': 2406, 'del': 1398, 'leg': 2716, 'traveled': 4634, 'run': 3972, '200': 150, 'crowd': 1296, 'recognized': 3778, 'en': 1663, 'poorly': 3538, 'entering': 1685, 'twenty': 4671, 'finishing': 1889, 'pop': 3539, 'genre': 2040, 'rushed': 3978, 'refusing': 3796, '65': 215, 'cover': 1256, 'rita': 3923, 'gained': 2007, 'greek': 2125, 'power': 3571, 'format': 1941, 'reaching': 3756, 'date': 1356, 'marked': 2911, 'extensive': 1775, '31': 188, 'mama': 2884, 'turkey': 4663, 'returning': 3890, 'tom': 4593, 'jones': 2550, 'green': 2126, 'premiered': 3583, 'presenting': 3590, 'ai': 348, 'towards': 4612, 'lyrics': 2850, 'dan': 1332, 'millions': 3024, 'fair': 1793, 'hall': 2166, 'medal': 2967, 'republic': 3861, 'general': 2036, 'giving': 2063, 'great': 2120, 'remains': 3830, 'receive': 3772, 'event': 1728, 'citizen': 1044, 'less': 2734, 'autumn': 585, 'planning': 3497, 'vehicle': 4737, 'control': 1217, 'output': 3333, 'label': 2645, 'intended': 2445, 'big': 721, 'comeback': 1120, 'refused': 3795, 'produce': 3627, '1972': 116, 'choose': 1019, 'value': 4726, 'attention': 555, 'traveling': 4635, 'duet': 1572, 'longtime': 2804, 'es': 1707, 'belle': 692, 'nothing': 3223, 'signature': 4166, 'track': 4616, 'sick': 4158, 'writer': 4954, 'mentioned': 2989, 'cried': 1283, 'gaining': 2008, '1974': 118, 'triumph': 4652, 'critics': 1293, 'touring': 4609, 'sales': 3993, 'gathered': 2031, 'singles': 4187, 'material': 2938, 'except': 1745, 'disco': 1483, 'achieving': 269, 'holds': 2295, 'variety': 4732, 'increasing': 2403, 'making': 2881, 'weekly': 4848, 'basis': 640, 'mid': 3007, 'notable': 3218, 'albums': 366, 'translated': 4631, 'folk': 1918, 'nation': 3142, 'usa': 4713, 'nights': 3193, 'carnegie': 917, 'review': 3896, 'praised': 3576, 'personality': 3447, 'audience': 562, 'citizens': 1045, 'nevertheless': 3176, 'offered': 3261, 'fan': 1809, 'tried': 4648, 'hammer': 2169, 'monday': 3064, 'smash': 4213, 'wilson': 4894, 'upcoming': 4706, 'sports': 4278, '1980': 124, 'total': 4604, 'fifteen': 1861, 'costume': 1242, 'dancers': 1337, '90': 231, 'organized': 3316, 'eastern': 1597, 'cities': 1042, 'deep': 1391, 'typical': 4679, '1980s': 125, 'st': 4288, 'remembered': 3836, 'gave': 2032, 'diamond': 1452, 'recognition': 3777, '45': 201, 'million': 3022, 'replaced': 3847, 'sang': 4007, 'cup': 1309, 'singers': 4184, 'tracks': 4617, 'collection': 1102, 'mainly': 2872, 'id': 2363, 'highly': 2270, 'rated': 3742, 'includes': 2399, 'wearing': 4841, 'glamour': 2065, 'era': 1701, 'hold': 2292, 'lights': 2757, 'george': 2042, 'eyes': 1781, 'grandmother': 2111, 'temporarily': 4506, 'devoted': 1448, 'failed': 1790, 'therefore': 4541, 'amazing': 407, 'overcome': 3337, 'east': 1596, 'place': 3490, '29': 184, 'channel': 982, 'jewelry': 2524, 'democratic': 1407, 'gate': 2030, 'san': 4003, 'francisco': 1966, '1941': 82, 'design': 1428, 'chicago': 1011, 'illinois': 2375, 'metal': 2995, 'guild': 2149, 'port': 3545, 'wales': 4800, 'emily': 1655, 'will': 4890, 'dated': 1357, '1922': 61, 'divorced': 1502, 'custody': 1316, 'desire': 1433, 'emigrated': 1654, 'liverpool': 2784, '1916': 54, '1932': 72, 'below': 694, 'sign': 4165, 'looked': 2806, 'mountain': 3096, 'laid': 2654, 'items': 2488, 'canyon': 899, 'connected': 1183, 'absence': 248, 'newspapers': 3183, 'cause': 947, 'listed': 2776, 'coroner': 1234, 'coward': 1261, 'everything': 1736, 'wide': 4879, 'publicity': 3681, 'market': 2912, 'thirteen': 4551, 'outdoor': 3330, 'food': 1926, 'dolores': 1518, 'faith': 1797, 'cleveland': 1068, 'hungarian': 2348, 'descent': 1422, 'alexander': 372, 'hamilton': 2168, 'club': 1082, 'instructor': 2440, 'probably': 3623, 'budget': 840, 'science': 4035, 'fiction': 1857, 'phantom': 3454, 'planet': 3495, 'mutiny': 3125, 'outer': 3331, 'dramas': 1541, 'hero': 2257, 'mistress': 3049, 'manager': 2889, 'sides': 4162, 'gun': 2154, 'travel': 4633, 'missing': 3045, 'miami': 3002, 'florida': 1909, 'worth': 4945, 'author': 577, 'neighbor': 3164, 'confirmed': 1178, 'gordon': 2088, 'oxford': 3344, 'susan': 4435, 'kate': 2585, 'visited': 4779, 'clothes': 1079, 'exhibition': 1753, 'covers': 1260, 'sarah': 4009, 'reporter': 3854, 'jennifer': 2517, 'songwriter': 4235, 'cannes': 897, 'flat': 1899, 'birthday': 738, 'estate': 1714, 'buried': 849, 'cemetery': 958, 'hale': 2164, 'dorothy': 1529, 'sculpture': 4049, 'millionaire': 3023, 'brief': 813, 'marriage': 2917, 'divorce': 1501, 'gardner': 2022, '1894': 30, '1931': 71, '1927': 66, 'mural': 3109, 'portrait': 3548, 'creative': 1274, 'expensive': 1762, 'coast': 1088, 'limited': 2762, 'stock': 4336, 'companies': 1148, 'dancer': 1336, 'ziegfeld': 4995, 'farewell': 1813, 'theater': 4525, '16th': 17, 'large': 2666, '21': 174, 'apparently': 466, 'taking': 4461, 'advice': 321, '1938': 78, 'favorite': 1826, 'madame': 2861, 'femme': 1846, 'yellow': 4971, 'though': 4557, 'fuller': 1995, 'remember': 3835, 'realized': 3764, 'false': 1803, 'mexican': 2999, 'commissioned': 1138, 'paint': 3353, 'mutual': 3126, 'graphic': 2116, 'step': 4323, 'standing': 4295, 'falling': 1801, 'bloody': 748, 'museum': 3117, 'painting': 3356, 'exhibitions': 1754, 'works': 4939, 'view': 4761, 'depressed': 1417, 'injuries': 2427, 'auto': 581, 'overdose': 3338, 'pills': 3481, 'elizabeth': 1642, '1943': 84, 'playhouse': 3509, 'productions': 3634, 'everybody': 1734, 'castle': 940, 'producers': 3630, 'notice': 3224, 'metro': 2997, 'goldwyn': 2083, 'mayer': 2951, 'warner': 4821, 'hara': 2181, 'valley': 4725, 'dolls': 1516, 'famous': 1808, 'actresses': 289, 'mark': 2910, 'winner': 4901, 'duke': 1574, 'broadway': 824, 'legend': 2719, 'geraldine': 2044, 'louise': 2821, 'hemingway': 2247, 'jack': 2492, 'eldest': 1631, 'ernest': 1703, 'wine': 4898, 'spelling': 4265, 'match': 2937, 'joan': 2532, 'childhood': 1014, 'cuba': 1304, 'teenage': 4495, 'alcoholism': 369, 'session': 4105, 'feet': 1840, 'dollar': 1514, 'relations': 3812, 'global': 2069, 'celebrity': 956, 'property': 3660, 'skills': 4201, 'height': 2236, 'regular': 3804, 'exclusive': 1747, '54': 209, 'celebrities': 955, 'jagger': 2496, 'liza': 2787, 'minnelli': 3035, 'andy': 432, 'alcohol': 367, 'rape': 3738, 'revenge': 3895, 'anne': 447, 'bancroft': 613, 'cult': 1306, 'opposite': 3306, 'karen': 2582, 'call': 876, 'bruce': 835, 'elliott': 1645, 'winters': 4904, 'pounds': 3568, 'nearly': 3158, 'increasingly': 2404, 'betty': 716, 'ford': 1936, 'attempting': 550, 'playboy': 3505, 'hire': 2278, 'nude': 3235, 'photos': 3465, 'owned': 3342, 'cousin': 1255, 'host': 2324, 'guide': 2148, 'discovery': 1485, 'monica': 3066, 'badly': 605, 'interred': 2455, 'plot': 3516, 'lloyd': 2789, 'cincinnati': 1034, 'lawyer': 2695, 'alfred': 374, 'rachel': 3715, 'florence': 1908, 'marion': 2909, 'ross': 3961, 'spoke': 4275, 'tired': 4583, 'god': 2075, 'khan': 2614, 'indian': 2409, 'businessman': 862, 'level': 2740, 'theatre': 4527, 'quit': 3710, 'mature': 2943, 'remake': 3831, 'highest': 2269, 'grossing': 2137, 'chance': 975, 'ken': 2600, 'friendly': 1984, 'replacement': 3848, 'hand': 2174, 'pm': 3518, 'allegedly': 382, 'addressed': 306, 'boyfriend': 793, 'process': 3626, 'jason': 2508, 'payne': 3414, 'james': 2499, 'neck': 3160, 'sexual': 4118, 'charged': 989, '1937': 77, 'mar': 2899, 'el': 1628, 'tin': 4582, 'achieved': 267, 'stardom': 4299, 'fame': 1804, 'luis': 2842, 'carmen': 916, 'lez': 2744, 'emotional': 1657, 'lack': 2650, 'point': 3525, 'silver': 4172, 'goddess': 2077, 'honored': 2312, 'landis': 2660, '1919': 57, 'wisconsin': 4906, 'polish': 3532, 'norwegian': 3216, 'railroad': 3722, 'mechanic': 2966, '1923': 62, 'extra': 1777, 'operas': 3299, 'usually': 4719, 'dubbed': 1568, 'darryl': 1352, 'zanuck': 4987, 'pin': 3483, 'grable': 2095, 'moon': 3079, 'screaming': 4043, 'britain': 820, '1942': 83, 'comedian': 1121, 'martha': 2923, 'raye': 3748, 'francis': 1965, 'uso': 4717, 'troupe': 4655, 'soldiers': 4224, 'benny': 700, 'reluctant': 3825, 'visit': 4778, 'wounded': 4949, 'displayed': 1492, 'families': 1806, 'miles': 3015, 'visiting': 4780, 'troops': 4653, 'says': 4018, 'novelist': 3231, 'novel': 3230, 'articles': 510, 'experiences': 1765, 'victor': 4750, 'herman': 2255, 'cartoon': 930, 'harrison': 2192, 'cope': 1230, 'drive': 1554, 'afternoon': 331, 'maid': 2870, 'vine': 4769, 'mcnamara': 2960, 'helen': 2240, 'fleming': 1902, 'keep': 2596, 'nor': 3207, 'stay': 4316, 'vogue': 4787, 'picture': 3475, 'impression': 2392, 'seeing': 4068, 'neill': 3167, 'hugh': 2341, 'herbert': 2252, 'barbara': 624, 'bel': 683, 'king': 2625, 'friday': 1982, '1953': 95, 'reprise': 3859, 'otto': 3326, 'preminger': 3584, 'adaptation': 297, 'controversial': 1219, 'themes': 4534, 'virgin': 4773, 'secure': 4064, 'generally': 2037, 'boost': 769, 'biographical': 731, 'prince': 3612, 'players': 3508, 'attributed': 560, 'expected': 1760, 'memoir': 2981, 'maggie': 2867, 'greatly': 2123, 'wrong': 4960, 'nervous': 3171, 'breakdown': 803, 'remainder': 3827, 'stanley': 4296, 'sin': 4178, 'unconscious': 4687, 'paramount': 3373, 'karl': 2583, 'lover': 2826, 'marlon': 2915, 'brando': 800, 'screenwriter': 4046, 'sam': 3997, 'finish': 1887, 'directing': 1472, 'positive': 3558, 'prize': 3622, 'reviews': 3897, 'mixed': 3054, 'lang': 2662, 'reach': 3754, 'theaters': 4526, 'foreign': 1937, 'spring': 4282, 'rafael': 3719, 'fugitive': 1993, 'hitchcock': 2285, 'juan': 2562, 'ray': 3747, 'aged': 338, 'figure': 1867, 'pennsylvania': 3424, 'governor': 2094, '1918': 56, 'ocean': 3254, 'nun': 3239, 'runs': 3974, 'convent': 1221, 'miracle': 3041, 'considerable': 1193, 'press': 3595, 'shakespeare': 4123, '1935': 75, 'queen': 3699, 'cook': 1228, 'seat': 4056, 'garage': 2018, 'wedding': 4845, 'plato': 3503, 'dana': 1333, 'linda': 2765, 'dean': 1374, 'fernando': 1849, 'marilyn': 2907, 'todd': 4589, 'bridges': 812, 'strokes': 4364, 'drug': 1561, 'drinking': 1553, 'triangle': 4644, 'uncredited': 4688, 'joe': 2535, 'accomplished': 261, 'olympic': 3281, 'spot': 4279, 'land': 2657, 'nominations': 3203, 'majority': 2877, 'content': 1206, 'actors': 287, 'serious': 4098, 'achieve': 266, 'breast': 806, 'beach': 653, 'race': 3714, 'cowboy': 1262, 'chose': 1022, 'erotic': 1705, 'prime': 3610, 'softcore': 4221, 'jill': 2528, 'past': 3402, 'lesbian': 2732, 'lifestyle': 2754, 'boulevard': 782, 'appears': 473, 'silent': 4171, 'oklahoma': 3274, 'titled': 4585, 'laughter': 2681, 'focused': 1917, 'unknown': 4700, 'cameo': 882, 'marvel': 2926, 'mae': 2864, '1910': 48, 'joining': 2544, 'keystone': 2612, 'sennett': 4085, 'bathing': 644, 'enter': 1683, 'crest': 1281, 'certificate': 965, 'munich': 3108, 'seberg': 4057, 'iowa': 2471, 'benson': 701, 'edward': 1616, 'paternal': 3404, 'arrived': 504, 'surname': 4427, 'water': 4832, 'sweden': 4443, 'eight': 1625, 'junior': 2575, 'arts': 515, 'disappeared': 1479, 'gary': 2028, 'conference': 1176, 'fbi': 1830, 'stevens': 4330, 'stockholm': 4337, 'burlesque': 851, 'fire': 1890, 'bing': 729, 'crosby': 1294, 'harry': 2194, 'flesh': 1903, 'devil': 1446, 'bonanza': 764, 'route': 3963, '66': 216, 'eleventh': 1641, 'twilight': 4673, 'zone': 4998, 'walter': 4812, 'em': 1650, 'clint': 1071, 'mitchum': 3051, 'fonda': 1924, 'deadly': 1371, 'companion': 1149, 'kitchen': 2629, 'hills': 2273, 'spoken': 4276, 'arrival': 503, 'removed': 3837, 'fresh': 1980, 'blood': 747, 'acute': 293, 'poisoning': 3528, 'taylor': 4482, 'fake': 1798, 'goodbye': 2087, 'luck': 2836, 'marry': 2919, 'inquest': 2430, 'despite': 1435, 'avoid': 590, 'authors': 580, 'speculated': 4261, 'culture': 1308, 'contemporary': 1205, 'moral': 3081, 'convention': 1222, 'seems': 4070, 'exhibited': 1752, 'signs': 4170, 'extreme': 1778, 'monroe': 3069, 'johnny': 2539, 'recounted': 3785, 'events': 1729, 'bo': 752, 'beverly': 718, 'anderson': 427, 'arranged': 500, 'dressed': 1550, 'possibly': 3560, 'cooper': 1229, 'kenneth': 2602, 'anger': 438, 'urban': 4710, 'bed': 666, 'mix': 3053, 'ill': 2374, 'fact': 1786, 'repeated': 3843, 'comedic': 1123, 'biographer': 730, 'points': 3526, 'impossible': 2390, 'likely': 2760, 'drowning': 1560, 'debbie': 1378, 'booth': 770, 'weems': 4850, 'houston': 2334, 'texas': 4518, 'benjamin': 698, 'half': 2165, 'town': 4614, 'annie': 448, 'worker': 4936, 'smaller': 4211, 'conservatory': 1191, '68': 217, '70': 218, 'captured': 905, 'carnival': 918, 'player': 3507, 'daisy': 1323, 'sally': 3995, 'cato': 945, 'mame': 2885, 'departure': 1414, 'cbs': 951, 'wonderland': 4925, 'article': 509, 'edition': 1608, 'ability': 241, 'tenure': 4509, 'lines': 2770, 'believed': 688, 'connecticut': 1184, 'nature': 3148, 'noon': 3206, 'saturday': 4012, 'surrounded': 4431, 'allan': 380, 'goddard': 2076, 'foster': 1951, 'julia': 2566, 'simple': 4175, 'causes': 949, 'indeed': 2405, 'briefly': 814, 'lane': 2661, 'ends': 1668, '50': 206, 'partnership': 3393, 'comes': 1126, 'uk': 4682, 'financial': 1881, 'pay': 3413, 'collector': 1104, '500': 207, 'supposed': 4422, 'feeling': 1839, 'partners': 3392, 'meets': 2974, 'gambling': 2013, 'bear': 654, 'loan': 2790, 'makes': 2879, 'actions': 280, 'gives': 2062, 'weekend': 4847, 'rebecca': 3768, 'situation': 4194, 'affairs': 324, 'attempts': 551, 'usual': 4718, 'duties': 1580, 'pete': 3451, 'campbell': 889, 'send': 4082, 'claiming': 1050, 'gas': 2029, 'roger': 3940, 'bert': 710, 'everyone': 1735, 'particular': 3387, 'stolen': 4338, 'besides': 711, 'action': 279, 'failure': 1792, 'occurred': 3253, 'meant': 2965, 'employed': 1660, 'claims': 1051, 'committing': 1143, 'photo': 3461, 'adam': 295, 'fate': 1823, 'japan': 2506, 'ex': 1739, 'samurai': 4002, 'ministry': 3034, 'finance': 1880, 'mission': 3046, 'prestigious': 3596, 'faculty': 1789, '1901': 39, 'stint': 4335, '1903': 41, 'obtained': 3246, 'correspondent': 1238, 'harvard': 2196, 'journey': 2558, 'diary': 1455, 'writers': 4955, 'walt': 4811, 'whitman': 4871, 'resulting': 3883, '1907': 45, '1909': 47, 'surviving': 4434, 'tradition': 4621, 'heir': 2238, 'politics': 3534, 'rain': 3724, 'grave': 2117, 'ji': 2527, 'emperor': 1658, 'suddenly': 4400, 'commander': 1131, 'armed': 494, 'empress': 1662, 'dowager': 1532, 'wang': 4813, 'surprise': 4428, 'nephew': 3170, 'transferred': 4629, 'guard': 2143, 'ordered': 3312, 'secretary': 4062, 'failing': 1791, 'sure': 4425, 'entire': 1688, 'clan': 1053, 'modern': 3059, 'declined': 1388, 'hip': 2277, 'liver': 2783, 'explaining': 1769, 'sir': 4188, '85': 229, 'rich': 3907, 'involvement': 2469, 'native': 3146, 'industrial': 2414, '1930s': 70, 'field': 1859, 'dozens': 1535, 'raymond': 3749, 'applied': 475, 'common': 1144, 'approach': 479, 'designer': 1430, 'fields': 1860, 'theatrical': 4529, '1920': 58, '1929': 68, 'firm': 1892, 'associates': 537, 'decades': 1382, 'doris': 1528, 'running': 3973, 'pasadena': 3396, 'ernst': 1704, 'grandparents': 2112, 'victoria': 4751, 'siblings': 4157, 'forced': 1934, 'revolution': 3900, 'throne': 4569, 'crown': 1297, 'von': 4792, 'vienna': 4757, 'wood': 4927, 'strong': 4365, 'rising': 3921, 'cole': 1095, 'editor': 1610, '1946': 87, 'journalist': 2557, 'pseudonym': 3674, 'recruited': 3787, 'activities': 284, 'questions': 3703, 'experience': 1763, 'individual': 2412, 'intellectual': 2443, 'formed': 1942, 'books': 767, 'austrian': 576, '1881': 22, 'struggle': 4368, 'essays': 1710, 'literary': 2777, 'papers': 3369, 'certain': 964, 'poison': 3527, 'linder': 2766, 'suzanne': 4440, 'baron': 627, 'maurice': 2945, 'village': 4764, 'baker': 607, 'heat': 2230, 'attacked': 546, 'embarked': 1651, 'offers': 3262, 'jeanne': 2512, '1917': 55, '1899': 35, 'tragedy': 4623, 'pierre': 3480, 'com': 1115, 'rejected': 3810, '1905': 43, 'path': 3405, 'louis': 2820, 'mostly': 3092, 'slapstick': 4204, 'comedies': 1124, 'personally': 3448, 'fortune': 1947, 'cameras': 884, 'larger': 2668, 'li': 2745, 'fantasy': 1811, 'ren': 3838, 'han': 2173, 'join': 2542, 'persona': 3445, 'clothing': 1080, 'chosen': 1023, 'trademark': 4620, 'critic': 1288, 'handsome': 2176, 'hat': 2199, 'hundred': 2346, 'portraying': 3553, 'hot': 2328, 'motion': 3094, 'lake': 2655, 'falls': 1802, 'chaplin': 984, 'audiences': 563, '1908': 46, 'takes': 4460, 'lawrence': 2692, 'russia': 3980, 'voted': 4793, 'russian': 3981, 'nicholas': 3187, 'playwright': 3512, 'spend': 4267, 'berlin': 707, 'decline': 1387, 'reasons': 3767, '1911': 49, 'scripts': 4048, '1912': 50, 'solo': 4226, 'entertainer': 1686, 'salary': 3990, 'increase': 2402, 'average': 588, 'spain': 4253, 'thousands': 4561, 'fans': 1810, 'railway': 3723, 'accompanied': 260, 'piano': 3471, 'ad': 294, 'reading': 3758, 'understand': 4691, '1914': 52, 'skill': 4200, 'dog': 1510, 'ensemble': 1682, 'occasional': 3248, 'abel': 240, 'medium': 2971, 'suit': 4408, 'features': 1834, 'approached': 480, 'manufacturing': 2897, 'replace': 3846, 'wants': 4817, 'taxi': 4481, 'cancelled': 894, 'remaining': 3829, 'ongoing': 3288, 'continue': 1208, 'quoted': 3713, 'able': 242, 'length': 2727, 'revived': 3899, 'unsuccessful': 4702, '1921': 60, 'earliest': 1590, 'mirror': 3042, 'marx': 2927, 'satire': 4010, 'douglas': 1531, 'fairbanks': 1794, 'loosely': 2810, 'bob': 756, 'funny': 2001, 'laugh': 2680, 'haunted': 2203, 'moments': 3063, '1924': 63, 'prevented': 3600, 'circus': 1039, 'pre': 3578, '1925': 64, 'store': 4346, 'sr': 4286, 'catherine': 943, 'vance': 4730, 'freeman': 1976, 'naval': 3149, 'maryland': 2929, 'frances': 1964, 'deteriorated': 1439, 'blind': 744, 'retirement': 3886, 'expression': 1773, 'pleasant': 3513, 'coming': 1129, 'harm': 2187, 'turning': 4668, 'renamed': 3839, 'joint': 2545, 'prepared': 3585, 'philosophy': 3459, '1906': 44, 'describe': 1423, 'tuberculosis': 4660, '1890': 26, 'type': 4677, 'expanded': 1758, 'test': 4516, 'skin': 4202, 'positions': 3557, 'boarding': 754, 'drawing': 1544, 'preparing': 3586, 'wives': 4916, 'smart': 4212, 'elements': 1638, 'leaders': 2701, 'hunting': 2352, 'statement': 4309, 'murdered': 3112, 'chamber': 971, 'hidden': 2266, 'relatives': 3817, 'table': 4456, 'republican': 3862, 'southern': 4249, 'household': 2333, 'novels': 3232, 'speed': 4264, 'calling': 878, 'faced': 1784, 'publisher': 3686, 'ron': 3953, 'quick': 3704, 'ben': 695, 'arrested': 502, 'indicated': 2411, 'thoughts': 4559, 'charlotte': 995, 'incident': 2396, 'ash': 518, 'carolina': 920, 'cheung': 1008, 'fat': 1821, 'cary': 932, 'asian': 521, 'round': 3962, 'capital': 902, 'wind': 4896, 'image': 2381, 'mass': 2932, 'sponsored': 4277, '250': 179, 'ashes': 519, 'composed': 1162, '1993': 139, 'theme': 4532, 'bride': 810, 'score': 4037, 'composer': 1163, 'jury': 2576, 'rock': 3935, 'beloved': 693, 'collaborated': 1097, 'wong': 4926, 'overseas': 3340, 'angel': 433, 'costumes': 1243, 'cross': 1295, 'sell': 4077, 'concept': 1167, 'standard': 4294, 'chinese': 1017, 'clinton': 1072, 'harriet': 2190, 'scandal': 4020, 'educated': 1613, 'capture': 904, 'lieutenant': 2751, 'trial': 4643, 'scarlet': 4021, 'fever': 1853, '1920s': 59, 'respected': 3872, 'magazines': 2866, 'crane': 1266, 'poems': 3522, 'respect': 3871, '1926': 65, 'volume': 4791, 'sequence': 4094, 'danish': 1345, 'damned': 1330, '77': 223, 'heights': 2237, 'location': 2794, 'directly': 1474, 'liberty': 2748, 'above': 245, 'lower': 2831, 'constant': 1199, 'condition': 1173, 'poem': 3521, 'symbol': 4451, 'fine': 1885, 'hoped': 2318, 'cape': 901, 'epic': 1694, 'mexico': 3000, '32': 189, 'bouts': 783, 'peggy': 3422, 'nurse': 3240, 'pearl': 3419, 'split': 4274, 'jackson': 2494, 'excelled': 1743, 'milton': 3026, 'construction': 1201, 'lillian': 2761, 'mcqueen': 2961, 'blow': 749, 'square': 4285, 'runway': 3975, 'collections': 1103, 'reputation': 3863, 'controversy': 1220, 'terrible': 4512, 'creating': 1272, 'wore': 4933, 'scotland': 4039, 'models': 3058, 'designs': 1431, 'inspired': 2435, 'doll': 1513, 'dante': 1347, 'profile': 3639, 'shown': 4154, 'twice': 4672, 'christ': 1025, 'prominence': 3649, 'projects': 3647, 'designed': 1429, 'appointed': 476, 'appointment': 477, 'disaster': 1481, 'jungle': 2574, 'watched': 4830, 'll': 2788, 'unusual': 4704, 'widespread': 4881, 'inspiration': 2434, 'morris': 3086, 'movement': 3100, 'ice': 2361, 'grey': 2134, 'piece': 3477, 'enormous': 1679, 'inside': 2431, 'inner': 2429, 'interior': 2452, 'filled': 1871, 'naked': 3133, 'walls': 4808, 'onto': 3293, 'ground': 2138, 'joel': 2536, 'turn': 4665, 'rival': 3924, 'manner': 2894, 'merry': 2992, 'clown': 1081, 'example': 1742, 'separate': 4090, 'milan': 3014, 'collaborator': 1099, 'tree': 4641, 'empire': 1659, 'selection': 4075, 'impact': 2386, 'animals': 441, 'russell': 3979, 'featuring': 1835, '46': 202, 'sand': 4004, 'broadcasting': 823, 'depicted': 1415, 'prints': 3616, 'theory': 4538, 'color': 1108, 'marine': 2908, 'foot': 1928, 'yet': 4972, 'pieces': 3478, 'brand': 799, 'term': 4510, 'direction': 1473, 'jerry': 2519, 'chi': 1010, 'bottom': 780, 'guys': 2159, 'site': 4192, 'hood': 2315, 'genius': 2039, 'active': 281, 'mishima': 3043, 'presence': 3587, 'separated': 4091, 'immediate': 2383, 'taste': 4478, 'holding': 2294, 'train': 4626, 'literature': 2778, 'apart': 462, 'deeply': 1392, 'traditional': 4622, 'forms': 1945, 'forest': 1938, 'narrator': 3140, 'describes': 1425, 'potential': 3566, 'editorial': 1611, 'follows': 1923, 'heaven': 2231, 'quite': 3711, 'scholar': 4028, 'representative': 3856, 'passed': 3399, 'declared': 1386, 'exam': 1740, 'message': 2993, 'affected': 325, 'pistol': 3488, 'poetry': 3524, 'allowed': 389, 'advised': 322, 'defeat': 1393, 'occupied': 3252, 'powers': 3573, 'occupation': 3251, 'publishing': 3687, 'kawabata': 2590, 'generation': 2038, 'fit': 1894, '1952': 94, 'greece': 2124, 'travels': 4637, 'criticized': 1292, 'burning': 855, 'ambitious': 410, 'represented': 3857, 'painter': 3355, 'normal': 3209, 'economic': 1601, 'regarded': 3797, 'wing': 4899, 'government': 2093, 'sued': 4401, 'invasion': 2463, 'complex': 1160, 'vice': 4747, 'mysteries': 3130, 'bara': 623, 'donald': 1521, 'sword': 4449, 'posing': 3555, 'weight': 4852, 'steel': 4319, 'considering': 1195, 'forbidden': 1932, 'satirical': 4011, 'tale': 4462, 'mainstream': 2873, 'contained': 1203, 'numerous': 3238, 'itself': 2490, 'joy': 2559, 'communist': 1146, 'protagonist': 3664, 'conspiracy': 1197, 'conflict': 1179, 'roman': 3946, 'olympics': 3282, 'heroic': 2259, 'argued': 490, 'attack': 545, 'freedom': 1974, 'minister': 3033, 'hitler': 2286, 'historical': 2282, 'figures': 1868, 'sale': 3992, 'responsibility': 3876, 'defense': 1396, 'explained': 1768, 'soviet': 4250, 'means': 2964, 'question': 3701, 'ask': 523, 'magnum': 2869, 'oldest': 3277, 'league': 2704, 'plan': 3493, 'revolutionary': 3901, 'radical': 3717, 'offices': 3266, 'promising': 3652, 'necessary': 3159, 'scale': 4019, 'circle': 1036, 'reference': 3793, 'fighting': 1866, 'coup': 1251, 'succeeded': 4392, 'spirit': 4273, 'appeal': 467, 'scattered': 4023, 'choice': 1018, 'testimony': 4517, 'girlfriend': 2058, 'entry': 1692, 'connection': 1185, 'carry': 926, 'secret': 4061, 'legally': 2718, 'least': 2708, 'chest': 1006, 'senior': 4084, 'slightly': 4209, 'count': 1247, 'fall': 1800, 'product': 3632, 'slave': 4206, 'corpse': 1237, 'makeup': 2880, 'hearts': 2229, 'buy': 867, 'hungary': 2349, 'czech': 1320, 'prominent': 3650, 'wall': 4805, 'thirty': 4552, 'built': 844, 'ethnic': 1718, 'exchange': 1746, 'burn': 852, 'region': 3800, 'birds': 735, '43': 200, 'questioned': 3702, 'aspects': 526, 'verdict': 4739, 'alternative': 399, 'turing': 4662, 'accidental': 256, 'apple': 474, 'alan': 362, 'pleasure': 3515, 'unhappy': 4693, 'graham': 2105, 'justice': 2578, 'clock': 1075, 'parliament': 3379, 'pardon': 3374, 'convicted': 1225, '41': 199, 'driven': 1555, 'laws': 2693, '37': 193, 'outstanding': 3335, 'alter': 398, 'cannot': 898, 'manchester': 2891, 'bill': 723, '1885': 23, 'commons': 1145, 'conservative': 1190, 'christopher': 1030, 'passage': 3398, 'colonel': 1107, '1934': 74, 'shanghai': 4125, 'injured': 2426, 'permanently': 3441, 'soldier': 4223, 'open': 3295, 'battle': 646, 'earth': 1595, '18th': 36, 'crimes': 1285, 'prisoners': 3620, '1947': 88, 'sentenced': 4089, 'letters': 2739, 'honour': 2314, 'favour': 1827, 'thus': 4574, 'flowers': 1911, 'remain': 3826, 'prisoner': 3619, 'guns': 2156, 'guards': 2145, 'randolph': 3731, 'steven': 4329, 'accounts': 264, 'wounds': 4950, 'wire': 4905, 'meinhof': 2975, 'bullet': 845, 'cell': 957, 'fired': 1891, 'burns': 856, 'aware': 594, 'lawyers': 2696, 'defence': 1395, 'weapons': 4839, 'clients': 1069, 'aside': 522, 'cambridge': 880, 'harper': 2189, 'andrews': 431, 'fought': 1952, 'charge': 988, 'valentine': 4722, 'corps': 1236, 'acts': 290, 'citation': 1040, 'desperate': 1434, 'streets': 4357, 'apprentice': 478, 'factory': 1788, '39': 195, 'jail': 2497, '36': 192, 'dispute': 1493, 'compilation': 1153, 'roy': 3967, 'dozen': 1534, 'driving': 1557, 'influence': 2417, 'bc': 651, 'admired': 310, 'gift': 2054, 'expelled': 1761, 'gray': 2118, 'knight': 2632, 'clifton': 1070, 'ancient': 424, 'lord': 2811, 'tower': 4613, 'bacon': 603, 'latter': 2679, 'fleet': 1901, 'alcoholic': 368, 'homes': 2304, 'occasions': 3250, 'jefferson': 2514, 'kentucky': 2605, 'antonio': 457, 'marrying': 2920, 'landing': 2659, 'operation': 3300, 'epstein': 1697, 'pauline': 3411, 'inc': 2395, 'intelligence': 2444, 'israel': 2481, 'corporation': 1235, 'acquired': 273, 'raiders': 3721, 'pan': 3366, 'leslie': 2733, 'chairman': 968, 'formerly': 1944, 'managing': 2890, 'executives': 1751, 'helping': 2246, 'credit': 1276, 'ratings': 3745, 'invested': 2464, 'opportunities': 3304, 'federal': 1837, 'begun': 677, '2019': 170, 'metropolitan': 2998, 'jeffrey': 2515, 'judge': 2563, 'knowledge': 2634, '33': 190, 'needed': 3162, '60': 213, 'agreement': 345, 'bela': 684, 'participation': 3386, 'arrest': 501, 'arm': 493, 'joseph': 2554, 'sergeant': 4095, 'prussian': 3673, '1895': 31, 'prove': 3667, 'favor': 1825, 'hernandez': 2256, 'dennis': 1411, 'largely': 2667, 'accused': 265, 'sexually': 4119, 'football': 1930, 'lancaster': 2656, 'pronounced': 3658, 'drawings': 1545, 'tone': 4597, 'officials': 3269, 'grandson': 2113, 'pride': 3606, 'trade': 4619, 'kid': 2615, 'hop': 2316, 'yo': 4975, 'da': 1321, 'mob': 3055, 'ain': 352, 'billboard': 724, 'loving': 2829, 'entertainment': 1687, 'registered': 3802, 'practice': 3574, 'educational': 1615, 'sci': 4034, 'juvenile': 2579, 'alabama': 361, 'montgomery': 3075, 'louisiana': 2822, '91': 232, 'amateur': 406, 'involving': 2470, 'greenfield': 2128, 'ranch': 3730, 'settlement': 4111, 'massive': 2934, 'throat': 4568, 'razor': 3750, 'lewis': 2743, 'odd': 3256, 'plastic': 3500, 'bag': 606, 'berkeley': 705, 'esther': 1715, '2021': 172, 'theories': 4537, 'exposure': 1770, 'dynasty': 1586, 'vietnamese': 4760, 'committee': 1142, 'strike': 4359, 'nazi': 3151, 'injury': 2428, 'surgery': 4426, 'miura': 3052, 'suspected': 4436, 'norway': 3215, 'rank': 3736, 'congo': 1181, 'opinion': 3303, 'activity': 285, 'haven': 2205, 'safety': 3984, 'nations': 3145, 'quiet': 3706, 'ingrid': 2422, 'publicized': 3682, 'development': 1445, 'ways': 4836, 'suburb': 4391, 'mount': 3095, 'granddaughter': 2109, 'poet': 3523, 'leader': 2700, 'here': 2253, 'swedish': 4444, 'phillips': 3458, 'baldwin': 609, 'martial': 2924, 'dutch': 1579, 'fred': 1971, 'van': 4729, 'dealer': 1373, 'gang': 2016, 'praljak': 3577, 'laboratory': 2647, 'illustrated': 2377, 'stating': 4311, 'determined': 1440, 'commission': 1137, 'stayed': 4317, 'investigators': 2466, 'harold': 2188, 'frederick': 1972, 'shipman': 4138, 'eleven': 1640, 'grammar': 2106, 'distance': 1494, 'lung': 2844, 'leeds': 2714, 'hyde': 2359, 'eve': 1724, 'divided': 1499, 'widow': 4882, 'cremated': 1280, 'smith': 4214, 'suspended': 4437, 'discharged': 1482, 'physically': 3467, 'regional': 3801, 'pepper': 3427, 'deputy': 1419, 'lpnagel': 2833, 'pursued': 3695, '1898': 34, 'truth': 4657, 'retiring': 3887, 'fourteen': 1959, 'ambassador': 409, 'controlled': 1218, 'allow': 388, 'reich': 3807, 'goal': 2074, 'jews': 2526, 'alleged': 381, 'condemned': 1172, 'ss': 4287, 'danger': 1341, 'racial': 3716, 'resistance': 3870, 'attacks': 547, 'marshal': 2921, 'wilhelm': 4889, 'sharp': 4128, 'executed': 1749, '95': 233, 'carl': 914, 'mayo': 2952, 'acoustic': 272, 'wolfe': 4919, 'branch': 798, 'dublin': 1569, 'farm': 1815, 'kildare': 2617, 'ireland': 2472, 'converted': 1224, 'arthur': 508, 'hawaii': 2209, 'sole': 4225, 'request': 3864, 'commentary': 1132, 'engaged': 1671, 'assassination': 527, 'cry': 1301, 'interests': 2451, 'whatever': 4863, 'duty': 1581, 'sentence': 4088, 'welcome': 4853, '35': 191, 'coal': 1087, 'orange': 3309, 'lynn': 2849, 'stepfather': 4324, 'cobb': 1089, 'turner': 4667, 'wagner': 4796, 'dakota': 1324, 'kevorkian': 2610, 'doctors': 1507, 'proposal': 3661, 'technique': 4492, 'advertising': 320, 'detroit': 1441, 'janet': 2504, 'disease': 1488, 'montana': 3072, 'difference': 1464, 'citing': 1043, 'sustained': 4439, 'jazz': 2510, 'musician': 3121, 'cd': 952, 'organ': 3314, 'classical': 1059, 'craig': 1264, 'oil': 3273, 'paintings': 3357, 'ones': 3287, 'dear': 1375, 'founding': 1957, 'legion': 2721, 'mayor': 2953, 'commissioner': 1139, 'christine': 1028, 'chubbuck': 1031, 'greg': 2130, 'workshop': 4940, 'painted': 3354, 'bedroom': 667, 'tribune': 4645, 'mike': 3012, 'keel': 2595, 'intent': 2446, 'focus': 1916, 'quinn': 3708, 'baltimore': 612, 'humor': 2344, 'subject': 4384, 'script': 4047, 'dallas': 1327, 'stations': 4314, 'ceremony': 963, 'approximately': 481, 'advanced': 315, 'dwyer': 1583, 'terms': 4511, 'dollars': 1515, 'contributions': 1216, '300': 187, '38': 194, 'fifty': 1863, 'cost': 1240, '55': 210, 'ronald': 3954, 'reagan': 3761, 'presidential': 3593, 'deemed': 1390, 'managed': 2887, 'relative': 3815, 'jos': 2553, 'argentina': 489, 'dirty': 1478, 'crew': 1282, 'draw': 1543, 'schedule': 4026, 'spike': 4271, 'edited': 1606, 'fear': 1831, 'begins': 676, 'bomb': 763, 'resumed': 3884, 'jesus': 2523, 'saints': 3989, 'banks': 619, 'lavish': 2689, 'arizona': 491, 'adventures': 318, 'travelled': 4636, 'exotic': 1757, 'setting': 4109, 'mouth': 3097, '58': 211, 'successor': 4397, 'conquest': 1188, 'share': 4126, 'restless': 3880, 'guardian': 2144, 'relatively': 3816, 'alliance': 385, 'nobunaga': 3199, 'defeated': 1394, 'stationed': 4313, 'tea': 4483, 'enemy': 1669, 'closed': 1077, 'hideyoshi': 2267, 'siege': 4164, 'op': 3294, '1889': 25, 'ka': 2580, 'fianc': 1856, 'burned': 853, 'putting': 3697, '1913': 51, 'headed': 2220, 'artillery': 511, 'tomb': 4594, 'sen': 4081, 'serving': 4104, 'wonderful': 4924, 'bowl': 786, 'witness': 4914, 'remarked': 3833, 'annual': 452, 'threat': 4562, 'relief': 3821, 'destroyed': 1436, 'bore': 772, 'income': 2401, 'range': 3733, 'legendary': 2720, 'duel': 1571, 'mikinosuke': 3013, 'musashi': 3116, 'tadatoki': 4457, 'reads': 3759, 'master': 2935, 'regularly': 3805, 'shiba': 4136, 'impressed': 2391, 'ming': 3030, 'korea': 2639, 'legs': 2722, 'yamanami': 4966, 'originated': 3319, 'places': 3492, 'source': 4245, 'bond': 765, 'till': 4578, 'aaron': 236, 'cherry': 1005, 'jersey': 2520, 'nevada': 3174, 'chandler': 976, 'bennett': 699, 'rex': 3903, 'nanny': 3138, 'julius': 2569, 'caesar': 872, 'mister': 3048, 'hawks': 2211, 'sky': 4203, 'paradise': 3372, 'sitcom': 4191, 'busy': 864, 'roberts': 3932, 'lindsay': 2767, 'colleagues': 1100, 'bbc': 650, 'gentleman': 2041, 'vi': 4745, 'wally': 4809, 'electric': 1635, 'acclaim': 258, 'lasting': 2674, 'adrian': 313, 'marc': 2900, 'raising': 3727, 'plant': 3499, 'african': 329, 'animal': 440, 'anna': 446, 'portraits': 3549, 'garden': 2021, 'chatterton': 1000, 'replied': 3850, 'library': 2749, 'gallery': 2011, 'judy': 2564, 'collins': 1106, 'barry': 629, 'jumping': 2572, 'clive': 1074, 'aunt': 570, 'prompted': 3657, 'walked': 4802, 'underground': 4690, 'druitt': 1563, '76': 222, 'chapel': 983, 'champion': 973, 'tap': 4476, 'seymour': 4120, 'elwes': 1649, 'simon': 4174, 'gloria': 2071, 'rome': 3950, 'abbott': 238, 'bishop': 739, 'luke': 2843, 'earl': 1588, 'nancy': 3137, 'evelyn': 1725, 'architecture': 485, 'visual': 4781, 'illustrations': 2379, 'architect': 484, 'stewart': 4331, 'essex': 1711, 'biography': 732, 'iii': 2372, 'clearly': 1065, 'gilbert': 2055, 'farrow': 1818, 'numbers': 3237, 'carrying': 927, 'parker': 3378, 'severely': 4116, 'chase': 999, 'names': 3136, 'iv': 2491, 'flack': 1897, 'pet': 3450, 'bubbles': 836, 'sketch': 4198, 'coverage': 1257, 'comic': 1127, 'minute': 3039, 'perfect': 3429, 'ballet': 611, 'factor': 1787, 'programme': 3643, 'viewers': 4762, 'labour': 2648, 'lisa': 2774, 'matt': 2941, 'orchestra': 3310, 'gertler': 2047, 'immigrants': 2385, '1892': 28, '1896': 32, 'spencer': 4266, 'isaac': 2479, 'carrington': 924, 'frustration': 1991, 'dogs': 1511, 'exist': 1755, 'limits': 2763, 'vanity': 4731, 'duncan': 1575, 'interesting': 2450, 'edge': 1605, 'frequent': 1978, 'clark': 1055, 'constance': 1198, 'sherlock': 4134, 'holmes': 2299, 'couldn': 1245, 'profession': 3635, 'villainous': 4766, 'keith': 2598, 'memorable': 2983, 'main': 2871, 'vincent': 4768, 'stunt': 4380, 'hunter': 2351, 'oliver': 3278, 'reed': 3791, 'frankenstein': 1968, 'patrick': 3408, 'randy': 3732, 'crash': 1267, 'barrett': 628, 'nursing': 3241, 'terry': 4515, 'lifetime': 2755, 'stuart': 4371, 'details': 1437, 'howard': 2336, 'danced': 1335, 'waiting': 4798, 'antony': 458, 'agnes': 343, 'sailor': 3987, 'wright': 4952, 'consisted': 1196, 'scenes': 4025, 'adams': 296, 'sets': 4108, 'golf': 2084, '73': 220, 'journalism': 2556, 'barnes': 626, 'clerk': 1067, 'bank': 617, 'entrance': 1691, 'experimental': 1767, 'albert': 363, 'angelo': 436, 'forward': 1949, 'liked': 2759, 'preferred': 3580, 'ready': 3760, 'publication': 3679, 'loose': 2809, 'eva': 1722, 'margaret': 2902, 'shadow': 4121, 'lawn': 2691, 'challenge': 969, 'jimmy': 2530, 'block': 745, 'maxwell': 2949, 'drove': 1559, 'completion': 1159, 'sugar': 4404, 'border': 771, 'wallace': 4806, 'australia': 573, 'stone': 4340, 'scottish': 4041, 'soap': 4217, 'darling': 1351, 'danny': 1346, 'kaye': 2592, 'nbc': 3152, 'charley': 993, 'please': 3514, 'eugene': 1719, 'credits': 1278, 'superman': 4418, 'sullivan': 4409, 'partially': 3383, '2nd': 185, 'pocket': 3520, 'samuel': 4001, 'penthouse': 3425, 'plath': 3502, 'magic': 2868, 'hughes': 2342, 'thunder': 4572, 'honeymoon': 2308, 'energy': 1670, 'consider': 1192, 'irish': 2474, 'kathleen': 2588, 'chemistry': 1004, 'biblical': 720, 'strangers': 4354, 'complications': 1161, 'lionel': 2773, 'maintained': 2874, 'benefit': 697, 'sydney': 4450, 'casino': 936, 'ruby': 3970, 'bush': 860, 'driver': 1556, 'mills': 3025, 'alexandra': 373, 'artwork': 516, 'grounds': 2139, 'tony': 4599, 'files': 1870, 'yiddish': 4974, 'romania': 3948, 'otherwise': 3325, 'activist': 283, '1897': 33, 'cited': 1041, 'autobiography': 582, 'stephen': 4325, 'ward': 4819, 'birmingham': 736, 'mabel': 2852, 'havilland': 2207, 'images': 2382, 'progress': 3645, 'shorts': 4148, 'athens': 542, 'kim': 2622, 'boss': 776, 'breaking': 804, 'unlike': 4701, 'providence': 3671, 'andrew': 430, 'struggling': 4370, 'ayler': 596, 'nickname': 3190, 'blues': 751, 'cecil': 953, 'drummer': 1564, 'pianist': 3470, 'trio': 4650, 'soundtrack': 4244, 'filmmaker': 1875, 'garner': 2025, 'murray': 3115, 'vocal': 4784, 'roots': 3958, 'universal': 4697, 'creator': 1275, 'universe': 4698, 'bobby': 757, 'heavy': 2233, 'steve': 4328, 'allen': 383, 'jeremy': 2518, 'nightclub': 3192, 'attached': 544, 'cohen': 1091, 'neal': 3155, 'colt': 1110, 'partly': 3390, 'olivia': 3279, 'schooling': 4032, 'employment': 1661, 'ladies': 2652, 'labor': 2646, 'gambler': 2012, 'sketches': 4199, 'brady': 796, 'indiana': 2410, 'alice': 375, 'crum': 1300, 'candidate': 896, 'larry': 2670, 'kenny': 2603, 'greater': 2121, 'print': 3615, 'congress': 1182, 'aka': 358, 'kramer': 2642, 'syndicated': 4453, 'clay': 1063, 'notorious': 3228, 'confidence': 1177, 'combination': 1117, '1902': 40, 'somewhat': 4231, 'influential': 2419, 'zero': 4990, 'mysterious': 3131, 'narrated': 3139, 'warm': 4820, 'bright': 817, 'thin': 4545, 'publications': 3680, 'rare': 3739, 'effectively': 1620, 'emerson': 1653, 'follies': 1919, 'americans': 413, 'fury': 2003, 'amofah': 416, '3d': 196, 'summers': 4411, '52': 208, 'vacation': 4721, 'adapted': 299, 'wilder': 4888, 'alley': 384, 'amanda': 405, 'edgar': 1604, 'category': 942, 'hollenbeck': 2297, 'wave': 4833, 'shore': 4145, 'cruise': 1299, 'vivid': 4783, 'stood': 4341, 'interviews': 2459, 'marshall': 2922, 'garnered': 2026, 'sympathetic': 4452, 'brian': 809, 'chain': 966, 'orson': 3321, 'welles': 4855, 'sunday': 4414, 'ed': 1602, '49': 204, 'williams': 4892, 'palm': 3363, 'billy': 728, 'milland': 3018, 'basketball': 641, 'mad': 2859, 'threatened': 4563, 'abraham': 246, 'ticket': 4575, 'introduction': 2462, 'angels': 437, 'abroad': 247, 'gale': 2009, 'wizard': 4917, 'oz': 3345, 'korean': 2640, 'actual': 291, 'molly': 3061, 'reprised': 3860, 'memoirs': 2982, 'bernstein': 709, 'caroline': 921, 'madison': 2863, 'panel': 3367, 'list': 2775, 'excellent': 1744, 'newsweek': 3184, 'phil': 3455, 'quine': 3707, 'fi': 1855, 'writes': 4956, 'punk': 3691, 'guitarist': 2152, 'lou': 2819, 'rhythm': 3905, 'leads': 2703, 'persuaded': 3449, 'franklin': 1969, 'malone': 2883, 'thompson': 4555, 'engagement': 1672, 'theatres': 4528, 'daly': 1328, 'lifelong': 2753, 'jules': 2565, 'wise': 4907, 'subscription': 4387, 'dunne': 1576, 'editions': 1609, 'extended': 1774, 'woodland': 4928, 'ida': 2364, 'mann': 2893, 'praise': 3575, 'chorus': 1021, 'virginian': 4775, 'lovers': 2827, 'stroke': 4363, 'katharine': 2586, 'kazan': 2593, 'pulitzer': 3689, 'cat': 941, 'pioneer': 3485, 'authored': 578, 'kennedy': 2601, 'bros': 830, 'frontier': 1990, 'bette': 714, 'davis': 1363, 'sidney': 4163, 'potter': 3567, 'newcomer': 3178, 'jesse': 2521, 'sherman': 4135, 'dc': 1368, 'resigned': 3869, 'pappas': 3370, 'acres': 274, 'simpson': 4177, 'talents': 4465, 'evans': 1723, 'dragon': 1538, 'super': 4416, 'joey': 2537, 'bang': 616, 'pakistan': 3360, 'inducted': 2413, 'borrowed': 775, 'farid': 1814, 'ranger': 3734, 'rebel': 3769, 'turkish': 4664, 'dangerous': 1342, 'ride': 3912, 'repertory': 3845, 'alex': 371, 'shop': 4144, 'advertisements': 319, 'dickinson': 1457, 'bergen': 702, 'mack': 2855, 'denver': 1412, 'publish': 3684, 'powell': 3570, 'hampton': 2172, 'masters': 2936, 'photographs': 3463, 'robin': 3933, 'mitchell': 3050, 'laura': 2684, 'northwest': 3213, 'strange': 4352, 'buenos': 841, 'aires': 355, 'villa': 4763, 'lugones': 2840, 'territory': 4513, 'carlos': 915, 'manuel': 2896, 'socialist': 4219, 'method': 2996, 'quiroga': 3709, 'accidentally': 257, 'technical': 4490, 'photography': 3464, 'remarkable': 3832, 'amor': 418, 'achievement': 268, 'rural': 3976, 'terror': 4514, 'ana': 422, 'opposition': 3307, 'stern': 4326, 'eccentric': 1600, 'bold': 761, 'raft': 3720, 'elephant': 1639, 'beer': 669, 'kraft': 2641, 'currently': 1312, 'bart': 631, 'signing': 4169, 'nice': 3186, '80': 227, 'poster': 3563, 'talented': 4464, 'zhu': 4994, 'liu': 2780, 'wei': 4851, 'wu': 4962, 'beijing': 681, 'rebels': 3770, 'fu': 1992, 'feng': 1847, 'zhang': 4991, 'build': 842, 'reign': 3809, 'ring': 3918, 'lay': 2697, 'tang': 4475, 'circuit': 1037, 'yi': 4973, 'sheep': 4130, 'ling': 2771, 'midnight': 3009, 'ranked': 3737, 'chan': 974, 'yang': 4967, 'cao': 900, 'pi': 3469, 'liang': 2746, 'mausoleum': 2946, 'gradually': 2099, 'recommended': 3779, 'zhangsun': 4992, 'titles': 4586, 'inherit': 2423, 'flying': 1914, 'zhen': 4993, 'successes': 4394, 'ruan': 3969, 'melodrama': 2977, 'bringing': 819, 'gossip': 2091, 'morgan': 3084, 'ncis': 3153, 'fighter': 1865, 'flight': 1905, 'protest': 3665, 'jan': 2502, 'se': 4050, 'dinner': 1469, 'seconds': 4060, 'stibolt': 4332, 'steadily': 4318, 'illustrator': 2380, 'buck': 837, 'repeat': 3842, 'restaurant': 3879, 'wikipedia': 4885, 'automobile': 583, 'posters': 3564, 'noir': 3200, 'font': 1925, 'deleuze': 1400, 'concentration': 1166, 'visible': 4776, 'moscow': 3089, 'promise': 3651, 'coll': 1096, 'chekhov': 1002, 'span': 4254, 'substantial': 4390, 'historian': 2281, '0438': 3, '043e': 6, '043b': 4, '0430': 1, '0442': 7, '043d': 5, '0435': 2, 'cheyenne': 1009, 'flew': 1904, 'classic': 1058, 'lt': 2834, 'fritz': 1987, 'arnold': 498, 'hrer': 2338, 'permanent': 3440, 'dreams': 1548, 'experiment': 1766, 'edmund': 1612, 'richmond': 3910, 'reid': 3808, 'eleanor': 1632, 'roosevelt': 3957, 'jeff': 2513, 'jim': 2529, 'atlantic': 543, 'budapest': 838, 'additionally': 304, 'wars': 4824, 'parties': 3389, 'ny': 3242, 'casting': 939, 'acclaimed': 259, 'elsewhere': 1647, 'expectations': 1759, 'highway': 2271, 'heroine': 2260, 'veteran': 4744, 'villain': 4765, 'drink': 1552, 'cameron': 885, '4th': 205, 'laurel': 2685, 'connor': 1187, 'desi': 1427, 'kiss': 2628, 'arriving': 505, 'turin': 4661, 'westerns': 4861, 'levi': 2741, 'religion': 3822, 'mine': 3029, 'auschwitz': 572, 'secured': 4065, 'teamed': 4489, 'stella': 4321, 'portrays': 3554, 'wagon': 4797, 'presents': 3591, 'diego': 1462, 'mason': 2931, 'returns': 3891, 'finest': 1886, 'puerto': 3688, 'rico': 3911, 'iron': 2475, 'utah': 4720, 'gibson': 2052, 'plate': 3501, 'ho': 2289, 'advent': 316, 'talkies': 4470, 'cash': 935, 'freelance': 1975, 'ellen': 1643, 'claude': 1061, 'daniels': 1344, 'darvi': 1353, 'brad': 795, 'andes': 428, 'greta': 2132, 'edith': 1607, 'lose': 2814, 'viet': 4758, 'kirk': 2627, 'sitting': 4193, 'moss': 3090, 'priest': 3607, 'bergling': 703, 'dj': 1504, 'romero': 3952, 'rodgers': 3939, 'finale': 1878, 'alicia': 376, 'profits': 3641, 'versions': 4742, 'shoot': 4142, 'operator': 3302, 'hardcore': 2183, 'madalina': 2860, 'manole': 2895, 'competed': 1151, 'woods': 4929, 'lucky': 2837, 'jonker': 2551, 'macdonald': 2853, 'bashlachev': 637, 'glenn': 2068, 'souther': 4248, 'boris': 773, 'walker': 4803, 'segment': 4072, 'rush': 3977, 'storm': 4348, 'melody': 2978, 'singapore': 4182, 'kent': 2604, 'novak': 3229, 'twin': 4674, 'emmy': 1656, 'nick': 3189, 'hardy': 2184, 'rockford': 3936, 'talks': 4472, 'hbo': 2217, 'tours': 4610, 'homage': 2302, 'jordan': 2552, 'tiger': 4577, 'irwin': 2477, 'baxter': 648, 'loretta': 2812, 'barker': 625, 'drake': 1539, 'stanwyck': 4297, 'rko': 3927, 'pirate': 3486, 'angela': 434, 'matinee': 2940, 'adaptations': 298, 'wyman': 4964, 'hayes': 2213, 'gene': 2035, 'lucille': 2835, 'hunt': 2350, 'anthology': 454, 'webb': 4843, 'strip': 4361, 'perry': 3443, 'mickey': 3006, 'rooney': 3956, 'lucy': 2838, 'gunsmoke': 2157, 'rogers': 3941, 'burbank': 848, 'glendale': 2067, 'airport': 356, 'sinatra': 4179, 'arrow': 506, 'preston': 3597, 'rod': 3938, 'blonde': 746, 'honey': 2307, 'sheriff': 4133, 'idol': 2369, 'brennan': 808, 'jessica': 2522, 'peck': 3420, 'newman': 3180, 'dyke': 1585, 'redford': 3790, 'burt': 857, 'reynolds': 3904, 'carson': 928, 'curtis': 1315, 'specials': 4260, 'cagney': 873, 'lacey': 2649, 'miniseries': 3032, 'touch': 4605, 'jackie': 2493, 'aiello': 351, 'flame': 1898, 'sanders': 4005, 'paltrow': 3365, 'arliss': 492, 'rider': 3913, 'diana': 1453, 'blasberg': 743, 'mel': 2976, 'hutchence': 2357, 'neil': 3166, 'bass': 642, 'vocalist': 4785, 'backing': 602, 'glory': 2072, 'comedians': 1122, 'holy': 2301, 'dvd': 1582, 'spin': 4272, 'niro': 3195, 'hoffman': 2290, 'exclusively': 1748, 'sundance': 4413, 'voyage': 4794, 'jokes': 2546, 'eastman': 1598, 'khalifa': 2613, 'surprised': 4429, 'ethel': 1717, 'moravec': 3082, '79': 225, 'ranging': 3735, 'ferguson': 1848, 'trick': 4647, 'williamson': 4893, 'prolific': 3648, 'rehearsals': 3806, 'murals': 3110, 'knowles': 2635, 'barton': 633, 'garland': 2024, 'lois': 2797, 'hayward': 2214, 'ellery': 1644, 'amy': 420, 'stan': 4292, 'murphy': 3114, 'joyce': 2560, 'casey': 934, 'heseltine': 2262, 'notices': 3226, 'nichols': 3188, 'hal': 2163, 'perkins': 3439, 'scout': 4042, 'ibn': 2360, 'pool': 3536, 'drunk': 1566, 'ruth': 3982, 'demosthenes': 1409, 'athenian': 541, 'missouri': 3047, 'rat': 3741, 'margin': 2903, 'irene': 2473, 'boyd': 792, 'sozonov': 4251, 'porter': 3546, 'milk': 3017, 'crawford': 1268, 'pneumonia': 3519, 'atticus': 556, 'size': 4197, 'warwick': 4825, 'rdestad': 3752, 'lena': 2726, 'starlet': 4300, 'cards': 909, 'parody': 3380, 'gladys': 2064, 'romeo': 3951, 'juliet': 2568, 'galleries': 2010, 'baldridge': 608, 'yorker': 4977, 'hutchins': 2358, 'portrayal': 3551, 'ralph': 3728, 'illustration': 2378, 'display': 1491, 'elvis': 1648, 'costello': 1241, 'vivian': 4782, 'comics': 1128, 'daredevil': 1349, 'announcer': 451, 'sidekick': 4161, 'reel': 3792, 'gorky': 2089, 'careers': 912, 'horne': 2320, 'contracts': 1213, 'bronx': 827, 'laurie': 2688, 'hawaiian': 2210, 'morrow': 3087, 'suspense': 4438, 'gorman': 2090, 'auction': 561, 'sage': 3985, 'whitney': 4872, 'minnesota': 3036, 'pirates': 3487, 'valiant': 4724, 'woody': 4930, 'charlton': 996, 'registration': 3803, 'linear': 2769, 'distribution': 1497, 'depicting': 1416, 'omar': 3283, 'samson': 4000, 'zixu': 4997, 'constantly': 1200, 'ajax': 357, 'heracles': 2251, 'bow': 784, 'dietrich': 1463, 'himmler': 2275, 'tommy': 4595, 'bode': 758, 'syracuse': 4454, 'carradine': 922, 'oakland': 3243, 'rocky': 3937, 'sleep': 4207, 'marlene': 2914, 'rawhide': 3746, 'salazar': 3991, 'floyd': 1912, 'salt': 3996, 'presley': 3594, 'roll': 3945, 'buddy': 839, 'dale': 1325, 'greene': 2127, 'lone': 2800, 'grammy': 2107, 'hicks': 2265, 'kupcinet': 2643, 'roberta': 3931, 'onscreen': 3291, 'mcclain': 2954, 'audio': 564, 'yankee': 4968, 'billed': 725, 'stooge': 4342, 'wallis': 4807, 'bandleader': 615, 'paired': 3359, 'onstage': 3292, 'cleopatra': 1066, 'yung': 4985, 'humphrey': 2345, 'bogart': 760, 'monogram': 3068, 'shadows': 4122, 'stooges': 4343, 'alyn': 403, 'musicals': 3120, 'vaudeville': 4734, 'vs': 4795, 'csi': 1303, 'baum': 647, 'routines': 3965, 'web': 4842, 'outlaw': 3332, 'sean': 4052, 'pickford': 3474, 'beery': 670, 'conrad': 1189, 'demille': 1406, 'talkie': 4469, 'bellamy': 691, 'digital': 1468, 'avn': 589, 'wicked': 4878, 'stripper': 4362, 'hello': 2243, 'hattie': 2202, 'amerie': 414, 'lent': 2728, '80s': 228, 'trilogy': 4649, 'tallulah': 4474, 'bankhead': 618, 'brien': 815, 'astaire': 539, 'ginger': 2056, 'claudette': 1062, 'colbert': 1093, 'ferrer': 1850, 'lupino': 2845, 'shirley': 4140, 'greer': 2129, 'garson': 2027, 'walsh': 4810, 'zane': 4986, 'technicolor': 4491, 'longest': 2803, 'irving': 2476, 'sid': 4159, 'sturges': 4381, 'tyrone': 4680, 'xxx': 4965, 'pierce': 3479, 'spanky': 4256, 'harlow': 2186, 'apes': 464, 'feminist': 1845, 'valentino': 4723, 'jolson': 2547, 'revue': 3902, 'kern': 2608, 'barthelmess': 632, 'parade': 3371, 'treasure': 4638, 'wilde': 4887, 'tierney': 4576, 'ladd': 2651, 'hustler': 2355, 'moe': 3060, 'shemp': 4131, 'curly': 1310, 'healy': 2224, 'pals': 3364, 'cohn': 1092, 'besser': 712, 'oaks': 3244, 'batman': 645, 'hayden': 2212, 'lon': 2798, 'chaney': 977, 'vidor': 4756, 'natalie': 3141, 'fetish': 1852, 'showtime': 4156, 'directorial': 1476, 'steele': 4320, 'canceled': 893, 'faye': 1829, 'burke': 850, 'lauren': 2686, 'bacall': 598, 'connery': 1186, 'altman': 401, 'seinfeld': 4073, 'michaels': 3004, 'rican': 3906, 'mw': 3127, 'parser': 3381, 'templatequote': 4504, 'overflow': 3339, '1em': 146, 'padding': 3347, '5em': 212, 'align': 377, 'sammy': 3999, 'paytas': 3415, 'julie': 2567, 'arnaz': 497, 'fay': 1828, 'desilu': 1432, 'margret': 2904, 'morton': 3088, 'auditioned': 566, 'fosse': 1950, 'choreographed': 1020, 'conway': 1227, 'familiar': 1805, 'graffiti': 2104, 'lecca': 2711, 'tyler': 4676, 'warners': 4822, 'lux': 2846, 'dix': 1503, 'dolly': 1517, 'cabaret': 871, 'icon': 2362, 'swanson': 4442, 'vamp': 4727, 'langdon': 2663, 'roach': 3928, 'farrell': 1817, 'gable': 2005, 'gangster': 2017, 'fool': 1927, 'torchy': 4603, 'maclane': 2856, 'villains': 4767, 'heston': 2263, 'stranger': 4353, 'barrymore': 630, 'loaned': 2791, 'gunn': 2155, 'er': 1700, 'beaver': 659, 'monsters': 3071, 'noah': 3197, 'reunion': 3892, 'claire': 1052, 'kerman': 2607, 'fairy': 1796, 'albertson': 364, 'berle': 706, 'buster': 863, 'keaton': 2594, 'hogarth': 2291, 'sands': 4006, 'damon': 1331, 'rin': 3917, 'columbo': 1112, 'dracula': 1537, 'zorro': 4999, 'murderer': 3113, 'flynn': 1915, 'hagen': 2161, 'sheridan': 4132, 'rosalind': 3959, 'duff': 1573, 'typecast': 4678, 'hayworth': 2215, 'haver': 2206, 'flop': 1907, 'lemmon': 2725, 'gaynor': 2034, 'demarest': 1405, 'macmurray': 2857, 'vernon': 4740, 'tough': 4606, 'quotebox': 3712, '1px': 147, 'devine': 1447, 'slated': 4205, 'mignola': 3011, 'hellboy': 2242, 'cycle': 1319, 'wyler': 4963, 'scarlett': 4022, 'paige': 3351, 'bowery': 785, 'contracted': 1212, 'agron': 346, 'hiatus': 2264, 'allman': 387, 'auntie': 571, 'marlowe': 2916, 'richardson': 3909, 'chamberlain': 972, 'falcon': 1799, '78': 224, 'bates': 643, 'hur': 2353, 'maureen': 2944, 'maverick': 2947, 'norma': 3208, 'carroll': 925, 'paget': 3349, 'anita': 444, 'lock': 2795, 'cs1': 1302, 'gradient': 2098, 'transparent': 4632, 'url': 4711, 'upload': 4707, 'wikimedia': 4884, 'org': 3313, 'svg': 4441, '9px': 234, 'alt': 397, 'minter': 3038, 'beaumont': 656, 'sternberg': 4327, 'garbo': 2019, 'errol': 1706, 'dane': 1340, 'arden': 486, 'hedison': 2234, 'karloff': 2584, 'anders': 426, 'arbuckle': 483, 'kaur': 2589, 'suratt': 4424, 'thurber': 4573, 'ponce': 3535, 'holt': 2300, 'huston': 2356, 'garfield': 2023, 'peters': 3453, 'crain': 1265, 'cukor': 1305, 'hammerstein': 2170, 'montez': 3074, 'lugosi': 2841, 'whistler': 4869, 'netflix': 3172, 'basil': 639, 'knox': 2637, 'allyson': 390, 'mccrea': 2956, 'cox': 1263, 'macrae': 2858, 'wanger': 4814, 'mcfarland': 2959, 'switzer': 4447, 'gummer': 2153, 'amazon': 408, 'diane': 1454, 'granger': 2114, 'currie': 1313, 'boyce': 791, 'billingsley': 727, 'lockhart': 2796, 'mimieux': 3027, 'portman': 3547, 'rathbone': 3743, 'tavar': 4480, 'zawacki': 4988, 'stencil': 4322, 'mccoy': 2955, 'fitzgerald': 1895, 'benchley': 696, 'gardel': 2020, 'jenna': 2516, 'jameson': 2500, 'grimes': 2136, 'donlevy': 1524, 'bolger': 762, 'byington': 870, 'harron': 2193, 'streep': 4355, 'chayanne': 1001, 'oddie': 3257, 'stoya': 4350, 'darwell': 1354, 'dandridge': 1339, 'haze': 2216, 'sendak': 4083, 'rca': 3751, 'akira': 359, 'eythe': 1782, 'grdina': 2119, 'clubjenna': 1083, 'thalberg': 4520, 'christina': 1027, 'prevost': 3604, 'bosworth': 778, 'aumont': 569, 'maisie': 2875, 'danton': 1348, 'lvarez': 2847, 'zimbalist': 4996, 'affleck': 326, 'mcdaniel': 2957, 'gidley': 2053, 'ackles': 270, 'luft': 2839, 'aaliyah': 235, 'anapau': 423, 'wrangler': 4951, 'delacroix': 1399, 'teese': 4498, 'pavlensky': 3412, 'milligan': 3021, 'aidman': 350, 'heflin': 2235, 'aletter': 370, 'agar': 336, 'mcdowall': 2958, 'banksy': 620, 'corrigan': 1239, 'brendel': 807, 'lemire': 2724, 'stiltz': 4334}\n"
     ]
    }
   ],
   "source": [
    "#The below syntax to see the vocabulary that it has learned from the corpus\n",
    "\n",
    "print(vector.vocabulary_)\n"
   ]
  },
  {
   "cell_type": "markdown",
   "metadata": {},
   "source": [
    "# SVM "
   ]
  },
  {
   "cell_type": "code",
   "execution_count": 41,
   "metadata": {},
   "outputs": [],
   "source": [
    "# Classifier - Algorithm - SVM\n",
    "#Instancier un SVM linéaire sur les données\n",
    "#SVM = svm.SVC(C=1.0, kernel='linear', degree=3, gamma='auto')\n",
    "#SVM.fit(Test_X_Tfidf,Train_Y)\n",
    "# predict the labels on validation dataset\n",
    "#predictions_SVM = SVM.predict(Test_X_Tfidf)\n",
    "# Use accuracy_score function to get the accuracy\n",
    "#print(\"SVM Accuracy Score -> \",accuracy_score(predictions_SVM, Test_Y))\n"
   ]
  },
  {
   "cell_type": "code",
   "execution_count": 42,
   "metadata": {},
   "outputs": [
    {
     "name": "stdout",
     "output_type": "stream",
     "text": [
      "Binary classification-----\n",
      "confusion matrice [[1120  108]\n",
      " [ 141  728]]\n",
      "              precision    recall  f1-score   support\n",
      "\n",
      "       False       0.89      0.91      0.90      1228\n",
      "        True       0.87      0.84      0.85       869\n",
      "\n",
      "    accuracy                           0.88      2097\n",
      "   macro avg       0.88      0.87      0.88      2097\n",
      "weighted avg       0.88      0.88      0.88      2097\n",
      "\n"
     ]
    }
   ],
   "source": [
    "from sklearn.model_selection import cross_val_score, cross_val_predict\n",
    "from sklearn.model_selection import KFold\n",
    "from sklearn.metrics import classification_report\n",
    "from sklearn.metrics import confusion_matrix\n",
    "modelSVM=svm.SVC(kernel='linear',gamma='auto')\n",
    "modelSVM.fit(XSVM,ySVM)\n",
    "y_predSVM = cross_val_predict(modelSVM, XSVM, ySVM, cv=5)\n",
    "cm = confusion_matrix(ySVM, y_predSVM)\n",
    "print(\"Binary classification-----\")\n",
    "recall = np.diag(cm) / np.sum(cm, axis=1)\n",
    "precision = np.diag(cm) / np.sum(cm, axis=0)\n",
    "\n",
    "print(\"confusion matrice\" , cm)\n",
    "\n",
    "\n",
    "print(classification_report(ySVM, y_predSVM))"
   ]
  },
  {
   "cell_type": "code",
   "execution_count": 26,
   "metadata": {},
   "outputs": [
    {
     "data": {
      "text/plain": [
       "0.8812589413447782"
      ]
     },
     "execution_count": 26,
     "metadata": {},
     "output_type": "execute_result"
    }
   ],
   "source": [
    "accuracy_score(ySVM,y_predSVM)"
   ]
  },
  {
   "cell_type": "markdown",
   "metadata": {},
   "source": [
    "# Matrice de confusion"
   ]
  },
  {
   "cell_type": "code",
   "execution_count": 27,
   "metadata": {},
   "outputs": [],
   "source": [
    "#pip install mlxtend\n"
   ]
  },
  {
   "cell_type": "code",
   "execution_count": 43,
   "metadata": {},
   "outputs": [
    {
     "data": {
      "image/png": "[encoded data removed]",
      "text/plain": [
       "<Figure size 432x288 with 1 Axes>"
      ]
     },
     "metadata": {
      "needs_background": "light"
     },
     "output_type": "display_data"
    }
   ],
   "source": [
    "import matplotlib.pyplot as plt\n",
    "from mlxtend.evaluate import confusion_matrix\n",
    "from mlxtend.plotting import plot_confusion_matrix\n",
    "\n",
    "fig, ax = plot_confusion_matrix(conf_mat=cm)\n",
    "plt.show()"
   ]
  },
  {
   "cell_type": "markdown",
   "metadata": {},
   "source": [
    "# Random-Forest"
   ]
  },
  {
   "cell_type": "code",
   "execution_count": 44,
   "metadata": {},
   "outputs": [],
   "source": [
    "yRF=Corpus['suicide']\n",
    "XRF=Corpus['content']"
   ]
  },
  {
   "cell_type": "code",
   "execution_count": 45,
   "metadata": {},
   "outputs": [],
   "source": [
    "vectorRF = TfidfVectorizer(max_features=5000) #Their will be maximum of 5000 unique words/features as we have set parameter max_features=5000.\n",
    "XRF=vectorRF.fit_transform(XRF)"
   ]
  },
  {
   "cell_type": "code",
   "execution_count": 46,
   "metadata": {},
   "outputs": [
    {
     "name": "stdout",
     "output_type": "stream",
     "text": [
      "Binary classification-----\n",
      "confusion matrice [[1129   99]\n",
      " [ 145  724]]\n",
      "              precision    recall  f1-score   support\n",
      "\n",
      "       False       0.89      0.92      0.90      1228\n",
      "        True       0.88      0.83      0.86       869\n",
      "\n",
      "    accuracy                           0.88      2097\n",
      "   macro avg       0.88      0.88      0.88      2097\n",
      "weighted avg       0.88      0.88      0.88      2097\n",
      "\n"
     ]
    }
   ],
   "source": [
    "\n",
    "from sklearn.ensemble import RandomForestClassifier\n",
    "\n",
    "modelRF=RandomForestClassifier(n_estimators=500)\n",
    "modelRF.fit(XRF,yRF)\n",
    "y_predRF = cross_val_predict(modelRF, XRF, yRF, cv=5)\n",
    "print(\"Binary classification-----\")\n",
    "cm = confusion_matrix(yRF, y_predRF)\n",
    "recall = np.diag(cm) / np.sum(cm, axis=1)\n",
    "precision = np.diag(cm) / np.sum(cm, axis=0)\n",
    "\n",
    "print(\"confusion matrice\" , cm)\n",
    "\n",
    "\n",
    "print(classification_report(yRF, y_predRF))\n"
   ]
  },
  {
   "cell_type": "code",
   "execution_count": null,
   "metadata": {},
   "outputs": [],
   "source": [
    "import matplotlib.pyplot as plt\n",
    "from mlxtend.evaluate import confusion_matrix\n",
    "from mlxtend.plotting import plot_confusion_matrix\n",
    "\n",
    "fig, ax = plot_confusion_matrix(conf_mat=cm)\n",
    "plt.show()"
   ]
  }
 ],
 "metadata": {
  "kernelspec": {
   "display_name": "Python 3",
   "language": "python",
   "name": "python3"
  },
  "language_info": {
   "codemirror_mode": {
    "name": "ipython",
    "version": 3
   },
   "file_extension": ".py",
   "mimetype": "text/x-python",
   "name": "python",
   "nbconvert_exporter": "python",
   "pygments_lexer": "ipython3",
   "version": "3.8.3"
  }
 },
 "nbformat": 4,
 "nbformat_minor": 4
}
