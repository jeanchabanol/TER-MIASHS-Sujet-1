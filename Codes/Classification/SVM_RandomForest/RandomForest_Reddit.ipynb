{
 "cells": [
  {
   "cell_type": "code",
   "execution_count": 3,
   "metadata": {},
   "outputs": [],
   "source": [
    "import numpy as np\n",
    "from sklearn.feature_extraction.text import CountVectorizer\n",
    "from sklearn.ensemble import RandomForestClassifier\n",
    "from sklearn import datasets\n",
    "import matplotlib.pyplot as plt"
   ]
  },
  {
   "cell_type": "code",
   "execution_count": 9,
   "metadata": {},
   "outputs": [
    {
     "data": {
      "text/html": [
       "<div>\n",
       "<style scoped>\n",
       "    .dataframe tbody tr th:only-of-type {\n",
       "        vertical-align: middle;\n",
       "    }\n",
       "\n",
       "    .dataframe tbody tr th {\n",
       "        vertical-align: top;\n",
       "    }\n",
       "\n",
       "    .dataframe thead th {\n",
       "        text-align: right;\n",
       "    }\n",
       "</style>\n",
       "<table border=\"1\" class=\"dataframe\">\n",
       "  <thead>\n",
       "    <tr style=\"text-align: right;\">\n",
       "      <th></th>\n",
       "      <th>suicide</th>\n",
       "      <th>subreddit</th>\n",
       "      <th>content</th>\n",
       "    </tr>\n",
       "  </thead>\n",
       "  <tbody>\n",
       "    <tr>\n",
       "      <th>0</th>\n",
       "      <td>True</td>\n",
       "      <td>Suicidal_Thoughts</td>\n",
       "      <td>Suicidal_Thoughts has been created\\r\\nA subred...</td>\n",
       "    </tr>\n",
       "    <tr>\n",
       "      <th>1</th>\n",
       "      <td>True</td>\n",
       "      <td>Suicidal_Thoughts</td>\n",
       "      <td>Radio TTS prevented my suicide thoughts\\r\\nLat...</td>\n",
       "    </tr>\n",
       "    <tr>\n",
       "      <th>2</th>\n",
       "      <td>True</td>\n",
       "      <td>Suicidal_Thoughts</td>\n",
       "      <td>I really want to kill myself tonight. And I do...</td>\n",
       "    </tr>\n",
       "    <tr>\n",
       "      <th>3</th>\n",
       "      <td>True</td>\n",
       "      <td>Suicidal_Thoughts</td>\n",
       "      <td>Nephew has suicidal thoughts, what to do?\\r\\nM...</td>\n",
       "    </tr>\n",
       "    <tr>\n",
       "      <th>4</th>\n",
       "      <td>True</td>\n",
       "      <td>Suicidal_Thoughts</td>\n",
       "      <td>I don�t want to die, I just want to cease to e...</td>\n",
       "    </tr>\n",
       "  </tbody>\n",
       "</table>\n",
       "</div>"
      ],
      "text/plain": [
       "   suicide          subreddit  \\\n",
       "0     True  Suicidal_Thoughts   \n",
       "1     True  Suicidal_Thoughts   \n",
       "2     True  Suicidal_Thoughts   \n",
       "3     True  Suicidal_Thoughts   \n",
       "4     True  Suicidal_Thoughts   \n",
       "\n",
       "                                             content  \n",
       "0  Suicidal_Thoughts has been created\\r\\nA subred...  \n",
       "1  Radio TTS prevented my suicide thoughts\\r\\nLat...  \n",
       "2  I really want to kill myself tonight. And I do...  \n",
       "3  Nephew has suicidal thoughts, what to do?\\r\\nM...  \n",
       "4  I don�t want to die, I just want to cease to e...  "
      ]
     },
     "execution_count": 9,
     "metadata": {},
     "output_type": "execute_result"
    }
   ],
   "source": [
    "df=pd.read_csv(\"donnees_reddit_TS.csv\")\n",
    "df.head()"
   ]
  },
  {
   "cell_type": "code",
   "execution_count": 10,
   "metadata": {},
   "outputs": [
    {
     "data": {
      "text/html": [
       "<div>\n",
       "<style scoped>\n",
       "    .dataframe tbody tr th:only-of-type {\n",
       "        vertical-align: middle;\n",
       "    }\n",
       "\n",
       "    .dataframe tbody tr th {\n",
       "        vertical-align: top;\n",
       "    }\n",
       "\n",
       "    .dataframe thead th {\n",
       "        text-align: right;\n",
       "    }\n",
       "</style>\n",
       "<table border=\"1\" class=\"dataframe\">\n",
       "  <thead>\n",
       "    <tr style=\"text-align: right;\">\n",
       "      <th></th>\n",
       "      <th>subreddit</th>\n",
       "      <th>content</th>\n",
       "      <th>category_id</th>\n",
       "    </tr>\n",
       "  </thead>\n",
       "  <tbody>\n",
       "    <tr>\n",
       "      <th>0</th>\n",
       "      <td>Suicidal_Thoughts</td>\n",
       "      <td>Suicidal_Thoughts has been created\\r\\nA subred...</td>\n",
       "      <td>0</td>\n",
       "    </tr>\n",
       "    <tr>\n",
       "      <th>1</th>\n",
       "      <td>Suicidal_Thoughts</td>\n",
       "      <td>Radio TTS prevented my suicide thoughts\\r\\nLat...</td>\n",
       "      <td>0</td>\n",
       "    </tr>\n",
       "    <tr>\n",
       "      <th>2</th>\n",
       "      <td>Suicidal_Thoughts</td>\n",
       "      <td>I really want to kill myself tonight. And I do...</td>\n",
       "      <td>0</td>\n",
       "    </tr>\n",
       "    <tr>\n",
       "      <th>3</th>\n",
       "      <td>Suicidal_Thoughts</td>\n",
       "      <td>Nephew has suicidal thoughts, what to do?\\r\\nM...</td>\n",
       "      <td>0</td>\n",
       "    </tr>\n",
       "    <tr>\n",
       "      <th>4</th>\n",
       "      <td>Suicidal_Thoughts</td>\n",
       "      <td>I don�t want to die, I just want to cease to e...</td>\n",
       "      <td>0</td>\n",
       "    </tr>\n",
       "  </tbody>\n",
       "</table>\n",
       "</div>"
      ],
      "text/plain": [
       "           subreddit                                            content  \\\n",
       "0  Suicidal_Thoughts  Suicidal_Thoughts has been created\\r\\nA subred...   \n",
       "1  Suicidal_Thoughts  Radio TTS prevented my suicide thoughts\\r\\nLat...   \n",
       "2  Suicidal_Thoughts  I really want to kill myself tonight. And I do...   \n",
       "3  Suicidal_Thoughts  Nephew has suicidal thoughts, what to do?\\r\\nM...   \n",
       "4  Suicidal_Thoughts  I don�t want to die, I just want to cease to e...   \n",
       "\n",
       "   category_id  \n",
       "0            0  \n",
       "1            0  \n",
       "2            0  \n",
       "3            0  \n",
       "4            0  "
      ]
     },
     "execution_count": 10,
     "metadata": {},
     "output_type": "execute_result"
    }
   ],
   "source": [
    "from io import StringIO\n",
    "col = ['subreddit', 'content']\n",
    "df = df[col]\n",
    "df = df[pd.notnull(df['content'])]\n",
    "df.columns = ['subreddit', 'content']\n",
    "df['category_id'] = df['subreddit'].factorize()[0]\n",
    "category_id_df = df[['subreddit', 'category_id']].drop_duplicates().sort_values('category_id')\n",
    "category_to_id = dict(category_id_df.values)\n",
    "id_to_category = dict(category_id_df[['category_id', 'subreddit']].values)\n",
    "df.head()"
   ]
  },
  {
   "cell_type": "code",
   "execution_count": null,
   "metadata": {},
   "outputs": [],
   "source": []
  }
 ],
 "metadata": {
  "kernelspec": {
   "display_name": "Python 3",
   "language": "python",
   "name": "python3"
  },
  "language_info": {
   "codemirror_mode": {
    "name": "ipython",
    "version": 3
   },
   "file_extension": ".py",
   "mimetype": "text/x-python",
   "name": "python",
   "nbconvert_exporter": "python",
   "pygments_lexer": "ipython3",
   "version": "3.8.3"
  }
 },
 "nbformat": 4,
 "nbformat_minor": 4
}
