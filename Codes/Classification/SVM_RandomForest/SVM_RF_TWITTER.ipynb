{
 "cells": [
  {
   "cell_type": "code",
   "execution_count": 1,
   "metadata": {},
   "outputs": [],
   "source": [
    "import numpy as np\n",
    "import pandas as pd\n",
    "from sklearn import svm\n",
    "import matplotlib.pyplot as plt\n",
    "from sklearn.model_selection import RandomizedSearchCV\n",
    "from sklearn.model_selection import train_test_split\n",
    "import pandas as pd\n",
    "import numpy as np\n",
    "import pandas as pd\n",
    "import numpy as np\n",
    "from nltk.tokenize import word_tokenize\n",
    "from nltk import pos_tag\n",
    "from nltk.corpus import stopwords\n",
    "from nltk.stem import WordNetLemmatizer\n",
    "from sklearn.preprocessing import LabelEncoder\n",
    "from collections import defaultdict\n",
    "from nltk.corpus import wordnet as wn\n",
    "from sklearn.feature_extraction.text import TfidfVectorizer\n",
    "from sklearn import model_selection, naive_bayes, svm\n",
    "from sklearn.metrics import accuracy_score"
   ]
  },
  {
   "cell_type": "code",
   "execution_count": 2,
   "metadata": {},
   "outputs": [],
   "source": [
    "# https://zestedesavoir.com/tutoriels/1760/un-peu-de-machine-learning-avec-les-svm/\n",
    "# https://ichi.pro/fr/guide-du-debutant-sur-la-classification-de-texte-avec-scikit-learn-109003449397050\n",
    "# https://medium.com/@bedigunjit/simple-guide-to-text-classification-nlp-using-svm-and-naive-bayes-with-python-421db3a72d34"
   ]
  },
  {
   "cell_type": "code",
   "execution_count": 3,
   "metadata": {},
   "outputs": [
    {
     "data": {
      "text/html": [
       "<div>\n",
       "<style scoped>\n",
       "    .dataframe tbody tr th:only-of-type {\n",
       "        vertical-align: middle;\n",
       "    }\n",
       "\n",
       "    .dataframe tbody tr th {\n",
       "        vertical-align: top;\n",
       "    }\n",
       "\n",
       "    .dataframe thead th {\n",
       "        text-align: right;\n",
       "    }\n",
       "</style>\n",
       "<table border=\"1\" class=\"dataframe\">\n",
       "  <thead>\n",
       "    <tr style=\"text-align: right;\">\n",
       "      <th></th>\n",
       "      <th>id</th>\n",
       "      <th>created_at</th>\n",
       "      <th>texte</th>\n",
       "      <th>suicide</th>\n",
       "    </tr>\n",
       "  </thead>\n",
       "  <tbody>\n",
       "    <tr>\n",
       "      <th>0</th>\n",
       "      <td>1338301295015374848</td>\n",
       "      <td>Mon Dec 14 01:54:27 +0000 2020</td>\n",
       "      <td>\"82% of children, youth, and young adults in s...</td>\n",
       "      <td>True</td>\n",
       "    </tr>\n",
       "    <tr>\n",
       "      <th>1</th>\n",
       "      <td>1238049720804794370</td>\n",
       "      <td>Thu Mar 12 10:30:29 +0000 2020</td>\n",
       "      <td>\"Emergency departments have seen a 25.5% incre...</td>\n",
       "      <td>True</td>\n",
       "    </tr>\n",
       "    <tr>\n",
       "      <th>2</th>\n",
       "      <td>1283426796097220614</td>\n",
       "      <td>Wed Jul 15 15:42:47 +0000 2020</td>\n",
       "      <td>\"Gun suicide was already a public health crisi...</td>\n",
       "      <td>True</td>\n",
       "    </tr>\n",
       "    <tr>\n",
       "      <th>3</th>\n",
       "      <td>1238512154636099586</td>\n",
       "      <td>Fri Mar 13 17:08:02 +0000 2020</td>\n",
       "      <td>\"I wanna end me\" means you want to end your ol...</td>\n",
       "      <td>True</td>\n",
       "    </tr>\n",
       "    <tr>\n",
       "      <th>4</th>\n",
       "      <td>1338771820615520256</td>\n",
       "      <td>Tue Dec 15 09:04:09 +0000 2020</td>\n",
       "      <td>\"In times of war, people focus on the outside ...</td>\n",
       "      <td>True</td>\n",
       "    </tr>\n",
       "    <tr>\n",
       "      <th>...</th>\n",
       "      <td>...</td>\n",
       "      <td>...</td>\n",
       "      <td>...</td>\n",
       "      <td>...</td>\n",
       "    </tr>\n",
       "    <tr>\n",
       "      <th>3522</th>\n",
       "      <td>1465648043127156738</td>\n",
       "      <td>1465648043127156738</td>\n",
       "      <td>&lt;U+0001F916&gt; Aave V2 position automatically Bo...</td>\n",
       "      <td>False</td>\n",
       "    </tr>\n",
       "    <tr>\n",
       "      <th>3523</th>\n",
       "      <td>1465650152488808459</td>\n",
       "      <td>1465650152488808459</td>\n",
       "      <td>&lt;U+0001F916&gt; Compound position automatically B...</td>\n",
       "      <td>False</td>\n",
       "    </tr>\n",
       "    <tr>\n",
       "      <th>3524</th>\n",
       "      <td>1465651618318323715</td>\n",
       "      <td>1465651618318323715</td>\n",
       "      <td>&lt;U+0001F916&gt; Compound position automatically B...</td>\n",
       "      <td>False</td>\n",
       "    </tr>\n",
       "    <tr>\n",
       "      <th>3525</th>\n",
       "      <td>1465646702078173184</td>\n",
       "      <td>1465646702078173184</td>\n",
       "      <td>&lt;U+0001F916&gt; Compound position automatically B...</td>\n",
       "      <td>False</td>\n",
       "    </tr>\n",
       "    <tr>\n",
       "      <th>3526</th>\n",
       "      <td>1465600173065715719</td>\n",
       "      <td>1465600173065715719</td>\n",
       "      <td>&lt;U+0001F97A&gt;&lt;U+2727&gt;                          ...</td>\n",
       "      <td>False</td>\n",
       "    </tr>\n",
       "  </tbody>\n",
       "</table>\n",
       "<p>3527 rows × 4 columns</p>\n",
       "</div>"
      ],
      "text/plain": [
       "                       id                      created_at  \\\n",
       "0     1338301295015374848  Mon Dec 14 01:54:27 +0000 2020   \n",
       "1     1238049720804794370  Thu Mar 12 10:30:29 +0000 2020   \n",
       "2     1283426796097220614  Wed Jul 15 15:42:47 +0000 2020   \n",
       "3     1238512154636099586  Fri Mar 13 17:08:02 +0000 2020   \n",
       "4     1338771820615520256  Tue Dec 15 09:04:09 +0000 2020   \n",
       "...                   ...                             ...   \n",
       "3522  1465648043127156738             1465648043127156738   \n",
       "3523  1465650152488808459             1465650152488808459   \n",
       "3524  1465651618318323715             1465651618318323715   \n",
       "3525  1465646702078173184             1465646702078173184   \n",
       "3526  1465600173065715719             1465600173065715719   \n",
       "\n",
       "                                                  texte  suicide  \n",
       "0     \"82% of children, youth, and young adults in s...     True  \n",
       "1     \"Emergency departments have seen a 25.5% incre...     True  \n",
       "2     \"Gun suicide was already a public health crisi...     True  \n",
       "3     \"I wanna end me\" means you want to end your ol...     True  \n",
       "4     \"In times of war, people focus on the outside ...     True  \n",
       "...                                                 ...      ...  \n",
       "3522  <U+0001F916> Aave V2 position automatically Bo...    False  \n",
       "3523  <U+0001F916> Compound position automatically B...    False  \n",
       "3524  <U+0001F916> Compound position automatically B...    False  \n",
       "3525  <U+0001F916> Compound position automatically B...    False  \n",
       "3526  <U+0001F97A><U+2727>                          ...    False  \n",
       "\n",
       "[3527 rows x 4 columns]"
      ]
     },
     "execution_count": 3,
     "metadata": {},
     "output_type": "execute_result"
    }
   ],
   "source": [
    "Corpus = pd.read_csv(\"Données Twitter/Jeu de données final/donnees_twitter_total.csv\")\n",
    "\n",
    "\n",
    "#Corpus = pd.read_csv(\"test.csv\") A mettre comme ça parce que moi j'avais un bugg (et ca separe les mots de cotent par des ,)\n",
    "Corpus"
   ]
  },
  {
   "cell_type": "code",
   "execution_count": 4,
   "metadata": {},
   "outputs": [
    {
     "data": {
      "text/plain": [
       "(3527, 4)"
      ]
     },
     "execution_count": 4,
     "metadata": {},
     "output_type": "execute_result"
    }
   ],
   "source": [
    "Corpus.shape"
   ]
  },
  {
   "cell_type": "markdown",
   "metadata": {},
   "source": [
    "# Visualisation et Traitement"
   ]
  },
  {
   "cell_type": "code",
   "execution_count": 5,
   "metadata": {},
   "outputs": [],
   "source": [
    "##On commence le nettoyage des données en cherchant s'il y a des lignes dupliqués. \n",
    "Corpus = Corpus.drop_duplicates()"
   ]
  },
  {
   "cell_type": "code",
   "execution_count": 6,
   "metadata": {},
   "outputs": [
    {
     "data": {
      "text/plain": [
       "12"
      ]
     },
     "execution_count": 6,
     "metadata": {},
     "output_type": "execute_result"
    }
   ],
   "source": [
    "#On verifie qu'il y ai aucune valeur de content nulle\n",
    "Corpus['texte'].isnull().sum()"
   ]
  },
  {
   "cell_type": "code",
   "execution_count": 7,
   "metadata": {},
   "outputs": [
    {
     "data": {
      "text/plain": [
       "0"
      ]
     },
     "execution_count": 7,
     "metadata": {},
     "output_type": "execute_result"
    }
   ],
   "source": [
    "Corpus=Corpus.dropna()\n",
    "Corpus['texte'].isnull().sum()"
   ]
  },
  {
   "cell_type": "code",
   "execution_count": 8,
   "metadata": {
    "scrolled": true
   },
   "outputs": [
    {
     "data": {
      "image/png": "[encoded data removed]",
      "text/plain": [
       "<Figure size 432x288 with 1 Axes>"
      ]
     },
     "metadata": {
      "needs_background": "light"
     },
     "output_type": "display_data"
    }
   ],
   "source": [
    "import seaborn as sns\n",
    "Corpus['suicide'].value_counts()\n",
    "sns.countplot(x='suicide', data=Corpus, palette= \"hls\")\n",
    "plt.title(\"nombre de textes par catégorie\")\n",
    "plt.show()"
   ]
  },
  {
   "cell_type": "code",
   "execution_count": 9,
   "metadata": {},
   "outputs": [
    {
     "data": {
      "text/plain": [
       "False    2287\n",
       "True     1228\n",
       "Name: suicide, dtype: int64"
      ]
     },
     "execution_count": 9,
     "metadata": {},
     "output_type": "execute_result"
    }
   ],
   "source": [
    "Corpus['suicide'].value_counts()"
   ]
  },
  {
   "cell_type": "markdown",
   "metadata": {},
   "source": [
    "# Traitement"
   ]
  },
  {
   "cell_type": "code",
   "execution_count": 10,
   "metadata": {},
   "outputs": [],
   "source": [
    "df_parfaitX = Corpus.loc[Corpus['suicide']==True,:]\n",
    "df_parfaitY = Corpus.loc[Corpus['suicide']==False,:]"
   ]
  },
  {
   "cell_type": "code",
   "execution_count": 11,
   "metadata": {},
   "outputs": [],
   "source": [
    "df_parfaitY = df_parfaitY.sample(n=1228)\n",
    "Corpus = pd.concat([df_parfaitX,df_parfaitY])\n",
    "Corpus = Corpus.reset_index(drop =True)"
   ]
  },
  {
   "cell_type": "code",
   "execution_count": 12,
   "metadata": {},
   "outputs": [
    {
     "data": {
      "text/html": [
       "<div>\n",
       "<style scoped>\n",
       "    .dataframe tbody tr th:only-of-type {\n",
       "        vertical-align: middle;\n",
       "    }\n",
       "\n",
       "    .dataframe tbody tr th {\n",
       "        vertical-align: top;\n",
       "    }\n",
       "\n",
       "    .dataframe thead th {\n",
       "        text-align: right;\n",
       "    }\n",
       "</style>\n",
       "<table border=\"1\" class=\"dataframe\">\n",
       "  <thead>\n",
       "    <tr style=\"text-align: right;\">\n",
       "      <th></th>\n",
       "      <th>id</th>\n",
       "      <th>created_at</th>\n",
       "      <th>texte</th>\n",
       "      <th>suicide</th>\n",
       "    </tr>\n",
       "  </thead>\n",
       "  <tbody>\n",
       "    <tr>\n",
       "      <th>0</th>\n",
       "      <td>1338301295015374848</td>\n",
       "      <td>Mon Dec 14 01:54:27 +0000 2020</td>\n",
       "      <td>\"82% of children, youth, and young adults in s...</td>\n",
       "      <td>True</td>\n",
       "    </tr>\n",
       "    <tr>\n",
       "      <th>1</th>\n",
       "      <td>1238049720804794370</td>\n",
       "      <td>Thu Mar 12 10:30:29 +0000 2020</td>\n",
       "      <td>\"Emergency departments have seen a 25.5% incre...</td>\n",
       "      <td>True</td>\n",
       "    </tr>\n",
       "    <tr>\n",
       "      <th>2</th>\n",
       "      <td>1283426796097220614</td>\n",
       "      <td>Wed Jul 15 15:42:47 +0000 2020</td>\n",
       "      <td>\"Gun suicide was already a public health crisi...</td>\n",
       "      <td>True</td>\n",
       "    </tr>\n",
       "    <tr>\n",
       "      <th>3</th>\n",
       "      <td>1238512154636099586</td>\n",
       "      <td>Fri Mar 13 17:08:02 +0000 2020</td>\n",
       "      <td>\"I wanna end me\" means you want to end your ol...</td>\n",
       "      <td>True</td>\n",
       "    </tr>\n",
       "    <tr>\n",
       "      <th>4</th>\n",
       "      <td>1338771820615520256</td>\n",
       "      <td>Tue Dec 15 09:04:09 +0000 2020</td>\n",
       "      <td>\"In times of war, people focus on the outside ...</td>\n",
       "      <td>True</td>\n",
       "    </tr>\n",
       "    <tr>\n",
       "      <th>...</th>\n",
       "      <td>...</td>\n",
       "      <td>...</td>\n",
       "      <td>...</td>\n",
       "      <td>...</td>\n",
       "    </tr>\n",
       "    <tr>\n",
       "      <th>2451</th>\n",
       "      <td>1465598848294739970</td>\n",
       "      <td>1465598848294739970</td>\n",
       "      <td>Happy Birthday Nashia Wishes, Images And�Messa...</td>\n",
       "      <td>False</td>\n",
       "    </tr>\n",
       "    <tr>\n",
       "      <th>2452</th>\n",
       "      <td>1465435484369338372</td>\n",
       "      <td>1465435484369338372</td>\n",
       "      <td>Listen to '30', featuring \"Easy On Me\", \"I Dri...</td>\n",
       "      <td>False</td>\n",
       "    </tr>\n",
       "    <tr>\n",
       "      <th>2453</th>\n",
       "      <td>1465599750552662021</td>\n",
       "      <td>1465599750552662021</td>\n",
       "      <td>Happy #SaintAndrewsDay to our favourite Scotsm...</td>\n",
       "      <td>False</td>\n",
       "    </tr>\n",
       "    <tr>\n",
       "      <th>2454</th>\n",
       "      <td>1465430273659711495</td>\n",
       "      <td>1465430273659711495</td>\n",
       "      <td>what does ratio mean</td>\n",
       "      <td>False</td>\n",
       "    </tr>\n",
       "    <tr>\n",
       "      <th>2455</th>\n",
       "      <td>1465618502480543745</td>\n",
       "      <td>1465618502480543745</td>\n",
       "      <td>How Norilsk, in the Russian Arctic, became one...</td>\n",
       "      <td>False</td>\n",
       "    </tr>\n",
       "  </tbody>\n",
       "</table>\n",
       "<p>2456 rows × 4 columns</p>\n",
       "</div>"
      ],
      "text/plain": [
       "                       id                      created_at  \\\n",
       "0     1338301295015374848  Mon Dec 14 01:54:27 +0000 2020   \n",
       "1     1238049720804794370  Thu Mar 12 10:30:29 +0000 2020   \n",
       "2     1283426796097220614  Wed Jul 15 15:42:47 +0000 2020   \n",
       "3     1238512154636099586  Fri Mar 13 17:08:02 +0000 2020   \n",
       "4     1338771820615520256  Tue Dec 15 09:04:09 +0000 2020   \n",
       "...                   ...                             ...   \n",
       "2451  1465598848294739970             1465598848294739970   \n",
       "2452  1465435484369338372             1465435484369338372   \n",
       "2453  1465599750552662021             1465599750552662021   \n",
       "2454  1465430273659711495             1465430273659711495   \n",
       "2455  1465618502480543745             1465618502480543745   \n",
       "\n",
       "                                                  texte  suicide  \n",
       "0     \"82% of children, youth, and young adults in s...     True  \n",
       "1     \"Emergency departments have seen a 25.5% incre...     True  \n",
       "2     \"Gun suicide was already a public health crisi...     True  \n",
       "3     \"I wanna end me\" means you want to end your ol...     True  \n",
       "4     \"In times of war, people focus on the outside ...     True  \n",
       "...                                                 ...      ...  \n",
       "2451  Happy Birthday Nashia Wishes, Images And�Messa...    False  \n",
       "2452  Listen to '30', featuring \"Easy On Me\", \"I Dri...    False  \n",
       "2453  Happy #SaintAndrewsDay to our favourite Scotsm...    False  \n",
       "2454                               what does ratio mean    False  \n",
       "2455  How Norilsk, in the Russian Arctic, became one...    False  \n",
       "\n",
       "[2456 rows x 4 columns]"
      ]
     },
     "execution_count": 12,
     "metadata": {},
     "output_type": "execute_result"
    }
   ],
   "source": [
    "Corpus"
   ]
  },
  {
   "cell_type": "code",
   "execution_count": 13,
   "metadata": {
    "scrolled": true
   },
   "outputs": [
    {
     "data": {
      "image/png": "[encoded data removed]",
      "text/plain": [
       "<Figure size 432x288 with 1 Axes>"
      ]
     },
     "metadata": {
      "needs_background": "light"
     },
     "output_type": "display_data"
    }
   ],
   "source": [
    "import seaborn as sns\n",
    "Corpus['suicide'].value_counts()\n",
    "sns.countplot(x='suicide', data=Corpus, palette= \"hls\")\n",
    "plt.title(\"nombre de textes par catégorie\")\n",
    "plt.show()"
   ]
  },
  {
   "cell_type": "code",
   "execution_count": 14,
   "metadata": {
    "scrolled": true
   },
   "outputs": [
    {
     "data": {
      "text/plain": [
       "False    1228\n",
       "True     1228\n",
       "Name: suicide, dtype: int64"
      ]
     },
     "execution_count": 14,
     "metadata": {},
     "output_type": "execute_result"
    }
   ],
   "source": [
    "Corpus['suicide'].value_counts()"
   ]
  },
  {
   "cell_type": "markdown",
   "metadata": {},
   "source": [
    "# Traitement de la données texte pour le model"
   ]
  },
  {
   "cell_type": "code",
   "execution_count": 15,
   "metadata": {},
   "outputs": [],
   "source": [
    "# Step - b : Change all the text to lower case. This is required as python interprets 'dog' and 'DOG' differently\n",
    "Corpus['texte'] = [entry.lower() for entry in Corpus['texte']]\n",
    "# Step - c : Tokenization : In this each entry in the corpus will be broken into set of words\n",
    "Corpus['tokenize']= [word_tokenize(entry) for entry in Corpus['texte']]\n",
    "# Step - d : Remove Stop words, Non-Numeric and perfom Word Stemming/Lemmenting.\n",
    "# WordNetLemmatizer requires Pos tags to understand if the word is noun or verb or adjective etc. By default it is set to Noun\n",
    "tag_map = defaultdict(lambda : wn.NOUN)\n",
    "tag_map['J'] = wn.ADJ\n",
    "tag_map['V'] = wn.VERB\n",
    "tag_map['R'] = wn.ADV\n",
    "for index,entry in enumerate(Corpus['tokenize']):\n",
    "    # Declaring Empty List to store the words that follow the rules for this step\n",
    "    Final_words = []\n",
    "    # Initializing WordNetLemmatizer()\n",
    "    word_Lemmatized = WordNetLemmatizer()\n",
    "    # pos_tag function below will provide the 'tag' i.e if the word is Noun(N) or Verb(V) or something else.\n",
    "    for word, tag in pos_tag(entry):\n",
    "        # Below condition is to check for Stop words and consider only alphabets\n",
    "        if word not in stopwords.words('english') and word.isalpha():\n",
    "            word_Final = word_Lemmatized.lemmatize(word,tag_map[tag[0]])\n",
    "            Final_words.append(word_Final)\n",
    "    # The final processed set of words for each iteration will be stored in 'text_final'\n",
    "    Corpus.loc[index,'text_final'] = str(Final_words)"
   ]
  },
  {
   "cell_type": "code",
   "execution_count": 16,
   "metadata": {},
   "outputs": [
    {
     "data": {
      "text/html": [
       "<div>\n",
       "<style scoped>\n",
       "    .dataframe tbody tr th:only-of-type {\n",
       "        vertical-align: middle;\n",
       "    }\n",
       "\n",
       "    .dataframe tbody tr th {\n",
       "        vertical-align: top;\n",
       "    }\n",
       "\n",
       "    .dataframe thead th {\n",
       "        text-align: right;\n",
       "    }\n",
       "</style>\n",
       "<table border=\"1\" class=\"dataframe\">\n",
       "  <thead>\n",
       "    <tr style=\"text-align: right;\">\n",
       "      <th></th>\n",
       "      <th>id</th>\n",
       "      <th>created_at</th>\n",
       "      <th>texte</th>\n",
       "      <th>suicide</th>\n",
       "      <th>tokenize</th>\n",
       "      <th>text_final</th>\n",
       "    </tr>\n",
       "  </thead>\n",
       "  <tbody>\n",
       "    <tr>\n",
       "      <th>0</th>\n",
       "      <td>1338301295015374848</td>\n",
       "      <td>Mon Dec 14 01:54:27 +0000 2020</td>\n",
       "      <td>\"82% of children, youth, and young adults in s...</td>\n",
       "      <td>True</td>\n",
       "      <td>[``, 82, %, of, children, ,, youth, ,, and, yo...</td>\n",
       "      <td>['child', 'youth', 'young', 'adult', 'system',...</td>\n",
       "    </tr>\n",
       "    <tr>\n",
       "      <th>1</th>\n",
       "      <td>1238049720804794370</td>\n",
       "      <td>Thu Mar 12 10:30:29 +0000 2020</td>\n",
       "      <td>\"emergency departments have seen a 25.5% incre...</td>\n",
       "      <td>True</td>\n",
       "      <td>[``, emergency, departments, have, seen, a, 25...</td>\n",
       "      <td>['emergency', 'department', 'see', 'increase',...</td>\n",
       "    </tr>\n",
       "    <tr>\n",
       "      <th>2</th>\n",
       "      <td>1283426796097220614</td>\n",
       "      <td>Wed Jul 15 15:42:47 +0000 2020</td>\n",
       "      <td>\"gun suicide was already a public health crisi...</td>\n",
       "      <td>True</td>\n",
       "      <td>[``, gun, suicide, was, already, a, public, he...</td>\n",
       "      <td>['gun', 'suicide', 'already', 'public', 'healt...</td>\n",
       "    </tr>\n",
       "    <tr>\n",
       "      <th>3</th>\n",
       "      <td>1238512154636099586</td>\n",
       "      <td>Fri Mar 13 17:08:02 +0000 2020</td>\n",
       "      <td>\"i wanna end me\" means you want to end your ol...</td>\n",
       "      <td>True</td>\n",
       "      <td>[``, i, wan, na, end, me, '', means, you, want...</td>\n",
       "      <td>['wan', 'na', 'end', 'mean', 'want', 'end', 'o...</td>\n",
       "    </tr>\n",
       "    <tr>\n",
       "      <th>4</th>\n",
       "      <td>1338771820615520256</td>\n",
       "      <td>Tue Dec 15 09:04:09 +0000 2020</td>\n",
       "      <td>\"in times of war, people focus on the outside ...</td>\n",
       "      <td>True</td>\n",
       "      <td>[``, in, times, of, war, ,, people, focus, on,...</td>\n",
       "      <td>['time', 'war', 'people', 'focus', 'outside', ...</td>\n",
       "    </tr>\n",
       "    <tr>\n",
       "      <th>...</th>\n",
       "      <td>...</td>\n",
       "      <td>...</td>\n",
       "      <td>...</td>\n",
       "      <td>...</td>\n",
       "      <td>...</td>\n",
       "      <td>...</td>\n",
       "    </tr>\n",
       "    <tr>\n",
       "      <th>2451</th>\n",
       "      <td>1465598848294739970</td>\n",
       "      <td>1465598848294739970</td>\n",
       "      <td>happy birthday nashia wishes, images and�messa...</td>\n",
       "      <td>False</td>\n",
       "      <td>[happy, birthday, nashia, wishes, ,, images, a...</td>\n",
       "      <td>['happy', 'birthday', 'nashia', 'wish', 'image']</td>\n",
       "    </tr>\n",
       "    <tr>\n",
       "      <th>2452</th>\n",
       "      <td>1465435484369338372</td>\n",
       "      <td>1465435484369338372</td>\n",
       "      <td>listen to '30', featuring \"easy on me\", \"i dri...</td>\n",
       "      <td>False</td>\n",
       "      <td>[listen, to, '30, ', ,, featuring, ``, easy, o...</td>\n",
       "      <td>['listen', 'feature', 'easy', 'drink', 'wine']</td>\n",
       "    </tr>\n",
       "    <tr>\n",
       "      <th>2453</th>\n",
       "      <td>1465599750552662021</td>\n",
       "      <td>1465599750552662021</td>\n",
       "      <td>happy #saintandrewsday to our favourite scotsm...</td>\n",
       "      <td>False</td>\n",
       "      <td>[happy, #, saintandrewsday, to, our, favourite...</td>\n",
       "      <td>['happy', 'saintandrewsday', 'favourite', 'sco...</td>\n",
       "    </tr>\n",
       "    <tr>\n",
       "      <th>2454</th>\n",
       "      <td>1465430273659711495</td>\n",
       "      <td>1465430273659711495</td>\n",
       "      <td>what does ratio mean</td>\n",
       "      <td>False</td>\n",
       "      <td>[what, does, ratio, mean]</td>\n",
       "      <td>['ratio', 'mean']</td>\n",
       "    </tr>\n",
       "    <tr>\n",
       "      <th>2455</th>\n",
       "      <td>1465618502480543745</td>\n",
       "      <td>1465618502480543745</td>\n",
       "      <td>how norilsk, in the russian arctic, became one...</td>\n",
       "      <td>False</td>\n",
       "      <td>[how, norilsk, ,, in, the, russian, arctic, ,,...</td>\n",
       "      <td>['norilsk', 'russian', 'arctic', 'become', 'on...</td>\n",
       "    </tr>\n",
       "  </tbody>\n",
       "</table>\n",
       "<p>2456 rows × 6 columns</p>\n",
       "</div>"
      ],
      "text/plain": [
       "                       id                      created_at  \\\n",
       "0     1338301295015374848  Mon Dec 14 01:54:27 +0000 2020   \n",
       "1     1238049720804794370  Thu Mar 12 10:30:29 +0000 2020   \n",
       "2     1283426796097220614  Wed Jul 15 15:42:47 +0000 2020   \n",
       "3     1238512154636099586  Fri Mar 13 17:08:02 +0000 2020   \n",
       "4     1338771820615520256  Tue Dec 15 09:04:09 +0000 2020   \n",
       "...                   ...                             ...   \n",
       "2451  1465598848294739970             1465598848294739970   \n",
       "2452  1465435484369338372             1465435484369338372   \n",
       "2453  1465599750552662021             1465599750552662021   \n",
       "2454  1465430273659711495             1465430273659711495   \n",
       "2455  1465618502480543745             1465618502480543745   \n",
       "\n",
       "                                                  texte  suicide  \\\n",
       "0     \"82% of children, youth, and young adults in s...     True   \n",
       "1     \"emergency departments have seen a 25.5% incre...     True   \n",
       "2     \"gun suicide was already a public health crisi...     True   \n",
       "3     \"i wanna end me\" means you want to end your ol...     True   \n",
       "4     \"in times of war, people focus on the outside ...     True   \n",
       "...                                                 ...      ...   \n",
       "2451  happy birthday nashia wishes, images and�messa...    False   \n",
       "2452  listen to '30', featuring \"easy on me\", \"i dri...    False   \n",
       "2453  happy #saintandrewsday to our favourite scotsm...    False   \n",
       "2454                               what does ratio mean    False   \n",
       "2455  how norilsk, in the russian arctic, became one...    False   \n",
       "\n",
       "                                               tokenize  \\\n",
       "0     [``, 82, %, of, children, ,, youth, ,, and, yo...   \n",
       "1     [``, emergency, departments, have, seen, a, 25...   \n",
       "2     [``, gun, suicide, was, already, a, public, he...   \n",
       "3     [``, i, wan, na, end, me, '', means, you, want...   \n",
       "4     [``, in, times, of, war, ,, people, focus, on,...   \n",
       "...                                                 ...   \n",
       "2451  [happy, birthday, nashia, wishes, ,, images, a...   \n",
       "2452  [listen, to, '30, ', ,, featuring, ``, easy, o...   \n",
       "2453  [happy, #, saintandrewsday, to, our, favourite...   \n",
       "2454                          [what, does, ratio, mean]   \n",
       "2455  [how, norilsk, ,, in, the, russian, arctic, ,,...   \n",
       "\n",
       "                                             text_final  \n",
       "0     ['child', 'youth', 'young', 'adult', 'system',...  \n",
       "1     ['emergency', 'department', 'see', 'increase',...  \n",
       "2     ['gun', 'suicide', 'already', 'public', 'healt...  \n",
       "3     ['wan', 'na', 'end', 'mean', 'want', 'end', 'o...  \n",
       "4     ['time', 'war', 'people', 'focus', 'outside', ...  \n",
       "...                                                 ...  \n",
       "2451   ['happy', 'birthday', 'nashia', 'wish', 'image']  \n",
       "2452     ['listen', 'feature', 'easy', 'drink', 'wine']  \n",
       "2453  ['happy', 'saintandrewsday', 'favourite', 'sco...  \n",
       "2454                                  ['ratio', 'mean']  \n",
       "2455  ['norilsk', 'russian', 'arctic', 'become', 'on...  \n",
       "\n",
       "[2456 rows x 6 columns]"
      ]
     },
     "execution_count": 16,
     "metadata": {},
     "output_type": "execute_result"
    }
   ],
   "source": [
    "Corpus"
   ]
  },
  {
   "cell_type": "code",
   "execution_count": 17,
   "metadata": {},
   "outputs": [],
   "source": [
    "ySVM=Corpus['suicide']\n",
    "XSVM=Corpus['texte']"
   ]
  },
  {
   "cell_type": "code",
   "execution_count": 18,
   "metadata": {},
   "outputs": [],
   "source": [
    "#These will now contain for each row a list of unique integer number and its associated importance \n",
    "#as calculated by TF-IDF.\n",
    "vector = TfidfVectorizer(max_features=5000) #Their will be maximum of 5000 unique words/features as we have set parameter max_features=5000.\n",
    "XSVM=vector.fit_transform(XSVM)"
   ]
  },
  {
   "cell_type": "code",
   "execution_count": 19,
   "metadata": {},
   "outputs": [],
   "source": [
    "#Train_X, Test_X, Train_Y, Test_Y = model_selection.train_test_split(Corpus['text_final'],Corpus['suicide'],test_size=0.3)"
   ]
  },
  {
   "cell_type": "code",
   "execution_count": 20,
   "metadata": {},
   "outputs": [],
   "source": [
    "#transforme les string en numérique pour que le model puisse prendre les données \n",
    "#Encoder = LabelEncoder()\n",
    "#Train_Y = Encoder.fit_transform(Train_Y)\n",
    "#Test_Y = Encoder.fit_transform(Test_Y)"
   ]
  },
  {
   "cell_type": "code",
   "execution_count": 21,
   "metadata": {},
   "outputs": [],
   "source": [
    "#These will now contain for each row a list of unique integer number and its associated importance \n",
    "#as calculated by TF-IDF.\n",
    "#Tfidf_vect = TfidfVectorizer(max_features=5000) #Their will be maximum of 5000 unique words/features as we have set parameter max_features=5000.\n",
    "\n",
    "#Tfidf_vect.fit(Corpus['text_final'])\n",
    "#Train_X_Tfidf = Tfidf_vect.transform(Train_X)\n",
    "#Test_X_Tfidf = Tfidf_vect.transform(Test_X)"
   ]
  },
  {
   "cell_type": "code",
   "execution_count": 22,
   "metadata": {},
   "outputs": [
    {
     "name": "stdout",
     "output_type": "stream",
     "text": [
      "  (0, 4350)\t0.050655607134185286\n",
      "  (0, 925)\t0.13843597197182955\n",
      "  (0, 4878)\t0.09068942871612558\n",
      "  (0, 393)\t0.17011516038871619\n",
      "  (0, 4497)\t0.0816973793508542\n",
      "  (0, 4349)\t0.11005983566767272\n",
      "  (0, 2376)\t0.15414194348731888\n",
      "  (0, 4494)\t0.22772018052316534\n",
      "  (0, 4036)\t0.16713672705958219\n",
      "  (0, 1961)\t0.19491783694633472\n",
      "  (0, 1038)\t0.11916338895650656\n",
      "  (0, 1991)\t0.34023032077743237\n",
      "  (0, 4594)\t0.4103420360365937\n",
      "  (0, 3378)\t0.09500093535375412\n",
      "  (0, 2881)\t0.1358621465701291\n",
      "  (0, 918)\t0.08348311797306128\n",
      "  (0, 2022)\t0.375286178407013\n",
      "  (0, 2426)\t0.15319363610504413\n",
      "  (0, 1285)\t0.13428116579522523\n",
      "  (0, 2619)\t0.05906888923773172\n",
      "  (0, 723)\t0.18200035647283977\n",
      "  (0, 4978)\t0.1482415757670587\n",
      "  (0, 809)\t0.10181894213279663\n",
      "  (0, 4985)\t0.17011516038871619\n",
      "  (0, 1371)\t0.2890686937343748\n",
      "  :\t:\n",
      "  (2453, 211)\t0.26419782486396126\n",
      "  (2453, 210)\t0.26419782486396126\n",
      "  (2453, 207)\t0.26419782486396126\n",
      "  (2453, 209)\t0.26419782486396126\n",
      "  (2453, 206)\t0.26419782486396126\n",
      "  (2453, 208)\t0.26419782486396126\n",
      "  (2453, 51)\t0.26419782486396126\n",
      "  (2453, 2402)\t0.12510992247473954\n",
      "  (2453, 3421)\t0.20909854693199623\n",
      "  (2453, 4533)\t0.08436184641266851\n",
      "  (2454, 3751)\t0.3600502412710558\n",
      "  (2454, 4864)\t0.41062908722362956\n",
      "  (2454, 1816)\t0.6023859224947792\n",
      "  (2454, 3074)\t0.5821329546303468\n",
      "  (2455, 1895)\t0.4350212771348069\n",
      "  (2455, 3932)\t0.45188664674341783\n",
      "  (2455, 1028)\t0.39438550413136625\n",
      "  (2455, 3547)\t0.39438550413136625\n",
      "  (2455, 3188)\t0.29579236031304285\n",
      "  (2455, 3376)\t0.17009081829926703\n",
      "  (2455, 2540)\t0.22293632987060277\n",
      "  (2455, 4467)\t0.21362726388479897\n",
      "  (2455, 3378)\t0.2202448723372385\n",
      "  (2455, 2619)\t0.13694201978983578\n",
      "  (2455, 3349)\t0.12826906361927665\n"
     ]
    }
   ],
   "source": [
    "#data vectorisé\n",
    "#1: Row number of ‘Train_X_Tfidf’, \n",
    "#2: Unique Integer number of each word in the first row, \n",
    "#3: Score calculated by TF-IDF Vectorizer\n",
    "print(XSVM)"
   ]
  },
  {
   "cell_type": "code",
   "execution_count": 23,
   "metadata": {},
   "outputs": [
    {
     "name": "stdout",
     "output_type": "stream",
     "text": [
      "{'82': 588, 'of': 3349, 'children': 1371, 'youth': 4985, 'and': 809, 'young': 4978, 'adults': 723, 'in': 2619, 'care': 1285, 'have': 2426, 'experienced': 2022, 'at': 918, 'least': 2881, 'one': 3378, 'traumatic': 4594, 'event': 1991, 'before': 1038, 'entering': 1961, 'services': 4036, 'those': 4494, 'had': 2376, 'suicidal': 4349, 'thoughts': 4497, '23': 393, 'who': 4878, 'attempted': 925, 'suicide': 4350, 'emergency': 1929, 'seen': 4005, '25': 399, 'increase': 2627, 'the': 4467, 'past': 3479, 'years': 4965, 'patients': 3483, 've': 4746, 'harmed': 2413, 'themselves': 4473, 'or': 3405, 'both': 1151, 'according': 682, 'to': 4533, 'cdc': 1315, 'report': 3836, 'it': 2711, 'latest': 2851, 'article': 892, 'raise': 3738, 'alarm': 758, 'about': 661, 'rates': 3749, 'gun': 2367, 'was': 4822, 'already': 781, 'public': 3687, 'health': 2438, 'crisis': 1592, 'this': 4492, 'country': 1554, 'well': 4853, 'coronavirus': 1533, 'hit': 2498, 'our': 3421, 'as': 896, 'we': 4838, 'started': 4259, 'see': 3999, 'tremendous': 4603, 'spike': 4222, 'sales': 3949, 'then': 4474, 'these': 4481, 'unemployment': 4683, 'that': 4465, 'concern': 1470, 'wanna': 4810, 'end': 1941, 'me': 3073, 'means': 3076, 'you': 4977, 'want': 4811, 'your': 4982, 'old': 3367, 'interpretation': 2677, 'yourself': 4983, 'how': 2540, 're': 3757, 'perceived': 3501, 'by': 1221, 'others': 3419, 'doesn': 1817, 'more': 3184, 'negative': 3259, 'wanting': 4813, 'commit': 1444, 'am': 788, 'correct': 1535, 'times': 4524, 'war': 4815, 'people': 3498, 'focus': 2162, 'on': 3376, 'outside': 3426, 'world': 4926, 'which': 4874, 'would': 4935, 'mean': 3074, 'once': 3377, 'when': 4870, 'pandemic': 3455, 'is': 2701, 'still': 4284, 'certain': 1333, 'irony': 2699, 'asking': 905, 'for': 2176, 'speculation': 4215, 'after': 735, 'can': 1265, 'replace': 3831, 'data': 1655, 'bit': 1101, 'difficult': 1769, 'first': 2137, 'bcs': 1016, 'alone': 777, 'amp': 802, 'speak': 4210, 'different': 1768, 'but': 1217, 'now': 3324, 'feel': 2089, 'pretty': 3631, 'good': 2311, 'work': 4921, 'fields': 2110, 'tell': 4444, 'women': 4910, 'there': 4478, 'are': 873, 'other': 3418, 'solutions': 4176, 'such': 4338, 'do': 1812, 'deal': 1674, 'with': 4901, 'my': 3218, 'toward': 4565, 'god': 2304, 'nearly': 3252, 'everyone': 1997, 'know': 2827, 'gaza': 2250, 'has': 2420, 'contemplated': 1507, 'than': 4458, 'despite': 1741, 'deep': 1697, 'taboo': 4395, '2020': 378, 'heading': 2433, 'record': 3786, 'suicides': 4353, 'most': 3188, 'unemployed': 4682, 'suffocated': 4347, 'despair': 1736, 'so': 4166, 'here': 2465, 'playground': 3557, 'broken': 1182, 'heartsone': 2447, 'experience': 2021, 'entry': 1963, 'diary': 1758, 'self': 4010, 'pennedyet': 3496, 'another': 830, 'emotional': 1932, 'sentiment': 4025, 'pride': 3638, 'ge': 2255, 'marillion': 3040, 'study': 4323, 'rate': 3748, 'approximately': 866, 'global': 2292, 'during': 1885, 'months': 3181, 'admitted': 719, 'behaviors': 1045, 'near': 3251, 'victim': 4762, '39': 483, 'victims': 4763, 'died': 1763, 'some': 4179, 'dipression': 1776, 'conscious': 1493, 'does': 1816, 'not': 3316, 'hurt': 2562, 'get': 2267, 'up': 4704, 'from': 2214, 'sleep': 4143, 'ever': 1993, 'silence': 4112, 'them': 4470, 'may': 3066, 'reason': 3775, 'pm': 3566, 'issue': 2708, 'their': 4469, 'tricks': 4608, 'gop': 2316, 'leadership': 2872, 'positions': 3595, 'hiding': 2477, 'true': 4622, 'story': 4300, 'deaths': 1681, 'south': 4206, 'they': 4482, '603': 549, 'long': 2969, 'enough': 1957, 'complete': 1461, 'house': 2539, 'helped': 2459, 'nra': 3328, 'prevention': 3634, 'man': 3031, 'b12': 958, 'deficiency': 1703, 'memory': 3095, 'loss': 2981, 'depression': 1724, 'took': 4552, 'his': 2494, 'life': 2920, 'reminder': 3821, 'spectrum': 4214, 'mild': 3127, 'severe': 4046, 'suicideprevention': 4352, 'many': 3037, 'problems': 3651, 'society': 4170, 'tries': 4610, 'solve': 4177, 'legal': 2891, 'approaches': 864, 'better': 1074, 'solved': 4178, 'firearm': 2134, 'violence': 4770, 'family': 2060, 'out': 3422, 'jail': 2722, 'free': 2205, 'card': 1282, 'personal': 3514, 'choice': 1374, 'if': 2588, 'multiple': 3205, 'murder': 3207, 'did': 1759, 'personally': 3516, 'choose': 1377, 'be': 1020, 'killed': 2810, 'taekookau': 4398, 'where': 4872, 'jungkook': 2778, 'highschool': 2484, 'quite': 3726, 'nerd': 3268, 'always': 787, 'getting': 2269, 'bullied': 1205, 'except': 2007, 'promise': 3663, 'leave': 2882, 'him': 2487, 'even': 1989, 'let': 2902, 'join': 2750, 'group': 2349, 'only': 3383, 'kiss': 2821, 'bad': 981, 'boy': 1161, 'kim': 2814, 'taehyung': 4397, 'reach': 3758, 'leaves': 2883, 'warehouse': 4816, 'spread': 4229, 'us': 4719, 'nope': 3311, 'no': 3300, 'logic': 2963, 'also': 783, 'officially': 3359, '10': 320, 'vs': 4792, 'cv': 1624, 'don': 1830, 'worry': 4929, 'going': 2306, 'just': 2780, 'expressing': 2029, 'enter': 1960, 'mind': 3135, 'try': 4629, 'everything': 1998, 'shut': 4100, 'down': 1851, 'gave': 2248, 'glimpse': 2291, 'into': 2680, 'what': 4864, 'actually': 701, 'like': 2928, 'committed': 1446, 'tw': 4647, 'recently': 3782, 'urges': 4717, 'knew': 2824, 'wasn': 4825, 'act': 689, 'bc': 1014, 'being': 1050, 'knowing': 2828, 'because': 1029, 'couldn': 1546, 'call': 1253, 'hotline': 2536, 'could': 1545, 'any': 839, 'solid': 4174, 'help': 2458, 'therapy': 4477, 'goes': 2305, 'doctor': 1813, 'antidepressants': 835, 'tells': 4446, 'haven': 2427, 'killing': 2812, 'myself': 3219, 'thinks': 4489, 'while': 4875, 'waiting': 4798, 'prescription': 3623, 'filled': 2116, 'fam': 2058, 'episodes': 1968, 'joke': 2755, 'through': 4510, 'never': 3275, '2016': 374, 'masks': 3052, 'told': 4540, 'someone': 4182, 'existence': 2014, 'll': 2954, 'right': 3879, 'mad': 3010, 'easily': 1897, 'suffering': 4345, 'abuse': 667, 'sexual': 4049, 'growing': 2352, 'done': 1835, 'shit': 4073, 'her': 2464, 'bill': 1089, 'dealers': 1675, 'give': 2282, 'information': 2648, 'allow': 772, 'take': 4401, 'an': 804, 'active': 693, 'role': 3903, 'saving': 3964, 'lives': 2952, 'really': 3773, 'tommy': 4544, 'think': 4487, 'ending': 1943, 'character': 1348, 'should': 4090, 'saved': 3963, 'kinda': 2816, 'dream': 1859, 'why': 4884, 'prime': 3641, 'safe': 3941, 'ako': 756, 'sa': 3933, 'teacher': 4429, 'di': 1756, 'na': 3221, 'ng': 3287, 'ko': 2832, 'yung': 4992, 'defend': 1699, 'running': 3928, 'patience': 3481, 'din': 1775, 'worst': 4931, 'taleb': 4405, 'black': 1106, 'been': 1037, 'best': 1068, 'book': 1136, 'time': 4522, 'history': 2497, '1987': 359, 'monday': 3176, 'shorted': 4085, 'financial': 2125, 'he': 2431, '500': 509, 'city': 1392, 'lose': 2978, 'followers': 2169, 'receive': 3779, 'hate': 2422, 'tweet': 4648, 'however': 2541, 'else': 1925, 'own': 3437, 'body': 1129, 'yet': 4969, 'please': 3560, '11th': 332, 'nov': 3322, 'father': 2073, '2192': 389, '100': 321, 'points': 3576, '300': 438, 'dangerous': 1650, 'zone': 4996, 'enjoy': 1953, 'trapped': 4590, 'will': 4889, 'university': 4695, 'currently': 1615, 'studying': 4324, 'big': 1085, 'school': 3977, 'got': 2319, 'championship': 1338, 'whatever': 4865, 'humble': 2555, 'little': 2948, 'lived': 2950, 'very': 4752, 'flu': 2157, 'age': 739, 'bipolar': 1096, 'style': 4328, 'depressed': 1722, 'tried': 4609, 'drinking': 1864, '2017': 375, 'tbh': 4425, 'every': 1994, 'week': 4846, 'damn': 1645, 'horrible': 2527, 'too': 4551, 'rn': 3889, 'days': 1665, 'inside': 2659, 'makes': 3023, 'wave': 4834, 'white': 4876, 'flag': 2145, 'million': 3133, '18': 353, 'serious': 4032, 'non': 3306, 'hispanic': 2495, 'blacks': 1109, 'run': 3926, 'club': 1416, 'set': 4040, 'goal': 2301, 'miles': 3128, 'head': 2432, 'back': 977, 'new': 3276, 'game': 2241, 'called': 1254, 'visions': 4777, 'cw': 1625, 'isnt': 2706, 'perfect': 3505, 'sure': 4372, 'havent': 2428, 'played': 3554, 'ages': 740, 'literally': 2947, 'holding': 2504, 'friend': 2211, 'traffic': 4577, 'forever': 2183, 'carved': 1293, 'soul': 4200, 'american': 795, 'live': 2949, 'homes': 2513, 'guns': 2369, 'loaded': 2956, '200b': 369, 'kids': 2808, '17': 349, 'under': 4674, 'gain': 2236, 'access': 678, 'firearms': 2135, 'shoot': 4078, 'often': 3360, 'year': 4964, '600': 548, 'die': 1762, 'reported': 3837, 'having': 2429, 'prison': 3643, 'staff': 4246, 'witnessed': 4904, 'unable': 4670, 'needed': 3256, 'attempts': 927, 'oh': 3362, 'she': 4064, 'felt': 2098, 'since': 4121, 'came': 1259, 'truly': 4623, 'heart': 2444, 'hear': 2441, 'fighting': 2113, 'hard': 2408, 'honestly': 2518, 'learned': 2879, 'course': 1560, 'mentioning': 3102, 'less': 2901, 'likely': 2930, 'trigger': 4611, 'open': 3390, 'doors': 1842, 'communication': 1449, 'bullies': 1206, 'ones': 3380, 'all': 770, 'said': 3944, 'imagine': 2604, 'arrested': 887, 'few': 2105, 'weeks': 4849, 'thrown': 4513, 'court': 1561, 'released': 3813, 'over': 3429, 'again': 736, 'poor': 3585, 'wrong': 4942, 'color': 1428, 'make': 3021, 'yeah': 4963, 'dude': 1879, '_miller': 637, 'bullshyt': 1209, 'based': 1006, 'ignorance': 2591, 'direct': 1778, 'correlation': 1537, 'between': 1076, 'ownership': 3440, 'grow': 2351, 'proves': 3679, 'ignorant': 2592, 'united': 4692, 'states': 4264, 'higher': 2480, '26': 403, 'countries': 1553, 'gtfohwtbs': 2355, 'assertion': 910, 'increases': 2629, 'males': 3028, 'committing': 1447, 'obviously': 3343, 'were': 4855, 'go': 2300, 'stop': 4292, 'pushing': 3703, 'dumbass': 1882, 'needs': 3257, 'propaganda': 3667, 'starting': 4260, 'helping': 2461, 'veterans': 4755, 'using': 4728, '20': 365, 'per': 3500, 'day': 1664, 'america': 794, 'use': 4723, 'daily': 1641, 'facts': 2048, 'sources': 4205, 'brain': 1165, 'high': 2479, 'small': 4153, 'percentage': 3503, 'spare': 4209, 'woman': 4909, 'include': 2622, 'disease': 1792, 'french': 2208, 'statistics': 4267, 'despise': 1740, 'argument': 878, 'classic': 1399, 'spoke': 4224, 'individual': 2642, 'stars': 4256, 'industry': 2643, 'itself': 2715, 'guys': 2373, 'office': 3355, 'pills': 3538, 'deadly': 1673, 'yes': 4967, 'conditions': 1474, 'working': 4924, 'covid': 1568, 'related': 3808, 'considered': 1497, 'cause': 1306, 'death': 1680, 'blame': 1110, 'whole': 4880, 'thing': 4485, 'nobody': 3302, 'gets': 2268, 'trouble': 4619, 'put': 3704, 'position': 3594, 'pain': 3452, 'money': 3177, 'thanks': 4462, 'treatment': 4600, 'able': 659, 'return': 3860, 'dont': 1840, 'fact': 2045, 'cent': 1326, 'shares': 4061, 'questionable': 3720, 'behaviour': 1046, 'capital': 1276, 'markets': 3043, 'leaked': 2876, 'low': 2991, 'volume': 4786, 'price': 3636, 'essentially': 1975, 'buy': 1218, 'sometimes': 4184, 'arguing': 877, 'horrors': 2528, 'proven': 3678, 'across': 688, 'control': 1518, 'proof': 3666, 'minority': 3145, 'trained': 4581, 'wat': 4828, 'rope': 3911, 'drink': 1863, 'pls': 3563, 'its': 2714, 'might': 3126, '0001f60f': 137, '0001f602': 125, 'believe': 1052, 'nothing': 3319, 'impossible': 2615, 'comes': 1434, 'state': 4262, 'forget': 2186, 'cos': 1539, 'dem': 1713, 'pay': 3487, 'much': 3203, 'seriously': 4033, 'okay': 3366, 'feeling': 2090, 'sad': 3938, 'come': 1431, 'stronger': 4313, 'respect': 3847, 'dc': 1667, 'wouldn': 4936, 'watch': 4829, 'squad': 4236, 'thank': 4459, 'catching': 1303, 'spirit': 4223, 'point': 3575, 'offering': 3354, 'way': 4835, 'cry': 1603, 'edge': 1907, '13': 337, 'music': 3212, 'voice': 4783, 'mine': 3138, 'says': 3968, 'problematic': 3650, 'saying': 3967, 'anything': 842, 'stans': 4254, 'gt': 2354, 'complex': 1464, 'afraid': 733, 'lot': 2983, 'stupid': 4327, 'stuff': 4325, 'home': 2509, 'need': 3255, 'protect': 3672, 'owning': 3441, 'chances': 1340, 'innocent': 2654, '200': 366, '000': 1, 'forms': 2192, 'things': 4486, 'look': 2972, 'car': 1281, 'puts': 3705, 'criminal': 1590, 'hands': 2390, 'maybe': 3067, 'didn': 1760, 'professional': 3657, 'ahead': 745, 'matter': 3063, 'start': 4258, 'including': 2624, 'jr': 2768, '0001f5e3': 122, 'quick': 3722, 'label': 2841, 'move': 3194, '0001f451': 69, 'case': 1294, 'theres': 4480, 'whats': 4866, 'blacklivesmatter': 1108, 'acting': 690, 'off': 3350, 'eu': 1984, 'resources': 3846, 'yourselves': 4984, 'finally': 2123, 'excuse': 2012, 'traumatized': 4595, 'something': 4183, 'laugh': 2853, 'funny': 2230, 'ready': 3766, 'situation': 4134, 'sweetest': 4386, 'wonderful': 4915, 'fight': 2111, 'thru': 4514, 'anyone': 841, 'talking': 4409, 'gone': 2309, 'push': 3701, 'adhd': 715, 'anyway': 843, 'fine': 2131, 'compared': 1454, 'period': 3509, 'nigga': 3293, 'struggling': 4318, 'doing': 1823, 'views': 4767, 'lol': 2966, '0001f3fd': 55, 'thinking': 4488, 'giving': 2287, 'overdosed': 3431, 'etc': 1980, 'mental': 3098, 'illness': 2600, 'issues': 2710, '16': 346, 'disability': 1782, '15': 343, 'identify': 2578, 'lgbtq': 2909, '14': 341, 'parents': 3465, '_twt': 649, 'gonna': 2310, 'kept': 2799, 'blamed': 1111, 'teachers': 4430, 'realised': 3769, 'doubt': 1849, 'attack': 922, 'directly': 1779, 'fun': 2226, 'top': 4553, 'certainly': 1334, 'degree': 1706, 'box': 1159, 'fury': 2232, 'power': 3609, 'against': 737, 'guard': 2358, 'lighter': 2926, 'today': 4534, 'shot': 4088, 'herself': 2468, 'foot': 2174, 'contemplating': 1508, 'manipulative': 3035, 'beaten': 1024, 'mother': 3190, 'threatened': 4503, 'fear': 2083, 'shelters': 4068, 'dad': 1639, 'protection': 3674, 'men': 3096, 'used': 4724, 'remember': 3819, 'truth': 4628, 'private': 3644, 'political': 3580, 'daughter': 1658, 'realized': 3772, 'guilty': 2366, 'along': 779, 'person': 3513, 'online': 3382, 'interested': 2672, '2nd': 436, 'research': 3843, 'read': 3763, 'indicates': 2639, 'significant': 4109, 'difference': 1767, 'reduce': 3790, 'homicide': 2514, 'saw': 3965, 'worse': 4930, 'avoid': 945, 'looked': 2973, 'eyes': 2036, 'watered': 4833, 'same': 3952, 'buh': 1198, 'telling': 4445, 'turn': 4641, 'easy': 1899, 'hang': 2392, 'find': 2128, 'gives': 2286, 'hope': 2522, '0001f495': 83, 'dealt': 1678, 'beginning': 1043, 'bother': 1152, 'stood': 4291, 'acceptance': 676, 'bullying': 1211, 'assume': 916, 'support': 4364, 'transition': 4586, 'cases': 1295, 'laws': 2864, 'passed': 3474, 'longer': 2970, 'chance': 1339, 'involved': 2693, 'almost': 775, 'false': 2057, 'sense': 4021, 'safety': 3943, 'robert': 3895, 'wondering': 4916, 'findings': 2130, 'wage': 4794, 'thousands': 4499, 'looking': 2974, 'fucking': 2220, 'beef': 1036, 'opinion': 3396, 'male': 3027, 'bearing': 1021, 'female': 2099, 'valid': 4739, 'kavenaugh': 2792, 'decisions': 1690, 'hes': 2469, 'stabbed': 4244, 'couldnt': 1547, 'count': 1551, 'nor': 3312, 'amy': 803, 'bitch': 1102, 'supreme': 4370, 'somebody': 4180, 'send': 4017, 'fuck': 2217, 'crying': 1604, 'loved': 2987, 'cried': 1587, 'grandma': 2333, 'away': 950, 'found': 2198, 'friends': 2212, 'wish': 4896, 'meet': 3087, 'rip': 3883, '0001f62d': 154, 'mf': 3118, 'handsome': 2391, 'protagonist': 3671, 'looks': 2975, '0001f606': 129, 'oops': 3388, 'police': 3578, 'secret': 3994, 'corruption': 1538, 'address': 713, 'basic': 1007, 'income': 2625, 'sonic': 4189, 'weapons': 4841, 'harry': 2418, 'homelessness': 2512, 'guide': 2364, 'towards': 4566, 'say': 3966, 'arrest': 886, 'chop': 1378, 'turned': 4643, 'teens': 4440, 'celebrity': 1322, 'ego': 1916, 'success': 4336, 'sm': 4152, 'capacity': 1274, 'trying': 4630, 'following': 2171, 'making': 3026, 'accounts': 684, 'probably': 3648, 'status': 4269, 'campaign': 1262, 'union': 4689, 'independent': 2635, 'realise': 3768, 'economic': 1903, 'though': 4495, 'lots': 2984, 'facebook': 2041, 'celebrating': 1320, 'tomorrow': 4545, 'cure': 1612, 'exactly': 2004, 'limit': 2934, 'especially': 1973, 'canada': 1266, '7th': 583, 'liked': 2929, 'post': 3600, 'insta': 2664, 'punching': 3693, 'obsessed': 3341, 'trans': 4583, 'hardest': 2410, 'ended': 1942, 'hospital': 2530, 'makeup': 3024, 'outlet': 3423, 'love': 2986, 'buissness': 1200, 'usual': 4729, 'willing': 4890, 'profit': 3659, 'without': 4903, 'trump': 4624, 'finished': 2132, 'made': 3011, 'rich': 3877, 'enjoyed': 1955, 'part': 3468, 'although': 785, 'arkham': 880, 'apparently': 853, 'heard': 2442, 'hell': 2456, 'comics': 1436, 'changed': 1342, 'movie': 3198, 'won': 4912, 'problem': 3649, 'created': 1582, 'plan': 3548, 'steal': 4273, 'customer': 1617, 'understand': 4677, 'ok': 3365, 'doin': 1822, '22': 390, 'veteran': 4754, 'awareness': 949, 'yesterday': 4968, '28': 427, '50': 508, 'wanted': 4812, 'attempt': 924, 'career': 1287, 'helps': 2463, '0001f926': 183, '200d': 370, '2642': 409, 'fe0f': 2081, 'agreed': 743, 'taking': 4404, 'boring': 1145, 'passing': 3476, 'fair': 2052, 'gf': 2270, 'either': 1920, 'constantly': 1500, 'forcing': 2180, 'relationship': 3809, 'instead': 2666, 'letting': 2905, 'interest': 2671, 'toxic': 4569, 'neither': 3264, 'keep': 2794, 'number': 3333, 'around': 885, 'loose': 2976, 'regulations': 3805, 'amount': 800, 'psychological': 3684, 'harm': 2412, 'legally': 2892, 'seek': 4001, 'asylum': 917, 'opportunism': 3398, 'ground': 2347, 'shooting': 4079, 'himself': 2488, 'twice': 4651, 'opening': 3392, 'throw': 4511, '12': 333, 'feet': 2094, 'supposedly': 4369, 'tonight': 4549, 'pray': 3616, 'japan': 2727, 'numbers': 3334, 'change': 1341, 'replaced': 3832, 'considering': 1498, 'pretend': 3629, 'brexit': 1169, 'kind': 2815, 'expected': 2018, 'thought': 4496, 'tory': 4559, 'party': 3472, 'threatening': 4504, 'violent': 4771, 'mom': 3170, 'cop': 1525, 'arrived': 888, 'train': 4580, 'drugs': 1875, 'trash': 4592, 'dumped': 1883, 'worthless': 4933, 'preventing': 3633, '3rds': 487, 'crime': 1588, 'affected': 731, 'two': 4655, 'thirds': 4491, 'red': 3788, 'net': 3272, 'hanging': 2393, 'surprised': 4375, 'drug': 1874, 'anxiety': 838, 'caused': 1307, 'screenshot': 3986, '0001f644': 160, 'mate': 3059, 'clearly': 1402, 'cost': 1542, '19': 355, 'view': 4766, 'scary': 3971, 'reading': 3764, 'thier': 4484, 'sorry': 4198, 'matt': 3062, 'lost': 2982, 'struggled': 4317, 'closed': 1410, 'storm': 4299, 'pass': 3473, 'together': 4537, 'given': 2285, 'sick': 4102, 'note': 3317, 'due': 1880, 'lack': 2842, 'hand': 2387, 'roll': 3904, 'mention': 3101, 'manager': 3033, '2640': 408, 'isn': 2705, 'fault': 2075, 'happy': 2402, 'explain': 2024, 'deliveries': 1711, 'majority': 3020, 'law': 2863, 'medical': 3082, 'population': 3590, 'general': 2258, 'wealth': 4840, 'murdered': 3208, 'trust': 4625, 'option': 3403, 'policy': 3579, 'opioids': 3397, 'factor': 2046, 'adult': 722, '2018': 376, 'suffered': 4344, 'sadly': 3939, 'team': 4431, 'instagram': 2665, 'prefer': 3620, 'negativity': 3260, 'happens': 2398, 'unfortunate': 4685, '24': 397, 'whom': 4882, 'drove': 1872, 'alt': 784, '45': 497, 'retirement': 3859, 'pissed': 3543, 'cope': 1526, 'sister': 4131, 'until': 4702, 'lie': 2917, 'ni': 3289, '0001f97a': 199, 'four': 2199, 'places': 3547, 'tho': 4493, 'usually': 4730, 'involves': 2694, 'tech': 4435, 'cell': 1323, 'kass': 2790, 'hypnosis': 2568, 'soon': 4193, 'kid': 2807, 'liking': 2932, 'simple': 4118, 'kicked': 2805, 'bully': 1210, 'defense': 1701, 'fast': 2071, 'stealing': 4274, 'crown': 1599, 'incorrect': 2626, 'door': 1841, 'shoes': 4077, 'trip': 4613, 'fall': 2055, 'within': 4902, 'pact': 3450, 'subject': 4330, 'lawyer': 2866, 'rock': 3897, '0001f923': 181, 'playing': 3558, 'left': 2889, 'class': 1397, 'centre': 1329, 'weak': 4839, 'major': 3019, 'causes': 1308, 'aren': 876, 'bridge': 1170, 'jump': 2775, 'slit': 4147, 'wrists': 4939, 'highest': 2481, 'developed': 1750, 'takes': 4403, 'abuser': 668, 'risk': 3885, 'shouldn': 4092, 'indeed': 2633, 'defended': 1700, 'eventually': 1992, 'media': 3081, 'urban': 4715, 'homicides': 2515, 'local': 2958, 'news': 3277, 'outlets': 3424, 'kills': 2813, 'coverage': 1564, 'blog': 1121, 'addiction': 710, 'misery': 3151, 'pulling': 3691, 'fantasy': 2065, 'quiet': 3724, 'causing': 1309, 'ago': 741, 'hospitalized': 2533, 'art': 891, 'b4': 965, 'passion': 3477, 'depressive': 1725, 'episode': 1967, 'creative': 1583, 'taught': 4420, 'includes': 2623, 'talk': 4407, 'account': 683, 'claiming': 1394, 'reporting': 3838, 'asian': 900, 'physically': 3528, 'verbally': 4750, 'asians': 901, 'peace': 3491, 'legitimate': 2896, 'pushed': 3702, 'afghan': 732, 'uk': 4665, 'pulled': 3690, '2014': 372, 'accident': 679, 'wounds': 4937, 'received': 3780, 'casualties': 1301, 'im': 2602, 'everyday': 1996, 'bomb': 1131, 'next': 3279, 'hillary': 2486, 'tours': 4564, 'cops': 1527, 'beating': 1025, 'cult': 1608, 'leaders': 2871, 'hundreds': 2557, 'rather': 3750, 'face': 2040, 'leader': 2870, 'internal': 2674, 'freak': 2204, 'podcast': 3568, 'current': 1614, 'lgbt': 2908, 'practice': 3613, '30': 437, '40': 488, 'ear': 1891, 'great': 2338, 'conversation': 1521, 'comment': 1440, 'safer': 3942, 'successful': 4337, 'methods': 3115, 'ways': 4836, 'round': 3913, 'pull': 3689, 'appearance': 855, 'plenty': 3561, 'knowledge': 2829, 'empathetic': 1934, 'side': 4103, 'filming': 2118, 'film': 2117, 'form': 2189, 'cares': 1288, 'president': 3626, 'cannot': 1271, 'goals': 2302, 'command': 1439, 'refused': 3797, 'later': 2850, 'flipped': 2151, 'switch': 4388, 'stepped': 4277, 'dead': 1671, 'jokes': 2757, 'cbeebies': 1310, 'dirty': 1780, 'names': 3229, 'shows': 4098, 'older': 3368, 'attempting': 926, 'alex': 764, 'beat': 1023, 'calm': 1257, 'sending': 4018, 'emoji': 1931, 'mass': 3054, 'bitter': 1105, 'accusations': 685, 'works': 4925, 'half': 2382, '48': 501, '55': 526, 'survey': 4376, '2012': 371, 'fired': 2136, 'campus': 1264, 'attacks': 923, 'students': 4321, 'month': 3179, '0001f639': 157, 'idk': 2583, 'name': 3227, 'posts': 3603, 'yea': 4962, 'destroy': 1743, 'dealing': 1676, 'word': 4919, 'swear': 4384, 'generally': 2259, 'devastating': 1749, 'last': 2847, 'seemed': 4003, 'bright': 1171, 'pathetic': 3480, 'minister': 3142, 'question': 3719, 'far': 2066, 'connection': 1492, 'quotes': 3729, 'med': 3080, 'guess': 2361, 'couple': 1557, 'characters': 1349, 'happening': 2397, 'dark': 1652, 'tone': 4547, 'plot': 3562, 'ig': 2589, 'americans': 796, 'average': 943, 'internet': 2676, 'chase': 1353, 'hudson': 2548, 'sway': 4383, 'noah': 3301, 'influence': 2646, '0001f914': 174, 'answer': 832, 'theory': 4475, 'games': 2244, 'encouraging': 1940, 'hugs': 2550, 'close': 1409, 'confidence': 1479, 'healing': 2437, '0001f494': 82, 'jj': 2743, 'video': 4764, 'sent': 4024, 'trending': 4605, 'bias': 1081, 'message': 3105, 'association': 915, 'isolation': 2707, 'schools': 3978, 'lmao': 2955, 'brother': 1183, 'struggle': 4316, 'room': 3909, 'hung': 2558, 'wonder': 4913, 'folk': 2163, 'lethal': 2903, 'science': 3979, 'ideas': 2577, 'supported': 4365, 'evidence': 2000, '0001f449': 64, '0001f3fe': 56, '0001f448': 63, 'xbox': 4948, 'straight': 4302, 'didnt': 1761, 'sheer': 4066, 'heavily': 2449, 'cut': 1619, 'met': 3109, 'girl': 2278, 'alive': 768, 'hasn': 2421, 'knows': 2831, 'abortion': 660, 'survive': 4377, 'cutting': 1622, 'temporary': 4449, 'moment': 3171, 'tragedy': 4578, 'prevent': 3632, 'talked': 4408, 'fn': 2160, 'attention': 928, 'hunt': 2559, 'list': 2940, 'sticking': 4282, 'child': 1369, '__': 623, 'create': 1581, 'flirt': 2152, 'sounds': 4203, 'threat': 4501, 'hold': 2503, '0001f921': 180, '0001f92c': 187, '0001f479': 73, 'feels': 2092, 'prayers': 3617, 'losing': 2980, '0001f64f': 165, '2665': 410, 'initial': 2651, 'hours': 2538, 'nature': 3243, 'reports': 3839, 'tired': 4528, 'bullshit': 1208, 'mouth': 3193, 'hurts': 2564, 'planned': 3550, 'families': 2059, 'praise': 3614, '85': 595, 'eye': 2035, 'changes': 1343, 'ss': 4239, 'fraud': 2203, 'humanity': 2553, 'andrew': 812, 'mc': 3071, 'short': 4084, 'pension': 3497, 'lt': 2996, 'military': 3129, 'dr': 1854, 'fauci': 2074, 'loser': 2979, 'wtf': 4944, 'totally': 4561, 'agree': 742, 'teen': 4438, 'win': 4891, 'play': 3552, 'bottom': 1153, 'china': 1372, 'govt': 2325, 'covered': 1565, 'glory': 2296, 'businesses': 1215, 'kill': 2809, 'each': 1889, 'mostly': 3189, 'comfort': 1435, 'poverty': 3608, 'worth': 4932, 'folks': 2164, 'early': 1893, 'happen': 2395, '_chi': 626, 'bro': 1179, 'suffer': 4343, 'dreams': 1861, 'hopefully': 2523, 'inspire': 2661, 'tactic': 4396, 'nd': 3249, 'sha': 4053, 'interesting': 2673, 'moms': 3174, 'demand': 1714, 'action': 691, 'described': 1729, 'write': 4940, 'posting': 3602, 'member': 3090, 'pc': 3489, 'nice': 3290, 'hearing': 2443, 'happened': 2396, 'glad': 2288, 'alright': 782, 'notice': 3320, 'strike': 4310, 'beyond': 1077, 'divorce': 1807, 'asked': 904, 'went': 4854, 'single': 4127, 'seems': 4004, 'affect': 730, 'minorities': 3144, 'taken': 4402, 'cancer': 1268, 'spreading': 4230, 'panic': 3456, 'bones': 1134, 'oya': 3443, 'quickly': 3723, 'submit': 4331, 'phone': 3524, 'unlock': 4699, 'delete': 1709, 'twitter': 4653, 'app': 850, '0001f609': 131, 'triples': 4615, 'unless': 4697, 'involving': 2695, 'percent': 3502, 'result': 3856, '90': 608, 'cooperation': 1524, 'fake': 2054, 'secure': 3997, 'area': 874, 'wow': 4938, 'zero': 4993, 'conclusion': 1472, 'understood': 4679, 'healthcare': 2439, 'dm': 1810, 'tweets': 4650, 'clout': 1415, 'smh': 4156, 'cyber': 1626, 'abt': 665, 'ppl': 3611, 'behind': 1048, 'relief': 3815, 'sight': 4106, 'positivity': 3598, 'assisted': 913, 'succeed': 4334, 'strongly': 4314, 'predict': 3619, 'dsmp': 1877, 'aside': 902, 'sensitive': 4023, 'topic': 4554, 'backlash': 978, 'dear': 1679, 'hated': 2423, 'follow': 2165, 'cycle': 1627, '0001f4aa': 92, '0001f60e': 136, 'forces': 2179, 'baiting': 985, 'ain': 748, 'cool': 1523, 'heads': 2436, 'stretch': 4308, 'embarrassment': 1928, 'judgment': 2772, 'save': 3962, 'lecture': 2886, 'provide': 3680, 'possible': 3599, 'table': 4393, 'camera': 1260, 'failures': 2051, 'guards': 2359, 'nerves': 3270, 'fuckin': 2219, 'annoying': 828, 'dms': 1811, 'decided': 1688, 'sword': 4389, 'vote': 4788, 'sacrifice': 3937, 'appreciated': 862, '0001f1fa': 24, '0001f1f8': 23, 'gabapentin': 2235, 'vets': 4757, '0001f9d0': 201, 'effect': 1911, '0001f632': 155, '0001f92a': 186, '0001f620': 146, '70': 567, 'system': 4392, 'forced': 2178, 'farmers': 2069, 'double': 1848, 'farmer': 2068, 'yr': 4987, 'tht': 4515, 'whos': 4883, '0001f610': 138, 'monica': 3178, 'doesnt': 1818, 'light': 2925, 'weekend': 4847, 'cover': 1563, 'convenient': 1520, 'wake': 4799, 'realize': 3771, 'hero': 2466, 'bigger': 1086, 'eat': 1900, 'voting': 4791, 'biden': 1084, 'social': 4168, 'pile': 3537, 'australia': 933, 'balance': 986, 'courage': 1559, 'spent': 4220, 'cuz': 1623, 'decide': 1687, 'accidentally': 681, 'thankyou': 4464, 'turns': 4644, 'seem': 4002, 'somehow': 4181, 'common': 1448, 'mission': 3156, 'fails': 2050, '_realtime': 641, 'damien': 1644, 'guy': 2372, 'beautiful': 1026, 'upstairs': 4713, 'bed': 1034, 'netflix': 3273, 'computer': 1469, 'random': 3741, 'tag': 4399, 'cat': 1302, 'proud': 3676, 'nation': 3240, 'similar': 4116, 'model': 3164, 'effective': 1912, 'lock': 2959, 'sit': 4132, 'wait': 4797, 'kick': 2804, 'democrats': 1716, 'sep': 4028, 'sergio': 4030, 'superb': 4359, 'brought': 1184, 'epstein': 1969, 'expose': 2027, 'place': 3545, 'banned': 999, 'twitch': 4652, 'wondered': 4914, 'pity': 3544, 'explained': 2025, 'ssr': 4241, 'believes': 1054, 'completely': 1463, 'ask': 903, 'rules': 3924, 'lifes': 2922, 'source': 4204, 'keeping': 2795, 'responsible': 3852, 'show': 4094, 'otherwise': 3420, 'rise': 3884, 'above': 662, '1000': 322, '0001f64c': 164, 'ass': 908, 'line': 2935, 'recommend': 3784, 'factory': 2047, 'street': 4304, 'remind': 3820, 'loves': 2989, 'tough': 4563, 'disrespectful': 1801, 'meant': 3077, 'real': 3767, 'shame': 4055, 'green': 2341, 'minor': 3143, 'become': 1030, 'democracy': 1715, 'falling': 2056, 'lies': 2919, 'liar': 2910, 'desperate': 1737, 'sample': 3954, '56': 529, 'feelings': 2091, 'studies': 4322, 'partner': 3470, 'believed': 1053, 'deserve': 1730, 'full': 2222, 'efforts': 1915, 'illegal': 2599, 'insurance': 2669, 'service': 4035, 'va': 4735, 'alo': 776, 'ghislainemaxwelldidnotkillherself': 2273, 'ghislainemaxwell': 2272, 'justice': 2781, 'billbarr': 1090, '03nov2020': 262, 'picked': 3532, 'google': 2315, 'coming': 1437, 'hide': 2476, 'pub': 3686, 'coz': 1571, 'accent': 674, 'type': 4657, '0001f499': 87, 'odd': 3348, 'diff': 1766, '_us': 651, 'atleast': 921, 'tongue': 4548, 'cheek': 1360, 'moments': 3172, 'enjoyable': 1954, 'league': 2875, 'eddie': 1906, 'ends': 1944, 'horse': 2529, 'bombers': 1133, 'likes': 2931, 'sheikh': 4067, 'omar': 3372, 'mullah': 3204, 'fm': 2159, 'living': 2953, 'international': 2675, 'throwing': 4512, 'glass': 2289, 'villain': 4768, 'allows': 774, 'example': 2006, 'wrote': 4943, 'scene': 3972, 'bullet': 1204, 'dies': 1765, 'surgery': 4373, 'positive': 3596, 'counts': 1555, 'nonsense': 3308, 'davido': 1660, 'fan': 2062, 'misleading': 3153, 'content': 1509, 'insult': 2668, 'absolute': 663, 'race': 3730, 'logical': 2964, 'absolutely': 664, 'heavy': 2450, 'restrictions': 3855, 'search': 3988, 'decision': 1689, 'lady': 2843, 'bend': 1059, 'drivers': 1868, 'damage': 1642, 'amazing': 789, 'words': 4920, 'massive': 3056, 'second': 3992, 'late': 2848, 'crazy': 1580, 'locked': 2961, 'comments': 1441, 'product': 3654, 'cant': 1272, 'buys': 1220, 'total': 4560, 'curious': 1613, 'underlying': 4675, 'arc': 872, 'begin': 1041, 'important': 2614, 'personality': 3515, 'skin': 4136, 'reaching': 3760, 'harsh': 2419, 'perspective': 3518, 'teach': 4428, 'emotions': 1933, 'thats': 4466, 'huge': 2549, 'boost': 1139, 'powerful': 3610, 'pan': 3454, 'spouse': 4228, 'wife': 4887, 'irresponsible': 2700, 'cast': 1297, 'continue': 1513, 'supporting': 4367, 'conditioned': 1473, 'oppress': 3400, 'behavior': 1044, 'normal': 3313, 'signs': 4110, '0001f937': 190, '0001f3fc': 54, 'honest': 2517, 'website': 4844, 'unfortunately': 4686, 'consider': 1496, 'percentages': 3504, 'idea': 2576, 'controversial': 1519, 'dying': 1888, 'obvious': 3342, 'apply': 859, 'usa': 4720, 'privilege': 3645, 'key': 2802, 'base': 1004, 'dems': 1718, 'rep': 3830, 'laughing': 2855, 'rude': 3922, 'calling': 1255, 'awful': 953, 'disgusting': 1794, 'raped': 3744, 'brutally': 1188, 'lead': 2869, 'corner': 1531, 'reconsider': 3785, 'everybody': 1995, 'rare': 3746, 'definitely': 1704, 'molly': 3169, 'combat': 1430, 'watched': 4830, 'fucked': 2218, 'confused': 1484, 'protected': 3673, 'serving': 4037, 'dragon': 1856, 'immediately': 2607, 'thankfully': 4461, 'ambulance': 792, 'er': 1972, 'leads': 2874, 'ton': 4546, 'replied': 3833, 'shall': 4054, 'continued': 1514, 'girls': 2280, 'slide': 4146, 'colorism': 1429, 'yall': 4959, 'grabbing': 2329, 'politics': 3583, 'badly': 982, 'rly': 3888, 'vibes': 4759, 'culture': 1609, 'toxicity': 4570, 'jo': 2745, 'socially': 4169, 'ya': 4957, 'popular': 3589, '52': 517, 'boxing': 1160, 'level': 2906, 'embarrassing': 1927, '0001f61e': 145, 'harmful': 2414, 'cancel': 1267, 'became': 1028, 'scared': 3970, 'politicians': 3582, 'voters': 4790, 'rule': 3923, 'unconstitutional': 4673, 'raids': 3736, 'sports': 4225, 'harassment': 2407, 'rough': 3912, 'upset': 4711, 'gotta': 2320, 'forward': 2195, 'owner': 3438, 'accidental': 680, 'shitty': 4075, 'besides': 1066, 'quality': 3712, 'expecting': 2019, '0001f645': 161, '0001f3fb': 53, '0001f614': 141, 'universe': 4694, 'sucks': 4341, '0001f642': 159, 'manly': 3036, 'weight': 4850, 'extra': 2032, 'intrusive': 2685, 'boosted': 1140, 'led': 2887, 'reminds': 3822, 'stories': 4298, 'meanwhile': 3078, 'check': 1357, 'virus': 4774, 'draconian': 1855, 'overdose': 3430, 'concerned': 1471, 'caring': 1289, 'middle': 3125, 'basically': 1008, 'idols': 2587, 'supermarket': 4361, '32': 473, '_dknowl': 628, '0001f615': 142, 'remove': 3826, 'height': 2454, 'harassed': 2405, 'boys': 1163, 'gay': 2249, 'supposed': 4368, 'stick': 4280, 'gaming': 2245, 'community': 1451, 'connected': 1491, 'stress': 4306, 'seeing': 4000, 'thankful': 4460, 'mama': 3029, 'church': 1384, '0001f603': 126, 'worked': 4922, 'stuck': 4319, 'touch': 4562, 'retired': 3858, 'redefine': 3789, 'lonely': 2968, 'jumped': 2776, 'writing': 4941, 'legitimately': 2897, 'anymore': 840, 'son': 4185, 'abandoned': 655, 'confusion': 1485, 'happily': 2400, 'programme': 3660, 'bbc': 1012, 'notes': 3318, 'college': 1427, 'british': 1177, 'hey': 2472, 'weird': 4851, 'stay': 4271, '0001f44b': 66, 'business': 1214, 'fantastic': 2064, 'messed': 3107, 'nonstop': 3309, 'clothes': 1414, 'broke': 1181, 'cake': 1249, 'funeral': 2229, 'sells': 4014, 'wedding': 4845, 'worthy': 4934, 'shown': 4097, 'trends': 4606, 'anywhere': 845, 'exist': 2013, 'citizen': 1390, 'armed': 882, 'citizens': 1391, 'improve': 2616, '_kat': 634, 'claim': 1393, 'extreme': 2033, 'faced': 2042, 'stats': 4268, 'suggest': 4348, 'threaten': 4502, 'pressure': 3628, 'foster': 2197, 'delivery': 1712, 'quest': 3718, 'rematch': 3818, 'mentally': 3100, 'fit': 2140, 'foreign': 2182, 'putting': 3706, 'boosts': 1142, 'ot3': 3417, 'miss': 3154, 'closer': 1411, 'suzy': 4382, 'pic': 3530, 'nervous': 3271, 'appreciate': 861, 'advice': 727, 'client': 1404, '8th': 606, 'grade': 2331, 'ran': 3740, 'bomber': 1132, 'human': 2552, 'modern': 3165, 'smoking': 4162, 'murderer': 3209, 'leaving': 2884, 'complicated': 1466, 'reveals': 3867, 'poisoning': 3577, 'determine': 1748, 'deceased': 1685, 'third': 4490, 'sign': 4107, 'upon': 4710, 'alert': 762, 'meds': 3086, 'song': 4187, 'introduced': 2683, 'sell': 4013, 'rights': 3880, 'entire': 1962, 'drew': 1862, 'link': 2936, 'auto': 938, 'order': 3406, '_suicide': 646, 'retweet': 3863, 'ino': 2655, 'further': 2231, 'ive': 2716, 'miserable': 3150, 'shootings': 4080, 'tie': 4517, 'liverpool': 2951, 'via': 4758, 'conference': 1476, 'cps': 1572, 'showed': 4095, 'ur': 4714, 'commits': 1445, 'future': 2233, 'reforms': 3795, 'wearing': 4843, 'uniform': 4687, 'officer': 3356, 'hong': 2519, 'kong': 2833, 'rape': 3743, 'assault': 909, 'injured': 2652, 'japanese': 2728, '_x': 652, 'bank': 997, 'update': 4706, 'dix': 1809, 'dey': 1753, 'lucky': 3000, 'jealous': 2735, 'wallet': 4808, 'empty': 1937, 'advisor': 728, 'owners': 3439, 'members': 3091, 'challenge': 1336, 'souls': 4201, 'famous': 2061, 'quote': 3727, 'confession': 1477, '3rd': 486, 'disorders': 1799, 'shits': 4074, 'grew': 2343, 'night': 3294, 'student': 4320, 'stand': 4249, 'regardless': 3799, 'grocery': 2345, 'doctors': 1814, 'translate': 4588, 'offer': 3352, 'strong': 4312, 'crap': 1577, 'baby': 974, 'blaming': 1112, 'harassing': 2406, 'target': 4414, 'failed': 2049, 'junior': 2779, 'treated': 4599, 'tv': 4645, 'original': 3411, 'handle': 2389, 'contact': 1504, 'reverse': 3870, 'cash': 1296, 'corbyn': 1530, 'whoever': 4879, 'trauma': 4593, 'blocked': 1119, 'anyways': 844, 'stopped': 4293, 'listen': 2941, 'openly': 3393, 'accepting': 677, '0001f605': 128, 'anime': 817, 'fave': 2076, 'finding': 2129, 'road': 3891, 'choke': 1376, '0001f612': 139, 'happiness': 2401, 'dumb': 1881, 'omg': 3374, 'singing': 4126, '0001f927': 184, '0001f624': 149, 'fans': 2063, 'main': 3017, 'shaped': 4057, 'mark': 3041, 'neck': 3253, 'milk': 3131, 'fish': 2138, 'de': 1669, 'os': 3413, 'fr': 2200, 'speaking': 4211, 'screen': 3985, 'dollars': 1827, 'learn': 2878, 'mistakes': 3158, '2764': 425, 'elite': 1923, 'genuine': 2264, 'searching': 3989, 'chose': 1379, 'oga': 3361, 'rest': 3853, 'wants': 4814, 'effects': 1914, 'yo': 4971, '0001f625': 150, 'talented': 4406, 'skinny': 4137, 'tall': 4410, 'paradox': 3460, 'homeless': 2511, 'three': 4505, 'sacred': 3936, 'fire': 2133, 'medicine': 3083, 'lodge': 2962, 'survived': 4378, 'addicted': 709, 'eased': 1896, 'food': 2172, 'potus': 3606, 'yt': 4990, 'earlier': 1892, 'succeeded': 4335, 'kita': 2823, 'od': 3347, 'release': 3812, 'burdens': 1212, 'chest': 1366, 'onto': 3386, 'joy': 2767, 'laughed': 2854, 'forgot': 2188, 'break': 1166, 'lower': 2992, 'hi': 2474, 'authorities': 936, 'weren': 4856, 'ball': 987, 'naruto': 3235, 'bts': 1194, 'france': 2201, 'kpop': 2835, 'whenever': 4871, 'senior': 4019, 'confident': 1480, 'stream': 4303, 'therapist': 4476, 'depends': 1721, 'clients': 1405, 'express': 2028, 'hospitalization': 2532, 'process': 3652, 'congrats': 1486, '2k': 434, '0001f389': 41, 'mammon': 3030, 'precious': 3618, 'deserves': 1732, 'cute': 1620, 'tiny': 4525, '0001f49c': 89, 'younger': 4980, 'born': 1147, 'peers': 3494, 'oligarchs': 3369, 'populace': 3588, 'ar': 869, 'wall': 4807, 'lawsuits': 2865, 'fat': 2072, 'smart': 4154, 'actively': 694, 'hoping': 2525, 'stigma': 4283, 'fortunately': 2194, 'disorder': 1798, '700': 568, 'dignified': 1772, 'plz': 3565, '0001f622': 148, 'incident': 2621, 'blows': 1123, 'posted': 3601, 'delayed': 1708, 'method': 3114, 'removing': 3828, 'survivors': 4379, 'minutes': 3148, 'hs': 2545, 'regulation': 3804, 'jumping': 2777, 'officers': 3357, 'hr': 2543, 'facility': 2044, 'genuinely': 2265, 'aware': 948, 'rainbow': 3737, 'stops': 4295, 'details': 1746, 'fresh': 2209, 'thick': 4483, 'duty': 1886, 'energy': 1946, 'motivated': 3192, 'deadass': 1672, 'extent': 2031, 'creators': 1584, 'track': 4571, 'loan': 2957, 'banks': 998, 'allowed': 773, 'beings': 1051, 'fb': 2080, 'performance': 3507, 'statistic': 4266, 'ban': 993, '60': 547, 'defensive': 1702, 'uses': 4727, 'busy': 1216, 'nerve': 3269, 'liberals': 2912, 'flight': 2148, 'supporters': 4366, 'economy': 1904, 'angry': 816, 'mic': 3121, 'benzodiazepines': 1064, '2007': 368, 'jesus': 2738, 'david': 1659, 'sucked': 4340, 'purchased': 3694, 'injury': 2653, 'regret': 3802, 'everytime': 1999, 'statuses': 4270, 'treat': 4598, 'mum': 3206, 'rushed': 3930, 'completed': 1462, 'christmas': 1382, 'republicans': 3841, 'blue': 1124, 'present': 3624, 'bought': 1154, 'youtube': 4986, 'uploaded': 4709, 'channel': 1346, 'sound': 4202, 'aim': 747, 'paper': 3458, 'buying': 1219, 'cared': 1286, 'evil': 2001, 'ex': 2003, 'drunk': 1876, 'desperately': 1738, 'mentions': 3103, 'stable': 4245, 'magazine': 3012, 'noise': 3304, '_harbison': 633, 'choices': 1375, 'stolen': 4289, 'farm': 2067, 'investing': 2690, 'robbery': 3893, 'bring': 1173, 'deals': 1677, 'acid': 687, 'claims': 1395, 'wholesome': 4881, '0001f63c': 158, 'plus': 3564, 'lately': 2849, '2639': 406, 'prices': 3637, 'shed': 4065, 'crocodile': 1597, 'tears': 4433, 'moves': 3197, 'knife': 2825, 'throat': 4508, 'stock': 4286, 'irl': 2697, 'roommate': 3910, 'brutal': 1187, 'disagree': 1784, 'patient': 3482, 'functional': 2227, 'lifestyle': 2923, 'implemented': 2611, 'thread': 4500, 'legend': 2893, 'chat': 1355, '13th': 340, 'floor': 2153, 'english': 1950, '31st': 472, 'december': 1686, 'extended': 2030, 'boris': 1146, '35': 477, 'range': 3742, 'racist': 3732, 'ancestors': 808, 'books': 1137, 'judge': 2770, 'mainly': 3018, '_1': 621, 'sweet': 4385, 'expect': 2017, '0001f44f': 68, 'bishop': 1100, 'several': 4045, 'transferred': 4584, 'bail': 984, 'hook': 2521, 'salah': 3947, 'clear': 1401, 'jones': 2759, 'voted': 4789, 'tories': 4556, 'england': 1949, 'crash': 1578, 'perform': 3506, 'contagious': 1505, 'supplying': 4363, 'confirmed': 1482, 'joker': 2756, 'cough': 1544, 'haha': 2379, 'jobs': 2747, 'awhile': 954, 'referring': 3793, 'continues': 1515, 'fa': 2038, 'cup': 1610, 'november': 3323, 'movement': 3196, 'exists': 2015, 'stands': 4253, 'gc': 2251, 'vaccine': 4738, 'metal': 3112, 'anti': 834, 'benefit': 1060, 'eats': 1902, 'benefits': 1061, 'stated': 4263, 'spending': 4218, 'spend': 4217, 'sudden': 4342, 'michael': 3122, 'cole': 1423, 'language': 2846, 'complain': 1459, 'material': 3060, 'idiot': 2582, 'stan': 4248, 'tanner': 4412, 'asia': 899, 'biggest': 1087, 'btw': 1195, 'warning': 4820, 'pink': 3539, 'joking': 2758, 'healthy': 2440, 'devil': 1752, 'guest': 2363, 'barrel': 1003, 'tastes': 4418, 'comedian': 1433, 'frank': 2202, 'king': 2818, 'joins': 2753, 'upside': 4712, 'among': 799, 'dog': 1819, 'knocking': 2826, 'regulated': 3803, 'militia': 3130, 'girlfriend': 2279, 'driving': 1869, 'pulls': 3692, 'blocks': 1120, 'vehicle': 4748, 'husband': 2565, 'sons': 4190, 'previously': 3635, 'removed': 3827, 'moving': 3200, 'carrying': 1291, 'dogs': 1821, 'backyard': 980, 'calls': 1256, '911': 609, 'watching': 4831, 'teenager': 4439, 'rikers': 3881, 'island': 2703, 'correction': 1536, 'annual': 829, '57': 531, '1st': 363, 'lockdown': 2960, 'cheated': 1356, 'named': 3228, 'closest': 1412, 'gotten': 2321, 'handed': 2388, 'links': 2937, 'below': 1058, 'tuned': 4639, 'lets': 2904, '88': 598, 'yoongi': 4973, 'questions': 3721, 'marriage': 3045, 'trend': 4604, 'date': 1656, 'missing': 3155, 'arsenal': 890, 'lied': 2918, 'ceos': 1331, 'customers': 1618, 'imma': 2605, 'calculation': 1250, 'greatest': 2340, 'grab': 2328, 'viral': 4772, 'crashed': 1579, 'darkest': 1653, 'douse': 1850, 'purell': 3697, 'responders': 3849, 'suck': 4339, 'cruel': 1601, 'walking': 4806, 'noticed': 3321, 'center': 1327, 'checked': 1358, 'raubal': 3754, 'eva': 1988, 'copy': 1528, 'unique': 4690, 'voices': 4784, 'chelsea': 1364, 'hurting': 2563, 'strength': 4305, '0001f480': 74, 'wit': 4900, 'dis': 1781, 'goofy': 2314, 'congress': 1489, 'land': 2845, 'belongs': 1057, 'whether': 4873, 'covid19': 1569, 'host': 2534, 'thus': 4516, 'ye': 4961, 'slowly': 4150, 'kindness': 2817, 'donations': 1833, 'eating': 1901, 'government': 2323, 'elizabeth': 1924, 'drop': 1870, 'presidential': 3627, 'gender': 2257, 'company': 1453, '800': 585, 'countless': 1552, 'babies': 972, 'london': 2967, 'reveal': 3865, '44': 495, '42': 491, 'allah': 771, 'holidays': 2508, 'la': 2840, 'gross': 2346, 'stepping': 4278, 'resort': 3845, 'caught': 1305, 'spider': 4221, 'series': 4031, 'town': 4568, 'hall': 2383, 'keeps': 2796, 'judged': 2771, 'worried': 4927, 'space': 4207, 'morning': 3186, 'viv': 4780, 'dance': 1647, '0001f483': 75, '61': 550, 'discussion': 1791, '3pm': 485, 'driven': 1866, 'fees': 2093, '0001f629': 151, 'harming': 2415, 'lovely': 2988, '2728': 421, 'hour': 2537, 'nap': 3231, 'seven': 4044, 'thousand': 4498, 'birthday': 1098, 'heartbroken': 2446, 'insecure': 2657, 'songs': 4188, 'ily': 2601, 'grateful': 2334, 'square': 4237, 'vision': 4776, 'indian': 2637, 'education': 1910, 'selfmusing': 4012, '0001f4ab': 93, 'cbi': 1311, 'enquiry': 1958, 'must': 3214, 'cowper': 1570, 'answers': 833, 'asks': 906, 'prove': 3677, 'yrs': 4989, 'hot': 2535, 'jason': 2730, 'excited': 2008, 'cbiendsilenceinssrcase': 1312, 'trial': 4607, 'disappointed': 1785, 'drowning': 1873, 'underwater': 4680, 'pool': 3584, '0001f648': 163, 'sidnaaz': 4105, 'warmth': 4819, 'unlike': 4698, 'harder': 2409, 'meaning': 3075, 'january': 2726, 'confide': 1478, 'appointment': 860, 'employee': 1935, 'secretary': 3995, 'stressed': 4307, 'contemplate': 1506, 'drive': 1865, 'simply': 4119, 'block': 1117, 'march': 3038, 'anniversary': 824, '263a': 407, '0001f44d': 67, 'walk': 4804, 'lord': 2977, 'meditation': 3084, 'user': 4725, 'ultimately': 4668, 'candidate': 1269, 'ironic': 2698, 'sink': 4128, 'depths': 1726, 'grace': 2330, 'returning': 3862, 'prospects': 3670, 'becomes': 1031, 'muse': 3211, 'st': 4243, 'childhood': 1370, 'nhs': 3288, 'joined': 2751, 'unintentional': 4688, 'text': 4454, '644': 553, '33': 475, 'exam': 2005, '01': 214, 'term': 4450, 'tl': 4530, 'bless': 1115, 'haunt': 2425, 'minguk': 3140, 'darkness': 1654, 'schedule': 3974, 'twt': 4656, 'breaks': 1168, 'army': 884, '0001f62a': 152, 'beast': 1022, 'arm': 881, '0938': 315, '093e': 316, '0930': 314, '300c': 443, 'sara': 3958, '300d': 444, 'quantum': 3714, 'immortality': 2609, 'rocks': 3900, 'bounds': 1155, 'immediate': 2606, 'violation': 4769, 'promised': 3664, 'ill': 2598, 'elementary': 1922, 'rt': 3918, 'gentle': 2263, 'damaged': 1643, 'environment': 1964, 'cardi': 1283, 'bitches': 1103, 'chasing': 1354, 'bout': 1156, 'volunteer': 4787, 'toll': 4542, '51': 514, 'storage': 4296, 'boyfriend': 1162, 'besmart': 1067, 'uncle': 4672, 'pictures': 3533, 'approach': 863, 'journalists': 2765, 'importance': 2613, 'diseases': 1793, 'globe': 2294, 'special': 4212, 'ride': 3878, '30fc': 466, 'opportunity': 3399, 'ma': 3006, 'ein': 1918, 'bi': 1080, 'ugly': 4664, 'step': 4276, 'begging': 1040, 'fk': 2144, 'held': 2455, 'sleeping': 4144, 'inspired': 2662, 'hd': 2430, '106': 325, 'texas': 4453, 'informed': 2649, 'sunday': 4356, 'arms': 883, 'accept': 675, 'pause': 3486, 'blast': 1113, 'castle': 1300, 'lift': 2924, 'passionate': 3478, 'inspiring': 2663, 'guessing': 2362, 'brings': 1175, 'russia': 3931, 'blues': 1125, 'eminem': 1930, 'goat': 2303, 'sold': 4173, 'fill': 2115, 'spotify': 4227, 'goodbye': 2312, 'moots': 3183, 'mfs': 3119, 'building': 1199, 'york': 4976, 'coach': 1418, 'quoteoftheday': 3728, 'smile': 4157, 'inspiration': 2660, 'apocalypse': 848, 'slow': 4149, 'trade': 4573, 'gunviolence': 2371, 'relax': 3811, 'corona': 1532, 'physical': 3527, 'whatsoever': 4868, 'quit': 3725, 'attitude': 929, 'national': 3241, 'lifeline': 2921, '273': 422, '8255': 589, 'nadira': 3222, 'hrs': 2544, 'reached': 3759, 'share': 4059, 'tuesday': 4634, '27': 415, 'unknown': 4696, 'married': 3046, 'flowers': 2156, 'millennium': 3132, 'bull': 1203, 'store': 4297, 'gas': 2247, 'station': 4265, 'fighter': 2112, 'mayweather': 3068, 'water': 4832, 'fixed': 2143, 'shoulder': 4091, 'ignore': 2593, 'dancing': 1648, 'queen': 3717, 'incredible': 2631, 'provided': 3681, 'binge': 1095, 'valued': 4742, 'silent': 4113, 'faith': 2053, 'revealed': 3866, 'profile': 3658, 'manifesto': 3034, '80': 584, 'disarmament': 1786, 'flip': 2150, 'faces': 2043, 'responded': 3848, 'prepared': 3622, 'legit': 2894, 'tiktok': 4519, 'soo': 4192, 'depressing': 1723, 'beauty': 1027, 'lydia': 3005, 'tomkiw': 4543, 'poems': 3572, 'poetry': 3574, 'john': 2748, 'berryman': 1065, 'air': 749, 'librarian': 2914, '0001f447': 62, 'killers': 2811, 'adam': 705, 'teasing': 4434, '47': 500, 'understanding': 4678, 'india': 2636, 'apart': 846, 'rob': 3892, '0001f60d': 135, 'friendship': 2213, 'park': 3466, 'bouts': 1158, 'naya': 3245, 'rivera': 3887, 'favorite': 2077, '0001f30d': 26, 'gained': 2237, 'mutual': 3216, 'chris': 1380, 'idol': 2586, 'destination': 1742, 'charge': 1350, 'fuccin': 2216, '0001f6ae': 170, 'margot': 3039, 'robbie': 3894, 'harley': 2411, 'wolf': 4908, '0001f498': 86, '5th': 546, 'placed': 3546, 'pins': 3542, 'airwaves': 753, 'kicking': 2806, 'smith': 4159, 'warm': 4817, '101': 323, 'leading': 2873, 'selected': 4007, 'transgender': 4585, '0001f92e': 188, '0001f637': 156, '26b0': 414, 'movies': 3199, 'chick': 1367, '400': 489, 'omega': 3373, 'parent': 3464, 'pure': 3696, 'project': 3662, 'cracks': 1574, 'learning': 2880, 'sharp': 4063, 'headlines': 2435, 'fell': 2096, 'hole': 2506, 'sex': 4047, 'nah': 3225, 'engagement': 1947, 'intersection': 2678, 'generation': 2260, 'boomers': 1138, 'acts': 699, 'pep': 3499, 'library': 2915, 'investigation': 2688, 'memes': 3093, 'xy': 4956, 'sl': 4142, 'pop': 3586, 'job': 2746, 'playboy': 3553, 'universal': 4693, 'grave': 2336, 'reply': 3835, 'followed': 2167, 'spsm': 4232, 'ensure': 1959, 'kingdom': 2819, 'hello': 2457, 'dated': 1657, 'babes': 971, 'balls': 991, 'disabled': 1783, 'occurs': 3345, 'https': 2546, 'vic': 4760, 'tweeting': 4649, 'te': 4426, 'amo': 798, '0001f920': 179, 'byounggon': 1223, 'hyung': 2569, 'bein': 1049, 'atinys': 919, 'stays': 4272, 'nctzens': 3248, 'reality': 3770, 'suicidei': 4351, 'additional': 711, 'equals': 1971, 'investigating': 2687, 'sale': 3948, 'steering': 4275, 'wheel': 4869, 'clock': 1407, 'magnum': 3015, 'automotive': 940, 'shared': 4060, 'selalu': 4006, 'rocking': 3899, 'soft': 4171, 'c0c1': 1224, 'b2f4': 962, 'c804': 1241, 'd654': 1635, 'c815': 1242, 'd76c': 1637, 'c758': 1237, 'ccad': 1313, 'c18c': 1227, 'b144': 959, 'prince': 3642, 'interview': 2679, 'johnson': 2749, 'speed': 4216, 'worries': 4928, 'heartbreak': 2445, 'license': 2916, 'carry': 1290, 'revoked': 3872, 'lowest': 2993, 'cousin': 1562, 'selfish': 4011, 'passes': 3475, 'sol': 4172, 'chain': 1335, 'identity': 2579, 'analysis': 805, 'opened': 3391, 'martyrs': 3048, 'divide': 1805, 'primary': 3640, 'tragic': 4579, 'none': 3307, 'super': 4358, 'sushant': 4380, 'relate': 3807, 'cross': 1598, 'minds': 3137, 'millions': 3134, 'narrative': 3234, 'turkey': 4640, 'replies': 3834, 'february': 2087, 'vivid': 4781, 'plans': 3551, 'chief': 1368, 'skip': 4138, 'extremely': 2034, 'jasmine': 2729, 'phd': 3522, 'swim': 4387, 'nose': 3315, 'texted': 4455, 'idc': 2575, 'parts': 3471, 'bin': 1092, 'impact': 2610, 'fuller': 2223, 'context': 1512, 'gunshot': 2370, 'holiday': 2507, 'season': 3990, 'showing': 4096, 'former': 2191, 'cricket': 1586, 'abandon': 654, '2019': 377, 'creeping': 1585, 'chaos': 1347, 'jiu': 2742, 'struck': 4315, 'types': 4658, 'reasons': 3776, 'artist': 893, 'le': 2868, 'cringe': 1591, '0001f613': 140, 'sharing': 4062, 'owes': 3436, 'known': 2830, 'travel': 4596, 'results': 3857, '36': 479, 'paying': 3488, '21': 387, 'marks': 3044, 'shift': 4070, 'dropped': 1871, 'breaking': 1167, 'centered': 1328, 'boat': 1128, 'mentalhealth': 3099, 'stomach': 4290, 'penis': 3495, 'virginia': 4773, 'orders': 3407, 'session': 4039, 'potential': 3604, 'listened': 2942, '0001f5a4': 117, '68': 563, 'veterinary': 4756, 'offered': 3353, 'awkward': 955, 'lava': 2861, 'prepare': 3621, 'happier': 2399, 'joining': 2752, 'sky': 4140, 'romantic': 3907, 'communities': 1450, 'helpline': 2462, 'recognition': 3783, 'threw': 4506, 'fund': 2228, 'winner': 4893, 'options': 3404, 'pratima': 3615, 'aravabhoomi': 871, 'overreacting': 3434, 'jesy': 2739, 'remain': 3816, '0001f493': 81, 'sadness': 3940, 'counselling': 1550, 'ashamed': 898, 'actual': 700, 'collectively': 1426, 'available': 941, 'responses': 3851, 'admin': 716, 'chanhee': 1344, 'discord': 1788, 'spamming': 4208, 'werent': 4857, '4th': 507, 'driver': 1867, 'glee': 2290, 'sort': 4199, 'dosage': 1846, 'regarding': 3798, 'mask': 3051, 'counseling': 1549, 'relationships': 3810, 'fianc': 2108, 'walmart': 4809, 'oppression': 3401, 'olympics': 3371, 'bye': 1222, 'donate': 1832, 'dollar': 1826, 'coupon': 1558, 'training': 4582, 'visit': 4778, 'waking': 4801, 'crush': 1602, 'improvement': 2618, 'upcoming': 4705, '0001f974': 198, 'chinese': 1373, 'camps': 1263, 'wasnt': 4826, 'korean': 2834, 'painful': 3453, 'memories': 3094, 'mess': 3104, 'dig': 1770, 'scandal': 3969, 'trading': 4575, 'simp': 4117, 'flop': 2154, 'lowkey': 2994, 'antis': 836, 'immense': 2608, 'response': 3850, 'purge': 3698, 'actions': 692, 'wont': 4917, 'ii': 2594, 'exclusive': 2010, 'react': 3761, 'hidden': 2475, 'hacked': 2375, 'wishing': 4899, '3160': 470, '0001f9cd': 200, 'id': 2574, 'woke': 4907, 'dare': 1651, 'spun': 4233, 'chu': 1383, 'rat': 3747, '26a0': 413, '233': 395, 'amid': 797, 'au': 931, '0001f534': 113, '0001f53a': 115, 'stun': 4326, 'leg': 2890, 'circle': 1387, '0001f6ab': 169, 'offensive': 3351, '0x': 319, 'wu': 4946, 'fulltxs': 2224, 'spends': 4219, '83': 590, 'outout': 3425, 'ratio': 3751, '51out': 516, 'value': 4741, 'btc': 1192, 'andrews': 813, 'scottish': 3983, 'socdems': 4167, 'ideology': 2580, '0001f60a': 132, 'announce': 825, 'code': 1419, 'connect': 1490, 'hackathon': 2374, 'winners': 4894, 'runner': 3927, 'san': 3956, 'academy': 672, 'congratulations': 1488, 'outstanding': 3428, '0627': 291, '0646': 301, '0633': 298, '062e': 294, 'nbf150': 3247, '2021': 379, 'star': 4255, 'mary': 3050, 'rajasthan': 3739, 'football': 2175, 'appeal': 854, 'australian': 934, 'parliament': 3467, 'arse': 889, 'covering': 1566, 'apparatus': 851, 'paralysed': 3463, 'remorse': 3824, 'katharine': 2791, 'murphy': 3210, '0001f680': 166, '2705': 416, 'whatsapp': 4867, 'telegram': 4443, 'achievement': 686, 'celebrate': 1318, 'saturday': 3960, 'register': 3800, 'click': 1403, 'andre': 811, '3000': 439, 'binance': 1093, 'bot': 1150, 'automatically': 939, 'coin': 1422, 'increasing': 2630, 'shib': 4069, 'eth': 1981, 'luna': 3001, 'doge': 1820, 'dislike': 1796, 'rachael': 3731, 'hp': 2542, 'bitcoin': 1104, 'crypto': 1605, 'titty': 4529, 'arabia': 870, 'digital': 1771, 'operate': 3394, '0430': 263, '043d': 275, '044b': 285, '043c': 274, '0438': 270, '0442': 280, '0440': 278, '043e': 276, '043a': 272, '0441': 279, '0432': 265, '0434': 267, '0435': 268, '0431': 264, '043b': 273, '0443': 281, '0447': 283, '0445': 282, '043f': 277, '0437': 269, '044f': 287, '0433': 266, '0449': 284, '31': 468, '0439': 271, '044c': 286, 'beti': 1072, 'bachao': 976, 'padhao': 3451, 'launched': 2857, '2015': 373, 'bringing': 1174, 'behavioural': 1047, 'birth': 1097, 'increased': 2628, 'bharatkibeti': 1079, 'ongoing': 3381, 'gorecats': 2317, 'airdrop': 750, 'usdt': 4722, '0001f5d3': 119, 'distribution': 1803, '50th': 513, 'uae': 4659, 'uaenationalday': 4661, 'uae50': 4660, '0335': 233, '033e': 239, '0337': 235, '0314': 223, '0336': 234, '031b': 225, '033f': 240, '0339': 237, '0338': 236, '0352': 242, '0334': 232, '0333': 231, '033a': 238, '031a': 224, '0359': 246, '031f': 227, '0306': 222, '0353': 243, '0357': 244, '0328': 229, '0358': 245, '032c': 230, '031e': 226, '0351': 241, 'sooooo': 4195, '0001f970': 195, '0001f91e': 178, 'youngmin': 4981, 'kwangmin': 2837, 'prettiest': 3630, 'dandifam': 1649, 'onecheerful': 3379, 'andi': 810, 'applicants': 857, '2066': 384, '2069': 385, 'kaeya': 2783, 'dawn': 1662, 'county': 1556, 'gorgeous': 2318, '0001f3f4': 51, '000e0067': 208, '000e0062': 206, '000e0073': 209, '000e0063': 207, '000e0074': 210, '000e007f': 211, 'earn': 1894, 'playtoearn': 3559, 'han': 2385, 'dubs': 1878, '0001f973': 197, 'hanaseverina': 2386, 'papayasoak': 3457, 'kylafrancesca': 2839, '11': 326, 'jamesreid': 2724, 'standrewsday': 4252, 'capricorn': 1277, 'west': 4859, 'bae': 983, '0001f388': 40, 'inflation': 2645, 'spx': 4234, 'wear': 4842, 'cape': 1275, 'seokjin': 4027, 'investment': 2691, 'nedir': 3254, 'seasonal': 3991, 'angel': 814, 'announced': 826, 'christ': 1381, '29': 429, '79': 578, 'biker': 1088, 'jimin': 2741, 'kaeyaaaa': 2784, 'lojay': 2965, 'performing': 3508, 'sentinels': 4026, 'compliance': 1465, 'europe': 1985, 'highly': 2483, 'announcement': 827, 'jongin': 2761, 'exo': 2016, 'sir': 4129, 'growth': 2353, 'trna': 4616, 'rrna': 3917, 'optimal': 3402, 'urge': 4716, 'deck': 1691, 'shipping': 4072, 'waist': 4796, 'follower': 2168, 'messi': 3108, 'winning': 4895, 'ballon': 988, 'lewandowski': 2907, '0001f333': 29, 'hee': 2451, 'hai': 2380, 'telah': 4442, 'semua': 4016, 'ini': 2650, 'heeseung': 2452, 'terus': 4452, 'enhypen': 1951, 'fellow': 2097, 'scots': 3982, 'fashion': 2070, 'technology': 4437, 'moved': 3195, '59mb': 536, '155': 344, '0001f917': 176, '0001f618': 143, 'camp': 1261, 'improved': 2617, '1020': 324, 'schemes': 3975, 'yojana': 4972, '0940': 317, 'anandmohotsav': 807, 'modi': 3167, 'ji': 2740, 'samridhi': 3955, 'dislikes': 1797, 'figure': 2114, 'helpful': 2460, 'saint': 3945, 'standrew': 4250, '0001f49a': 88, '0001f60c': 134, '0001f38a': 42, '0001f490': 80, '0001f382': 38, 'alongside': 780, 'f1': 2037, '_tweets': 648, '0001f929': 185, 'nivethapethuraj': 3298, '0001f4b0': 95, 'adroverse': 721, 'token': 4538, '020': 218, 'adr': 720, 'reward': 3873, '0001f465': 70, 'referral': 3792, '0001f3c6': 49, '2b50': 433, 'metaverse': 3113, 'demographic': 1717, 'transitions': 4587, 'captured': 1280, 'additionally': 712, 'indicators': 2641, '0001f600': 123, 'sustainable': 4381, 'sensex': 4022, 'market': 3042, 'aspire': 907, '0001f943': 193, 'dan': 1646, 'pe': 3490, 'reference': 3791, 'nifty': 3291, '0001f601': 124, 'variant': 4744, 'constant': 1499, 'registration': 3801, '2022': 381, 'feb': 2086, 'tummy': 4637, 'arguments': 879, 'monthly': 3180, 'jade': 2720, 'tolkien': 4541, 'heroes': 2467, 'roy': 3916, 'bennettonecheerful': 1062, 'display': 1800, '0001f410': 58, 'east': 1898, '_news': 638, 'experts': 2023, 'standrews': 4251, 'dialogue': 1757, 'security': 3998, 'females': 2100, 'bus': 1213, 'greater': 2339, 'council': 1548, 'videos': 4765, 'libran': 2913, 'ethereum': 1982, 'releasing': 3814, 'album': 761, 'kai': 2785, 'barbados': 1000, 'republic': 3840, 'wa': 4793, 'gold': 2307, 'forecast': 2181, 'recovery': 3787, 'themed': 4472, 'xxx': 4955, 'award': 946, 'scottishdiaspora': 3984, 'latha': 2852, 'anndrais': 821, 'sona': 4186, 'dhuibh': 1755, 'stage': 4247, 'development': 1751, 'kd': 2793, 'scotland': 3981, '2m': 435, 'lunarcrush': 3002, 'listing': 2945, '0001f436': 60, '0001f525': 112, '_shibatop': 645, 'lunarshare': 3003, '0001f916': 175, 'compound': 1467, '0001f3e6': 50, 'borrowed': 1148, '0001f4b5': 97, '0001f4c8': 101, '0001f4b3': 96, '2696': 412, 'bday': 1018, 'hobbies': 2501, 'contributions': 1517, 'physics': 3529, 'institute': 2667, 'prize': 3646, 'nu': 3330, 'gundam': 2368, 'designs': 1735, 'billion': 1091, 'nations': 3242, 'supply': 4362, 'indicator': 2640, 'v2': 4734, 'feminine': 2101, 'bmw': 1126, '0001f4a5': 91, 'ido': 2585, 'launch': 2856, 'utc': 4731, '0001f517': 111, 'official': 3358, 'october': 3346, 'co': 1417, 'happy1stenniversary': 2403, 'b370': 963, 'c774': 1238, 'c6d0': 1234, 'c73c': 1235, 'b85c': 968, 'c2dc': 1229, 'c791': 1240, 'd55c': 1633, 'c5d4': 1231, 'd558': 1632, 'd508': 1631, '_365': 622, 'c77c': 1239, '30a8': 458, '30f3': 465, '30cf': 461, '30a4': 457, '30d7': 463, '795d': 579, '30c7': 460, '30d3': 462, '30e5': 464, '5468': 524, '5e74': 541, '_members': 636, 'metafinance': 3110, 'welcome': 4852, 'participate': 3469, 'tasks': 4416, 'balon': 992, '0001f3b8': 48, 'messages': 3106, 'ali': 766, 'wazir': 4837, 'radio': 3734, 'receiver': 3781, 'signal': 4108, 'snr': 4165, 'specification': 4213, 'gme': 2298, 'amc': 793, 'hgen': 2473, 'slgg': 4145, 'alto': 786, 'mmat': 3161, 'bb': 1011, 'sklz': 4139, 'xx': 4954, 'thanksgiving': 4463, 'bangladesh': 996, 'photo': 3525, 'ps': 3682, 'vita': 4779, 'homebrew': 2510, 'sony': 4191, 'organisations': 3408, '23f0': 396, 'widiland': 4886, '4am': 502, 'guaranteed': 2356, 'ru': 3920, 'magical': 3013, 'xo': 4950, 'def': 1698, 'mrna': 3202, 'stocks': 4288, 'oil': 3364, 'moderna': 3166, 'ceo': 1330, 'omicron': 3375, '2744': 423, 'genshinimpact': 2262, 'sexc': 4048, 'coffee': 1421, 'ash': 897, 'gh': 2271, 'added': 708, 'selen': 4008, 'selenbday2021': 4009, 'golden': 2308, 'jubilee': 2769, 'wishes': 4898, 'italy': 2712, '0001fa79': 205, '0001f496': 84, 'nftcommunity': 3284, 'disaster': 1787, 'challenges': 1337, 'weekly': 4848, 'duration': 1884, 'jongdae': 2760, 'xiumin': 4949, '0001f62c': 153, '2727': 420, 'steps': 4279, 'celebrated': 1319, '30th': 467, 'patron': 3484, 'nft': 3282, '0001f4cc': 103, 'idle': 2584, '888': 599, 'igl': 2590, '0001f440': 61, 'gen': 2256, 'gameplay': 2243, 'blockchain': 1118, '0001f604': 127, 'ceremony': 1332, 'producer': 3653, 'actor': 697, 'ts': 4631, 'rubber': 3921, 'deactivate': 1670, '0001f469': 71, '0001f4bb': 98, 'mobile': 3163, 'applications': 858, 'workers': 4923, '0001f4f8': 106, 'ballondor': 990, 'bonifacio': 1135, 'serve': 4034, 'consumer': 1501, 'charts': 1352, 'domestic': 1828, 'loving': 2990, 'decline': 1693, 'egypt': 1917, 'publication': 3688, 'advent': 725, 'calendar': 1252, '83c5': 591, '4e95': 505, '53cb': 523, '9999': 619, '751f': 573, '8a95': 602, '796d': 580, 'narendra': 3232, 'giveaway': 2283, '0001f381': 37, 'nfts': 3286, 'festive': 2104, 'tavern': 4421, 'diwali': 1808, 'unreal': 4701, 'commissioners': 1443, 'deputy': 1727, 'guidelines': 2365, 'till': 4520, 'sing': 4123, 'gout': 2322, 'mothers': 3191, 'sore': 4197, 'throats': 4509, 'stopping': 4294, 'sticker': 4281, 'complained': 1460, 'fitness': 2141, 'micro': 3123, 'targets': 4415, 'revenue': 3869, 'turnaround': 4642, 'reuters': 3864, 'mcro': 3072, '0001f5a5': 118, '0001f512': 108, 'reflection': 3794, 'volke': 4785, 'feh': 2095, 'besties': 1070, 'auld': 932, '0001f91d': 177, 'ayewelcomerefugees': 956, 'mbbs': 3069, 'coverings': 1567, 'compulsory': 1468, 'transport': 4589, 'shops': 4083, 'hospitality': 2531, 'surprise': 4374, '0001f514': 109, 'shortly': 4087, 'confirmation': 1481, 'closing': 1413, 'hodlers': 2502, 'nvl': 3337, '0001f48e': 79, 'blackholed': 1107, 'trustline': 4627, 'issuer': 2709, 'tokens': 4539, 'nvlrewards': 3338, 'xummairdrop': 4953, 'xrpcommmunity': 4951, 'xrpl': 4952, 'climate': 1406, 'classed': 1398, 'terrorist': 4451, 'organization': 3409, 'humankind': 2554, 'fossil': 2196, 'fuel': 2221, 'companies': 1452, 'deemed': 1696, 'destruction': 1744, 'wmd': 4905, 'planet': 3549, 'curtailed': 1616, 'neg': 3258, 'tea': 4427, 'coding': 1420, 'candle': 1270, 'formed': 2190, 'eod': 1965, 'niftyas': 3292, 'intraday': 2681, 'settlement': 4042, 'ad': 702, 'broader': 1180, 'intresting': 2682, 'stockmarket': 4287, 'liberal': 2911, 'verklempt': 4751, 'nancy': 3230, 'mace': 3009, 'lauren': 2860, 'boebert': 1130, 'muslim': 3213, 'ilhan': 2597, '5min': 545, 'listens': 2944, 'satisfy': 3959, 'requests': 3842, 'gift': 2276, 'pinned': 3540, 'quarter': 3715, '0001f90d': 173, 'ai': 746, 'un': 4669, 'pour': 3607, 'est': 1977, 'sur': 4371, 'ne': 3250, '27a1': 426, 'german': 2266, 'papers': 3459, 'lionel': 2938, 'undeserved': 4681, 'nagging': 3224, 'suited': 4355, 'incredibly': 2632, 'honored': 2520, 'nominated': 3305, 'thegameawards': 4468, 'row': 3914, 'featured': 2085, 'categories': 1304, 'kaicomebackday': 2787, 'kai2ndsolo': 2786, '05': 289, '58': 533, 'alerts': 763, 'users': 4726, 'actors': 698, 'cryptocurrency': 1607, 'mining': 3141, '2267': 392, '2266': 391, 'ff8a': 2106, '2501': 400, 'les': 2900, 'add': 707, 'disinformation': 1795, 'bands': 994, 'images': 2603, 'microsoft': 3124, 'tax': 4422, 'ltcbtc': 2997, 'oscillator': 3414, 'peak': 3493, '025at': 220, 'litecoin': 2946, '010': 215, '015': 216, '025': 219, '0625': 290, 'max': 3065, 'piece': 3535, 'bell': 1055, '0001f7e2': 172, 'friday': 2210, 'lowwatch': 2995, '4577': 498, 'futures': 2234, 'btcusdtprice': 1193, '894': 600, '8basis': 603, '02': 217, 'oi': 3363, '4bov': 503, '59': 535, '6ktaker': 565, 'trader': 4574, 'pos': 3592, '53': 521, 'acc': 673, '3004fr': 442, '00': 0, '252': 401, '7m': 582, 'neilbhatt': 3262, 'aishwaryasharma': 754, 'tellychakkar': 4447, 'neilkiaish': 3263, 'ghumhaikisikeypyaarmeiin': 2274, 'tree': 4601, 'mixed': 3160, 'nfl': 3281, 'dreaming': 1860, 'teeth': 4441, 'wahpeton': 4795, '711930hash': 570, '04966529b45cd6f09f9634d53fc586e1e7e81284a86813size': 288, '11mb': 331, '2993973': 430, '75': 572, '659segwit': 555, '77': 576, '898': 601, '943': 614, '42out': 494, '550': 527, '179': 352, '206': 383, '2615': 405, 'cafe': 1248, 'qingxin': 3709, '0001f516': 110, 'admiral': 718, 'karambir': 2789, 'singh': 4125, 'grey': 2344, 'eagle': 1890, 'vice': 4761, 'ravneet': 3755, 'seniormost': 4020, 'naval': 3244, 'aviator': 944, 'bisexuals': 1099, 'heterosexual': 2470, 'binder': 1094, 'ldskjghlfsjbdfbdnbvf': 2867, 'aaaaaaaaaaaaaaaa': 653, 'fits': 2142, 'ddd': 1668, 'schittscreek': 3976, 'remarkably': 3817, '991': 618, 'nfhs': 3280, 'anandmahotsav': 806, '0001f607': 130, 'excitement': 2009, 'globebrightbday': 2295, 'besttimewithglobe': 1071, 'colleagues': 1425, '_h_s_official': 632, 'forgetting': 2187, 'crimefighters': 1589, 'wetv': 4860, 'dikta': 1773, 'hukum': 2551, 'udah': 4662, 'posisi': 3593, 'apps': 867, 'wohoo': 4906, 'keren': 2800, 'memang': 3089, 'yah': 4958, 'gak': 2238, 'sabar': 3935, 'banget': 995, 'sama': 3951, 'wetvindonesia': 4862, 'nontondiwetv': 3310, 'wetvid': 4861, 'wetvoriginal': 4863, 'diktadanhukum': 1774, 'ajilditto': 755, 'natashawilona': 3239, 'yorikoangeline': 4975, 'abunsungkar': 666, 'nashitah': 3237, 'airdrops': 752, 'giveaways': 2284, 'moshiba': 3187, 'bsc': 1190, 'jaw': 2732, 'babyyyyfjehhejd': 975, 'skz': 4141, 'fawns': 2079, 'journalist': 2764, 'european': 1986, 'shine': 4071, 'brightest': 1172, 'galaxy': 2239, 'nene': 3266, 'leakes': 2877, 'rhoa': 3876, 'unfinished': 4684, 'alberich': 759, '30ac': 459, '30a2': 456, 'theme': 4471, 'scenes': 3973, 'mv': 3217, 'baba': 970, 'sire': 4130, 'enniversary': 1956, 'enhypen1stanniversary': 1952, 'ansar': 831, 'abbasi': 656, 'explode': 2026, 'lahore': 2844, 'potter': 3605, 'deliver': 1710, 'nairobi': 3226, 'metropolitan': 3116, 'starsprice': 4257, 'mahustler': 3016, '1200ksh': 334, 'onlywork': 3384, 'tembea': 4448, 'converse': 1522, 'walkfor': 4805, '0701627200': 312, 'legitimacy': 2895, 'commercial': 1442, 'launching': 2858, '2021mayors': 380, 'permit': 3510, 'donebir': 1836, 'permits': 3511, 'doneworking': 1838, 'doneshet': 1837, 'gown': 2326, 'hindi': 2489, 'pa': 3448, 'nagagawa': 3223, 'charought': 1351, 'ses': 4038, 'fer': 2102, '0001f621': 147, 'buck': 1196, 'pick': 3531, 'pieces': 3536, '911onfox': 610, 'tvmp': 4646, 'dp': 1853, '29yearsofvijayism': 432, 'lovable': 2985, '_mahendran': 635, 'anna': 819, 'updates': 4707, '_tvmp': 647, 'master': 3057, 'jossrei': 2763, '958': 615, '5basis': 537, '5ktaker': 544, '4273fr': 493, 'happythree': 2404, 'grand': 2332, 'essentials': 1976, 'booster': 1141, 'tagline': 4400, 'capslock': 1278, 'hundred': 2556, 'moreonecheerful': 3185, 'subscribers': 4332, 'tseriescrosses200milsubs': 4632, 'groundwater': 2348, 'trucks': 4621, 'haggis': 2377, '_bkn': 625, 'dost': 1847, '0001f339': 31, 'zuki': 4998, 'moba': 3162, 'huobi': 2560, 'ventures': 4749, 'sincerely': 4122, 'trusting': 4626, 'zukimoba': 4999, 'huobiventures': 2561, 'misaki': 3149, 'heavens': 2448, 'idiosyncrasies': 2581, 'maturely': 3064, 'criticizing': 1596, 'aew': 729, 'angle': 815, 'mistake': 3157, 'simps': 4120, 'saps': 3957, 'makersplace': 3022, 'curation': 1611, 'cryptoart': 1606, 'hopes': 2524, 'ada': 704, '1ecd': 361, '0001f370': 35, 'oyiri': 3444, 'nna': 3299, 'yamummy': 4960, 'siblings': 4101, 'pyjamas': 3707, 'nightwears': 3295, 'ooo': 3387, 'poet': 3573, 'laureate': 2859, 'esther': 1978, 'phillips': 3523, 'activist': 695, 'comissiong': 1438, 'author': 935, 'alexander': 765, 'downes': 1852, 'uganda': 4663, 'joint': 2754, 'drc': 1858, 'adf': 714, 'consumers': 1502, 'denied': 1719, 'rental': 3829, 'refunds': 3796, 'daw': 1661, 'checkout': 1359, 'storyline': 4301, '25b6': 402, 'tg': 4457, 'ann': 818, 'medium': 3085, 'gamefi': 2242, 'cz_binance': 1628, 'nftgaming': 3285, '0001f4e9': 105, '0001f42d': 59, 'forfantasy': 2185, 'sf9': 4051, 'sf9_trauma': 4052, 'youngbin': 4979, 'inseong': 2658, 'jaeyoon': 2721, 'dawon': 1663, 'rowoon': 3915, 'zuho': 4997, 'yootaeyang': 4974, 'hwiyoung': 2566, 'chani': 1345, '_fanclub': 629, 'isles': 2704, 'aberdeen': 657, 'overhaul': 3432, '_updates': 650, 'haul': 2424, 'operation': 3395, 'carding': 1284, 'europeans': 1987, '40m': 490, '_peaty': 640, 'front': 2215, 'outspoken': 3427, 'narky': 3233, 'amazonispring': 791, 'ph100': 3521, 'ph': 3520, 'osmosis': 3416, 'ro': 3890, 'filtration': 2120, 'gpd': 2327, 'flow': 2155, 'waste': 4827, 'alkaline': 769, 'remineralization': 3823, 'filters': 2119, '271': 419, '65': 554, 'discount': 1789, '34': 476, 'boss': 1149, 'effectiveness': 1913, 'followforfollow': 2170, 'monthsarry': 3182, 'donbelle': 1834, 'donnypangilinan': 1839, 'bellemariano': 1056, 'nelson': 3265, 'confirms': 1483, 'romance': 3905, 'leigh': 2898, 'anne': 822, 'pinnock': 3541, 'lucien': 2998, 'laviscount': 2862, '98': 617, 'doorstep': 1843, 'enabling': 1939, 'smoother': 4163, 'rural': 3929, 'womenempowerment': 4911, 'hon': 2516, 'shri': 4099, 'financialfreedom': 2126, 'nowplaying': 3325, '266b': 411, 'np': 3326, '87': 597, '7fm': 581, '11a': 330, 'kappa': 2788, 'tattoo': 4419, 'benzema': 1063, 'npg': 3327, 'p90': 3447, 'itl': 2713, '4221': 492, '1711': 351, '1614': 347, '0320': 228, '96all': 616, 'timer': 4523, 'kisses': 2822, 'highkey': 2482, 'riku': 3882, 'cutscenes': 1621, 'gday': 2252, 'mommom': 3173, 'compatriots': 1457, 'perplexing': 3512, 'awe': 951, 'photos': 3526, '37th': 481, 'festival': 2103, 'trees': 4602, 'indiana': 2638, 'vanishes': 4743, 'diego': 1764, 'mysterious': 3220, 'circumstances': 1388, 'tabled': 4394, 'cabinet': 1246, 'approval': 865, 'finance': 2124, 'globalnews': 2293, 'news1': 3278, 'p6a': 3446, 'silicon': 4114, 'valley': 4740, 'tradition': 4576, 'cismen': 1389, 'torch': 4555, 'brahmin': 1164, 'jack': 2719, 'dorsey': 1845, 'parag': 3461, 'agarwal': 738, 'caste': 1298, 'casteintech': 1299, 'annaya': 820, 'independence': 2634, 'unpopular': 4700, 'overrated': 3433, 'mindfulness': 3136, 'beginners': 1042, 'ep120': 1966, 'podcasts': 3569, 'podnation': 3571, 'podernfamily': 3570, 'rtitbot': 3919, 'blogdreamrt': 1122, 'bblogrt': 1013, '_rt': 642, '_rtsclick': 643, 'cheer': 1361, 'trolling': 4617, 'clap': 1396, 'deed': 1695, 'wtff': 4945, 'ivybridge': 2717, 'match': 3058, 'returned': 3861, 'email': 1926, 'inbox': 2620, 'overspill': 3435, 'resolved': 3844, 'scorer': 3980, 'ollie': 3370, 'aplin': 847, 'sope': 4196, 'en': 1938, 'niversary': 3297, 'engenes': 1948, 'ikk': 2596, 'thriller': 4507, 'activities': 696, 'babu': 973, 'tamizh': 4411, '92': 611, '62': 551, '92k': 612, 'dai': 1640, '74': 571, '130': 338, '03': 221, '124': 336, '93': 613, 'rockets': 3898, 'players': 3556, 'kevin': 2801, 'porter': 3591, 'rebound': 3777, 'triple': 4614, 'modric': 3168, 'jorginho': 2762, 'trophies': 4618, 'criteria': 1595, 'des': 1728, 'longs': 2971, 'dirait': 1777, 'lections': 2885, 'pr': 3612, 'sidentielles': 4104, 'fume': 2225, 'size': 4135, '38ratio': 482, '1moq': 362, '56pcs': 530, 'hyper': 2567, 'flex': 2147, 'denims': 1720, 'styles': 4329, 'torn': 4557, 'washing': 4823, 'guarantymust': 2357, 'mitee': 3159, 'mens': 3097, 'boutique': 1157, 'spring': 4231, 'suffice': 4346, '0001f972': 196, '6211': 552, '5011': 511, '81ea': 587, '5bb6': 538, '7684': 575, '65b9': 558, '5de5': 540, '3002': 441, '65e5': 559, '65b0': 557, '7586': 574, '539f': 522, '51fa': 515, '52d9': 519, '4eba': 506, '54e1': 525, '8cb7': 604, '99c1': 620, '65a5': 556, '5f37': 542, '8feb': 605, '52de': 520, '52d5': 518, '5c08': 539, '5834': 534, '6703': 561, '4e0a': 504, '3001': 440, '696d': 564, 'formula': 2193, 'variety': 4745, 'hehe': 2453, 'del': 1707, 'barcelona': 1001, 'hip': 2490, 'hips': 2491, '0001f48c': 78, 'edit': 1908, '0001f497': 85, 'hu': 2547, 'tao': 4413, 'crit': 1594, 'mi6': 3120, 'warns': 4821, 'debt': 1682, 'traps': 4591, 'lee': 2888, 'cristiano': 1593, 'ronaldo': 3908, 'player': 3555, 'priest': 3639, 'unit': 4691, 'peaches': 3492, 'ce74': 1316, 'smiling': 4158, 'vegas': 4747, 'smartnews': 4155, 'cosplay': 1541, 'noctis': 3303, 'lucis': 2999, 'caelum': 1247, '_dell': 627, '_seven': 644, 'finalfantasy': 2121, 'finalfantasyxv': 2122, 'squareenix': 4238, 'harrdysandhuin83waah': 2417, 'yrr': 4988, 'saar': 3934, 'ka': 2782, 'ichen': 2572, 'kwok': 2838, 'rumors': 3925, 'mislead': 3152, 'invites': 2692, 'proposals': 3669, 'collaborative': 1424, 'groups': 2350, 'pursue': 3699, 'inter': 2670, 'africa': 734, 'cartoon': 1292, 'rex': 3875, 'nudges': 3331, '0001f938': 191, '0001f942': 192, 'wished': 4897, 'followback': 2166, '0001f6a9': 168, 'javid': 2731, 'persuades': 3519, 'craig': 1575, 'jab': 2718, 'evry': 2002, 'clocking': 1408, '_bjp': 624, '843': 593, '0001f4c9': 102, 'giant': 2275, 'yielding': 4970, 'hirst': 2493, 'minted': 3147, 'drake': 1857, 'designed': 1734, 'artnet': 894, 'review': 3871, 'mps': 3201, '81': 586, 'nayoung': 3246, 'dayyyyy': 1666, 'shara': 4058, 'raqeshbapat': 3745, 'shamitashetty': 4056, '_gamefi': 630, 'bscstation': 1191, 'dec': 1684, '231a': 394, 'tba': 4424, 'mins': 3146, 'vesting': 4753, '0001f4c3': 99, 'whitelist': 4877, '2139': 388, 'shotgungold': 4089, 'nugget': 3332, 'implies': 2612, 'tight': 4518, 'fisted': 2139, 'mineralisation': 3139, 'bulk': 1202, 'tonnage': 4550, 'stripping': 4311, 'costs': 1543, 'tnrgold': 4532, 'tnr': 4531, 'trrxf': 4620, 'bored': 1144, 'qrt': 3711, 'feast': 2084, 'apostle': 849, 'martyr': 3047, 'crucified': 1600, '6thc': 566, 'hagustaldes': 2378, 'ham': 2384, 'hexham': 2471, 'cennr': 1325, 'gmonaid': 2299, 'dedicated': 1694, '8thc': 607, 'tower': 4567, 'nuto': 3335, '555': 528, 'tuna': 4638, 'calculus': 1251, 'vaccination': 4737, 'infected': 2644, 'unvaccinated': 4703, 'vaccinated': 4736, 'administration': 717, 'reinstate': 3806, 'mexico': 3117, 'realnlife': 3774, '110': 327, 'twitterceo': 4654, 'hired': 2492, 'paragagarwal': 3462, 'positiveness': 3597, 'shortening': 4086, 'assessment': 911, '2026': 382, 'bryan': 1189, '15th': 345, 'becoming': 1032, 'fab': 2039, 'poppy': 3587, 'brink': 1176, 'apparent': 852, 'sloppiness': 4148, 'desperation': 1739, 'governments': 2324, 'winding': 4892, 'bedroom': 1035, '2001': 367, 'cinematographer': 1386, 'antonio': 837, 'calvacheaspect': 1258, '1director': 360, 'todd': 4535, 'field': 2109, 'ballond': 989, 'orski': 3412, '711929hash': 569, '009dbe7507be578f122d7391b1755cfb4daf9a1563b8ebsize': 213, '07mb': 313, '193051': 356, '121segwit': 335, '304': 446, '440': 496, '45out': 499, '847': 594, '504': 512, '171': 350, 'advance': 724, 'technical': 4436, 'compares': 1455, 'forex': 2184, 'financialmarkets': 2127, 'dgm': 1754, 'doritos': 1844, 'tasteless': 4417, 'congratulate': 1487, 'toro': 4558, '1year': 364, 'bic': 1082, 'favourite': 2078, 'pie': 3534, 'rawwshee': 3756, 'wifey': 4888, 'cheers': 1362, 'blessings': 1116, '3onecheerful': 484, 'tracks': 4572, 'cef4': 1317, 'bc31': 1015, 'mana': 3032, 'wakura': 4803, 'onsen': 3385, 'musume': 3215, 'north': 3314, 'border': 1143, 'iphone': 2696, 'apple': 856, '0001f5dd': 120, 'journey': 2766, 'alonehappy': 778, '_glynispeters_': 631, 'theredcrossorphans': 4479, 'nasiba': 3238, 'feed': 2088, '0001f92f': 189, '270a': 417, 'seungmin': 4043, 'pmaccept': 3567, 'julia': 2773, 'gillard': 2277, 'backs': 979, 'jenkins': 2736, 'politician': 3581, 'conduct': 1475, 'triggered': 4612, 'brittany': 1178, 'higgins': 2478, 'revelations': 3868, 'organized': 3410, 'jjk': 2744, 'gratitude': 2335, 'ptd_on_stage_la': 3685, '0001f3a4': 46, 'singforjungkook': 4124, 'doja': 1824, 'bath': 1010, 'gubment': 2360, 'sshhhh': 4240, 'marxist': 3049, 'ssshhh': 4242, 'albert': 760, 'einsteinonecheerful': 1919, 'smm': 4160, 'employees': 1936, 'weshare': 4858, 'presents': 3625, 'solim': 4175, 'compensation': 1458, 'wib': 4885, 'barcode': 1002, 'smmtechconnect': 4161, 'meat': 3079, 'magician': 3014, 'ik': 2595, 'nashita': 3236, 'mbedzi': 3070, 'neighbour': 3261, 'flavio': 2146, 'hlabangwane': 2500, 'edited': 1909, 'recap': 3778, 'bulls': 1207, '133': 339, 'hornets': 2526, '119': 329, 'samidoh': 3953, 'edday': 1905, 'jamming': 2725, 'niko': 3296, 'reacting': 3762, 'uzuri': 4733, 'unaweza': 4671, 'kuwa': 2836, 'ukitaka': 4667, 'alienda': 767, 'ukakuwa': 4666, 'tukonews': 4636, 'sila': 4111, 'sunghoon': 4357, 'introvert': 2684, 'jay': 2733, 'jake': 2723, 'settle': 4041, 'definitive': 1705, 'contrarian': 1516, '1931': 357, '1982': 358, 'detailed': 1745, 'cemetery': 1324, 'occasion': 3344, 'sooo': 4194, 'tuesnews': 4635, 'reads': 3765, 'luvs': 3004, 'lily': 2933, '0001f4da': 104, '0001f384': 39, 'meme': 3092, 'underrated': 4676, '00360814litecoin': 212, '577': 532, '866': 596, '1155': 328, '1444': 342, '3611': 480, 'bestie': 1069, '0001f49d': 90, 'raid': 3735, 'dwyryd': 1887, 'kennels': 2798, 'investigators': 2689, 'paul': 3485, 'tillsley': 4521, 'conservation': 1494, '0001f9da': 202, '0001f3ff': 57, '0001f331': 28, '0001f36d': 34, '0001f489': 76, '0001f3f9': 52, '0001f962': 194, '0001f9f9': 204, '0001f54a': 116, 'cap': 1273, 'math': 3061, 'contest': 1510, 'contestalert': 1511, 'cosmetics': 1540, 'makeuptutorialget': 3025, 'mac': 3007, 'design': 1733, 'production': 3655, 'clean': 1400, 'atlanta': 920, 'greetings': 2342, 'dominated': 1829, 'fool': 2173, '0001f338': 30, 'rola': 3902, '2600': 404, '0001f340': 32, '0001f61a': 144, '0001f3b6': 47, 'yuka': 4991, 'waku': 4802, 'doki': 1825, '2763': 424, '0001f48b': 77, '0001f470': 72, '20e3': 386, '78': 577, 'gray': 2337, 'qpr': 3710, 'pusb': 3700, 'pss': 3683, '0001f537': 114, 'gallery': 2240, '247': 398, '0001f5de': 121, '0001f6a8': 167, '03c9': 259, '03bd': 253, '03bb': 252, '03b7': 249, '03c1': 255, '03bf': 254, '03c2': 256, '03c5': 257, '03cc': 260, '03ba': 251, '03b9': 250, '03ce': 261, 'se': 3987, '03ae': 248, '03ad': 247, 'et': 1979, '03c7': 258, 'da': 1638, 'purchasing': 3695, 'gdhi': 2253, 'consumption': 1503, 'q3': 3708, 'corporations': 1534, 'taylor': 4423, 'bgsg': 1078, 'texts': 4456, 'documents': 1815, 'crackdown': 1573, 'uyghur': 4732, '0648': 303, '0631': 296, '0647': 302, '064a': 304, '062a': 292, '062c': 293, '062f': 295, '06a9': 307, '06be': 309, '06c1': 310, '0645': 300, '067e': 306, '06cc': 311, '0644': 299, '0632': 297, '0679': 305, '06ba': 308, 'discusses': 1790, 'adapt': 706, 'spy': 4235, 'ritsu': 3886, 'nsx': 3329, 'attractive': 930, 'blasts': 1114, 'headline': 2434, 'washington': 4824, 'expenditure': 2020, 'osei': 3415, 'assibey': 912, '0001f6d2': 171, '0001f1f7': 22, 'russian': 3932, '320': 474, '270c': 418, 'strictly': 4309, 'donald': 1831, 'usage': 4721, 'info': 2647, 'mason': 3053, 'bruno': 1185, 'exclusively': 2011, 'agriculture': 744, 'gdp': 2254, 'quantity': 3713, 'force': 2177, 'captain': 1279, '0001f31f': 27, 'remote': 3825, 'proteins': 3675, 'promote': 3665, 'programs': 3661, 'listening': 2943, 'sector': 3996, 'bid': 1083, 'woozi': 4918, 'semoga': 4015, '0001f351': 33, '_official': 639, '0001f1f3': 21, 'evening': 1990, '2800': 428, 'fe4b': 2082, '29th': 431, 'jeno': 2737, 'invest': 2686, 'slutty': 4151, 'historic': 2496, '18th': 354, 'nftcollector': 3283, 'shout': 4093, 'ave': 942, 'ny': 3339, 'tips': 4526, 'tipster': 4527, 'bets': 1073, 'freetips': 2207, 'sportsbetting': 4226, 'betting': 1075, 'inplay': 2656, 'copyright': 1529, 'syndicated': 4390, 'url': 4718, 'amazingly': 790, 'harrdysandhuin83': 2416, 'shocking': 4076, '0001f647': 162, '304a': 448, '3044': 447, '307e': 452, '3059': 449, '672c': 562, '306e': 451, '3081': 453, 'hkt48': 2499, '66f2': 560, '3092': 455, '308b': 454, '306b': 450, '83dc': 592, '1618': 348, 'products': 3656, 'cheese': 1363, 'liquidation': 2939, 'yelling': 4966, 'rewards': 3874, 'properly': 3668, 'ice': 2570, 'sillett': 4115, 'debut': 1683, '0001f380': 36, 'saudi': 3961, 'massage': 3055, '0001f4af': 94, 'dividend': 1806, 'robin': 3896, 'wwe': 4947, 'julie': 2774, '0001f9e1': 203, 'toe': 4536, 'op': 3389, 'chen': 1365, 'restaurant': 3854, 'macbook': 3008, 'pro': 3647, 'began': 1039, 'baseball': 1005, 'c2a4': 1228, 'c5d0': 1230, 'c11c': 1225, 'ad6c': 703, 'ac00': 669, 'd574': 1634, '0001f3a1': 45, '0001f3a0': 44, 'celebration': 1321, 'b9e4': 969, 'bdd4': 1019, 'c8fc': 1244, 'cd95': 1314, 'b2e4': 961, 'conservative': 1495, '0941': 318, 'nepse': 3267, 'secondary': 3993, 'ethical': 1983, 'autistic': 937, '353': 478, 'flying': 2158, 'p2e': 3445, 'c131': 1226, 'c6b0': 1233, '0001d642': 12, '0001d651': 18, '0001d640': 11, '0001d63c': 10, '0001d654': 19, '0001d650': 17, '0001d649': 14, '0001d643': 13, '0001d64a': 15, 'd6c8': 1636, 'persons': 3517, 'saltire': 3950, 'becoz': 1033, 'meld': 3088, 'declaration': 1692, 'lights': 2927, '0001d64d': 16, 'teams': 4432, 'disrupt': 1802, 'kejriwal': 2797, 'flights': 2149, 'tsla': 4633, 'je': 2734, 'suis': 4354, 'freemasonry': 2206, 'ac04': 670, 'b3c4': 964, 'c740': 1236, '3137': 469, 'c900': 1245, 'b294': 960, 'c694': 1232, 'bd84': 1017, 'b4dc': 966, 'ac8c': 671, 'nutty': 3336, 'cranberry': 1576, 'bulgar': 1201, 'zkswap': 4995, 'zks': 4994, 'endsbot': 1945, 'airdropinspector': 751, '5000': 510, '0001f60b': 133, 'iconic': 2573, '0001f308': 25, 'racoon': 3733, 'oasis': 3340, 'holdings': 2505, 'que': 3716, 'el': 1921, 'earth': 1895, 'aku': 757, 'bnb': 1127, 'updf': 4708, 'deserved': 1731, 'detection': 1747, 'compartment': 1456, '5k': 543, 'assists': 914, 'romania': 3906, 'superbly': 4360, 'awesome': 952, 'saintandrewsday': 3946, 'roger': 3901, 'glover': 2297, 'bassist': 1009, 'synonymous': 4391, 'substitution': 4333, 'sequences': 4029, 'vivm': 4782, 'starts': 4261, 'equal': 1970, 'warmest': 4818, 'hanukkah': 2394, 'd2b8': 1630, 'c885': 1243, '0001f44a': 65, '0001f1e7': 20, '0001f39f': 43, 'oxford': 3442, 'comeback': 1432, 'anniv': 823, '0001f4c5': 100, 'ability': 658, 'stman': 4285, 'azure': 957, '0001f924': 182, 'iceland': 2571, 'kirkcaldy': 2820, 'mon': 3175, 'div': 1804, 'ffo': 2107, 'sn277': 4164, 'brussels': 1186, 'ratios': 3753, 'gamma': 2246, 'network': 3274, 'leos': 2899, 'wakes': 4800, 'hill': 2485, 'packed': 3449, 'areas': 875, 'genius': 2261, 'sitala': 4133, 'd0c8': 1629, 'b77c': 967, '3164': 471, 'shopping': 4082, 'goods': 2313, 'amounted': 801, 'isk': 2702, 'fob': 2161, 'cif': 1385, 'seychelles': 4050, 'essays': 1974, 'hair': 2381, 'aquaculture': 868, '3030': 445, 'artwork': 895, 'shop': 4081, 'metagirl': 3111, 'girlstory': 2281, '0001f50a': 107, 'awardsmore': 947, 'ratiobetter': 3752, 'kfc': 2803, 'bucket': 1197, 'treasure': 4597, 'vis': 4775, 'adventure': 726, '0001d468': 2, '0001d47b': 9, '0001d46c': 4, '0001d46d': 5, '0001d475': 7, '0001d47a': 8, '0001d46a': 3, '0001d472': 6}\n"
     ]
    }
   ],
   "source": [
    "#The below syntax to see the vocabulary that it has learned from the corpus\n",
    "\n",
    "print(vector.vocabulary_)\n"
   ]
  },
  {
   "cell_type": "markdown",
   "metadata": {},
   "source": [
    "# SVM "
   ]
  },
  {
   "cell_type": "code",
   "execution_count": 24,
   "metadata": {},
   "outputs": [],
   "source": [
    "# Classifier - Algorithm - SVM\n",
    "#Instancier un SVM linéaire sur les données\n",
    "#SVM = svm.SVC(C=1.0, kernel='linear', degree=3, gamma='auto')\n",
    "#SVM.fit(Test_X_Tfidf,Train_Y)\n",
    "# predict the labels on validation dataset\n",
    "#predictions_SVM = SVM.predict(Test_X_Tfidf)\n",
    "# Use accuracy_score function to get the accuracy\n",
    "#print(\"SVM Accuracy Score -> \",accuracy_score(predictions_SVM, Test_Y))\n"
   ]
  },
  {
   "cell_type": "code",
   "execution_count": 25,
   "metadata": {},
   "outputs": [
    {
     "name": "stdout",
     "output_type": "stream",
     "text": [
      "Binary classification-----\n",
      "confusion matrice [[1219    9]\n",
      " [  12 1216]]\n",
      "              precision    recall  f1-score   support\n",
      "\n",
      "       False       0.99      0.99      0.99      1228\n",
      "        True       0.99      0.99      0.99      1228\n",
      "\n",
      "    accuracy                           0.99      2456\n",
      "   macro avg       0.99      0.99      0.99      2456\n",
      "weighted avg       0.99      0.99      0.99      2456\n",
      "\n"
     ]
    }
   ],
   "source": [
    "from sklearn.model_selection import cross_val_score, cross_val_predict\n",
    "from sklearn.model_selection import KFold\n",
    "from sklearn.metrics import classification_report\n",
    "from sklearn.metrics import confusion_matrix\n",
    "modelSVM=svm.SVC(kernel='linear',gamma='auto')\n",
    "modelSVM.fit(XSVM,ySVM)\n",
    "y_predSVM = cross_val_predict(modelSVM, XSVM, ySVM, cv=5)\n",
    "cm = confusion_matrix(ySVM, y_predSVM)\n",
    "print(\"Binary classification-----\")\n",
    "recall = np.diag(cm) / np.sum(cm, axis=1)\n",
    "precision = np.diag(cm) / np.sum(cm, axis=0)\n",
    "\n",
    "print(\"confusion matrice\" , cm)\n",
    "\n",
    "        \n",
    "print(classification_report(ySVM, y_predSVM))"
   ]
  },
  {
   "cell_type": "code",
   "execution_count": 26,
   "metadata": {},
   "outputs": [
    {
     "data": {
      "text/plain": [
       "0.9914495114006515"
      ]
     },
     "execution_count": 26,
     "metadata": {},
     "output_type": "execute_result"
    }
   ],
   "source": [
    "accuracy_score(ySVM,y_predSVM)"
   ]
  },
  {
   "cell_type": "markdown",
   "metadata": {},
   "source": [
    "# Matrice de confusion"
   ]
  },
  {
   "cell_type": "code",
   "execution_count": 27,
   "metadata": {},
   "outputs": [],
   "source": [
    "#pip install mlxtend\n"
   ]
  },
  {
   "cell_type": "code",
   "execution_count": 28,
   "metadata": {},
   "outputs": [
    {
     "data": {
      "image/png": "[encoded data removed]",
      "text/plain": [
       "<Figure size 432x288 with 1 Axes>"
      ]
     },
     "metadata": {
      "needs_background": "light"
     },
     "output_type": "display_data"
    }
   ],
   "source": [
    "import matplotlib.pyplot as plt\n",
    "from mlxtend.evaluate import confusion_matrix\n",
    "from mlxtend.plotting import plot_confusion_matrix\n",
    "\n",
    "fig, ax = plot_confusion_matrix(conf_mat=cm)\n",
    "plt.show()"
   ]
  },
  {
   "cell_type": "markdown",
   "metadata": {},
   "source": [
    "# Random-Forest"
   ]
  },
  {
   "cell_type": "code",
   "execution_count": 29,
   "metadata": {},
   "outputs": [],
   "source": [
    "yRF=Corpus['suicide']\n",
    "XRF=Corpus['texte']"
   ]
  },
  {
   "cell_type": "code",
   "execution_count": 30,
   "metadata": {},
   "outputs": [],
   "source": [
    "#These will now contain for each row a list of unique integer number and its associated importance \n",
    "#as calculated by TF-IDF.\n",
    "vectorRF = TfidfVectorizer(max_features=5000) #Their will be maximum of 5000 unique words/features as we have set parameter max_features=5000.\n",
    "XRF=vectorRF.fit_transform(XRF)"
   ]
  },
  {
   "cell_type": "code",
   "execution_count": 31,
   "metadata": {},
   "outputs": [
    {
     "name": "stdout",
     "output_type": "stream",
     "text": [
      "Binary classification-----\n",
      "confusion matrice [[1202   26]\n",
      " [   6 1222]]\n",
      "              precision    recall  f1-score   support\n",
      "\n",
      "       False       1.00      0.98      0.99      1228\n",
      "        True       0.98      1.00      0.99      1228\n",
      "\n",
      "    accuracy                           0.99      2456\n",
      "   macro avg       0.99      0.99      0.99      2456\n",
      "weighted avg       0.99      0.99      0.99      2456\n",
      "\n"
     ]
    }
   ],
   "source": [
    "\n",
    "from sklearn.ensemble import RandomForestClassifier\n",
    "\n",
    "modelRF=RandomForestClassifier(n_estimators=500)\n",
    "modelRF.fit(XRF,yRF)\n",
    "y_predRF = cross_val_predict(modelRF, XRF, yRF, cv=5)\n",
    "print(\"Binary classification-----\")\n",
    "cm = confusion_matrix(yRF, y_predRF)\n",
    "recall = np.diag(cm) / np.sum(cm, axis=1)\n",
    "precision = np.diag(cm) / np.sum(cm, axis=0)\n",
    "\n",
    "print(\"confusion matrice\" , cm)\n",
    "\n",
    "        \n",
    "print(classification_report(yRF, y_predRF))\n"
   ]
  },
  {
   "cell_type": "code",
   "execution_count": null,
   "metadata": {},
   "outputs": [],
   "source": [
    "import matplotlib.pyplot as plt\n",
    "from mlxtend.evaluate import confusion_matrix\n",
    "from mlxtend.plotting import plot_confusion_matrix\n",
    "\n",
    "fig, ax = plot_confusion_matrix(conf_mat=cm)\n",
    "plt.show()"
   ]
  }
 ],
 "metadata": {
  "kernelspec": {
   "display_name": "Python 3",
   "language": "python",
   "name": "python3"
  },
  "language_info": {
   "codemirror_mode": {
    "name": "ipython",
    "version": 3
   },
   "file_extension": ".py",
   "mimetype": "text/x-python",
   "name": "python",
   "nbconvert_exporter": "python",
   "pygments_lexer": "ipython3",
   "version": "3.8.3"
  }
 },
 "nbformat": 4,
 "nbformat_minor": 4
}
