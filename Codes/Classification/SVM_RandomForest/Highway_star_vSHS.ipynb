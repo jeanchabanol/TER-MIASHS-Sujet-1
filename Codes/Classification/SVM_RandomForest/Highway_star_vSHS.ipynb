{
 "cells": [
  {
   "cell_type": "markdown",
   "metadata": {
    "id": "xGh2H5qdMRlR"
   },
   "source": [
    "#General informations\n"
   ]
  },
  {
   "cell_type": "markdown",
   "metadata": {
    "id": "ohKgtoSQMWK0"
   },
   "source": [
    "You can use a modifiable version of this code by going to folder/save a copy in the drive\n",
    "\n",
    "---\n",
    "\n",
    "Each **code blocks** or **code line** begins with its functionality and two parameters :\n",
    "\n",
    "*   *User interaction* : **AUTO** = **DO NOT TOUCH THE CONTENT** / **MANU** = some parameters might be manually modified, by default, the code is functional.\n",
    "\n",
    "*   *Importance of the block* : **NECESSARY** = the block must be run at least once for the analysis to success / **OPTIONAL** = no need to run the block\n",
    "\n",
    "Sometime, within a code block, some options are deactivated by default and can be reactivated by the user if requiered.\n",
    "\n",
    "---\n",
    "\n",
    "**Interesting links**\n",
    "\n",
    "Github : https://github.com/matheo-daly/highway_star \n",
    "\n",
    "Pypi : https://pypi.org/project/highway-star/\n",
    "\n",
    "Version Mathéo 1 : https://colab.research.google.com/github/matheo-daly/highway_star/blob/main/highway_star_demo.ipynb\n",
    "\n",
    "Version Mathéo 2 (english support) : https://colab.research.google.com/drive/1kXIZmzZ1ctKaL8ET7G9a5R31DYz4rp5E?usp=sharing\n",
    "\n",
    "Version Mathéo 3 (Une fonction à run) : https://colab.research.google.com/drive/1mi9-uGGTuYy9CNwWS64vYX_Cve2uxMJa#scrollTo=B0S_v5LUOrPi"
   ]
  },
  {
   "cell_type": "markdown",
   "metadata": {
    "id": "29usDP_0MMGJ"
   },
   "source": [
    "#Import"
   ]
  },
  {
   "cell_type": "markdown",
   "metadata": {
    "id": "cfQ-izkmRXKA"
   },
   "source": [
    "Must be run once at the begining of each session"
   ]
  },
  {
   "cell_type": "code",
   "execution_count": 1,
   "metadata": {
    "colab": {
     "base_uri": "https://localhost:8080/",
     "height": 1000
    },
    "id": "u2smpbC-L-KN",
    "outputId": "3fb4f781-efaf-4c2b-ca52-eafec76bcc3b"
   },
   "outputs": [
    {
     "name": "stdout",
     "output_type": "stream",
     "text": [
      "Requirement already satisfied: highway-star in /Users/Aname/opt/anaconda3/lib/python3.8/site-packages (0.0.8.1)\n",
      "Requirement already satisfied: rich~=10.1.0 in /Users/Aname/opt/anaconda3/lib/python3.8/site-packages (from highway-star) (10.1.0)\n",
      "Requirement already satisfied: SPARQLWrapper~=1.8.5 in /Users/Aname/opt/anaconda3/lib/python3.8/site-packages (from highway-star) (1.8.5)\n",
      "Requirement already satisfied: nltk~=3.6.2 in /Users/Aname/opt/anaconda3/lib/python3.8/site-packages (from highway-star) (3.6.5)\n",
      "Requirement already satisfied: spacy~=3.0.6 in /Users/Aname/opt/anaconda3/lib/python3.8/site-packages (from highway-star) (3.0.7)\n",
      "Requirement already satisfied: requests~=2.25.1 in /Users/Aname/opt/anaconda3/lib/python3.8/site-packages (from highway-star) (2.25.1)\n",
      "Requirement already satisfied: regex in /Users/Aname/opt/anaconda3/lib/python3.8/site-packages (from highway-star) (2020.6.8)\n",
      "Requirement already satisfied: gensim~=4.0.1 in /Users/Aname/opt/anaconda3/lib/python3.8/site-packages (from highway-star) (4.0.1)\n",
      "Requirement already satisfied: setuptools~=56.0.0 in /Users/Aname/opt/anaconda3/lib/python3.8/site-packages (from highway-star) (56.0.0)\n",
      "Requirement already satisfied: beautifulsoup4~=4.9.3 in /Users/Aname/opt/anaconda3/lib/python3.8/site-packages (from highway-star) (4.9.3)\n",
      "Requirement already satisfied: prefixspan~=0.5.2 in /Users/Aname/opt/anaconda3/lib/python3.8/site-packages (from highway-star) (0.5.2)\n",
      "Requirement already satisfied: pandas~=1.2.4 in /Users/Aname/opt/anaconda3/lib/python3.8/site-packages (from highway-star) (1.2.5)\n",
      "Requirement already satisfied: commonmark<0.10.0,>=0.9.0 in /Users/Aname/opt/anaconda3/lib/python3.8/site-packages (from rich~=10.1.0->highway-star) (0.9.1)\n",
      "Requirement already satisfied: typing-extensions<4.0.0,>=3.7.4 in /Users/Aname/opt/anaconda3/lib/python3.8/site-packages (from rich~=10.1.0->highway-star) (3.10.0.2)\n",
      "Requirement already satisfied: colorama<0.5.0,>=0.4.0 in /Users/Aname/opt/anaconda3/lib/python3.8/site-packages (from rich~=10.1.0->highway-star) (0.4.3)\n",
      "Requirement already satisfied: pygments<3.0.0,>=2.6.0 in /Users/Aname/opt/anaconda3/lib/python3.8/site-packages (from rich~=10.1.0->highway-star) (2.6.1)\n",
      "Requirement already satisfied: rdflib>=4.0 in /Users/Aname/opt/anaconda3/lib/python3.8/site-packages (from SPARQLWrapper~=1.8.5->highway-star) (6.0.2)\n",
      "Requirement already satisfied: joblib in /Users/Aname/opt/anaconda3/lib/python3.8/site-packages (from nltk~=3.6.2->highway-star) (0.16.0)\n",
      "Requirement already satisfied: tqdm in /Users/Aname/opt/anaconda3/lib/python3.8/site-packages (from nltk~=3.6.2->highway-star) (4.47.0)\n",
      "Requirement already satisfied: click in /Users/Aname/opt/anaconda3/lib/python3.8/site-packages (from nltk~=3.6.2->highway-star) (7.1.2)\n",
      "Requirement already satisfied: numpy>=1.15.0 in /Users/Aname/opt/anaconda3/lib/python3.8/site-packages (from spacy~=3.0.6->highway-star) (1.18.5)\n",
      "Requirement already satisfied: blis<0.8.0,>=0.4.0 in /Users/Aname/opt/anaconda3/lib/python3.8/site-packages (from spacy~=3.0.6->highway-star) (0.7.5)\n",
      "Requirement already satisfied: packaging>=20.0 in /Users/Aname/opt/anaconda3/lib/python3.8/site-packages (from spacy~=3.0.6->highway-star) (20.4)\n",
      "Requirement already satisfied: pydantic!=1.8,!=1.8.1,<1.9.0,>=1.7.4 in /Users/Aname/opt/anaconda3/lib/python3.8/site-packages (from spacy~=3.0.6->highway-star) (1.8.2)\n",
      "Requirement already satisfied: srsly<3.0.0,>=2.4.1 in /Users/Aname/opt/anaconda3/lib/python3.8/site-packages (from spacy~=3.0.6->highway-star) (2.4.2)\n",
      "Requirement already satisfied: murmurhash<1.1.0,>=0.28.0 in /Users/Aname/opt/anaconda3/lib/python3.8/site-packages (from spacy~=3.0.6->highway-star) (1.0.6)\n",
      "Requirement already satisfied: pathy>=0.3.5 in /Users/Aname/opt/anaconda3/lib/python3.8/site-packages (from spacy~=3.0.6->highway-star) (0.6.1)\n",
      "Requirement already satisfied: wasabi<1.1.0,>=0.8.1 in /Users/Aname/opt/anaconda3/lib/python3.8/site-packages (from spacy~=3.0.6->highway-star) (0.8.2)\n",
      "Requirement already satisfied: jinja2 in /Users/Aname/opt/anaconda3/lib/python3.8/site-packages (from spacy~=3.0.6->highway-star) (2.11.2)\n",
      "Requirement already satisfied: cymem<2.1.0,>=2.0.2 in /Users/Aname/opt/anaconda3/lib/python3.8/site-packages (from spacy~=3.0.6->highway-star) (2.0.6)\n",
      "Requirement already satisfied: preshed<3.1.0,>=3.0.2 in /Users/Aname/opt/anaconda3/lib/python3.8/site-packages (from spacy~=3.0.6->highway-star) (3.0.6)\n",
      "Requirement already satisfied: thinc<8.1.0,>=8.0.3 in /Users/Aname/opt/anaconda3/lib/python3.8/site-packages (from spacy~=3.0.6->highway-star) (8.0.13)\n",
      "Requirement already satisfied: catalogue<2.1.0,>=2.0.4 in /Users/Aname/opt/anaconda3/lib/python3.8/site-packages (from spacy~=3.0.6->highway-star) (2.0.6)\n",
      "Requirement already satisfied: spacy-legacy<3.1.0,>=3.0.5 in /Users/Aname/opt/anaconda3/lib/python3.8/site-packages (from spacy~=3.0.6->highway-star) (3.0.8)\n",
      "Requirement already satisfied: typer<0.4.0,>=0.3.0 in /Users/Aname/opt/anaconda3/lib/python3.8/site-packages (from spacy~=3.0.6->highway-star) (0.3.2)\n",
      "Requirement already satisfied: urllib3<1.27,>=1.21.1 in /Users/Aname/opt/anaconda3/lib/python3.8/site-packages (from requests~=2.25.1->highway-star) (1.25.9)\n",
      "Requirement already satisfied: chardet<5,>=3.0.2 in /Users/Aname/opt/anaconda3/lib/python3.8/site-packages (from requests~=2.25.1->highway-star) (3.0.4)\n",
      "Requirement already satisfied: certifi>=2017.4.17 in /Users/Aname/opt/anaconda3/lib/python3.8/site-packages (from requests~=2.25.1->highway-star) (2020.6.20)\n",
      "Requirement already satisfied: idna<3,>=2.5 in /Users/Aname/opt/anaconda3/lib/python3.8/site-packages (from requests~=2.25.1->highway-star) (2.10)\n",
      "Requirement already satisfied: smart-open>=1.8.1 in /Users/Aname/opt/anaconda3/lib/python3.8/site-packages (from gensim~=4.0.1->highway-star) (5.2.1)\n",
      "Requirement already satisfied: scipy>=0.18.1 in /Users/Aname/opt/anaconda3/lib/python3.8/site-packages (from gensim~=4.0.1->highway-star) (1.5.0)\n",
      "Requirement already satisfied: soupsieve>1.2; python_version >= \"3.0\" in /Users/Aname/opt/anaconda3/lib/python3.8/site-packages (from beautifulsoup4~=4.9.3->highway-star) (2.0.1)\n",
      "Requirement already satisfied: docopt>=0.6.2 in /Users/Aname/opt/anaconda3/lib/python3.8/site-packages (from prefixspan~=0.5.2->highway-star) (0.6.2)\n",
      "Requirement already satisfied: extratools>=0.8.1 in /Users/Aname/opt/anaconda3/lib/python3.8/site-packages (from prefixspan~=0.5.2->highway-star) (0.8.2.1)\n",
      "Requirement already satisfied: pytz>=2017.3 in /Users/Aname/opt/anaconda3/lib/python3.8/site-packages (from pandas~=1.2.4->highway-star) (2020.1)\n",
      "Requirement already satisfied: python-dateutil>=2.7.3 in /Users/Aname/opt/anaconda3/lib/python3.8/site-packages (from pandas~=1.2.4->highway-star) (2.8.1)\n",
      "Requirement already satisfied: pyparsing in /Users/Aname/opt/anaconda3/lib/python3.8/site-packages (from rdflib>=4.0->SPARQLWrapper~=1.8.5->highway-star) (2.4.7)\n",
      "Requirement already satisfied: isodate in /Users/Aname/opt/anaconda3/lib/python3.8/site-packages (from rdflib>=4.0->SPARQLWrapper~=1.8.5->highway-star) (0.6.0)\n",
      "Requirement already satisfied: six in /Users/Aname/opt/anaconda3/lib/python3.8/site-packages (from packaging>=20.0->spacy~=3.0.6->highway-star) (1.15.0)\n",
      "Requirement already satisfied: MarkupSafe>=0.23 in /Users/Aname/opt/anaconda3/lib/python3.8/site-packages (from jinja2->spacy~=3.0.6->highway-star) (1.1.1)\n",
      "Requirement already satisfied: sortedcontainers>=1.5.10 in /Users/Aname/opt/anaconda3/lib/python3.8/site-packages (from extratools>=0.8.1->prefixspan~=0.5.2->highway-star) (2.2.2)\n",
      "Requirement already satisfied: toolz>=0.9.0 in /Users/Aname/opt/anaconda3/lib/python3.8/site-packages (from extratools>=0.8.1->prefixspan~=0.5.2->highway-star) (0.10.0)\n"
     ]
    },
    {
     "name": "stderr",
     "output_type": "stream",
     "text": [
      "/Users/Aname/opt/anaconda3/lib/python3.8/site-packages/gensim/similarities/__init__.py:15: UserWarning: The gensim.similarities.levenshtein submodule is disabled, because the optional Levenshtein package <https://pypi.org/project/python-Levenshtein/> is unavailable. Install Levenhstein (e.g. `pip install python-Levenshtein`) to suppress this warning.\n",
      "  warnings.warn(msg)\n"
     ]
    },
    {
     "name": "stdout",
     "output_type": "stream",
     "text": [
      "Processing /Users/Aname/Library/Caches/pip/wheels/d2/a3/3a/25eb47393866089ed8e4e4e11a5e142e7b029c5aa8b52464b0/fr_core_news_sm-2.0.0-py3-none-any.whl\n",
      "Requirement already satisfied: spacy>=2.0.0a19 in /Users/Aname/opt/anaconda3/lib/python3.8/site-packages (from fr_core_news_sm==2.0.0) (3.0.7)\n",
      "Requirement already satisfied: cymem<2.1.0,>=2.0.2 in /Users/Aname/opt/anaconda3/lib/python3.8/site-packages (from spacy>=2.0.0a19->fr_core_news_sm==2.0.0) (2.0.6)\n",
      "Requirement already satisfied: typer<0.4.0,>=0.3.0 in /Users/Aname/opt/anaconda3/lib/python3.8/site-packages (from spacy>=2.0.0a19->fr_core_news_sm==2.0.0) (0.3.2)\n",
      "Requirement already satisfied: tqdm<5.0.0,>=4.38.0 in /Users/Aname/opt/anaconda3/lib/python3.8/site-packages (from spacy>=2.0.0a19->fr_core_news_sm==2.0.0) (4.47.0)\n",
      "Requirement already satisfied: preshed<3.1.0,>=3.0.2 in /Users/Aname/opt/anaconda3/lib/python3.8/site-packages (from spacy>=2.0.0a19->fr_core_news_sm==2.0.0) (3.0.6)\n",
      "Requirement already satisfied: requests<3.0.0,>=2.13.0 in /Users/Aname/opt/anaconda3/lib/python3.8/site-packages (from spacy>=2.0.0a19->fr_core_news_sm==2.0.0) (2.25.1)\n",
      "Requirement already satisfied: setuptools in /Users/Aname/opt/anaconda3/lib/python3.8/site-packages (from spacy>=2.0.0a19->fr_core_news_sm==2.0.0) (56.0.0)\n",
      "Requirement already satisfied: thinc<8.1.0,>=8.0.3 in /Users/Aname/opt/anaconda3/lib/python3.8/site-packages (from spacy>=2.0.0a19->fr_core_news_sm==2.0.0) (8.0.13)\n",
      "Requirement already satisfied: jinja2 in /Users/Aname/opt/anaconda3/lib/python3.8/site-packages (from spacy>=2.0.0a19->fr_core_news_sm==2.0.0) (2.11.2)\n",
      "Requirement already satisfied: blis<0.8.0,>=0.4.0 in /Users/Aname/opt/anaconda3/lib/python3.8/site-packages (from spacy>=2.0.0a19->fr_core_news_sm==2.0.0) (0.7.5)\n",
      "Requirement already satisfied: pathy>=0.3.5 in /Users/Aname/opt/anaconda3/lib/python3.8/site-packages (from spacy>=2.0.0a19->fr_core_news_sm==2.0.0) (0.6.1)\n",
      "Requirement already satisfied: spacy-legacy<3.1.0,>=3.0.5 in /Users/Aname/opt/anaconda3/lib/python3.8/site-packages (from spacy>=2.0.0a19->fr_core_news_sm==2.0.0) (3.0.8)\n",
      "Requirement already satisfied: packaging>=20.0 in /Users/Aname/opt/anaconda3/lib/python3.8/site-packages (from spacy>=2.0.0a19->fr_core_news_sm==2.0.0) (20.4)\n",
      "Requirement already satisfied: pydantic!=1.8,!=1.8.1,<1.9.0,>=1.7.4 in /Users/Aname/opt/anaconda3/lib/python3.8/site-packages (from spacy>=2.0.0a19->fr_core_news_sm==2.0.0) (1.8.2)\n",
      "Requirement already satisfied: srsly<3.0.0,>=2.4.1 in /Users/Aname/opt/anaconda3/lib/python3.8/site-packages (from spacy>=2.0.0a19->fr_core_news_sm==2.0.0) (2.4.2)\n",
      "Requirement already satisfied: numpy>=1.15.0 in /Users/Aname/opt/anaconda3/lib/python3.8/site-packages (from spacy>=2.0.0a19->fr_core_news_sm==2.0.0) (1.18.5)\n",
      "Requirement already satisfied: wasabi<1.1.0,>=0.8.1 in /Users/Aname/opt/anaconda3/lib/python3.8/site-packages (from spacy>=2.0.0a19->fr_core_news_sm==2.0.0) (0.8.2)\n",
      "Requirement already satisfied: catalogue<2.1.0,>=2.0.4 in /Users/Aname/opt/anaconda3/lib/python3.8/site-packages (from spacy>=2.0.0a19->fr_core_news_sm==2.0.0) (2.0.6)\n",
      "Requirement already satisfied: murmurhash<1.1.0,>=0.28.0 in /Users/Aname/opt/anaconda3/lib/python3.8/site-packages (from spacy>=2.0.0a19->fr_core_news_sm==2.0.0) (1.0.6)\n",
      "Requirement already satisfied: click<7.2.0,>=7.1.1 in /Users/Aname/opt/anaconda3/lib/python3.8/site-packages (from typer<0.4.0,>=0.3.0->spacy>=2.0.0a19->fr_core_news_sm==2.0.0) (7.1.2)\n",
      "Requirement already satisfied: urllib3<1.27,>=1.21.1 in /Users/Aname/opt/anaconda3/lib/python3.8/site-packages (from requests<3.0.0,>=2.13.0->spacy>=2.0.0a19->fr_core_news_sm==2.0.0) (1.25.9)\n",
      "Requirement already satisfied: chardet<5,>=3.0.2 in /Users/Aname/opt/anaconda3/lib/python3.8/site-packages (from requests<3.0.0,>=2.13.0->spacy>=2.0.0a19->fr_core_news_sm==2.0.0) (3.0.4)\n",
      "Requirement already satisfied: certifi>=2017.4.17 in /Users/Aname/opt/anaconda3/lib/python3.8/site-packages (from requests<3.0.0,>=2.13.0->spacy>=2.0.0a19->fr_core_news_sm==2.0.0) (2020.6.20)\n",
      "Requirement already satisfied: idna<3,>=2.5 in /Users/Aname/opt/anaconda3/lib/python3.8/site-packages (from requests<3.0.0,>=2.13.0->spacy>=2.0.0a19->fr_core_news_sm==2.0.0) (2.10)\n",
      "Requirement already satisfied: MarkupSafe>=0.23 in /Users/Aname/opt/anaconda3/lib/python3.8/site-packages (from jinja2->spacy>=2.0.0a19->fr_core_news_sm==2.0.0) (1.1.1)\n",
      "Requirement already satisfied: smart-open<6.0.0,>=5.0.0 in /Users/Aname/opt/anaconda3/lib/python3.8/site-packages (from pathy>=0.3.5->spacy>=2.0.0a19->fr_core_news_sm==2.0.0) (5.2.1)\n",
      "Requirement already satisfied: six in /Users/Aname/opt/anaconda3/lib/python3.8/site-packages (from packaging>=20.0->spacy>=2.0.0a19->fr_core_news_sm==2.0.0) (1.15.0)\n",
      "Requirement already satisfied: pyparsing>=2.0.2 in /Users/Aname/opt/anaconda3/lib/python3.8/site-packages (from packaging>=20.0->spacy>=2.0.0a19->fr_core_news_sm==2.0.0) (2.4.7)\n",
      "Requirement already satisfied: typing-extensions>=3.7.4.3 in /Users/Aname/opt/anaconda3/lib/python3.8/site-packages (from pydantic!=1.8,!=1.8.1,<1.9.0,>=1.7.4->spacy>=2.0.0a19->fr_core_news_sm==2.0.0) (3.10.0.2)\n",
      "Installing collected packages: fr-core-news-sm\n",
      "  Attempting uninstall: fr-core-news-sm\n",
      "    Found existing installation: fr-core-news-sm 3.0.0\n",
      "    Uninstalling fr-core-news-sm-3.0.0:\n",
      "      Successfully uninstalled fr-core-news-sm-3.0.0\n",
      "Successfully installed fr-core-news-sm-2.0.0\n",
      "\u001b[38;5;3m⚠ As of spaCy v3.0, shortcuts like 'fr' are deprecated. Please use the\n",
      "full pipeline package name 'fr_core_news_sm' instead.\u001b[0m\n",
      "Collecting fr-core-news-sm==3.0.0\n",
      "  Downloading https://github.com/explosion/spacy-models/releases/download/fr_core_news_sm-3.0.0/fr_core_news_sm-3.0.0-py3-none-any.whl (17.2 MB)\n",
      "\u001b[K     |████████████████████████████████| 17.2 MB 3.1 MB/s eta 0:00:01\n",
      "\u001b[?25hRequirement already satisfied: spacy<3.1.0,>=3.0.0 in /Users/Aname/opt/anaconda3/lib/python3.8/site-packages (from fr-core-news-sm==3.0.0) (3.0.7)\n",
      "Requirement already satisfied: cymem<2.1.0,>=2.0.2 in /Users/Aname/opt/anaconda3/lib/python3.8/site-packages (from spacy<3.1.0,>=3.0.0->fr-core-news-sm==3.0.0) (2.0.6)\n",
      "Requirement already satisfied: blis<0.8.0,>=0.4.0 in /Users/Aname/opt/anaconda3/lib/python3.8/site-packages (from spacy<3.1.0,>=3.0.0->fr-core-news-sm==3.0.0) (0.7.5)\n",
      "Requirement already satisfied: typer<0.4.0,>=0.3.0 in /Users/Aname/opt/anaconda3/lib/python3.8/site-packages (from spacy<3.1.0,>=3.0.0->fr-core-news-sm==3.0.0) (0.3.2)\n",
      "Requirement already satisfied: pydantic!=1.8,!=1.8.1,<1.9.0,>=1.7.4 in /Users/Aname/opt/anaconda3/lib/python3.8/site-packages (from spacy<3.1.0,>=3.0.0->fr-core-news-sm==3.0.0) (1.8.2)\n",
      "Requirement already satisfied: numpy>=1.15.0 in /Users/Aname/opt/anaconda3/lib/python3.8/site-packages (from spacy<3.1.0,>=3.0.0->fr-core-news-sm==3.0.0) (1.18.5)\n",
      "Requirement already satisfied: setuptools in /Users/Aname/opt/anaconda3/lib/python3.8/site-packages (from spacy<3.1.0,>=3.0.0->fr-core-news-sm==3.0.0) (56.0.0)\n",
      "Requirement already satisfied: thinc<8.1.0,>=8.0.3 in /Users/Aname/opt/anaconda3/lib/python3.8/site-packages (from spacy<3.1.0,>=3.0.0->fr-core-news-sm==3.0.0) (8.0.13)\n",
      "Requirement already satisfied: catalogue<2.1.0,>=2.0.4 in /Users/Aname/opt/anaconda3/lib/python3.8/site-packages (from spacy<3.1.0,>=3.0.0->fr-core-news-sm==3.0.0) (2.0.6)\n",
      "Requirement already satisfied: pathy>=0.3.5 in /Users/Aname/opt/anaconda3/lib/python3.8/site-packages (from spacy<3.1.0,>=3.0.0->fr-core-news-sm==3.0.0) (0.6.1)\n",
      "Requirement already satisfied: jinja2 in /Users/Aname/opt/anaconda3/lib/python3.8/site-packages (from spacy<3.1.0,>=3.0.0->fr-core-news-sm==3.0.0) (2.11.2)\n",
      "Requirement already satisfied: srsly<3.0.0,>=2.4.1 in /Users/Aname/opt/anaconda3/lib/python3.8/site-packages (from spacy<3.1.0,>=3.0.0->fr-core-news-sm==3.0.0) (2.4.2)\n",
      "Requirement already satisfied: tqdm<5.0.0,>=4.38.0 in /Users/Aname/opt/anaconda3/lib/python3.8/site-packages (from spacy<3.1.0,>=3.0.0->fr-core-news-sm==3.0.0) (4.47.0)\n",
      "Requirement already satisfied: packaging>=20.0 in /Users/Aname/opt/anaconda3/lib/python3.8/site-packages (from spacy<3.1.0,>=3.0.0->fr-core-news-sm==3.0.0) (20.4)\n",
      "Requirement already satisfied: preshed<3.1.0,>=3.0.2 in /Users/Aname/opt/anaconda3/lib/python3.8/site-packages (from spacy<3.1.0,>=3.0.0->fr-core-news-sm==3.0.0) (3.0.6)\n",
      "Requirement already satisfied: murmurhash<1.1.0,>=0.28.0 in /Users/Aname/opt/anaconda3/lib/python3.8/site-packages (from spacy<3.1.0,>=3.0.0->fr-core-news-sm==3.0.0) (1.0.6)\n",
      "Requirement already satisfied: requests<3.0.0,>=2.13.0 in /Users/Aname/opt/anaconda3/lib/python3.8/site-packages (from spacy<3.1.0,>=3.0.0->fr-core-news-sm==3.0.0) (2.25.1)\n",
      "Requirement already satisfied: spacy-legacy<3.1.0,>=3.0.5 in /Users/Aname/opt/anaconda3/lib/python3.8/site-packages (from spacy<3.1.0,>=3.0.0->fr-core-news-sm==3.0.0) (3.0.8)\n",
      "Requirement already satisfied: wasabi<1.1.0,>=0.8.1 in /Users/Aname/opt/anaconda3/lib/python3.8/site-packages (from spacy<3.1.0,>=3.0.0->fr-core-news-sm==3.0.0) (0.8.2)\n",
      "Requirement already satisfied: click<7.2.0,>=7.1.1 in /Users/Aname/opt/anaconda3/lib/python3.8/site-packages (from typer<0.4.0,>=0.3.0->spacy<3.1.0,>=3.0.0->fr-core-news-sm==3.0.0) (7.1.2)\n",
      "Requirement already satisfied: typing-extensions>=3.7.4.3 in /Users/Aname/opt/anaconda3/lib/python3.8/site-packages (from pydantic!=1.8,!=1.8.1,<1.9.0,>=1.7.4->spacy<3.1.0,>=3.0.0->fr-core-news-sm==3.0.0) (3.10.0.2)\n",
      "Requirement already satisfied: smart-open<6.0.0,>=5.0.0 in /Users/Aname/opt/anaconda3/lib/python3.8/site-packages (from pathy>=0.3.5->spacy<3.1.0,>=3.0.0->fr-core-news-sm==3.0.0) (5.2.1)\n"
     ]
    },
    {
     "name": "stdout",
     "output_type": "stream",
     "text": [
      "Requirement already satisfied: MarkupSafe>=0.23 in /Users/Aname/opt/anaconda3/lib/python3.8/site-packages (from jinja2->spacy<3.1.0,>=3.0.0->fr-core-news-sm==3.0.0) (1.1.1)\n",
      "Requirement already satisfied: pyparsing>=2.0.2 in /Users/Aname/opt/anaconda3/lib/python3.8/site-packages (from packaging>=20.0->spacy<3.1.0,>=3.0.0->fr-core-news-sm==3.0.0) (2.4.7)\n",
      "Requirement already satisfied: six in /Users/Aname/opt/anaconda3/lib/python3.8/site-packages (from packaging>=20.0->spacy<3.1.0,>=3.0.0->fr-core-news-sm==3.0.0) (1.15.0)\n",
      "Requirement already satisfied: certifi>=2017.4.17 in /Users/Aname/opt/anaconda3/lib/python3.8/site-packages (from requests<3.0.0,>=2.13.0->spacy<3.1.0,>=3.0.0->fr-core-news-sm==3.0.0) (2020.6.20)\n",
      "Requirement already satisfied: idna<3,>=2.5 in /Users/Aname/opt/anaconda3/lib/python3.8/site-packages (from requests<3.0.0,>=2.13.0->spacy<3.1.0,>=3.0.0->fr-core-news-sm==3.0.0) (2.10)\n",
      "Requirement already satisfied: urllib3<1.27,>=1.21.1 in /Users/Aname/opt/anaconda3/lib/python3.8/site-packages (from requests<3.0.0,>=2.13.0->spacy<3.1.0,>=3.0.0->fr-core-news-sm==3.0.0) (1.25.9)\n",
      "Requirement already satisfied: chardet<5,>=3.0.2 in /Users/Aname/opt/anaconda3/lib/python3.8/site-packages (from requests<3.0.0,>=2.13.0->spacy<3.1.0,>=3.0.0->fr-core-news-sm==3.0.0) (3.0.4)\n",
      "Installing collected packages: fr-core-news-sm\n",
      "  Attempting uninstall: fr-core-news-sm\n",
      "    Found existing installation: fr-core-news-sm 2.0.0\n",
      "    Uninstalling fr-core-news-sm-2.0.0:\n",
      "      Successfully uninstalled fr-core-news-sm-2.0.0\n",
      "Successfully installed fr-core-news-sm-3.0.0\n",
      "\u001b[38;5;2m✔ Download and installation successful\u001b[0m\n",
      "You can now load the package via spacy.load('fr_core_news_sm')\n"
     ]
    },
    {
     "name": "stderr",
     "output_type": "stream",
     "text": [
      "[nltk_data] Downloading package stopwords to /Users/Aname/nltk_data...\n",
      "[nltk_data]   Package stopwords is already up-to-date!\n"
     ]
    },
    {
     "ename": "ModuleNotFoundError",
     "evalue": "No module named 'google'",
     "output_type": "error",
     "traceback": [
      "\u001b[0;31m---------------------------------------------------------------------------\u001b[0m",
      "\u001b[0;31mModuleNotFoundError\u001b[0m                       Traceback (most recent call last)",
      "\u001b[0;32m<ipython-input-1-5974e39fc56f>\u001b[0m in \u001b[0;36m<module>\u001b[0;34m\u001b[0m\n\u001b[1;32m     21\u001b[0m \u001b[0;34m\u001b[0m\u001b[0m\n\u001b[1;32m     22\u001b[0m \u001b[0;31m# colab: gestion code-interface colab (pour import/export csv)\u001b[0m\u001b[0;34m\u001b[0m\u001b[0;34m\u001b[0m\u001b[0;34m\u001b[0m\u001b[0m\n\u001b[0;32m---> 23\u001b[0;31m \u001b[0;32mfrom\u001b[0m \u001b[0mgoogle\u001b[0m\u001b[0;34m.\u001b[0m\u001b[0mcolab\u001b[0m \u001b[0;32mimport\u001b[0m \u001b[0mfiles\u001b[0m\u001b[0;34m\u001b[0m\u001b[0;34m\u001b[0m\u001b[0m\n\u001b[0m\u001b[1;32m     24\u001b[0m \u001b[0;34m\u001b[0m\u001b[0m\n\u001b[1;32m     25\u001b[0m \u001b[0;31m# import io pour transformer les .csv en string que panda peut lire\u001b[0m\u001b[0;34m\u001b[0m\u001b[0;34m\u001b[0m\u001b[0;34m\u001b[0m\u001b[0m\n",
      "\u001b[0;31mModuleNotFoundError\u001b[0m: No module named 'google'"
     ]
    }
   ],
   "source": [
    "# Import\n",
    "# |AUTO|NECESSARY|\n",
    "\n",
    "# highway-star = le code de Matéo\n",
    "!pip install highway-star\n",
    "from highway_star.preprocessing.biography_preprocessor import remove_stop_words_from_biographies\n",
    "from highway_star.preprocessing.biography_preprocessor import sent_to_words\n",
    "from highway_star.visualizing.visualizer import give_sankey_data_from_prefixspan\n",
    "from highway_star.visualizing.visualizer import sankey_diagram_with_prefixspan_output\n",
    "\n",
    "# Spacy = natural language processing ; pour lemmatisation, tout ça\n",
    "!pip install https://github.com/explosion/spacy-models/releases/download/fr_core_news_sm-2.0.0/fr_core_news_sm-2.0.0.tar.gz#egg=fr_core_news_sm==2.0.0\n",
    "!python -m spacy download fr\n",
    "\n",
    "# nltk = natural language toolkit | utile pour text processing 2 \n",
    "import nltk\n",
    "nltk.download('stopwords')\n",
    "\n",
    "# Panda: gestion database\n",
    "import pandas as pd\n",
    "\n",
    "# colab: gestion code-interface colab (pour import/export csv)\n",
    "from google.colab import files\n",
    "\n",
    "# import io pour transformer les .csv en string que panda peut lire\n",
    "import io\n",
    "\n",
    "print(\"import successful\")"
   ]
  },
  {
   "cell_type": "markdown",
   "metadata": {
    "id": "ZcK5t6NMIqT_"
   },
   "source": [
    "#1. Data input\n",
    "\n",
    "Au choix, *1a. Wikipedia* **OU** *1b. csv upload*\n",
    "\n"
   ]
  },
  {
   "cell_type": "markdown",
   "metadata": {
    "id": "iWSxc2FeI_8e"
   },
   "source": [
    "##1a. Wikipedia scrapping\n",
    "\n",
    "Récupère le contenu biographique d'une catégorie et le stock dans un dataframe prêt à être utilisé.\n"
   ]
  },
  {
   "cell_type": "code",
   "execution_count": 2,
   "metadata": {
    "colab": {
     "base_uri": "https://localhost:8080/",
     "height": 99,
     "referenced_widgets": [
      "ce4f1bf10ffc4768939fe630fd8c3736",
      "413012a515c04bdca723fb3fdb7d4c24",
      "200a0cc796b04be79ce45d80a56883ae",
      "7b362badeb2d4e9c87e66d930f3443e1"
     ]
    },
    "id": "YXvhghFpJjYE",
    "outputId": "b25bad2e-ccb1-4bbf-ce9a-fb27b89694d0"
   },
   "outputs": [
    {
     "data": {
      "application/vnd.jupyter.widget-view+json": {
       "model_id": "65db0f65be634990a1dd488c0debe7de",
       "version_major": 2,
       "version_minor": 0
      },
      "text/plain": [
       "Output()"
      ]
     },
     "metadata": {},
     "output_type": "display_data"
    },
    {
     "data": {
      "application/vnd.jupyter.widget-view+json": {
       "model_id": "5cbc18661f634a67a5e0af3c80421be7",
       "version_major": 2,
       "version_minor": 0
      },
      "text/plain": [
       "Output()"
      ]
     },
     "metadata": {},
     "output_type": "display_data"
    },
    {
     "name": "stdout",
     "output_type": "stream",
     "text": [
      "Empty DataFrame\n",
      "Columns: [pages_links, pages_names, subcategory, content]\n",
      "Index: []\n"
     ]
    }
   ],
   "source": [
    "# Wikipedia Scrapping\n",
    "\n",
    "## Wikipedia's category name, spaces replaced by underscores (e.g. \"2020s suicides\" become \"2020s_suicides\")\n",
    "## |MANU|NECESSARY|\n",
    "var_corpus_name = \"Peintre_Flamand\"\n",
    "\n",
    "## Language of the Wikipedia scrapped. Option : \"eng\" or \"fr\"\n",
    "## |MANU|NECESSARY|\n",
    "var_language = \"fr\"\n",
    "\n",
    "## La fonction qui récupère les données\n",
    "## |AUTO|NECESSARY|\n",
    "from highway_star.scrapping.wikipedia_scraper import scrap_wikipedia_structure_with_content\n",
    "content = scrap_wikipedia_structure_with_content(\n",
    "    root_category=var_corpus_name,\n",
    "    lang=var_language)\n",
    "\n",
    "## Stockage des données par panda\n",
    "## |AUTO|NECESSARY|\n",
    "dataframe_with_biographies = pd.DataFrame.from_dict(content)\n",
    "\n",
    "## Affichage des données\n",
    "## |MANU|OPTIONAL|\n",
    "print(dataframe_with_biographies)"
   ]
  },
  {
   "cell_type": "markdown",
   "metadata": {
    "id": "ZHD5ptMpvVxS"
   },
   "source": [
    "### download csv\n"
   ]
  },
  {
   "cell_type": "code",
   "execution_count": null,
   "metadata": {
    "id": "OiL2SetnUPGQ"
   },
   "outputs": [
    {
     "name": "stdout",
     "output_type": "stream",
     "text": [
      "Found existing installation: pandas 1.2.5\n",
      "Uninstalling pandas-1.2.5:\n",
      "  Would remove:\n",
      "    /Users/Aname/opt/anaconda3/lib/python3.8/site-packages/pandas-1.2.5.dist-info/*\n",
      "    /Users/Aname/opt/anaconda3/lib/python3.8/site-packages/pandas/*\n",
      "Proceed (y/n)? "
     ]
    }
   ],
   "source": [
    "# Dowload corpus as .csv\n",
    "# |AUTO|OPTIONAL|\n",
    "\n",
    "## Force mise à jour de panda pour gestion du process\n",
    "## /!\\ demande confirmation pour gestion panda\n",
    "!pip uninstall pandas\n",
    "!pip install pandas==1.1.5\n",
    "\n",
    "## Nom du .csv\n",
    "var_csv_name = var_corpus_name+\".csv\"\n",
    "\n",
    "## Creation du .csv\n",
    "dataframe_with_biographies.to_csv(var_csv_name) \n",
    "### Fichier peut être récupéré manuellement: onglet de gauche/symbole folder/clique droit/dowload\n",
    "### /!\\ Requière actualisation (en haut, flèche sur folder)\n",
    "\n",
    "## Dl en code. Défaut = désactivé. Options: \"0\" (désactivé) ou \"1\" (activé)\n",
    "var_dl_csv = 0\n",
    "if var_dl_csv == 1 :\n",
    "  files.download(var_csv_name)\n",
    "\n",
    "## Remet Panda sur pieds\n",
    "!pip install pandas --upgrade\n",
    "\n"
   ]
  },
  {
   "cell_type": "markdown",
   "metadata": {
    "id": "jItwjnUEJkMo"
   },
   "source": [
    "##1b. Csv upload\n",
    "\n",
    "upload un fichier .csv contenant les narrations et le stock dans un dataframe prêt à être utilisé.\n",
    "\n",
    "**/!\\** Un texte par \"case\" dans une colonne intitulée `content`. Le contenu des autres colonnes n'importe pas. Encodage = utf-8. Écrire le nom du fichier avant de lancer le code."
   ]
  },
  {
   "cell_type": "code",
   "execution_count": null,
   "metadata": {
    "colab": {
     "base_uri": "https://localhost:8080/",
     "height": 829,
     "resources": {
      "http://localhost:8080/nbextensions/google.colab/files.js": {
       "data": "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",
       "headers": [
        [
         "content-type",
         "application/javascript"
        ]
       ],
       "ok": true,
       "status": 200,
       "status_text": ""
      }
     }
    },
    "id": "4XTKpMRCKrBd",
    "outputId": "ce47acf5-3a11-49f9-cd0f-d8603b3d7c6a"
   },
   "outputs": [],
   "source": [
    "# Upload .csv\n",
    "\n",
    "## File name without extension\n",
    "## |MANU|NECESSARY|\n",
    "var_corpus_name = \"typeD\"\n",
    "\n",
    "## Language of the corpus. Option : \"eng\" or \"fr\" (used for preprocessing)\n",
    "## |MANU|NECESSARY|\n",
    "var_language = \"eng\"\n",
    "\n",
    "## Opens windows to select .csv from local computer\n",
    "## |AUTO|NECESSARY|\n",
    "uploaded = files.upload()\n",
    "\n",
    "## Creation d'un dataframe à partir du contenu uploadé.\n",
    "## |AUTO|NECESSARY|\n",
    "var_file_name_w_ext = var_corpus_name + \".csv\"\n",
    "dataframe_with_biographies = pd.read_csv(io.StringIO(uploaded[var_file_name_w_ext].decode('utf-8')))\n",
    "\n",
    "## Shows the dataframe\n",
    "## |AUTO|OPTIONAL|\n",
    "print(dataframe_with_biographies)"
   ]
  },
  {
   "cell_type": "markdown",
   "metadata": {
    "id": "med-abdhK1YJ"
   },
   "source": [
    "#2. Preprocessing\n",
    "\n",
    "Formattage du corpus (tokenization, lemmatization, stopwords)"
   ]
  },
  {
   "cell_type": "code",
   "execution_count": null,
   "metadata": {
    "colab": {
     "base_uri": "https://localhost:8080/",
     "height": 133,
     "referenced_widgets": [
      "6cc90392b51a4ab9bd0075c1d7370605",
      "a16327ca45e1432d8bf75fc428e2209c",
      "fb8ec88fa14b4334ae0ebe84df36bf4e",
      "d7f80a37922647bab0fd5af00325b6ca"
     ]
    },
    "id": "26cXY3giLD1Q",
    "outputId": "a42b4f5c-fe8e-4d81-98b7-0ad72227966d"
   },
   "outputs": [
    {
     "name": "stdout",
     "output_type": "stream",
     "text": [
      "Time to tokenize everything: 0.0 mins\n",
      "Time to tokenize everything: 0.0 mins\n"
     ]
    },
    {
     "name": "stderr",
     "output_type": "stream",
     "text": [
      "[nltk_data] Downloading package stopwords to /root/nltk_data...\n",
      "[nltk_data]   Package stopwords is already up-to-date!\n"
     ]
    },
    {
     "data": {
      "application/vnd.jupyter.widget-view+json": {
       "model_id": "6cc90392b51a4ab9bd0075c1d7370605",
       "version_major": 2,
       "version_minor": 0
      },
      "text/plain": [
       "Output()"
      ]
     },
     "metadata": {},
     "output_type": "display_data"
    },
    {
     "data": {
      "application/vnd.jupyter.widget-view+json": {
       "model_id": "fb8ec88fa14b4334ae0ebe84df36bf4e",
       "version_major": 2,
       "version_minor": 0
      },
      "text/plain": [
       "Output()"
      ]
     },
     "metadata": {},
     "output_type": "display_data"
    },
    {
     "name": "stdout",
     "output_type": "stream",
     "text": [
      "Series([], Name: biographies_preprocessed, dtype: float64)\n"
     ]
    }
   ],
   "source": [
    "# Corpus Preprocessing\n",
    "\n",
    "## customs stopwords. ex. var_custom_stop_words = [\"ajouter\", \"oui\", \"être\", \"avoir\", \"et\", \"d\"]\n",
    "## |MANU|OPTIONAL|\n",
    "var_custom_stop_words = [\"wer\", \"boire\", \"sentir\", \"avoir\"]\n",
    "\n",
    "## lemmatization. Option: (True) / (False)\n",
    "## |MANU|NECESSARY|\n",
    "var_use_lemmatization=True\n",
    "\n",
    "## les classes grammaticales qu'on garde\n",
    "## |MANU|NECESSARY|\n",
    "var_allowed_postags=['NOUN', 'VERB']\n",
    "\n",
    "## Les fonctions qui font le taf\n",
    "## |AUTO|NECESSARY|\n",
    "dataframe_with_biographies[\"biographies_tokenized\"] = sent_to_words(biographies_column=dataframe_with_biographies[\"content\"])\n",
    "dataframe_with_biographies[\"biographies_preprocessed\"] = remove_stop_words_from_biographies(\n",
    "                                    biographies_column=dataframe_with_biographies[\"biographies_tokenized\"], \n",
    "                                    custom_stop_words = var_custom_stop_words,\n",
    "                                    use_lemmatization=var_use_lemmatization,\n",
    "                                    allowed_postags=var_allowed_postags,\n",
    "                                    lang=var_language)\n",
    "\n",
    "## Montre les données qu'on va donner au sankey diagram\n",
    "## |AUTO|OPTIONAL|\n",
    "print(dataframe_with_biographies[\"biographies_preprocessed\"])"
   ]
  },
  {
   "cell_type": "markdown",
   "metadata": {
    "id": "59uiiMdUuMLm"
   },
   "source": [
    "### download csv\n"
   ]
  },
  {
   "cell_type": "code",
   "execution_count": null,
   "metadata": {
    "id": "MJ68xNRWLHLm"
   },
   "outputs": [],
   "source": [
    "# Dowload corpus as .csv\n",
    "# |AUTO|OPTIONAL|\n",
    "\n",
    "## Force mise à jour de panda pour gestion du process\n",
    "## /!\\ demande confirmation pour gestion panda\n",
    "!pip uninstall pandas\n",
    "!pip install pandas==1.1.5\n",
    "\n",
    "## Nom du .csv\n",
    "var_csv_name = var_corpus_name+\".csv\"\n",
    "\n",
    "## Creation du .csv\n",
    "dataframe_with_biographies.to_csv(var_csv_name) \n",
    "### Fichier peut être récupéré manuellement: onglet de gauche/symbole folder/clique droit/dowload\n",
    "### /!\\ Requière actualisation (en haut, flèche sur folder)\n",
    "\n",
    "## Dl en code. Défaut = désactivé. Options: \"0\" (désactivé) ou \"1\" (activé)\n",
    "var_dl_csv = 0\n",
    "if var_dl_csv == 1 :\n",
    "  files.download(var_csv_name)\n",
    "\n",
    "## Remet Panda sur pieds\n",
    "!pip install pandas --upgrade"
   ]
  },
  {
   "cell_type": "markdown",
   "metadata": {
    "id": "hroKpJaxLJmG"
   },
   "source": [
    "#3. Visualization\n",
    "\n",
    "Génère le diagramme de Sankey à partir du corpus.\n"
   ]
  },
  {
   "cell_type": "code",
   "execution_count": null,
   "metadata": {
    "colab": {
     "base_uri": "https://localhost:8080/",
     "height": 117,
     "referenced_widgets": [
      "921b3cac3020467da284f4c133eaa172",
      "d024e0797d0449fc8f4c2d25ebb4f18b"
     ]
    },
    "id": "Vldxab1ib34A",
    "outputId": "1d5b0766-9f0f-4130-d362-fc7e40a19ee4"
   },
   "outputs": [
    {
     "name": "stdout",
     "output_type": "stream",
     "text": [
      "Executing Prefixspan...\n",
      "Time to execute prefixspan: 0.0 min\n"
     ]
    },
    {
     "data": {
      "application/vnd.jupyter.widget-view+json": {
       "model_id": "921b3cac3020467da284f4c133eaa172",
       "version_major": 2,
       "version_minor": 0
      },
      "text/plain": [
       "Output()"
      ]
     },
     "metadata": {},
     "output_type": "display_data"
    },
    {
     "name": "stdout",
     "output_type": "stream",
     "text": [
      "[]\n",
      "js file written successfully !\n",
      "html file written successfully !\n"
     ]
    }
   ],
   "source": [
    "# Visualization\n",
    "\n",
    "## Longueur de la chaine de mots\n",
    "## |MANU|NECESSARY|\n",
    "var_prefixspan_minlen = 5\n",
    "\n",
    "## top combien on garde (les 10,100, etc. plus fréquents)\n",
    "## |MANU|NECESSARY|\n",
    "var_prefixspan_topk = 10\n",
    "\n",
    "## La fonction qui fait le taf\n",
    "## |AUTO|NECESSARY|\n",
    "sankey_data_from_prefixspan = give_sankey_data_from_prefixspan(dataframe_with_biographies[\"biographies_preprocessed\"],\n",
    "                                prefixspan_minlen=var_prefixspan_minlen,\n",
    "                                prefixspan_topk=var_prefixspan_topk)\n",
    "\n",
    "## Affiche la table à l'origine du diagram\n",
    "## |MANU|OPTIONAL|\n",
    "print(sankey_data_from_prefixspan)\n",
    "\n",
    "## Nomme le graphe pour que son contenu soit compréhensible\n",
    "## |AUTO|NECESSARY|\n",
    "var_sankey_name = var_corpus_name + \"-str_len=\" + str(var_prefixspan_minlen) + \"-rlt_amt=\" + str(var_prefixspan_topk)\n",
    "\n",
    "## Create diagram\n",
    "## |AUTO|NECESSARY|\n",
    "sankey_diagram_with_prefixspan_output(sankey_data_from_prefixspan=sankey_data_from_prefixspan, \n",
    "                                        js_filename=var_sankey_name,\n",
    "                                        html_filename=var_sankey_name,\n",
    "                                        title=var_sankey_name)\n",
    "\n",
    "## Les fichiers peuvent être récupéré dans les fichiers de la session du colab (onglet_gauche>Fichiers>Actualiser>le.csv et le .html)\n",
    "## Ranger les 2 fichiers au meme endroit et ouvrir le html\n"
   ]
  },
  {
   "cell_type": "code",
   "execution_count": null,
   "metadata": {
    "colab": {
     "base_uri": "https://localhost:8080/",
     "height": 17
    },
    "id": "JsjrG3T5gEg9",
    "outputId": "6fb26d0a-cc0a-46ef-89ea-32744ce858c2"
   },
   "outputs": [
    {
     "data": {
      "application/javascript": [
       "\n",
       "    async function download(id, filename, size) {\n",
       "      if (!google.colab.kernel.accessAllowed) {\n",
       "        return;\n",
       "      }\n",
       "      const div = document.createElement('div');\n",
       "      const label = document.createElement('label');\n",
       "      label.textContent = `Downloading \"${filename}\": `;\n",
       "      div.appendChild(label);\n",
       "      const progress = document.createElement('progress');\n",
       "      progress.max = size;\n",
       "      div.appendChild(progress);\n",
       "      document.body.appendChild(div);\n",
       "\n",
       "      const buffers = [];\n",
       "      let downloaded = 0;\n",
       "\n",
       "      const channel = await google.colab.kernel.comms.open(id);\n",
       "      // Send a message to notify the kernel that we're ready.\n",
       "      channel.send({})\n",
       "\n",
       "      for await (const message of channel.messages) {\n",
       "        // Send a message to notify the kernel that we're ready.\n",
       "        channel.send({})\n",
       "        if (message.buffers) {\n",
       "          for (const buffer of message.buffers) {\n",
       "            buffers.push(buffer);\n",
       "            downloaded += buffer.byteLength;\n",
       "            progress.value = downloaded;\n",
       "          }\n",
       "        }\n",
       "      }\n",
       "      const blob = new Blob(buffers, {type: 'application/binary'});\n",
       "      const a = document.createElement('a');\n",
       "      a.href = window.URL.createObjectURL(blob);\n",
       "      a.download = filename;\n",
       "      div.appendChild(a);\n",
       "      a.click();\n",
       "      div.remove();\n",
       "    }\n",
       "  "
      ],
      "text/plain": [
       "<IPython.core.display.Javascript object>"
      ]
     },
     "metadata": {},
     "output_type": "display_data"
    },
    {
     "data": {
      "application/javascript": [
       "download(\"download_7fc7146b-d46d-474f-ad3d-9c8d7e812d9d\", \"Peintre_Flamand-str_len=5-rlt_amt=10.html\", 748)"
      ],
      "text/plain": [
       "<IPython.core.display.Javascript object>"
      ]
     },
     "metadata": {},
     "output_type": "display_data"
    },
    {
     "data": {
      "application/javascript": [
       "\n",
       "    async function download(id, filename, size) {\n",
       "      if (!google.colab.kernel.accessAllowed) {\n",
       "        return;\n",
       "      }\n",
       "      const div = document.createElement('div');\n",
       "      const label = document.createElement('label');\n",
       "      label.textContent = `Downloading \"${filename}\": `;\n",
       "      div.appendChild(label);\n",
       "      const progress = document.createElement('progress');\n",
       "      progress.max = size;\n",
       "      div.appendChild(progress);\n",
       "      document.body.appendChild(div);\n",
       "\n",
       "      const buffers = [];\n",
       "      let downloaded = 0;\n",
       "\n",
       "      const channel = await google.colab.kernel.comms.open(id);\n",
       "      // Send a message to notify the kernel that we're ready.\n",
       "      channel.send({})\n",
       "\n",
       "      for await (const message of channel.messages) {\n",
       "        // Send a message to notify the kernel that we're ready.\n",
       "        channel.send({})\n",
       "        if (message.buffers) {\n",
       "          for (const buffer of message.buffers) {\n",
       "            buffers.push(buffer);\n",
       "            downloaded += buffer.byteLength;\n",
       "            progress.value = downloaded;\n",
       "          }\n",
       "        }\n",
       "      }\n",
       "      const blob = new Blob(buffers, {type: 'application/binary'});\n",
       "      const a = document.createElement('a');\n",
       "      a.href = window.URL.createObjectURL(blob);\n",
       "      a.download = filename;\n",
       "      div.appendChild(a);\n",
       "      a.click();\n",
       "      div.remove();\n",
       "    }\n",
       "  "
      ],
      "text/plain": [
       "<IPython.core.display.Javascript object>"
      ]
     },
     "metadata": {},
     "output_type": "display_data"
    },
    {
     "data": {
      "application/javascript": [
       "download(\"download_6bbe1c6b-92af-49d1-bbaf-8619690bd059\", \"Peintre_Flamand-str_len=5-rlt_amt=10.js\", 455)"
      ],
      "text/plain": [
       "<IPython.core.display.Javascript object>"
      ]
     },
     "metadata": {},
     "output_type": "display_data"
    }
   ],
   "source": [
    "# Auto dl the diagram's files\n",
    "# |AUTO|OPTIONAL|\n",
    "\n",
    "files.download(var_sankey_name+\".html\")\n",
    "files.download(var_sankey_name+\".js\")"
   ]
  },
  {
   "cell_type": "markdown",
   "metadata": {
    "id": "0iaJiKX0zMj7"
   },
   "source": [
    "## Multiple diagram generator/download"
   ]
  },
  {
   "cell_type": "code",
   "execution_count": null,
   "metadata": {
    "id": "k1-Pd7-ivij0"
   },
   "outputs": [],
   "source": [
    "# Repetitive diagram generation and dowload\n",
    "# |MANU|OPTIONAL|\n",
    "\n",
    "## Range of the string lenght to be explored\n",
    "## |MANU|NECESSARY|\n",
    "var_minlen_min = 1\n",
    "var_minlen_max = 4\n",
    "var_minlen_step = 1\n",
    "\n",
    "## Range of the numbers of kept relations\n",
    "## |MANU|NECESSARY|\n",
    "var_topk_min = 5\n",
    "var_topk_max = 9\n",
    "var_topk_step = 1\n",
    "\n",
    "## Begining of the operation\n",
    "## |AUTO|NECESSARY|\n",
    "var_prefixspan_minlen = var_minlen_min\n",
    "var_prefixspan_topk = var_topk_min\n",
    "\n",
    "## Lancement de la boucle\n",
    "## |AUTO|NECESSARY|\n",
    "while var_prefixspan_minlen <= var_minlen_max :\n",
    "  while var_prefixspan_topk <= var_topk_max :\n",
    "    ### data conversion\n",
    "    sankey_data_from_prefixspan = give_sankey_data_from_prefixspan(dataframe_with_biographies[\"biographies_preprocessed\"],\n",
    "                                    prefixspan_minlen=var_prefixspan_minlen,\n",
    "                                    prefixspan_topk=var_prefixspan_topk)\n",
    "    ### Nomme le graphe pour que son contenu soit compréhensible\n",
    "    var_sankey_name = var_corpus_name + \"-str_len=\" + str(var_prefixspan_minlen) + \"-rlt_amt=\" + str(var_prefixspan_topk)\n",
    "    ### Create diagram\n",
    "    sankey_diagram_with_prefixspan_output(sankey_data_from_prefixspan=sankey_data_from_prefixspan, \n",
    "                                            js_filename=var_sankey_name,\n",
    "                                            html_filename=var_sankey_name,\n",
    "                                            title=var_sankey_name)\n",
    "    ### Auto dl the diagram's files\n",
    "    files.download(var_sankey_name+\".html\")\n",
    "    files.download(var_sankey_name+\".js\")\n",
    "    ### Le compteur de tour\n",
    "    var_prefixspan_topk = var_prefixspan_topk + var_topk_step\n",
    "\n",
    "  ## Set the indented boucle to the start\n",
    "  var_prefixspan_topk = var_topk_min\n",
    "  ## Le compteur de tour\n",
    "  var_prefixspan_minlen = var_prefixspan_minlen + var_minlen_step\n"
   ]
  },
  {
   "cell_type": "markdown",
   "metadata": {
    "id": "jC0NZXw0vRFo"
   },
   "source": [
    "## download csv\n"
   ]
  },
  {
   "cell_type": "code",
   "execution_count": null,
   "metadata": {
    "colab": {
     "base_uri": "https://localhost:8080/",
     "height": 1000
    },
    "id": "53DhbZzue2Gn",
    "outputId": "4de7e828-9f2c-4b47-8591-0dc69285b2fa"
   },
   "outputs": [
    {
     "name": "stdout",
     "output_type": "stream",
     "text": [
      "         0       1   2\n",
      "0     born  family  45\n",
      "1   family  became  51\n",
      "2    began   first  15\n",
      "3    first     one   5\n",
      "4      one    made   5\n",
      "5     made     thi  10\n",
      "6    first     wer  10\n",
      "7      wer    made   5\n",
      "8      wer     one   5\n",
      "9      one     thi   5\n",
      "10    born  became   5\n",
      "11  family   later   5\n",
      "12     wer    said   4\n",
      "Found existing installation: pandas 1.3.2\n",
      "Uninstalling pandas-1.3.2:\n",
      "  Would remove:\n",
      "    /usr/local/lib/python3.7/dist-packages/pandas-1.3.2.dist-info/*\n",
      "    /usr/local/lib/python3.7/dist-packages/pandas/*\n",
      "Proceed (y/n)? y\n",
      "  Successfully uninstalled pandas-1.3.2\n",
      "Collecting pandas==1.1.5\n",
      "  Using cached pandas-1.1.5-cp37-cp37m-manylinux1_x86_64.whl (9.5 MB)\n",
      "Requirement already satisfied: numpy>=1.15.4 in /usr/local/lib/python3.7/dist-packages (from pandas==1.1.5) (1.19.5)\n",
      "Requirement already satisfied: python-dateutil>=2.7.3 in /usr/local/lib/python3.7/dist-packages (from pandas==1.1.5) (2.8.2)\n",
      "Requirement already satisfied: pytz>=2017.2 in /usr/local/lib/python3.7/dist-packages (from pandas==1.1.5) (2018.9)\n",
      "Requirement already satisfied: six>=1.5 in /usr/local/lib/python3.7/dist-packages (from python-dateutil>=2.7.3->pandas==1.1.5) (1.15.0)\n",
      "Installing collected packages: pandas\n",
      "\u001b[31mERROR: pip's dependency resolver does not currently take into account all the packages that are installed. This behaviour is the source of the following dependency conflicts.\n",
      "highway-star 0.0.8.1 requires pandas~=1.2.4, but you have pandas 1.1.5 which is incompatible.\n",
      "google-colab 1.0.0 requires requests~=2.23.0, but you have requests 2.25.1 which is incompatible.\u001b[0m\n",
      "Successfully installed pandas-1.1.5\n"
     ]
    },
    {
     "data": {
      "application/vnd.colab-display-data+json": {
       "pip_warning": {
        "packages": [
         "pandas"
        ]
       }
      }
     },
     "metadata": {},
     "output_type": "display_data"
    },
    {
     "name": "stdout",
     "output_type": "stream",
     "text": [
      "Requirement already satisfied: pandas in /usr/local/lib/python3.7/dist-packages (1.1.5)\n",
      "Collecting pandas\n",
      "  Using cached pandas-1.3.2-cp37-cp37m-manylinux_2_17_x86_64.manylinux2014_x86_64.whl (11.3 MB)\n",
      "Requirement already satisfied: pytz>=2017.3 in /usr/local/lib/python3.7/dist-packages (from pandas) (2018.9)\n",
      "Requirement already satisfied: python-dateutil>=2.7.3 in /usr/local/lib/python3.7/dist-packages (from pandas) (2.8.2)\n",
      "Requirement already satisfied: numpy>=1.17.3 in /usr/local/lib/python3.7/dist-packages (from pandas) (1.19.5)\n",
      "Requirement already satisfied: six>=1.5 in /usr/local/lib/python3.7/dist-packages (from python-dateutil>=2.7.3->pandas) (1.15.0)\n",
      "Installing collected packages: pandas\n",
      "  Attempting uninstall: pandas\n",
      "    Found existing installation: pandas 1.1.5\n",
      "    Uninstalling pandas-1.1.5:\n",
      "      Successfully uninstalled pandas-1.1.5\n",
      "\u001b[31mERROR: pip's dependency resolver does not currently take into account all the packages that are installed. This behaviour is the source of the following dependency conflicts.\n",
      "highway-star 0.0.8.1 requires pandas~=1.2.4, but you have pandas 1.3.2 which is incompatible.\n",
      "google-colab 1.0.0 requires pandas~=1.1.0; python_version >= \"3.0\", but you have pandas 1.3.2 which is incompatible.\n",
      "google-colab 1.0.0 requires requests~=2.23.0, but you have requests 2.25.1 which is incompatible.\u001b[0m\n",
      "Successfully installed pandas-1.3.2\n"
     ]
    },
    {
     "data": {
      "application/vnd.colab-display-data+json": {
       "pip_warning": {
        "packages": [
         "pandas"
        ]
       }
      }
     },
     "metadata": {},
     "output_type": "display_data"
    }
   ],
   "source": [
    "# Dowload Sankey relations as .csv file\n",
    "## |AUTO|OPTIONAL|\n",
    "\n",
    "## Converti la liste en dataframe (plus facilement convertible en .csv)\n",
    "Sankey_relations_as_df = pd.DataFrame(sankey_data_from_prefixspan)\n",
    "## affiche le dataframe\n",
    "print(Sankey_relations_as_df)\n",
    "\n",
    "## Force mise à jour de panda pour gestion du process\n",
    "## /!\\ demande confirmation pour gestion panda\n",
    "!pip uninstall pandas\n",
    "!pip install pandas==1.1.5\n",
    "\n",
    "## Nom du .csv\n",
    "var_csv_name = var_sankey_name + \".csv\"\n",
    "\n",
    "## Creation du .csv\n",
    "Sankey_relations_as_df.to_csv(var_csv_name) \n",
    "### Fichier peut être récupéré manuellement: onglet de gauche/symbole folder/clique droit/dowload\n",
    "### /!\\ Requière actualisation (en haut, flèche sur folder)\n",
    "\n",
    "## Dl en code. Défaut = désactivé. Options: \"0\" (désactivé) ou \"1\" (activé)\n",
    "var_dl_csv = 0\n",
    "if var_dl_csv == 1 :\n",
    "  files.download(var_csv_name)\n",
    "\n",
    "## Remet Panda sur pieds\n",
    "!pip install pandas --upgrade"
   ]
  }
 ],
 "metadata": {
  "colab": {
   "collapsed_sections": [],
   "name": "Highway_star-vSHS.ipynb",
   "provenance": []
  },
  "kernelspec": {
   "display_name": "Python 3",
   "language": "python",
   "name": "python3"
  },
  "language_info": {
   "codemirror_mode": {
    "name": "ipython",
    "version": 3
   },
   "file_extension": ".py",
   "mimetype": "text/x-python",
   "name": "python",
   "nbconvert_exporter": "python",
   "pygments_lexer": "ipython3",
   "version": "3.8.3"
  },
  "widgets": {
   "application/vnd.jupyter.widget-state+json": {
    "200a0cc796b04be79ce45d80a56883ae": {
     "model_module": "@jupyter-widgets/output",
     "model_module_version": "1.0.0",
     "model_name": "OutputModel",
     "state": {
      "_dom_classes": [],
      "_model_module": "@jupyter-widgets/output",
      "_model_module_version": "1.0.0",
      "_model_name": "OutputModel",
      "_view_count": null,
      "_view_module": "@jupyter-widgets/output",
      "_view_module_version": "1.0.0",
      "_view_name": "OutputView",
      "layout": "IPY_MODEL_7b362badeb2d4e9c87e66d930f3443e1",
      "msg_id": "",
      "outputs": [
       {
        "data": {
         "text/html": "<pre style=\"white-space:pre;overflow-x:auto;line-height:normal;font-family:Menlo,'DejaVu Sans Mono',consolas,'Courier New',monospace\">Getting all content from pages <span style=\"color: #729c1f; text-decoration-color: #729c1f\">━━━━━━━━━━━━━━━━━━━━━━━━━━━━━━━━━━━━━━━━</span> <span style=\"color: #800080; text-decoration-color: #800080\">  0%</span> <span style=\"color: #008080; text-decoration-color: #008080\">-:--:--</span>\n</pre>\n",
         "text/plain": "Getting all content from pages \u001b[38;2;114;156;31m━━━━━━━━━━━━━━━━━━━━━━━━━━━━━━━━━━━━━━━━\u001b[0m \u001b[35m  0%\u001b[0m \u001b[36m-:--:--\u001b[0m\n"
        },
        "metadata": {},
        "output_type": "display_data"
       }
      ]
     }
    },
    "413012a515c04bdca723fb3fdb7d4c24": {
     "model_module": "@jupyter-widgets/base",
     "model_module_version": "1.2.0",
     "model_name": "LayoutModel",
     "state": {
      "_model_module": "@jupyter-widgets/base",
      "_model_module_version": "1.2.0",
      "_model_name": "LayoutModel",
      "_view_count": null,
      "_view_module": "@jupyter-widgets/base",
      "_view_module_version": "1.2.0",
      "_view_name": "LayoutView",
      "align_content": null,
      "align_items": null,
      "align_self": null,
      "border": null,
      "bottom": null,
      "display": null,
      "flex": null,
      "flex_flow": null,
      "grid_area": null,
      "grid_auto_columns": null,
      "grid_auto_flow": null,
      "grid_auto_rows": null,
      "grid_column": null,
      "grid_gap": null,
      "grid_row": null,
      "grid_template_areas": null,
      "grid_template_columns": null,
      "grid_template_rows": null,
      "height": null,
      "justify_content": null,
      "justify_items": null,
      "left": null,
      "margin": null,
      "max_height": null,
      "max_width": null,
      "min_height": null,
      "min_width": null,
      "object_fit": null,
      "object_position": null,
      "order": null,
      "overflow": null,
      "overflow_x": null,
      "overflow_y": null,
      "padding": null,
      "right": null,
      "top": null,
      "visibility": null,
      "width": null
     }
    },
    "6cc90392b51a4ab9bd0075c1d7370605": {
     "model_module": "@jupyter-widgets/output",
     "model_module_version": "1.0.0",
     "model_name": "OutputModel",
     "state": {
      "_dom_classes": [],
      "_model_module": "@jupyter-widgets/output",
      "_model_module_version": "1.0.0",
      "_model_name": "OutputModel",
      "_view_count": null,
      "_view_module": "@jupyter-widgets/output",
      "_view_module_version": "1.0.0",
      "_view_name": "OutputView",
      "layout": "IPY_MODEL_a16327ca45e1432d8bf75fc428e2209c",
      "msg_id": "",
      "outputs": [
       {
        "data": {
         "text/html": "<pre style=\"white-space:pre;overflow-x:auto;line-height:normal;font-family:Menlo,'DejaVu Sans Mono',consolas,'Courier New',monospace\">lemmatize biographies <span style=\"color: #729c1f; text-decoration-color: #729c1f\">━━━━━━━━━━━━━━━━━━━━━━━━━━━━━━━━━━━━━━━━</span> <span style=\"color: #800080; text-decoration-color: #800080\">  0%</span> <span style=\"color: #008080; text-decoration-color: #008080\">-:--:--</span>\n</pre>\n",
         "text/plain": "lemmatize biographies \u001b[38;2;114;156;31m━━━━━━━━━━━━━━━━━━━━━━━━━━━━━━━━━━━━━━━━\u001b[0m \u001b[35m  0%\u001b[0m \u001b[36m-:--:--\u001b[0m\n"
        },
        "metadata": {},
        "output_type": "display_data"
       }
      ]
     }
    },
    "7b362badeb2d4e9c87e66d930f3443e1": {
     "model_module": "@jupyter-widgets/base",
     "model_module_version": "1.2.0",
     "model_name": "LayoutModel",
     "state": {
      "_model_module": "@jupyter-widgets/base",
      "_model_module_version": "1.2.0",
      "_model_name": "LayoutModel",
      "_view_count": null,
      "_view_module": "@jupyter-widgets/base",
      "_view_module_version": "1.2.0",
      "_view_name": "LayoutView",
      "align_content": null,
      "align_items": null,
      "align_self": null,
      "border": null,
      "bottom": null,
      "display": null,
      "flex": null,
      "flex_flow": null,
      "grid_area": null,
      "grid_auto_columns": null,
      "grid_auto_flow": null,
      "grid_auto_rows": null,
      "grid_column": null,
      "grid_gap": null,
      "grid_row": null,
      "grid_template_areas": null,
      "grid_template_columns": null,
      "grid_template_rows": null,
      "height": null,
      "justify_content": null,
      "justify_items": null,
      "left": null,
      "margin": null,
      "max_height": null,
      "max_width": null,
      "min_height": null,
      "min_width": null,
      "object_fit": null,
      "object_position": null,
      "order": null,
      "overflow": null,
      "overflow_x": null,
      "overflow_y": null,
      "padding": null,
      "right": null,
      "top": null,
      "visibility": null,
      "width": null
     }
    },
    "921b3cac3020467da284f4c133eaa172": {
     "model_module": "@jupyter-widgets/output",
     "model_module_version": "1.0.0",
     "model_name": "OutputModel",
     "state": {
      "_dom_classes": [],
      "_model_module": "@jupyter-widgets/output",
      "_model_module_version": "1.0.0",
      "_model_name": "OutputModel",
      "_view_count": null,
      "_view_module": "@jupyter-widgets/output",
      "_view_module_version": "1.0.0",
      "_view_name": "OutputView",
      "layout": "IPY_MODEL_d024e0797d0449fc8f4c2d25ebb4f18b",
      "msg_id": "",
      "outputs": [
       {
        "data": {
         "text/html": "<pre style=\"white-space:pre;overflow-x:auto;line-height:normal;font-family:Menlo,'DejaVu Sans Mono',consolas,'Courier New',monospace\">Process sankey data from prefixspan <span style=\"color: #729c1f; text-decoration-color: #729c1f\">━━━━━━━━━━━━━━━━━━━━━━━━━━━━━━━━━━━━━━━━</span> <span style=\"color: #800080; text-decoration-color: #800080\">  0%</span> <span style=\"color: #008080; text-decoration-color: #008080\">-:--:--</span>\n</pre>\n",
         "text/plain": "Process sankey data from prefixspan \u001b[38;2;114;156;31m━━━━━━━━━━━━━━━━━━━━━━━━━━━━━━━━━━━━━━━━\u001b[0m \u001b[35m  0%\u001b[0m \u001b[36m-:--:--\u001b[0m\n"
        },
        "metadata": {},
        "output_type": "display_data"
       }
      ]
     }
    },
    "a16327ca45e1432d8bf75fc428e2209c": {
     "model_module": "@jupyter-widgets/base",
     "model_module_version": "1.2.0",
     "model_name": "LayoutModel",
     "state": {
      "_model_module": "@jupyter-widgets/base",
      "_model_module_version": "1.2.0",
      "_model_name": "LayoutModel",
      "_view_count": null,
      "_view_module": "@jupyter-widgets/base",
      "_view_module_version": "1.2.0",
      "_view_name": "LayoutView",
      "align_content": null,
      "align_items": null,
      "align_self": null,
      "border": null,
      "bottom": null,
      "display": null,
      "flex": null,
      "flex_flow": null,
      "grid_area": null,
      "grid_auto_columns": null,
      "grid_auto_flow": null,
      "grid_auto_rows": null,
      "grid_column": null,
      "grid_gap": null,
      "grid_row": null,
      "grid_template_areas": null,
      "grid_template_columns": null,
      "grid_template_rows": null,
      "height": null,
      "justify_content": null,
      "justify_items": null,
      "left": null,
      "margin": null,
      "max_height": null,
      "max_width": null,
      "min_height": null,
      "min_width": null,
      "object_fit": null,
      "object_position": null,
      "order": null,
      "overflow": null,
      "overflow_x": null,
      "overflow_y": null,
      "padding": null,
      "right": null,
      "top": null,
      "visibility": null,
      "width": null
     }
    },
    "ce4f1bf10ffc4768939fe630fd8c3736": {
     "model_module": "@jupyter-widgets/output",
     "model_module_version": "1.0.0",
     "model_name": "OutputModel",
     "state": {
      "_dom_classes": [],
      "_model_module": "@jupyter-widgets/output",
      "_model_module_version": "1.0.0",
      "_model_name": "OutputModel",
      "_view_count": null,
      "_view_module": "@jupyter-widgets/output",
      "_view_module_version": "1.0.0",
      "_view_name": "OutputView",
      "layout": "IPY_MODEL_413012a515c04bdca723fb3fdb7d4c24",
      "msg_id": "",
      "outputs": [
       {
        "data": {
         "text/html": "<pre style=\"white-space:pre;overflow-x:auto;line-height:normal;font-family:Menlo,'DejaVu Sans Mono',consolas,'Courier New',monospace\">Crawling 1 subcategories <span style=\"color: #729c1f; text-decoration-color: #729c1f\">━━━━━━━━━━━━━━━━━━━━━━━━━━━━━━━━━━━━━━━━</span> <span style=\"color: #800080; text-decoration-color: #800080\">100%</span> <span style=\"color: #008080; text-decoration-color: #008080\">0:00:00</span>\n</pre>\n",
         "text/plain": "Crawling 1 subcategories \u001b[38;2;114;156;31m━━━━━━━━━━━━━━━━━━━━━━━━━━━━━━━━━━━━━━━━\u001b[0m \u001b[35m100%\u001b[0m \u001b[36m0:00:00\u001b[0m\n"
        },
        "metadata": {},
        "output_type": "display_data"
       }
      ]
     }
    },
    "d024e0797d0449fc8f4c2d25ebb4f18b": {
     "model_module": "@jupyter-widgets/base",
     "model_module_version": "1.2.0",
     "model_name": "LayoutModel",
     "state": {
      "_model_module": "@jupyter-widgets/base",
      "_model_module_version": "1.2.0",
      "_model_name": "LayoutModel",
      "_view_count": null,
      "_view_module": "@jupyter-widgets/base",
      "_view_module_version": "1.2.0",
      "_view_name": "LayoutView",
      "align_content": null,
      "align_items": null,
      "align_self": null,
      "border": null,
      "bottom": null,
      "display": null,
      "flex": null,
      "flex_flow": null,
      "grid_area": null,
      "grid_auto_columns": null,
      "grid_auto_flow": null,
      "grid_auto_rows": null,
      "grid_column": null,
      "grid_gap": null,
      "grid_row": null,
      "grid_template_areas": null,
      "grid_template_columns": null,
      "grid_template_rows": null,
      "height": null,
      "justify_content": null,
      "justify_items": null,
      "left": null,
      "margin": null,
      "max_height": null,
      "max_width": null,
      "min_height": null,
      "min_width": null,
      "object_fit": null,
      "object_position": null,
      "order": null,
      "overflow": null,
      "overflow_x": null,
      "overflow_y": null,
      "padding": null,
      "right": null,
      "top": null,
      "visibility": null,
      "width": null
     }
    },
    "d7f80a37922647bab0fd5af00325b6ca": {
     "model_module": "@jupyter-widgets/base",
     "model_module_version": "1.2.0",
     "model_name": "LayoutModel",
     "state": {
      "_model_module": "@jupyter-widgets/base",
      "_model_module_version": "1.2.0",
      "_model_name": "LayoutModel",
      "_view_count": null,
      "_view_module": "@jupyter-widgets/base",
      "_view_module_version": "1.2.0",
      "_view_name": "LayoutView",
      "align_content": null,
      "align_items": null,
      "align_self": null,
      "border": null,
      "bottom": null,
      "display": null,
      "flex": null,
      "flex_flow": null,
      "grid_area": null,
      "grid_auto_columns": null,
      "grid_auto_flow": null,
      "grid_auto_rows": null,
      "grid_column": null,
      "grid_gap": null,
      "grid_row": null,
      "grid_template_areas": null,
      "grid_template_columns": null,
      "grid_template_rows": null,
      "height": null,
      "justify_content": null,
      "justify_items": null,
      "left": null,
      "margin": null,
      "max_height": null,
      "max_width": null,
      "min_height": null,
      "min_width": null,
      "object_fit": null,
      "object_position": null,
      "order": null,
      "overflow": null,
      "overflow_x": null,
      "overflow_y": null,
      "padding": null,
      "right": null,
      "top": null,
      "visibility": null,
      "width": null
     }
    },
    "fb8ec88fa14b4334ae0ebe84df36bf4e": {
     "model_module": "@jupyter-widgets/output",
     "model_module_version": "1.0.0",
     "model_name": "OutputModel",
     "state": {
      "_dom_classes": [],
      "_model_module": "@jupyter-widgets/output",
      "_model_module_version": "1.0.0",
      "_model_name": "OutputModel",
      "_view_count": null,
      "_view_module": "@jupyter-widgets/output",
      "_view_module_version": "1.0.0",
      "_view_name": "OutputView",
      "layout": "IPY_MODEL_d7f80a37922647bab0fd5af00325b6ca",
      "msg_id": "",
      "outputs": [
       {
        "data": {
         "text/html": "<pre style=\"white-space:pre;overflow-x:auto;line-height:normal;font-family:Menlo,'DejaVu Sans Mono',consolas,'Courier New',monospace\">removing stop words <span style=\"color: #729c1f; text-decoration-color: #729c1f\">━━━━━━━━━━━━━━━━━━━━━━━━━━━━━━━━━━━━━━━━</span> <span style=\"color: #800080; text-decoration-color: #800080\">  0%</span> <span style=\"color: #008080; text-decoration-color: #008080\">-:--:--</span>\n</pre>\n",
         "text/plain": "removing stop words \u001b[38;2;114;156;31m━━━━━━━━━━━━━━━━━━━━━━━━━━━━━━━━━━━━━━━━\u001b[0m \u001b[35m  0%\u001b[0m \u001b[36m-:--:--\u001b[0m\n"
        },
        "metadata": {},
        "output_type": "display_data"
       }
      ]
     }
    }
   }
  }
 },
 "nbformat": 4,
 "nbformat_minor": 1
}
