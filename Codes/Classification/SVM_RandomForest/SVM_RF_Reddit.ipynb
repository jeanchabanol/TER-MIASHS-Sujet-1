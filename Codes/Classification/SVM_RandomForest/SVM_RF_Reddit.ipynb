{
 "cells": [
  {
   "cell_type": "code",
   "execution_count": 1,
   "metadata": {},
   "outputs": [],
   "source": [
    "import numpy as np\n",
    "import pandas as pd\n",
    "from sklearn import svm\n",
    "import matplotlib.pyplot as plt\n",
    "from sklearn.model_selection import RandomizedSearchCV\n",
    "from sklearn.model_selection import train_test_split\n",
    "import pandas as pd\n",
    "import numpy as np\n",
    "import pandas as pd\n",
    "import numpy as np\n",
    "from nltk.tokenize import word_tokenize\n",
    "from nltk import pos_tag\n",
    "from nltk.corpus import stopwords\n",
    "from nltk.stem import WordNetLemmatizer\n",
    "from sklearn.preprocessing import LabelEncoder\n",
    "from collections import defaultdict\n",
    "from nltk.corpus import wordnet as wn\n",
    "from sklearn.feature_extraction.text import TfidfVectorizer\n",
    "from sklearn import model_selection, naive_bayes, svm\n",
    "from sklearn.metrics import accuracy_score"
   ]
  },
  {
   "cell_type": "code",
   "execution_count": 2,
   "metadata": {},
   "outputs": [],
   "source": [
    "# https://zestedesavoir.com/tutoriels/1760/un-peu-de-machine-learning-avec-les-svm/\n",
    "# https://ichi.pro/fr/guide-du-debutant-sur-la-classification-de-texte-avec-scikit-learn-109003449397050\n",
    "# https://medium.com/@bedigunjit/simple-guide-to-text-classification-nlp-using-svm-and-naive-bayes-with-python-421db3a72d34"
   ]
  },
  {
   "cell_type": "code",
   "execution_count": 3,
   "metadata": {},
   "outputs": [
    {
     "data": {
      "text/html": [
       "<div>\n",
       "<style scoped>\n",
       "    .dataframe tbody tr th:only-of-type {\n",
       "        vertical-align: middle;\n",
       "    }\n",
       "\n",
       "    .dataframe tbody tr th {\n",
       "        vertical-align: top;\n",
       "    }\n",
       "\n",
       "    .dataframe thead th {\n",
       "        text-align: right;\n",
       "    }\n",
       "</style>\n",
       "<table border=\"1\" class=\"dataframe\">\n",
       "  <thead>\n",
       "    <tr style=\"text-align: right;\">\n",
       "      <th></th>\n",
       "      <th>suicide</th>\n",
       "      <th>subreddit</th>\n",
       "      <th>content</th>\n",
       "    </tr>\n",
       "  </thead>\n",
       "  <tbody>\n",
       "    <tr>\n",
       "      <th>0</th>\n",
       "      <td>False</td>\n",
       "      <td>AskReddit</td>\n",
       "      <td>Suicide survivors of reddit, what's one thing ...</td>\n",
       "    </tr>\n",
       "    <tr>\n",
       "      <th>1</th>\n",
       "      <td>False</td>\n",
       "      <td>AskReddit</td>\n",
       "      <td>Suicide survivors of Reddit, are you happier n...</td>\n",
       "    </tr>\n",
       "    <tr>\n",
       "      <th>2</th>\n",
       "      <td>False</td>\n",
       "      <td>AskReddit</td>\n",
       "      <td>Suicide survivors of Reddit, what went through...</td>\n",
       "    </tr>\n",
       "    <tr>\n",
       "      <th>3</th>\n",
       "      <td>False</td>\n",
       "      <td>AskReddit</td>\n",
       "      <td>[Serious] Suicide survivors of reddit, what we...</td>\n",
       "    </tr>\n",
       "    <tr>\n",
       "      <th>4</th>\n",
       "      <td>False</td>\n",
       "      <td>AskReddit</td>\n",
       "      <td>Suicide survivors of Reddit. What were your as...</td>\n",
       "    </tr>\n",
       "    <tr>\n",
       "      <th>...</th>\n",
       "      <td>...</td>\n",
       "      <td>...</td>\n",
       "      <td>...</td>\n",
       "    </tr>\n",
       "    <tr>\n",
       "      <th>4718</th>\n",
       "      <td>True</td>\n",
       "      <td>SuicideWatch</td>\n",
       "      <td>isnt my life just that... MY life? so why is i...</td>\n",
       "    </tr>\n",
       "    <tr>\n",
       "      <th>4719</th>\n",
       "      <td>True</td>\n",
       "      <td>SuicideWatch</td>\n",
       "      <td>What does SW think about the \"I'm here to help...</td>\n",
       "    </tr>\n",
       "    <tr>\n",
       "      <th>4720</th>\n",
       "      <td>True</td>\n",
       "      <td>SuicideWatch</td>\n",
       "      <td>Not quite suicide but I just made an extremely...</td>\n",
       "    </tr>\n",
       "    <tr>\n",
       "      <th>4721</th>\n",
       "      <td>True</td>\n",
       "      <td>SuicideWatch</td>\n",
       "      <td>There is hope! I just want to share with you w...</td>\n",
       "    </tr>\n",
       "    <tr>\n",
       "      <th>4722</th>\n",
       "      <td>True</td>\n",
       "      <td>SuicideWatch</td>\n",
       "      <td>I have been trying to kill myself since I was ...</td>\n",
       "    </tr>\n",
       "  </tbody>\n",
       "</table>\n",
       "<p>11180 rows × 3 columns</p>\n",
       "</div>"
      ],
      "text/plain": [
       "      suicide     subreddit                                            content\n",
       "0       False     AskReddit  Suicide survivors of reddit, what's one thing ...\n",
       "1       False     AskReddit  Suicide survivors of Reddit, are you happier n...\n",
       "2       False     AskReddit  Suicide survivors of Reddit, what went through...\n",
       "3       False     AskReddit  [Serious] Suicide survivors of reddit, what we...\n",
       "4       False     AskReddit  Suicide survivors of Reddit. What were your as...\n",
       "...       ...           ...                                                ...\n",
       "4718     True  SuicideWatch  isnt my life just that... MY life? so why is i...\n",
       "4719     True  SuicideWatch  What does SW think about the \"I'm here to help...\n",
       "4720     True  SuicideWatch  Not quite suicide but I just made an extremely...\n",
       "4721     True  SuicideWatch  There is hope! I just want to share with you w...\n",
       "4722     True  SuicideWatch  I have been trying to kill myself since I was ...\n",
       "\n",
       "[11180 rows x 3 columns]"
      ]
     },
     "execution_count": 3,
     "metadata": {},
     "output_type": "execute_result"
    }
   ],
   "source": [
    "CorpusA = pd.read_csv(\"donnees_reddit_pas_TS.csv\")\n",
    "CorpusB = pd.read_csv(\"donnees_reddit_TS.csv\")\n",
    "Corpus=pd.concat([CorpusA, CorpusB])\n",
    "\n",
    "#Corpus = pd.read_csv(\"test.csv\") A mettre comme ça parce que moi j'avais un bugg (et ca separe les mots de cotent par des ,)\n",
    "Corpus"
   ]
  },
  {
   "cell_type": "code",
   "execution_count": 4,
   "metadata": {},
   "outputs": [
    {
     "data": {
      "text/plain": [
       "(11180, 3)"
      ]
     },
     "execution_count": 4,
     "metadata": {},
     "output_type": "execute_result"
    }
   ],
   "source": [
    "Corpus.shape"
   ]
  },
  {
   "cell_type": "markdown",
   "metadata": {},
   "source": [
    "# Visualisation et Traitement"
   ]
  },
  {
   "cell_type": "code",
   "execution_count": 5,
   "metadata": {},
   "outputs": [],
   "source": [
    "##On commence le nettoyage des données en cherchant s'il y a des lignes dupliqués. \n",
    "Corpus = Corpus.drop_duplicates()"
   ]
  },
  {
   "cell_type": "code",
   "execution_count": 6,
   "metadata": {},
   "outputs": [
    {
     "data": {
      "text/plain": [
       "0"
      ]
     },
     "execution_count": 6,
     "metadata": {},
     "output_type": "execute_result"
    }
   ],
   "source": [
    "#On verifie qu'il y ai aucune valeur de content nulle\n",
    "Corpus['content'].isnull().sum()"
   ]
  },
  {
   "cell_type": "code",
   "execution_count": 7,
   "metadata": {},
   "outputs": [
    {
     "data": {
      "image/png": "[encoded data removed]",
      "text/plain": [
       "<Figure size 432x288 with 1 Axes>"
      ]
     },
     "metadata": {
      "needs_background": "light"
     },
     "output_type": "display_data"
    }
   ],
   "source": [
    "import seaborn as sns\n",
    "Corpus['suicide'].value_counts()\n",
    "sns.countplot(x='suicide', data=Corpus, palette= \"hls\")\n",
    "plt.title(\"nombre de textes par catégorie\")\n",
    "plt.show()"
   ]
  },
  {
   "cell_type": "code",
   "execution_count": 8,
   "metadata": {},
   "outputs": [
    {
     "data": {
      "text/plain": [
       "False    6440\n",
       "True     4714\n",
       "Name: suicide, dtype: int64"
      ]
     },
     "execution_count": 8,
     "metadata": {},
     "output_type": "execute_result"
    }
   ],
   "source": [
    "Corpus['suicide'].value_counts()"
   ]
  },
  {
   "cell_type": "markdown",
   "metadata": {},
   "source": [
    "# Traitement"
   ]
  },
  {
   "cell_type": "code",
   "execution_count": 9,
   "metadata": {},
   "outputs": [],
   "source": [
    "df_parfaitX = Corpus.loc[Corpus['suicide']==True,:]\n",
    "df_parfaitY = Corpus.loc[Corpus['suicide']==False,:]"
   ]
  },
  {
   "cell_type": "code",
   "execution_count": 10,
   "metadata": {},
   "outputs": [],
   "source": [
    "df_parfaitY = df_parfaitY.sample(n=4714)\n",
    "Corpus = pd.concat([df_parfaitX,df_parfaitY])\n",
    "Corpus = Corpus.reset_index(drop =True)"
   ]
  },
  {
   "cell_type": "code",
   "execution_count": 11,
   "metadata": {},
   "outputs": [
    {
     "data": {
      "text/html": [
       "<div>\n",
       "<style scoped>\n",
       "    .dataframe tbody tr th:only-of-type {\n",
       "        vertical-align: middle;\n",
       "    }\n",
       "\n",
       "    .dataframe tbody tr th {\n",
       "        vertical-align: top;\n",
       "    }\n",
       "\n",
       "    .dataframe thead th {\n",
       "        text-align: right;\n",
       "    }\n",
       "</style>\n",
       "<table border=\"1\" class=\"dataframe\">\n",
       "  <thead>\n",
       "    <tr style=\"text-align: right;\">\n",
       "      <th></th>\n",
       "      <th>suicide</th>\n",
       "      <th>subreddit</th>\n",
       "      <th>content</th>\n",
       "    </tr>\n",
       "  </thead>\n",
       "  <tbody>\n",
       "    <tr>\n",
       "      <th>0</th>\n",
       "      <td>True</td>\n",
       "      <td>Suicidal_Thoughts</td>\n",
       "      <td>Suicidal_Thoughts has been created\\r\\nA subred...</td>\n",
       "    </tr>\n",
       "    <tr>\n",
       "      <th>1</th>\n",
       "      <td>True</td>\n",
       "      <td>Suicidal_Thoughts</td>\n",
       "      <td>Radio TTS prevented my suicide thoughts\\r\\nLat...</td>\n",
       "    </tr>\n",
       "    <tr>\n",
       "      <th>2</th>\n",
       "      <td>True</td>\n",
       "      <td>Suicidal_Thoughts</td>\n",
       "      <td>I really want to kill myself tonight. And I do...</td>\n",
       "    </tr>\n",
       "    <tr>\n",
       "      <th>3</th>\n",
       "      <td>True</td>\n",
       "      <td>Suicidal_Thoughts</td>\n",
       "      <td>Nephew has suicidal thoughts, what to do?\\r\\nM...</td>\n",
       "    </tr>\n",
       "    <tr>\n",
       "      <th>4</th>\n",
       "      <td>True</td>\n",
       "      <td>Suicidal_Thoughts</td>\n",
       "      <td>I don�t want to die, I just want to cease to e...</td>\n",
       "    </tr>\n",
       "    <tr>\n",
       "      <th>...</th>\n",
       "      <td>...</td>\n",
       "      <td>...</td>\n",
       "      <td>...</td>\n",
       "    </tr>\n",
       "    <tr>\n",
       "      <th>9423</th>\n",
       "      <td>False</td>\n",
       "      <td>happy</td>\n",
       "      <td>To fate, karma, whatever you want to call it :...</td>\n",
       "    </tr>\n",
       "    <tr>\n",
       "      <th>9424</th>\n",
       "      <td>False</td>\n",
       "      <td>DecidingToBeBetter</td>\n",
       "      <td>Meditation is ruining my life?\\r\\nI know that ...</td>\n",
       "    </tr>\n",
       "    <tr>\n",
       "      <th>9425</th>\n",
       "      <td>False</td>\n",
       "      <td>DecidingToBeBetter</td>\n",
       "      <td>Just sold my turntables! Major \"minimalism\" ac...</td>\n",
       "    </tr>\n",
       "    <tr>\n",
       "      <th>9426</th>\n",
       "      <td>False</td>\n",
       "      <td>DecidingToBeBetter</td>\n",
       "      <td>The Art of being Different, do what works for ...</td>\n",
       "    </tr>\n",
       "    <tr>\n",
       "      <th>9427</th>\n",
       "      <td>False</td>\n",
       "      <td>happy</td>\n",
       "      <td>Found out my wife is pregnant on my cake day!\\...</td>\n",
       "    </tr>\n",
       "  </tbody>\n",
       "</table>\n",
       "<p>9428 rows × 3 columns</p>\n",
       "</div>"
      ],
      "text/plain": [
       "      suicide           subreddit  \\\n",
       "0        True   Suicidal_Thoughts   \n",
       "1        True   Suicidal_Thoughts   \n",
       "2        True   Suicidal_Thoughts   \n",
       "3        True   Suicidal_Thoughts   \n",
       "4        True   Suicidal_Thoughts   \n",
       "...       ...                 ...   \n",
       "9423    False               happy   \n",
       "9424    False  DecidingToBeBetter   \n",
       "9425    False  DecidingToBeBetter   \n",
       "9426    False  DecidingToBeBetter   \n",
       "9427    False               happy   \n",
       "\n",
       "                                                content  \n",
       "0     Suicidal_Thoughts has been created\\r\\nA subred...  \n",
       "1     Radio TTS prevented my suicide thoughts\\r\\nLat...  \n",
       "2     I really want to kill myself tonight. And I do...  \n",
       "3     Nephew has suicidal thoughts, what to do?\\r\\nM...  \n",
       "4     I don�t want to die, I just want to cease to e...  \n",
       "...                                                 ...  \n",
       "9423  To fate, karma, whatever you want to call it :...  \n",
       "9424  Meditation is ruining my life?\\r\\nI know that ...  \n",
       "9425  Just sold my turntables! Major \"minimalism\" ac...  \n",
       "9426  The Art of being Different, do what works for ...  \n",
       "9427  Found out my wife is pregnant on my cake day!\\...  \n",
       "\n",
       "[9428 rows x 3 columns]"
      ]
     },
     "execution_count": 11,
     "metadata": {},
     "output_type": "execute_result"
    }
   ],
   "source": [
    "Corpus"
   ]
  },
  {
   "cell_type": "code",
   "execution_count": 13,
   "metadata": {},
   "outputs": [
    {
     "data": {
      "image/png": "[encoded data removed]",
      "text/plain": [
       "<Figure size 432x288 with 1 Axes>"
      ]
     },
     "metadata": {
      "needs_background": "light"
     },
     "output_type": "display_data"
    }
   ],
   "source": [
    "import seaborn as sns\n",
    "Corpus['suicide'].value_counts()\n",
    "sns.countplot(x='suicide', data=Corpus, palette= \"hls\")\n",
    "plt.title(\"nombre de textes par catégorie\")\n",
    "plt.show()"
   ]
  },
  {
   "cell_type": "code",
   "execution_count": 14,
   "metadata": {},
   "outputs": [
    {
     "data": {
      "text/plain": [
       "False    4714\n",
       "True     4714\n",
       "Name: suicide, dtype: int64"
      ]
     },
     "execution_count": 14,
     "metadata": {},
     "output_type": "execute_result"
    }
   ],
   "source": [
    "Corpus['suicide'].value_counts()"
   ]
  },
  {
   "cell_type": "markdown",
   "metadata": {},
   "source": [
    "# Traitement de la données texte pour le model"
   ]
  },
  {
   "cell_type": "code",
   "execution_count": 15,
   "metadata": {},
   "outputs": [],
   "source": [
    "# Step - b : Change all the text to lower case. This is required as python interprets 'dog' and 'DOG' differently\n",
    "Corpus['content'] = [entry.lower() for entry in Corpus['content']]\n",
    "# Step - c : Tokenization : In this each entry in the corpus will be broken into set of words\n",
    "Corpus['tokenize']= [word_tokenize(entry) for entry in Corpus['content']]\n",
    "# Step - d : Remove Stop words, Non-Numeric and perfom Word Stemming/Lemmenting.\n",
    "# WordNetLemmatizer requires Pos tags to understand if the word is noun or verb or adjective etc. By default it is set to Noun\n",
    "tag_map = defaultdict(lambda : wn.NOUN)\n",
    "tag_map['J'] = wn.ADJ\n",
    "tag_map['V'] = wn.VERB\n",
    "tag_map['R'] = wn.ADV\n",
    "for index,entry in enumerate(Corpus['tokenize']):\n",
    "    # Declaring Empty List to store the words that follow the rules for this step\n",
    "    Final_words = []\n",
    "    # Initializing WordNetLemmatizer()\n",
    "    word_Lemmatized = WordNetLemmatizer()\n",
    "    # pos_tag function below will provide the 'tag' i.e if the word is Noun(N) or Verb(V) or something else.\n",
    "    for word, tag in pos_tag(entry):\n",
    "        # Below condition is to check for Stop words and consider only alphabets\n",
    "        if word not in stopwords.words('english') and word.isalpha():\n",
    "            word_Final = word_Lemmatized.lemmatize(word,tag_map[tag[0]])\n",
    "            Final_words.append(word_Final)\n",
    "    # The final processed set of words for each iteration will be stored in 'text_final'\n",
    "    Corpus.loc[index,'text_final'] = str(Final_words)"
   ]
  },
  {
   "cell_type": "code",
   "execution_count": null,
   "metadata": {},
   "outputs": [],
   "source": [
    "Corpus"
   ]
  },
  {
   "cell_type": "code",
   "execution_count": 16,
   "metadata": {},
   "outputs": [],
   "source": [
    "ySVM=Corpus['suicide']\n",
    "XSVM=Corpus['text_final']"
   ]
  },
  {
   "cell_type": "code",
   "execution_count": 17,
   "metadata": {},
   "outputs": [],
   "source": [
    "#These will now contain for each row a list of unique integer number and its associated importance \n",
    "#as calculated by TF-IDF.\n",
    "vector = TfidfVectorizer(max_features=5000) #Their will be maximum of 5000 unique words/features as we have set parameter max_features=5000.\n",
    "XSVM=vector.fit_transform(XSVM)"
   ]
  },
  {
   "cell_type": "code",
   "execution_count": 18,
   "metadata": {},
   "outputs": [],
   "source": [
    "#Train_X, Test_X, Train_Y, Test_Y = model_selection.train_test_split(Corpus['text_final'],Corpus['suicide'],test_size=0.3)"
   ]
  },
  {
   "cell_type": "code",
   "execution_count": 19,
   "metadata": {},
   "outputs": [],
   "source": [
    "#transforme les string en numérique pour que le model puisse prendre les données \n",
    "#Encoder = LabelEncoder()\n",
    "#Train_Y = Encoder.fit_transform(Train_Y)\n",
    "#Test_Y = Encoder.fit_transform(Test_Y)"
   ]
  },
  {
   "cell_type": "code",
   "execution_count": 20,
   "metadata": {},
   "outputs": [],
   "source": [
    "#These will now contain for each row a list of unique integer number and its associated importance \n",
    "#as calculated by TF-IDF.\n",
    "#Tfidf_vect = TfidfVectorizer(max_features=5000) #Their will be maximum of 5000 unique words/features as we have set parameter max_features=5000.\n",
    "\n",
    "#Tfidf_vect.fit(Corpus['text_final'])\n",
    "#Train_X_Tfidf = Tfidf_vect.transform(Train_X)\n",
    "#Test_X_Tfidf = Tfidf_vect.transform(Test_X)"
   ]
  },
  {
   "cell_type": "code",
   "execution_count": 21,
   "metadata": {},
   "outputs": [
    {
     "name": "stdout",
     "output_type": "stream",
     "text": [
      "  (0, 95)\t0.2696293640776781\n",
      "  (0, 273)\t0.22352858766700384\n",
      "  (0, 1447)\t0.3043629188989797\n",
      "  (0, 1422)\t0.26730384711039057\n",
      "  (0, 3817)\t0.3347866175806735\n",
      "  (0, 2450)\t0.3812093168247161\n",
      "  (0, 3082)\t0.1464050788962559\n",
      "  (0, 3303)\t0.2280502388710145\n",
      "  (0, 4469)\t0.19770946636461062\n",
      "  (0, 3952)\t0.25752066831589426\n",
      "  (0, 4830)\t0.12419950948610055\n",
      "  (0, 3236)\t0.1528168470588842\n",
      "  (0, 4276)\t0.3791824537090906\n",
      "  (0, 1024)\t0.3073094442392261\n",
      "  (1, 4441)\t0.11328082227667537\n",
      "  (1, 1847)\t0.11870069447285221\n",
      "  (1, 2620)\t0.07639402746170676\n",
      "  (1, 62)\t0.09559851255752914\n",
      "  (1, 1113)\t0.11431139796462347\n",
      "  (1, 3224)\t0.1866688622427969\n",
      "  (1, 1246)\t0.19907819901118565\n",
      "  (1, 1223)\t0.08630321633660878\n",
      "  (1, 2585)\t0.11053290745956178\n",
      "  (1, 1466)\t0.07690765755294093\n",
      "  (1, 2159)\t0.22239908341001693\n",
      "  :\t:\n",
      "  (9427, 155)\t0.08227419717349845\n",
      "  (9427, 785)\t0.19931508491183114\n",
      "  (9427, 2641)\t0.0802644291325054\n",
      "  (9427, 4266)\t0.12374323002420119\n",
      "  (9427, 2983)\t0.10238224987219352\n",
      "  (9427, 2519)\t0.08092549879862806\n",
      "  (9427, 3803)\t0.11203242187711444\n",
      "  (9427, 1717)\t0.07560496122949714\n",
      "  (9427, 1724)\t0.07989962925362441\n",
      "  (9427, 4055)\t0.1135718651759733\n",
      "  (9427, 4593)\t0.06567487680183014\n",
      "  (9427, 3890)\t0.07223506093883608\n",
      "  (9427, 4954)\t0.06547564243491455\n",
      "  (9427, 163)\t0.13400715189584836\n",
      "  (9427, 2042)\t0.08605011656877846\n",
      "  (9427, 4495)\t0.05628020090560208\n",
      "  (9427, 2474)\t0.11461005595293515\n",
      "  (9427, 4193)\t0.07326312136719856\n",
      "  (9427, 4378)\t0.08434960974578269\n",
      "  (9427, 1102)\t0.19152320187211408\n",
      "  (9427, 2498)\t0.055672417187666065\n",
      "  (9427, 3595)\t0.06586533558025535\n",
      "  (9427, 62)\t0.09406471314493138\n",
      "  (9427, 3082)\t0.062153716940453595\n",
      "  (9427, 3952)\t0.10932589801863668\n"
     ]
    }
   ],
   "source": [
    "#data vectorisé\n",
    "#1: Row number of ‘Train_X_Tfidf’, \n",
    "#2: Unique Integer number of each word in the first row, \n",
    "#3: Score calculated by TF-IDF Vectorizer\n",
    "print(XSVM)"
   ]
  },
  {
   "cell_type": "code",
   "execution_count": 22,
   "metadata": {},
   "outputs": [
    {
     "name": "stdout",
     "output_type": "stream",
     "text": [
      "{'create': 1024, 'subreddit': 4276, 'people': 3236, 'want': 4830, 'share': 3952, 'thought': 4469, 'place': 3303, 'one': 3082, 'judge': 2450, 'safe': 3817, 'either': 1422, 'emotion': 1447, 'ask': 273, 'advice': 95, 'radio': 3550, 'prevent': 3413, 'suicide': 4303, 'lately': 2523, 'binge': 458, 'watch': 4843, 'content': 943, 'channel': 700, 'youtube': 4993, 'topic': 4524, 'cover': 1005, 'reddit': 3625, 'post': 3368, 'aftermath': 110, 'dead': 1105, 'body': 506, 'clean': 773, 'crime': 1034, 'scene': 3850, 'horrific': 2159, 'end': 1466, 'life': 2585, 'die': 1223, 'dirty': 1246, 'peaceful': 3224, 'death': 1113, 'actually': 62, 'live': 2620, 'full': 1847, 'thank': 4441, 'really': 3595, 'kill': 2477, 'tonight': 4520, 'know': 2498, 'probably': 3435, 'stay': 4203, 'friend': 1821, 'person': 3260, 'stand': 4188, 'around': 256, 'guy': 2009, 'rap': 3563, 'hide': 2107, 'porn': 3354, 'addiction': 69, 'year': 4975, 'relationship': 3653, 'fucking': 1840, 'lost': 2652, 'nephew': 2960, 'suicidal': 4301, 'parent': 3189, 'let': 2574, 'hang': 2030, 'like': 2596, 'every': 1546, 'week': 4861, 'sit': 4022, 'room': 3784, 'play': 3316, 'phone': 3277, 'give': 1913, 'excuse': 1583, 'since': 4013, 'say': 3840, 'need': 2948, 'rest': 3726, 'soccer': 4077, 'day': 1102, 'talk': 4378, 'tell': 4411, 'nothing': 3009, 'change': 699, 'start': 4193, 'fight': 1703, 'get': 1903, 'bad': 356, 'mom': 2856, 'sister': 4021, 'manipulative': 2704, 'kid': 2474, 'age': 113, 'go': 1922, 'store': 4227, 'somewhere': 4105, 'else': 1436, 'lead': 2540, 'frustrate': 1831, 'lie': 2584, 'use': 4730, 'influence': 2302, 'cant': 642, 'good': 1930, 'worse': 4946, 'ditch': 1297, 'several': 3932, 'time': 4495, 'always': 160, 'social': 4078, 'medium': 2768, 'hear': 2074, 'fun': 1849, 'son': 4106, 'turn': 4604, 'school': 3857, 'hotline': 2171, 'next': 2977, 'mad': 2677, 'contact': 940, 'directly': 1243, 'make': 2690, 'worry': 4944, 'call': 628, 'past': 3210, 'keep': 2468, 'happen': 2033, 'worried': 4943, 'everyone': 1549, 'think': 4462, 'narcissist': 2926, 'listen': 2614, 'anyone': 213, 'reason': 3598, 'still': 4217, 'hangout': 2032, 'month': 2869, 'realize': 3594, 'idea': 2207, 'cease': 677, 'exist': 1591, 'sense': 3909, 'rant': 3562, 'pretty': 3412, 'rough': 3790, 'thing': 4461, 'decade': 1118, 'lose': 2648, 'dad': 1081, 'motorcycle': 2892, 'crash': 1018, 'top': 4523, 'three': 4475, 'beautiful': 399, 'love': 2657, 'everything': 1550, 'damn': 1085, 'hard': 2042, 'raise': 3554, 'absolutely': 13, 'help': 2094, 'mother': 2885, 'best': 441, 'could': 989, 'pride': 3419, 'amazing': 163, 'father': 1665, 'sometimes': 4103, 'matter': 2733, 'financially': 1716, 'deep': 1131, 'rut': 3809, 'much': 2901, 'never': 2971, 'enough': 1486, 'immediately': 2237, 'seem': 3894, 'ever': 1545, 'understand': 4651, 'strictly': 4249, 'self': 3898, 'inflict': 2301, 'multiple': 2902, 'would': 4954, 'type': 4617, 'way': 4847, 'feel': 1681, 'obligate': 3039, 'bill': 454, 'work': 4936, 'etc': 1529, 'wit': 4919, 'severely': 3934, 'addict': 68, 'mentally': 2782, 'physically': 3283, 'marijuana': 2711, 'slightly': 4047, 'sane': 3828, 'existential': 1593, 'crisis': 1039, 'completely': 871, 'drop': 1362, 'habit': 2012, 'battle': 389, 'quit': 3539, 'see': 3890, 'baby': 349, 'grow': 1988, 'strong': 4255, 'young': 4989, 'adult': 88, 'exhausted': 1587, 'ready': 3586, 'hit': 2124, 'rock': 3773, 'bottom': 530, 'close': 789, 'take': 4374, 'toll': 4514, 'someone': 4100, 'mental': 2780, 'trauma': 4566, 'become': 402, 'situation': 4024, 'observation': 3042, 'brain': 542, 'leave': 2554, 'soon': 4109, 'chance': 698, 'kick': 2473, 'finally': 1713, 'try': 4593, 'back': 351, 'hold': 2126, 'string': 4251, 'decide': 1122, 'cut': 1074, 'well': 4871, 'sure': 4325, 'basically': 382, 'scar': 3844, 'right': 3760, 'come': 832, 'side': 3995, 'effect': 1411, 'super': 4313, 'bunch': 600, 'stranger': 4234, 'small': 4055, 'minute': 2827, 'weight': 4866, 'lift': 2591, 'chest': 729, 'appreciate': 238, 'read': 3583, 'apologize': 225, 'scream': 3867, 'oh': 3075, 'boy': 537, 'wrong': 4965, 'wish': 4917, 'stop': 4225, 'commit': 844, 'clueless': 802, 'shitty': 3970, 'future': 1862, 'fuck': 1836, 'hopeless': 2149, 'piece': 3288, 'shit': 3968, 'hurt': 2197, 'man': 2695, 'ca': 620, 'spend': 4146, 'without': 4925, 'awful': 346, 'kind': 2479, 'date': 1096, 'stuff': 4264, 'experience': 1601, 'first': 1724, 'mind': 2815, 'actively': 59, 'shut': 3988, 'direct': 1241, 'anybody': 210, 'danger': 1088, 'private': 3430, 'message': 2790, 'please': 3323, 'relate': 3650, 'sorry': 4117, 'atleast': 299, 'darkness': 1094, 'pain': 3166, 'able': 5, 'even': 1541, 'hope': 2146, 'buddy': 588, 'care': 651, 'worth': 4950, 'plain': 3305, 'bare': 375, 'nobody': 2988, 'less': 2571, 'tomorrow': 4516, 'presence': 3405, 'insignificant': 2331, 'fighting': 1704, 'wait': 4818, 'mean': 2745, 'find': 1717, 'forever': 1777, 'remain': 3670, 'destine': 1192, 'game': 1868, 'pray': 3387, 'crush': 1050, 'promise': 3466, 'lay': 2534, 'air': 128, 'impressed': 2254, 'exactly': 1560, 'alone': 149, 'beg': 410, 'meaningless': 2748, 'existence': 1592, 'expect': 1596, 'anything': 214, 'misery': 2833, 'sorrow': 4116, 'torment': 4525, 'shall': 3946, 'receive': 3608, 'till': 4494, 'heart': 2077, 'run': 3803, 'dry': 1368, 'look': 2643, 'spot': 4167, 'beach': 392, 'weep': 4864, 'yearn': 4977, 'repeat': 3684, 'cycle': 1078, 'return': 3744, 'alive': 142, 'guilt': 2002, 'ok': 3077, 'anymore': 212, 'break': 549, 'behind': 418, 'two': 4615, 'voice': 4806, 'head': 2063, 'constantly': 934, 'easy': 1398, 'therapist': 4451, 'everybody': 1547, 'heartache': 2078, 'none': 2993, 'yet': 4984, 'show': 3983, 'huge': 2182, 'mistake': 2836, 'struggle': 4258, 'depression': 1170, 'teenager': 4408, 'gotten': 1939, 'last': 2519, 'usually': 4737, 'drive': 1357, 'away': 344, 'sudden': 4291, 'impulse': 2259, 'distract': 1291, 'something': 4101, 'book': 514, 'tv': 4605, 'occur': 3057, 'frequently': 1816, 'tempting': 4419, 'husband': 2200, 'yesterday': 4983, 'temporary': 4416, 'often': 3074, 'fleeting': 1741, 'act': 56, 'despise': 1189, 'manage': 2696, 'grasp': 1960, 'onto': 3086, 'brush': 580, 'attention': 311, 'sympathy': 4360, 'serious': 3919, 'check': 718, 'mention': 2783, 'effort': 1416, 'comfort': 835, 'unpleasant': 4698, 'distant': 1290, 'night': 2983, 'sleep': 4039, 'almost': 148, 'context': 945, 'twice': 4609, 'occasionally': 3055, 'maybe': 2740, 'clarify': 766, 'dark': 1092, 'seriously': 3920, 'believe': 422, 'simply': 4010, 'cause': 672, 'drug': 1366, 'different': 1227, 'recently': 3610, 'difficult': 1229, 'move': 2897, 'today': 4507, 'fantastic': 1654, 'privileged': 3432, 'paper': 3180, 'miserable': 2831, 'mock': 2847, 'deeply': 1133, 'regret': 3641, 'stupid': 4266, 'worthless': 4951, 'figure': 1705, 'community': 850, 'open': 3088, 'honestly': 2139, 'intend': 2355, 'least': 2553, 'consciously': 918, 'truthful': 4591, 'discuss': 1270, 'state': 4198, 'meanwhile': 2751, 'picture': 3287, 'bottle': 529, 'xanax': 4967, 'emergency': 1446, 'panic': 3178, 'attack': 305, 'plus': 3331, 'plenty': 3327, 'supply': 4319, 'overdose': 3137, 'though': 4468, 'family': 1649, 'sad': 3813, 'grandparent': 1957, 'do': 1304, 'dog': 1309, 'puppy': 3512, 'wo': 4927, 'long': 2641, 'bitch': 468, 'as': 268, 'june': 2459, 'extend': 1615, 'happy': 2039, 'selfish': 3899, 'hate': 2056, 'college': 824, 'couple': 1000, 'high': 2110, 'berate': 438, 'retard': 3739, 'upon': 4717, 'im': 2229, 'quiet': 3537, 'told': 4511, 'job': 2436, 'party': 3201, 'health': 2069, 'clinic': 785, 'hopefully': 2148, 'med': 2756, 'pill': 3291, 'shotgun': 3979, 'walk': 4822, 'winter': 4911, 'element': 1430, 'north': 3005, 'thanks': 4444, 'far': 1656, 'failure': 1639, 'horny': 2155, 'hospital': 2163, 'proud': 3484, 'pact': 3163, 'intense': 2356, 'ambulance': 169, 'mum': 2904, 'severe': 3933, 'guess': 1997, 'wear': 4853, 'sleeve': 4042, 'hot': 2169, 'dance': 1086, 'whenever': 4883, 'scared': 3847, 'slit': 4050, 'wrist': 4961, 'holiday': 2128, 'calm': 629, 'continue': 947, 'burden': 601, 'hi': 2105, 'currently': 1068, 'university': 4685, 'student': 4261, 'quite': 3540, 'info': 2303, 'old': 3079, 'deal': 1108, 'major': 2688, 'depressive': 1171, 'disorder': 1280, 'anxiety': 208, 'amount': 174, 'diagnose': 1216, 'schizophrenia': 3854, 'ii': 2222, 'bipolar': 462, 'due': 1370, 'constant': 933, 'burning': 604, 'along': 150, 'rapid': 3565, 'downhill': 1328, 'spiral': 4153, 'november': 3018, 'cheat': 716, 'woman': 4930, 'mine': 2820, 'breakdown': 550, 'count': 995, 'heal': 2067, 'attempt': 307, 'therefore': 4454, 'exclusively': 1582, 'home': 2131, 'verbal': 4767, 'abuse': 19, 'country': 998, 'verbally': 4768, 'emotional': 1448, 'board': 504, 'also': 155, 'across': 55, 'world': 4942, 'shove': 3982, 'ground': 1986, 'canada': 636, 'visit': 4799, 'many': 2707, 'send': 3905, 'comfortable': 836, 'shirt': 3967, 'burn': 603, 'recent': 3609, 'diagnosis': 1217, 'medication': 2761, 'nonstop': 2997, 'suffering': 4294, 'fall': 1645, 'cry': 1052, 'alright': 154, 'okay': 3078, 'new': 2973, 'convince': 961, 'however': 2177, 'case': 662, 'tired': 4502, 'pity': 3301, 'tire': 4501, 'disappoint': 1253, 'control': 955, 'mouth': 2896, 'push': 3522, 'therapy': 4452, 'busy': 612, 'exhaust': 1586, 'put': 3524, 'face': 1629, 'sake': 3821, 'others': 3115, 'wan': 4828, 'na': 2918, 'disappear': 1252, 'erase': 1515, 'memory': 2778, 'real': 3587, 'fear': 1674, 'dying': 1381, 'war': 4832, 'spiritual': 4155, 'fought': 1794, 'inside': 2328, 'instead': 2341, 'convey': 960, 'smile': 4061, 'flip': 1746, 'switch': 4359, 'light': 2593, 'road': 3770, 'honest': 2138, 'ago': 118, 'fault': 1668, 'suffer': 4293, 'accept': 26, 'fact': 1633, 'peace': 3223, 'rag': 3551, 'fate': 1664, 'must': 2912, 'mood': 2871, 'dont': 1315, 'quick': 3534, 'nightmare': 2985, 'relax': 3656, 'faith': 1643, 'plan': 3306, 'destroy': 1194, 'exam': 1563, 'extremely': 1625, 'stressed': 4245, 'already': 153, 'broken': 574, 'note': 3007, 'goodbye': 1931, 'thinking': 4464, 'custody': 1072, 'parental': 3190, 'deserve': 1178, 'hardly': 2046, 'straight': 4230, 'homeless': 2132, 'literally': 2617, 'entirely': 1496, 'prevention': 3414, 'venting': 4765, 'session': 3925, 'worker': 4937, 'verge': 4769, 'fair': 1641, 'problem': 3437, 'include': 2271, 'eating': 1400, 'pattern': 3217, 'half': 2019, 'peak': 3226, 'affect': 101, 'grief': 1977, 'loved': 2658, 'trapped': 4564, 'newly': 2975, 'marry': 2718, 'shake': 3944, 'feeling': 1682, 'angry': 185, 'stuck': 4260, 'ridiculous': 3758, 'wrap': 4958, 'car': 648, 'tree': 4574, 'injure': 2316, 'relatively': 3655, 'accident': 31, 'purposefully': 3518, 'lot': 2653, 'especially': 1522, 'stress': 4244, 'antidepressant': 206, 'diet': 1225, 'exercise': 1585, 'name': 2923, 'main': 2684, 'bring': 568, 'wreck': 4959, 'depress': 1166, 'alcoholic': 135, 'edge': 1406, 'obsess': 3044, 'improve': 2257, 'forget': 1778, 'background': 352, 'another': 201, 'round': 3792, 'may': 2739, 'sick': 3993, 'vent': 4764, 'positive': 3360, 'forward': 1792, 'meet': 2769, 'tl': 4505, 'dr': 1336, 'concern': 888, 'previously': 3417, 'whoever': 4893, 'speak': 4132, 'yo': 4986, 'didnt': 1222, 'charge': 706, 'unable': 4628, 'music': 2908, 'little': 2619, 'pop': 3351, 'ill': 2224, 'street': 4241, 'piss': 3297, 'bc': 391, 'thats': 4446, 'depressed': 1168, 'weekend': 4862, 'summer': 4308, 'anyways': 217, 'somewhat': 4104, 'grade': 1946, 'except': 1568, 'math': 2731, 'choice': 743, 'harsh': 2053, 'miss': 2834, 'assignment': 286, 'pass': 3204, 'retake': 3738, 'eat': 1399, 'chip': 741, 'sweet': 4354, 'bed': 404, 'complete': 870, 'idiot': 2213, 'lazy': 2537, 'mess': 2789, 'overwhelm': 3150, 'test': 4434, 'blood': 496, 'afraid': 107, 'humiliate': 2186, 'clothing': 797, 'belly': 426, 'big': 452, 'double': 1325, 'chin': 738, 'conscious': 917, 'stomach': 4223, 'roll': 3777, 'point': 3337, 'mirror': 2829, 'teacher': 4393, 'pressure': 3409, 'yell': 4978, 'class': 768, 'fat': 1662, 'hint': 2120, 'upset': 4720, 'notice': 3011, 'gain': 1865, 'rope': 3787, 'badly': 358, 'disgust': 1274, 'breathe': 557, 'reading': 3585, 'action': 57, 'girlfriend': 1911, 'wonderful': 4932, 'star': 4191, 'bit': 467, 'cutting': 1076, 'disappointed': 1254, 'motivation': 2889, 'living': 2622, 'trust': 4589, 'occasion': 3053, 'scary': 3848, 'guilty': 2003, 'negative': 2952, 'whole': 4894, 'moment': 2857, 'lol': 2636, 'anyway': 216, 'grateful': 1962, 'source': 4125, 'child': 734, 'introvert': 2387, 'felt': 1686, 'treat': 4572, 'slave': 4038, 'part': 3193, 'favor': 1669, 'minor': 2825, 'develop': 1207, 'prioritize': 3426, 'medicine': 2762, 'furious': 1858, 'force': 1773, 'solution': 4095, 'fix': 1731, 'heaven': 2085, 'hell': 2092, 'order': 3105, 'lighter': 2594, 'emotionally': 1449, 'personality': 3263, 'depend': 1162, 'accord': 38, 'disrespectful': 1285, 'rarely': 3569, 'answer': 202, 'sunday': 4310, 'shop': 3974, 'food': 1767, 'money': 2863, 'response': 3723, 'blame': 477, 'spark': 4131, 'ignorance': 2219, 'disrespect': 1284, 'forest': 1776, 'fire': 1721, 'fan': 1651, 'flame': 1735, 'opinion': 3094, 'disney': 1279, 'movie': 2899, 'evil': 1554, 'information': 2305, 'annoy': 193, 'victim': 4778, 'personal': 3262, 'short': 3976, 'business': 610, 'trip': 4582, 'glass': 1917, 'downstairs': 1332, 'apparently': 229, 'elaborate': 1423, 'meaning': 2746, 'purpose': 3517, 'course': 1002, 'reach': 3580, 'sadden': 3814, 'anger': 183, 'congratulation': 912, 'sound': 4122, 'sarcastic': 3830, 'fake': 1644, 'classmate': 770, 'eye': 1627, 'story': 4229, 'fit': 1727, 'overflow': 3140, 'worsen': 4947, 'option': 3103, 'dizzy': 1302, 'throw': 4480, 'faint': 1640, 'ignorant': 2220, 'dumb': 1372, 'belong': 427, 'anywhere': 218, 'shoe': 3972, 'extra': 1622, 'hour': 2173, 'simple': 4009, 'younger': 4990, 'syndrome': 4362, 'tough': 4531, 'medical': 2758, 'older': 3080, 'brother': 575, 'pay': 3219, 'require': 3698, 'freshman': 1818, 'mediocre': 2763, 'suppose': 4322, 'minimum': 2824, 'iq': 2402, 'fail': 1636, 'advisor': 97, 'bust': 611, 'similar': 4007, 'free': 1808, 'interaction': 2365, 'uncomfortable': 4637, 'four': 1796, 'band': 370, 'song': 4107, 'smash': 4059, 'steer': 4209, 'wheel': 4882, 'pretend': 3411, 'present': 3406, 'conversation': 957, 'flat': 1739, 'girl': 1910, 'ignore': 2221, 'text': 4437, 'isolation': 2418, 'deprive': 1172, 'connection': 914, 'touch': 4530, 'monster': 2868, 'ugly': 4623, 'shallow': 3947, 'attractive': 315, 'demand': 1154, 'toy': 4540, 'identity': 2212, 'god': 1924, 'video': 4781, 'rain': 3553, 'cloud': 798, 'strike': 4250, 'divine': 1300, 'intervention': 2379, 'interest': 2366, 'mercy': 2785, 'pathetic': 3214, 'boil': 507, 'house': 2174, 'thus': 4485, 'knife': 2495, 'arm': 254, 'cuz': 1077, 'seeker': 3893, 'thankful': 4442, 'confused': 908, 'laugh': 2526, 'write': 4962, 'ppl': 3382, 'true': 4587, 'grammar': 1951, 'remember': 3672, 'normal': 3003, 'level': 2578, 'severity': 3935, 'carry': 658, 'regular': 3642, 'particular': 3197, 'virus': 4795, 'couldnt': 990, 'question': 3533, 'seek': 3892, 'drag': 1338, 'system': 4364, 'internally': 2372, 'refuse': 3636, 'doctor': 1306, 'somebody': 4097, 'perfect': 3241, 'shortly': 3977, 'silence': 4002, 'saw': 3839, 'stitch': 4220, 'morning': 2878, 'wound': 4956, 'outside': 3131, 'dress': 1351, 'willing': 4901, 'surprised': 4331, 'waste': 4841, 'insight': 2329, 'support': 4320, 'hello': 2093, 'hence': 2098, 'fully': 1848, 'finance': 1714, 'explain': 1605, 'sincerely': 4015, 'nice': 2978, 'phase': 3270, 'highly': 2112, 'culture': 1059, 'obsessed': 3045, 'search': 3876, 'detail': 1200, 'later': 2524, 'history': 2123, 'obsession': 3046, 'interested': 2367, 'poem': 3336, 'demon': 1155, 'theme': 4447, 'consume': 938, 'numb': 3025, 'online': 3085, 'period': 3249, 'harm': 2049, 'thankfully': 4443, 'fill': 1707, 'island': 2414, 'prove': 3485, 'conspiracy': 932, 'totally': 4529, 'degree': 1143, 'energetic': 1472, 'style': 4270, 'cheerful': 721, 'dislike': 1277, 'middle': 2800, 'popular': 3352, 'science': 3860, 'friendly': 1822, 'rid': 3755, 'slowly': 4052, 'page': 3165, 'criminal': 1035, 'publish': 3504, 'computer': 883, 'imagine': 2233, 'remind': 3673, 'fine': 1718, 'female': 1687, 'spoiled': 4163, 'chill': 737, 'boyfriend': 538, 'city': 763, 'decrease': 1126, 'horribly': 2158, 'low': 2662, 'research': 3702, 'truly': 4588, 'black': 474, 'pink': 3295, 'hopelessness': 2151, 'bone': 512, 'form': 1782, 'skull': 4032, 'bear': 394, 'society': 4082, 'view': 4784, 'physical': 3282, 'beauty': 401, 'singular': 4019, 'great': 1968, 'kindness': 2484, 'compassion': 858, 'intelligence': 2353, 'function': 1850, 'treatment': 4573, 'trajectory': 4553, 'bully': 597, 'psychological': 3494, 'resolve': 3716, 'despite': 1190, 'uni': 4676, 'offer': 3069, 'generally': 1886, 'socially': 4080, 'bless': 487, 'gift': 1907, 'friendship': 1824, 'art': 262, 'witch': 4920, 'somehow': 4099, 'sole': 4090, 'continued': 948, 'unfortunately': 4669, 'working': 4938, 'facial': 1631, 'realise': 3589, 'modern': 2853, 'sin': 4012, 'learn': 2548, 'subconscious': 4272, 'mechanic': 2754, 'involve': 2400, 'international': 2373, 'properly': 3474, 'save': 3837, 'surgery': 4329, 'uk': 4624, 'process': 3441, 'financial': 1715, 'hurdle': 2196, 'possible': 3366, 'besides': 440, 'approve': 245, 'honesty': 2140, 'improvement': 2258, 'impact': 2243, 'opportunity': 3096, 'aside': 272, 'genuine': 1898, 'agency': 114, 'nursing': 3030, 'assistant': 289, 'temporarily': 4415, 'lockdown': 2631, 'covid': 1006, 'cowardly': 1009, 'deed': 1129, 'plant': 3310, 'patch': 3212, 'dust': 1376, 'toxic': 4538, 'generation': 1888, 'evolution': 1555, 'human': 2183, 'creation': 1025, 'kinder': 2481, 'everyday': 1548, 'second': 3881, 'release': 3660, 'gun': 2006, 'pull': 3506, 'trigger': 4581, 'hurting': 2199, 'owe': 3155, 'happiness': 2038, 'awhile': 347, 'lover': 2660, 'strength': 4242, 'attain': 306, 'wisdom': 4914, 'everytime': 1551, 'useless': 4733, 'acquaintance': 53, 'unloved': 4693, 'birthday': 465, 'lonely': 2639, 'career': 652, 'clinical': 786, 'issue': 2419, 'yea': 4973, 'invest': 2393, 'tear': 4397, 'underlying': 4649, 'relief': 3663, 'might': 2804, 'sophomore': 4114, 'sibling': 3992, 'yelling': 4979, 'unlock': 4691, 'delete': 1145, 'hand': 2026, 'sneak': 4070, 'door': 1317, 'park': 3191, 'sort': 4118, 'attach': 303, 'jump': 2457, 'stream': 4240, 'current': 1067, 'swim': 4356, 'survival': 4339, 'instinct': 2343, 'likely': 2599, 'drown': 1364, 'strongly': 4256, 'glad': 1914, 'tendency': 4422, 'beyond': 447, 'repair': 3682, 'rip': 3763, 'aid': 126, 'protect': 3480, 'reality': 3592, 'possibly': 3367, 'random': 3558, 'single': 4018, 'handle': 2028, 'longer': 2642, 'describe': 1175, 'wether': 4877, 'breath': 556, 'ache': 46, 'bother': 528, 'ruin': 3798, 'enter': 1490, 'painful': 3167, 'incompetent': 2273, 'isolate': 2416, 'hostility': 2168, 'kitchen': 2488, 'bathroom': 386, 'incapable': 2265, 'decent': 1121, 'weak': 4848, 'intention': 2361, 'hatred': 2058, 'sabotage': 3810, 'subconsciously': 4273, 'drink': 1354, 'gut': 2008, 'coward': 1007, 'tremendous': 4575, 'courage': 1001, 'final': 1712, 'step': 4211, 'ten': 4420, 'headspace': 2066, 'destruction': 1197, 'everywhere': 1552, 'harder': 2044, 'wherever': 4885, 'bar': 374, 'shock': 3971, 'perhaps': 3248, 'partner': 3200, 'water': 4845, 'aspect': 275, 'absence': 10, 'google': 1935, 'damage': 1084, 'punish': 3510, 'space': 4127, 'wake': 4820, 'morbid': 2875, 'fool': 1768, 'believer': 423, 'insecurity': 2327, 'discomfort': 1264, 'lash': 2518, 'fruition': 1830, 'enable': 1461, 'terrifying': 4432, 'regardless': 3639, 'whether': 4886, 'suck': 4290, 'crumble': 1049, 'cowardice': 1008, 'tick': 4486, 'boat': 505, 'together': 4509, 'forgive': 1779, 'cross': 1044, 'line': 2606, 'succeed': 4285, 'recover': 3619, 'happier': 2035, 'outcome': 3121, 'opposite': 3098, 'pointless': 3338, 'introverted': 2388, 'beginning': 413, 'dominate': 1312, 'although': 158, 'converse': 958, 'loneliness': 2638, 'cope': 971, 'whatever': 4878, 'zero': 4995, 'laziness': 2536, 'psychiatrist': 3493, 'survive': 4340, 'increase': 2275, 'sometime': 4102, 'apology': 226, 'nonsense': 2996, 'available': 334, 'confide': 899, 'resource': 3719, 'building': 592, 'wonder': 4931, 'fairly': 1642, 'painless': 3170, 'result': 3733, 'ghost': 1905, 'bore': 521, 'horrible': 2157, 'bet': 443, 'spent': 4148, 'blue': 500, 'towards': 4534, 'revenge': 3746, 'childhood': 735, 'success': 4286, 'train': 4550, 'track': 4542, 'near': 2941, 'pas': 3203, 'ab': 1, 'breathing': 558, 'stretch': 4247, 'drunk': 1367, 'daily': 1083, 'organize': 3110, 'relative': 3654, 'follow': 1763, 'distance': 1289, 'guideline': 2001, 'apartment': 221, 'workout': 4940, 'catch': 669, 'guard': 1995, 'reject': 3647, 'stepdad': 4212, 'abusive': 22, 'arrest': 259, 'genuinely': 1899, 'ball': 367, 'join': 2440, 'military': 2810, 'metal': 2793, 'brave': 546, 'gon': 1929, 'confidence': 900, 'ptsd': 3501, 'accessible': 30, 'careless': 655, 'daughter': 1098, 'facebook': 1630, 'yard': 4971, 'unpack': 4697, 'dull': 1371, 'fog': 1760, 'hair': 2017, 'openly': 3090, 'whine': 4889, 'dramatic': 1341, 'rude': 3797, 'gray': 1967, 'destructive': 1198, 'flashback': 1738, 'overall': 3135, 'finish': 1720, 'july': 2456, 'january': 2428, 'flirt': 1747, 'youth': 4992, 'december': 1120, 'musician': 2910, 'member': 2775, 'church': 758, 'mentor': 2784, 'goodnight': 1933, 'ya': 4969, 'stab': 4178, 'empty': 1460, 'beating': 398, 'outweigh': 3134, 'melancholy': 2771, 'downright': 1331, 'hollow': 2129, 'eventually': 1544, 'wall': 4824, 'build': 591, 'luck': 2666, 'certain': 689, 'depressing': 1169, 'seal': 3875, 'ramble': 3555, 'void': 4807, 'dollar': 1310, 'gas': 1874, 'important': 2248, 'slip': 4049, 'skip': 4031, 'perspective': 3265, 'wave': 4846, 'sun': 4309, 'ive': 2423, 'marriage': 2716, 'apart': 220, 'unattractive': 4629, 'public': 3503, 'quarantine': 3530, 'havent': 2061, 'shoot': 3973, 'lethal': 2575, 'injection': 2315, 'sub': 4271, 'insomnia': 2333, 'yes': 4982, 'thousand': 4471, 'usual': 4736, 'political': 3345, 'climate': 781, 'resistant': 3714, 'functioning': 1852, 'dysfunctional': 1384, 'white': 4892, 'scare': 3846, 'disconnect': 1265, 'race': 3544, 'statistic': 4201, 'noon': 2998, 'hypocrite': 2204, 'spin': 4151, 'motivational': 2890, 'speaker': 4133, 'psychedelics': 3491, 'escape': 1519, 'suddenly': 4292, 'lap': 2514, 'pour': 3377, 'nose': 3006, 'consumption': 939, 'liquor': 2612, 'fast': 1660, 'hop': 2145, 'rush': 3807, 'sob': 4074, 'ride': 3756, 'quickly': 3536, 'number': 3026, 'ex': 1557, 'news': 2976, 'twenty': 4608, 'beside': 439, 'heavy': 2087, 'left': 2557, 'curtain': 1070, 'leg': 2559, 'buckle': 586, 'tube': 4596, 'tap': 4382, 'set': 3926, 'beforehand': 408, 'tie': 4489, 'cold': 817, 'responsible': 3725, 'shell': 3960, 'floor': 1750, 'cancer': 638, 'funeral': 1856, 'police': 3341, 'shelter': 3961, 'utterly': 4740, 'devastate': 1206, 'abuser': 21, 'dangerous': 1089, 'risk': 3765, 'countless': 997, 'smart': 4056, 'psychotic': 3500, 'clearly': 776, 'firstly': 1725, 'funny': 1857, 'mindset': 2819, 'indeed': 2283, 'loud': 2656, 'shout': 3981, 'hat': 2055, 'belt': 430, 'scratch': 3866, 'cat': 668, 'assume': 291, 'harming': 2051, 'heartbroken': 2082, 'texting': 4439, 'noose': 3000, 'cord': 974, 'headphone': 2065, 'foot': 1770, 'wire': 4913, 'choke': 744, 'unless': 4687, 'twist': 4611, 'neck': 2947, 'episode': 1506, 'closer': 792, 'absolute': 12, 'unique': 4680, 'bombard': 510, 'analyze': 180, 'doubt': 1326, 'general': 1884, 'swing': 4358, 'range': 3560, 'anxious': 209, 'mix': 2841, 'legitimately': 2565, 'torture': 4526, 'square': 4174, 'invalidate': 2391, 'access': 29, 'ups': 4719, 'down': 1327, 'enjoy': 1482, 'nowhere': 3020, 'emptiness': 1459, 'lack': 2505, 'frustration': 1834, 'desperation': 1188, 'ultimately': 4626, 'joy': 2448, 'isnt': 2415, 'argument': 252, 'manipulate': 2702, 'romantic': 3781, 'freak': 1806, 'manner': 2705, 'insanely': 2324, 'apologise': 224, 'immensely': 2239, 'centre': 686, 'cherish': 726, 'motivate': 2887, 'stick': 4215, 'exclusive': 1581, 'luxury': 2673, 'respect': 3720, 'insult': 2348, 'condition': 895, 'dump': 1374, 'equally': 1508, 'attendance': 310, 'alcohol': 134, 'dear': 1111, 'suggest': 4299, 'roof': 3783, 'pick': 3286, 'http': 2179, 'ideation': 2210, 'institutionalize': 2345, 'mostly': 2883, 'intrusive': 2389, 'actual': 61, 'effective': 1412, 'begin': 411, 'welcome': 4870, 'reflection': 3633, 'crazy': 1022, 'throwaway': 4481, 'account': 39, 'wife': 4899, 'mile': 2808, 'soul': 4120, 'aunt': 322, 'law': 2531, 'prior': 3425, 'cousin': 1004, 'molest': 2855, 'kinda': 2480, 'sale': 3823, 'barely': 376, 'sex': 3936, 'pound': 3376, 'dysmorphia': 1385, 'lb': 2538, 'giant': 1906, 'scale': 3842, 'lmao': 2623, 'le': 2539, 'standard': 4189, 'divorce': 1301, 'word': 4935, 'obviously': 3052, 'weirdly': 4868, 'idk': 2215, 'key': 2471, 'puke': 3505, 'loving': 2661, 'yeah': 4974, 'btw': 582, 'asshole': 284, 'soo': 4108, 'basic': 381, 'english': 1480, 'disappointment': 1256, 'separate': 3914, 'breakup': 554, 'draw': 1346, 'straw': 4237, 'bleed': 484, 'punch': 3509, 'tool': 4521, 'twelve': 4607, 'spare': 4130, 'casually': 667, 'outburst': 3119, 'randomly': 3559, 'discover': 1268, 'validation': 4749, 'ton': 4517, 'reset': 3708, 'button': 616, 'loss': 2651, 'direction': 1242, 'wont': 4933, 'vocal': 4804, 'lean': 2546, 'curious': 1065, 'theory': 4449, 'chronic': 754, 'exaggerate': 1561, 'strange': 4232, 'contemplate': 942, 'psychopath': 3498, 'suffers': 4295, 'journey': 2447, 'weird': 4867, 'knowledge': 2500, 'recognize': 3615, 'easily': 1396, 'steal': 4206, 'joke': 2442, 'kitten': 2489, 'decision': 1123, 'careful': 653, 'challenge': 696, 'prone': 3471, 'dose': 1323, 'mg': 2798, 'total': 4528, 'weigh': 4865, 'subscriber': 4279, 'title': 4504, 'peacefully': 3225, 'task': 4385, 'shes': 3962, 'committed': 846, 'confident': 901, 'jealous': 2432, 'bitter': 470, 'shadow': 3942, 'respond': 3722, 'productive': 3448, 'complain': 869, 'starve': 4197, 'add': 66, 'invite': 2398, 'he': 2062, 'paranoid': 3187, 'religious': 3667, 'rather': 3573, 'sadly': 3815, 'avoid': 336, 'lecture': 2555, 'valid': 4747, 'momentary': 2858, 'noticed': 3013, 'permanent': 3250, 'moderate': 2851, 'ocd': 3058, 'prefer': 3395, 'accurate': 43, 'prescription': 3404, 'heard': 2075, 'slow': 4051, 'sign': 3998, 'pls': 3328, 'impulsive': 2260, 'clear': 775, 'sacrifice': 3812, 'compromise': 880, 'discard': 1258, 'rapidly': 3566, 'tbh': 4390, 'od': 3061, 'aforementioned': 106, 'letter': 2577, 'rage': 3552, 'debt': 1117, 'saving': 3838, 'spotify': 4168, 'playlist': 3319, 'blank': 479, 'sentence': 3912, 'language': 2513, 'otherwise': 3116, 'powerless': 3381, 'unimportant': 4677, 'silent': 4003, 'swallow': 4350, 'luckily': 2667, 'indifferent': 2289, 'awkward': 348, 'normally': 3004, 'defeat': 1135, 'ability': 4, 'card': 649, 'threat': 4473, 'expectation': 1597, 'specific': 4139, 'solve': 4096, 'complicated': 874, 'dream': 1350, 'bubble': 583, 'wipe': 4912, 'mask': 2720, 'walking': 4823, 'disaster': 1257, 'jail': 2425, 'consider': 924, 'id': 2206, 'albeit': 132, 'front': 1826, 'altogether': 159, 'darker': 1093, 'determine': 1204, 'terrible': 4427, 'whose': 4897, 'role': 3776, 'earth': 1393, 'program': 3457, 'graduate': 1948, 'awesome': 345, 'scholarship': 3856, 'entire': 1495, 'passion': 3206, 'talent': 4376, 'inferiority': 2299, 'complex': 872, 'athletic': 298, 'charismatic': 708, 'painfully': 3168, 'passing': 3205, 'useful': 4732, 'skill': 4028, 'cook': 965, 'sport': 4166, 'particularly': 3198, 'special': 4135, 'whatsoever': 4881, 'convert': 959, 'novel': 3016, 'ethic': 1532, 'toward': 4533, 'rate': 3572, 'throughout': 4479, 'inspiration': 2334, 'truth': 4590, 'terrify': 4431, 'possibility': 3365, 'wow': 4957, 'youre': 4991, 'choose': 745, 'romance': 3780, 'serve': 3922, 'convenient': 956, 'distraction': 1292, 'stutter': 4269, 'trash': 4565, 'imply': 2246, 'doesnt': 1308, 'operate': 3091, 'within': 4924, 'tight': 4490, 'group': 1987, 'terribly': 4428, 'internet': 2374, 'dozen': 1335, 'continuously': 950, 'aggressive': 117, 'boot': 517, 'compatible': 860, 'dread': 1349, 'abandon': 2, 'off': 3066, 'allow': 146, 'curl': 1066, 'beneath': 434, 'impossible': 2251, 'example': 1565, 'messy': 2792, 'gesture': 1902, 'study': 4263, 'engineer': 1477, 'volunteer': 4811, 'socialize': 4079, 'sing': 4016, 'objective': 3037, 'helplessness': 2097, 'maintain': 2686, 'net': 2965, 'supportive': 4321, 'provide': 3486, 'education': 1409, 'economic': 1401, 'insist': 2332, 'afford': 104, 'aware': 342, 'recognise': 3613, 'privilege': 3431, 'hole': 2127, 'warm': 4835, 'planet': 3308, 'previous': 3416, 'ashamed': 270, 'humanity': 2184, 'piano': 3284, 'russian': 3808, 'advance': 90, 'player': 3317, 'team': 4395, 'desperately': 1187, 'appear': 231, 'weather': 4854, 'bird': 463, 'witness': 4926, 'gf': 1904, 'loose': 2646, 'confuse': 907, 'native': 2932, 'german': 1900, 'worthy': 4953, 'embarrassment': 1443, 'pure': 3514, 'vain': 4745, 'advantage': 93, 'compassionate': 859, 'cynical': 1080, 'shy': 3989, 'perceive': 3238, 'blind': 490, 'animal': 187, 'concerned': 889, 'professional': 3451, 'boss': 527, 'moreover': 2876, 'moral': 2873, 'nerve': 2962, 'interview': 2380, 'nurse': 3029, 'stable': 4181, 'income': 2272, 'independent': 2286, 'project': 3463, 'value': 4752, 'workplace': 4941, 'field': 1700, 'government': 1940, 'corruption': 984, 'ie': 2217, 'frame': 1801, 'innocent': 2320, 'arrogant': 261, 'harass': 2040, 'consequence': 921, 'appeal': 230, 'nowadays': 3019, 'company': 854, 'contribute': 953, 'environment': 1503, 'layer': 2535, 'effectively': 1413, 'drain': 1339, 'energy': 1473, 'restrict': 3731, 'freedom': 1809, 'holy': 2130, 'document': 1307, 'spread': 4170, 'uncertain': 4634, 'unsure': 4707, 'capable': 643, 'injustice': 2318, 'significant': 4000, 'overcome': 3136, 'corrupt': 983, 'hearted': 2083, 'link': 2609, 'irrational': 2408, 'focus': 1758, 'agree': 121, 'violent': 4789, 'kidnap': 2475, 'threaten': 4474, 'technically': 4401, 'legal': 2561, 'mod': 2848, 'nasty': 2930, 'recovery': 3620, 'ponder': 3347, 'throat': 4478, 'fucked': 1837, 'faster': 1661, 'skin': 4029, 'unsatisfied': 4704, 'gym': 2011, 'lung': 2670, 'infection': 2297, 'alot': 152, 'basement': 380, 'stressful': 4246, 'laundry': 2530, 'machine': 2676, 'annoying': 195, 'degrade': 1142, 'repetitive': 3688, 'healthy': 2073, 'garbage': 1872, 'unknown': 4686, 'buy': 617, 'bike': 453, 'chair': 695, 'cunt': 1060, 'event': 1543, 'slap': 4037, 'murder': 2906, 'september': 3916, 'win': 4905, 'eternal': 1530, 'scenario': 3849, 'obvious': 3051, 'cop': 970, 'robot': 3772, 'odd': 3062, 'reasoning': 3601, 'silly': 4005, 'various': 4757, 'area': 249, 'screw': 3870, 'arise': 253, 'bomb': 509, 'sorta': 4119, 'vague': 4744, 'hospitalize': 2165, 'headache': 2064, 'pool': 3348, 'symptom': 4361, 'size': 4026, 'boost': 516, 'anguish': 186, 'weed': 4860, 'nicotine': 2981, 'director': 1244, 'teen': 4406, 'rebellious': 3605, 'clue': 801, 'men': 2779, 'design': 1179, 'inspire': 2335, 'feedback': 1680, 'efficient': 1414, 'cheap': 715, 'immediate': 2236, 'fade': 1635, 'slide': 4045, 'alleviate': 145, 'hammer': 2025, 'blow': 498, 'heroin': 2100, 'donate': 1313, 'willingly': 4902, 'fee': 1678, 'organization': 3109, 'truthfully': 4592, 'identify': 2211, 'scheme': 3853, 'anticipate': 205, 'pistol': 3298, 'speed': 4143, 'regard': 3638, 'dope': 1319, 'survivor': 4341, 'decline': 1125, 'beat': 397, 'afterlife': 109, 'psyche': 3490, 'opt': 3099, 'early': 1391, 'horror': 2161, 'goal': 1923, 'psychologically': 3495, 'breaking': 552, 'suspicion': 4346, 'resolution': 3715, 'successfully': 4288, 'withdraw': 4921, 'isolated': 2417, 'era': 1514, 'combat': 828, 'vet': 4771, 'monday': 2861, 'civil': 764, 'chicago': 731, 'cult': 1056, 'gram': 1950, 'cool': 969, 'hardcore': 2043, 'regularly': 3643, 'bullshit': 596, 'sexually': 3939, 'abused': 20, 'bull': 594, 'dude': 1369, 'suit': 4304, 'lock': 2630, 'plane': 3307, 'explanation': 1606, 'chore': 747, 'repeatedly': 3685, 'junior': 2460, 'suspend': 4344, 'react': 3581, 'punishment': 3511, 'semester': 3903, 'express': 1613, 'pussy': 3523, 'guest': 1998, 'display': 1282, 'fucker': 1838, 'ass': 279, 'chris': 750, 'veteran': 4772, 'euphoric': 1535, 'float': 1748, 'urge': 4726, 'garage': 1871, 'manifest': 2701, 'parking': 3192, 'walmart': 4827, 'seat': 3880, 'lil': 2600, 'football': 1771, 'app': 227, 'ice': 2205, 'brag': 541, 'surprise': 4330, 'interact': 2364, 'polite': 3343, 'mall': 2694, 'power': 3379, 'va': 4741, 'jesus': 2435, 'counseling': 992, 'mail': 2683, 'appointment': 237, 'responsibility': 3724, 'lucky': 2668, 'creep': 1031, 'terror': 4433, 'rambling': 3556, 'poor': 3349, 'suburb': 4283, 'necessarily': 2944, 'appropriate': 243, 'unhealthy': 4674, 'admit': 80, 'attachment': 304, 'allergic': 143, 'reaction': 3582, 'cuss': 1071, 'grandmother': 1955, 'stroke': 4254, 'lucid': 2665, 'local': 2628, 'secret': 3884, 'instantly': 2340, 'thanksgiving': 4445, 'thru': 4482, 'specifically': 4140, 'significantly': 4001, 'training': 4551, 'bf': 448, 'restaurant': 3728, 'location': 2629, 'wage': 4817, 'officially': 3073, 'average': 335, 'warn': 4837, 'replace': 3689, 'cost': 986, 'initially': 2312, 'helpful': 2095, 'increasingly': 2277, 'cuddle': 1054, 'clingy': 784, 'rib': 3753, 'joint': 2441, 'pack': 3161, 'likeable': 2597, 'hormone': 2154, 'impress': 2253, 'facade': 1628, 'method': 2796, 'arent': 250, 'progress': 3459, 'psych': 3489, 'ward': 4833, 'outpatient': 3129, 'fantasize': 1653, 'compare': 855, 'affair': 100, 'intelligent': 2354, 'incredibly': 2279, 'crappy': 1017, 'educational': 1410, 'remotely': 3677, 'image': 2230, 'balcony': 365, 'laughing': 2527, 'tho': 4467, 'coping': 972, 'mechanism': 2755, 'illness': 2227, 'parasite': 3188, 'leech': 2556, 'eliminate': 1434, 'shoulder': 3980, 'cough': 988, 'feed': 1679, 'heartbeat': 2079, 'suffocate': 4297, 'finger': 1719, 'sweat': 4352, 'vision': 4798, 'accompany': 34, 'amazingly': 164, 'shift': 3963, 'uneasy': 4661, 'milk': 2811, 'tunnel': 4601, 'learnt': 2551, 'there': 4453, 'grim': 1979, 'delusion': 1152, 'overthinking': 3147, 'paranoia': 3186, 'positively': 3361, 'mold': 2854, 'balance': 363, 'recommend': 3616, 'philosopher': 3273, 'introduce': 2384, 'buddhist': 587, 'monk': 2865, 'market': 2714, 'rent': 3680, 'smoke': 4063, 'bowl': 535, 'flow': 1754, 'vibe': 4775, 'noise': 2991, 'studio': 4262, 'pen': 3232, 'movement': 2898, 'photo': 3278, 'op': 3087, 'jobless': 2437, 'proceed': 3440, 'scroll': 3872, 'dy': 1380, 'upstairs': 4722, 'shame': 3949, 'active': 58, 'passive': 3208, 'ta': 4365, 'accidentally': 33, 'fell': 1684, 'flight': 1744, 'stair': 4186, 'spine': 4152, 'wasnt': 4840, 'basis': 383, 'gruesome': 1992, 'poke': 3340, 'soothe': 4113, 'backwards': 354, 'beast': 396, 'leftover': 2558, 'tend': 4421, 'late': 2522, 'academic': 24, 'orient': 3111, 'stubborn': 4259, 'amaze': 162, 'sadness': 3816, 'rely': 3669, 'yr': 4994, 'dick': 1220, 'taught': 4388, 'cruel': 1047, 'curse': 1069, 'desire': 1182, 'bullying': 598, 'surround': 4336, 'warning': 4838, 'engage': 1474, 'behaviour': 417, 'europe': 1536, 'apply': 236, 'resume': 3734, 'sexual': 3937, 'abort': 7, 'masturbate': 2726, 'poorly': 3350, 'autism': 327, 'traumatize': 4569, 'overseas': 3145, 'homeschooled': 2134, 'highschool': 2113, 'five': 1730, 'sweep': 4353, 'table': 4367, 'six': 4025, 'cried': 1033, 'american': 171, 'barrier': 377, 'esteem': 1528, 'homework': 2136, 'nearby': 2942, 'pillow': 3293, 'asleep': 274, 'insane': 2323, 'hug': 2181, 'compulsion': 881, 'nd': 2940, 'forth': 1787, 'army': 255, 'bos': 526, 'coworkers': 1011, 'overwhelmed': 3151, 'birth': 464, 'envious': 1502, 'tip': 4500, 'trouble': 4585, 'making': 2692, 'encourage': 1463, 'authentic': 324, 'loser': 2649, 'pandemic': 3177, 'overwhelming': 3152, 'doom': 1316, 'positivity': 3362, 'town': 4537, 'reassurance': 3602, 'logically': 2635, 'succumb': 4289, 'cautious': 673, 'comparison': 856, 'niece': 2982, 'household': 2175, 'hill': 2117, 'experienced': 1602, 'user': 4734, 'familiar': 1648, 'acid': 50, 'candle': 639, 'collapse': 819, 'plug': 3329, 'secretly': 3885, 'delusional': 1153, 'balanced': 364, 'meant': 2749, 'negativity': 2954, 'teenage': 4407, 'narcissistic': 2927, 'con': 884, 'grant': 1958, 'teach': 4392, 'belief': 421, 'irritate': 2412, 'coz': 1012, 'noone': 2999, 'writing': 4964, 'driven': 1358, 'qualification': 3526, 'attend': 309, 'recommendation': 3617, 'japan': 2429, 'trap': 4563, 'format': 1784, 'mobile': 2845, 'ensure': 1489, 'remove': 3678, 'billion': 455, 'haha': 2016, 'groom': 1984, 'sooo': 4111, 'til': 4493, 'breakfast': 551, 'kms': 2492, 'devil': 1212, 'cute': 1075, 'corona': 977, 'planning': 3309, 'carefully': 654, 'bridge': 562, 'bye': 619, 'discussion': 1271, 'original': 3112, 'evaluation': 1539, 'patient': 3216, 'wanted': 4831, 'achieve': 48, 'humor': 2189, 'reciprocate': 3612, 'nearly': 2943, 'brief': 563, 'resent': 3704, 'favorite': 1670, 'common': 847, 'anime': 189, 'cartoon': 660, 'camp': 634, 'horse': 2162, 'speech': 4142, 'clothes': 796, 'knock': 2496, 'credit': 1030, 'neither': 2959, 'request': 3697, 'desperate': 1186, 'gay': 1879, 'third': 4465, 'phrase': 3280, 'unwanted': 4709, 'hopeful': 2147, 'settle': 3929, 'whats': 4880, 'chronically': 755, 'got': 1938, 'reflect': 3632, 'ironic': 2405, 'romantically': 3782, 'accomplished': 36, 'talented': 4377, 'list': 2613, 'objectively': 3038, 'attractiveness': 316, 'majority': 2689, 'bmi': 503, 'definition': 1141, 'sum': 4305, 'realistically': 3591, 'argue': 251, 'million': 2812, 'nature': 2935, 'accomplish': 35, 'exaggeration': 1562, 'overweight': 3149, 'muscle': 2907, 'definitely': 1140, 'cabinet': 621, 'terrified': 4429, 'split': 4161, 'excite': 1575, 'explore': 1610, 'illusion': 2228, 'block': 494, 'bury': 608, 'obligation': 3040, 'afloat': 105, 'hundred': 2191, 'king': 2485, 'entertainment': 1492, 'copy': 973, 'assistance': 288, 'usa': 4729, 'cash': 663, 'afterwards': 112, 'relive': 3668, 'dm': 1303, 'oxygen': 3159, 'dealer': 1109, 'grandma': 1954, 'crowd': 1045, 'rob': 3771, 'neighbor': 2956, 'complicate': 873, 'ate': 295, 'squeeze': 4176, 'suppress': 4324, 'fiancee': 1696, 'pulse': 3507, 'kindergarten': 2482, 'transgender': 4558, 'individual': 2290, 'laptop': 2515, 'nail': 2920, 'bestfriend': 442, 'stem': 4210, 'insurance': 2349, 'nauseous': 2937, 'helpless': 2096, 'earlier': 1390, 'fiance': 1695, 'approach': 242, 'closing': 794, 'bout': 534, 'behavior': 415, 'psychologist': 3496, 'nervous': 2963, 'per': 3237, 'unemployment': 4663, 'expense': 1599, 'bank': 372, 'schedule': 3852, 'payment': 3221, 'employment': 1457, 'fund': 1853, 'employer': 1456, 'landlord': 2511, 'package': 3162, 'budget': 589, 'tall': 4379, 'baggage': 360, 'lake': 2508, 'ankle': 190, 'bag': 359, 'dirt': 1245, 'circumstance': 761, 'repress': 3695, 'adopt': 83, 'atm': 300, 'atheist': 296, 'adoptive': 84, 'naive': 2921, 'debate': 1114, 'razor': 3579, 'bliss': 492, 'bath': 385, 'tub': 4595, 'rn': 3769, 'realization': 3593, 'chat': 714, 'alike': 141, 'halfway': 2020, 'muster': 2913, 'flood': 1749, 'sat': 3831, 'shower': 3984, 'chaos': 701, 'confusion': 910, 'define': 1139, 'ahead': 124, 'replay': 3691, 'better': 446, 'eternity': 1531, 'row': 3795, 'heat': 2084, 'wood': 4934, 'stack': 4182, 'legacy': 2560, 'crawl': 1021, 'route': 3793, 'understood': 4656, 'criticize': 1042, 'limbo': 2602, 'unemployed': 4662, 'unfortunate': 4668, 'elderly': 1425, 'pig': 3289, 'eldest': 1426, 'dramatically': 1342, 'activity': 60, 'laughter': 2528, 'despair': 1185, 'impose': 2250, 'mark': 2713, 'successful': 4287, 'chosen': 749, 'teeth': 4409, 'freaking': 1807, 'immerse': 2240, 'companionship': 853, 'avail': 333, 'meaningful': 2747, 'harmony': 2052, 'grieve': 1978, 'bonus': 513, 'comment': 841, 'traffic': 4545, 'trail': 4548, 'load': 2624, 'click': 778, 'bullet': 595, 'lady': 2507, 'window': 4907, 'peer': 3231, 'crack': 1014, 'sigh': 3996, 'roommate': 3785, 'awake': 339, 'gp': 1941, 'closure': 795, 'neighborhood': 2957, 'loop': 2645, 'resentment': 3706, 'loner': 2640, 'awareness': 343, 'prompt': 3470, 'naturally': 2934, 'substance': 4281, 'conclusion': 892, 'root': 3786, 'blown': 499, 'vulnerable': 4816, 'needless': 2950, 'inner': 2319, 'circle': 760, 'stage': 4184, 'yep': 4981, 'ah': 123, 'judgement': 2451, 'wholesome': 4895, 'persona': 3261, 'volume': 4808, 'attribute': 317, 'briefly': 564, 'browse': 577, 'cent': 683, 'natural': 2933, 'progression': 3460, 'growth': 1990, 'milestone': 2809, 'typical': 4618, 'risky': 3766, 'combination': 829, 'brutal': 581, 'sink': 4020, 'anchor': 181, 'hook': 2144, 'deeper': 1132, 'cliff': 780, 'endless': 1468, 'pursue': 3520, 'subject': 4274, 'momentum': 2859, 'resistance': 3713, 'internal': 2370, 'external': 1620, 'deny': 1160, 'endeavor': 1467, 'guide': 2000, 'ethical': 1533, 'encouragement': 1464, 'chase': 713, 'necessary': 2945, 'acceptable': 27, 'norm': 3002, 'wander': 4829, 'bound': 532, 'monetary': 2862, 'superficial': 4314, 'claim': 765, 'surprisingly': 4333, 'valuable': 4751, 'extreme': 1624, 'inevitable': 2295, 'pursuit': 3521, 'merely': 2787, 'dwindle': 1379, 'wind': 4906, 'quietly': 3538, 'sensitive': 3910, 'thread': 4472, 'box': 536, 'red': 3624, 'pump': 3508, 'balloon': 368, 'bounce': 531, 'fuckin': 1839, 'envision': 1504, 'dot': 1324, 'trade': 4543, 'poison': 3339, 'attitude': 312, 'item': 2421, 'fry': 1835, 'warmth': 4836, 'hotlines': 2172, 'counsel': 991, 'religion': 3666, 'meditation': 2767, 'pet': 3267, 'journaling': 2445, 'lifestyle': 2589, 'woe': 4928, 'tldr': 4506, 'tumor': 4599, 'score': 3864, 'essentially': 1526, 'spending': 4147, 'healthcare': 2070, 'supplement': 4318, 'male': 2693, 'report': 3693, 'rape': 3564, 'drift': 1352, 'genetics': 1892, 'cake': 625, 'lessen': 2572, 'acknowledge': 51, 'earn': 1392, 'tax': 4389, 'tried': 4580, 'adventure': 94, 'sheer': 3958, 'willpower': 4904, 'ship': 3966, 'meditating': 2766, 'dig': 1231, 'bleeding': 485, 'rear': 3597, 'casual': 666, 'privacy': 3429, 'edit': 1407, 'loom': 2644, 'badass': 357, 'overly': 3142, 'ungrateful': 4671, 'dysphoria': 1386, 'trans': 4554, 'miserably': 2832, 'inpatient': 2321, 'slight': 4046, 'bpd': 539, 'pin': 3294, 'explode': 1608, 'unrelated': 4701, 'term': 4425, 'chicken': 733, 'bastard': 384, 'contract': 951, 'expand': 1595, 'seemingly': 3895, 'curiosity': 1064, 'ocean': 3059, 'logic': 2633, 'compliment': 876, 'shot': 3978, 'drama': 1340, 'clinically': 787, 'medically': 2759, 'prescribe': 3402, 'wide': 4898, 'adhd': 75, 'factor': 1634, 'practically': 3384, 'sh': 3941, 'relapse': 3649, 'backstory': 353, 'pregnancy': 3396, 'downward': 1334, 'trend': 4577, 'delay': 1144, 'tinder': 4498, 'audacity': 318, 'toxicity': 4539, 'brilliant': 567, 'unbearable': 4631, 'stumble': 4265, 'unfair': 4666, 'position': 3359, 'spill': 4150, 'habitual': 2013, 'breast': 555, 'flesh': 1742, 'sharp': 3953, 'adorable': 85, 'carve': 661, 'grip': 1982, 'slice': 4044, 'ultimate': 4625, 'paint': 3171, 'fresh': 1817, 'therapeutic': 4450, 'pic': 3285, 'fb': 1673, 'af': 99, 'elementary': 1431, 'bro': 571, 'overreact': 3144, 'fictional': 1699, 'boring': 524, 'imagination': 2232, 'bland': 478, 'confess': 898, 'aspiration': 277, 'happens': 2034, 'hey': 2104, 'email': 1439, 'author': 325, 'rule': 3799, 'discord': 1266, 'percent': 3239, 'gross': 1985, 'blade': 475, 'senior': 3906, 'ridicule': 3757, 'profile': 3454, 'bloody': 497, 'betray': 444, 'liver': 2621, 'sell': 3902, 'celebrate': 679, 'cancel': 637, 'knowing': 2499, 'await': 338, 'trial': 4578, 'attempted': 308, 'april': 248, 'pre': 3389, 'anti': 204, 'depressant': 1167, 'videogames': 4782, 'midnight': 2801, 'aswell': 294, 'embarrass': 1440, 'perception': 3240, 'concentrate': 885, 'shameful': 3950, 'fragile': 1799, 'communication': 849, 'structure': 4257, 'wither': 4923, 'fling': 1745, 'smooth': 4066, 'deadline': 1106, 'personally': 3264, 'sight': 3997, 'retail': 3736, 'advancement': 92, 'eight': 1421, 'enjoyment': 1484, 'review': 3749, 'promotion': 3469, 'unstable': 4705, 'presentation': 3407, 'minimal': 2822, 'strain': 4231, 'tension': 4424, 'snap': 4068, 'guidance': 1999, 'strict': 4248, 'mentality': 2781, 'taboo': 4369, 'immigrant': 2241, 'consistent': 929, 'thursday': 4484, 'center': 684, 'reminder': 3674, 'proper': 3473, 'embarrassing': 1442, 'username': 4735, 'turmoil': 4603, 'pharmacy': 3269, 'temple': 4414, 'boom': 515, 'unexpected': 4664, 'fatigue': 1667, 'plague': 3304, 'recur': 3623, 'nsfw': 3021, 'bruise': 579, 'bathtub': 387, 'fundamental': 1854, 'tag': 4373, 'instant': 2339, 'insecure': 2326, 'height': 2091, 'connect': 913, 'counselor': 994, 'forgotten': 1781, 'conflict': 904, 'petty': 3268, 'numerous': 3028, 'august': 321, 'mini': 2821, 'golf': 1928, 'cart': 659, 'dinner': 1237, 'celebration': 680, 'october': 3060, 'mid': 2799, 'reinforce': 3646, 'mature': 2735, 'seasonal': 3879, 'steep': 4208, 'seven': 3931, 'rollercoaster': 3779, 'vein': 4763, 'hectic': 2089, 'calmer': 630, 'adrenaline': 87, 'limit': 2603, 'sky': 4033, 'possess': 3363, 'enjoyable': 1483, 'twin': 4610, 'blast': 481, 'amusement': 177, 'smarter': 4057, 'smack': 4054, 'platform': 3313, 'intentionally': 2363, 'amongst': 173, 'paragraph': 3183, 'inevitably': 2296, 'denial': 1157, 'numbness': 3027, 'persist': 3258, 'tiny': 4499, 'slept': 4043, 'lunch': 2669, 'hungry': 2194, 'reward': 3752, 'mexico': 2797, 'hip': 2121, 'disability': 1247, 'perpetual': 3254, 'massive': 2723, 'painkiller': 3169, 'priority': 3427, 'gather': 1877, 'journal': 2444, 'relation': 3652, 'prison': 3428, 'benzos': 437, 'tab': 4366, 'rare': 3568, 'crap': 1016, 'writer': 4963, 'stone': 4224, 'embarrassed': 1441, 'immature': 2235, 'population': 3353, 'strip': 4252, 'brand': 544, 'taste': 4386, 'lifeless': 2586, 'someday': 4098, 'rumor': 3802, 'whisper': 4891, 'spike': 4149, 'firearm': 1722, 'automatically': 330, 'target': 4384, 'fuel': 1841, 'violently': 4790, 'aggression': 116, 'outlet': 3126, 'massively': 2724, 'fulfilling': 1845, 'mainly': 2685, 'drinking': 1356, 'intimidate': 2383, 'folk': 1762, 'manager': 2698, 'security': 3888, 'egg': 1417, 'illegally': 2226, 'evidence': 1553, 'injury': 2317, 'version': 4770, 'bite': 469, 'travel': 4570, 'agent': 115, 'record': 3618, 'terrifies': 4430, 'admittedly': 81, 'odds': 3064, 'incident': 2269, 'progressively': 3462, 'illegal': 2225, 'engine': 1476, 'crystal': 1053, 'blah': 476, 'nuisance': 3024, 'exhausting': 1588, 'fentanyl': 1690, 'bang': 371, 'ig': 2218, 'uphill': 4715, 'patience': 3215, 'willingness': 4903, 'inability': 2261, 'oddly': 3063, 'biological': 460, 'hardship': 2047, 'defend': 1136, 'pregnant': 3397, 'failing': 1638, 'appreciation': 240, 'deteriorate': 1202, 'thirty': 4466, 'honor': 2141, 'graphic': 1959, 'manic': 2700, 'sober': 4075, 'cocktail': 809, 'meeting': 2770, 'healthier': 2071, 'nut': 3032, 'surely': 4326, 'beeing': 406, 'ritual': 3767, 'expose': 1611, 'passionate': 3207, 'foreign': 1775, 'base': 378, 'series': 3918, 'meal': 2744, 'via': 4773, 'netflix': 2966, 'correct': 980, 'expression': 1614, 'wallet': 4825, 'entrepreneur': 1500, 'pant': 3179, 'enrol': 1487, 'profession': 3450, 'officer': 3071, 'powerful': 3380, 'qualify': 3527, 'service': 3924, 'server': 3923, 'golden': 1927, 'economy': 1402, 'quote': 3542, 'meme': 2777, 'omg': 3081, 'cheer': 720, 'texts': 4440, 'zombie': 4997, 'mode': 2849, 'abroad': 9, 'farm': 1657, 'lawyer': 2533, 'owner': 3157, 'traumatic': 4567, 'stimulus': 4219, 'karma': 2466, 'collective': 823, 'specie': 4138, 'potentially': 3375, 'harmful': 2050, 'unworthy': 4711, 'dictate': 1221, 'biology': 461, 'produce': 3445, 'chain': 694, 'disturb': 1296, 'creative': 1026, 'universe': 4684, 'capacity': 644, 'logical': 2634, 'analyse': 178, 'ant': 203, 'guardian': 1996, 'construct': 935, 'occupy': 3056, 'arrive': 260, 'perfection': 3242, 'bind': 457, 'phenomenon': 3272, 'satisfy': 3835, 'butt': 613, 'fatal': 1663, 'pose': 3358, 'wealthy': 4851, 'confront': 905, 'importance': 2247, 'equal': 1507, 'grand': 1952, 'fly': 1757, 'among': 172, 'honour': 2142, 'indulge': 2292, 'destination': 1191, 'precious': 3390, 'cruelty': 1048, 'prospect': 3477, 'educate': 1408, 'leaf': 2543, 'potential': 3374, 'postpone': 3371, 'magic': 2680, 'restore': 3729, 'recipe': 3611, 'anytime': 215, 'staff': 4183, 'client': 779, 'assessment': 282, 'routine': 3794, 'statement': 4199, 'detailed': 1201, 'mixed': 2842, 'reassure': 3603, 'invisible': 2396, 'path': 3213, 'retire': 3740, 'lame': 2509, 'involuntarily': 2399, 'mixture': 2843, 'pitiful': 3300, 'america': 170, 'expensive': 1600, 'entertain': 1491, 'certainty': 691, 'wellbeing': 4872, 'management': 2697, 'trick': 4579, 'interesting': 2368, 'grab': 1943, 'loyal': 2664, 'boundary': 533, 'automatic': 329, 'concrete': 893, 'virgin': 4791, 'guys': 2010, 'euphoria': 1534, 'subside': 4280, 'borderline': 520, 'phobia': 3276, 'plate': 3312, 'unbelievably': 4632, 'anonymous': 197, 'gender': 1882, 'traditional': 4544, 'chinese': 740, 'primary': 3421, 'academically': 25, 'tease': 4398, 'secondary': 3882, 'puberty': 3502, 'broad': 572, 'thigh': 4459, 'grandfather': 1953, 'artery': 263, 'afternoon': 111, 'paralysis': 3184, 'reply': 3692, 'realisation': 3588, 'excel': 1566, 'bright': 565, 'bus': 609, 'rich': 3754, 'india': 2287, 'arrange': 257, 'match': 2728, 'investigate': 2394, 'irony': 2407, 'status': 4202, 'variety': 4756, 'disease': 1272, 'humiliation': 2187, 'assure': 293, 'contain': 941, 'utter': 4739, 'tolerate': 4513, 'flaw': 1740, 'dynamic': 1382, 'saturday': 3836, 'official': 3072, 'pm': 3332, 'classroom': 771, 'ambition': 167, 'rank': 3561, 'bedroom': 405, 'redditors': 3627, 'duty': 1377, 'extended': 1616, 'collect': 821, 'belonging': 428, 'uncontrollable': 4643, 'alternative': 157, 'refrain': 3634, 'whim': 4888, 'paralyze': 3185, 'shred': 3985, 'ought': 3117, 'creature': 1029, 'endure': 1470, 'smell': 4060, 'sooner': 4110, 'handsome': 2029, 'spite': 4159, 'scientific': 3861, 'athlete': 297, 'gossip': 1937, 'celebrity': 681, 'hoping': 2152, 'virtually': 4794, 'greedy': 1972, 'garden': 1873, 'lick': 2583, 'gravity': 1966, 'solitude': 4093, 'accumulate': 42, 'wealth': 4850, 'inconvenience': 2274, 'embrace': 1444, 'realm': 3596, 'realistic': 3590, 'abstract': 15, 'stoic': 4222, 'philosophy': 3275, 'map': 2708, 'compass': 857, 'tw': 4606, 'description': 1176, 'spit': 4158, 'ed': 1405, 'rocket': 3774, 'grin': 1980, 'cheek': 719, 'angle': 184, 'ring': 3761, 'palm': 3175, 'caring': 656, 'season': 3878, 'benefit': 436, 'ted': 4404, 'cure': 1063, 'sleeping': 4040, 'comprehend': 879, 'relieved': 3665, 'relieve': 3664, 'empathy': 1452, 'hallucination': 2023, 'associate': 290, 'blanket': 480, 'comforting': 838, 'shed': 3956, 'scold': 3863, 'land': 2510, 'christmas': 753, 'eve': 1540, 'simultaneously': 4011, 'quarter': 3531, 'zoom': 4999, 'listening': 2615, 'lesson': 2573, 'ap': 219, 'summary': 4307, 'quiz': 3541, 'procrastinate': 3442, 'scientist': 3862, 'paycheck': 3220, 'non': 2992, 'frequent': 1815, 'repay': 3683, 'hobby': 2125, 'continually': 946, 'seizure': 3896, 'concussion': 894, 'assault': 280, 'driver': 1359, 'snow': 4071, 'trivial': 4583, 'alcoholism': 136, 'drinker': 1355, 'relaxed': 3658, 'destiny': 1193, 'vacation': 4742, 'overnight': 3143, 'concept': 887, 'experiment': 1603, 'cptsd': 1013, 'naked': 2922, 'bend': 433, 'disabled': 1249, 'hung': 2192, 'surroundings': 4337, 'hideous': 2108, 'irrelevant': 2409, 'thumb': 4483, 'steady': 4205, 'insanity': 2325, 'miracle': 2828, 'fixate': 1732, 'haunt': 2060, 'killer': 2478, 'merry': 2788, 'reasonable': 3599, 'shithole': 3969, 'hilarious': 2116, 'pedophile': 3228, 'irl': 2403, 'asian': 271, 'stereotype': 4214, 'ease': 1394, 'host': 2166, 'spiteful': 4160, 'relevant': 3661, 'hurtful': 2198, 'engagement': 1475, 'span': 4128, 'legit': 2564, 'fantasy': 1655, 'character': 704, 'ideal': 2208, 'being': 420, 'tattoo': 4387, 'fraud': 1805, 'website': 4856, 'physic': 3281, 'surface': 4328, 'absorb': 14, 'visible': 4797, 'serotonin': 3921, 'gene': 1883, 'evening': 1542, 'error': 1517, 'foolish': 1769, 'learning': 2550, 'wise': 4915, 'shatter': 3954, 'fascinate': 1658, 'difference': 1226, 'french': 1813, 'reader': 3584, 'permit': 3253, 'shave': 3955, 'highway': 2114, 'snapchat': 4069, 'log': 2632, 'artist': 266, 'mormon': 2877, 'gaming': 1869, 'cling': 783, 'running': 3805, 'motivated': 2888, 'spirituality': 4156, 'consistently': 930, 'weekly': 4863, 'dissociation': 1287, 'restriction': 3732, 'grandpa': 1956, 'migraine': 2805, 'resort': 3718, 'inch': 2268, 'recall': 3607, 'loan': 2625, 'gradually': 1947, 'stock': 4221, 'profit': 3455, 'jumping': 2458, 'infinite': 2300, 'additional': 72, 'signal': 3999, 'consciousness': 919, 'queen': 3532, 'england': 1479, 'technique': 4402, 'article': 264, 'fiber': 1697, 'bible': 451, 'exact': 1559, 'court': 1003, 'creator': 1028, 'observe': 3043, 'inept': 2294, 'loathe': 2626, 'inferior': 2298, 'fluid': 1756, 'toss': 4527, 'perform': 3246, 'dearly': 1112, 'pace': 3160, 'purposely': 3519, 'adapt': 65, 'tolerance': 4512, 'wasted': 4842, 'unconditionally': 4640, 'bizarre': 473, 'cultural': 1058, 'input': 2322, 'mere': 2786, 'salt': 3824, 'flare': 1736, 'corner': 976, 'unnecessary': 4696, 'escapism': 1520, 'amazon': 165, 'shopping': 3975, 'ounce': 3118, 'liked': 2598, 'rinse': 3762, 'cooky': 968, 'meantime': 2750, 'national': 2931, 'justice': 2462, 'office': 3070, 'assist': 287, 'sham': 3948, 'swear': 4351, 'library': 2581, 'truck': 4586, 'flower': 1755, 'chew': 730, 'gum': 2005, 'color': 825, 'film': 1708, 'bleach': 482, 'jerk': 2434, 'greatly': 1969, 'reduce': 3628, 'price': 3418, 'disclaimer': 1262, 'update': 4714, 'friday': 1819, 'yall': 4970, 'nope': 3001, 'dare': 1091, 'pal': 3174, 'glimpse': 1918, 'nothingness': 3010, 'freeze': 1812, 'unintentionally': 4678, 'bleak': 483, 'gaslighting': 1875, 'dependency': 1163, 'exhaustion': 1589, 'healing': 2068, 'linear': 2607, 'dealt': 1110, 'nausea': 2936, 'core': 975, 'hotel': 2170, 'limited': 2605, 'tommorow': 4515, 'increased': 2276, 'motion': 2886, 'crave': 1019, 'hunger': 2193, 'max': 2736, 'combine': 830, 'limb': 2601, 'jack': 2424, 'sensation': 3908, 'bail': 361, 'initiate': 2313, 'convo': 963, 'offensive': 3068, 'excited': 1576, 'strive': 4253, 'branch': 543, 'performance': 3247, 'draft': 1337, 'cripple': 1037, 'internship': 2375, 'fearful': 1675, 'podcast': 3334, 'audience': 319, 'follower': 1764, 'instagram': 2337, 'secure': 3887, 'rejection': 3648, 'classic': 769, 'ladder': 2506, 'closet': 793, 'heel': 2090, 'theres': 4455, 'ego': 1419, 'perfectly': 3245, 'ironically': 2406, 'large': 2516, 'addition': 71, 'vomit': 4812, 'blissful': 493, 'handful': 2027, 'accurately': 44, 'temptation': 4418, 'daunt': 1099, 'communicate': 848, 'rationalize': 3575, 'rational': 3574, 'hire': 2122, 'broke': 573, 'needy': 2951, 'doc': 1305, 'involved': 2401, 'mass': 2721, 'closed': 790, 'lovely': 2659, 'pocket': 3333, 'tablet': 4368, 'min': 2814, 'initial': 2311, 'transition': 4559, 'undiagnosed': 4659, 'cbt': 676, 'upcoming': 4713, 'yay': 4972, 'excellent': 1567, 'hesitate': 2102, 'wine': 4908, 'grad': 1945, 'dependent': 1164, 'disable': 1248, 'autistic': 328, 'butterfly': 615, 'pit': 3299, 'smoking': 4065, 'cigarette': 759, 'raw': 3577, 'london': 2637, 'diabetes': 1215, 'jam': 2426, 'deem': 1130, 'drastically': 1345, 'ofc': 3065, 'contentment': 944, 'outright': 3130, 'prolong': 3464, 'rationally': 3576, 'bold': 508, 'spur': 4173, 'concert': 890, 'hike': 2115, 'forbid': 1772, 'cooking': 967, 'incredible': 2278, 'thrive': 4477, 'envy': 1505, 'competition': 865, 'upbringing': 4712, 'lab': 2502, 'rat': 3571, 'genetic': 1891, 'interfere': 2369, 'supposedly': 4323, 'whereas': 4884, 'platitude': 3314, 'bored': 522, 'purely': 3515, 'solely': 4091, 'pleasant': 3322, 'following': 1765, 'spouse': 4169, 'toilet': 4510, 'fame': 1647, 'measure': 2752, 'magical': 2681, 'demonstrate': 1156, 'dignity': 1233, 'wash': 4839, 'principal': 3422, 'heartbreaking': 2081, 'humble': 2185, 'bald': 366, 'magically': 2682, 'oppose': 3097, 'disagreement': 1251, 'tense': 4423, 'friends': 1823, 'suggestion': 4300, 'advise': 96, 'accomplishment': 37, 'engineering': 1478, 'mourn': 2894, 'false': 1646, 'unresolved': 4702, 'jealousy': 2433, 'cringe': 1036, 'spanish': 4129, 'functional': 1851, 'booze': 518, 'battery': 388, 'tow': 4532, 'bread': 548, 'monthly': 2870, 'housing': 2176, 'waking': 4821, 'hanging': 2031, 'opioids': 3095, 'fruit': 1829, 'cave': 674, 'address': 74, 'lastly': 2521, 'reference': 3630, 'liquid': 2611, 'undergrad': 4647, 'expel': 1598, 'participate': 3196, 'hunt': 2195, 'bug': 590, 'goddamn': 1925, 'genius': 1893, 'delicious': 1148, 'chemical': 723, 'co': 803, 'shape': 3951, 'lexapro': 2579, 'ceiling': 678, 'march': 2710, 'traumatise': 4568, 'destruct': 1196, 'disappointing': 1255, 'quality': 3528, 'annoyed': 194, 'cage': 624, 'easier': 1395, 'license': 2582, 'typo': 4620, 'desirable': 1181, 'unmotivated': 4695, 'exhibit': 1590, 'bravery': 547, 'operation': 3092, 'dish': 1276, 'sanity': 3829, 'accidental': 32, 'compound': 878, 'streak': 4239, 'speaking': 4134, 'application': 235, 'transportation': 4562, 'vile': 4786, 'filthy': 1711, 'unlovable': 4692, 'saying': 3841, 'rapist': 3567, 'worship': 4948, 'proof': 3472, 'fulfillment': 1846, 'mdd': 2742, 'generalize': 1885, 'hospitalization': 2164, 'bond': 511, 'respectful': 3721, 'blend': 486, 'whilst': 4887, 'dumbass': 1373, 'surprising': 4332, 'kiss': 2487, 'knew': 2494, 'hiding': 2109, 'screaming': 3868, 'declare': 1124, 'uncle': 4636, 'guitar': 2004, 'dropout': 1363, 'ny': 3034, 'sexuality': 3938, 'disown': 1281, 'unlike': 4688, 'exit': 1594, 'failed': 1637, 'motel': 2884, 'unsafe': 4703, 'semi': 3904, 'manual': 2706, 'trailer': 4549, 'electricity': 1428, 'pipe': 3296, 'zone': 4998, 'dilemma': 1234, 'lurk': 2671, 'debilitate': 1115, 'encounter': 1462, 'playing': 3318, 'advocate': 98, 'frown': 1827, 'drastic': 1344, 'approval': 244, 'hero': 2099, 'fitting': 1729, 'submit': 4275, 'disciplined': 1261, 'massage': 2722, 'burger': 602, 'pee': 3230, 'underwear': 4657, 'soak': 4072, 'prepare': 3400, 'unexpectedly': 4665, 'hygiene': 2202, 'acne': 52, 'department': 1161, 'grocery': 1983, 'wouldnt': 4955, 'coworker': 1010, 'label': 2503, 'tuesday': 4597, 'knot': 2497, 'possession': 3364, 'nightly': 2984, 'adolescence': 82, 'externally': 1621, 'former': 1786, 'disagree': 1250, 'leap': 2547, 'fuzzy': 1863, 'storm': 4228, 'reveal': 3745, 'lifetime': 2590, 'united': 4682, 'outsider': 3132, 'wallow': 4826, 'vividly': 4803, 'pair': 3173, 'consent': 920, 'practice': 3385, 'mystery': 2916, 'silently': 4004, 'starting': 4195, 'si': 3991, 'slump': 4053, 'alter': 156, 'obese': 3035, 'extensive': 1618, 'bisexual': 466, 'eachother': 1387, 'rehab': 3645, 'ik': 2223, 'junk': 2461, 'forum': 1791, 'lord': 2647, 'understanding': 4654, 'mutual': 2914, 'detach': 1199, 'unhappy': 4673, 'crutch': 1051, 'sustainable': 4349, 'divide': 1299, 'gamble': 1867, 'smoker': 4064, 'product': 3446, 'february': 1677, 'bulimia': 593, 'childish': 736, 'understandably': 4653, 'xbox': 4968, 'advanced': 91, 'refer': 3629, 'supervise': 4316, 'brighter': 566, 'fomo': 1766, 'resist': 3712, 'slam': 4036, 'press': 3408, 'restrain': 3730, 'married': 2717, 'enemy': 1471, 'freely': 1811, 'problematic': 3438, 'portray': 3357, 'lesbian': 2570, 'homophobic': 2137, 'site': 4023, 'escort': 1521, 'tongue': 4519, 'brat': 545, 'gratitude': 1964, 'hormonal': 2153, 'imbalance': 2234, 'fathom': 1666, 'master': 2725, 'attract': 313, 'foundation': 1795, 'abandonment': 3, 'whore': 4896, 'trait': 4552, 'eggshell': 1418, 'california': 627, 'ban': 369, 'penny': 3235, 'lease': 2552, 'sedentary': 3889, 'dos': 1321, 'anorexia': 199, 'psychiatric': 3492, 'bench': 432, 'consideration': 926, 'developed': 1208, 'irritable': 2411, 'skinny': 4030, 'soft': 4086, 'trace': 4541, 'grave': 1965, 'roughly': 3791, 'blunt': 501, 'depth': 1173, 'climb': 782, 'hometown': 2135, 'ssri': 4177, 'prozac': 3488, 'instrument': 2347, 'cliche': 777, 'scent': 3851, 'neglect': 2955, 'judgment': 2452, 'meth': 2795, 'tooth': 4522, 'fortunate': 1788, 'rub': 3796, 'affection': 102, 'betrayal': 445, 'extent': 1619, 'abyss': 23, 'horrify': 2160, 'futile': 1861, 'pleasure': 3326, 'decay': 1119, 'unaware': 4630, 'slim': 4048, 'perpetuate': 3256, 'dwell': 1378, 'tangible': 4380, 'rot': 3788, 'agony': 119, 'twisted': 4612, 'underneath': 4650, 'san': 3825, 'diego': 1224, 'implement': 2245, 'lying': 2674, 'absent': 11, 'confirm': 902, 'medicate': 2760, 'daddy': 1082, 'camera': 633, 'stupidity': 4267, 'unconditional': 4639, 'condom': 896, 'germany': 1901, 'guarantee': 1994, 'originally': 3113, 'rural': 3806, 'chose': 748, 'companion': 852, 'disgusting': 1275, 'dosage': 1322, 'arrangement': 258, 'achievement': 49, 'lifelong': 2588, 'dip': 1239, 'ambitious': 168, 'nonetheless': 2994, 'harshly': 2054, 'shaky': 3945, 'stare': 4192, 'sofa': 4085, 'behave': 414, 'appearance': 232, 'favour': 1671, 'mania': 2699, 'viable': 4774, 'whiskey': 4890, 'adjustment': 77, 'prom': 3465, 'graduation': 1949, 'wedding': 4858, 'frustrating': 1833, 'vegetable': 4761, 'vicious': 4777, 'interrupt': 2377, 'valium': 4750, 'register': 3640, 'recruit': 3621, 'pro': 3433, 'acute': 63, 'distress': 1294, 'encouraging': 1465, 'serial': 3917, 'schooling': 3858, 'cashier': 664, 'silver': 4006, 'ai': 125, 'pot': 3373, 'complacent': 868, 'optimistic': 3102, 'strategy': 4236, 'solid': 4092, 'navigate': 2938, 'bin': 456, 'toe': 4508, 'immense': 2238, 'drowning': 1365, 'fulfill': 1843, 'station': 4200, 'surreal': 4334, 'lower': 2663, 'alienate': 139, 'er': 1513, 'rental': 3681, 'tidy': 4488, 'frustrated': 1832, 'convinced': 962, 'hidden': 2106, 'psychology': 3497, 'fortunately': 1789, 'instill': 2342, 'vulnerability': 4815, 'adulthood': 89, 'setup': 3930, 'borrow': 525, 'theyre': 4457, 'heck': 2088, 'craft': 1015, 'couch': 987, 'nicely': 2979, 'em': 1438, 'blessing': 489, 'tylenol': 4616, 'appreciated': 239, 'mate': 2729, 'assumption': 292, 'goodness': 1932, 'visualize': 4801, 'ged': 1881, 'yoga': 4987, 'dunno': 1375, 'photography': 3279, 'used': 4731, 'christian': 752, 'foster': 1793, 'asset': 283, 'unhelpful': 4675, 'organ': 3107, 'notion': 3015, 'century': 687, 'enthusiasm': 1493, 'mountain': 2893, 'swell': 4355, 'professor': 3453, 'notification': 3014, 'chop': 746, 'suspension': 4345, 'spoil': 4162, 'rise': 3764, 'fragment': 1800, 'perpetually': 3255, 'conclude': 891, 'obsessive': 3047, 'compulsive': 882, 'maintenance': 2687, 'combo': 831, 'virginity': 4792, 'themself': 4448, 'occasional': 3054, 'zoloft': 4996, 'nutrition': 3033, 'poverty': 3378, 'iv': 2422, 'exciting': 1578, 'nod': 2989, 'alarm': 131, 'km': 2491, 'yellow': 4980, 'roller': 3778, 'coaster': 806, 'paracetamol': 3182, 'incase': 2266, 'capitalism': 646, 'admire': 78, 'nevertheless': 2972, 'brick': 561, 'filter': 1709, 'participant': 3195, 'survey': 4338, 'aim': 127, 'enhance': 1481, 'https': 2180, 'screen': 3869, 'network': 2967, 'vehicle': 4762, 'fence': 1689, 'tone': 4518, 'facility': 1632, 'frighten': 1825, 'solace': 4089, 'genre': 1894, 'fashion': 1659, 'transfer': 4555, 'melatonin': 2772, 'wtf': 4966, 'drawing': 1348, 'promising': 3467, 'knee': 2493, 'worthwhile': 4952, 'rescue': 3701, 'reliable': 3662, 'inform': 2304, 'hesitant': 2101, 'outcast': 3120, 'campus': 635, 'famous': 1650, 'coincidence': 815, 'errand': 1516, 'aka': 129, 'shyness': 3990, 'satisfaction': 3833, 'equivalent': 1512, 'ticket': 4487, 'setting': 3928, 'rumination': 3801, 'rebuild': 3606, 'feels': 1683, 'soooo': 4112, 'mild': 2806, 'intent': 2360, 'namely': 2924, 'ruminate': 3800, 'nap': 2925, 'passively': 3209, 'pile': 3290, 'upside': 4721, 'unlimited': 4690, 'appreciative': 241, 'hardworking': 2048, 'interpret': 2376, 'bruh': 578, 'resurface': 3735, 'pause': 3218, 'outgoing': 3125, 'jaw': 2431, 'procedure': 3439, 'critical': 1040, 'unhappiness': 4672, 'appetite': 233, 'outgo': 3124, 'plummet': 3330, 'invent': 2392, 'lottery': 2655, 'politely': 3344, 'racist': 3547, 'ongoing': 3084, 'equation': 1509, 'strengthen': 4243, 'negatively': 2953, 'differently': 1228, 'sickness': 3994, 'exclude': 1579, 'plastic': 3311, 'heartbreak': 2080, 'establish': 1527, 'stability': 4179, 'south': 4126, 'korea': 2501, 'unconscious': 4641, 'mouse': 2895, 'asap': 269, 'protest': 3483, 'adore': 86, 'shin': 3964, 'club': 800, 'oblivion': 3041, 'multitude': 2903, 'flourish': 1753, 'affirmation': 103, 'entry': 1501, 'tedious': 4405, 'portion': 3356, 'blur': 502, 'clown': 799, 'bi': 449, 'aspergers': 276, 'swimming': 4357, 'gentle': 1895, 'partially': 3194, 'restart': 3727, 'award': 341, 'mission': 2835, 'tik': 4491, 'generic': 1889, 'indefinitely': 2284, 'sobriety': 4076, 'commitment': 845, 'intuition': 2390, 'grey': 1976, 'devoid': 1213, 'clock': 788, 'grown': 1989, 'ketamine': 2470, 'vodka': 4805, 'spirit': 4154, 'mortgage': 2881, 'literal': 2616, 'validate': 4748, 'confusing': 909, 'deaf': 1107, 'commute': 851, 'posting': 3370, 'object': 3036, 'meat': 2753, 'software': 4088, 'vanish': 4754, 'safety': 3819, 'execute': 1584, 'formal': 1783, 'production': 3447, 'prestigious': 3410, 'gig': 1908, 'homelessness': 2133, 'fifteen': 1701, 'gear': 1880, 'equipment': 1511, 'technology': 4403, 'vast': 4759, 'wed': 4857, 'apple': 234, 'bay': 390, 'counter': 996, 'bachelor': 350, 'sustain': 4348, 'overdue': 3138, 'satisfied': 3834, 'daydream': 1103, 'dopamine': 1318, 'tempt': 4417, 'anniversary': 191, 'midterm': 2803, 'monkey': 2866, 'sock': 4083, 'select': 3897, 'behavioral': 416, 'river': 3768, 'acquire': 54, 'benadryl': 431, 'subreddits': 4277, 'prepared': 3401, 'vaccine': 4743, 'allowance': 147, 'hustle': 2201, 'spring': 4171, 'donation': 1314, 'hallway': 2024, 'mattress': 2734, 'principle': 3423, 'justified': 2464, 'explicitly': 1607, 'justify': 2465, 'extension': 1617, 'highlight': 2111, 'wet': 4876, 'tremendously': 4576, 'shrink': 3986, 'probation': 3436, 'destroyed': 1195, 'overload': 3141, 'australia': 323, 'skype': 4034, 'unit': 4681, 'voluntary': 4810, 'ugh': 4622, 'terminal': 4426, 'drank': 1343, 'scan': 3843, 'clarity': 767, 'rocky': 3775, 'saint': 3820, 'file': 1706, 'paperwork': 3181, 'pessimistic': 3266, 'inhibit': 2309, 'own': 3156, 'mildly': 2807, 'spelling': 4145, 'tactic': 4372, 'few': 1694, 'empathetic': 1450, 'violence': 4788, 'teaching': 4394, 'radical': 3549, 'policy': 3342, 'seed': 3891, 'fetish': 1692, 'prep': 3398, 'eager': 1388, 'african': 108, 'winner': 4910, 'sandwich': 3827, 'tuition': 4598, 'hindsight': 2119, 'gpa': 1942, 'beer': 407, 'authority': 326, 'weapon': 4852, 'suspect': 4343, 'defensive': 1138, 'rash': 3570, 'backyard': 355, 'certainly': 690, 'wolf': 4929, 'outlook': 3128, 'western': 4875, 'competitive': 866, 'inhibition': 2310, 'nine': 2986, 'anonymously': 198, 'understatement': 4655, 'compensate': 862, 'societal': 4081, 'fundamentally': 1855, 'whatnot': 4879, 'distraught': 1293, 'setback': 3927, 'iron': 2404, 'tower': 4536, 'resilience': 3711, 'suffice': 4296, 'partly': 3199, 'fridge': 1820, 'desk': 1184, 'charity': 709, 'purchase': 3513, 'remote': 3676, 'marine': 2712, 'cleaning': 774, 'preparation': 3399, 'wild': 4900, 'developer': 1209, 'tech': 4399, 'code': 811, 'specially': 4137, 'commiseration': 843, 'complication': 875, 'debilitating': 1116, 'gladly': 1915, 'resident': 3709, 'eleven': 1432, 'cannabis': 641, 'heavily': 2086, 'obtain': 3050, 'penis': 3234, 'revolve': 3751, 'candy': 640, 'justification': 2463, 'sprint': 4172, 'cell': 682, 'plead': 3321, 'typically': 4619, 'dorm': 1320, 'escalate': 1518, 'compel': 861, 'acceptance': 28, 'commiserate': 842, 'ect': 1404, 'intellectual': 2352, 'discipline': 1260, 'morally': 2874, 'neutral': 2970, 'inappropriate': 2264, 'hesitation': 2103, 'sore': 4115, 'coffee': 813, 'burnt': 606, 'relaxing': 3659, 'underweight': 4658, 'vary': 4758, 'permission': 3252, 'intentional': 2362, 'conscience': 916, 'domestic': 1311, 'chaotic': 702, 'stabilize': 4180, 'surf': 4327, 'cheating': 717, 'towel': 4535, 'snack': 4067, 'charm': 711, 'global': 1919, 'gratification': 1963, 'prayer': 3388, 'chemistry': 724, 'cream': 1023, 'sunny': 4311, 'chapter': 703, 'leader': 2541, 'mr': 2900, 'spontaneous': 4164, 'adjust': 76, 'sea': 3874, 'capture': 647, 'glance': 1916, 'articulate': 265, 'sexy': 3940, 'flag': 1734, 'rack': 3548, 'evolve': 1556, 'coat': 807, 'beautifully': 400, 'forehead': 1774, 'conquer': 915, 'weakness': 4849, 'gorgeous': 1936, 'framework': 1802, 'data': 1095, 'confirmation': 903, 'susan': 4342, 'deliberate': 1146, 'bias': 450, 'venture': 4766, 'intimacy': 2381, 'texted': 4438, 'default': 1134, 'unrealistic': 4700, 'calmly': 631, 'analysis': 179, 'schizophrenic': 3855, 'equip': 1510, 'blink': 491, 'strangle': 4235, 'christ': 751, 'withdrawal': 4922, 'turkey': 4602, 'prescribed': 3403, 'driving': 1361, 'employee': 1455, 'filth': 1710, 'midst': 2802, 'coach': 804, 'stigma': 4216, 'needle': 2949, 'autonomy': 331, 'obsessively': 3048, 'apparent': 228, 'entitle': 1498, 'giggle': 1909, 'correctly': 981, 'impression': 2255, 'pat': 3211, 'county': 999, 'feature': 1676, 'collage': 818, 'japanese': 2430, 'thin': 4460, 'dating': 1097, 'upwards': 4724, 'coast': 805, 'anorexic': 200, 'deliberately': 1147, 'counsellor': 993, 'accuse': 45, 'alert': 137, 'videos': 4783, 'vitamin': 4802, 'grind': 1981, 'lip': 2610, 'john': 2439, 'essential': 1525, 'musical': 2909, 'integrity': 2351, 'creativity': 1027, 'intimate': 2382, 'sensitivity': 3911, 'horrendous': 2156, 'consequently': 922, 'colleague': 820, 'uncaring': 4633, 'necessity': 2946, 'device': 1211, 'dental': 1158, 'liar': 2580, 'deplete': 1165, 'coke': 816, 'corporate': 978, 'ray': 3578, 'sunshine': 4312, 'singing': 4017, 'irritated': 2413, 'apathetic': 222, 'comic': 839, 'reverse': 3747, 'lurker': 2672, 'vow': 4814, 'firm': 1723, 'employ': 1454, 'hyper': 2203, 'gold': 1926, 'web': 4855, 'section': 3886, 'reputation': 3696, 'ear': 1389, 'slack': 4035, 'breeze': 560, 'optimist': 3101, 'gap': 1870, 'material': 2730, 'chess': 728, 'labor': 2504, 'discourage': 1267, 'rabbit': 3543, 'manipulation': 2703, 'florida': 1751, 'pc': 3222, 'opening': 3089, 'gathering': 1878, 'idiotic': 2214, 'underlie': 4648, 'oneself': 3083, 'characteristic': 705, 'politics': 3346, 'unwilling': 4710, 'subway': 4284, 'obstacle': 3049, 'noble': 2987, 'industry': 2293, 'salary': 3822, 'flexible': 1743, 'happily': 2037, 'mathematics': 2732, 'hopelessly': 2150, 'admission': 79, 'agreement': 122, 'corpse': 979, 'impatient': 2244, 'fancy': 1652, 'regulate': 3644, 'cycling': 1079, 'frankly': 1804, 'conservative': 923, 'expert': 1604, 'capital': 645, 'thoughtful': 4470, 'deliver': 1150, 'understandable': 4652, 'valentine': 4746, 'greet': 1975, 'buck': 584, 'chick': 732, 'unsupportive': 4706, 'exclusion': 1580, 'superior': 4315, 'bucket': 585, 'indecisive': 2281, 'remorse': 3675, 'related': 3651, 'gad': 1864, 'exception': 1569, 'beneficial': 435, 'literature': 2618, 'regain': 3637, 'bearable': 395, 'grace': 1944, 'brown': 576, 'contribution': 954, 'sour': 4124, 'monotonous': 2867, 'remark': 3671, 'television': 4410, 'pan': 3176, 'halloween': 2022, 'fortune': 1790, 'behold': 419, 'retirement': 3741, 'bittersweet': 472, 'exploit': 1609, 'standing': 4190, 'lasting': 2520, 'mdma': 2743, 'madness': 2678, 'opiate': 3093, 'idle': 2216, 'lend': 2566, 'fulfil': 1842, 'unfulfilled': 4670, 'claw': 772, 'furthermore': 1860, 'largely': 2517, 'tiring': 4503, 'tackle': 4370, 'minority': 2826, 'category': 670, 'dissociate': 1286, 'component': 877, 'unlucky': 4694, 'haul': 2059, 'neighbour': 2958, 'ran': 3557, 'lawn': 2532, 'orange': 3104, 'retain': 3737, 'buzz': 618, 'cocaine': 808, 'warehouse': 4834, 'determination': 1203, 'overwhelmingly': 3153, 'gentleman': 1896, 'reserve': 3707, 'resonate': 3717, 'minimize': 2823, 'similarly': 4008, 'unproductive': 4699, 'alien': 138, 'festival': 1691, 'flash': 1737, 'poster': 3369, 'dissociative': 1288, 'nerd': 2961, 'painting': 3172, 'overwork': 3154, 'moon': 2872, 'treasure': 4571, 'east': 1397, 'messenger': 2791, 'coming': 840, 'desert': 1177, 'inadequate': 2263, 'fold': 1761, 'lightly': 2595, 'happiest': 2036, 'fourth': 1797, 'hood': 2143, 'bitterness': 471, 'digital': 1232, 'retreat': 3742, 'primarily': 3420, 'discharge': 1259, 'resentful': 3705, 'lethargic': 2576, 'dedication': 1128, 'preface': 3394, 'purge': 3516, 'independence': 2285, 'narrative': 2928, 'criticism': 1041, 'overeat': 3139, 'praise': 3386, 'nag': 2919, 'development': 1210, 'constructive': 937, 'alongside': 151, 'contrast': 952, 'podcasts': 3335, 'fiction': 1698, 'legally': 2562, 'puzzle': 3525, 'exacerbate': 1558, 'outline': 3127, 'emerge': 1445, 'inherently': 2307, 'instability': 2336, 'console': 931, 'artistic': 267, 'hack': 2014, 'intervene': 2378, 'philosophical': 3274, 'suspicious': 4347, 'egotistical': 1420, 'conduct': 897, 'examine': 1564, 'eligible': 1433, 'approximately': 246, 'wrestle': 4960, 'burst': 607, 'shrug': 3987, 'amplify': 176, 'sleepy': 4041, 'dysfunction': 1383, 'caffeine': 623, 'testosterone': 4435, 'replacement': 3690, 'avoidant': 337, 'cultivate': 1057, 'viewpoint': 4785, 'indecision': 2280, 'tragedy': 4546, 'selfless': 3901, 'programming': 3458, 'bio': 459, 'hearing': 2076, 'fellow': 1685, 'stalk': 4187, 'predator': 3392, 'property': 3475, 'fifth': 1702, 'driveway': 1360, 'medicaid': 2757, 'feminine': 1688, 'persistent': 3259, 'lifting': 2592, 'squat': 4175, 'newfound': 2974, 'retrospect': 3743, 'induce': 2291, 'instruction': 2346, 'upper': 4718, 'ordinary': 3106, 'concentration': 886, 'abnormal': 6, 'blog': 495, 'unlikely': 4689, 'immune': 2242, 'intensive': 2359, 'pizza': 3302, 'closely': 791, 'allergy': 144, 'worst': 4949, 'progressive': 3461, 'losing': 2650, 'cosmic': 985, 'dimension': 1235, 'annual': 196, 'maximum': 2738, 'permanently': 3251, 'enormous': 1485, 'diploma': 1240, 'kg': 2472, 'furniture': 1859, 'fever': 1693, 'china': 739, 'glue': 1921, 'sheep': 3957, 'pleased': 3324, 'kindly': 2483, 'spell': 4144, 'temper': 4412, 'entirety': 1497, 'summarize': 4306, 'crucial': 1046, 'fish': 1726, 'monitor': 2864, 'stimulant': 4218, 'exchange': 1574, 'adderall': 67, 'schoolwork': 3859, 'uncommon': 4638, 'kidney': 2476, 'fracture': 1798, 'antisocial': 207, 'twitter': 4614, 'angel': 182, 'electric': 1427, 'dismiss': 1278, 'violate': 4787, 'universal': 4683, 'gal': 1866, 'thrill': 4476, 'intensity': 2358, 'linger': 2608, 'citizen': 762, 'baseline': 379, 'delivery': 1151, 'nuclear': 3022, 'creepy': 1032, 'diminish': 1236, 'cognitive': 814, 'excitement': 1577, 'translate': 4560, 'moron': 2879, 'jordan': 2443, 'narrow': 2929, 'evaluate': 1538, 'inherit': 2308, 'safely': 3818, 'partying': 3202, 'grass': 1961, 'nest': 2964, 'boredom': 523, 'wing': 4909, 'supervisor': 4317, 'freelance': 1810, 'ultra': 4627, 'rotten': 3789, 'scum': 3873, 'belittle': 424, 'disregard': 1283, 'empathize': 1451, 'nicer': 2980, 'mistreat': 2837, 'persevere': 3257, 'accountable': 41, 'watching': 4844, 'pedophilia': 3229, 'proactive': 3434, 'hardest': 2045, 'institute': 2344, 'repercussion': 3686, 'bump': 599, 'inclined': 2270, 'defense': 1137, 'selfishness': 3900, 'irresponsible': 2410, 'racial': 3545, 'professionally': 3452, 'lane': 2512, 'instance': 2338, 'gate': 1876, 'consistency': 928, 'cup': 1061, 'tea': 4391, 'difficulty': 1230, 'york': 4988, 'resign': 3710, 'green': 1974, 'exceptionally': 1571, 'generous': 1890, 'waiting': 4819, 'customer': 1073, 'favourite': 1672, 'importantly': 2249, 'frequency': 1814, 'stagnant': 4185, 'correlation': 982, 'de': 1104, 'mindfulness': 2817, 'spectrum': 4141, 'meltdown': 2774, 'calendar': 626, 'misunderstood': 2840, 'posture': 3372, 'solo': 4094, 'enthusiastic': 1494, 'calorie': 632, 'bake': 362, 'untreated': 4708, 'frozen': 1828, 'vice': 4776, 'dinosaur': 1238, 'model': 2850, 'thick': 4458, 'loathing': 2627, 'protection': 3481, 'learner': 2549, 'greed': 1971, 'sand': 3826, 'incel': 2267, 'limitation': 2604, 'harassment': 2041, 'tank': 4381, 'endlessly': 1469, 'latter': 2525, 'autopilot': 332, 'crippling': 1038, 'darcy': 1090, 'befriend': 409, 'underage': 4645, 'beam': 393, 'length': 2567, 'oil': 3076, 'provider': 3487, 'shady': 3943, 'consist': 927, 'kitty': 2490, 'indecisiveness': 2282, 'certificate': 692, 'indian': 2288, 'makeup': 2691, 'offend': 3067, 'forgiveness': 1780, 'coma': 827, 'nude': 3023, 'nonexistent': 2995, 'weirdo': 4869, 'platonic': 3315, 'certification': 693, 'neuron': 2968, 'steam': 4207, 'chug': 756, 'sack': 3811, 'abortion': 8, 'emphasize': 1453, 'brink': 570, 'ur': 4725, 'meditate': 2765, 'urgency': 4727, 'codependent': 812, 'pillar': 3292, 'ideally': 2209, 'propose': 3476, 'scrap': 3865, 'league': 2544, 'profound': 3456, 'scarce': 3845, 'shine': 3965, 'sens': 3907, 'colorado': 826, 'discovery': 1269, 'inaction': 2262, 'insightful': 2330, 'yield': 4985, 'intensely': 2357, 'ad': 64, 'unfold': 4667, 'chunk': 757, 'spoon': 4165, 'mcdonalds': 2741, 'apathy': 223, 'researcher': 3703, 'miscarriage': 2830, 'teammate': 4396, 'sugar': 4298, 'butter': 614, 'intake': 2350, 'breed': 559, 'tale': 4375, 'invitation': 2397, 'comedy': 834, 'carpet': 657, 'collection': 822, 'repetition': 3687, 'wisely': 4916, 'brings': 569, 'hinder': 2118, 'metaphor': 2794, 'hostile': 2167, 'drill': 1353, 'dedicate': 1127, 'victory': 4780, 'thesis': 4456, 'achievable': 47, 'charming': 712, 'worrying': 4945, 'subtle': 4282, 'gently': 1897, 'exceptional': 1570, 'itch': 2420, 'myth': 2917, 'represent': 3694, 'competent': 864, 'masculine': 2719, 'pornography': 3355, 'focused': 1759, 'internalize': 2371, 'tragic': 4547, 'brace': 540, 'suicidality': 4302, 'mortality': 2880, 'oxycodone': 3158, 'vaping': 4755, 'stepfather': 4213, 'imposter': 2252, 'secondly': 3883, 'undo': 4660, 'spiritually': 4157, 'beloved': 429, 'surrender': 4335, 'transformation': 4557, 'neurotic': 2969, 'strangely': 4233, 'ceo': 688, 'elsewhere': 1437, 'judgmental': 2453, 'dive': 1298, 'essence': 1524, 'greatness': 1970, 'upvotes': 4723, 'attraction': 314, 'membership': 2776, 'twitch': 4613, 'essay': 1523, 'revert': 3748, 'phd': 3271, 'steadily': 4204, 'uncertainty': 4635, 'motivator': 2891, 'timeline': 4496, 'maximize': 2737, 'cod': 810, 'quantity': 3529, 'precise': 3391, 'smartphone': 4058, 'stray': 4238, 'ridiculously': 3759, 'apps': 247, 'underestimate': 4646, 'mortify': 2882, 'assign': 285, 'hall': 2021, 'cheese': 722, 'protein': 3482, 'absurd': 16, 'van': 4753, 'dawn': 1101, 'melt': 2773, 'designer': 1180, 'voluntarily': 4809, 'blessed': 488, 'elate': 1424, 'mindlessly': 2818, 'glow': 1920, 'awaken': 340, 'border': 519, 'empower': 1458, 'animation': 188, 'disclose': 1263, 'generate': 1887, 'agoraphobia': 120, 'softly': 4087, 'reasonably': 3600, 'taper': 4383, 'recruiter': 3622, 'wishing': 4918, 'optimism': 3100, 'mediocrity': 2764, 'separation': 3915, 'troll': 4584, 'timer': 4497, 'launch': 2529, 'mistress': 2838, 'playstation': 3320, 'workload': 4939, 'disguise': 1273, 'refill': 3631, 'noticeable': 3012, 'overthink': 3146, 'grumpy': 1993, 'leadership': 2542, 'marathon': 2709, 'formatting': 1785, 'stupidly': 4268, 'aspire': 278, 'leak': 2545, 'elite': 1435, 'diary': 1219, 'chemo': 725, 'transport': 4561, 'download': 1329, 'wednesday': 4859, 'burnout': 605, 'excessively': 1573, 'extrovert': 1626, 'banter': 373, 'uncontrollably': 4644, 'tune': 4600, 'vote': 4813, 'impressive': 2256, 'lotion': 2654, 'audio': 320, 'temperature': 4413, 'overtime': 3148, 'storage': 4226, 'predict': 3393, 'charles': 710, 'promote': 3468, 'initiative': 2314, 'comfortably': 837, 'lyric': 2675, 'accountability': 40, 'dave': 1100, 'investment': 2395, 'cast': 665, 'charisma': 707, 'millionaire': 2813, 'sentiment': 3913, 'comeback': 833, 'cafe': 622, 'akin': 130, 'align': 140, 'specialist': 4136, 'urgent': 4728, 'union': 4679, 'sincere': 4014, 'downplay': 1330, 'notebook': 3008, 'soulmate': 4121, 'uber': 4621, 'hateful': 2057, 'announce': 192, 'mobility': 2846, 'derive': 1174, 'france': 1803, 'soda': 4084, 'entrance': 1499, 'grudge': 1991, 'requirement': 3700, 'transform': 4556, 'recognition': 3614, 'complacency': 867, 'fixation': 1733, 'wellness': 4873, 'considerate': 925, 'electronic': 1429, 'excessive': 1572, 'james': 2427, 'district': 1295, 'congratulate': 911, 'vegan': 4760, 'skate': 4027, 'atmosphere': 301, 'album': 133, 'diamond': 1218, 'dentist': 1159, 'additionally': 73, 'joyful': 2449, 'outdoors': 3122, 'devote': 1214, 'cherry': 727, 'craving': 1020, 'virtual': 4793, 'mommy': 2860, 'psychosis': 3499, 'haircut': 2018, 'starter': 4194, 'humour': 2190, 'lengthy': 2568, 'mutually': 2915, 'assertive': 281, 'cbd': 675, 'abundance': 17, 'breakthrough': 553, 'lifeline': 2587, 'mob': 2844, 'racism': 3546, 'pedestal': 3227, 'enroll': 1488, 'muslim': 2911, 'productivity': 3449, 'startup': 4196, 'detrimental': 1205, 'marketing': 2715, 'technical': 4400, 'procrastination': 3443, 'ecstatic': 1403, 'rebecca': 3604, 'sheet': 3959, 'drawer': 1347, 'anyhow': 211, 'mindful': 2816, 'searching': 3877, 'thinker': 4463, 'script': 3871, 'outta': 3133, 'mundane': 2905, 'nbsp': 2939, 'quicker': 3535, 'visa': 4796, 'efficiently': 1415, 'kink': 2486, 'cue': 1055, 'chocolate': 742, 'hr': 2178, 'downtime': 1333, 'construction': 936, 'visual': 4800, 'lens': 2569, 'bell': 425, 'perfectionism': 3243, 'fulfilled': 1844, 'nurture': 3031, 'prevents': 3415, 'goofy': 1934, 'addictive': 70, 'relaxation': 3657, 'juggle': 2454, 'compete': 863, 'amalgamation': 161, 'renew': 3679, 'revise': 3750, 'continuous': 949, 'greek': 1973, 'texas': 4436, 'pencil': 3233, 'soap': 4073, 'perfectionist': 3244, 'organise': 3108, 'yearly': 4976, 'subscribe': 4278, 'utah': 4738, 'misunderstand': 2839, 'curb': 1062, 'unconsciously': 4642, 'cathartic': 671, 'west': 4874, 'fitness': 1728, 'masturbation': 2727, 'ingredient': 2306, 'taco': 4371, 'pad': 3164, 'cardio': 650, 'introduction': 2385, 'victoria': 4779, 'required': 3699, 'amber': 166, 'central': 685, 'pleaser': 3325, 'extraordinary': 1623, 'imaginary': 2231, 'healthily': 2072, 'delight': 1149, 'tiktok': 4492, 'desired': 1183, 'abundant': 18, 'satiate': 3832, 'procrastinator': 3444, 'beginner': 412, 'floss': 1752, 'novelty': 3017, 'smiling': 4062, 'girls': 1912, 'convos': 964, 'aa': 0, 'outfit': 3123, 'redditor': 3626, 'becomes': 403, 'refresh': 3635, 'uplifting': 4716, 'practical': 3383, 'introspection': 2386, 'moderation': 2852, 'exposure': 1612, 'legend': 2563, 'juice': 2455, 'challenging': 697, 'critique': 1043, 'confrontation': 906, 'jog': 2438, 'magazine': 2679, 'journalling': 2446, 'prosperity': 3479, 'dancing': 1087, 'print': 3424, 'atomic': 302, 'amp': 175, 'cookie': 966, 'humility': 2188, 'guru': 2007, 'prosper': 3478, 'nofap': 2990, 'runescape': 3804, 'synthesis': 4363, 'orpheus': 3114, 'eurydice': 1537, 'hades': 2015, 'soundcloud': 4123, 'ken': 2469, 'karr': 2467, 'tryptophan': 4594}\n"
     ]
    }
   ],
   "source": [
    "#The below syntax to see the vocabulary that it has learned from the corpus\n",
    "\n",
    "print(vector.vocabulary_)\n"
   ]
  },
  {
   "cell_type": "markdown",
   "metadata": {},
   "source": [
    "# SVM "
   ]
  },
  {
   "cell_type": "code",
   "execution_count": 23,
   "metadata": {},
   "outputs": [],
   "source": [
    "# Classifier - Algorithm - SVM\n",
    "#Instancier un SVM linéaire sur les données\n",
    "#SVM = svm.SVC(C=1.0, kernel='linear', degree=3, gamma='auto')\n",
    "#SVM.fit(Test_X_Tfidf,Train_Y)\n",
    "# predict the labels on validation dataset\n",
    "#predictions_SVM = SVM.predict(Test_X_Tfidf)\n",
    "# Use accuracy_score function to get the accuracy\n",
    "#print(\"SVM Accuracy Score -> \",accuracy_score(predictions_SVM, Test_Y))\n"
   ]
  },
  {
   "cell_type": "code",
   "execution_count": 24,
   "metadata": {},
   "outputs": [
    {
     "name": "stdout",
     "output_type": "stream",
     "text": [
      "Binary classification-----\n",
      "confusion matricen [[4510  204]\n",
      " [ 308 4406]]\n",
      "              precision    recall  f1-score   support\n",
      "\n",
      "       False       0.94      0.96      0.95      4714\n",
      "        True       0.96      0.93      0.95      4714\n",
      "\n",
      "    accuracy                           0.95      9428\n",
      "   macro avg       0.95      0.95      0.95      9428\n",
      "weighted avg       0.95      0.95      0.95      9428\n",
      "\n"
     ]
    }
   ],
   "source": [
    "from sklearn.model_selection import cross_val_score, cross_val_predict\n",
    "from sklearn.model_selection import KFold\n",
    "from sklearn.metrics import classification_report\n",
    "from sklearn.metrics import confusion_matrix\n",
    "modelSVM=svm.SVC(C=1.0, kernel='linear', degree=3, gamma='auto')\n",
    "modelSVM.fit(XSVM,ySVM)\n",
    "y_predSVM = cross_val_predict(modelSVM, XSVM, ySVM, cv=5)\n",
    "print(\"Binary classification-----\")\n",
    "cm = confusion_matrix(ySVM, y_predSVM)\n",
    "recall = np.diag(cm) / np.sum(cm, axis=1)\n",
    "precision = np.diag(cm) / np.sum(cm, axis=0)\n",
    "\n",
    "print(\"confusion matricen\" , cm)\n",
    "        \n",
    "print(classification_report(ySVM, y_predSVM))"
   ]
  },
  {
   "cell_type": "markdown",
   "metadata": {},
   "source": [
    "# Matrice de confusion"
   ]
  },
  {
   "cell_type": "code",
   "execution_count": null,
   "metadata": {},
   "outputs": [],
   "source": [
    "#pip install mlxtend\n"
   ]
  },
  {
   "cell_type": "code",
   "execution_count": null,
   "metadata": {},
   "outputs": [],
   "source": [
    "import matplotlib.pyplot as plt\n",
    "from mlxtend.evaluate import confusion_matrix\n",
    "from mlxtend.plotting import plot_confusion_matrix\n",
    "\n",
    "fig, ax = plot_confusion_matrix(conf_mat=cm)\n",
    "plt.show()"
   ]
  },
  {
   "cell_type": "markdown",
   "metadata": {},
   "source": [
    "# Random-Forest"
   ]
  },
  {
   "cell_type": "code",
   "execution_count": 25,
   "metadata": {},
   "outputs": [],
   "source": [
    "yRF=Corpus['suicide']\n",
    "XRF=Corpus['text_final']"
   ]
  },
  {
   "cell_type": "code",
   "execution_count": 27,
   "metadata": {},
   "outputs": [],
   "source": [
    "#as calculated by TF-IDF.\n",
    "vectorRF = TfidfVectorizer(max_features=5000) #Their will be maximum of 5000 unique words/features as we have set parameter max_features=5000.\n",
    "XRF=vectorRF.fit_transform(XRF)"
   ]
  },
  {
   "cell_type": "code",
   "execution_count": 31,
   "metadata": {},
   "outputs": [
    {
     "name": "stdout",
     "output_type": "stream",
     "text": [
      "Binary classification-----\n",
      "confusion matrice [[4267  447]\n",
      " [ 229 4485]]\n",
      "              precision    recall  f1-score   support\n",
      "\n",
      "       False       0.95      0.91      0.93      4714\n",
      "        True       0.91      0.95      0.93      4714\n",
      "\n",
      "    accuracy                           0.93      9428\n",
      "   macro avg       0.93      0.93      0.93      9428\n",
      "weighted avg       0.93      0.93      0.93      9428\n",
      "\n"
     ]
    }
   ],
   "source": [
    "\n",
    "from sklearn.ensemble import RandomForestClassifier\n",
    "\n",
    "modelRF=RandomForestClassifier(n_estimators=500)\n",
    "modelRF.fit(XRF,yRF)\n",
    "y_predRF = cross_val_predict(modelRF, XRF, yRF, cv=5)\n",
    "print(\"Binary classification-----\")\n",
    "cm = confusion_matrix(yRF, y_predRF)\n",
    "recall = np.diag(cm) / np.sum(cm, axis=1)\n",
    "precision = np.diag(cm) / np.sum(cm, axis=0)\n",
    "\n",
    "print(\"confusion matrice\" , cm)\n",
    "        \n",
    "print(classification_report(yRF, y_predRF))\n",
    "\n",
    "\n"
   ]
  }
 ],
 "metadata": {
  "kernelspec": {
   "display_name": "Python 3",
   "language": "python",
   "name": "python3"
  },
  "language_info": {
   "codemirror_mode": {
    "name": "ipython",
    "version": 3
   },
   "file_extension": ".py",
   "mimetype": "text/x-python",
   "name": "python",
   "nbconvert_exporter": "python",
   "pygments_lexer": "ipython3",
   "version": "3.8.3"
  }
 },
 "nbformat": 4,
 "nbformat_minor": 4
}
